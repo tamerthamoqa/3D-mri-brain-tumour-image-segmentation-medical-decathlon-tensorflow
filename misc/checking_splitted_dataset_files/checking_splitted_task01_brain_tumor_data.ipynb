{
 "cells": [
  {
   "cell_type": "markdown",
   "id": "micro-major",
   "metadata": {},
   "source": [
    "__Note__: The code used here was heavily inspired by the AI for Medicine Specialization Course 1 Week three programming assignments: [link](https://www.coursera.org/learn/ai-for-medical-diagnosis)"
   ]
  },
  {
   "cell_type": "code",
   "execution_count": 1,
   "id": "attractive-operator",
   "metadata": {},
   "outputs": [],
   "source": [
    "import numpy as np\n",
    "import nibabel as nib\n",
    "import matplotlib.pyplot as plt\n",
    "import json\n",
    "import os\n",
    "from pprint import pprint\n",
    "from collections import OrderedDict\n",
    "from ipywidgets import interact, interactive, IntSlider, ToggleButtons\n",
    "from sys import getsizeof\n",
    "from tqdm import tqdm"
   ]
  },
  {
   "cell_type": "markdown",
   "id": "revised-calgary",
   "metadata": {},
   "source": [
    "### Checking BRATS_001 nifti MRI and mask files before and after splitting"
   ]
  },
  {
   "cell_type": "markdown",
   "id": "bfd46650-2622-4a2e-a0be-a33998c60110",
   "metadata": {},
   "source": [
    "### 1- Before"
   ]
  },
  {
   "cell_type": "markdown",
   "id": "thirty-seattle",
   "metadata": {},
   "source": [
    "#### MRI file"
   ]
  },
  {
   "cell_type": "code",
   "execution_count": 2,
   "id": "choice-softball",
   "metadata": {},
   "outputs": [],
   "source": [
    "mri_1 = nib.load(\"../../datasets/Task01_BrainTumour/train/images/BRATS_001.nii.gz\")"
   ]
  },
  {
   "cell_type": "code",
   "execution_count": 3,
   "id": "received-fitting",
   "metadata": {},
   "outputs": [
    {
     "data": {
      "text/plain": [
       "nibabel.nifti1.Nifti1Image"
      ]
     },
     "execution_count": 3,
     "metadata": {},
     "output_type": "execute_result"
    }
   ],
   "source": [
    "type(mri_1)"
   ]
  },
  {
   "cell_type": "code",
   "execution_count": 4,
   "id": "personal-average",
   "metadata": {},
   "outputs": [],
   "source": [
    "# Read Nifi Image object as numpy file\n",
    "mri_1 = mri_1.get_fdata()"
   ]
  },
  {
   "cell_type": "code",
   "execution_count": 5,
   "id": "comparable-torture",
   "metadata": {},
   "outputs": [
    {
     "data": {
      "text/plain": [
       "numpy.ndarray"
      ]
     },
     "execution_count": 5,
     "metadata": {},
     "output_type": "execute_result"
    }
   ],
   "source": [
    "type(mri_1)"
   ]
  },
  {
   "cell_type": "code",
   "execution_count": 6,
   "id": "contained-occasions",
   "metadata": {},
   "outputs": [
    {
     "data": {
      "text/plain": [
       "dtype('float64')"
      ]
     },
     "execution_count": 6,
     "metadata": {},
     "output_type": "execute_result"
    }
   ],
   "source": [
    "mri_1.dtype"
   ]
  },
  {
   "cell_type": "code",
   "execution_count": 7,
   "id": "cooperative-blackjack",
   "metadata": {},
   "outputs": [
    {
     "data": {
      "text/plain": [
       "(240, 240, 155, 4)"
      ]
     },
     "execution_count": 7,
     "metadata": {},
     "output_type": "execute_result"
    }
   ],
   "source": [
    "mri_1.shape"
   ]
  },
  {
   "cell_type": "markdown",
   "id": "shared-weight",
   "metadata": {},
   "source": [
    "#### Mask file"
   ]
  },
  {
   "cell_type": "code",
   "execution_count": 8,
   "id": "paperback-times",
   "metadata": {},
   "outputs": [],
   "source": [
    "mri_1_mask = nib.load(\"../../datasets/Task01_BrainTumour/train/masks/BRATS_001.nii.gz\")"
   ]
  },
  {
   "cell_type": "code",
   "execution_count": 9,
   "id": "every-advertising",
   "metadata": {},
   "outputs": [],
   "source": [
    "mri_1_mask = mri_1_mask.get_fdata()"
   ]
  },
  {
   "cell_type": "code",
   "execution_count": 10,
   "id": "blank-protocol",
   "metadata": {},
   "outputs": [
    {
     "data": {
      "text/plain": [
       "dtype('float64')"
      ]
     },
     "execution_count": 10,
     "metadata": {},
     "output_type": "execute_result"
    }
   ],
   "source": [
    "mri_1_mask.dtype"
   ]
  },
  {
   "cell_type": "code",
   "execution_count": 11,
   "id": "disturbed-judges",
   "metadata": {},
   "outputs": [
    {
     "data": {
      "text/plain": [
       "array([0., 1., 2., 3.])"
      ]
     },
     "execution_count": 11,
     "metadata": {},
     "output_type": "execute_result"
    }
   ],
   "source": [
    "np.unique(mri_1_mask)"
   ]
  },
  {
   "cell_type": "code",
   "execution_count": 12,
   "id": "athletic-track",
   "metadata": {},
   "outputs": [],
   "source": [
    "mri_1_mask = mri_1_mask.astype(np.float32)"
   ]
  },
  {
   "cell_type": "code",
   "execution_count": 13,
   "id": "realistic-interpretation",
   "metadata": {},
   "outputs": [
    {
     "data": {
      "text/plain": [
       "(240, 240, 155)"
      ]
     },
     "execution_count": 13,
     "metadata": {},
     "output_type": "execute_result"
    }
   ],
   "source": [
    "mri_1_mask.shape"
   ]
  },
  {
   "cell_type": "markdown",
   "id": "outer-manor",
   "metadata": {},
   "source": [
    "### Visualizing original nifti MRI file and Mask file"
   ]
  },
  {
   "cell_type": "code",
   "execution_count": 14,
   "id": "wrong-leader",
   "metadata": {
    "scrolled": true
   },
   "outputs": [
    {
     "data": {
      "application/vnd.jupyter.widget-view+json": {
       "model_id": "4f6ac783bb3c4cd3b3c56e3854d6919d",
       "version_major": 2,
       "version_minor": 0
      },
      "text/plain": [
       "interactive(children=(ToggleButtons(button_style='info', description='Select Class:', options=('Background', '…"
      ]
     },
     "metadata": {},
     "output_type": "display_data"
    }
   ],
   "source": [
    "classes_dict = {\n",
    "    'Background': 0,\n",
    "    'Edema': 1,\n",
    "    'Non-enhancing tumor': 2,\n",
    "    'Enhancing tumor': 3 \n",
    "}\n",
    "\n",
    "# Create button values\n",
    "select_class = ToggleButtons(\n",
    "    options=['Background','Edema', 'Non-enhancing tumor', 'Enhancing tumor', 'All'],\n",
    "    description='Select Class:',\n",
    "    disabled=False,\n",
    "    button_style='info', \n",
    "    \n",
    ")\n",
    "# Create layer slider\n",
    "select_layer = IntSlider(min=0, max=mri_1.shape[2] - 1, description='Select Layer', continuous_update=False)\n",
    "\n",
    "    \n",
    "# Define a function for plotting images\n",
    "def plot(seg_class, layer, channel):\n",
    "    print(f\"Plotting Layer: {layer} | Label: {seg_class} | Channel: {channel}\")\n",
    "    fig = plt.figure(figsize=(20, 10))\n",
    "    \n",
    "    fig.add_subplot(1, 2, 1)\n",
    "    plt.imshow(mri_1[:, :, layer, channel], cmap='gray');\n",
    "    plt.title(\"MRI\", fontsize=20)\n",
    "    plt.axis('off')\n",
    "    \n",
    "    fig.add_subplot(1, 2, 2)\n",
    "    if seg_class == \"All\":\n",
    "        mask = mri_1_mask[:, :, layer]\n",
    "        plt.title(\"Mask\", fontsize=20)\n",
    "        plt.imshow(mask)\n",
    "        plt.axis('off');\n",
    "    else:\n",
    "        img_label = classes_dict[seg_class]\n",
    "        mask = np.where(mri_1_mask[:, :, layer] == img_label, 255, 0)\n",
    "        plt.title(\"Mask\", fontsize=20)\n",
    "        plt.imshow(mask, cmap='gray')\n",
    "        plt.axis('off');\n",
    "\n",
    "# Set channel to view:\n",
    "#  Channel 0: \"FLAIR\" Fluid-attenuated inversion recovery\n",
    "#  Channel 1: \"T1w\" T1-weighted\n",
    "#  Channel 2: \"t1gd\" T1-weighted with gadolinium contrast enhancement\n",
    "#  Channel 3: \"T2w\" T2-weighted    \n",
    "    \n",
    "# Use the interactive() tool to create the visualization\n",
    "interactive(plot, seg_class=select_class, layer=select_layer, channel=(0, 3))"
   ]
  },
  {
   "cell_type": "markdown",
   "id": "ce467e68-4b36-4f30-90f8-1d555fae4431",
   "metadata": {},
   "source": [
    "### 2- After"
   ]
  },
  {
   "cell_type": "markdown",
   "id": "8f0d4bc8-8096-4ee2-ba3c-2538851accab",
   "metadata": {},
   "source": [
    "#### MRI file"
   ]
  },
  {
   "cell_type": "code",
   "execution_count": 15,
   "id": "cognitive-farmer",
   "metadata": {},
   "outputs": [],
   "source": [
    "mri_1_after = nib.load(\"../../datasets/Task01_BrainTumour_240x240x160x4/train/images/BRATS_001.nii.gz\")"
   ]
  },
  {
   "cell_type": "code",
   "execution_count": 16,
   "id": "frank-transfer",
   "metadata": {},
   "outputs": [
    {
     "data": {
      "text/plain": [
       "nibabel.nifti1.Nifti1Image"
      ]
     },
     "execution_count": 16,
     "metadata": {},
     "output_type": "execute_result"
    }
   ],
   "source": [
    "type(mri_1_after)"
   ]
  },
  {
   "cell_type": "code",
   "execution_count": 17,
   "id": "possible-infrared",
   "metadata": {},
   "outputs": [],
   "source": [
    "# Read Nifi Image object as numpy file\n",
    "mri_1_after = mri_1_after.get_fdata().astype(np.float32)"
   ]
  },
  {
   "cell_type": "code",
   "execution_count": 18,
   "id": "incredible-sentence",
   "metadata": {},
   "outputs": [
    {
     "data": {
      "text/plain": [
       "numpy.ndarray"
      ]
     },
     "execution_count": 18,
     "metadata": {},
     "output_type": "execute_result"
    }
   ],
   "source": [
    "type(mri_1_after)"
   ]
  },
  {
   "cell_type": "code",
   "execution_count": 19,
   "id": "changing-edwards",
   "metadata": {},
   "outputs": [
    {
     "data": {
      "text/plain": [
       "dtype('float32')"
      ]
     },
     "execution_count": 19,
     "metadata": {},
     "output_type": "execute_result"
    }
   ],
   "source": [
    "mri_1_after.dtype"
   ]
  },
  {
   "cell_type": "code",
   "execution_count": 20,
   "id": "north-tournament",
   "metadata": {},
   "outputs": [
    {
     "data": {
      "text/plain": [
       "(240, 240, 160, 4)"
      ]
     },
     "execution_count": 20,
     "metadata": {},
     "output_type": "execute_result"
    }
   ],
   "source": [
    "mri_1_after.shape"
   ]
  },
  {
   "cell_type": "markdown",
   "id": "incorrect-solution",
   "metadata": {},
   "source": [
    "#### Mask file"
   ]
  },
  {
   "cell_type": "code",
   "execution_count": 21,
   "id": "hundred-guatemala",
   "metadata": {},
   "outputs": [],
   "source": [
    "mri_1_mask_after = nib.load(\"../../datasets/Task01_BrainTumour_240x240x160x4/train/masks/BRATS_001.nii.gz\")"
   ]
  },
  {
   "cell_type": "code",
   "execution_count": 22,
   "id": "monetary-might",
   "metadata": {},
   "outputs": [],
   "source": [
    "mri_1_mask_after = mri_1_mask_after.get_fdata().astype(np.float32)"
   ]
  },
  {
   "cell_type": "code",
   "execution_count": 23,
   "id": "signed-district",
   "metadata": {},
   "outputs": [
    {
     "data": {
      "text/plain": [
       "dtype('float32')"
      ]
     },
     "execution_count": 23,
     "metadata": {},
     "output_type": "execute_result"
    }
   ],
   "source": [
    "mri_1_mask_after.dtype"
   ]
  },
  {
   "cell_type": "code",
   "execution_count": 24,
   "id": "surface-beast",
   "metadata": {},
   "outputs": [
    {
     "data": {
      "text/plain": [
       "array([0., 1., 2., 3.], dtype=float32)"
      ]
     },
     "execution_count": 24,
     "metadata": {},
     "output_type": "execute_result"
    }
   ],
   "source": [
    "np.unique(mri_1_mask_after)"
   ]
  },
  {
   "cell_type": "code",
   "execution_count": 25,
   "id": "experienced-fight",
   "metadata": {},
   "outputs": [],
   "source": [
    "mri_1_mask_after = mri_1_mask_after.astype(np.float32)"
   ]
  },
  {
   "cell_type": "code",
   "execution_count": 26,
   "id": "broad-affairs",
   "metadata": {},
   "outputs": [
    {
     "data": {
      "text/plain": [
       "(240, 240, 160)"
      ]
     },
     "execution_count": 26,
     "metadata": {},
     "output_type": "execute_result"
    }
   ],
   "source": [
    "mri_1_mask_after.shape"
   ]
  },
  {
   "cell_type": "markdown",
   "id": "naked-labor",
   "metadata": {},
   "source": [
    "### Visualizing nifti MRI file and Mask file"
   ]
  },
  {
   "cell_type": "code",
   "execution_count": 27,
   "id": "greenhouse-league",
   "metadata": {
    "scrolled": true
   },
   "outputs": [
    {
     "data": {
      "application/vnd.jupyter.widget-view+json": {
       "model_id": "9bd76ff246094aa0994af8e8b95b8140",
       "version_major": 2,
       "version_minor": 0
      },
      "text/plain": [
       "interactive(children=(ToggleButtons(button_style='info', description='Select Class:', options=('Background', '…"
      ]
     },
     "metadata": {},
     "output_type": "display_data"
    }
   ],
   "source": [
    "classes_dict = {\n",
    "    'Background': 0,\n",
    "    'Edema': 1,\n",
    "    'Non-enhancing tumor': 2,\n",
    "    'Enhancing tumor': 3 \n",
    "}\n",
    "\n",
    "# Create button values\n",
    "select_class = ToggleButtons(\n",
    "    options=['Background','Edema', 'Non-enhancing tumor', 'Enhancing tumor', 'All'],\n",
    "    description='Select Class:',\n",
    "    disabled=False,\n",
    "    button_style='info', \n",
    "    \n",
    ")\n",
    "# Create layer slider\n",
    "select_layer = IntSlider(min=0, max=mri_1_after.shape[2] - 1, description='Select Layer', continuous_update=False)\n",
    "\n",
    "    \n",
    "# Define a function for plotting images\n",
    "def plot(seg_class, layer, channel):\n",
    "    print(f\"Plotting Layer: {layer} | Label: {seg_class} | Channel: {channel}\")\n",
    "    fig = plt.figure(figsize=(20, 10))\n",
    "    \n",
    "    fig.add_subplot(1, 2, 1)\n",
    "    plt.imshow(mri_1_after[:, :, layer, channel], cmap='gray');\n",
    "    plt.title(\"MRI\", fontsize=20)\n",
    "    plt.axis('off')\n",
    "    \n",
    "    fig.add_subplot(1, 2, 2)\n",
    "    if seg_class == \"All\":\n",
    "        mask = mri_1_mask_after[:, :, layer]\n",
    "        plt.title(\"Mask\", fontsize=20)\n",
    "        plt.imshow(mask)\n",
    "        plt.axis('off');\n",
    "    else:\n",
    "        img_label = classes_dict[seg_class]\n",
    "        mask = np.where(mri_1_mask_after[:, :, layer] == img_label, 255, 0)\n",
    "        plt.title(\"Mask\", fontsize=20)\n",
    "        plt.imshow(mask, cmap='gray')\n",
    "        plt.axis('off');\n",
    "\n",
    "# Set channel to view:\n",
    "#  Channel 0: \"FLAIR\" Fluid-attenuated inversion recovery\n",
    "#  Channel 1: \"T1w\" T1-weighted\n",
    "#  Channel 2: \"t1gd\" T1-weighted with gadolinium contrast enhancement\n",
    "#  Channel 3: \"T2w\" T2-weighted    \n",
    "    \n",
    "# Use the interactive() tool to create the visualization\n",
    "interactive(plot, seg_class=select_class, layer=select_layer, channel=(0, 3))"
   ]
  },
  {
   "cell_type": "markdown",
   "id": "07ecd2e0-6011-490e-8e8f-f13be1dd9959",
   "metadata": {},
   "source": [
    "### Checking BRATS_002 nifti MRI and mask files before and after splitting"
   ]
  },
  {
   "cell_type": "markdown",
   "id": "c55eeb2a-d8d8-4c83-87b9-9b48e5f5c930",
   "metadata": {},
   "source": [
    "### 1- Before"
   ]
  },
  {
   "cell_type": "markdown",
   "id": "6448b188-65e8-4eae-b0f9-8d5f339e613c",
   "metadata": {},
   "source": [
    "#### MRI file"
   ]
  },
  {
   "cell_type": "code",
   "execution_count": 28,
   "id": "2240ddb7-ce3b-4bf8-b35f-a804d5e8d4ba",
   "metadata": {},
   "outputs": [],
   "source": [
    "mri_2 = nib.load(\"../../datasets/Task01_BrainTumour/train/images/BRATS_002.nii.gz\")"
   ]
  },
  {
   "cell_type": "code",
   "execution_count": 29,
   "id": "019dcdfb-e76c-45ba-a7c5-57b44f8535ca",
   "metadata": {},
   "outputs": [
    {
     "data": {
      "text/plain": [
       "nibabel.nifti1.Nifti1Image"
      ]
     },
     "execution_count": 29,
     "metadata": {},
     "output_type": "execute_result"
    }
   ],
   "source": [
    "type(mri_2)"
   ]
  },
  {
   "cell_type": "code",
   "execution_count": 30,
   "id": "0264a8f2-3f14-41ab-8010-7a2d3e62ef60",
   "metadata": {},
   "outputs": [],
   "source": [
    "# Read Nifi Image object as numpy file\n",
    "mri_2 = mri_2.get_fdata()"
   ]
  },
  {
   "cell_type": "code",
   "execution_count": 31,
   "id": "a2ca2a61-d6d4-4831-88af-7a947098857c",
   "metadata": {},
   "outputs": [
    {
     "data": {
      "text/plain": [
       "numpy.ndarray"
      ]
     },
     "execution_count": 31,
     "metadata": {},
     "output_type": "execute_result"
    }
   ],
   "source": [
    "type(mri_2)"
   ]
  },
  {
   "cell_type": "code",
   "execution_count": 32,
   "id": "26942580-c022-4fa9-a48d-15ed866c0637",
   "metadata": {},
   "outputs": [
    {
     "data": {
      "text/plain": [
       "dtype('float64')"
      ]
     },
     "execution_count": 32,
     "metadata": {},
     "output_type": "execute_result"
    }
   ],
   "source": [
    "mri_2.dtype"
   ]
  },
  {
   "cell_type": "code",
   "execution_count": 33,
   "id": "68b163d2-59dc-4246-817c-b680a3bc654c",
   "metadata": {},
   "outputs": [
    {
     "data": {
      "text/plain": [
       "(240, 240, 155, 4)"
      ]
     },
     "execution_count": 33,
     "metadata": {},
     "output_type": "execute_result"
    }
   ],
   "source": [
    "mri_2.shape"
   ]
  },
  {
   "cell_type": "markdown",
   "id": "c3756a3c-9529-4c8f-8682-44a72a304e58",
   "metadata": {},
   "source": [
    "#### Mask file"
   ]
  },
  {
   "cell_type": "code",
   "execution_count": 34,
   "id": "fe2638b3-d3b2-43bc-832c-310b88d42289",
   "metadata": {},
   "outputs": [],
   "source": [
    "mri_2_mask = nib.load(\"../../datasets/Task01_BrainTumour/train/masks/BRATS_002.nii.gz\")"
   ]
  },
  {
   "cell_type": "code",
   "execution_count": 35,
   "id": "dcc48935-c16d-42e5-aec9-49f3da13e971",
   "metadata": {},
   "outputs": [],
   "source": [
    "mri_2_mask = mri_2_mask.get_fdata()"
   ]
  },
  {
   "cell_type": "code",
   "execution_count": 36,
   "id": "e46de31d-2a63-4e62-9199-527053005d77",
   "metadata": {},
   "outputs": [
    {
     "data": {
      "text/plain": [
       "dtype('float64')"
      ]
     },
     "execution_count": 36,
     "metadata": {},
     "output_type": "execute_result"
    }
   ],
   "source": [
    "mri_2_mask.dtype"
   ]
  },
  {
   "cell_type": "code",
   "execution_count": 37,
   "id": "103a7cf1-bcd5-4b4b-a995-16fbd436c7fd",
   "metadata": {},
   "outputs": [
    {
     "data": {
      "text/plain": [
       "array([0., 1., 2., 3.])"
      ]
     },
     "execution_count": 37,
     "metadata": {},
     "output_type": "execute_result"
    }
   ],
   "source": [
    "np.unique(mri_2_mask)"
   ]
  },
  {
   "cell_type": "code",
   "execution_count": 38,
   "id": "e5ac3588-e395-41bb-a540-fe08d981d1a3",
   "metadata": {},
   "outputs": [],
   "source": [
    "mri_2_mask = mri_2_mask.astype(np.float32)"
   ]
  },
  {
   "cell_type": "code",
   "execution_count": 39,
   "id": "88b3d2e5-65fe-498b-b6bf-7b96e7effe70",
   "metadata": {},
   "outputs": [
    {
     "data": {
      "text/plain": [
       "(240, 240, 155)"
      ]
     },
     "execution_count": 39,
     "metadata": {},
     "output_type": "execute_result"
    }
   ],
   "source": [
    "mri_2_mask.shape"
   ]
  },
  {
   "cell_type": "markdown",
   "id": "bce402c3-0c4b-4a3c-9b1b-2a73b647d3aa",
   "metadata": {},
   "source": [
    "### Visualizing original nifti MRI file and Mask file"
   ]
  },
  {
   "cell_type": "code",
   "execution_count": 40,
   "id": "a8e2ed28-6a5f-44e8-a08f-374d87d77943",
   "metadata": {
    "scrolled": true
   },
   "outputs": [
    {
     "data": {
      "application/vnd.jupyter.widget-view+json": {
       "model_id": "d147b721974a4cfba6ff8ed6f5908318",
       "version_major": 2,
       "version_minor": 0
      },
      "text/plain": [
       "interactive(children=(ToggleButtons(button_style='info', description='Select Class:', options=('Background', '…"
      ]
     },
     "metadata": {},
     "output_type": "display_data"
    }
   ],
   "source": [
    "classes_dict = {\n",
    "    'Background': 0,\n",
    "    'Edema': 1,\n",
    "    'Non-enhancing tumor': 2,\n",
    "    'Enhancing tumor': 3 \n",
    "}\n",
    "\n",
    "# Create button values\n",
    "select_class = ToggleButtons(\n",
    "    options=['Background','Edema', 'Non-enhancing tumor', 'Enhancing tumor', 'All'],\n",
    "    description='Select Class:',\n",
    "    disabled=False,\n",
    "    button_style='info', \n",
    "    \n",
    ")\n",
    "# Create layer slider\n",
    "select_layer = IntSlider(min=0, max=mri_2.shape[2] - 1, description='Select Layer', continuous_update=False)\n",
    "\n",
    "    \n",
    "# Define a function for plotting images\n",
    "def plot(seg_class, layer, channel):\n",
    "    print(f\"Plotting Layer: {layer} | Label: {seg_class} | Channel: {channel}\")\n",
    "    fig = plt.figure(figsize=(20, 10))\n",
    "    \n",
    "    fig.add_subplot(1, 2, 1)\n",
    "    plt.imshow(mri_2[:, :, layer, channel], cmap='gray');\n",
    "    plt.title(\"MRI\", fontsize=20)\n",
    "    plt.axis('off')\n",
    "    \n",
    "    fig.add_subplot(1, 2, 2)\n",
    "    if seg_class == \"All\":\n",
    "        mask = mri_2_mask[:, :, layer]\n",
    "        plt.title(\"Mask\", fontsize=20)\n",
    "        plt.imshow(mask)\n",
    "        plt.axis('off');\n",
    "    else:\n",
    "        img_label = classes_dict[seg_class]\n",
    "        mask = np.where(mri_2_mask[:, :, layer] == img_label, 255, 0)\n",
    "        plt.title(\"Mask\", fontsize=20)\n",
    "        plt.imshow(mask, cmap='gray')\n",
    "        plt.axis('off');\n",
    "\n",
    "# Set channel to view:\n",
    "#  Channel 0: \"FLAIR\" Fluid-attenuated inversion recovery\n",
    "#  Channel 1: \"T1w\" T1-weighted\n",
    "#  Channel 2: \"t1gd\" T1-weighted with gadolinium contrast enhancement\n",
    "#  Channel 3: \"T2w\" T2-weighted    \n",
    "    \n",
    "# Use the interactive() tool to create the visualization\n",
    "interactive(plot, seg_class=select_class, layer=select_layer, channel=(0, 3))"
   ]
  },
  {
   "cell_type": "markdown",
   "id": "188891b9-81f1-4891-b108-e418d2d5db31",
   "metadata": {},
   "source": [
    "### 2- After"
   ]
  },
  {
   "cell_type": "markdown",
   "id": "a2609884-e4f6-4d8d-8fb7-8c11dca217d1",
   "metadata": {},
   "source": [
    "#### MRI file"
   ]
  },
  {
   "cell_type": "code",
   "execution_count": 41,
   "id": "c5fb776b-72ea-4eb7-ab3a-6b3c2a277c73",
   "metadata": {},
   "outputs": [],
   "source": [
    "mri_2_after = nib.load(\"../../datasets/Task01_BrainTumour_240x240x160x4/train/images/BRATS_002.nii.gz\")"
   ]
  },
  {
   "cell_type": "code",
   "execution_count": 42,
   "id": "c7231fa0-c80f-4d24-8a53-9f21a8ea5e1e",
   "metadata": {},
   "outputs": [
    {
     "data": {
      "text/plain": [
       "nibabel.nifti1.Nifti1Image"
      ]
     },
     "execution_count": 42,
     "metadata": {},
     "output_type": "execute_result"
    }
   ],
   "source": [
    "type(mri_2_after)"
   ]
  },
  {
   "cell_type": "code",
   "execution_count": 43,
   "id": "7f0097a5-bd9f-46ba-98e0-6a203bb331ca",
   "metadata": {},
   "outputs": [],
   "source": [
    "# Read Nifi Image object as numpy file\n",
    "mri_2_after = mri_2_after.get_fdata().astype(np.float32)"
   ]
  },
  {
   "cell_type": "code",
   "execution_count": 44,
   "id": "743974dd-c293-4a97-816b-677ab09b5550",
   "metadata": {},
   "outputs": [
    {
     "data": {
      "text/plain": [
       "numpy.ndarray"
      ]
     },
     "execution_count": 44,
     "metadata": {},
     "output_type": "execute_result"
    }
   ],
   "source": [
    "type(mri_2_after)"
   ]
  },
  {
   "cell_type": "code",
   "execution_count": 45,
   "id": "0847c31d-158f-4713-8d58-757f0d24c442",
   "metadata": {},
   "outputs": [
    {
     "data": {
      "text/plain": [
       "dtype('float32')"
      ]
     },
     "execution_count": 45,
     "metadata": {},
     "output_type": "execute_result"
    }
   ],
   "source": [
    "mri_2_after.dtype"
   ]
  },
  {
   "cell_type": "code",
   "execution_count": 46,
   "id": "0d8701dd-04c8-4709-83fe-4a04cd30f90e",
   "metadata": {},
   "outputs": [
    {
     "data": {
      "text/plain": [
       "(240, 240, 160, 4)"
      ]
     },
     "execution_count": 46,
     "metadata": {},
     "output_type": "execute_result"
    }
   ],
   "source": [
    "mri_2_after.shape"
   ]
  },
  {
   "cell_type": "markdown",
   "id": "fd2f5b9a-de58-4a7d-b3e1-97062b028270",
   "metadata": {},
   "source": [
    "#### Mask file"
   ]
  },
  {
   "cell_type": "code",
   "execution_count": 47,
   "id": "a63a0c3c-0cb5-4cd8-95e1-ebfc602793c2",
   "metadata": {},
   "outputs": [],
   "source": [
    "mri_2_mask_after = nib.load(\"../../datasets/Task01_BrainTumour_240x240x160x4/train/masks/BRATS_002.nii.gz\")"
   ]
  },
  {
   "cell_type": "code",
   "execution_count": 48,
   "id": "b63c1ee4-9e74-44c8-9945-269088f78fa1",
   "metadata": {},
   "outputs": [],
   "source": [
    "mri_2_mask_after = mri_2_mask_after.get_fdata().astype(np.float32)"
   ]
  },
  {
   "cell_type": "code",
   "execution_count": 49,
   "id": "6981b5dd-a45d-4e9c-b7c6-182ea6515219",
   "metadata": {},
   "outputs": [
    {
     "data": {
      "text/plain": [
       "dtype('float32')"
      ]
     },
     "execution_count": 49,
     "metadata": {},
     "output_type": "execute_result"
    }
   ],
   "source": [
    "mri_2_mask_after.dtype"
   ]
  },
  {
   "cell_type": "code",
   "execution_count": 50,
   "id": "58720c99-b1fe-4b2c-8a5b-125900481a92",
   "metadata": {},
   "outputs": [
    {
     "data": {
      "text/plain": [
       "array([0., 1., 2., 3.], dtype=float32)"
      ]
     },
     "execution_count": 50,
     "metadata": {},
     "output_type": "execute_result"
    }
   ],
   "source": [
    "np.unique(mri_2_mask_after)"
   ]
  },
  {
   "cell_type": "code",
   "execution_count": 51,
   "id": "59738f2b-e1cd-446a-adc8-296ee056be33",
   "metadata": {},
   "outputs": [],
   "source": [
    "mri_2_mask_after = mri_2_mask_after.astype(np.float32)"
   ]
  },
  {
   "cell_type": "code",
   "execution_count": 52,
   "id": "619f6250-e72b-4543-a180-1423152897ca",
   "metadata": {},
   "outputs": [
    {
     "data": {
      "text/plain": [
       "(240, 240, 160)"
      ]
     },
     "execution_count": 52,
     "metadata": {},
     "output_type": "execute_result"
    }
   ],
   "source": [
    "mri_2_mask_after.shape"
   ]
  },
  {
   "cell_type": "markdown",
   "id": "223f84d9-e047-4803-ba86-b9bff7914dad",
   "metadata": {},
   "source": [
    "### Visualizing nifti MRI file and Mask file"
   ]
  },
  {
   "cell_type": "code",
   "execution_count": 53,
   "id": "e7c4cbca-5fc1-43d1-9bb4-741d85a4a966",
   "metadata": {
    "scrolled": true
   },
   "outputs": [
    {
     "data": {
      "application/vnd.jupyter.widget-view+json": {
       "model_id": "f9a964309c0243cca3d903454dc55e51",
       "version_major": 2,
       "version_minor": 0
      },
      "text/plain": [
       "interactive(children=(ToggleButtons(button_style='info', description='Select Class:', options=('Background', '…"
      ]
     },
     "metadata": {},
     "output_type": "display_data"
    }
   ],
   "source": [
    "classes_dict = {\n",
    "    'Background': 0,\n",
    "    'Edema': 1,\n",
    "    'Non-enhancing tumor': 2,\n",
    "    'Enhancing tumor': 3 \n",
    "}\n",
    "\n",
    "# Create button values\n",
    "select_class = ToggleButtons(\n",
    "    options=['Background','Edema', 'Non-enhancing tumor', 'Enhancing tumor', 'All'],\n",
    "    description='Select Class:',\n",
    "    disabled=False,\n",
    "    button_style='info', \n",
    "    \n",
    ")\n",
    "# Create layer slider\n",
    "select_layer = IntSlider(min=0, max=mri_2_after.shape[2] - 1, description='Select Layer', continuous_update=False)\n",
    "\n",
    "    \n",
    "# Define a function for plotting images\n",
    "def plot(seg_class, layer, channel):\n",
    "    print(f\"Plotting Layer: {layer} | Label: {seg_class} | Channel: {channel}\")\n",
    "    fig = plt.figure(figsize=(20, 10))\n",
    "    \n",
    "    fig.add_subplot(1, 2, 1)\n",
    "    plt.imshow(mri_2_after[:, :, layer, channel], cmap='gray');\n",
    "    plt.title(\"MRI\", fontsize=20)\n",
    "    plt.axis('off')\n",
    "    \n",
    "    fig.add_subplot(1, 2, 2)\n",
    "    if seg_class == \"All\":\n",
    "        mask = mri_2_mask_after[:, :, layer]\n",
    "        plt.title(\"Mask\", fontsize=20)\n",
    "        plt.imshow(mask)\n",
    "        plt.axis('off');\n",
    "    else:\n",
    "        img_label = classes_dict[seg_class]\n",
    "        mask = np.where(mri_2_mask_after[:, :, layer] == img_label, 255, 0)\n",
    "        plt.title(\"Mask\", fontsize=20)\n",
    "        plt.imshow(mask, cmap='gray')\n",
    "        plt.axis('off');\n",
    "\n",
    "# Set channel to view:\n",
    "#  Channel 0: \"FLAIR\" Fluid-attenuated inversion recovery\n",
    "#  Channel 1: \"T1w\" T1-weighted\n",
    "#  Channel 2: \"t1gd\" T1-weighted with gadolinium contrast enhancement\n",
    "#  Channel 3: \"T2w\" T2-weighted    \n",
    "    \n",
    "# Use the interactive() tool to create the visualization\n",
    "interactive(plot, seg_class=select_class, layer=select_layer, channel=(0, 3))"
   ]
  },
  {
   "cell_type": "code",
   "execution_count": null,
   "id": "99b6d637-200b-4ec2-b069-60380d44bde5",
   "metadata": {},
   "outputs": [],
   "source": []
  }
 ],
 "metadata": {
  "kernelspec": {
   "display_name": "Python 3",
   "language": "python",
   "name": "python3"
  },
  "language_info": {
   "codemirror_mode": {
    "name": "ipython",
    "version": 3
   },
   "file_extension": ".py",
   "mimetype": "text/x-python",
   "name": "python",
   "nbconvert_exporter": "python",
   "pygments_lexer": "ipython3",
   "version": "3.7.10"
  }
 },
 "nbformat": 4,
 "nbformat_minor": 5
}
