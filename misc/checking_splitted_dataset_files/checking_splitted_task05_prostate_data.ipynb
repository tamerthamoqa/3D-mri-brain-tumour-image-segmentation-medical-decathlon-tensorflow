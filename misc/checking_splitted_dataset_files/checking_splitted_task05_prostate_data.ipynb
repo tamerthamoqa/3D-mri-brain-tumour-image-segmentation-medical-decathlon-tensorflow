{
 "cells": [
  {
   "cell_type": "markdown",
   "id": "micro-major",
   "metadata": {},
   "source": [
    "__Note__: The code used here was heavily inspired by the AI for Medicine Specialization Course 1 Week three programming assignments: [link](https://www.coursera.org/learn/ai-for-medical-diagnosis)"
   ]
  },
  {
   "cell_type": "code",
   "execution_count": 1,
   "id": "attractive-operator",
   "metadata": {},
   "outputs": [],
   "source": [
    "import numpy as np\n",
    "import nibabel as nib\n",
    "import matplotlib.pyplot as plt\n",
    "import json\n",
    "import os\n",
    "from pprint import pprint\n",
    "from collections import OrderedDict\n",
    "from ipywidgets import interact, interactive, IntSlider, ToggleButtons\n",
    "from sys import getsizeof\n",
    "from tqdm import tqdm"
   ]
  },
  {
   "cell_type": "markdown",
   "id": "revised-calgary",
   "metadata": {},
   "source": [
    "### Checking prostate_00 nifti MRI and mask files before and after splitting"
   ]
  },
  {
   "cell_type": "markdown",
   "id": "bfd46650-2622-4a2e-a0be-a33998c60110",
   "metadata": {},
   "source": [
    "### 1- Before"
   ]
  },
  {
   "cell_type": "markdown",
   "id": "thirty-seattle",
   "metadata": {},
   "source": [
    "#### MRI file"
   ]
  },
  {
   "cell_type": "code",
   "execution_count": 2,
   "id": "choice-softball",
   "metadata": {},
   "outputs": [],
   "source": [
    "mri_1 = nib.load(\"../../datasets/Task05_Prostate/train/images/prostate_00.nii.gz\")"
   ]
  },
  {
   "cell_type": "code",
   "execution_count": 3,
   "id": "received-fitting",
   "metadata": {},
   "outputs": [
    {
     "data": {
      "text/plain": [
       "nibabel.nifti1.Nifti1Image"
      ]
     },
     "execution_count": 3,
     "metadata": {},
     "output_type": "execute_result"
    }
   ],
   "source": [
    "type(mri_1)"
   ]
  },
  {
   "cell_type": "code",
   "execution_count": 4,
   "id": "personal-average",
   "metadata": {},
   "outputs": [],
   "source": [
    "# Read Nifi Image object as numpy file\n",
    "mri_1 = mri_1.get_fdata()"
   ]
  },
  {
   "cell_type": "code",
   "execution_count": 5,
   "id": "comparable-torture",
   "metadata": {},
   "outputs": [
    {
     "data": {
      "text/plain": [
       "numpy.ndarray"
      ]
     },
     "execution_count": 5,
     "metadata": {},
     "output_type": "execute_result"
    }
   ],
   "source": [
    "type(mri_1)"
   ]
  },
  {
   "cell_type": "code",
   "execution_count": 6,
   "id": "contained-occasions",
   "metadata": {},
   "outputs": [
    {
     "data": {
      "text/plain": [
       "dtype('float64')"
      ]
     },
     "execution_count": 6,
     "metadata": {},
     "output_type": "execute_result"
    }
   ],
   "source": [
    "mri_1.dtype"
   ]
  },
  {
   "cell_type": "code",
   "execution_count": 7,
   "id": "cooperative-blackjack",
   "metadata": {},
   "outputs": [
    {
     "data": {
      "text/plain": [
       "(320, 320, 15, 2)"
      ]
     },
     "execution_count": 7,
     "metadata": {},
     "output_type": "execute_result"
    }
   ],
   "source": [
    "mri_1.shape"
   ]
  },
  {
   "cell_type": "markdown",
   "id": "shared-weight",
   "metadata": {},
   "source": [
    "#### Mask file"
   ]
  },
  {
   "cell_type": "code",
   "execution_count": 8,
   "id": "paperback-times",
   "metadata": {},
   "outputs": [],
   "source": [
    "mri_1_mask = nib.load(\"../../datasets/Task05_Prostate/train/masks/prostate_00.nii.gz\")"
   ]
  },
  {
   "cell_type": "code",
   "execution_count": 9,
   "id": "every-advertising",
   "metadata": {},
   "outputs": [],
   "source": [
    "mri_1_mask = mri_1_mask.get_fdata()"
   ]
  },
  {
   "cell_type": "code",
   "execution_count": 10,
   "id": "blank-protocol",
   "metadata": {},
   "outputs": [
    {
     "data": {
      "text/plain": [
       "dtype('float64')"
      ]
     },
     "execution_count": 10,
     "metadata": {},
     "output_type": "execute_result"
    }
   ],
   "source": [
    "mri_1_mask.dtype"
   ]
  },
  {
   "cell_type": "code",
   "execution_count": 11,
   "id": "disturbed-judges",
   "metadata": {},
   "outputs": [
    {
     "data": {
      "text/plain": [
       "array([0., 1., 2.])"
      ]
     },
     "execution_count": 11,
     "metadata": {},
     "output_type": "execute_result"
    }
   ],
   "source": [
    "np.unique(mri_1_mask)"
   ]
  },
  {
   "cell_type": "code",
   "execution_count": 12,
   "id": "athletic-track",
   "metadata": {},
   "outputs": [],
   "source": [
    "mri_1_mask = mri_1_mask.astype(np.float32)"
   ]
  },
  {
   "cell_type": "code",
   "execution_count": 13,
   "id": "realistic-interpretation",
   "metadata": {},
   "outputs": [
    {
     "data": {
      "text/plain": [
       "(320, 320, 15)"
      ]
     },
     "execution_count": 13,
     "metadata": {},
     "output_type": "execute_result"
    }
   ],
   "source": [
    "mri_1_mask.shape"
   ]
  },
  {
   "cell_type": "markdown",
   "id": "outer-manor",
   "metadata": {},
   "source": [
    "### Visualizing original nifti MRI file and Mask file"
   ]
  },
  {
   "cell_type": "code",
   "execution_count": 14,
   "id": "wrong-leader",
   "metadata": {
    "scrolled": false
   },
   "outputs": [
    {
     "data": {
      "application/vnd.jupyter.widget-view+json": {
       "model_id": "28f97bc79948460eb78cfbd630f90aac",
       "version_major": 2,
       "version_minor": 0
      },
      "text/plain": [
       "interactive(children=(ToggleButtons(button_style='info', description='Select Class:', options=('Background', '…"
      ]
     },
     "metadata": {},
     "output_type": "display_data"
    }
   ],
   "source": [
    "classes_dict = {\n",
    "    'Background': 0,\n",
    "    'Peripheral-Zone': 1,\n",
    "    'Transition-Zone': 2\n",
    "}\n",
    "\n",
    "# Create button values\n",
    "select_class = ToggleButtons(\n",
    "    options=['Background','Peripheral-Zone', 'Transition-Zone', 'All'],\n",
    "    description='Select Class:',\n",
    "    disabled=False,\n",
    "    button_style='info', \n",
    "    \n",
    ")\n",
    "# Create layer slider\n",
    "select_layer = IntSlider(min=0, max=mri_1.shape[2] - 1, description='Select Layer', continuous_update=False)\n",
    "\n",
    "    \n",
    "# Define a function for plotting images\n",
    "def plot(seg_class, layer, channel):\n",
    "    print(f\"Plotting Layer: {layer} | Label: {seg_class} | Channel: {channel}\")\n",
    "    fig = plt.figure(figsize=(20, 10))\n",
    "    \n",
    "    fig.add_subplot(1, 2, 1)\n",
    "    plt.imshow(mri_1[:, :, layer, channel], cmap='gray');\n",
    "    plt.title(\"MRI\", fontsize=20)\n",
    "    plt.axis('off')\n",
    "    \n",
    "    fig.add_subplot(1, 2, 2)\n",
    "    if seg_class == \"All\":\n",
    "        mask = mri_1_mask[:, :, layer]\n",
    "        plt.title(\"Mask\", fontsize=20)\n",
    "        plt.imshow(mask)\n",
    "        plt.axis('off');\n",
    "    else:\n",
    "        img_label = classes_dict[seg_class]\n",
    "        mask = np.where(mri_1_mask[:, :, layer] == img_label, 255, 0)\n",
    "        plt.title(\"Mask\", fontsize=20)\n",
    "        plt.imshow(mask, cmap='gray')\n",
    "        plt.axis('off');\n",
    "\n",
    "# Set channel to view:\n",
    "#  Channel 0: T2\n",
    "#  Channel 1: ADC    \n",
    "    \n",
    "# Use the interactive() tool to create the visualization\n",
    "interactive(plot, seg_class=select_class, layer=select_layer, channel=(0, 1))"
   ]
  },
  {
   "cell_type": "markdown",
   "id": "ce467e68-4b36-4f30-90f8-1d555fae4431",
   "metadata": {},
   "source": [
    "### 2- After"
   ]
  },
  {
   "cell_type": "markdown",
   "id": "8f0d4bc8-8096-4ee2-ba3c-2538851accab",
   "metadata": {},
   "source": [
    "#### MRI file "
   ]
  },
  {
   "cell_type": "code",
   "execution_count": 15,
   "id": "cognitive-farmer",
   "metadata": {},
   "outputs": [],
   "source": [
    "mri_1_after = nib.load(\"../../datasets/Task05_Prostate_320x320x32/train/images/prostate_00.nii.gz\")"
   ]
  },
  {
   "cell_type": "code",
   "execution_count": 16,
   "id": "frank-transfer",
   "metadata": {},
   "outputs": [
    {
     "data": {
      "text/plain": [
       "nibabel.nifti1.Nifti1Image"
      ]
     },
     "execution_count": 16,
     "metadata": {},
     "output_type": "execute_result"
    }
   ],
   "source": [
    "type(mri_1_after)"
   ]
  },
  {
   "cell_type": "code",
   "execution_count": 17,
   "id": "possible-infrared",
   "metadata": {},
   "outputs": [],
   "source": [
    "# Read Nifi Image object as numpy file\n",
    "mri_1_after = mri_1_after.get_fdata().astype(np.float32)"
   ]
  },
  {
   "cell_type": "code",
   "execution_count": 18,
   "id": "incredible-sentence",
   "metadata": {},
   "outputs": [
    {
     "data": {
      "text/plain": [
       "numpy.ndarray"
      ]
     },
     "execution_count": 18,
     "metadata": {},
     "output_type": "execute_result"
    }
   ],
   "source": [
    "type(mri_1_after)"
   ]
  },
  {
   "cell_type": "code",
   "execution_count": 19,
   "id": "changing-edwards",
   "metadata": {},
   "outputs": [
    {
     "data": {
      "text/plain": [
       "dtype('float32')"
      ]
     },
     "execution_count": 19,
     "metadata": {},
     "output_type": "execute_result"
    }
   ],
   "source": [
    "mri_1_after.dtype"
   ]
  },
  {
   "cell_type": "code",
   "execution_count": 20,
   "id": "north-tournament",
   "metadata": {},
   "outputs": [
    {
     "data": {
      "text/plain": [
       "(320, 320, 32, 2)"
      ]
     },
     "execution_count": 20,
     "metadata": {},
     "output_type": "execute_result"
    }
   ],
   "source": [
    "mri_1_after.shape"
   ]
  },
  {
   "cell_type": "markdown",
   "id": "incorrect-solution",
   "metadata": {},
   "source": [
    "#### Mask file "
   ]
  },
  {
   "cell_type": "code",
   "execution_count": 21,
   "id": "hundred-guatemala",
   "metadata": {},
   "outputs": [],
   "source": [
    "mri_1_mask_after = nib.load(\"../../datasets/Task05_Prostate_320x320x32/train/masks/prostate_00.nii.gz\")"
   ]
  },
  {
   "cell_type": "code",
   "execution_count": 22,
   "id": "monetary-might",
   "metadata": {},
   "outputs": [],
   "source": [
    "mri_1_mask_after = mri_1_mask_after.get_fdata().astype(np.float32)"
   ]
  },
  {
   "cell_type": "code",
   "execution_count": 23,
   "id": "signed-district",
   "metadata": {},
   "outputs": [
    {
     "data": {
      "text/plain": [
       "dtype('float32')"
      ]
     },
     "execution_count": 23,
     "metadata": {},
     "output_type": "execute_result"
    }
   ],
   "source": [
    "mri_1_mask_after.dtype"
   ]
  },
  {
   "cell_type": "code",
   "execution_count": 24,
   "id": "surface-beast",
   "metadata": {},
   "outputs": [
    {
     "data": {
      "text/plain": [
       "array([0., 1., 2.], dtype=float32)"
      ]
     },
     "execution_count": 24,
     "metadata": {},
     "output_type": "execute_result"
    }
   ],
   "source": [
    "np.unique(mri_1_mask_after)"
   ]
  },
  {
   "cell_type": "code",
   "execution_count": 25,
   "id": "experienced-fight",
   "metadata": {},
   "outputs": [],
   "source": [
    "mri_1_mask_after = mri_1_mask_after.astype(np.float32)"
   ]
  },
  {
   "cell_type": "code",
   "execution_count": 26,
   "id": "broad-affairs",
   "metadata": {},
   "outputs": [
    {
     "data": {
      "text/plain": [
       "(320, 320, 32)"
      ]
     },
     "execution_count": 26,
     "metadata": {},
     "output_type": "execute_result"
    }
   ],
   "source": [
    "mri_1_mask_after.shape"
   ]
  },
  {
   "cell_type": "code",
   "execution_count": 27,
   "id": "grave-terrorism",
   "metadata": {
    "scrolled": false
   },
   "outputs": [
    {
     "data": {
      "application/vnd.jupyter.widget-view+json": {
       "model_id": "a0f56936988e491f9c3a90be3b2e4d52",
       "version_major": 2,
       "version_minor": 0
      },
      "text/plain": [
       "interactive(children=(ToggleButtons(button_style='info', description='Select Class:', options=('Background', '…"
      ]
     },
     "metadata": {},
     "output_type": "display_data"
    }
   ],
   "source": [
    "classes_dict = {\n",
    "    'Background': 0,\n",
    "    'Peripheral-Zone': 1,\n",
    "    'Transition-Zone': 2\n",
    "}\n",
    "\n",
    "# Create button values\n",
    "select_class = ToggleButtons(\n",
    "    options=['Background','Peripheral-Zone', 'Transition-Zone', 'All'],\n",
    "    description='Select Class:',\n",
    "    disabled=False,\n",
    "    button_style='info', \n",
    "    \n",
    ")\n",
    "# Create layer slider\n",
    "select_layer = IntSlider(min=0, max=mri_1_after.shape[2] - 1, description='Select Layer', continuous_update=False)\n",
    "\n",
    "    \n",
    "# Define a function for plotting images\n",
    "def plot(seg_class, layer, channel):\n",
    "    print(f\"Plotting Layer: {layer} | Label: {seg_class} | Channel: {channel}\")\n",
    "    fig = plt.figure(figsize=(20, 10))\n",
    "    \n",
    "    fig.add_subplot(1, 2, 1)\n",
    "    plt.imshow(mri_1_after[:, :, layer, channel], cmap='gray');\n",
    "    plt.title(\"MRI\", fontsize=20)\n",
    "    plt.axis('off')\n",
    "    \n",
    "    fig.add_subplot(1, 2, 2)\n",
    "    if seg_class == \"All\":\n",
    "        mask = mri_1_mask_after[:, :, layer]\n",
    "        plt.title(\"Mask\", fontsize=20)\n",
    "        plt.imshow(mask)\n",
    "        plt.axis('off');\n",
    "    else:\n",
    "        img_label = classes_dict[seg_class]\n",
    "        mask = np.where(mri_1_mask_after[:, :, layer] == img_label, 255, 0)\n",
    "        plt.title(\"Mask\", fontsize=20)\n",
    "        plt.imshow(mask, cmap='gray')\n",
    "        plt.axis('off');\n",
    "\n",
    "# Set channel to view:\n",
    "#  Channel 0: T2\n",
    "#  Channel 1: ADC    \n",
    "    \n",
    "# Use the interactive() tool to create the visualization\n",
    "interactive(plot, seg_class=select_class, layer=select_layer, channel=(0, 1))"
   ]
  },
  {
   "cell_type": "code",
   "execution_count": null,
   "id": "driven-presentation",
   "metadata": {},
   "outputs": [],
   "source": []
  }
 ],
 "metadata": {
  "kernelspec": {
   "display_name": "Python 3",
   "language": "python",
   "name": "python3"
  },
  "language_info": {
   "codemirror_mode": {
    "name": "ipython",
    "version": 3
   },
   "file_extension": ".py",
   "mimetype": "text/x-python",
   "name": "python",
   "nbconvert_exporter": "python",
   "pygments_lexer": "ipython3",
   "version": "3.7.10"
  }
 },
 "nbformat": 4,
 "nbformat_minor": 5
}
