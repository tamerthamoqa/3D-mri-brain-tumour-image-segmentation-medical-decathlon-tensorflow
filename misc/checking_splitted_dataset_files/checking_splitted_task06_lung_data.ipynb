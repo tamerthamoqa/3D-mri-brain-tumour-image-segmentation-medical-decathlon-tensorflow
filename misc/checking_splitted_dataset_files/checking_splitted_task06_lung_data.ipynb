{
 "cells": [
  {
   "cell_type": "markdown",
   "id": "micro-major",
   "metadata": {},
   "source": [
    "__Note__: The code used here was heavily inspired by the AI for Medicine Specialization Course 1 Week three programming assignments: [link](https://www.coursera.org/learn/ai-for-medical-diagnosis)"
   ]
  },
  {
   "cell_type": "code",
   "execution_count": 1,
   "id": "attractive-operator",
   "metadata": {},
   "outputs": [],
   "source": [
    "import numpy as np\n",
    "import nibabel as nib\n",
    "import matplotlib.pyplot as plt\n",
    "import json\n",
    "import os\n",
    "from pprint import pprint\n",
    "from collections import OrderedDict\n",
    "from ipywidgets import interact, interactive, IntSlider, ToggleButtons\n",
    "from sys import getsizeof\n",
    "from tqdm import tqdm"
   ]
  },
  {
   "cell_type": "markdown",
   "id": "revised-calgary",
   "metadata": {},
   "source": [
    "### Checking lung_001 nifti MRI and mask files before and after splitting"
   ]
  },
  {
   "cell_type": "markdown",
   "id": "bfd46650-2622-4a2e-a0be-a33998c60110",
   "metadata": {},
   "source": [
    "### 1- Before"
   ]
  },
  {
   "cell_type": "markdown",
   "id": "thirty-seattle",
   "metadata": {},
   "source": [
    "#### MRI file"
   ]
  },
  {
   "cell_type": "code",
   "execution_count": 2,
   "id": "choice-softball",
   "metadata": {},
   "outputs": [],
   "source": [
    "mri_1 = nib.load(\"../../datasets/Task06_Lung/train/images/lung_001.nii.gz\")"
   ]
  },
  {
   "cell_type": "code",
   "execution_count": 3,
   "id": "received-fitting",
   "metadata": {},
   "outputs": [
    {
     "data": {
      "text/plain": [
       "nibabel.nifti1.Nifti1Image"
      ]
     },
     "execution_count": 3,
     "metadata": {},
     "output_type": "execute_result"
    }
   ],
   "source": [
    "type(mri_1)"
   ]
  },
  {
   "cell_type": "code",
   "execution_count": 4,
   "id": "personal-average",
   "metadata": {},
   "outputs": [],
   "source": [
    "# Read Nifi Image object as numpy file\n",
    "mri_1 = mri_1.get_fdata()"
   ]
  },
  {
   "cell_type": "code",
   "execution_count": 5,
   "id": "comparable-torture",
   "metadata": {},
   "outputs": [
    {
     "data": {
      "text/plain": [
       "numpy.ndarray"
      ]
     },
     "execution_count": 5,
     "metadata": {},
     "output_type": "execute_result"
    }
   ],
   "source": [
    "type(mri_1)"
   ]
  },
  {
   "cell_type": "code",
   "execution_count": 6,
   "id": "contained-occasions",
   "metadata": {},
   "outputs": [
    {
     "data": {
      "text/plain": [
       "dtype('float64')"
      ]
     },
     "execution_count": 6,
     "metadata": {},
     "output_type": "execute_result"
    }
   ],
   "source": [
    "mri_1.dtype"
   ]
  },
  {
   "cell_type": "code",
   "execution_count": 7,
   "id": "cooperative-blackjack",
   "metadata": {},
   "outputs": [
    {
     "data": {
      "text/plain": [
       "(512, 512, 304)"
      ]
     },
     "execution_count": 7,
     "metadata": {},
     "output_type": "execute_result"
    }
   ],
   "source": [
    "mri_1.shape"
   ]
  },
  {
   "cell_type": "markdown",
   "id": "shared-weight",
   "metadata": {},
   "source": [
    "#### Mask file"
   ]
  },
  {
   "cell_type": "code",
   "execution_count": 8,
   "id": "paperback-times",
   "metadata": {},
   "outputs": [],
   "source": [
    "mri_1_mask = nib.load(\"../../datasets/Task06_Lung/train/masks/lung_001.nii.gz\")"
   ]
  },
  {
   "cell_type": "code",
   "execution_count": 9,
   "id": "every-advertising",
   "metadata": {},
   "outputs": [],
   "source": [
    "mri_1_mask = mri_1_mask.get_fdata()"
   ]
  },
  {
   "cell_type": "code",
   "execution_count": 10,
   "id": "blank-protocol",
   "metadata": {},
   "outputs": [
    {
     "data": {
      "text/plain": [
       "dtype('float64')"
      ]
     },
     "execution_count": 10,
     "metadata": {},
     "output_type": "execute_result"
    }
   ],
   "source": [
    "mri_1_mask.dtype"
   ]
  },
  {
   "cell_type": "code",
   "execution_count": 11,
   "id": "disturbed-judges",
   "metadata": {},
   "outputs": [
    {
     "data": {
      "text/plain": [
       "array([0., 1.])"
      ]
     },
     "execution_count": 11,
     "metadata": {},
     "output_type": "execute_result"
    }
   ],
   "source": [
    "np.unique(mri_1_mask)"
   ]
  },
  {
   "cell_type": "code",
   "execution_count": 12,
   "id": "athletic-track",
   "metadata": {},
   "outputs": [],
   "source": [
    "mri_1_mask = mri_1_mask.astype(np.float32)"
   ]
  },
  {
   "cell_type": "code",
   "execution_count": 13,
   "id": "realistic-interpretation",
   "metadata": {},
   "outputs": [
    {
     "data": {
      "text/plain": [
       "(512, 512, 304)"
      ]
     },
     "execution_count": 13,
     "metadata": {},
     "output_type": "execute_result"
    }
   ],
   "source": [
    "mri_1_mask.shape"
   ]
  },
  {
   "cell_type": "markdown",
   "id": "outer-manor",
   "metadata": {},
   "source": [
    "### Visualizing original nifti MRI file and Mask file"
   ]
  },
  {
   "cell_type": "code",
   "execution_count": 14,
   "id": "wrong-leader",
   "metadata": {
    "scrolled": false
   },
   "outputs": [
    {
     "data": {
      "application/vnd.jupyter.widget-view+json": {
       "model_id": "c9ee84f15e8d41519d24a823ddd53c50",
       "version_major": 2,
       "version_minor": 0
      },
      "text/plain": [
       "interactive(children=(IntSlider(value=0, continuous_update=False, description='Select Layer', max=303), Output…"
      ]
     },
     "metadata": {},
     "output_type": "display_data"
    }
   ],
   "source": [
    "# Create layer slider\n",
    "select_layer = IntSlider(min=0, max=mri_1.shape[2] - 1, description='Select Layer', continuous_update=False)\n",
    "\n",
    "    \n",
    "# Define a function for plotting images\n",
    "def plot(layer):\n",
    "    print(f\"Plotting Layer: {layer}\")\n",
    "    fig = plt.figure(figsize=(20, 10))\n",
    "    \n",
    "    fig.add_subplot(1, 2, 1)\n",
    "    plt.imshow(mri_1[:, :, layer], cmap='gray');\n",
    "    plt.title(\"ct\", fontsize=20)\n",
    "    plt.axis('off')\n",
    "    \n",
    "    fig.add_subplot(1, 2, 2)\n",
    "    plt.title(\"Mask\", fontsize=20)\n",
    "    plt.imshow(mri_1_mask[:, :, layer], cmap='gray')\n",
    "    plt.axis('off');\n",
    "\n",
    "# Use the interactive() tool to create the visualization\n",
    "interactive(plot, layer=select_layer)"
   ]
  },
  {
   "cell_type": "markdown",
   "id": "ce467e68-4b36-4f30-90f8-1d555fae4431",
   "metadata": {},
   "source": [
    "### 2- After"
   ]
  },
  {
   "cell_type": "markdown",
   "id": "8f0d4bc8-8096-4ee2-ba3c-2538851accab",
   "metadata": {},
   "source": [
    "#### MRI file chunk 1"
   ]
  },
  {
   "cell_type": "code",
   "execution_count": 15,
   "id": "cognitive-farmer",
   "metadata": {},
   "outputs": [],
   "source": [
    "mri_1_after_chunk1 = nib.load(\"../../datasets/Task06_Lung_320x320x96/train/images/lung_001_0.nii.gz\")"
   ]
  },
  {
   "cell_type": "code",
   "execution_count": 16,
   "id": "frank-transfer",
   "metadata": {},
   "outputs": [
    {
     "data": {
      "text/plain": [
       "nibabel.nifti1.Nifti1Image"
      ]
     },
     "execution_count": 16,
     "metadata": {},
     "output_type": "execute_result"
    }
   ],
   "source": [
    "type(mri_1_after_chunk1)"
   ]
  },
  {
   "cell_type": "code",
   "execution_count": 17,
   "id": "possible-infrared",
   "metadata": {},
   "outputs": [],
   "source": [
    "# Read Nifi Image object as numpy file\n",
    "mri_1_after_chunk1 = mri_1_after_chunk1.get_fdata().astype(np.float32)"
   ]
  },
  {
   "cell_type": "code",
   "execution_count": 18,
   "id": "incredible-sentence",
   "metadata": {},
   "outputs": [
    {
     "data": {
      "text/plain": [
       "numpy.ndarray"
      ]
     },
     "execution_count": 18,
     "metadata": {},
     "output_type": "execute_result"
    }
   ],
   "source": [
    "type(mri_1_after_chunk1)"
   ]
  },
  {
   "cell_type": "code",
   "execution_count": 19,
   "id": "changing-edwards",
   "metadata": {},
   "outputs": [
    {
     "data": {
      "text/plain": [
       "dtype('float32')"
      ]
     },
     "execution_count": 19,
     "metadata": {},
     "output_type": "execute_result"
    }
   ],
   "source": [
    "mri_1_after_chunk1.dtype"
   ]
  },
  {
   "cell_type": "code",
   "execution_count": 20,
   "id": "north-tournament",
   "metadata": {},
   "outputs": [
    {
     "data": {
      "text/plain": [
       "(320, 320, 96)"
      ]
     },
     "execution_count": 20,
     "metadata": {},
     "output_type": "execute_result"
    }
   ],
   "source": [
    "mri_1_after_chunk1.shape"
   ]
  },
  {
   "cell_type": "markdown",
   "id": "incorrect-solution",
   "metadata": {},
   "source": [
    "#### Mask file chunk 1"
   ]
  },
  {
   "cell_type": "code",
   "execution_count": 21,
   "id": "hundred-guatemala",
   "metadata": {},
   "outputs": [],
   "source": [
    "mri_1_mask_after_chunk1 = nib.load(\"../../datasets/Task06_Lung_320x320x96/train/masks/lung_001_0.nii.gz\")"
   ]
  },
  {
   "cell_type": "code",
   "execution_count": 22,
   "id": "monetary-might",
   "metadata": {},
   "outputs": [],
   "source": [
    "mri_1_mask_after_chunk1 = mri_1_mask_after_chunk1.get_fdata().astype(np.float32)"
   ]
  },
  {
   "cell_type": "code",
   "execution_count": 23,
   "id": "signed-district",
   "metadata": {},
   "outputs": [
    {
     "data": {
      "text/plain": [
       "dtype('float32')"
      ]
     },
     "execution_count": 23,
     "metadata": {},
     "output_type": "execute_result"
    }
   ],
   "source": [
    "mri_1_mask_after_chunk1.dtype"
   ]
  },
  {
   "cell_type": "code",
   "execution_count": 24,
   "id": "surface-beast",
   "metadata": {},
   "outputs": [
    {
     "data": {
      "text/plain": [
       "array([0.], dtype=float32)"
      ]
     },
     "execution_count": 24,
     "metadata": {},
     "output_type": "execute_result"
    }
   ],
   "source": [
    "np.unique(mri_1_mask_after_chunk1)"
   ]
  },
  {
   "cell_type": "code",
   "execution_count": 25,
   "id": "experienced-fight",
   "metadata": {},
   "outputs": [],
   "source": [
    "mri_1_mask_after_chunk1 = mri_1_mask_after_chunk1.astype(np.float32)"
   ]
  },
  {
   "cell_type": "code",
   "execution_count": 26,
   "id": "broad-affairs",
   "metadata": {},
   "outputs": [
    {
     "data": {
      "text/plain": [
       "(320, 320, 96)"
      ]
     },
     "execution_count": 26,
     "metadata": {},
     "output_type": "execute_result"
    }
   ],
   "source": [
    "mri_1_mask_after_chunk1.shape"
   ]
  },
  {
   "cell_type": "code",
   "execution_count": 27,
   "id": "grave-terrorism",
   "metadata": {
    "scrolled": false
   },
   "outputs": [
    {
     "data": {
      "application/vnd.jupyter.widget-view+json": {
       "model_id": "de704c7570db40b4a8d3ac154a754055",
       "version_major": 2,
       "version_minor": 0
      },
      "text/plain": [
       "interactive(children=(IntSlider(value=0, continuous_update=False, description='Select Layer', max=95), Output(…"
      ]
     },
     "metadata": {},
     "output_type": "display_data"
    }
   ],
   "source": [
    "# Create layer slider\n",
    "select_layer = IntSlider(min=0, max=mri_1_after_chunk1.shape[2] - 1, description='Select Layer', continuous_update=False)\n",
    "\n",
    "    \n",
    "# Define a function for plotting images\n",
    "def plot(layer):\n",
    "    print(f\"Plotting Layer: {layer}\")\n",
    "    fig = plt.figure(figsize=(20, 10))\n",
    "    \n",
    "    fig.add_subplot(1, 2, 1)\n",
    "    plt.imshow(mri_1_after_chunk1[:, :, layer], cmap='gray');\n",
    "    plt.title(\"ct\", fontsize=20)\n",
    "    plt.axis('off')\n",
    "    \n",
    "    fig.add_subplot(1, 2, 2)\n",
    "    plt.title(\"Mask\", fontsize=20)\n",
    "    plt.imshow(mri_1_mask_after_chunk1[:, :, layer], cmap='gray')\n",
    "    plt.axis('off');\n",
    "\n",
    "# Use the interactive() tool to create the visualization\n",
    "interactive(plot, layer=select_layer)"
   ]
  },
  {
   "cell_type": "markdown",
   "id": "verified-member",
   "metadata": {},
   "source": [
    "#### MRI file chunk 2"
   ]
  },
  {
   "cell_type": "code",
   "execution_count": 28,
   "id": "documentary-person",
   "metadata": {},
   "outputs": [],
   "source": [
    "mri_1_after_chunk2 = nib.load(\"../../datasets/Task06_Lung_320x320x96/train/images/lung_001_1.nii.gz\")"
   ]
  },
  {
   "cell_type": "code",
   "execution_count": 29,
   "id": "foster-handling",
   "metadata": {},
   "outputs": [
    {
     "data": {
      "text/plain": [
       "nibabel.nifti1.Nifti1Image"
      ]
     },
     "execution_count": 29,
     "metadata": {},
     "output_type": "execute_result"
    }
   ],
   "source": [
    "type(mri_1_after_chunk2)"
   ]
  },
  {
   "cell_type": "code",
   "execution_count": 30,
   "id": "sonic-checkout",
   "metadata": {},
   "outputs": [],
   "source": [
    "# Read Nifi Image object as numpy file\n",
    "mri_1_after_chunk2 = mri_1_after_chunk2.get_fdata().astype(np.float32)"
   ]
  },
  {
   "cell_type": "code",
   "execution_count": 31,
   "id": "welcome-return",
   "metadata": {},
   "outputs": [
    {
     "data": {
      "text/plain": [
       "numpy.ndarray"
      ]
     },
     "execution_count": 31,
     "metadata": {},
     "output_type": "execute_result"
    }
   ],
   "source": [
    "type(mri_1_after_chunk2)"
   ]
  },
  {
   "cell_type": "code",
   "execution_count": 32,
   "id": "handmade-platform",
   "metadata": {},
   "outputs": [
    {
     "data": {
      "text/plain": [
       "dtype('float32')"
      ]
     },
     "execution_count": 32,
     "metadata": {},
     "output_type": "execute_result"
    }
   ],
   "source": [
    "mri_1_after_chunk2.dtype"
   ]
  },
  {
   "cell_type": "code",
   "execution_count": 33,
   "id": "funded-teach",
   "metadata": {},
   "outputs": [
    {
     "data": {
      "text/plain": [
       "(320, 320, 96)"
      ]
     },
     "execution_count": 33,
     "metadata": {},
     "output_type": "execute_result"
    }
   ],
   "source": [
    "mri_1_after_chunk2.shape"
   ]
  },
  {
   "cell_type": "markdown",
   "id": "marked-owner",
   "metadata": {},
   "source": [
    "#### Mask file chunk 2"
   ]
  },
  {
   "cell_type": "code",
   "execution_count": 34,
   "id": "marine-woman",
   "metadata": {},
   "outputs": [],
   "source": [
    "mri_1_mask_after_chunk2 = nib.load(\"../../datasets/Task06_Lung_320x320x96/train/masks/lung_001_1.nii.gz\")"
   ]
  },
  {
   "cell_type": "code",
   "execution_count": 35,
   "id": "alpine-excitement",
   "metadata": {},
   "outputs": [],
   "source": [
    "mri_1_mask_after_chunk2 = mri_1_mask_after_chunk2.get_fdata().astype(np.float32)"
   ]
  },
  {
   "cell_type": "code",
   "execution_count": 36,
   "id": "confident-seller",
   "metadata": {},
   "outputs": [
    {
     "data": {
      "text/plain": [
       "dtype('float32')"
      ]
     },
     "execution_count": 36,
     "metadata": {},
     "output_type": "execute_result"
    }
   ],
   "source": [
    "mri_1_mask_after_chunk2.dtype"
   ]
  },
  {
   "cell_type": "code",
   "execution_count": 37,
   "id": "usual-grave",
   "metadata": {},
   "outputs": [
    {
     "data": {
      "text/plain": [
       "array([0.], dtype=float32)"
      ]
     },
     "execution_count": 37,
     "metadata": {},
     "output_type": "execute_result"
    }
   ],
   "source": [
    "np.unique(mri_1_mask_after_chunk2)"
   ]
  },
  {
   "cell_type": "code",
   "execution_count": 38,
   "id": "revolutionary-installation",
   "metadata": {},
   "outputs": [],
   "source": [
    "mri_1_mask_after_chunk2 = mri_1_mask_after_chunk2.astype(np.float32)"
   ]
  },
  {
   "cell_type": "code",
   "execution_count": 39,
   "id": "attractive-harris",
   "metadata": {},
   "outputs": [
    {
     "data": {
      "text/plain": [
       "(320, 320, 96)"
      ]
     },
     "execution_count": 39,
     "metadata": {},
     "output_type": "execute_result"
    }
   ],
   "source": [
    "mri_1_mask_after_chunk2.shape"
   ]
  },
  {
   "cell_type": "markdown",
   "id": "naked-labor",
   "metadata": {},
   "source": [
    "### Visualizing nifti MRI file and Mask file"
   ]
  },
  {
   "cell_type": "code",
   "execution_count": 40,
   "id": "greenhouse-league",
   "metadata": {
    "scrolled": false
   },
   "outputs": [
    {
     "data": {
      "application/vnd.jupyter.widget-view+json": {
       "model_id": "b7ce7a4e86534e6d85a2982949fd748c",
       "version_major": 2,
       "version_minor": 0
      },
      "text/plain": [
       "interactive(children=(IntSlider(value=0, continuous_update=False, description='Select Layer', max=95), Output(…"
      ]
     },
     "metadata": {},
     "output_type": "display_data"
    }
   ],
   "source": [
    "# Create layer slider\n",
    "select_layer = IntSlider(min=0, max=mri_1_after_chunk2.shape[2] - 1, description='Select Layer', continuous_update=False)\n",
    "\n",
    "    \n",
    "# Define a function for plotting images\n",
    "def plot(layer):\n",
    "    print(f\"Plotting Layer: {layer}\")\n",
    "    fig = plt.figure(figsize=(20, 10))\n",
    "    \n",
    "    fig.add_subplot(1, 2, 1)\n",
    "    plt.imshow(mri_1_after_chunk2[:, :, layer], cmap='gray');\n",
    "    plt.title(\"ct\", fontsize=20)\n",
    "    plt.axis('off')\n",
    "    \n",
    "    fig.add_subplot(1, 2, 2)\n",
    "    plt.title(\"Mask\", fontsize=20)\n",
    "    plt.imshow(mri_1_mask_after_chunk2[:, :, layer], cmap='gray')\n",
    "    plt.axis('off');\n",
    "\n",
    "# Use the interactive() tool to create the visualization\n",
    "interactive(plot, layer=select_layer)"
   ]
  },
  {
   "cell_type": "markdown",
   "id": "bright-biotechnology",
   "metadata": {},
   "source": [
    "#### MRI file chunk 3"
   ]
  },
  {
   "cell_type": "code",
   "execution_count": 41,
   "id": "valued-printing",
   "metadata": {},
   "outputs": [],
   "source": [
    "mri_1_after_chunk3 = nib.load(\"../../datasets/Task06_Lung_320x320x96/train/images/lung_001_2.nii.gz\")"
   ]
  },
  {
   "cell_type": "code",
   "execution_count": 42,
   "id": "veterinary-hamburg",
   "metadata": {},
   "outputs": [
    {
     "data": {
      "text/plain": [
       "nibabel.nifti1.Nifti1Image"
      ]
     },
     "execution_count": 42,
     "metadata": {},
     "output_type": "execute_result"
    }
   ],
   "source": [
    "type(mri_1_after_chunk3)"
   ]
  },
  {
   "cell_type": "code",
   "execution_count": 43,
   "id": "irish-engine",
   "metadata": {},
   "outputs": [],
   "source": [
    "# Read Nifi Image object as numpy file\n",
    "mri_1_after_chunk3 = mri_1_after_chunk3.get_fdata().astype(np.float32)"
   ]
  },
  {
   "cell_type": "code",
   "execution_count": 44,
   "id": "accessible-conservative",
   "metadata": {},
   "outputs": [
    {
     "data": {
      "text/plain": [
       "numpy.ndarray"
      ]
     },
     "execution_count": 44,
     "metadata": {},
     "output_type": "execute_result"
    }
   ],
   "source": [
    "type(mri_1_after_chunk3)"
   ]
  },
  {
   "cell_type": "code",
   "execution_count": 45,
   "id": "lined-carpet",
   "metadata": {},
   "outputs": [
    {
     "data": {
      "text/plain": [
       "dtype('float32')"
      ]
     },
     "execution_count": 45,
     "metadata": {},
     "output_type": "execute_result"
    }
   ],
   "source": [
    "mri_1_after_chunk3.dtype"
   ]
  },
  {
   "cell_type": "code",
   "execution_count": 46,
   "id": "everyday-hazard",
   "metadata": {},
   "outputs": [
    {
     "data": {
      "text/plain": [
       "(320, 320, 96)"
      ]
     },
     "execution_count": 46,
     "metadata": {},
     "output_type": "execute_result"
    }
   ],
   "source": [
    "mri_1_after_chunk3.shape"
   ]
  },
  {
   "cell_type": "markdown",
   "id": "congressional-large",
   "metadata": {},
   "source": [
    "#### Mask file chunk 3"
   ]
  },
  {
   "cell_type": "code",
   "execution_count": 47,
   "id": "billion-numbers",
   "metadata": {},
   "outputs": [],
   "source": [
    "mri_1_mask_after_chunk3 = nib.load(\"../../datasets/Task06_Lung_320x320x96/train/masks/lung_001_2.nii.gz\")"
   ]
  },
  {
   "cell_type": "code",
   "execution_count": 48,
   "id": "southwest-thread",
   "metadata": {},
   "outputs": [],
   "source": [
    "mri_1_mask_after_chunk3 = mri_1_mask_after_chunk3.get_fdata().astype(np.float32)"
   ]
  },
  {
   "cell_type": "code",
   "execution_count": 49,
   "id": "bacterial-bradford",
   "metadata": {},
   "outputs": [
    {
     "data": {
      "text/plain": [
       "dtype('float32')"
      ]
     },
     "execution_count": 49,
     "metadata": {},
     "output_type": "execute_result"
    }
   ],
   "source": [
    "mri_1_mask_after_chunk3.dtype"
   ]
  },
  {
   "cell_type": "code",
   "execution_count": 50,
   "id": "golden-repeat",
   "metadata": {},
   "outputs": [
    {
     "data": {
      "text/plain": [
       "array([0., 1.], dtype=float32)"
      ]
     },
     "execution_count": 50,
     "metadata": {},
     "output_type": "execute_result"
    }
   ],
   "source": [
    "np.unique(mri_1_mask_after_chunk3)"
   ]
  },
  {
   "cell_type": "code",
   "execution_count": 51,
   "id": "framed-shoot",
   "metadata": {},
   "outputs": [],
   "source": [
    "mri_1_mask_after_chunk3 = mri_1_mask_after_chunk3.astype(np.float32)"
   ]
  },
  {
   "cell_type": "code",
   "execution_count": 52,
   "id": "biological-silicon",
   "metadata": {},
   "outputs": [
    {
     "data": {
      "text/plain": [
       "(320, 320, 96)"
      ]
     },
     "execution_count": 52,
     "metadata": {},
     "output_type": "execute_result"
    }
   ],
   "source": [
    "mri_1_mask_after_chunk3.shape"
   ]
  },
  {
   "cell_type": "markdown",
   "id": "reverse-smith",
   "metadata": {},
   "source": [
    "### Visualizing nifti MRI file and Mask file"
   ]
  },
  {
   "cell_type": "code",
   "execution_count": 53,
   "id": "threatened-bearing",
   "metadata": {
    "scrolled": false
   },
   "outputs": [
    {
     "data": {
      "application/vnd.jupyter.widget-view+json": {
       "model_id": "a3e5176424c846ac958303615369eff4",
       "version_major": 2,
       "version_minor": 0
      },
      "text/plain": [
       "interactive(children=(IntSlider(value=0, continuous_update=False, description='Select Layer', max=95), Output(…"
      ]
     },
     "metadata": {},
     "output_type": "display_data"
    }
   ],
   "source": [
    "# Create layer slider\n",
    "select_layer = IntSlider(min=0, max=mri_1_after_chunk3.shape[2] - 1, description='Select Layer', continuous_update=False)\n",
    "\n",
    "    \n",
    "# Define a function for plotting images\n",
    "def plot(layer):\n",
    "    print(f\"Plotting Layer: {layer}\")\n",
    "    fig = plt.figure(figsize=(20, 10))\n",
    "    \n",
    "    fig.add_subplot(1, 2, 1)\n",
    "    plt.imshow(mri_1_after_chunk3[:, :, layer], cmap='gray');\n",
    "    plt.title(\"ct\", fontsize=20)\n",
    "    plt.axis('off')\n",
    "    \n",
    "    fig.add_subplot(1, 2, 2)\n",
    "    plt.title(\"Mask\", fontsize=20)\n",
    "    plt.imshow(mri_1_mask_after_chunk3[:, :, layer], cmap='gray')\n",
    "    plt.axis('off');\n",
    "\n",
    "# Use the interactive() tool to create the visualization\n",
    "interactive(plot, layer=select_layer)"
   ]
  },
  {
   "cell_type": "markdown",
   "id": "typical-tampa",
   "metadata": {},
   "source": [
    "#### MRI file chunk 4"
   ]
  },
  {
   "cell_type": "code",
   "execution_count": 54,
   "id": "allied-status",
   "metadata": {},
   "outputs": [],
   "source": [
    "mri_1_after_chunk4 = nib.load(\"../../datasets/Task06_Lung_320x320x96/train/images/lung_001_3.nii.gz\")"
   ]
  },
  {
   "cell_type": "code",
   "execution_count": 55,
   "id": "synthetic-tennis",
   "metadata": {},
   "outputs": [
    {
     "data": {
      "text/plain": [
       "nibabel.nifti1.Nifti1Image"
      ]
     },
     "execution_count": 55,
     "metadata": {},
     "output_type": "execute_result"
    }
   ],
   "source": [
    "type(mri_1_after_chunk4)"
   ]
  },
  {
   "cell_type": "code",
   "execution_count": 56,
   "id": "backed-commons",
   "metadata": {},
   "outputs": [],
   "source": [
    "# Read Nifi Image object as numpy file\n",
    "mri_1_after_chunk4 = mri_1_after_chunk4.get_fdata().astype(np.float32)"
   ]
  },
  {
   "cell_type": "code",
   "execution_count": 57,
   "id": "deluxe-amazon",
   "metadata": {},
   "outputs": [
    {
     "data": {
      "text/plain": [
       "numpy.ndarray"
      ]
     },
     "execution_count": 57,
     "metadata": {},
     "output_type": "execute_result"
    }
   ],
   "source": [
    "type(mri_1_after_chunk4)"
   ]
  },
  {
   "cell_type": "code",
   "execution_count": 58,
   "id": "seasonal-trauma",
   "metadata": {},
   "outputs": [
    {
     "data": {
      "text/plain": [
       "dtype('float32')"
      ]
     },
     "execution_count": 58,
     "metadata": {},
     "output_type": "execute_result"
    }
   ],
   "source": [
    "mri_1_after_chunk4.dtype"
   ]
  },
  {
   "cell_type": "code",
   "execution_count": 59,
   "id": "vertical-exploration",
   "metadata": {},
   "outputs": [
    {
     "data": {
      "text/plain": [
       "(320, 320, 96)"
      ]
     },
     "execution_count": 59,
     "metadata": {},
     "output_type": "execute_result"
    }
   ],
   "source": [
    "mri_1_after_chunk4.shape"
   ]
  },
  {
   "cell_type": "markdown",
   "id": "organized-jason",
   "metadata": {},
   "source": [
    "#### Mask file chunk 4"
   ]
  },
  {
   "cell_type": "code",
   "execution_count": 60,
   "id": "sticky-procurement",
   "metadata": {},
   "outputs": [],
   "source": [
    "mri_1_mask_after_chunk4 = nib.load(\"../../datasets/Task06_Lung_320x320x96/train/masks/lung_001_3.nii.gz\")"
   ]
  },
  {
   "cell_type": "code",
   "execution_count": 61,
   "id": "above-polyester",
   "metadata": {},
   "outputs": [],
   "source": [
    "mri_1_mask_after_chunk4 = mri_1_mask_after_chunk4.get_fdata().astype(np.float32)"
   ]
  },
  {
   "cell_type": "code",
   "execution_count": 62,
   "id": "cathedral-legislature",
   "metadata": {},
   "outputs": [
    {
     "data": {
      "text/plain": [
       "dtype('float32')"
      ]
     },
     "execution_count": 62,
     "metadata": {},
     "output_type": "execute_result"
    }
   ],
   "source": [
    "mri_1_mask_after_chunk4.dtype"
   ]
  },
  {
   "cell_type": "code",
   "execution_count": 63,
   "id": "capital-privacy",
   "metadata": {},
   "outputs": [
    {
     "data": {
      "text/plain": [
       "array([0.], dtype=float32)"
      ]
     },
     "execution_count": 63,
     "metadata": {},
     "output_type": "execute_result"
    }
   ],
   "source": [
    "np.unique(mri_1_mask_after_chunk4)"
   ]
  },
  {
   "cell_type": "code",
   "execution_count": 64,
   "id": "harmful-gender",
   "metadata": {},
   "outputs": [],
   "source": [
    "mri_1_mask_after_chunk4 = mri_1_mask_after_chunk4.astype(np.float32)"
   ]
  },
  {
   "cell_type": "code",
   "execution_count": 65,
   "id": "assisted-second",
   "metadata": {},
   "outputs": [
    {
     "data": {
      "text/plain": [
       "(320, 320, 96)"
      ]
     },
     "execution_count": 65,
     "metadata": {},
     "output_type": "execute_result"
    }
   ],
   "source": [
    "mri_1_mask_after_chunk4.shape"
   ]
  },
  {
   "cell_type": "markdown",
   "id": "marine-warning",
   "metadata": {},
   "source": [
    "### Visualizing nifti MRI file and Mask file"
   ]
  },
  {
   "cell_type": "code",
   "execution_count": 66,
   "id": "familiar-adobe",
   "metadata": {
    "scrolled": false
   },
   "outputs": [
    {
     "data": {
      "application/vnd.jupyter.widget-view+json": {
       "model_id": "13af127c554246d09f2dac1a1d3d5b4a",
       "version_major": 2,
       "version_minor": 0
      },
      "text/plain": [
       "interactive(children=(IntSlider(value=0, continuous_update=False, description='Select Layer', max=95), Output(…"
      ]
     },
     "metadata": {},
     "output_type": "display_data"
    }
   ],
   "source": [
    "# Create layer slider\n",
    "select_layer = IntSlider(min=0, max=mri_1_after_chunk4.shape[2] - 1, description='Select Layer', continuous_update=False)\n",
    "\n",
    "    \n",
    "# Define a function for plotting images\n",
    "def plot(layer):\n",
    "    print(f\"Plotting Layer: {layer}\")\n",
    "    fig = plt.figure(figsize=(20, 10))\n",
    "    \n",
    "    fig.add_subplot(1, 2, 1)\n",
    "    plt.imshow(mri_1_after_chunk4[:, :, layer], cmap='gray');\n",
    "    plt.title(\"ct\", fontsize=20)\n",
    "    plt.axis('off')\n",
    "    \n",
    "    fig.add_subplot(1, 2, 2)\n",
    "    plt.title(\"Mask\", fontsize=20)\n",
    "    plt.imshow(mri_1_mask_after_chunk4[:, :, layer], cmap='gray')\n",
    "    plt.axis('off');\n",
    "\n",
    "# Use the interactive() tool to create the visualization\n",
    "interactive(plot, layer=select_layer)"
   ]
  }
 ],
 "metadata": {
  "kernelspec": {
   "display_name": "Python 3",
   "language": "python",
   "name": "python3"
  },
  "language_info": {
   "codemirror_mode": {
    "name": "ipython",
    "version": 3
   },
   "file_extension": ".py",
   "mimetype": "text/x-python",
   "name": "python",
   "nbconvert_exporter": "python",
   "pygments_lexer": "ipython3",
   "version": "3.7.10"
  }
 },
 "nbformat": 4,
 "nbformat_minor": 5
}
