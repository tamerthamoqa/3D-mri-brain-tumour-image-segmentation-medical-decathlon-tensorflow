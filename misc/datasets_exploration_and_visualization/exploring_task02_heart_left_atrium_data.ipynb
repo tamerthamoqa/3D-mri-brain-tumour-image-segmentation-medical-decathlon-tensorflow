{
 "cells": [
  {
   "cell_type": "markdown",
   "id": "micro-major",
   "metadata": {},
   "source": [
    "__Note__: The code used here was heavily inspired by the AI for Medicine Specialization Course 1 Week three programming assignments: [link](https://www.coursera.org/learn/ai-for-medical-diagnosis)"
   ]
  },
  {
   "cell_type": "code",
   "execution_count": 1,
   "id": "attractive-operator",
   "metadata": {},
   "outputs": [],
   "source": [
    "import numpy as np\n",
    "import nibabel as nib\n",
    "import matplotlib.pyplot as plt\n",
    "import json\n",
    "import os\n",
    "from pprint import pprint\n",
    "from collections import OrderedDict\n",
    "from ipywidgets import interact, interactive, IntSlider, ToggleButtons\n",
    "from sys import getsizeof\n",
    "from tqdm import tqdm"
   ]
  },
  {
   "cell_type": "markdown",
   "id": "broadband-cisco",
   "metadata": {},
   "source": [
    "### Reading dataset description"
   ]
  },
  {
   "cell_type": "code",
   "execution_count": 2,
   "id": "modular-selling",
   "metadata": {},
   "outputs": [],
   "source": [
    "file = open('../datasets_descriptions_json/task02_heart_dataset.json')\n",
    "data_description = json.load(file)"
   ]
  },
  {
   "cell_type": "code",
   "execution_count": 3,
   "id": "convinced-occupation",
   "metadata": {},
   "outputs": [
    {
     "name": "stdout",
     "output_type": "stream",
     "text": [
      "{\n",
      "    \"name\": \"LeftAtrium\",\n",
      "    \"description\": \"Left atrium segmentation\",\n",
      "    \"tensorImageSize\": \"3D\",\n",
      "    \"reference\": \"King\\u2019s College London\",\n",
      "    \"licence\": \"CC-BY-SA 4.0\",\n",
      "    \"relase\": \"1.0 04/05/2018\",\n",
      "    \"modality\": {\n",
      "        \"0\": \"MRI\"\n",
      "    },\n",
      "    \"labels\": {\n",
      "        \"0\": \"background\",\n",
      "        \"1\": \"left atrium\"\n",
      "    },\n",
      "    \"numTraining\": 20,\n",
      "    \"numTest\": 10,\n",
      "    \"training\": [\n",
      "        {\n",
      "            \"image\": \"./imagesTr/la_007.nii.gz\",\n",
      "            \"label\": \"./labelsTr/la_007.nii.gz\"\n",
      "        },\n",
      "        {\n",
      "            \"image\": \"./imagesTr/la_019.nii.gz\",\n",
      "            \"label\": \"./labelsTr/la_019.nii.gz\"\n",
      "        },\n",
      "        {\n",
      "            \"image\": \"./imagesTr/la_023.nii.gz\",\n",
      "            \"label\": \"./labelsTr/la_023.nii.gz\"\n",
      "        },\n",
      "        {\n",
      "            \"image\": \"./imagesTr/la_005.nii.gz\",\n",
      "            \"label\": \"./labelsTr/la_005.nii.gz\"\n",
      "        },\n",
      "        {\n",
      "            \"image\": \"./imagesTr/la_009.nii.gz\",\n",
      "            \"label\": \"./labelsTr/la_009.nii.gz\"\n",
      "        },\n",
      "        {\n",
      "            \"image\": \"./imagesTr/la_017.nii.gz\",\n",
      "            \"label\": \"./labelsTr/la_017.nii.gz\"\n",
      "        },\n",
      "        {\n",
      "            \"image\": \"./imagesTr/la_021.nii.gz\",\n",
      "            \"label\": \"./labelsTr/la_021.nii.gz\"\n",
      "        },\n",
      "        {\n",
      "            \"image\": \"./imagesTr/la_029.nii.gz\",\n",
      "            \"label\": \"./labelsTr/la_029.nii.gz\"\n",
      "        },\n",
      "        {\n",
      "            \"image\": \"./imagesTr/la_003.nii.gz\",\n",
      "            \"label\": \"./labelsTr/la_003.nii.gz\"\n",
      "        },\n",
      "        {\n",
      "            \"image\": \"./imagesTr/la_011.nii.gz\",\n",
      "            \"label\": \"./labelsTr/la_011.nii.gz\"\n",
      "        },\n",
      "        {\n",
      "            \"image\": \"./imagesTr/la_030.nii.gz\",\n",
      "            \"label\": \"./labelsTr/la_030.nii.gz\"\n",
      "        },\n",
      "        {\n",
      "            \"image\": \"./imagesTr/la_022.nii.gz\",\n",
      "            \"label\": \"./labelsTr/la_022.nii.gz\"\n",
      "        },\n",
      "        {\n",
      "            \"image\": \"./imagesTr/la_014.nii.gz\",\n",
      "            \"label\": \"./labelsTr/la_014.nii.gz\"\n",
      "        },\n",
      "        {\n",
      "            \"image\": \"./imagesTr/la_018.nii.gz\",\n",
      "            \"label\": \"./labelsTr/la_018.nii.gz\"\n",
      "        },\n",
      "        {\n",
      "            \"image\": \"./imagesTr/la_020.nii.gz\",\n",
      "            \"label\": \"./labelsTr/la_020.nii.gz\"\n",
      "        },\n",
      "        {\n",
      "            \"image\": \"./imagesTr/la_004.nii.gz\",\n",
      "            \"label\": \"./labelsTr/la_004.nii.gz\"\n",
      "        },\n",
      "        {\n",
      "            \"image\": \"./imagesTr/la_016.nii.gz\",\n",
      "            \"label\": \"./labelsTr/la_016.nii.gz\"\n",
      "        },\n",
      "        {\n",
      "            \"image\": \"./imagesTr/la_024.nii.gz\",\n",
      "            \"label\": \"./labelsTr/la_024.nii.gz\"\n",
      "        },\n",
      "        {\n",
      "            \"image\": \"./imagesTr/la_010.nii.gz\",\n",
      "            \"label\": \"./labelsTr/la_010.nii.gz\"\n",
      "        },\n",
      "        {\n",
      "            \"image\": \"./imagesTr/la_026.nii.gz\",\n",
      "            \"label\": \"./labelsTr/la_026.nii.gz\"\n",
      "        }\n",
      "    ],\n",
      "    \"test\": [\n",
      "        \"./imagesTs/la_015.nii.gz\",\n",
      "        \"./imagesTs/la_025.nii.gz\",\n",
      "        \"./imagesTs/la_013.nii.gz\",\n",
      "        \"./imagesTs/la_001.nii.gz\",\n",
      "        \"./imagesTs/la_027.nii.gz\",\n",
      "        \"./imagesTs/la_006.nii.gz\",\n",
      "        \"./imagesTs/la_008.nii.gz\",\n",
      "        \"./imagesTs/la_012.nii.gz\",\n",
      "        \"./imagesTs/la_028.nii.gz\",\n",
      "        \"./imagesTs/la_002.nii.gz\"\n",
      "    ]\n",
      "}\n"
     ]
    }
   ],
   "source": [
    "print(json.dumps(data_description, indent=4))"
   ]
  },
  {
   "cell_type": "markdown",
   "id": "revised-calgary",
   "metadata": {},
   "source": [
    "### Reading and visualizing LA_003 nifti MRI and mask files"
   ]
  },
  {
   "cell_type": "markdown",
   "id": "thirty-seattle",
   "metadata": {},
   "source": [
    "#### MRI file"
   ]
  },
  {
   "cell_type": "code",
   "execution_count": 4,
   "id": "choice-softball",
   "metadata": {},
   "outputs": [],
   "source": [
    "mri_1 = nib.load(\"../../datasets/Task02_Heart/train/images/la_003.nii.gz\")"
   ]
  },
  {
   "cell_type": "code",
   "execution_count": 5,
   "id": "received-fitting",
   "metadata": {},
   "outputs": [
    {
     "data": {
      "text/plain": [
       "nibabel.nifti1.Nifti1Image"
      ]
     },
     "execution_count": 5,
     "metadata": {},
     "output_type": "execute_result"
    }
   ],
   "source": [
    "type(mri_1)"
   ]
  },
  {
   "cell_type": "code",
   "execution_count": 6,
   "id": "personal-average",
   "metadata": {},
   "outputs": [],
   "source": [
    "# Read Nifi Image object as numpy file\n",
    "mri_1 = mri_1.get_fdata()"
   ]
  },
  {
   "cell_type": "code",
   "execution_count": 7,
   "id": "comparable-torture",
   "metadata": {
    "scrolled": true
   },
   "outputs": [
    {
     "data": {
      "text/plain": [
       "numpy.ndarray"
      ]
     },
     "execution_count": 7,
     "metadata": {},
     "output_type": "execute_result"
    }
   ],
   "source": [
    "type(mri_1)"
   ]
  },
  {
   "cell_type": "code",
   "execution_count": 8,
   "id": "contained-occasions",
   "metadata": {},
   "outputs": [
    {
     "data": {
      "text/plain": [
       "dtype('float64')"
      ]
     },
     "execution_count": 8,
     "metadata": {},
     "output_type": "execute_result"
    }
   ],
   "source": [
    "mri_1.dtype"
   ]
  },
  {
   "cell_type": "code",
   "execution_count": 9,
   "id": "cooperative-blackjack",
   "metadata": {},
   "outputs": [
    {
     "data": {
      "text/plain": [
       "(320, 320, 130)"
      ]
     },
     "execution_count": 9,
     "metadata": {},
     "output_type": "execute_result"
    }
   ],
   "source": [
    "mri_1.shape"
   ]
  },
  {
   "cell_type": "code",
   "execution_count": 10,
   "id": "affected-disaster",
   "metadata": {},
   "outputs": [
    {
     "name": "stdout",
     "output_type": "stream",
     "text": [
      "1999.0\n"
     ]
    }
   ],
   "source": [
    "# Range of voxel values (maximum value - minimum value)\n",
    "print(mri_1.ptp())"
   ]
  },
  {
   "cell_type": "code",
   "execution_count": 11,
   "id": "coastal-steering",
   "metadata": {},
   "outputs": [
    {
     "data": {
      "text/plain": [
       "106496128"
      ]
     },
     "execution_count": 11,
     "metadata": {},
     "output_type": "execute_result"
    }
   ],
   "source": [
    "getsizeof(mri_1) # 106.496128 MBs"
   ]
  },
  {
   "cell_type": "code",
   "execution_count": 12,
   "id": "egyptian-citizenship",
   "metadata": {},
   "outputs": [
    {
     "data": {
      "text/plain": [
       "53248128"
      ]
     },
     "execution_count": 12,
     "metadata": {},
     "output_type": "execute_result"
    }
   ],
   "source": [
    "getsizeof(mri_1.astype(np.float32)) # 53.248128 MBs"
   ]
  },
  {
   "cell_type": "code",
   "execution_count": 13,
   "id": "advised-complexity",
   "metadata": {},
   "outputs": [
    {
     "data": {
      "text/plain": [
       "26624128"
      ]
     },
     "execution_count": 13,
     "metadata": {},
     "output_type": "execute_result"
    }
   ],
   "source": [
    "getsizeof(mri_1.astype(np.float16)) # 26.624128 MBs"
   ]
  },
  {
   "cell_type": "markdown",
   "id": "shared-weight",
   "metadata": {},
   "source": [
    "#### Mask file"
   ]
  },
  {
   "cell_type": "code",
   "execution_count": 14,
   "id": "paperback-times",
   "metadata": {},
   "outputs": [],
   "source": [
    "mri_1_mask = nib.load(\"../../datasets/Task02_Heart/train/masks/la_003.nii.gz\")"
   ]
  },
  {
   "cell_type": "code",
   "execution_count": 15,
   "id": "every-advertising",
   "metadata": {},
   "outputs": [],
   "source": [
    "mri_1_mask = mri_1_mask.get_fdata()"
   ]
  },
  {
   "cell_type": "code",
   "execution_count": 16,
   "id": "blank-protocol",
   "metadata": {},
   "outputs": [
    {
     "data": {
      "text/plain": [
       "dtype('float64')"
      ]
     },
     "execution_count": 16,
     "metadata": {},
     "output_type": "execute_result"
    }
   ],
   "source": [
    "mri_1_mask.dtype"
   ]
  },
  {
   "cell_type": "code",
   "execution_count": 17,
   "id": "inside-spirituality",
   "metadata": {},
   "outputs": [
    {
     "data": {
      "text/plain": [
       "array([0., 1.])"
      ]
     },
     "execution_count": 17,
     "metadata": {},
     "output_type": "execute_result"
    }
   ],
   "source": [
    "np.unique(mri_1_mask)"
   ]
  },
  {
   "cell_type": "code",
   "execution_count": 18,
   "id": "million-judgment",
   "metadata": {},
   "outputs": [
    {
     "data": {
      "text/plain": [
       "(320, 320, 130)"
      ]
     },
     "execution_count": 18,
     "metadata": {},
     "output_type": "execute_result"
    }
   ],
   "source": [
    "mri_1_mask.shape"
   ]
  },
  {
   "cell_type": "code",
   "execution_count": 19,
   "id": "mathematical-hygiene",
   "metadata": {},
   "outputs": [
    {
     "data": {
      "text/plain": [
       "106496128"
      ]
     },
     "execution_count": 19,
     "metadata": {},
     "output_type": "execute_result"
    }
   ],
   "source": [
    "getsizeof(mri_1_mask) # 106.496128 MBs"
   ]
  },
  {
   "cell_type": "code",
   "execution_count": 20,
   "id": "mental-reynolds",
   "metadata": {},
   "outputs": [
    {
     "data": {
      "text/plain": [
       "53248128"
      ]
     },
     "execution_count": 20,
     "metadata": {},
     "output_type": "execute_result"
    }
   ],
   "source": [
    "getsizeof(mri_1_mask.astype(np.float32)) # 53.248128 MBs"
   ]
  },
  {
   "cell_type": "code",
   "execution_count": 21,
   "id": "local-broadway",
   "metadata": {},
   "outputs": [
    {
     "data": {
      "text/plain": [
       "13312128"
      ]
     },
     "execution_count": 21,
     "metadata": {},
     "output_type": "execute_result"
    }
   ],
   "source": [
    "getsizeof(mri_1_mask.astype(np.uint8)) # 13.312128 MBs"
   ]
  },
  {
   "cell_type": "code",
   "execution_count": 22,
   "id": "athletic-track",
   "metadata": {},
   "outputs": [],
   "source": [
    "mri_1_mask = mri_1_mask.astype(np.float32)"
   ]
  },
  {
   "cell_type": "markdown",
   "id": "outer-manor",
   "metadata": {},
   "source": [
    "### Visualizing nifti MRI file and Mask file"
   ]
  },
  {
   "cell_type": "code",
   "execution_count": 23,
   "id": "wrong-leader",
   "metadata": {
    "scrolled": true
   },
   "outputs": [
    {
     "data": {
      "application/vnd.jupyter.widget-view+json": {
       "model_id": "e6fb10b8018f41db86f497aa00af88d0",
       "version_major": 2,
       "version_minor": 0
      },
      "text/plain": [
       "interactive(children=(IntSlider(value=0, continuous_update=False, description='Select Layer', max=129), Output…"
      ]
     },
     "metadata": {},
     "output_type": "display_data"
    }
   ],
   "source": [
    "# Create layer slider\n",
    "select_layer = IntSlider(min=0, max=mri_1.shape[2] - 1, description='Select Layer', continuous_update=False)\n",
    "\n",
    "    \n",
    "# Define a function for plotting images\n",
    "def plot(layer):\n",
    "    print(f\"Plotting Layer: {layer}\")\n",
    "    fig = plt.figure(figsize=(20, 10))\n",
    "    \n",
    "    fig.add_subplot(1, 2, 1)\n",
    "    plt.imshow(mri_1[:, :, layer], cmap='gray');\n",
    "    plt.title(\"MRI\", fontsize=20)\n",
    "    plt.axis('off')\n",
    "    \n",
    "    fig.add_subplot(1, 2, 2)\n",
    "    plt.title(\"Mask\", fontsize=20)\n",
    "    plt.imshow(mri_1_mask[:, :, layer], cmap='gray');\n",
    "    plt.axis('off');\n",
    "\n",
    "    \n",
    "# Use the interactive() tool to create the visualization\n",
    "interactive(plot, layer=select_layer)"
   ]
  },
  {
   "cell_type": "markdown",
   "id": "damaged-audit",
   "metadata": {},
   "source": [
    "### Reading and visualizing LA_004 nifti MRI and mask files"
   ]
  },
  {
   "cell_type": "markdown",
   "id": "lovely-comment",
   "metadata": {},
   "source": [
    "#### MRI file"
   ]
  },
  {
   "cell_type": "code",
   "execution_count": 24,
   "id": "eligible-breeding",
   "metadata": {},
   "outputs": [],
   "source": [
    "mri_2 = nib.load(\"../../datasets/Task02_Heart/train/images/la_004.nii.gz\")"
   ]
  },
  {
   "cell_type": "code",
   "execution_count": 25,
   "id": "front-billy",
   "metadata": {},
   "outputs": [
    {
     "data": {
      "text/plain": [
       "nibabel.nifti1.Nifti1Image"
      ]
     },
     "execution_count": 25,
     "metadata": {},
     "output_type": "execute_result"
    }
   ],
   "source": [
    "type(mri_2)"
   ]
  },
  {
   "cell_type": "code",
   "execution_count": 26,
   "id": "excellent-restaurant",
   "metadata": {},
   "outputs": [],
   "source": [
    "# Read Nifi Image object as numpy file\n",
    "mri_2 = mri_2.get_fdata()"
   ]
  },
  {
   "cell_type": "code",
   "execution_count": 27,
   "id": "configured-niagara",
   "metadata": {
    "scrolled": true
   },
   "outputs": [
    {
     "data": {
      "text/plain": [
       "numpy.ndarray"
      ]
     },
     "execution_count": 27,
     "metadata": {},
     "output_type": "execute_result"
    }
   ],
   "source": [
    "type(mri_2)"
   ]
  },
  {
   "cell_type": "code",
   "execution_count": 28,
   "id": "electronic-reading",
   "metadata": {},
   "outputs": [
    {
     "data": {
      "text/plain": [
       "dtype('float64')"
      ]
     },
     "execution_count": 28,
     "metadata": {},
     "output_type": "execute_result"
    }
   ],
   "source": [
    "mri_2.dtype"
   ]
  },
  {
   "cell_type": "code",
   "execution_count": 29,
   "id": "alien-feelings",
   "metadata": {},
   "outputs": [
    {
     "data": {
      "text/plain": [
       "(320, 320, 110)"
      ]
     },
     "execution_count": 29,
     "metadata": {},
     "output_type": "execute_result"
    }
   ],
   "source": [
    "mri_2.shape"
   ]
  },
  {
   "cell_type": "code",
   "execution_count": 30,
   "id": "literary-samoa",
   "metadata": {},
   "outputs": [
    {
     "name": "stdout",
     "output_type": "stream",
     "text": [
      "1811.0\n"
     ]
    }
   ],
   "source": [
    "# Range of voxel values (maximum value - minimum value)\n",
    "print(mri_2.ptp())"
   ]
  },
  {
   "cell_type": "markdown",
   "id": "alpha-smell",
   "metadata": {},
   "source": [
    "#### Mask file"
   ]
  },
  {
   "cell_type": "code",
   "execution_count": 31,
   "id": "public-genetics",
   "metadata": {},
   "outputs": [],
   "source": [
    "mri_2_mask = nib.load(\"../../datasets/Task02_Heart/train/masks/la_004.nii.gz\")"
   ]
  },
  {
   "cell_type": "code",
   "execution_count": 32,
   "id": "typical-skiing",
   "metadata": {},
   "outputs": [],
   "source": [
    "mri_2_mask = mri_2_mask.get_fdata()"
   ]
  },
  {
   "cell_type": "code",
   "execution_count": 33,
   "id": "french-miami",
   "metadata": {},
   "outputs": [
    {
     "data": {
      "text/plain": [
       "dtype('float64')"
      ]
     },
     "execution_count": 33,
     "metadata": {},
     "output_type": "execute_result"
    }
   ],
   "source": [
    "mri_2_mask.dtype"
   ]
  },
  {
   "cell_type": "code",
   "execution_count": 34,
   "id": "declared-burner",
   "metadata": {},
   "outputs": [
    {
     "data": {
      "text/plain": [
       "array([0., 1.])"
      ]
     },
     "execution_count": 34,
     "metadata": {},
     "output_type": "execute_result"
    }
   ],
   "source": [
    "np.unique(mri_2_mask)"
   ]
  },
  {
   "cell_type": "code",
   "execution_count": 35,
   "id": "curious-communications",
   "metadata": {},
   "outputs": [
    {
     "data": {
      "text/plain": [
       "(320, 320, 110)"
      ]
     },
     "execution_count": 35,
     "metadata": {},
     "output_type": "execute_result"
    }
   ],
   "source": [
    "mri_2_mask.shape"
   ]
  },
  {
   "cell_type": "code",
   "execution_count": 36,
   "id": "registered-steal",
   "metadata": {},
   "outputs": [],
   "source": [
    "mri_2_mask = mri_2_mask.astype(np.float32)"
   ]
  },
  {
   "cell_type": "markdown",
   "id": "ecological-compound",
   "metadata": {},
   "source": [
    "### Visualizing nifti MRI file and Mask file"
   ]
  },
  {
   "cell_type": "code",
   "execution_count": 37,
   "id": "undefined-gossip",
   "metadata": {
    "scrolled": true
   },
   "outputs": [
    {
     "data": {
      "application/vnd.jupyter.widget-view+json": {
       "model_id": "c9eeab07311c461581258e4e725070ba",
       "version_major": 2,
       "version_minor": 0
      },
      "text/plain": [
       "interactive(children=(IntSlider(value=0, continuous_update=False, description='Select Layer', max=109), Output…"
      ]
     },
     "metadata": {},
     "output_type": "display_data"
    }
   ],
   "source": [
    "# Create layer slider\n",
    "select_layer = IntSlider(min=0, max=mri_2.shape[2] - 1, description='Select Layer', continuous_update=False)\n",
    "\n",
    "    \n",
    "# Define a function for plotting images\n",
    "def plot(layer):\n",
    "    print(f\"Plotting Layer: {layer}\")\n",
    "    fig = plt.figure(figsize=(20, 10))\n",
    "    \n",
    "    fig.add_subplot(1, 2, 1)\n",
    "    plt.imshow(mri_2[:, :, layer], cmap='gray');\n",
    "    plt.title(\"MRI\", fontsize=20)\n",
    "    plt.axis('off')\n",
    "    \n",
    "    fig.add_subplot(1, 2, 2)\n",
    "    plt.title(\"Mask\", fontsize=20)\n",
    "    plt.imshow(mri_2_mask[:, :, layer], cmap='gray');\n",
    "    plt.axis('off');\n",
    "\n",
    "    \n",
    "# Use the interactive() tool to create the visualization\n",
    "interactive(plot, layer=select_layer)"
   ]
  },
  {
   "cell_type": "markdown",
   "id": "bored-tulsa",
   "metadata": {},
   "source": [
    "### Reading and visualizing LA_005 nifti MRI and mask files"
   ]
  },
  {
   "cell_type": "markdown",
   "id": "persistent-desperate",
   "metadata": {},
   "source": [
    "#### MRI file"
   ]
  },
  {
   "cell_type": "code",
   "execution_count": 38,
   "id": "attached-conducting",
   "metadata": {},
   "outputs": [],
   "source": [
    "mri_3 = nib.load(\"../../datasets/Task02_Heart/train/images/la_005.nii.gz\")"
   ]
  },
  {
   "cell_type": "code",
   "execution_count": 39,
   "id": "sublime-break",
   "metadata": {},
   "outputs": [
    {
     "data": {
      "text/plain": [
       "nibabel.nifti1.Nifti1Image"
      ]
     },
     "execution_count": 39,
     "metadata": {},
     "output_type": "execute_result"
    }
   ],
   "source": [
    "type(mri_3)"
   ]
  },
  {
   "cell_type": "code",
   "execution_count": 40,
   "id": "expensive-miniature",
   "metadata": {},
   "outputs": [],
   "source": [
    "# Read Nifi Image object as numpy file\n",
    "mri_3 = mri_3.get_fdata()"
   ]
  },
  {
   "cell_type": "code",
   "execution_count": 41,
   "id": "communist-adaptation",
   "metadata": {
    "scrolled": true
   },
   "outputs": [
    {
     "data": {
      "text/plain": [
       "numpy.ndarray"
      ]
     },
     "execution_count": 41,
     "metadata": {},
     "output_type": "execute_result"
    }
   ],
   "source": [
    "type(mri_3)"
   ]
  },
  {
   "cell_type": "code",
   "execution_count": 42,
   "id": "talented-elements",
   "metadata": {},
   "outputs": [
    {
     "data": {
      "text/plain": [
       "dtype('float64')"
      ]
     },
     "execution_count": 42,
     "metadata": {},
     "output_type": "execute_result"
    }
   ],
   "source": [
    "mri_3.dtype"
   ]
  },
  {
   "cell_type": "code",
   "execution_count": 43,
   "id": "fatty-bonus",
   "metadata": {},
   "outputs": [
    {
     "data": {
      "text/plain": [
       "(320, 320, 120)"
      ]
     },
     "execution_count": 43,
     "metadata": {},
     "output_type": "execute_result"
    }
   ],
   "source": [
    "mri_3.shape"
   ]
  },
  {
   "cell_type": "code",
   "execution_count": 44,
   "id": "behind-reservoir",
   "metadata": {},
   "outputs": [
    {
     "name": "stdout",
     "output_type": "stream",
     "text": [
      "1888.0\n"
     ]
    }
   ],
   "source": [
    "# Range of voxel values (maximum value - minimum value)\n",
    "print(mri_3.ptp())"
   ]
  },
  {
   "cell_type": "markdown",
   "id": "impressed-portugal",
   "metadata": {},
   "source": [
    "#### Mask file"
   ]
  },
  {
   "cell_type": "code",
   "execution_count": 45,
   "id": "accurate-auckland",
   "metadata": {},
   "outputs": [],
   "source": [
    "mri_3_mask = nib.load(\"../../datasets/Task02_Heart/train/masks/la_005.nii.gz\")"
   ]
  },
  {
   "cell_type": "code",
   "execution_count": 46,
   "id": "provincial-belief",
   "metadata": {},
   "outputs": [],
   "source": [
    "mri_3_mask = mri_3_mask.get_fdata()"
   ]
  },
  {
   "cell_type": "code",
   "execution_count": 47,
   "id": "collected-jones",
   "metadata": {},
   "outputs": [
    {
     "data": {
      "text/plain": [
       "dtype('float64')"
      ]
     },
     "execution_count": 47,
     "metadata": {},
     "output_type": "execute_result"
    }
   ],
   "source": [
    "mri_3_mask.dtype"
   ]
  },
  {
   "cell_type": "code",
   "execution_count": 48,
   "id": "under-mobile",
   "metadata": {},
   "outputs": [
    {
     "data": {
      "text/plain": [
       "array([0., 1.])"
      ]
     },
     "execution_count": 48,
     "metadata": {},
     "output_type": "execute_result"
    }
   ],
   "source": [
    "np.unique(mri_3_mask)"
   ]
  },
  {
   "cell_type": "code",
   "execution_count": 49,
   "id": "viral-banks",
   "metadata": {},
   "outputs": [
    {
     "data": {
      "text/plain": [
       "(320, 320, 120)"
      ]
     },
     "execution_count": 49,
     "metadata": {},
     "output_type": "execute_result"
    }
   ],
   "source": [
    "mri_3_mask.shape"
   ]
  },
  {
   "cell_type": "code",
   "execution_count": 50,
   "id": "alive-masters",
   "metadata": {},
   "outputs": [],
   "source": [
    "mri_3_mask = mri_3_mask.astype(np.float32)"
   ]
  },
  {
   "cell_type": "markdown",
   "id": "excessive-bangkok",
   "metadata": {},
   "source": [
    "### Visualizing nifti MRI file and Mask file"
   ]
  },
  {
   "cell_type": "code",
   "execution_count": 51,
   "id": "approximate-screening",
   "metadata": {
    "scrolled": true
   },
   "outputs": [
    {
     "data": {
      "application/vnd.jupyter.widget-view+json": {
       "model_id": "43f26bae16384d8d9a6100dd8ecd88de",
       "version_major": 2,
       "version_minor": 0
      },
      "text/plain": [
       "interactive(children=(IntSlider(value=0, continuous_update=False, description='Select Layer', max=119), Output…"
      ]
     },
     "metadata": {},
     "output_type": "display_data"
    }
   ],
   "source": [
    "# Create layer slider\n",
    "select_layer = IntSlider(min=0, max=mri_3.shape[2] - 1, description='Select Layer', continuous_update=False)\n",
    "\n",
    "    \n",
    "# Define a function for plotting images\n",
    "def plot(layer):\n",
    "    print(f\"Plotting Layer: {layer}\")\n",
    "    fig = plt.figure(figsize=(20, 10))\n",
    "    \n",
    "    fig.add_subplot(1, 2, 1)\n",
    "    plt.imshow(mri_3[:, :, layer], cmap='gray');\n",
    "    plt.title(\"MRI\", fontsize=20)\n",
    "    plt.axis('off')\n",
    "    \n",
    "    fig.add_subplot(1, 2, 2)\n",
    "    plt.title(\"Mask\", fontsize=20)\n",
    "    plt.imshow(mri_3_mask[:, :, layer], cmap='gray');\n",
    "    plt.axis('off');\n",
    "\n",
    "    \n",
    "# Use the interactive() tool to create the visualization\n",
    "interactive(plot, layer=select_layer)"
   ]
  },
  {
   "cell_type": "markdown",
   "id": "rubber-practice",
   "metadata": {},
   "source": [
    "### Calculating MRI shape counter dictionary"
   ]
  },
  {
   "cell_type": "code",
   "execution_count": 52,
   "id": "seventh-payday",
   "metadata": {},
   "outputs": [
    {
     "name": "stderr",
     "output_type": "stream",
     "text": [
      "100%|██████████| 30/30 [00:06<00:00,  4.50it/s]\n"
     ]
    }
   ],
   "source": [
    "data_dir = \"../../datasets/Task02_Heart/\"\n",
    "\n",
    "train_mri_paths = [os.path.join(data_dir + \"train/images\", x) for x in os.listdir(data_dir + \"train/images\")]\n",
    "val_mri_paths = [os.path.join(data_dir + \"val/images\", x) for x in os.listdir(data_dir + \"val/images\")]\n",
    "test_mri_paths = [os.path.join(data_dir + \"test_images_for_model_prediction_submission\", x) for x in os.listdir(data_dir + \"test_images_for_model_prediction_submission\")]\n",
    "\n",
    "all_paths = train_mri_paths + val_mri_paths + test_mri_paths  # concatenate list of paths\n",
    "\n",
    "shape_count_dict = {}\n",
    "\n",
    "for path in tqdm(all_paths):\n",
    "    mri = nib.load(path).get_fdata()\n",
    "    shape = mri.shape\n",
    "    \n",
    "    if shape not in shape_count_dict.keys():\n",
    "        shape_count_dict[shape] = 1\n",
    "    else:\n",
    "        shape_count_dict[shape] += 1   "
   ]
  },
  {
   "cell_type": "code",
   "execution_count": 53,
   "id": "wanted-conservation",
   "metadata": {},
   "outputs": [
    {
     "name": "stdout",
     "output_type": "stream",
     "text": [
      "OrderedDict([((320, 320, 120), 9),\n",
      "             ((320, 320, 110), 7),\n",
      "             ((320, 320, 100), 5),\n",
      "             ((320, 320, 130), 2),\n",
      "             ((400, 400, 180), 2),\n",
      "             ((320, 320, 90), 1),\n",
      "             ((320, 320, 122), 1),\n",
      "             ((320, 320, 109), 1),\n",
      "             ((320, 320, 140), 1),\n",
      "             ((320, 320, 137), 1)])\n"
     ]
    }
   ],
   "source": [
    "shape_count_dict = OrderedDict(sorted(shape_count_dict.items(), key=lambda item: item[1], reverse=True))\n",
    "pprint(shape_count_dict)"
   ]
  },
  {
   "cell_type": "code",
   "execution_count": 54,
   "id": "surprised-gregory",
   "metadata": {},
   "outputs": [
    {
     "name": "stdout",
     "output_type": "stream",
     "text": [
      "123.8\n",
      "121.0\n",
      "90\n",
      "180\n"
     ]
    }
   ],
   "source": [
    "list_layers = []\n",
    "for key, val in shape_count_dict.items():\n",
    "    list_layers.append(key[2])\n",
    "\n",
    "layers = np.array(list_layers)\n",
    "print(layers.mean())\n",
    "print(np.median(layers))\n",
    "print(layers.min())\n",
    "print(layers.max())"
   ]
  },
  {
   "cell_type": "code",
   "execution_count": null,
   "id": "tough-louis",
   "metadata": {},
   "outputs": [],
   "source": []
  }
 ],
 "metadata": {
  "kernelspec": {
   "display_name": "Python 3",
   "language": "python",
   "name": "python3"
  },
  "language_info": {
   "codemirror_mode": {
    "name": "ipython",
    "version": 3
   },
   "file_extension": ".py",
   "mimetype": "text/x-python",
   "name": "python",
   "nbconvert_exporter": "python",
   "pygments_lexer": "ipython3",
   "version": "3.7.10"
  }
 },
 "nbformat": 4,
 "nbformat_minor": 5
}
