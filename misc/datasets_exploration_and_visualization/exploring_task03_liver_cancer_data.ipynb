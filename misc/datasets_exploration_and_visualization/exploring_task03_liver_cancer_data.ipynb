{
 "cells": [
  {
   "cell_type": "markdown",
   "id": "micro-major",
   "metadata": {},
   "source": [
    "__Note__: The code used here was heavily inspired by the AI for Medicine Specialization Course 1 Week three programming assignments: [link](https://www.coursera.org/learn/ai-for-medical-diagnosis)"
   ]
  },
  {
   "cell_type": "code",
   "execution_count": 1,
   "id": "attractive-operator",
   "metadata": {},
   "outputs": [],
   "source": [
    "import numpy as np\n",
    "import nibabel as nib\n",
    "import matplotlib.pyplot as plt\n",
    "import json\n",
    "import os\n",
    "from pprint import pprint\n",
    "from collections import OrderedDict\n",
    "from ipywidgets import interact, interactive, IntSlider, ToggleButtons\n",
    "from sys import getsizeof\n",
    "from tqdm import tqdm"
   ]
  },
  {
   "cell_type": "markdown",
   "id": "broadband-cisco",
   "metadata": {},
   "source": [
    "### Reading dataset description"
   ]
  },
  {
   "cell_type": "code",
   "execution_count": 2,
   "id": "modular-selling",
   "metadata": {},
   "outputs": [],
   "source": [
    "file = open('../datasets_descriptions_json/task03_liver_dataset.json')\n",
    "data_description = json.load(file)"
   ]
  },
  {
   "cell_type": "code",
   "execution_count": 3,
   "id": "convinced-occupation",
   "metadata": {},
   "outputs": [
    {
     "name": "stdout",
     "output_type": "stream",
     "text": [
      "{\n",
      "    \"name\": \"Liver\",\n",
      "    \"description\": \"Liver, and cancer segmentation\",\n",
      "    \"reference\": \"xxxx\",\n",
      "    \"licence\": \"CC-BY-SA 4.0\",\n",
      "    \"release\": \"1.0 04/05/2018\",\n",
      "    \"tensorImageSize\": \"3D\",\n",
      "    \"modality\": {\n",
      "        \"0\": \"CT\"\n",
      "    },\n",
      "    \"labels\": {\n",
      "        \"0\": \"background\",\n",
      "        \"1\": \"liver\",\n",
      "        \"2\": \"cancer\"\n",
      "    },\n",
      "    \"numTraining\": 131,\n",
      "    \"numTest\": 70,\n",
      "    \"training\": [\n",
      "        {\n",
      "            \"image\": \"./imagesTr/liver_14.nii.gz\",\n",
      "            \"label\": \"./labelsTr/liver_14.nii.gz\"\n",
      "        },\n",
      "        {\n",
      "            \"image\": \"./imagesTr/liver_69.nii.gz\",\n",
      "            \"label\": \"./labelsTr/liver_69.nii.gz\"\n",
      "        },\n",
      "        {\n",
      "            \"image\": \"./imagesTr/liver_77.nii.gz\",\n",
      "            \"label\": \"./labelsTr/liver_77.nii.gz\"\n",
      "        },\n",
      "        {\n",
      "            \"image\": \"./imagesTr/liver_120.nii.gz\",\n",
      "            \"label\": \"./labelsTr/liver_120.nii.gz\"\n",
      "        },\n",
      "        {\n",
      "            \"image\": \"./imagesTr/liver_18.nii.gz\",\n",
      "            \"label\": \"./labelsTr/liver_18.nii.gz\"\n",
      "        },\n",
      "        {\n",
      "            \"image\": \"./imagesTr/liver_65.nii.gz\",\n",
      "            \"label\": \"./labelsTr/liver_65.nii.gz\"\n",
      "        },\n",
      "        {\n",
      "            \"image\": \"./imagesTr/liver_30.nii.gz\",\n",
      "            \"label\": \"./labelsTr/liver_30.nii.gz\"\n",
      "        },\n",
      "        {\n",
      "            \"image\": \"./imagesTr/liver_116.nii.gz\",\n",
      "            \"label\": \"./labelsTr/liver_116.nii.gz\"\n",
      "        },\n",
      "        {\n",
      "            \"image\": \"./imagesTr/liver_108.nii.gz\",\n",
      "            \"label\": \"./labelsTr/liver_108.nii.gz\"\n",
      "        },\n",
      "        {\n",
      "            \"image\": \"./imagesTr/liver_53.nii.gz\",\n",
      "            \"label\": \"./labelsTr/liver_53.nii.gz\"\n",
      "        },\n",
      "        {\n",
      "            \"image\": \"./imagesTr/liver_22.nii.gz\",\n",
      "            \"label\": \"./labelsTr/liver_22.nii.gz\"\n",
      "        },\n",
      "        {\n",
      "            \"image\": \"./imagesTr/liver_104.nii.gz\",\n",
      "            \"label\": \"./labelsTr/liver_104.nii.gz\"\n",
      "        },\n",
      "        {\n",
      "            \"image\": \"./imagesTr/liver_41.nii.gz\",\n",
      "            \"label\": \"./labelsTr/liver_41.nii.gz\"\n",
      "        },\n",
      "        {\n",
      "            \"image\": \"./imagesTr/liver_96.nii.gz\",\n",
      "            \"label\": \"./labelsTr/liver_96.nii.gz\"\n",
      "        },\n",
      "        {\n",
      "            \"image\": \"./imagesTr/liver_88.nii.gz\",\n",
      "            \"label\": \"./labelsTr/liver_88.nii.gz\"\n",
      "        },\n",
      "        {\n",
      "            \"image\": \"./imagesTr/liver_84.nii.gz\",\n",
      "            \"label\": \"./labelsTr/liver_84.nii.gz\"\n",
      "        },\n",
      "        {\n",
      "            \"image\": \"./imagesTr/liver_1.nii.gz\",\n",
      "            \"label\": \"./labelsTr/liver_1.nii.gz\"\n",
      "        },\n",
      "        {\n",
      "            \"image\": \"./imagesTr/liver_98.nii.gz\",\n",
      "            \"label\": \"./labelsTr/liver_98.nii.gz\"\n",
      "        },\n",
      "        {\n",
      "            \"image\": \"./imagesTr/liver_86.nii.gz\",\n",
      "            \"label\": \"./labelsTr/liver_86.nii.gz\"\n",
      "        },\n",
      "        {\n",
      "            \"image\": \"./imagesTr/liver_94.nii.gz\",\n",
      "            \"label\": \"./labelsTr/liver_94.nii.gz\"\n",
      "        },\n",
      "        {\n",
      "            \"image\": \"./imagesTr/liver_3.nii.gz\",\n",
      "            \"label\": \"./labelsTr/liver_3.nii.gz\"\n",
      "        },\n",
      "        {\n",
      "            \"image\": \"./imagesTr/liver_67.nii.gz\",\n",
      "            \"label\": \"./labelsTr/liver_67.nii.gz\"\n",
      "        },\n",
      "        {\n",
      "            \"image\": \"./imagesTr/liver_122.nii.gz\",\n",
      "            \"label\": \"./labelsTr/liver_122.nii.gz\"\n",
      "        },\n",
      "        {\n",
      "            \"image\": \"./imagesTr/liver_79.nii.gz\",\n",
      "            \"label\": \"./labelsTr/liver_79.nii.gz\"\n",
      "        },\n",
      "        {\n",
      "            \"image\": \"./imagesTr/liver_75.nii.gz\",\n",
      "            \"label\": \"./labelsTr/liver_75.nii.gz\"\n",
      "        },\n",
      "        {\n",
      "            \"image\": \"./imagesTr/liver_16.nii.gz\",\n",
      "            \"label\": \"./labelsTr/liver_16.nii.gz\"\n",
      "        },\n",
      "        {\n",
      "            \"image\": \"./imagesTr/liver_130.nii.gz\",\n",
      "            \"label\": \"./labelsTr/liver_130.nii.gz\"\n",
      "        },\n",
      "        {\n",
      "            \"image\": \"./imagesTr/liver_118.nii.gz\",\n",
      "            \"label\": \"./labelsTr/liver_118.nii.gz\"\n",
      "        },\n",
      "        {\n",
      "            \"image\": \"./imagesTr/liver_43.nii.gz\",\n",
      "            \"label\": \"./labelsTr/liver_43.nii.gz\"\n",
      "        },\n",
      "        {\n",
      "            \"image\": \"./imagesTr/liver_106.nii.gz\",\n",
      "            \"label\": \"./labelsTr/liver_106.nii.gz\"\n",
      "        },\n",
      "        {\n",
      "            \"image\": \"./imagesTr/liver_20.nii.gz\",\n",
      "            \"label\": \"./labelsTr/liver_20.nii.gz\"\n",
      "        },\n",
      "        {\n",
      "            \"image\": \"./imagesTr/liver_51.nii.gz\",\n",
      "            \"label\": \"./labelsTr/liver_51.nii.gz\"\n",
      "        },\n",
      "        {\n",
      "            \"image\": \"./imagesTr/liver_114.nii.gz\",\n",
      "            \"label\": \"./labelsTr/liver_114.nii.gz\"\n",
      "        },\n",
      "        {\n",
      "            \"image\": \"./imagesTr/liver_32.nii.gz\",\n",
      "            \"label\": \"./labelsTr/liver_32.nii.gz\"\n",
      "        },\n",
      "        {\n",
      "            \"image\": \"./imagesTr/liver_7.nii.gz\",\n",
      "            \"label\": \"./labelsTr/liver_7.nii.gz\"\n",
      "        },\n",
      "        {\n",
      "            \"image\": \"./imagesTr/liver_90.nii.gz\",\n",
      "            \"label\": \"./labelsTr/liver_90.nii.gz\"\n",
      "        },\n",
      "        {\n",
      "            \"image\": \"./imagesTr/liver_82.nii.gz\",\n",
      "            \"label\": \"./labelsTr/liver_82.nii.gz\"\n",
      "        },\n",
      "        {\n",
      "            \"image\": \"./imagesTr/liver_55.nii.gz\",\n",
      "            \"label\": \"./labelsTr/liver_55.nii.gz\"\n",
      "        },\n",
      "        {\n",
      "            \"image\": \"./imagesTr/liver_28.nii.gz\",\n",
      "            \"label\": \"./labelsTr/liver_28.nii.gz\"\n",
      "        },\n",
      "        {\n",
      "            \"image\": \"./imagesTr/liver_110.nii.gz\",\n",
      "            \"label\": \"./labelsTr/liver_110.nii.gz\"\n",
      "        },\n",
      "        {\n",
      "            \"image\": \"./imagesTr/liver_36.nii.gz\",\n",
      "            \"label\": \"./labelsTr/liver_36.nii.gz\"\n",
      "        },\n",
      "        {\n",
      "            \"image\": \"./imagesTr/liver_47.nii.gz\",\n",
      "            \"label\": \"./labelsTr/liver_47.nii.gz\"\n",
      "        },\n",
      "        {\n",
      "            \"image\": \"./imagesTr/liver_59.nii.gz\",\n",
      "            \"label\": \"./labelsTr/liver_59.nii.gz\"\n",
      "        },\n",
      "        {\n",
      "            \"image\": \"./imagesTr/liver_102.nii.gz\",\n",
      "            \"label\": \"./labelsTr/liver_102.nii.gz\"\n",
      "        },\n",
      "        {\n",
      "            \"image\": \"./imagesTr/liver_24.nii.gz\",\n",
      "            \"label\": \"./labelsTr/liver_24.nii.gz\"\n",
      "        },\n",
      "        {\n",
      "            \"image\": \"./imagesTr/liver_71.nii.gz\",\n",
      "            \"label\": \"./labelsTr/liver_71.nii.gz\"\n",
      "        },\n",
      "        {\n",
      "            \"image\": \"./imagesTr/liver_12.nii.gz\",\n",
      "            \"label\": \"./labelsTr/liver_12.nii.gz\"\n",
      "        },\n",
      "        {\n",
      "            \"image\": \"./imagesTr/liver_63.nii.gz\",\n",
      "            \"label\": \"./labelsTr/liver_63.nii.gz\"\n",
      "        },\n",
      "        {\n",
      "            \"image\": \"./imagesTr/liver_126.nii.gz\",\n",
      "            \"label\": \"./labelsTr/liver_126.nii.gz\"\n",
      "        },\n",
      "        {\n",
      "            \"image\": \"./imagesTr/liver_26.nii.gz\",\n",
      "            \"label\": \"./labelsTr/liver_26.nii.gz\"\n",
      "        },\n",
      "        {\n",
      "            \"image\": \"./imagesTr/liver_100.nii.gz\",\n",
      "            \"label\": \"./labelsTr/liver_100.nii.gz\"\n",
      "        },\n",
      "        {\n",
      "            \"image\": \"./imagesTr/liver_45.nii.gz\",\n",
      "            \"label\": \"./labelsTr/liver_45.nii.gz\"\n",
      "        },\n",
      "        {\n",
      "            \"image\": \"./imagesTr/liver_38.nii.gz\",\n",
      "            \"label\": \"./labelsTr/liver_38.nii.gz\"\n",
      "        },\n",
      "        {\n",
      "            \"image\": \"./imagesTr/liver_49.nii.gz\",\n",
      "            \"label\": \"./labelsTr/liver_49.nii.gz\"\n",
      "        },\n",
      "        {\n",
      "            \"image\": \"./imagesTr/liver_34.nii.gz\",\n",
      "            \"label\": \"./labelsTr/liver_34.nii.gz\"\n",
      "        },\n",
      "        {\n",
      "            \"image\": \"./imagesTr/liver_112.nii.gz\",\n",
      "            \"label\": \"./labelsTr/liver_112.nii.gz\"\n",
      "        },\n",
      "        {\n",
      "            \"image\": \"./imagesTr/liver_57.nii.gz\",\n",
      "            \"label\": \"./labelsTr/liver_57.nii.gz\"\n",
      "        },\n",
      "        {\n",
      "            \"image\": \"./imagesTr/liver_124.nii.gz\",\n",
      "            \"label\": \"./labelsTr/liver_124.nii.gz\"\n",
      "        },\n",
      "        {\n",
      "            \"image\": \"./imagesTr/liver_61.nii.gz\",\n",
      "            \"label\": \"./labelsTr/liver_61.nii.gz\"\n",
      "        },\n",
      "        {\n",
      "            \"image\": \"./imagesTr/liver_10.nii.gz\",\n",
      "            \"label\": \"./labelsTr/liver_10.nii.gz\"\n",
      "        },\n",
      "        {\n",
      "            \"image\": \"./imagesTr/liver_73.nii.gz\",\n",
      "            \"label\": \"./labelsTr/liver_73.nii.gz\"\n",
      "        },\n",
      "        {\n",
      "            \"image\": \"./imagesTr/liver_128.nii.gz\",\n",
      "            \"label\": \"./labelsTr/liver_128.nii.gz\"\n",
      "        },\n",
      "        {\n",
      "            \"image\": \"./imagesTr/liver_9.nii.gz\",\n",
      "            \"label\": \"./labelsTr/liver_9.nii.gz\"\n",
      "        },\n",
      "        {\n",
      "            \"image\": \"./imagesTr/liver_5.nii.gz\",\n",
      "            \"label\": \"./labelsTr/liver_5.nii.gz\"\n",
      "        },\n",
      "        {\n",
      "            \"image\": \"./imagesTr/liver_80.nii.gz\",\n",
      "            \"label\": \"./labelsTr/liver_80.nii.gz\"\n",
      "        },\n",
      "        {\n",
      "            \"image\": \"./imagesTr/liver_92.nii.gz\",\n",
      "            \"label\": \"./labelsTr/liver_92.nii.gz\"\n",
      "        },\n",
      "        {\n",
      "            \"image\": \"./imagesTr/liver_0.nii.gz\",\n",
      "            \"label\": \"./labelsTr/liver_0.nii.gz\"\n",
      "        },\n",
      "        {\n",
      "            \"image\": \"./imagesTr/liver_89.nii.gz\",\n",
      "            \"label\": \"./labelsTr/liver_89.nii.gz\"\n",
      "        },\n",
      "        {\n",
      "            \"image\": \"./imagesTr/liver_97.nii.gz\",\n",
      "            \"label\": \"./labelsTr/liver_97.nii.gz\"\n",
      "        },\n",
      "        {\n",
      "            \"image\": \"./imagesTr/liver_85.nii.gz\",\n",
      "            \"label\": \"./labelsTr/liver_85.nii.gz\"\n",
      "        },\n",
      "        {\n",
      "            \"image\": \"./imagesTr/liver_52.nii.gz\",\n",
      "            \"label\": \"./labelsTr/liver_52.nii.gz\"\n",
      "        },\n",
      "        {\n",
      "            \"image\": \"./imagesTr/liver_109.nii.gz\",\n",
      "            \"label\": \"./labelsTr/liver_109.nii.gz\"\n",
      "        },\n",
      "        {\n",
      "            \"image\": \"./imagesTr/liver_31.nii.gz\",\n",
      "            \"label\": \"./labelsTr/liver_31.nii.gz\"\n",
      "        },\n",
      "        {\n",
      "            \"image\": \"./imagesTr/liver_117.nii.gz\",\n",
      "            \"label\": \"./labelsTr/liver_117.nii.gz\"\n",
      "        },\n",
      "        {\n",
      "            \"image\": \"./imagesTr/liver_40.nii.gz\",\n",
      "            \"label\": \"./labelsTr/liver_40.nii.gz\"\n",
      "        },\n",
      "        {\n",
      "            \"image\": \"./imagesTr/liver_23.nii.gz\",\n",
      "            \"label\": \"./labelsTr/liver_23.nii.gz\"\n",
      "        },\n",
      "        {\n",
      "            \"image\": \"./imagesTr/liver_105.nii.gz\",\n",
      "            \"label\": \"./labelsTr/liver_105.nii.gz\"\n",
      "        },\n",
      "        {\n",
      "            \"image\": \"./imagesTr/liver_76.nii.gz\",\n",
      "            \"label\": \"./labelsTr/liver_76.nii.gz\"\n",
      "        },\n",
      "        {\n",
      "            \"image\": \"./imagesTr/liver_68.nii.gz\",\n",
      "            \"label\": \"./labelsTr/liver_68.nii.gz\"\n",
      "        },\n",
      "        {\n",
      "            \"image\": \"./imagesTr/liver_15.nii.gz\",\n",
      "            \"label\": \"./labelsTr/liver_15.nii.gz\"\n",
      "        },\n",
      "        {\n",
      "            \"image\": \"./imagesTr/liver_64.nii.gz\",\n",
      "            \"label\": \"./labelsTr/liver_64.nii.gz\"\n",
      "        },\n",
      "        {\n",
      "            \"image\": \"./imagesTr/liver_19.nii.gz\",\n",
      "            \"label\": \"./labelsTr/liver_19.nii.gz\"\n",
      "        },\n",
      "        {\n",
      "            \"image\": \"./imagesTr/liver_121.nii.gz\",\n",
      "            \"label\": \"./labelsTr/liver_121.nii.gz\"\n",
      "        },\n",
      "        {\n",
      "            \"image\": \"./imagesTr/liver_107.nii.gz\",\n",
      "            \"label\": \"./labelsTr/liver_107.nii.gz\"\n",
      "        },\n",
      "        {\n",
      "            \"image\": \"./imagesTr/liver_21.nii.gz\",\n",
      "            \"label\": \"./labelsTr/liver_21.nii.gz\"\n",
      "        },\n",
      "        {\n",
      "            \"image\": \"./imagesTr/liver_42.nii.gz\",\n",
      "            \"label\": \"./labelsTr/liver_42.nii.gz\"\n",
      "        },\n",
      "        {\n",
      "            \"image\": \"./imagesTr/liver_119.nii.gz\",\n",
      "            \"label\": \"./labelsTr/liver_119.nii.gz\"\n",
      "        },\n",
      "        {\n",
      "            \"image\": \"./imagesTr/liver_115.nii.gz\",\n",
      "            \"label\": \"./labelsTr/liver_115.nii.gz\"\n",
      "        },\n",
      "        {\n",
      "            \"image\": \"./imagesTr/liver_33.nii.gz\",\n",
      "            \"label\": \"./labelsTr/liver_33.nii.gz\"\n",
      "        },\n",
      "        {\n",
      "            \"image\": \"./imagesTr/liver_50.nii.gz\",\n",
      "            \"label\": \"./labelsTr/liver_50.nii.gz\"\n",
      "        },\n",
      "        {\n",
      "            \"image\": \"./imagesTr/liver_78.nii.gz\",\n",
      "            \"label\": \"./labelsTr/liver_78.nii.gz\"\n",
      "        },\n",
      "        {\n",
      "            \"image\": \"./imagesTr/liver_123.nii.gz\",\n",
      "            \"label\": \"./labelsTr/liver_123.nii.gz\"\n",
      "        },\n",
      "        {\n",
      "            \"image\": \"./imagesTr/liver_66.nii.gz\",\n",
      "            \"label\": \"./labelsTr/liver_66.nii.gz\"\n",
      "        },\n",
      "        {\n",
      "            \"image\": \"./imagesTr/liver_17.nii.gz\",\n",
      "            \"label\": \"./labelsTr/liver_17.nii.gz\"\n",
      "        },\n",
      "        {\n",
      "            \"image\": \"./imagesTr/liver_74.nii.gz\",\n",
      "            \"label\": \"./labelsTr/liver_74.nii.gz\"\n",
      "        },\n",
      "        {\n",
      "            \"image\": \"./imagesTr/liver_2.nii.gz\",\n",
      "            \"label\": \"./labelsTr/liver_2.nii.gz\"\n",
      "        },\n",
      "        {\n",
      "            \"image\": \"./imagesTr/liver_87.nii.gz\",\n",
      "            \"label\": \"./labelsTr/liver_87.nii.gz\"\n",
      "        },\n",
      "        {\n",
      "            \"image\": \"./imagesTr/liver_99.nii.gz\",\n",
      "            \"label\": \"./labelsTr/liver_99.nii.gz\"\n",
      "        },\n",
      "        {\n",
      "            \"image\": \"./imagesTr/liver_95.nii.gz\",\n",
      "            \"label\": \"./labelsTr/liver_95.nii.gz\"\n",
      "        },\n",
      "        {\n",
      "            \"image\": \"./imagesTr/liver_13.nii.gz\",\n",
      "            \"label\": \"./labelsTr/liver_13.nii.gz\"\n",
      "        },\n",
      "        {\n",
      "            \"image\": \"./imagesTr/liver_70.nii.gz\",\n",
      "            \"label\": \"./labelsTr/liver_70.nii.gz\"\n",
      "        },\n",
      "        {\n",
      "            \"image\": \"./imagesTr/liver_127.nii.gz\",\n",
      "            \"label\": \"./labelsTr/liver_127.nii.gz\"\n",
      "        },\n",
      "        {\n",
      "            \"image\": \"./imagesTr/liver_62.nii.gz\",\n",
      "            \"label\": \"./labelsTr/liver_62.nii.gz\"\n",
      "        },\n",
      "        {\n",
      "            \"image\": \"./imagesTr/liver_111.nii.gz\",\n",
      "            \"label\": \"./labelsTr/liver_111.nii.gz\"\n",
      "        },\n",
      "        {\n",
      "            \"image\": \"./imagesTr/liver_37.nii.gz\",\n",
      "            \"label\": \"./labelsTr/liver_37.nii.gz\"\n",
      "        },\n",
      "        {\n",
      "            \"image\": \"./imagesTr/liver_29.nii.gz\",\n",
      "            \"label\": \"./labelsTr/liver_29.nii.gz\"\n",
      "        },\n",
      "        {\n",
      "            \"image\": \"./imagesTr/liver_54.nii.gz\",\n",
      "            \"label\": \"./labelsTr/liver_54.nii.gz\"\n",
      "        },\n",
      "        {\n",
      "            \"image\": \"./imagesTr/liver_103.nii.gz\",\n",
      "            \"label\": \"./labelsTr/liver_103.nii.gz\"\n",
      "        },\n",
      "        {\n",
      "            \"image\": \"./imagesTr/liver_25.nii.gz\",\n",
      "            \"label\": \"./labelsTr/liver_25.nii.gz\"\n",
      "        },\n",
      "        {\n",
      "            \"image\": \"./imagesTr/liver_58.nii.gz\",\n",
      "            \"label\": \"./labelsTr/liver_58.nii.gz\"\n",
      "        },\n",
      "        {\n",
      "            \"image\": \"./imagesTr/liver_46.nii.gz\",\n",
      "            \"label\": \"./labelsTr/liver_46.nii.gz\"\n",
      "        },\n",
      "        {\n",
      "            \"image\": \"./imagesTr/liver_91.nii.gz\",\n",
      "            \"label\": \"./labelsTr/liver_91.nii.gz\"\n",
      "        },\n",
      "        {\n",
      "            \"image\": \"./imagesTr/liver_83.nii.gz\",\n",
      "            \"label\": \"./labelsTr/liver_83.nii.gz\"\n",
      "        },\n",
      "        {\n",
      "            \"image\": \"./imagesTr/liver_6.nii.gz\",\n",
      "            \"label\": \"./labelsTr/liver_6.nii.gz\"\n",
      "        },\n",
      "        {\n",
      "            \"image\": \"./imagesTr/liver_81.nii.gz\",\n",
      "            \"label\": \"./labelsTr/liver_81.nii.gz\"\n",
      "        },\n",
      "        {\n",
      "            \"image\": \"./imagesTr/liver_93.nii.gz\",\n",
      "            \"label\": \"./labelsTr/liver_93.nii.gz\"\n",
      "        },\n",
      "        {\n",
      "            \"image\": \"./imagesTr/liver_8.nii.gz\",\n",
      "            \"label\": \"./labelsTr/liver_8.nii.gz\"\n",
      "        },\n",
      "        {\n",
      "            \"image\": \"./imagesTr/liver_4.nii.gz\",\n",
      "            \"label\": \"./labelsTr/liver_4.nii.gz\"\n",
      "        },\n",
      "        {\n",
      "            \"image\": \"./imagesTr/liver_60.nii.gz\",\n",
      "            \"label\": \"./labelsTr/liver_60.nii.gz\"\n",
      "        },\n",
      "        {\n",
      "            \"image\": \"./imagesTr/liver_125.nii.gz\",\n",
      "            \"label\": \"./labelsTr/liver_125.nii.gz\"\n",
      "        },\n",
      "        {\n",
      "            \"image\": \"./imagesTr/liver_129.nii.gz\",\n",
      "            \"label\": \"./labelsTr/liver_129.nii.gz\"\n",
      "        },\n",
      "        {\n",
      "            \"image\": \"./imagesTr/liver_72.nii.gz\",\n",
      "            \"label\": \"./labelsTr/liver_72.nii.gz\"\n",
      "        },\n",
      "        {\n",
      "            \"image\": \"./imagesTr/liver_11.nii.gz\",\n",
      "            \"label\": \"./labelsTr/liver_11.nii.gz\"\n",
      "        },\n",
      "        {\n",
      "            \"image\": \"./imagesTr/liver_39.nii.gz\",\n",
      "            \"label\": \"./labelsTr/liver_39.nii.gz\"\n",
      "        },\n",
      "        {\n",
      "            \"image\": \"./imagesTr/liver_44.nii.gz\",\n",
      "            \"label\": \"./labelsTr/liver_44.nii.gz\"\n",
      "        },\n",
      "        {\n",
      "            \"image\": \"./imagesTr/liver_27.nii.gz\",\n",
      "            \"label\": \"./labelsTr/liver_27.nii.gz\"\n",
      "        },\n",
      "        {\n",
      "            \"image\": \"./imagesTr/liver_101.nii.gz\",\n",
      "            \"label\": \"./labelsTr/liver_101.nii.gz\"\n",
      "        },\n",
      "        {\n",
      "            \"image\": \"./imagesTr/liver_56.nii.gz\",\n",
      "            \"label\": \"./labelsTr/liver_56.nii.gz\"\n",
      "        },\n",
      "        {\n",
      "            \"image\": \"./imagesTr/liver_35.nii.gz\",\n",
      "            \"label\": \"./labelsTr/liver_35.nii.gz\"\n",
      "        },\n",
      "        {\n",
      "            \"image\": \"./imagesTr/liver_113.nii.gz\",\n",
      "            \"label\": \"./labelsTr/liver_113.nii.gz\"\n",
      "        },\n",
      "        {\n",
      "            \"image\": \"./imagesTr/liver_48.nii.gz\",\n",
      "            \"label\": \"./labelsTr/liver_48.nii.gz\"\n",
      "        }\n",
      "    ],\n",
      "    \"test\": [\n",
      "        \"./imagesTs/liver_132.nii.gz\",\n",
      "        \"./imagesTs/liver_151.nii.gz\",\n",
      "        \"./imagesTs/liver_143.nii.gz\",\n",
      "        \"./imagesTs/liver_175.nii.gz\",\n",
      "        \"./imagesTs/liver_179.nii.gz\",\n",
      "        \"./imagesTs/liver_167.nii.gz\",\n",
      "        \"./imagesTs/liver_194.nii.gz\",\n",
      "        \"./imagesTs/liver_186.nii.gz\",\n",
      "        \"./imagesTs/liver_198.nii.gz\",\n",
      "        \"./imagesTs/liver_184.nii.gz\",\n",
      "        \"./imagesTs/liver_188.nii.gz\",\n",
      "        \"./imagesTs/liver_196.nii.gz\",\n",
      "        \"./imagesTs/liver_141.nii.gz\",\n",
      "        \"./imagesTs/liver_153.nii.gz\",\n",
      "        \"./imagesTs/liver_165.nii.gz\",\n",
      "        \"./imagesTs/liver_177.nii.gz\",\n",
      "        \"./imagesTs/liver_169.nii.gz\",\n",
      "        \"./imagesTs/liver_192.nii.gz\",\n",
      "        \"./imagesTs/liver_180.nii.gz\",\n",
      "        \"./imagesTs/liver_201.nii.gz\",\n",
      "        \"./imagesTs/liver_173.nii.gz\",\n",
      "        \"./imagesTs/liver_161.nii.gz\",\n",
      "        \"./imagesTs/liver_157.nii.gz\",\n",
      "        \"./imagesTs/liver_149.nii.gz\",\n",
      "        \"./imagesTs/liver_134.nii.gz\",\n",
      "        \"./imagesTs/liver_145.nii.gz\",\n",
      "        \"./imagesTs/liver_138.nii.gz\",\n",
      "        \"./imagesTs/liver_163.nii.gz\",\n",
      "        \"./imagesTs/liver_171.nii.gz\",\n",
      "        \"./imagesTs/liver_159.nii.gz\",\n",
      "        \"./imagesTs/liver_147.nii.gz\",\n",
      "        \"./imagesTs/liver_136.nii.gz\",\n",
      "        \"./imagesTs/liver_155.nii.gz\",\n",
      "        \"./imagesTs/liver_182.nii.gz\",\n",
      "        \"./imagesTs/liver_190.nii.gz\",\n",
      "        \"./imagesTs/liver_195.nii.gz\",\n",
      "        \"./imagesTs/liver_199.nii.gz\",\n",
      "        \"./imagesTs/liver_187.nii.gz\",\n",
      "        \"./imagesTs/liver_174.nii.gz\",\n",
      "        \"./imagesTs/liver_166.nii.gz\",\n",
      "        \"./imagesTs/liver_178.nii.gz\",\n",
      "        \"./imagesTs/liver_150.nii.gz\",\n",
      "        \"./imagesTs/liver_133.nii.gz\",\n",
      "        \"./imagesTs/liver_142.nii.gz\",\n",
      "        \"./imagesTs/liver_164.nii.gz\",\n",
      "        \"./imagesTs/liver_168.nii.gz\",\n",
      "        \"./imagesTs/liver_176.nii.gz\",\n",
      "        \"./imagesTs/liver_140.nii.gz\",\n",
      "        \"./imagesTs/liver_152.nii.gz\",\n",
      "        \"./imagesTs/liver_185.nii.gz\",\n",
      "        \"./imagesTs/liver_197.nii.gz\",\n",
      "        \"./imagesTs/liver_189.nii.gz\",\n",
      "        \"./imagesTs/liver_135.nii.gz\",\n",
      "        \"./imagesTs/liver_148.nii.gz\",\n",
      "        \"./imagesTs/liver_156.nii.gz\",\n",
      "        \"./imagesTs/liver_139.nii.gz\",\n",
      "        \"./imagesTs/liver_144.nii.gz\",\n",
      "        \"./imagesTs/liver_172.nii.gz\",\n",
      "        \"./imagesTs/liver_160.nii.gz\",\n",
      "        \"./imagesTs/liver_200.nii.gz\",\n",
      "        \"./imagesTs/liver_193.nii.gz\",\n",
      "        \"./imagesTs/liver_181.nii.gz\",\n",
      "        \"./imagesTs/liver_183.nii.gz\",\n",
      "        \"./imagesTs/liver_191.nii.gz\",\n",
      "        \"./imagesTs/liver_146.nii.gz\",\n",
      "        \"./imagesTs/liver_158.nii.gz\",\n",
      "        \"./imagesTs/liver_154.nii.gz\",\n",
      "        \"./imagesTs/liver_137.nii.gz\",\n",
      "        \"./imagesTs/liver_162.nii.gz\",\n",
      "        \"./imagesTs/liver_170.nii.gz\"\n",
      "    ]\n",
      "}\n"
     ]
    }
   ],
   "source": [
    "print(json.dumps(data_description, indent=4))"
   ]
  },
  {
   "cell_type": "markdown",
   "id": "revised-calgary",
   "metadata": {},
   "source": [
    "### Reading and visualizing Liver_0 nifti CT and mask files"
   ]
  },
  {
   "cell_type": "markdown",
   "id": "thirty-seattle",
   "metadata": {},
   "source": [
    "#### CT file"
   ]
  },
  {
   "cell_type": "code",
   "execution_count": 4,
   "id": "choice-softball",
   "metadata": {},
   "outputs": [],
   "source": [
    "ct_1 = nib.load(\"../../datasets/Task03_Liver/train/images/liver_0.nii.gz\")"
   ]
  },
  {
   "cell_type": "code",
   "execution_count": 5,
   "id": "received-fitting",
   "metadata": {},
   "outputs": [
    {
     "data": {
      "text/plain": [
       "nibabel.nifti1.Nifti1Image"
      ]
     },
     "execution_count": 5,
     "metadata": {},
     "output_type": "execute_result"
    }
   ],
   "source": [
    "type(ct_1)"
   ]
  },
  {
   "cell_type": "code",
   "execution_count": 6,
   "id": "personal-average",
   "metadata": {},
   "outputs": [],
   "source": [
    "# Read Nifi Image object as numpy file\n",
    "ct_1 = ct_1.get_fdata()"
   ]
  },
  {
   "cell_type": "code",
   "execution_count": 7,
   "id": "comparable-torture",
   "metadata": {},
   "outputs": [
    {
     "data": {
      "text/plain": [
       "numpy.ndarray"
      ]
     },
     "execution_count": 7,
     "metadata": {},
     "output_type": "execute_result"
    }
   ],
   "source": [
    "type(ct_1)"
   ]
  },
  {
   "cell_type": "code",
   "execution_count": 8,
   "id": "contained-occasions",
   "metadata": {},
   "outputs": [
    {
     "data": {
      "text/plain": [
       "dtype('float64')"
      ]
     },
     "execution_count": 8,
     "metadata": {},
     "output_type": "execute_result"
    }
   ],
   "source": [
    "ct_1.dtype"
   ]
  },
  {
   "cell_type": "code",
   "execution_count": 9,
   "id": "cooperative-blackjack",
   "metadata": {},
   "outputs": [
    {
     "data": {
      "text/plain": [
       "(512, 512, 75)"
      ]
     },
     "execution_count": 9,
     "metadata": {},
     "output_type": "execute_result"
    }
   ],
   "source": [
    "ct_1.shape"
   ]
  },
  {
   "cell_type": "code",
   "execution_count": 10,
   "id": "affected-disaster",
   "metadata": {},
   "outputs": [
    {
     "name": "stdout",
     "output_type": "stream",
     "text": [
      "2434.0\n"
     ]
    }
   ],
   "source": [
    "# Range of voxel values (maximum value - minimum value)\n",
    "print(ct_1[:, :, :].ptp())"
   ]
  },
  {
   "cell_type": "code",
   "execution_count": 11,
   "id": "coastal-steering",
   "metadata": {},
   "outputs": [
    {
     "data": {
      "text/plain": [
       "157286528"
      ]
     },
     "execution_count": 11,
     "metadata": {},
     "output_type": "execute_result"
    }
   ],
   "source": [
    "getsizeof(ct_1) # 157.286528 MBs"
   ]
  },
  {
   "cell_type": "code",
   "execution_count": 12,
   "id": "egyptian-citizenship",
   "metadata": {},
   "outputs": [
    {
     "data": {
      "text/plain": [
       "78643328"
      ]
     },
     "execution_count": 12,
     "metadata": {},
     "output_type": "execute_result"
    }
   ],
   "source": [
    "getsizeof(ct_1.astype(np.float32)) # 78.643328 MBs"
   ]
  },
  {
   "cell_type": "code",
   "execution_count": 13,
   "id": "advised-complexity",
   "metadata": {},
   "outputs": [
    {
     "data": {
      "text/plain": [
       "39321728"
      ]
     },
     "execution_count": 13,
     "metadata": {},
     "output_type": "execute_result"
    }
   ],
   "source": [
    "getsizeof(ct_1.astype(np.float16)) # 39.321728 MBs"
   ]
  },
  {
   "cell_type": "markdown",
   "id": "shared-weight",
   "metadata": {},
   "source": [
    "#### Mask file"
   ]
  },
  {
   "cell_type": "code",
   "execution_count": 14,
   "id": "paperback-times",
   "metadata": {},
   "outputs": [],
   "source": [
    "ct_1_mask = nib.load(\"../../datasets/Task03_Liver/train/masks/liver_0.nii.gz\")"
   ]
  },
  {
   "cell_type": "code",
   "execution_count": 15,
   "id": "every-advertising",
   "metadata": {},
   "outputs": [],
   "source": [
    "ct_1_mask = ct_1_mask.get_fdata()"
   ]
  },
  {
   "cell_type": "code",
   "execution_count": 16,
   "id": "blank-protocol",
   "metadata": {},
   "outputs": [
    {
     "data": {
      "text/plain": [
       "dtype('float64')"
      ]
     },
     "execution_count": 16,
     "metadata": {},
     "output_type": "execute_result"
    }
   ],
   "source": [
    "ct_1_mask.dtype"
   ]
  },
  {
   "cell_type": "code",
   "execution_count": 17,
   "id": "mathematical-hygiene",
   "metadata": {},
   "outputs": [
    {
     "data": {
      "text/plain": [
       "157286528"
      ]
     },
     "execution_count": 17,
     "metadata": {},
     "output_type": "execute_result"
    }
   ],
   "source": [
    "getsizeof(ct_1_mask) # 157.286528 MBs"
   ]
  },
  {
   "cell_type": "code",
   "execution_count": 18,
   "id": "mental-reynolds",
   "metadata": {
    "scrolled": true
   },
   "outputs": [
    {
     "data": {
      "text/plain": [
       "78643328"
      ]
     },
     "execution_count": 18,
     "metadata": {},
     "output_type": "execute_result"
    }
   ],
   "source": [
    "getsizeof(ct_1_mask.astype(np.float32)) # 35.712128 MBs"
   ]
  },
  {
   "cell_type": "code",
   "execution_count": 19,
   "id": "local-broadway",
   "metadata": {},
   "outputs": [
    {
     "data": {
      "text/plain": [
       "19660928"
      ]
     },
     "execution_count": 19,
     "metadata": {},
     "output_type": "execute_result"
    }
   ],
   "source": [
    "getsizeof(ct_1_mask.astype(np.uint8)) # 8.928128 MBs"
   ]
  },
  {
   "cell_type": "code",
   "execution_count": 20,
   "id": "athletic-track",
   "metadata": {},
   "outputs": [],
   "source": [
    "ct_1_mask = ct_1_mask.astype(np.float32)"
   ]
  },
  {
   "cell_type": "code",
   "execution_count": 21,
   "id": "realistic-interpretation",
   "metadata": {},
   "outputs": [
    {
     "data": {
      "text/plain": [
       "(512, 512, 75)"
      ]
     },
     "execution_count": 21,
     "metadata": {},
     "output_type": "execute_result"
    }
   ],
   "source": [
    "ct_1_mask.shape"
   ]
  },
  {
   "cell_type": "markdown",
   "id": "outer-manor",
   "metadata": {},
   "source": [
    "### Visualizing nifti CT file and Mask file"
   ]
  },
  {
   "cell_type": "code",
   "execution_count": 22,
   "id": "wrong-leader",
   "metadata": {},
   "outputs": [
    {
     "data": {
      "application/vnd.jupyter.widget-view+json": {
       "model_id": "99ac6cda0aa94233b8f228cab5df82d9",
       "version_major": 2,
       "version_minor": 0
      },
      "text/plain": [
       "interactive(children=(ToggleButtons(button_style='info', description='Select Class:', options=('Background', '…"
      ]
     },
     "metadata": {},
     "output_type": "display_data"
    }
   ],
   "source": [
    "classes_dict = {\n",
    "    'Background': 0,\n",
    "    'Liver': 1,\n",
    "    'Cancer': 2\n",
    "}\n",
    "\n",
    "# Create button values\n",
    "select_class = ToggleButtons(\n",
    "    options=['Background','Liver', 'Cancer', 'All'],\n",
    "    description='Select Class:',\n",
    "    disabled=False,\n",
    "    button_style='info', \n",
    "    \n",
    ")\n",
    "# Create layer slider\n",
    "select_layer = IntSlider(min=0, max=ct_1.shape[2] - 1, description='Select Layer', continuous_update=False)\n",
    "\n",
    "    \n",
    "# Define a function for plotting images\n",
    "def plot(seg_class, layer):\n",
    "    print(f\"Plotting Layer: {layer} | Label: {seg_class}\")\n",
    "    fig = plt.figure(figsize=(20, 10))\n",
    "    \n",
    "    fig.add_subplot(1, 2, 1)\n",
    "    plt.imshow(ct_1[:, :, layer], cmap='gray');\n",
    "    plt.title(\"ct\", fontsize=20)\n",
    "    plt.axis('off')\n",
    "    \n",
    "    fig.add_subplot(1, 2, 2)\n",
    "    if seg_class == \"All\":\n",
    "        mask = ct_1_mask[:, :, layer]\n",
    "        plt.title(\"Mask\", fontsize=20)\n",
    "        plt.imshow(mask)\n",
    "        plt.axis('off');\n",
    "    else:\n",
    "        img_label = classes_dict[seg_class]\n",
    "        mask = np.where(ct_1_mask[:, :, layer] == img_label, 255, 0)\n",
    "        plt.title(\"Mask\", fontsize=20)\n",
    "        plt.imshow(mask, cmap='gray')\n",
    "        plt.axis('off');\n",
    "\n",
    "# Use the interactive() tool to create the visualization\n",
    "interactive(plot, seg_class=select_class, layer=select_layer)"
   ]
  },
  {
   "cell_type": "markdown",
   "id": "previous-birth",
   "metadata": {},
   "source": [
    "### Reading and visualizing Liver_1 nifti CT and mask files"
   ]
  },
  {
   "cell_type": "markdown",
   "id": "affiliated-highlight",
   "metadata": {},
   "source": [
    "#### CT file"
   ]
  },
  {
   "cell_type": "code",
   "execution_count": 23,
   "id": "mechanical-teens",
   "metadata": {},
   "outputs": [],
   "source": [
    "ct_2 = nib.load(\"../../datasets/Task03_Liver/train/images/liver_1.nii.gz\")"
   ]
  },
  {
   "cell_type": "code",
   "execution_count": 24,
   "id": "express-astrology",
   "metadata": {},
   "outputs": [
    {
     "data": {
      "text/plain": [
       "nibabel.nifti1.Nifti1Image"
      ]
     },
     "execution_count": 24,
     "metadata": {},
     "output_type": "execute_result"
    }
   ],
   "source": [
    "type(ct_2)"
   ]
  },
  {
   "cell_type": "code",
   "execution_count": 25,
   "id": "independent-venezuela",
   "metadata": {},
   "outputs": [],
   "source": [
    "# Read Nifi Image object as numpy file\n",
    "ct_2 = ct_2.get_fdata()"
   ]
  },
  {
   "cell_type": "code",
   "execution_count": 26,
   "id": "caroline-background",
   "metadata": {},
   "outputs": [
    {
     "data": {
      "text/plain": [
       "numpy.ndarray"
      ]
     },
     "execution_count": 26,
     "metadata": {},
     "output_type": "execute_result"
    }
   ],
   "source": [
    "type(ct_2)"
   ]
  },
  {
   "cell_type": "code",
   "execution_count": 27,
   "id": "supposed-design",
   "metadata": {},
   "outputs": [
    {
     "data": {
      "text/plain": [
       "dtype('float64')"
      ]
     },
     "execution_count": 27,
     "metadata": {},
     "output_type": "execute_result"
    }
   ],
   "source": [
    "ct_2.dtype"
   ]
  },
  {
   "cell_type": "code",
   "execution_count": 28,
   "id": "liberal-lotus",
   "metadata": {},
   "outputs": [
    {
     "data": {
      "text/plain": [
       "(512, 512, 123)"
      ]
     },
     "execution_count": 28,
     "metadata": {},
     "output_type": "execute_result"
    }
   ],
   "source": [
    "ct_2.shape"
   ]
  },
  {
   "cell_type": "code",
   "execution_count": 29,
   "id": "through-roberts",
   "metadata": {},
   "outputs": [
    {
     "name": "stdout",
     "output_type": "stream",
     "text": [
      "4095.0\n"
     ]
    }
   ],
   "source": [
    "# Range of voxel values (maximum value - minimum value)\n",
    "print(ct_2[:, :, :].ptp())"
   ]
  },
  {
   "cell_type": "markdown",
   "id": "pending-representation",
   "metadata": {},
   "source": [
    "#### Mask file"
   ]
  },
  {
   "cell_type": "code",
   "execution_count": 30,
   "id": "unlimited-recommendation",
   "metadata": {},
   "outputs": [],
   "source": [
    "ct_2_mask = nib.load(\"../../datasets/Task03_Liver/train/masks/liver_1.nii.gz\")"
   ]
  },
  {
   "cell_type": "code",
   "execution_count": 31,
   "id": "sharp-private",
   "metadata": {},
   "outputs": [],
   "source": [
    "ct_2_mask = ct_2_mask.get_fdata()"
   ]
  },
  {
   "cell_type": "code",
   "execution_count": 32,
   "id": "cosmetic-dairy",
   "metadata": {},
   "outputs": [
    {
     "data": {
      "text/plain": [
       "dtype('float64')"
      ]
     },
     "execution_count": 32,
     "metadata": {},
     "output_type": "execute_result"
    }
   ],
   "source": [
    "ct_2_mask.dtype"
   ]
  },
  {
   "cell_type": "code",
   "execution_count": 33,
   "id": "tribal-search",
   "metadata": {},
   "outputs": [],
   "source": [
    "ct_2_mask = ct_2_mask.astype(np.float32)"
   ]
  },
  {
   "cell_type": "code",
   "execution_count": 34,
   "id": "canadian-elevation",
   "metadata": {},
   "outputs": [
    {
     "data": {
      "text/plain": [
       "(512, 512, 123)"
      ]
     },
     "execution_count": 34,
     "metadata": {},
     "output_type": "execute_result"
    }
   ],
   "source": [
    "ct_2_mask.shape"
   ]
  },
  {
   "cell_type": "markdown",
   "id": "dirty-terrain",
   "metadata": {},
   "source": [
    "### Visualizing nifti CT file and Mask file"
   ]
  },
  {
   "cell_type": "code",
   "execution_count": 35,
   "id": "capable-helen",
   "metadata": {},
   "outputs": [
    {
     "data": {
      "application/vnd.jupyter.widget-view+json": {
       "model_id": "0b1bf8da40ea46dd8df321b3e70deec6",
       "version_major": 2,
       "version_minor": 0
      },
      "text/plain": [
       "interactive(children=(ToggleButtons(button_style='info', description='Select Class:', options=('Background', '…"
      ]
     },
     "metadata": {},
     "output_type": "display_data"
    }
   ],
   "source": [
    "classes_dict = {\n",
    "    'Background': 0,\n",
    "    'Liver': 1,\n",
    "    'Cancer': 2\n",
    "}\n",
    "\n",
    "# Create button values\n",
    "select_class = ToggleButtons(\n",
    "    options=['Background','Liver', 'Cancer', 'All'],\n",
    "    description='Select Class:',\n",
    "    disabled=False,\n",
    "    button_style='info', \n",
    "    \n",
    ")\n",
    "# Create layer slider\n",
    "select_layer = IntSlider(min=0, max=ct_2.shape[2] - 1, description='Select Layer', continuous_update=False)\n",
    "\n",
    "    \n",
    "# Define a function for plotting images\n",
    "def plot(seg_class, layer):\n",
    "    print(f\"Plotting Layer: {layer} | Label: {seg_class}\")\n",
    "    fig = plt.figure(figsize=(20, 10))\n",
    "    \n",
    "    fig.add_subplot(1, 2, 1)\n",
    "    plt.imshow(ct_2[:, :, layer], cmap='gray');\n",
    "    plt.title(\"ct\", fontsize=20)\n",
    "    plt.axis('off')\n",
    "    \n",
    "    fig.add_subplot(1, 2, 2)\n",
    "    if seg_class == \"All\":\n",
    "        mask = ct_2_mask[:, :, layer]\n",
    "        plt.title(\"Mask\", fontsize=20)\n",
    "        plt.imshow(mask)\n",
    "        plt.axis('off');\n",
    "    else:\n",
    "        img_label = classes_dict[seg_class]\n",
    "        mask = np.where(ct_2_mask[:, :, layer] == img_label, 255, 0)\n",
    "        plt.title(\"Mask\", fontsize=20)\n",
    "        plt.imshow(mask, cmap='gray')\n",
    "        plt.axis('off');\n",
    "\n",
    "# Use the interactive() tool to create the visualization\n",
    "interactive(plot, seg_class=select_class, layer=select_layer)"
   ]
  },
  {
   "cell_type": "markdown",
   "id": "cellular-surname",
   "metadata": {},
   "source": [
    "### Reading and visualizing Liver_2 nifti CT and mask files"
   ]
  },
  {
   "cell_type": "markdown",
   "id": "funded-conditions",
   "metadata": {},
   "source": [
    "#### CT file"
   ]
  },
  {
   "cell_type": "code",
   "execution_count": 36,
   "id": "indirect-cosmetic",
   "metadata": {},
   "outputs": [],
   "source": [
    "ct_3 = nib.load(\"../../datasets/Task03_Liver/train/images/liver_2.nii.gz\")"
   ]
  },
  {
   "cell_type": "code",
   "execution_count": 37,
   "id": "differential-opposition",
   "metadata": {},
   "outputs": [
    {
     "data": {
      "text/plain": [
       "nibabel.nifti1.Nifti1Image"
      ]
     },
     "execution_count": 37,
     "metadata": {},
     "output_type": "execute_result"
    }
   ],
   "source": [
    "type(ct_3)"
   ]
  },
  {
   "cell_type": "code",
   "execution_count": 38,
   "id": "elder-alexander",
   "metadata": {},
   "outputs": [],
   "source": [
    "# Read Nifi Image object as numpy file\n",
    "ct_3 = ct_3.get_fdata()"
   ]
  },
  {
   "cell_type": "code",
   "execution_count": 39,
   "id": "elegant-attention",
   "metadata": {},
   "outputs": [
    {
     "data": {
      "text/plain": [
       "numpy.ndarray"
      ]
     },
     "execution_count": 39,
     "metadata": {},
     "output_type": "execute_result"
    }
   ],
   "source": [
    "type(ct_3)"
   ]
  },
  {
   "cell_type": "code",
   "execution_count": 40,
   "id": "charming-highland",
   "metadata": {},
   "outputs": [
    {
     "data": {
      "text/plain": [
       "dtype('float64')"
      ]
     },
     "execution_count": 40,
     "metadata": {},
     "output_type": "execute_result"
    }
   ],
   "source": [
    "ct_3.dtype"
   ]
  },
  {
   "cell_type": "code",
   "execution_count": 41,
   "id": "dominant-friendship",
   "metadata": {},
   "outputs": [
    {
     "data": {
      "text/plain": [
       "(512, 512, 517)"
      ]
     },
     "execution_count": 41,
     "metadata": {},
     "output_type": "execute_result"
    }
   ],
   "source": [
    "ct_3.shape"
   ]
  },
  {
   "cell_type": "code",
   "execution_count": 42,
   "id": "iraqi-latitude",
   "metadata": {},
   "outputs": [
    {
     "name": "stdout",
     "output_type": "stream",
     "text": [
      "4095.0\n"
     ]
    }
   ],
   "source": [
    "# Range of voxel values (maximum value - minimum value)\n",
    "print(ct_3[:, :, :].ptp())"
   ]
  },
  {
   "cell_type": "markdown",
   "id": "wooden-degree",
   "metadata": {},
   "source": [
    "#### Mask file"
   ]
  },
  {
   "cell_type": "code",
   "execution_count": 43,
   "id": "naked-grounds",
   "metadata": {},
   "outputs": [],
   "source": [
    "ct_3_mask = nib.load(\"../../datasets/Task03_Liver/train/masks/liver_2.nii.gz\")"
   ]
  },
  {
   "cell_type": "code",
   "execution_count": 44,
   "id": "committed-december",
   "metadata": {},
   "outputs": [],
   "source": [
    "ct_3_mask = ct_3_mask.get_fdata()"
   ]
  },
  {
   "cell_type": "code",
   "execution_count": 45,
   "id": "determined-lexington",
   "metadata": {},
   "outputs": [
    {
     "data": {
      "text/plain": [
       "dtype('float64')"
      ]
     },
     "execution_count": 45,
     "metadata": {},
     "output_type": "execute_result"
    }
   ],
   "source": [
    "ct_3_mask.dtype"
   ]
  },
  {
   "cell_type": "code",
   "execution_count": 46,
   "id": "systematic-scanning",
   "metadata": {},
   "outputs": [],
   "source": [
    "ct_3_mask = ct_3_mask.astype(np.float32)"
   ]
  },
  {
   "cell_type": "code",
   "execution_count": 47,
   "id": "empty-locking",
   "metadata": {},
   "outputs": [
    {
     "data": {
      "text/plain": [
       "(512, 512, 517)"
      ]
     },
     "execution_count": 47,
     "metadata": {},
     "output_type": "execute_result"
    }
   ],
   "source": [
    "ct_3_mask.shape"
   ]
  },
  {
   "cell_type": "markdown",
   "id": "naval-delight",
   "metadata": {},
   "source": [
    "### Visualizing nifti CT file and Mask file"
   ]
  },
  {
   "cell_type": "code",
   "execution_count": 48,
   "id": "geological-cocktail",
   "metadata": {},
   "outputs": [
    {
     "data": {
      "application/vnd.jupyter.widget-view+json": {
       "model_id": "b93e26b8df27410ea0aeb61af0f36d88",
       "version_major": 2,
       "version_minor": 0
      },
      "text/plain": [
       "interactive(children=(ToggleButtons(button_style='info', description='Select Class:', options=('Background', '…"
      ]
     },
     "metadata": {},
     "output_type": "display_data"
    }
   ],
   "source": [
    "classes_dict = {\n",
    "    'Background': 0,\n",
    "    'Liver': 1,\n",
    "    'Cancer': 2\n",
    "}\n",
    "\n",
    "# Create button values\n",
    "select_class = ToggleButtons(\n",
    "    options=['Background','Liver', 'Cancer', 'All'],\n",
    "    description='Select Class:',\n",
    "    disabled=False,\n",
    "    button_style='info', \n",
    "    \n",
    ")\n",
    "# Create layer slider\n",
    "select_layer = IntSlider(min=0, max=ct_3.shape[2] - 1, description='Select Layer', continuous_update=False)\n",
    "\n",
    "    \n",
    "# Define a function for plotting images\n",
    "def plot(seg_class, layer):\n",
    "    print(f\"Plotting Layer: {layer} | Label: {seg_class}\")\n",
    "    fig = plt.figure(figsize=(20, 10))\n",
    "    \n",
    "    fig.add_subplot(1, 2, 1)\n",
    "    plt.imshow(ct_3[:, :, layer], cmap='gray');\n",
    "    plt.title(\"ct\", fontsize=20)\n",
    "    plt.axis('off')\n",
    "    \n",
    "    fig.add_subplot(1, 2, 2)\n",
    "    if seg_class == \"All\":\n",
    "        mask = ct_3_mask[:, :, layer]\n",
    "        plt.title(\"Mask\", fontsize=20)\n",
    "        plt.imshow(mask)\n",
    "        plt.axis('off');\n",
    "    else:\n",
    "        img_label = classes_dict[seg_class]\n",
    "        mask = np.where(ct_3_mask[:, :, layer] == img_label, 255, 0)\n",
    "        plt.title(\"Mask\", fontsize=20)\n",
    "        plt.imshow(mask, cmap='gray')\n",
    "        plt.axis('off');\n",
    "\n",
    "# Use the interactive() tool to create the visualization\n",
    "interactive(plot, seg_class=select_class, layer=select_layer)"
   ]
  },
  {
   "cell_type": "markdown",
   "id": "located-nutrition",
   "metadata": {},
   "source": [
    "### Calculating CT shape counter dictionary"
   ]
  },
  {
   "cell_type": "code",
   "execution_count": 49,
   "id": "sufficient-basic",
   "metadata": {},
   "outputs": [
    {
     "name": "stderr",
     "output_type": "stream",
     "text": [
      "100%|██████████| 191/191 [05:58<00:00,  1.88s/it]\n"
     ]
    }
   ],
   "source": [
    "data_dir = \"../../datasets/Task03_Liver/\"\n",
    "\n",
    "train_mri_paths = [os.path.join(data_dir + \"train/images\", x) for x in os.listdir(data_dir + \"train/images\")]\n",
    "val_mri_paths = [os.path.join(data_dir + \"val/images\", x) for x in os.listdir(data_dir + \"val/images\")]\n",
    "test_mri_paths = [os.path.join(data_dir + \"test_images_for_model_prediction_submission\", x) for x in os.listdir(data_dir + \"test_images_for_model_prediction_submission\")]\n",
    "\n",
    "all_paths = train_mri_paths + val_mri_paths + test_mri_paths  # concatenate list of paths\n",
    "\n",
    "shape_count_dict = {}\n",
    "\n",
    "for path in tqdm(all_paths):\n",
    "    mri = nib.load(path).get_fdata()\n",
    "    shape = mri.shape\n",
    "    \n",
    "    if shape not in shape_count_dict.keys():\n",
    "        shape_count_dict[shape] = 1\n",
    "    else:\n",
    "        shape_count_dict[shape] += 1   "
   ]
  },
  {
   "cell_type": "code",
   "execution_count": 50,
   "id": "premium-adjustment",
   "metadata": {},
   "outputs": [
    {
     "name": "stdout",
     "output_type": "stream",
     "text": [
      "OrderedDict([((512, 512, 89), 4),\n",
      "             ((512, 512, 751), 3),\n",
      "             ((512, 512, 124), 3),\n",
      "             ((512, 512, 836), 3),\n",
      "             ((512, 512, 107), 2),\n",
      "             ((512, 512, 244), 2),\n",
      "             ((512, 512, 217), 2),\n",
      "             ((512, 512, 122), 2),\n",
      "             ((512, 512, 94), 2),\n",
      "             ((512, 512, 541), 2),\n",
      "             ((512, 512, 683), 2),\n",
      "             ((512, 512, 565), 2),\n",
      "             ((512, 512, 841), 2),\n",
      "             ((512, 512, 629), 2),\n",
      "             ((512, 512, 147), 2),\n",
      "             ((512, 512, 225), 2),\n",
      "             ((512, 512, 668), 2),\n",
      "             ((512, 512, 537), 2),\n",
      "             ((512, 512, 771), 2),\n",
      "             ((512, 512, 846), 2),\n",
      "             ((512, 512, 97), 2),\n",
      "             ((512, 512, 84), 2),\n",
      "             ((512, 512, 896), 1),\n",
      "             ((512, 512, 518), 1),\n",
      "             ((512, 512, 437), 1),\n",
      "             ((512, 512, 811), 1),\n",
      "             ((512, 512, 135), 1),\n",
      "             ((512, 512, 104), 1),\n",
      "             ((512, 512, 549), 1),\n",
      "             ((512, 512, 826), 1),\n",
      "             ((512, 512, 588), 1),\n",
      "             ((512, 512, 871), 1),\n",
      "             ((512, 512, 917), 1),\n",
      "             ((512, 512, 605), 1),\n",
      "             ((512, 512, 647), 1),\n",
      "             ((512, 512, 517), 1),\n",
      "             ((512, 512, 113), 1),\n",
      "             ((512, 512, 501), 1),\n",
      "             ((512, 512, 466), 1),\n",
      "             ((512, 512, 245), 1),\n",
      "             ((512, 512, 722), 1),\n",
      "             ((512, 512, 239), 1),\n",
      "             ((512, 512, 155), 1),\n",
      "             ((512, 512, 696), 1),\n",
      "             ((512, 512, 75), 1),\n",
      "             ((512, 512, 733), 1),\n",
      "             ((512, 512, 547), 1),\n",
      "             ((512, 512, 645), 1),\n",
      "             ((512, 512, 188), 1),\n",
      "             ((512, 512, 151), 1),\n",
      "             ((512, 512, 165), 1),\n",
      "             ((512, 512, 132), 1),\n",
      "             ((512, 512, 230), 1),\n",
      "             ((512, 512, 200), 1),\n",
      "             ((512, 512, 93), 1),\n",
      "             ((512, 512, 366), 1),\n",
      "             ((512, 512, 343), 1),\n",
      "             ((512, 512, 601), 1),\n",
      "             ((512, 512, 276), 1),\n",
      "             ((512, 512, 240), 1),\n",
      "             ((512, 512, 333), 1),\n",
      "             ((512, 512, 192), 1),\n",
      "             ((512, 512, 534), 1),\n",
      "             ((512, 512, 119), 1),\n",
      "             ((512, 512, 237), 1),\n",
      "             ((512, 512, 861), 1),\n",
      "             ((512, 512, 781), 1),\n",
      "             ((512, 512, 227), 1),\n",
      "             ((512, 512, 105), 1),\n",
      "             ((512, 512, 216), 1),\n",
      "             ((512, 512, 91), 1),\n",
      "             ((512, 512, 96), 1),\n",
      "             ((512, 512, 671), 1),\n",
      "             ((512, 512, 455), 1),\n",
      "             ((512, 512, 845), 1),\n",
      "             ((512, 512, 391), 1),\n",
      "             ((512, 512, 677), 1),\n",
      "             ((512, 512, 123), 1),\n",
      "             ((512, 512, 198), 1),\n",
      "             ((512, 512, 168), 1),\n",
      "             ((512, 512, 139), 1),\n",
      "             ((512, 512, 86), 1),\n",
      "             ((512, 512, 689), 1),\n",
      "             ((512, 512, 212), 1),\n",
      "             ((512, 512, 129), 1),\n",
      "             ((512, 512, 111), 1),\n",
      "             ((512, 512, 74), 1),\n",
      "             ((512, 512, 193), 1),\n",
      "             ((512, 512, 247), 1),\n",
      "             ((512, 512, 260), 1),\n",
      "             ((512, 512, 766), 1),\n",
      "             ((512, 512, 519), 1),\n",
      "             ((512, 512, 513), 1),\n",
      "             ((512, 512, 121), 1),\n",
      "             ((512, 512, 630), 1),\n",
      "             ((512, 512, 685), 1),\n",
      "             ((512, 512, 254), 1),\n",
      "             ((512, 512, 125), 1),\n",
      "             ((512, 512, 574), 1),\n",
      "             ((512, 512, 266), 1),\n",
      "             ((512, 512, 172), 1),\n",
      "             ((512, 512, 463), 1),\n",
      "             ((512, 512, 908), 1),\n",
      "             ((512, 512, 624), 1),\n",
      "             ((512, 512, 986), 1),\n",
      "             ((512, 512, 432), 1),\n",
      "             ((512, 512, 987), 1),\n",
      "             ((512, 512, 461), 1),\n",
      "             ((512, 512, 407), 1),\n",
      "             ((512, 512, 422), 1),\n",
      "             ((512, 512, 424), 1),\n",
      "             ((512, 512, 856), 1),\n",
      "             ((512, 512, 427), 1),\n",
      "             ((512, 512, 338), 1),\n",
      "             ((512, 512, 756), 1),\n",
      "             ((512, 512, 654), 1),\n",
      "             ((512, 512, 816), 1),\n",
      "             ((512, 512, 410), 1),\n",
      "             ((512, 512, 401), 1),\n",
      "             ((512, 512, 761), 1),\n",
      "             ((512, 512, 98), 1),\n",
      "             ((512, 512, 267), 1),\n",
      "             ((512, 512, 741), 1),\n",
      "             ((512, 512, 269), 1),\n",
      "             ((512, 512, 130), 1),\n",
      "             ((512, 512, 208), 1),\n",
      "             ((512, 512, 85), 1),\n",
      "             ((512, 512, 55), 1),\n",
      "             ((512, 512, 314), 1),\n",
      "             ((512, 512, 112), 1),\n",
      "             ((512, 512, 120), 1),\n",
      "             ((512, 512, 659), 1),\n",
      "             ((512, 79, 512), 1),\n",
      "             ((512, 512, 206), 1),\n",
      "             ((512, 512, 163), 1),\n",
      "             ((512, 512, 694), 1),\n",
      "             ((512, 512, 249), 1),\n",
      "             ((512, 512, 42), 1),\n",
      "             ((512, 512, 309), 1),\n",
      "             ((512, 512, 627), 1),\n",
      "             ((512, 512, 321), 1),\n",
      "             ((512, 512, 584), 1),\n",
      "             ((512, 512, 433), 1),\n",
      "             ((512, 512, 419), 1),\n",
      "             ((512, 512, 205), 1),\n",
      "             ((512, 512, 131), 1),\n",
      "             ((512, 512, 760), 1),\n",
      "             ((512, 512, 323), 1),\n",
      "             ((512, 512, 465), 1),\n",
      "             ((512, 512, 472), 1),\n",
      "             ((512, 512, 209), 1),\n",
      "             ((512, 512, 271), 1),\n",
      "             ((512, 512, 87), 1),\n",
      "             ((512, 512, 180), 1),\n",
      "             ((512, 512, 76), 1),\n",
      "             ((512, 512, 300), 1),\n",
      "             ((512, 512, 715), 1),\n",
      "             ((512, 512, 610), 1),\n",
      "             ((512, 512, 197), 1),\n",
      "             ((512, 512, 357), 1),\n",
      "             ((512, 512, 335), 1),\n",
      "             ((512, 512, 176), 1),\n",
      "             ((512, 512, 469), 1),\n",
      "             ((512, 512, 186), 1)])\n"
     ]
    }
   ],
   "source": [
    "shape_count_dict = OrderedDict(sorted(shape_count_dict.items(), key=lambda item: item[1], reverse=True))\n",
    "pprint(shape_count_dict)"
   ]
  },
  {
   "cell_type": "code",
   "execution_count": 51,
   "id": "preliminary-windsor",
   "metadata": {},
   "outputs": [
    {
     "name": "stdout",
     "output_type": "stream",
     "text": [
      "399.5121951219512\n",
      "336.5\n",
      "42\n",
      "987\n"
     ]
    }
   ],
   "source": [
    "list_layers = []\n",
    "for key, val in shape_count_dict.items():\n",
    "    list_layers.append(key[2])\n",
    "\n",
    "layers = np.array(list_layers)\n",
    "print(layers.mean())\n",
    "print(np.median(layers))\n",
    "print(layers.min())\n",
    "print(layers.max())"
   ]
  },
  {
   "cell_type": "code",
   "execution_count": null,
   "id": "executed-rating",
   "metadata": {},
   "outputs": [],
   "source": []
  }
 ],
 "metadata": {
  "kernelspec": {
   "display_name": "Python 3",
   "language": "python",
   "name": "python3"
  },
  "language_info": {
   "codemirror_mode": {
    "name": "ipython",
    "version": 3
   },
   "file_extension": ".py",
   "mimetype": "text/x-python",
   "name": "python",
   "nbconvert_exporter": "python",
   "pygments_lexer": "ipython3",
   "version": "3.7.10"
  }
 },
 "nbformat": 4,
 "nbformat_minor": 5
}
