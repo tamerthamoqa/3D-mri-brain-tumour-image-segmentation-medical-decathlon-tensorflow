{
 "cells": [
  {
   "cell_type": "markdown",
   "id": "micro-major",
   "metadata": {},
   "source": [
    "__Note__: The code used here was heavily inspired by the AI for Medicine Specialization Course 1 Week three programming assignments: [link](https://www.coursera.org/learn/ai-for-medical-diagnosis)"
   ]
  },
  {
   "cell_type": "code",
   "execution_count": 1,
   "id": "attractive-operator",
   "metadata": {},
   "outputs": [],
   "source": [
    "import numpy as np\n",
    "import nibabel as nib\n",
    "import matplotlib.pyplot as plt\n",
    "import json\n",
    "import os\n",
    "from pprint import pprint\n",
    "from collections import OrderedDict\n",
    "from ipywidgets import interact, interactive, IntSlider, ToggleButtons\n",
    "from sys import getsizeof\n",
    "from tqdm import tqdm"
   ]
  },
  {
   "cell_type": "markdown",
   "id": "broadband-cisco",
   "metadata": {},
   "source": [
    "### Reading dataset description"
   ]
  },
  {
   "cell_type": "code",
   "execution_count": 2,
   "id": "modular-selling",
   "metadata": {},
   "outputs": [],
   "source": [
    "file = open('../datasets_descriptions_json/task04_hippocampus_dataset.json')\n",
    "data_description = json.load(file)"
   ]
  },
  {
   "cell_type": "code",
   "execution_count": 3,
   "id": "convinced-occupation",
   "metadata": {},
   "outputs": [
    {
     "name": "stdout",
     "output_type": "stream",
     "text": [
      "{\n",
      "    \"name\": \"Hippocampus\",\n",
      "    \"description\": \"Left and right hippocampus segmentation\",\n",
      "    \"reference\": \" Vanderbilt University Medical Center\",\n",
      "    \"licence\": \"CC-BY-SA 4.0\",\n",
      "    \"relase\": \"1.0 04/05/2018\",\n",
      "    \"tensorImageSize\": \"3D\",\n",
      "    \"modality\": {\n",
      "        \"0\": \"MRI\"\n",
      "    },\n",
      "    \"labels\": {\n",
      "        \"0\": \"background\",\n",
      "        \"1\": \"Anterior\",\n",
      "        \"2\": \"Posterior\"\n",
      "    },\n",
      "    \"numTraining\": 260,\n",
      "    \"numTest\": 130,\n",
      "    \"training\": [\n",
      "        {\n",
      "            \"image\": \"./imagesTr/hippocampus_367.nii.gz\",\n",
      "            \"label\": \"./labelsTr/hippocampus_367.nii.gz\"\n",
      "        },\n",
      "        {\n",
      "            \"image\": \"./imagesTr/hippocampus_304.nii.gz\",\n",
      "            \"label\": \"./labelsTr/hippocampus_304.nii.gz\"\n",
      "        },\n",
      "        {\n",
      "            \"image\": \"./imagesTr/hippocampus_204.nii.gz\",\n",
      "            \"label\": \"./labelsTr/hippocampus_204.nii.gz\"\n",
      "        },\n",
      "        {\n",
      "            \"image\": \"./imagesTr/hippocampus_279.nii.gz\",\n",
      "            \"label\": \"./labelsTr/hippocampus_279.nii.gz\"\n",
      "        },\n",
      "        {\n",
      "            \"image\": \"./imagesTr/hippocampus_308.nii.gz\",\n",
      "            \"label\": \"./labelsTr/hippocampus_308.nii.gz\"\n",
      "        },\n",
      "        {\n",
      "            \"image\": \"./imagesTr/hippocampus_375.nii.gz\",\n",
      "            \"label\": \"./labelsTr/hippocampus_375.nii.gz\"\n",
      "        },\n",
      "        {\n",
      "            \"image\": \"./imagesTr/hippocampus_216.nii.gz\",\n",
      "            \"label\": \"./labelsTr/hippocampus_216.nii.gz\"\n",
      "        },\n",
      "        {\n",
      "            \"image\": \"./imagesTr/hippocampus_316.nii.gz\",\n",
      "            \"label\": \"./labelsTr/hippocampus_316.nii.gz\"\n",
      "        },\n",
      "        {\n",
      "            \"image\": \"./imagesTr/hippocampus_089.nii.gz\",\n",
      "            \"label\": \"./labelsTr/hippocampus_089.nii.gz\"\n",
      "        },\n",
      "        {\n",
      "            \"image\": \"./imagesTr/hippocampus_189.nii.gz\",\n",
      "            \"label\": \"./labelsTr/hippocampus_189.nii.gz\"\n",
      "        },\n",
      "        {\n",
      "            \"image\": \"./imagesTr/hippocampus_243.nii.gz\",\n",
      "            \"label\": \"./labelsTr/hippocampus_243.nii.gz\"\n",
      "        },\n",
      "        {\n",
      "            \"image\": \"./imagesTr/hippocampus_343.nii.gz\",\n",
      "            \"label\": \"./labelsTr/hippocampus_343.nii.gz\"\n",
      "        },\n",
      "        {\n",
      "            \"image\": \"./imagesTr/hippocampus_220.nii.gz\",\n",
      "            \"label\": \"./labelsTr/hippocampus_220.nii.gz\"\n",
      "        },\n",
      "        {\n",
      "            \"image\": \"./imagesTr/hippocampus_097.nii.gz\",\n",
      "            \"label\": \"./labelsTr/hippocampus_097.nii.gz\"\n",
      "        },\n",
      "        {\n",
      "            \"image\": \"./imagesTr/hippocampus_320.nii.gz\",\n",
      "            \"label\": \"./labelsTr/hippocampus_320.nii.gz\"\n",
      "        },\n",
      "        {\n",
      "            \"image\": \"./imagesTr/hippocampus_197.nii.gz\",\n",
      "            \"label\": \"./labelsTr/hippocampus_197.nii.gz\"\n",
      "        },\n",
      "        {\n",
      "            \"image\": \"./imagesTr/hippocampus_351.nii.gz\",\n",
      "            \"label\": \"./labelsTr/hippocampus_351.nii.gz\"\n",
      "        },\n",
      "        {\n",
      "            \"image\": \"./imagesTr/hippocampus_251.nii.gz\",\n",
      "            \"label\": \"./labelsTr/hippocampus_251.nii.gz\"\n",
      "        },\n",
      "        {\n",
      "            \"image\": \"./imagesTr/hippocampus_185.nii.gz\",\n",
      "            \"label\": \"./labelsTr/hippocampus_185.nii.gz\"\n",
      "        },\n",
      "        {\n",
      "            \"image\": \"./imagesTr/hippocampus_332.nii.gz\",\n",
      "            \"label\": \"./labelsTr/hippocampus_332.nii.gz\"\n",
      "        },\n",
      "        {\n",
      "            \"image\": \"./imagesTr/hippocampus_232.nii.gz\",\n",
      "            \"label\": \"./labelsTr/hippocampus_232.nii.gz\"\n",
      "        },\n",
      "        {\n",
      "            \"image\": \"./imagesTr/hippocampus_298.nii.gz\",\n",
      "            \"label\": \"./labelsTr/hippocampus_298.nii.gz\"\n",
      "        },\n",
      "        {\n",
      "            \"image\": \"./imagesTr/hippocampus_152.nii.gz\",\n",
      "            \"label\": \"./labelsTr/hippocampus_152.nii.gz\"\n",
      "        },\n",
      "        {\n",
      "            \"image\": \"./imagesTr/hippocampus_052.nii.gz\",\n",
      "            \"label\": \"./labelsTr/hippocampus_052.nii.gz\"\n",
      "        },\n",
      "        {\n",
      "            \"image\": \"./imagesTr/hippocampus_386.nii.gz\",\n",
      "            \"label\": \"./labelsTr/hippocampus_386.nii.gz\"\n",
      "        },\n",
      "        {\n",
      "            \"image\": \"./imagesTr/hippocampus_286.nii.gz\",\n",
      "            \"label\": \"./labelsTr/hippocampus_286.nii.gz\"\n",
      "        },\n",
      "        {\n",
      "            \"image\": \"./imagesTr/hippocampus_040.nii.gz\",\n",
      "            \"label\": \"./labelsTr/hippocampus_040.nii.gz\"\n",
      "        },\n",
      "        {\n",
      "            \"image\": \"./imagesTr/hippocampus_294.nii.gz\",\n",
      "            \"label\": \"./labelsTr/hippocampus_294.nii.gz\"\n",
      "        },\n",
      "        {\n",
      "            \"image\": \"./imagesTr/hippocampus_023.nii.gz\",\n",
      "            \"label\": \"./labelsTr/hippocampus_023.nii.gz\"\n",
      "        },\n",
      "        {\n",
      "            \"image\": \"./imagesTr/hippocampus_394.nii.gz\",\n",
      "            \"label\": \"./labelsTr/hippocampus_394.nii.gz\"\n",
      "        },\n",
      "        {\n",
      "            \"image\": \"./imagesTr/hippocampus_123.nii.gz\",\n",
      "            \"label\": \"./labelsTr/hippocampus_123.nii.gz\"\n",
      "        },\n",
      "        {\n",
      "            \"image\": \"./imagesTr/hippocampus_176.nii.gz\",\n",
      "            \"label\": \"./labelsTr/hippocampus_176.nii.gz\"\n",
      "        },\n",
      "        {\n",
      "            \"image\": \"./imagesTr/hippocampus_015.nii.gz\",\n",
      "            \"label\": \"./labelsTr/hippocampus_015.nii.gz\"\n",
      "        },\n",
      "        {\n",
      "            \"image\": \"./imagesTr/hippocampus_068.nii.gz\",\n",
      "            \"label\": \"./labelsTr/hippocampus_068.nii.gz\"\n",
      "        },\n",
      "        {\n",
      "            \"image\": \"./imagesTr/hippocampus_019.nii.gz\",\n",
      "            \"label\": \"./labelsTr/hippocampus_019.nii.gz\"\n",
      "        },\n",
      "        {\n",
      "            \"image\": \"./imagesTr/hippocampus_164.nii.gz\",\n",
      "            \"label\": \"./labelsTr/hippocampus_164.nii.gz\"\n",
      "        },\n",
      "        {\n",
      "            \"image\": \"./imagesTr/hippocampus_064.nii.gz\",\n",
      "            \"label\": \"./labelsTr/hippocampus_064.nii.gz\"\n",
      "        },\n",
      "        {\n",
      "            \"image\": \"./imagesTr/hippocampus_107.nii.gz\",\n",
      "            \"label\": \"./labelsTr/hippocampus_107.nii.gz\"\n",
      "        },\n",
      "        {\n",
      "            \"image\": \"./imagesTr/hippocampus_007.nii.gz\",\n",
      "            \"label\": \"./labelsTr/hippocampus_007.nii.gz\"\n",
      "        },\n",
      "        {\n",
      "            \"image\": \"./imagesTr/hippocampus_296.nii.gz\",\n",
      "            \"label\": \"./labelsTr/hippocampus_296.nii.gz\"\n",
      "        },\n",
      "        {\n",
      "            \"image\": \"./imagesTr/hippocampus_288.nii.gz\",\n",
      "            \"label\": \"./labelsTr/hippocampus_288.nii.gz\"\n",
      "        },\n",
      "        {\n",
      "            \"image\": \"./imagesTr/hippocampus_042.nii.gz\",\n",
      "            \"label\": \"./labelsTr/hippocampus_042.nii.gz\"\n",
      "        },\n",
      "        {\n",
      "            \"image\": \"./imagesTr/hippocampus_142.nii.gz\",\n",
      "            \"label\": \"./labelsTr/hippocampus_142.nii.gz\"\n",
      "        },\n",
      "        {\n",
      "            \"image\": \"./imagesTr/hippocampus_133.nii.gz\",\n",
      "            \"label\": \"./labelsTr/hippocampus_133.nii.gz\"\n",
      "        },\n",
      "        {\n",
      "            \"image\": \"./imagesTr/hippocampus_033.nii.gz\",\n",
      "            \"label\": \"./labelsTr/hippocampus_033.nii.gz\"\n",
      "        },\n",
      "        {\n",
      "            \"image\": \"./imagesTr/hippocampus_150.nii.gz\",\n",
      "            \"label\": \"./labelsTr/hippocampus_150.nii.gz\"\n",
      "        },\n",
      "        {\n",
      "            \"image\": \"./imagesTr/hippocampus_050.nii.gz\",\n",
      "            \"label\": \"./labelsTr/hippocampus_050.nii.gz\"\n",
      "        },\n",
      "        {\n",
      "            \"image\": \"./imagesTr/hippocampus_105.nii.gz\",\n",
      "            \"label\": \"./labelsTr/hippocampus_105.nii.gz\"\n",
      "        },\n",
      "        {\n",
      "            \"image\": \"./imagesTr/hippocampus_178.nii.gz\",\n",
      "            \"label\": \"./labelsTr/hippocampus_178.nii.gz\"\n",
      "        },\n",
      "        {\n",
      "            \"image\": \"./imagesTr/hippocampus_166.nii.gz\",\n",
      "            \"label\": \"./labelsTr/hippocampus_166.nii.gz\"\n",
      "        },\n",
      "        {\n",
      "            \"image\": \"./imagesTr/hippocampus_017.nii.gz\",\n",
      "            \"label\": \"./labelsTr/hippocampus_017.nii.gz\"\n",
      "        },\n",
      "        {\n",
      "            \"image\": \"./imagesTr/hippocampus_109.nii.gz\",\n",
      "            \"label\": \"./labelsTr/hippocampus_109.nii.gz\"\n",
      "        },\n",
      "        {\n",
      "            \"image\": \"./imagesTr/hippocampus_074.nii.gz\",\n",
      "            \"label\": \"./labelsTr/hippocampus_074.nii.gz\"\n",
      "        },\n",
      "        {\n",
      "            \"image\": \"./imagesTr/hippocampus_174.nii.gz\",\n",
      "            \"label\": \"./labelsTr/hippocampus_174.nii.gz\"\n",
      "        },\n",
      "        {\n",
      "            \"image\": \"./imagesTr/hippocampus_314.nii.gz\",\n",
      "            \"label\": \"./labelsTr/hippocampus_314.nii.gz\"\n",
      "        },\n",
      "        {\n",
      "            \"image\": \"./imagesTr/hippocampus_269.nii.gz\",\n",
      "            \"label\": \"./labelsTr/hippocampus_269.nii.gz\"\n",
      "        },\n",
      "        {\n",
      "            \"image\": \"./imagesTr/hippocampus_277.nii.gz\",\n",
      "            \"label\": \"./labelsTr/hippocampus_277.nii.gz\"\n",
      "        },\n",
      "        {\n",
      "            \"image\": \"./imagesTr/hippocampus_318.nii.gz\",\n",
      "            \"label\": \"./labelsTr/hippocampus_318.nii.gz\"\n",
      "        },\n",
      "        {\n",
      "            \"image\": \"./imagesTr/hippocampus_265.nii.gz\",\n",
      "            \"label\": \"./labelsTr/hippocampus_265.nii.gz\"\n",
      "        },\n",
      "        {\n",
      "            \"image\": \"./imagesTr/hippocampus_330.nii.gz\",\n",
      "            \"label\": \"./labelsTr/hippocampus_330.nii.gz\"\n",
      "        },\n",
      "        {\n",
      "            \"image\": \"./imagesTr/hippocampus_087.nii.gz\",\n",
      "            \"label\": \"./labelsTr/hippocampus_087.nii.gz\"\n",
      "        },\n",
      "        {\n",
      "            \"image\": \"./imagesTr/hippocampus_230.nii.gz\",\n",
      "            \"label\": \"./labelsTr/hippocampus_230.nii.gz\"\n",
      "        },\n",
      "        {\n",
      "            \"image\": \"./imagesTr/hippocampus_199.nii.gz\",\n",
      "            \"label\": \"./labelsTr/hippocampus_199.nii.gz\"\n",
      "        },\n",
      "        {\n",
      "            \"image\": \"./imagesTr/hippocampus_099.nii.gz\",\n",
      "            \"label\": \"./labelsTr/hippocampus_099.nii.gz\"\n",
      "        },\n",
      "        {\n",
      "            \"image\": \"./imagesTr/hippocampus_353.nii.gz\",\n",
      "            \"label\": \"./labelsTr/hippocampus_353.nii.gz\"\n",
      "        },\n",
      "        {\n",
      "            \"image\": \"./imagesTr/hippocampus_253.nii.gz\",\n",
      "            \"label\": \"./labelsTr/hippocampus_253.nii.gz\"\n",
      "        },\n",
      "        {\n",
      "            \"image\": \"./imagesTr/hippocampus_222.nii.gz\",\n",
      "            \"label\": \"./labelsTr/hippocampus_222.nii.gz\"\n",
      "        },\n",
      "        {\n",
      "            \"image\": \"./imagesTr/hippocampus_095.nii.gz\",\n",
      "            \"label\": \"./labelsTr/hippocampus_095.nii.gz\"\n",
      "        },\n",
      "        {\n",
      "            \"image\": \"./imagesTr/hippocampus_322.nii.gz\",\n",
      "            \"label\": \"./labelsTr/hippocampus_322.nii.gz\"\n",
      "        },\n",
      "        {\n",
      "            \"image\": \"./imagesTr/hippocampus_195.nii.gz\",\n",
      "            \"label\": \"./labelsTr/hippocampus_195.nii.gz\"\n",
      "        },\n",
      "        {\n",
      "            \"image\": \"./imagesTr/hippocampus_341.nii.gz\",\n",
      "            \"label\": \"./labelsTr/hippocampus_341.nii.gz\"\n",
      "        },\n",
      "        {\n",
      "            \"image\": \"./imagesTr/hippocampus_070.nii.gz\",\n",
      "            \"label\": \"./labelsTr/hippocampus_070.nii.gz\"\n",
      "        },\n",
      "        {\n",
      "            \"image\": \"./imagesTr/hippocampus_170.nii.gz\",\n",
      "            \"label\": \"./labelsTr/hippocampus_170.nii.gz\"\n",
      "        },\n",
      "        {\n",
      "            \"image\": \"./imagesTr/hippocampus_101.nii.gz\",\n",
      "            \"label\": \"./labelsTr/hippocampus_101.nii.gz\"\n",
      "        },\n",
      "        {\n",
      "            \"image\": \"./imagesTr/hippocampus_001.nii.gz\",\n",
      "            \"label\": \"./labelsTr/hippocampus_001.nii.gz\"\n",
      "        },\n",
      "        {\n",
      "            \"image\": \"./imagesTr/hippocampus_162.nii.gz\",\n",
      "            \"label\": \"./labelsTr/hippocampus_162.nii.gz\"\n",
      "        },\n",
      "        {\n",
      "            \"image\": \"./imagesTr/hippocampus_380.nii.gz\",\n",
      "            \"label\": \"./labelsTr/hippocampus_380.nii.gz\"\n",
      "        },\n",
      "        {\n",
      "            \"image\": \"./imagesTr/hippocampus_037.nii.gz\",\n",
      "            \"label\": \"./labelsTr/hippocampus_037.nii.gz\"\n",
      "        },\n",
      "        {\n",
      "            \"image\": \"./imagesTr/hippocampus_280.nii.gz\",\n",
      "            \"label\": \"./labelsTr/hippocampus_280.nii.gz\"\n",
      "        },\n",
      "        {\n",
      "            \"image\": \"./imagesTr/hippocampus_154.nii.gz\",\n",
      "            \"label\": \"./labelsTr/hippocampus_154.nii.gz\"\n",
      "        },\n",
      "        {\n",
      "            \"image\": \"./imagesTr/hippocampus_058.nii.gz\",\n",
      "            \"label\": \"./labelsTr/hippocampus_058.nii.gz\"\n",
      "        },\n",
      "        {\n",
      "            \"image\": \"./imagesTr/hippocampus_158.nii.gz\",\n",
      "            \"label\": \"./labelsTr/hippocampus_158.nii.gz\"\n",
      "        },\n",
      "        {\n",
      "            \"image\": \"./imagesTr/hippocampus_292.nii.gz\",\n",
      "            \"label\": \"./labelsTr/hippocampus_292.nii.gz\"\n",
      "        },\n",
      "        {\n",
      "            \"image\": \"./imagesTr/hippocampus_025.nii.gz\",\n",
      "            \"label\": \"./labelsTr/hippocampus_025.nii.gz\"\n",
      "        },\n",
      "        {\n",
      "            \"image\": \"./imagesTr/hippocampus_125.nii.gz\",\n",
      "            \"label\": \"./labelsTr/hippocampus_125.nii.gz\"\n",
      "        },\n",
      "        {\n",
      "            \"image\": \"./imagesTr/hippocampus_046.nii.gz\",\n",
      "            \"label\": \"./labelsTr/hippocampus_046.nii.gz\"\n",
      "        },\n",
      "        {\n",
      "            \"image\": \"./imagesTr/hippocampus_146.nii.gz\",\n",
      "            \"label\": \"./labelsTr/hippocampus_146.nii.gz\"\n",
      "        },\n",
      "        {\n",
      "            \"image\": \"./imagesTr/hippocampus_226.nii.gz\",\n",
      "            \"label\": \"./labelsTr/hippocampus_226.nii.gz\"\n",
      "        },\n",
      "        {\n",
      "            \"image\": \"./imagesTr/hippocampus_091.nii.gz\",\n",
      "            \"label\": \"./labelsTr/hippocampus_091.nii.gz\"\n",
      "        },\n",
      "        {\n",
      "            \"image\": \"./imagesTr/hippocampus_326.nii.gz\",\n",
      "            \"label\": \"./labelsTr/hippocampus_326.nii.gz\"\n",
      "        },\n",
      "        {\n",
      "            \"image\": \"./imagesTr/hippocampus_245.nii.gz\",\n",
      "            \"label\": \"./labelsTr/hippocampus_245.nii.gz\"\n",
      "        },\n",
      "        {\n",
      "            \"image\": \"./imagesTr/hippocampus_345.nii.gz\",\n",
      "            \"label\": \"./labelsTr/hippocampus_345.nii.gz\"\n",
      "        },\n",
      "        {\n",
      "            \"image\": \"./imagesTr/hippocampus_238.nii.gz\",\n",
      "            \"label\": \"./labelsTr/hippocampus_238.nii.gz\"\n",
      "        },\n",
      "        {\n",
      "            \"image\": \"./imagesTr/hippocampus_338.nii.gz\",\n",
      "            \"label\": \"./labelsTr/hippocampus_338.nii.gz\"\n",
      "        },\n",
      "        {\n",
      "            \"image\": \"./imagesTr/hippocampus_349.nii.gz\",\n",
      "            \"label\": \"./labelsTr/hippocampus_349.nii.gz\"\n",
      "        },\n",
      "        {\n",
      "            \"image\": \"./imagesTr/hippocampus_249.nii.gz\",\n",
      "            \"label\": \"./labelsTr/hippocampus_249.nii.gz\"\n",
      "        },\n",
      "        {\n",
      "            \"image\": \"./imagesTr/hippocampus_334.nii.gz\",\n",
      "            \"label\": \"./labelsTr/hippocampus_334.nii.gz\"\n",
      "        },\n",
      "        {\n",
      "            \"image\": \"./imagesTr/hippocampus_083.nii.gz\",\n",
      "            \"label\": \"./labelsTr/hippocampus_083.nii.gz\"\n",
      "        },\n",
      "        {\n",
      "            \"image\": \"./imagesTr/hippocampus_234.nii.gz\",\n",
      "            \"label\": \"./labelsTr/hippocampus_234.nii.gz\"\n",
      "        },\n",
      "        {\n",
      "            \"image\": \"./imagesTr/hippocampus_257.nii.gz\",\n",
      "            \"label\": \"./labelsTr/hippocampus_257.nii.gz\"\n",
      "        },\n",
      "        {\n",
      "            \"image\": \"./imagesTr/hippocampus_302.nii.gz\",\n",
      "            \"label\": \"./labelsTr/hippocampus_302.nii.gz\"\n",
      "        },\n",
      "        {\n",
      "            \"image\": \"./imagesTr/hippocampus_361.nii.gz\",\n",
      "            \"label\": \"./labelsTr/hippocampus_361.nii.gz\"\n",
      "        },\n",
      "        {\n",
      "            \"image\": \"./imagesTr/hippocampus_261.nii.gz\",\n",
      "            \"label\": \"./labelsTr/hippocampus_261.nii.gz\"\n",
      "        },\n",
      "        {\n",
      "            \"image\": \"./imagesTr/hippocampus_210.nii.gz\",\n",
      "            \"label\": \"./labelsTr/hippocampus_210.nii.gz\"\n",
      "        },\n",
      "        {\n",
      "            \"image\": \"./imagesTr/hippocampus_310.nii.gz\",\n",
      "            \"label\": \"./labelsTr/hippocampus_310.nii.gz\"\n",
      "        },\n",
      "        {\n",
      "            \"image\": \"./imagesTr/hippocampus_373.nii.gz\",\n",
      "            \"label\": \"./labelsTr/hippocampus_373.nii.gz\"\n",
      "        },\n",
      "        {\n",
      "            \"image\": \"./imagesTr/hippocampus_355.nii.gz\",\n",
      "            \"label\": \"./labelsTr/hippocampus_355.nii.gz\"\n",
      "        },\n",
      "        {\n",
      "            \"image\": \"./imagesTr/hippocampus_328.nii.gz\",\n",
      "            \"label\": \"./labelsTr/hippocampus_328.nii.gz\"\n",
      "        },\n",
      "        {\n",
      "            \"image\": \"./imagesTr/hippocampus_228.nii.gz\",\n",
      "            \"label\": \"./labelsTr/hippocampus_228.nii.gz\"\n",
      "        },\n",
      "        {\n",
      "            \"image\": \"./imagesTr/hippocampus_181.nii.gz\",\n",
      "            \"label\": \"./labelsTr/hippocampus_181.nii.gz\"\n",
      "        },\n",
      "        {\n",
      "            \"image\": \"./imagesTr/hippocampus_336.nii.gz\",\n",
      "            \"label\": \"./labelsTr/hippocampus_336.nii.gz\"\n",
      "        },\n",
      "        {\n",
      "            \"image\": \"./imagesTr/hippocampus_236.nii.gz\",\n",
      "            \"label\": \"./labelsTr/hippocampus_236.nii.gz\"\n",
      "        },\n",
      "        {\n",
      "            \"image\": \"./imagesTr/hippocampus_259.nii.gz\",\n",
      "            \"label\": \"./labelsTr/hippocampus_259.nii.gz\"\n",
      "        },\n",
      "        {\n",
      "            \"image\": \"./imagesTr/hippocampus_359.nii.gz\",\n",
      "            \"label\": \"./labelsTr/hippocampus_359.nii.gz\"\n",
      "        },\n",
      "        {\n",
      "            \"image\": \"./imagesTr/hippocampus_224.nii.gz\",\n",
      "            \"label\": \"./labelsTr/hippocampus_224.nii.gz\"\n",
      "        },\n",
      "        {\n",
      "            \"image\": \"./imagesTr/hippocampus_093.nii.gz\",\n",
      "            \"label\": \"./labelsTr/hippocampus_093.nii.gz\"\n",
      "        },\n",
      "        {\n",
      "            \"image\": \"./imagesTr/hippocampus_193.nii.gz\",\n",
      "            \"label\": \"./labelsTr/hippocampus_193.nii.gz\"\n",
      "        },\n",
      "        {\n",
      "            \"image\": \"./imagesTr/hippocampus_212.nii.gz\",\n",
      "            \"label\": \"./labelsTr/hippocampus_212.nii.gz\"\n",
      "        },\n",
      "        {\n",
      "            \"image\": \"./imagesTr/hippocampus_363.nii.gz\",\n",
      "            \"label\": \"./labelsTr/hippocampus_363.nii.gz\"\n",
      "        },\n",
      "        {\n",
      "            \"image\": \"./imagesTr/hippocampus_263.nii.gz\",\n",
      "            \"label\": \"./labelsTr/hippocampus_263.nii.gz\"\n",
      "        },\n",
      "        {\n",
      "            \"image\": \"./imagesTr/hippocampus_300.nii.gz\",\n",
      "            \"label\": \"./labelsTr/hippocampus_300.nii.gz\"\n",
      "        },\n",
      "        {\n",
      "            \"image\": \"./imagesTr/hippocampus_160.nii.gz\",\n",
      "            \"label\": \"./labelsTr/hippocampus_160.nii.gz\"\n",
      "        },\n",
      "        {\n",
      "            \"image\": \"./imagesTr/hippocampus_060.nii.gz\",\n",
      "            \"label\": \"./labelsTr/hippocampus_060.nii.gz\"\n",
      "        },\n",
      "        {\n",
      "            \"image\": \"./imagesTr/hippocampus_003.nii.gz\",\n",
      "            \"label\": \"./labelsTr/hippocampus_003.nii.gz\"\n",
      "        },\n",
      "        {\n",
      "            \"image\": \"./imagesTr/hippocampus_172.nii.gz\",\n",
      "            \"label\": \"./labelsTr/hippocampus_172.nii.gz\"\n",
      "        },\n",
      "        {\n",
      "            \"image\": \"./imagesTr/hippocampus_011.nii.gz\",\n",
      "            \"label\": \"./labelsTr/hippocampus_011.nii.gz\"\n",
      "        },\n",
      "        {\n",
      "            \"image\": \"./imagesTr/hippocampus_044.nii.gz\",\n",
      "            \"label\": \"./labelsTr/hippocampus_044.nii.gz\"\n",
      "        },\n",
      "        {\n",
      "            \"image\": \"./imagesTr/hippocampus_144.nii.gz\",\n",
      "            \"label\": \"./labelsTr/hippocampus_144.nii.gz\"\n",
      "        },\n",
      "        {\n",
      "            \"image\": \"./imagesTr/hippocampus_039.nii.gz\",\n",
      "            \"label\": \"./labelsTr/hippocampus_039.nii.gz\"\n",
      "        },\n",
      "        {\n",
      "            \"image\": \"./imagesTr/hippocampus_290.nii.gz\",\n",
      "            \"label\": \"./labelsTr/hippocampus_290.nii.gz\"\n",
      "        },\n",
      "        {\n",
      "            \"image\": \"./imagesTr/hippocampus_390.nii.gz\",\n",
      "            \"label\": \"./labelsTr/hippocampus_390.nii.gz\"\n",
      "        },\n",
      "        {\n",
      "            \"image\": \"./imagesTr/hippocampus_127.nii.gz\",\n",
      "            \"label\": \"./labelsTr/hippocampus_127.nii.gz\"\n",
      "        },\n",
      "        {\n",
      "            \"image\": \"./imagesTr/hippocampus_156.nii.gz\",\n",
      "            \"label\": \"./labelsTr/hippocampus_156.nii.gz\"\n",
      "        },\n",
      "        {\n",
      "            \"image\": \"./imagesTr/hippocampus_056.nii.gz\",\n",
      "            \"label\": \"./labelsTr/hippocampus_056.nii.gz\"\n",
      "        },\n",
      "        {\n",
      "            \"image\": \"./imagesTr/hippocampus_148.nii.gz\",\n",
      "            \"label\": \"./labelsTr/hippocampus_148.nii.gz\"\n",
      "        },\n",
      "        {\n",
      "            \"image\": \"./imagesTr/hippocampus_048.nii.gz\",\n",
      "            \"label\": \"./labelsTr/hippocampus_048.nii.gz\"\n",
      "        },\n",
      "        {\n",
      "            \"image\": \"./imagesTr/hippocampus_135.nii.gz\",\n",
      "            \"label\": \"./labelsTr/hippocampus_135.nii.gz\"\n",
      "        },\n",
      "        {\n",
      "            \"image\": \"./imagesTr/hippocampus_035.nii.gz\",\n",
      "            \"label\": \"./labelsTr/hippocampus_035.nii.gz\"\n",
      "        },\n",
      "        {\n",
      "            \"image\": \"./imagesTr/hippocampus_282.nii.gz\",\n",
      "            \"label\": \"./labelsTr/hippocampus_282.nii.gz\"\n",
      "        },\n",
      "        {\n",
      "            \"image\": \"./imagesTr/hippocampus_169.nii.gz\",\n",
      "            \"label\": \"./labelsTr/hippocampus_169.nii.gz\"\n",
      "        },\n",
      "        {\n",
      "            \"image\": \"./imagesTr/hippocampus_114.nii.gz\",\n",
      "            \"label\": \"./labelsTr/hippocampus_114.nii.gz\"\n",
      "        },\n",
      "        {\n",
      "            \"image\": \"./imagesTr/hippocampus_014.nii.gz\",\n",
      "            \"label\": \"./labelsTr/hippocampus_014.nii.gz\"\n",
      "        },\n",
      "        {\n",
      "            \"image\": \"./imagesTr/hippocampus_177.nii.gz\",\n",
      "            \"label\": \"./labelsTr/hippocampus_177.nii.gz\"\n",
      "        },\n",
      "        {\n",
      "            \"image\": \"./imagesTr/hippocampus_077.nii.gz\",\n",
      "            \"label\": \"./labelsTr/hippocampus_077.nii.gz\"\n",
      "        },\n",
      "        {\n",
      "            \"image\": \"./imagesTr/hippocampus_006.nii.gz\",\n",
      "            \"label\": \"./labelsTr/hippocampus_006.nii.gz\"\n",
      "        },\n",
      "        {\n",
      "            \"image\": \"./imagesTr/hippocampus_106.nii.gz\",\n",
      "            \"label\": \"./labelsTr/hippocampus_106.nii.gz\"\n",
      "        },\n",
      "        {\n",
      "            \"image\": \"./imagesTr/hippocampus_065.nii.gz\",\n",
      "            \"label\": \"./labelsTr/hippocampus_065.nii.gz\"\n",
      "        },\n",
      "        {\n",
      "            \"image\": \"./imagesTr/hippocampus_165.nii.gz\",\n",
      "            \"label\": \"./labelsTr/hippocampus_165.nii.gz\"\n",
      "        },\n",
      "        {\n",
      "            \"image\": \"./imagesTr/hippocampus_287.nii.gz\",\n",
      "            \"label\": \"./labelsTr/hippocampus_287.nii.gz\"\n",
      "        },\n",
      "        {\n",
      "            \"image\": \"./imagesTr/hippocampus_130.nii.gz\",\n",
      "            \"label\": \"./labelsTr/hippocampus_130.nii.gz\"\n",
      "        },\n",
      "        {\n",
      "            \"image\": \"./imagesTr/hippocampus_387.nii.gz\",\n",
      "            \"label\": \"./labelsTr/hippocampus_387.nii.gz\"\n",
      "        },\n",
      "        {\n",
      "            \"image\": \"./imagesTr/hippocampus_053.nii.gz\",\n",
      "            \"label\": \"./labelsTr/hippocampus_053.nii.gz\"\n",
      "        },\n",
      "        {\n",
      "            \"image\": \"./imagesTr/hippocampus_299.nii.gz\",\n",
      "            \"label\": \"./labelsTr/hippocampus_299.nii.gz\"\n",
      "        },\n",
      "        {\n",
      "            \"image\": \"./imagesTr/hippocampus_295.nii.gz\",\n",
      "            \"label\": \"./labelsTr/hippocampus_295.nii.gz\"\n",
      "        },\n",
      "        {\n",
      "            \"image\": \"./imagesTr/hippocampus_141.nii.gz\",\n",
      "            \"label\": \"./labelsTr/hippocampus_141.nii.gz\"\n",
      "        },\n",
      "        {\n",
      "            \"image\": \"./imagesTr/hippocampus_041.nii.gz\",\n",
      "            \"label\": \"./labelsTr/hippocampus_041.nii.gz\"\n",
      "        },\n",
      "        {\n",
      "            \"image\": \"./imagesTr/hippocampus_321.nii.gz\",\n",
      "            \"label\": \"./labelsTr/hippocampus_321.nii.gz\"\n",
      "        },\n",
      "        {\n",
      "            \"image\": \"./imagesTr/hippocampus_221.nii.gz\",\n",
      "            \"label\": \"./labelsTr/hippocampus_221.nii.gz\"\n",
      "        },\n",
      "        {\n",
      "            \"image\": \"./imagesTr/hippocampus_096.nii.gz\",\n",
      "            \"label\": \"./labelsTr/hippocampus_096.nii.gz\"\n",
      "        },\n",
      "        {\n",
      "            \"image\": \"./imagesTr/hippocampus_242.nii.gz\",\n",
      "            \"label\": \"./labelsTr/hippocampus_242.nii.gz\"\n",
      "        },\n",
      "        {\n",
      "            \"image\": \"./imagesTr/hippocampus_188.nii.gz\",\n",
      "            \"label\": \"./labelsTr/hippocampus_188.nii.gz\"\n",
      "        },\n",
      "        {\n",
      "            \"image\": \"./imagesTr/hippocampus_088.nii.gz\",\n",
      "            \"label\": \"./labelsTr/hippocampus_088.nii.gz\"\n",
      "        },\n",
      "        {\n",
      "            \"image\": \"./imagesTr/hippocampus_084.nii.gz\",\n",
      "            \"label\": \"./labelsTr/hippocampus_084.nii.gz\"\n",
      "        },\n",
      "        {\n",
      "            \"image\": \"./imagesTr/hippocampus_233.nii.gz\",\n",
      "            \"label\": \"./labelsTr/hippocampus_233.nii.gz\"\n",
      "        },\n",
      "        {\n",
      "            \"image\": \"./imagesTr/hippocampus_184.nii.gz\",\n",
      "            \"label\": \"./labelsTr/hippocampus_184.nii.gz\"\n",
      "        },\n",
      "        {\n",
      "            \"image\": \"./imagesTr/hippocampus_333.nii.gz\",\n",
      "            \"label\": \"./labelsTr/hippocampus_333.nii.gz\"\n",
      "        },\n",
      "        {\n",
      "            \"image\": \"./imagesTr/hippocampus_250.nii.gz\",\n",
      "            \"label\": \"./labelsTr/hippocampus_250.nii.gz\"\n",
      "        },\n",
      "        {\n",
      "            \"image\": \"./imagesTr/hippocampus_350.nii.gz\",\n",
      "            \"label\": \"./labelsTr/hippocampus_350.nii.gz\"\n",
      "        },\n",
      "        {\n",
      "            \"image\": \"./imagesTr/hippocampus_378.nii.gz\",\n",
      "            \"label\": \"./labelsTr/hippocampus_378.nii.gz\"\n",
      "        },\n",
      "        {\n",
      "            \"image\": \"./imagesTr/hippocampus_205.nii.gz\",\n",
      "            \"label\": \"./labelsTr/hippocampus_205.nii.gz\"\n",
      "        },\n",
      "        {\n",
      "            \"image\": \"./imagesTr/hippocampus_305.nii.gz\",\n",
      "            \"label\": \"./labelsTr/hippocampus_305.nii.gz\"\n",
      "        },\n",
      "        {\n",
      "            \"image\": \"./imagesTr/hippocampus_366.nii.gz\",\n",
      "            \"label\": \"./labelsTr/hippocampus_366.nii.gz\"\n",
      "        },\n",
      "        {\n",
      "            \"image\": \"./imagesTr/hippocampus_317.nii.gz\",\n",
      "            \"label\": \"./labelsTr/hippocampus_317.nii.gz\"\n",
      "        },\n",
      "        {\n",
      "            \"image\": \"./imagesTr/hippocampus_217.nii.gz\",\n",
      "            \"label\": \"./labelsTr/hippocampus_217.nii.gz\"\n",
      "        },\n",
      "        {\n",
      "            \"image\": \"./imagesTr/hippocampus_374.nii.gz\",\n",
      "            \"label\": \"./labelsTr/hippocampus_374.nii.gz\"\n",
      "        },\n",
      "        {\n",
      "            \"image\": \"./imagesTr/hippocampus_274.nii.gz\",\n",
      "            \"label\": \"./labelsTr/hippocampus_274.nii.gz\"\n",
      "        },\n",
      "        {\n",
      "            \"image\": \"./imagesTr/hippocampus_309.nii.gz\",\n",
      "            \"label\": \"./labelsTr/hippocampus_309.nii.gz\"\n",
      "        },\n",
      "        {\n",
      "            \"image\": \"./imagesTr/hippocampus_252.nii.gz\",\n",
      "            \"label\": \"./labelsTr/hippocampus_252.nii.gz\"\n",
      "        },\n",
      "        {\n",
      "            \"image\": \"./imagesTr/hippocampus_352.nii.gz\",\n",
      "            \"label\": \"./labelsTr/hippocampus_352.nii.gz\"\n",
      "        },\n",
      "        {\n",
      "            \"image\": \"./imagesTr/hippocampus_098.nii.gz\",\n",
      "            \"label\": \"./labelsTr/hippocampus_098.nii.gz\"\n",
      "        },\n",
      "        {\n",
      "            \"image\": \"./imagesTr/hippocampus_231.nii.gz\",\n",
      "            \"label\": \"./labelsTr/hippocampus_231.nii.gz\"\n",
      "        },\n",
      "        {\n",
      "            \"image\": \"./imagesTr/hippocampus_331.nii.gz\",\n",
      "            \"label\": \"./labelsTr/hippocampus_331.nii.gz\"\n",
      "        },\n",
      "        {\n",
      "            \"image\": \"./imagesTr/hippocampus_340.nii.gz\",\n",
      "            \"label\": \"./labelsTr/hippocampus_340.nii.gz\"\n",
      "        },\n",
      "        {\n",
      "            \"image\": \"./imagesTr/hippocampus_194.nii.gz\",\n",
      "            \"label\": \"./labelsTr/hippocampus_194.nii.gz\"\n",
      "        },\n",
      "        {\n",
      "            \"image\": \"./imagesTr/hippocampus_223.nii.gz\",\n",
      "            \"label\": \"./labelsTr/hippocampus_223.nii.gz\"\n",
      "        },\n",
      "        {\n",
      "            \"image\": \"./imagesTr/hippocampus_094.nii.gz\",\n",
      "            \"label\": \"./labelsTr/hippocampus_094.nii.gz\"\n",
      "        },\n",
      "        {\n",
      "            \"image\": \"./imagesTr/hippocampus_376.nii.gz\",\n",
      "            \"label\": \"./labelsTr/hippocampus_376.nii.gz\"\n",
      "        },\n",
      "        {\n",
      "            \"image\": \"./imagesTr/hippocampus_276.nii.gz\",\n",
      "            \"label\": \"./labelsTr/hippocampus_276.nii.gz\"\n",
      "        },\n",
      "        {\n",
      "            \"image\": \"./imagesTr/hippocampus_368.nii.gz\",\n",
      "            \"label\": \"./labelsTr/hippocampus_368.nii.gz\"\n",
      "        },\n",
      "        {\n",
      "            \"image\": \"./imagesTr/hippocampus_268.nii.gz\",\n",
      "            \"label\": \"./labelsTr/hippocampus_268.nii.gz\"\n",
      "        },\n",
      "        {\n",
      "            \"image\": \"./imagesTr/hippocampus_215.nii.gz\",\n",
      "            \"label\": \"./labelsTr/hippocampus_215.nii.gz\"\n",
      "        },\n",
      "        {\n",
      "            \"image\": \"./imagesTr/hippocampus_264.nii.gz\",\n",
      "            \"label\": \"./labelsTr/hippocampus_264.nii.gz\"\n",
      "        },\n",
      "        {\n",
      "            \"image\": \"./imagesTr/hippocampus_219.nii.gz\",\n",
      "            \"label\": \"./labelsTr/hippocampus_219.nii.gz\"\n",
      "        },\n",
      "        {\n",
      "            \"image\": \"./imagesTr/hippocampus_319.nii.gz\",\n",
      "            \"label\": \"./labelsTr/hippocampus_319.nii.gz\"\n",
      "        },\n",
      "        {\n",
      "            \"image\": \"./imagesTr/hippocampus_207.nii.gz\",\n",
      "            \"label\": \"./labelsTr/hippocampus_207.nii.gz\"\n",
      "        },\n",
      "        {\n",
      "            \"image\": \"./imagesTr/hippocampus_067.nii.gz\",\n",
      "            \"label\": \"./labelsTr/hippocampus_067.nii.gz\"\n",
      "        },\n",
      "        {\n",
      "            \"image\": \"./imagesTr/hippocampus_004.nii.gz\",\n",
      "            \"label\": \"./labelsTr/hippocampus_004.nii.gz\"\n",
      "        },\n",
      "        {\n",
      "            \"image\": \"./imagesTr/hippocampus_104.nii.gz\",\n",
      "            \"label\": \"./labelsTr/hippocampus_104.nii.gz\"\n",
      "        },\n",
      "        {\n",
      "            \"image\": \"./imagesTr/hippocampus_175.nii.gz\",\n",
      "            \"label\": \"./labelsTr/hippocampus_175.nii.gz\"\n",
      "        },\n",
      "        {\n",
      "            \"image\": \"./imagesTr/hippocampus_075.nii.gz\",\n",
      "            \"label\": \"./labelsTr/hippocampus_075.nii.gz\"\n",
      "        },\n",
      "        {\n",
      "            \"image\": \"./imagesTr/hippocampus_108.nii.gz\",\n",
      "            \"label\": \"./labelsTr/hippocampus_108.nii.gz\"\n",
      "        },\n",
      "        {\n",
      "            \"image\": \"./imagesTr/hippocampus_008.nii.gz\",\n",
      "            \"label\": \"./labelsTr/hippocampus_008.nii.gz\"\n",
      "        },\n",
      "        {\n",
      "            \"image\": \"./imagesTr/hippocampus_143.nii.gz\",\n",
      "            \"label\": \"./labelsTr/hippocampus_143.nii.gz\"\n",
      "        },\n",
      "        {\n",
      "            \"image\": \"./imagesTr/hippocampus_389.nii.gz\",\n",
      "            \"label\": \"./labelsTr/hippocampus_389.nii.gz\"\n",
      "        },\n",
      "        {\n",
      "            \"image\": \"./imagesTr/hippocampus_289.nii.gz\",\n",
      "            \"label\": \"./labelsTr/hippocampus_289.nii.gz\"\n",
      "        },\n",
      "        {\n",
      "            \"image\": \"./imagesTr/hippocampus_297.nii.gz\",\n",
      "            \"label\": \"./labelsTr/hippocampus_297.nii.gz\"\n",
      "        },\n",
      "        {\n",
      "            \"image\": \"./imagesTr/hippocampus_020.nii.gz\",\n",
      "            \"label\": \"./labelsTr/hippocampus_020.nii.gz\"\n",
      "        },\n",
      "        {\n",
      "            \"image\": \"./imagesTr/hippocampus_051.nii.gz\",\n",
      "            \"label\": \"./labelsTr/hippocampus_051.nii.gz\"\n",
      "        },\n",
      "        {\n",
      "            \"image\": \"./imagesTr/hippocampus_132.nii.gz\",\n",
      "            \"label\": \"./labelsTr/hippocampus_132.nii.gz\"\n",
      "        },\n",
      "        {\n",
      "            \"image\": \"./imagesTr/hippocampus_385.nii.gz\",\n",
      "            \"label\": \"./labelsTr/hippocampus_385.nii.gz\"\n",
      "        },\n",
      "        {\n",
      "            \"image\": \"./imagesTr/hippocampus_260.nii.gz\",\n",
      "            \"label\": \"./labelsTr/hippocampus_260.nii.gz\"\n",
      "        },\n",
      "        {\n",
      "            \"image\": \"./imagesTr/hippocampus_360.nii.gz\",\n",
      "            \"label\": \"./labelsTr/hippocampus_360.nii.gz\"\n",
      "        },\n",
      "        {\n",
      "            \"image\": \"./imagesTr/hippocampus_203.nii.gz\",\n",
      "            \"label\": \"./labelsTr/hippocampus_203.nii.gz\"\n",
      "        },\n",
      "        {\n",
      "            \"image\": \"./imagesTr/hippocampus_303.nii.gz\",\n",
      "            \"label\": \"./labelsTr/hippocampus_303.nii.gz\"\n",
      "        },\n",
      "        {\n",
      "            \"image\": \"./imagesTr/hippocampus_372.nii.gz\",\n",
      "            \"label\": \"./labelsTr/hippocampus_372.nii.gz\"\n",
      "        },\n",
      "        {\n",
      "            \"image\": \"./imagesTr/hippocampus_311.nii.gz\",\n",
      "            \"label\": \"./labelsTr/hippocampus_311.nii.gz\"\n",
      "        },\n",
      "        {\n",
      "            \"image\": \"./imagesTr/hippocampus_244.nii.gz\",\n",
      "            \"label\": \"./labelsTr/hippocampus_244.nii.gz\"\n",
      "        },\n",
      "        {\n",
      "            \"image\": \"./imagesTr/hippocampus_327.nii.gz\",\n",
      "            \"label\": \"./labelsTr/hippocampus_327.nii.gz\"\n",
      "        },\n",
      "        {\n",
      "            \"image\": \"./imagesTr/hippocampus_190.nii.gz\",\n",
      "            \"label\": \"./labelsTr/hippocampus_190.nii.gz\"\n",
      "        },\n",
      "        {\n",
      "            \"image\": \"./imagesTr/hippocampus_227.nii.gz\",\n",
      "            \"label\": \"./labelsTr/hippocampus_227.nii.gz\"\n",
      "        },\n",
      "        {\n",
      "            \"image\": \"./imagesTr/hippocampus_090.nii.gz\",\n",
      "            \"label\": \"./labelsTr/hippocampus_090.nii.gz\"\n",
      "        },\n",
      "        {\n",
      "            \"image\": \"./imagesTr/hippocampus_356.nii.gz\",\n",
      "            \"label\": \"./labelsTr/hippocampus_356.nii.gz\"\n",
      "        },\n",
      "        {\n",
      "            \"image\": \"./imagesTr/hippocampus_235.nii.gz\",\n",
      "            \"label\": \"./labelsTr/hippocampus_235.nii.gz\"\n",
      "        },\n",
      "        {\n",
      "            \"image\": \"./imagesTr/hippocampus_335.nii.gz\",\n",
      "            \"label\": \"./labelsTr/hippocampus_335.nii.gz\"\n",
      "        },\n",
      "        {\n",
      "            \"image\": \"./imagesTr/hippocampus_248.nii.gz\",\n",
      "            \"label\": \"./labelsTr/hippocampus_248.nii.gz\"\n",
      "        },\n",
      "        {\n",
      "            \"image\": \"./imagesTr/hippocampus_155.nii.gz\",\n",
      "            \"label\": \"./labelsTr/hippocampus_155.nii.gz\"\n",
      "        },\n",
      "        {\n",
      "            \"image\": \"./imagesTr/hippocampus_036.nii.gz\",\n",
      "            \"label\": \"./labelsTr/hippocampus_036.nii.gz\"\n",
      "        },\n",
      "        {\n",
      "            \"image\": \"./imagesTr/hippocampus_136.nii.gz\",\n",
      "            \"label\": \"./labelsTr/hippocampus_136.nii.gz\"\n",
      "        },\n",
      "        {\n",
      "            \"image\": \"./imagesTr/hippocampus_381.nii.gz\",\n",
      "            \"label\": \"./labelsTr/hippocampus_381.nii.gz\"\n",
      "        },\n",
      "        {\n",
      "            \"image\": \"./imagesTr/hippocampus_393.nii.gz\",\n",
      "            \"label\": \"./labelsTr/hippocampus_393.nii.gz\"\n",
      "        },\n",
      "        {\n",
      "            \"image\": \"./imagesTr/hippocampus_124.nii.gz\",\n",
      "            \"label\": \"./labelsTr/hippocampus_124.nii.gz\"\n",
      "        },\n",
      "        {\n",
      "            \"image\": \"./imagesTr/hippocampus_024.nii.gz\",\n",
      "            \"label\": \"./labelsTr/hippocampus_024.nii.gz\"\n",
      "        },\n",
      "        {\n",
      "            \"image\": \"./imagesTr/hippocampus_171.nii.gz\",\n",
      "            \"label\": \"./labelsTr/hippocampus_171.nii.gz\"\n",
      "        },\n",
      "        {\n",
      "            \"image\": \"./imagesTr/hippocampus_163.nii.gz\",\n",
      "            \"label\": \"./labelsTr/hippocampus_163.nii.gz\"\n",
      "        },\n",
      "        {\n",
      "            \"image\": \"./imagesTr/hippocampus_126.nii.gz\",\n",
      "            \"label\": \"./labelsTr/hippocampus_126.nii.gz\"\n",
      "        },\n",
      "        {\n",
      "            \"image\": \"./imagesTr/hippocampus_026.nii.gz\",\n",
      "            \"label\": \"./labelsTr/hippocampus_026.nii.gz\"\n",
      "        },\n",
      "        {\n",
      "            \"image\": \"./imagesTr/hippocampus_138.nii.gz\",\n",
      "            \"label\": \"./labelsTr/hippocampus_138.nii.gz\"\n",
      "        },\n",
      "        {\n",
      "            \"image\": \"./imagesTr/hippocampus_038.nii.gz\",\n",
      "            \"label\": \"./labelsTr/hippocampus_038.nii.gz\"\n",
      "        },\n",
      "        {\n",
      "            \"image\": \"./imagesTr/hippocampus_145.nii.gz\",\n",
      "            \"label\": \"./labelsTr/hippocampus_145.nii.gz\"\n",
      "        },\n",
      "        {\n",
      "            \"image\": \"./imagesTr/hippocampus_045.nii.gz\",\n",
      "            \"label\": \"./labelsTr/hippocampus_045.nii.gz\"\n",
      "        },\n",
      "        {\n",
      "            \"image\": \"./imagesTr/hippocampus_034.nii.gz\",\n",
      "            \"label\": \"./labelsTr/hippocampus_034.nii.gz\"\n",
      "        },\n",
      "        {\n",
      "            \"image\": \"./imagesTr/hippocampus_383.nii.gz\",\n",
      "            \"label\": \"./labelsTr/hippocampus_383.nii.gz\"\n",
      "        },\n",
      "        {\n",
      "            \"image\": \"./imagesTr/hippocampus_049.nii.gz\",\n",
      "            \"label\": \"./labelsTr/hippocampus_049.nii.gz\"\n",
      "        },\n",
      "        {\n",
      "            \"image\": \"./imagesTr/hippocampus_149.nii.gz\",\n",
      "            \"label\": \"./labelsTr/hippocampus_149.nii.gz\"\n",
      "        },\n",
      "        {\n",
      "            \"image\": \"./imagesTr/hippocampus_057.nii.gz\",\n",
      "            \"label\": \"./labelsTr/hippocampus_057.nii.gz\"\n",
      "        },\n",
      "        {\n",
      "            \"image\": \"./imagesTr/hippocampus_157.nii.gz\",\n",
      "            \"label\": \"./labelsTr/hippocampus_157.nii.gz\"\n",
      "        },\n",
      "        {\n",
      "            \"image\": \"./imagesTr/hippocampus_102.nii.gz\",\n",
      "            \"label\": \"./labelsTr/hippocampus_102.nii.gz\"\n",
      "        },\n",
      "        {\n",
      "            \"image\": \"./imagesTr/hippocampus_161.nii.gz\",\n",
      "            \"label\": \"./labelsTr/hippocampus_161.nii.gz\"\n",
      "        },\n",
      "        {\n",
      "            \"image\": \"./imagesTr/hippocampus_173.nii.gz\",\n",
      "            \"label\": \"./labelsTr/hippocampus_173.nii.gz\"\n",
      "        },\n",
      "        {\n",
      "            \"image\": \"./imagesTr/hippocampus_370.nii.gz\",\n",
      "            \"label\": \"./labelsTr/hippocampus_370.nii.gz\"\n",
      "        },\n",
      "        {\n",
      "            \"image\": \"./imagesTr/hippocampus_301.nii.gz\",\n",
      "            \"label\": \"./labelsTr/hippocampus_301.nii.gz\"\n",
      "        },\n",
      "        {\n",
      "            \"image\": \"./imagesTr/hippocampus_180.nii.gz\",\n",
      "            \"label\": \"./labelsTr/hippocampus_180.nii.gz\"\n",
      "        },\n",
      "        {\n",
      "            \"image\": \"./imagesTr/hippocampus_337.nii.gz\",\n",
      "            \"label\": \"./labelsTr/hippocampus_337.nii.gz\"\n",
      "        },\n",
      "        {\n",
      "            \"image\": \"./imagesTr/hippocampus_229.nii.gz\",\n",
      "            \"label\": \"./labelsTr/hippocampus_229.nii.gz\"\n",
      "        },\n",
      "        {\n",
      "            \"image\": \"./imagesTr/hippocampus_329.nii.gz\",\n",
      "            \"label\": \"./labelsTr/hippocampus_329.nii.gz\"\n",
      "        },\n",
      "        {\n",
      "            \"image\": \"./imagesTr/hippocampus_354.nii.gz\",\n",
      "            \"label\": \"./labelsTr/hippocampus_354.nii.gz\"\n",
      "        },\n",
      "        {\n",
      "            \"image\": \"./imagesTr/hippocampus_325.nii.gz\",\n",
      "            \"label\": \"./labelsTr/hippocampus_325.nii.gz\"\n",
      "        },\n",
      "        {\n",
      "            \"image\": \"./imagesTr/hippocampus_225.nii.gz\",\n",
      "            \"label\": \"./labelsTr/hippocampus_225.nii.gz\"\n",
      "        },\n",
      "        {\n",
      "            \"image\": \"./imagesTr/hippocampus_092.nii.gz\",\n",
      "            \"label\": \"./labelsTr/hippocampus_092.nii.gz\"\n",
      "        },\n",
      "        {\n",
      "            \"image\": \"./imagesTr/hippocampus_358.nii.gz\",\n",
      "            \"label\": \"./labelsTr/hippocampus_358.nii.gz\"\n",
      "        }\n",
      "    ],\n",
      "    \"test\": [\n",
      "        \"./imagesTs/hippocampus_267.nii.gz\",\n",
      "        \"./imagesTs/hippocampus_379.nii.gz\",\n",
      "        \"./imagesTs/hippocampus_208.nii.gz\",\n",
      "        \"./imagesTs/hippocampus_275.nii.gz\",\n",
      "        \"./imagesTs/hippocampus_131.nii.gz\",\n",
      "        \"./imagesTs/hippocampus_140.nii.gz\",\n",
      "        \"./imagesTs/hippocampus_076.nii.gz\",\n",
      "        \"./imagesTs/hippocampus_115.nii.gz\",\n",
      "        \"./imagesTs/hippocampus_168.nii.gz\",\n",
      "        \"./imagesTs/hippocampus_119.nii.gz\",\n",
      "        \"./imagesTs/hippocampus_021.nii.gz\",\n",
      "        \"./imagesTs/hippocampus_121.nii.gz\",\n",
      "        \"./imagesTs/hippocampus_388.nii.gz\",\n",
      "        \"./imagesTs/hippocampus_384.nii.gz\",\n",
      "        \"./imagesTs/hippocampus_284.nii.gz\",\n",
      "        \"./imagesTs/hippocampus_005.nii.gz\",\n",
      "        \"./imagesTs/hippocampus_078.nii.gz\",\n",
      "        \"./imagesTs/hippocampus_066.nii.gz\",\n",
      "        \"./imagesTs/hippocampus_117.nii.gz\",\n",
      "        \"./imagesTs/hippocampus_009.nii.gz\",\n",
      "        \"./imagesTs/hippocampus_214.nii.gz\",\n",
      "        \"./imagesTs/hippocampus_369.nii.gz\",\n",
      "        \"./imagesTs/hippocampus_377.nii.gz\",\n",
      "        \"./imagesTs/hippocampus_306.nii.gz\",\n",
      "        \"./imagesTs/hippocampus_206.nii.gz\",\n",
      "        \"./imagesTs/hippocampus_218.nii.gz\",\n",
      "        \"./imagesTs/hippocampus_365.nii.gz\",\n",
      "        \"./imagesTs/hippocampus_187.nii.gz\",\n",
      "        \"./imagesTs/hippocampus_241.nii.gz\",\n",
      "        \"./imagesTs/hippocampus_013.nii.gz\",\n",
      "        \"./imagesTs/hippocampus_113.nii.gz\",\n",
      "        \"./imagesTs/hippocampus_062.nii.gz\",\n",
      "        \"./imagesTs/hippocampus_137.nii.gz\",\n",
      "        \"./imagesTs/hippocampus_054.nii.gz\",\n",
      "        \"./imagesTs/hippocampus_129.nii.gz\",\n",
      "        \"./imagesTs/hippocampus_029.nii.gz\",\n",
      "        \"./imagesTs/hippocampus_392.nii.gz\",\n",
      "        \"./imagesTs/hippocampus_191.nii.gz\",\n",
      "        \"./imagesTs/hippocampus_183.nii.gz\",\n",
      "        \"./imagesTs/hippocampus_357.nii.gz\",\n",
      "        \"./imagesTs/hippocampus_202.nii.gz\",\n",
      "        \"./imagesTs/hippocampus_273.nii.gz\",\n",
      "        \"./imagesTs/hippocampus_255.nii.gz\",\n",
      "        \"./imagesTs/hippocampus_081.nii.gz\",\n",
      "        \"./imagesTs/hippocampus_247.nii.gz\",\n",
      "        \"./imagesTs/hippocampus_347.nii.gz\",\n",
      "        \"./imagesTs/hippocampus_324.nii.gz\",\n",
      "        \"./imagesTs/hippocampus_271.nii.gz\",\n",
      "        \"./imagesTs/hippocampus_371.nii.gz\",\n",
      "        \"./imagesTs/hippocampus_312.nii.gz\",\n",
      "        \"./imagesTs/hippocampus_200.nii.gz\",\n",
      "        \"./imagesTs/hippocampus_103.nii.gz\",\n",
      "        \"./imagesTs/hippocampus_072.nii.gz\",\n",
      "        \"./imagesTs/hippocampus_111.nii.gz\",\n",
      "        \"./imagesTs/hippocampus_139.nii.gz\",\n",
      "        \"./imagesTs/hippocampus_027.nii.gz\",\n",
      "        \"./imagesTs/hippocampus_382.nii.gz\",\n",
      "        \"./imagesTs/hippocampus_069.nii.gz\",\n",
      "        \"./imagesTs/hippocampus_018.nii.gz\",\n",
      "        \"./imagesTs/hippocampus_118.nii.gz\",\n",
      "        \"./imagesTs/hippocampus_030.nii.gz\",\n",
      "        \"./imagesTs/hippocampus_153.nii.gz\",\n",
      "        \"./imagesTs/hippocampus_122.nii.gz\",\n",
      "        \"./imagesTs/hippocampus_022.nii.gz\",\n",
      "        \"./imagesTs/hippocampus_196.nii.gz\",\n",
      "        \"./imagesTs/hippocampus_342.nii.gz\",\n",
      "        \"./imagesTs/hippocampus_278.nii.gz\",\n",
      "        \"./imagesTs/hippocampus_266.nii.gz\",\n",
      "        \"./imagesTs/hippocampus_209.nii.gz\",\n",
      "        \"./imagesTs/hippocampus_198.nii.gz\",\n",
      "        \"./imagesTs/hippocampus_186.nii.gz\",\n",
      "        \"./imagesTs/hippocampus_240.nii.gz\",\n",
      "        \"./imagesTs/hippocampus_323.nii.gz\",\n",
      "        \"./imagesTs/hippocampus_315.nii.gz\",\n",
      "        \"./imagesTs/hippocampus_364.nii.gz\",\n",
      "        \"./imagesTs/hippocampus_307.nii.gz\",\n",
      "        \"./imagesTs/hippocampus_167.nii.gz\",\n",
      "        \"./imagesTs/hippocampus_079.nii.gz\",\n",
      "        \"./imagesTs/hippocampus_179.nii.gz\",\n",
      "        \"./imagesTs/hippocampus_116.nii.gz\",\n",
      "        \"./imagesTs/hippocampus_016.nii.gz\",\n",
      "        \"./imagesTs/hippocampus_043.nii.gz\",\n",
      "        \"./imagesTs/hippocampus_120.nii.gz\",\n",
      "        \"./imagesTs/hippocampus_151.nii.gz\",\n",
      "        \"./imagesTs/hippocampus_285.nii.gz\",\n",
      "        \"./imagesTs/hippocampus_272.nii.gz\",\n",
      "        \"./imagesTs/hippocampus_211.nii.gz\",\n",
      "        \"./imagesTs/hippocampus_339.nii.gz\",\n",
      "        \"./imagesTs/hippocampus_239.nii.gz\",\n",
      "        \"./imagesTs/hippocampus_344.nii.gz\",\n",
      "        \"./imagesTs/hippocampus_256.nii.gz\",\n",
      "        \"./imagesTs/hippocampus_082.nii.gz\",\n",
      "        \"./imagesTs/hippocampus_182.nii.gz\",\n",
      "        \"./imagesTs/hippocampus_348.nii.gz\",\n",
      "        \"./imagesTs/hippocampus_028.nii.gz\",\n",
      "        \"./imagesTs/hippocampus_128.nii.gz\",\n",
      "        \"./imagesTs/hippocampus_055.nii.gz\",\n",
      "        \"./imagesTs/hippocampus_281.nii.gz\",\n",
      "        \"./imagesTs/hippocampus_147.nii.gz\",\n",
      "        \"./imagesTs/hippocampus_047.nii.gz\",\n",
      "        \"./imagesTs/hippocampus_293.nii.gz\",\n",
      "        \"./imagesTs/hippocampus_159.nii.gz\",\n",
      "        \"./imagesTs/hippocampus_059.nii.gz\",\n",
      "        \"./imagesTs/hippocampus_071.nii.gz\",\n",
      "        \"./imagesTs/hippocampus_112.nii.gz\",\n",
      "        \"./imagesTs/hippocampus_012.nii.gz\",\n",
      "        \"./imagesTs/hippocampus_063.nii.gz\",\n",
      "        \"./imagesTs/hippocampus_100.nii.gz\",\n",
      "        \"./imagesTs/hippocampus_391.nii.gz\",\n",
      "        \"./imagesTs/hippocampus_291.nii.gz\",\n",
      "        \"./imagesTs/hippocampus_283.nii.gz\",\n",
      "        \"./imagesTs/hippocampus_134.nii.gz\",\n",
      "        \"./imagesTs/hippocampus_002.nii.gz\",\n",
      "        \"./imagesTs/hippocampus_061.nii.gz\",\n",
      "        \"./imagesTs/hippocampus_110.nii.gz\",\n",
      "        \"./imagesTs/hippocampus_010.nii.gz\",\n",
      "        \"./imagesTs/hippocampus_073.nii.gz\",\n",
      "        \"./imagesTs/hippocampus_313.nii.gz\",\n",
      "        \"./imagesTs/hippocampus_213.nii.gz\",\n",
      "        \"./imagesTs/hippocampus_270.nii.gz\",\n",
      "        \"./imagesTs/hippocampus_201.nii.gz\",\n",
      "        \"./imagesTs/hippocampus_262.nii.gz\",\n",
      "        \"./imagesTs/hippocampus_362.nii.gz\",\n",
      "        \"./imagesTs/hippocampus_080.nii.gz\",\n",
      "        \"./imagesTs/hippocampus_237.nii.gz\",\n",
      "        \"./imagesTs/hippocampus_254.nii.gz\",\n",
      "        \"./imagesTs/hippocampus_192.nii.gz\",\n",
      "        \"./imagesTs/hippocampus_258.nii.gz\",\n",
      "        \"./imagesTs/hippocampus_346.nii.gz\",\n",
      "        \"./imagesTs/hippocampus_246.nii.gz\"\n",
      "    ]\n",
      "}\n"
     ]
    }
   ],
   "source": [
    "print(json.dumps(data_description, indent=4))"
   ]
  },
  {
   "cell_type": "markdown",
   "id": "revised-calgary",
   "metadata": {
    "tags": []
   },
   "source": [
    "### Reading and visualizing hippocampus_001 nifti MRI and mask files"
   ]
  },
  {
   "cell_type": "markdown",
   "id": "thirty-seattle",
   "metadata": {},
   "source": [
    "#### MRI file"
   ]
  },
  {
   "cell_type": "code",
   "execution_count": 4,
   "id": "choice-softball",
   "metadata": {},
   "outputs": [],
   "source": [
    "mri_1 = nib.load(\"../../datasets/Task04_Hippocampus/train/images/hippocampus_001.nii.gz\")"
   ]
  },
  {
   "cell_type": "code",
   "execution_count": 5,
   "id": "received-fitting",
   "metadata": {},
   "outputs": [
    {
     "data": {
      "text/plain": [
       "nibabel.nifti1.Nifti1Image"
      ]
     },
     "execution_count": 5,
     "metadata": {},
     "output_type": "execute_result"
    }
   ],
   "source": [
    "type(mri_1)"
   ]
  },
  {
   "cell_type": "code",
   "execution_count": 6,
   "id": "personal-average",
   "metadata": {},
   "outputs": [],
   "source": [
    "# Read Nifi Image object as numpy file\n",
    "mri_1 = mri_1.get_fdata()"
   ]
  },
  {
   "cell_type": "code",
   "execution_count": 7,
   "id": "comparable-torture",
   "metadata": {},
   "outputs": [
    {
     "data": {
      "text/plain": [
       "numpy.ndarray"
      ]
     },
     "execution_count": 7,
     "metadata": {},
     "output_type": "execute_result"
    }
   ],
   "source": [
    "type(mri_1)"
   ]
  },
  {
   "cell_type": "code",
   "execution_count": 8,
   "id": "contained-occasions",
   "metadata": {},
   "outputs": [
    {
     "data": {
      "text/plain": [
       "dtype('float64')"
      ]
     },
     "execution_count": 8,
     "metadata": {},
     "output_type": "execute_result"
    }
   ],
   "source": [
    "mri_1.dtype"
   ]
  },
  {
   "cell_type": "code",
   "execution_count": 9,
   "id": "cooperative-blackjack",
   "metadata": {},
   "outputs": [
    {
     "data": {
      "text/plain": [
       "(35, 51, 35)"
      ]
     },
     "execution_count": 9,
     "metadata": {},
     "output_type": "execute_result"
    }
   ],
   "source": [
    "mri_1.shape"
   ]
  },
  {
   "cell_type": "code",
   "execution_count": 10,
   "id": "affected-disaster",
   "metadata": {},
   "outputs": [
    {
     "name": "stdout",
     "output_type": "stream",
     "text": [
      "137.0\n"
     ]
    }
   ],
   "source": [
    "# Range of voxel values (maximum value - minimum value)\n",
    "print(mri_1[:, :, :].ptp())"
   ]
  },
  {
   "cell_type": "code",
   "execution_count": 11,
   "id": "coastal-steering",
   "metadata": {},
   "outputs": [
    {
     "data": {
      "text/plain": [
       "499928"
      ]
     },
     "execution_count": 11,
     "metadata": {},
     "output_type": "execute_result"
    }
   ],
   "source": [
    "getsizeof(mri_1) # 0.499928 MBs"
   ]
  },
  {
   "cell_type": "code",
   "execution_count": 12,
   "id": "egyptian-citizenship",
   "metadata": {},
   "outputs": [
    {
     "data": {
      "text/plain": [
       "250028"
      ]
     },
     "execution_count": 12,
     "metadata": {},
     "output_type": "execute_result"
    }
   ],
   "source": [
    "getsizeof(mri_1.astype(np.float32)) # 0.250028 MBs"
   ]
  },
  {
   "cell_type": "code",
   "execution_count": 13,
   "id": "advised-complexity",
   "metadata": {},
   "outputs": [
    {
     "data": {
      "text/plain": [
       "125078"
      ]
     },
     "execution_count": 13,
     "metadata": {},
     "output_type": "execute_result"
    }
   ],
   "source": [
    "getsizeof(mri_1.astype(np.float16)) # 0.125078 MBs"
   ]
  },
  {
   "cell_type": "markdown",
   "id": "shared-weight",
   "metadata": {},
   "source": [
    "#### Mask file"
   ]
  },
  {
   "cell_type": "code",
   "execution_count": 14,
   "id": "paperback-times",
   "metadata": {},
   "outputs": [],
   "source": [
    "mri_1_mask = nib.load(\"../../datasets/Task04_Hippocampus/train/masks/hippocampus_001.nii.gz\")"
   ]
  },
  {
   "cell_type": "code",
   "execution_count": 15,
   "id": "every-advertising",
   "metadata": {},
   "outputs": [],
   "source": [
    "mri_1_mask = mri_1_mask.get_fdata()"
   ]
  },
  {
   "cell_type": "code",
   "execution_count": 16,
   "id": "blank-protocol",
   "metadata": {},
   "outputs": [
    {
     "data": {
      "text/plain": [
       "dtype('float64')"
      ]
     },
     "execution_count": 16,
     "metadata": {},
     "output_type": "execute_result"
    }
   ],
   "source": [
    "mri_1_mask.dtype"
   ]
  },
  {
   "cell_type": "code",
   "execution_count": 17,
   "id": "disturbed-judges",
   "metadata": {},
   "outputs": [
    {
     "data": {
      "text/plain": [
       "array([0., 1., 2.])"
      ]
     },
     "execution_count": 17,
     "metadata": {},
     "output_type": "execute_result"
    }
   ],
   "source": [
    "np.unique(mri_1_mask)"
   ]
  },
  {
   "cell_type": "code",
   "execution_count": 18,
   "id": "mathematical-hygiene",
   "metadata": {},
   "outputs": [
    {
     "data": {
      "text/plain": [
       "499928"
      ]
     },
     "execution_count": 18,
     "metadata": {},
     "output_type": "execute_result"
    }
   ],
   "source": [
    "getsizeof(mri_1_mask) # 0.499928 MBs"
   ]
  },
  {
   "cell_type": "code",
   "execution_count": 19,
   "id": "mental-reynolds",
   "metadata": {},
   "outputs": [
    {
     "data": {
      "text/plain": [
       "250028"
      ]
     },
     "execution_count": 19,
     "metadata": {},
     "output_type": "execute_result"
    }
   ],
   "source": [
    "getsizeof(mri_1_mask.astype(np.float32)) # 0.250028 MBs"
   ]
  },
  {
   "cell_type": "code",
   "execution_count": 20,
   "id": "local-broadway",
   "metadata": {},
   "outputs": [
    {
     "data": {
      "text/plain": [
       "62603"
      ]
     },
     "execution_count": 20,
     "metadata": {},
     "output_type": "execute_result"
    }
   ],
   "source": [
    "getsizeof(mri_1_mask.astype(np.uint8)) # 0.062603 MBs"
   ]
  },
  {
   "cell_type": "code",
   "execution_count": 21,
   "id": "athletic-track",
   "metadata": {},
   "outputs": [],
   "source": [
    "mri_1_mask = mri_1_mask.astype(np.float32)"
   ]
  },
  {
   "cell_type": "code",
   "execution_count": 22,
   "id": "realistic-interpretation",
   "metadata": {},
   "outputs": [
    {
     "data": {
      "text/plain": [
       "(35, 51, 35)"
      ]
     },
     "execution_count": 22,
     "metadata": {},
     "output_type": "execute_result"
    }
   ],
   "source": [
    "mri_1_mask.shape"
   ]
  },
  {
   "cell_type": "markdown",
   "id": "outer-manor",
   "metadata": {},
   "source": [
    "### Visualizing nifti MRI file and Mask file"
   ]
  },
  {
   "cell_type": "code",
   "execution_count": 23,
   "id": "wrong-leader",
   "metadata": {
    "scrolled": true
   },
   "outputs": [
    {
     "data": {
      "application/vnd.jupyter.widget-view+json": {
       "model_id": "4f4128348dd44dab9df55e1f3f7f3685",
       "version_major": 2,
       "version_minor": 0
      },
      "text/plain": [
       "interactive(children=(ToggleButtons(button_style='info', description='Select Class:', options=('Background', '…"
      ]
     },
     "metadata": {},
     "output_type": "display_data"
    }
   ],
   "source": [
    "classes_dict = {\n",
    "    'Background': 0,\n",
    "    'Anterior': 1,\n",
    "    'Posterior': 2\n",
    "}\n",
    "\n",
    "# Create button values\n",
    "select_class = ToggleButtons(\n",
    "    options=['Background','Anterior', 'Posterior', 'All'],\n",
    "    description='Select Class:',\n",
    "    disabled=False,\n",
    "    button_style='info', \n",
    "    \n",
    ")\n",
    "# Create layer slider\n",
    "select_layer = IntSlider(min=0, max=mri_1.shape[2] - 1, description='Select Layer', continuous_update=False)\n",
    "\n",
    "    \n",
    "# Define a function for plotting images\n",
    "def plot(seg_class, layer):\n",
    "    print(f\"Plotting Layer: {layer} | Label: {seg_class}\")\n",
    "    fig = plt.figure(figsize=(20, 10))\n",
    "    \n",
    "    fig.add_subplot(1, 2, 1)\n",
    "    plt.imshow(mri_1[:, :, layer], cmap='gray');\n",
    "    plt.title(\"MRI\", fontsize=20)\n",
    "    plt.axis('off')\n",
    "    \n",
    "    fig.add_subplot(1, 2, 2)\n",
    "    img_label = classes_dict[seg_class]\n",
    "    mask = np.where(mri_1_mask[:, :, layer] == img_label, 255, 0)\n",
    "    plt.title(\"Mask\", fontsize=20)\n",
    "    plt.imshow(mask, cmap='gray')\n",
    "    plt.axis('off');\n",
    "    \n",
    "# Use the interactive() tool to create the visualization\n",
    "interactive(plot, seg_class=select_class, layer=select_layer)"
   ]
  },
  {
   "cell_type": "markdown",
   "id": "12fd4bf2-a7c0-469f-a106-7cd888d25dcc",
   "metadata": {
    "tags": []
   },
   "source": [
    "### Reading and visualizing hippocampus_003 nifti MRI and mask files"
   ]
  },
  {
   "cell_type": "markdown",
   "id": "3639bc7e-4492-45e4-ba75-b2e7b79950e7",
   "metadata": {},
   "source": [
    "#### MRI file"
   ]
  },
  {
   "cell_type": "code",
   "execution_count": 24,
   "id": "0d942cbb-a811-4350-b4c0-7233143ce4b5",
   "metadata": {},
   "outputs": [],
   "source": [
    "mri_2 = nib.load(\"../../datasets/Task04_Hippocampus/train/images/hippocampus_003.nii.gz\")"
   ]
  },
  {
   "cell_type": "code",
   "execution_count": 25,
   "id": "1597691b-6426-47e2-82d4-b48e1db96b78",
   "metadata": {},
   "outputs": [
    {
     "data": {
      "text/plain": [
       "nibabel.nifti1.Nifti1Image"
      ]
     },
     "execution_count": 25,
     "metadata": {},
     "output_type": "execute_result"
    }
   ],
   "source": [
    "type(mri_2)"
   ]
  },
  {
   "cell_type": "code",
   "execution_count": 26,
   "id": "e00abd65-475d-463d-9057-3453c45c6ad1",
   "metadata": {},
   "outputs": [],
   "source": [
    "# Read Nifi Image object as numpy file\n",
    "mri_2 = mri_2.get_fdata()"
   ]
  },
  {
   "cell_type": "code",
   "execution_count": 27,
   "id": "b7eb58b3-2a75-403b-a0eb-2a652d4c0b85",
   "metadata": {},
   "outputs": [
    {
     "data": {
      "text/plain": [
       "numpy.ndarray"
      ]
     },
     "execution_count": 27,
     "metadata": {},
     "output_type": "execute_result"
    }
   ],
   "source": [
    "type(mri_2)"
   ]
  },
  {
   "cell_type": "code",
   "execution_count": 28,
   "id": "bcadda39-1b42-4a1c-8afb-5712463a0a1a",
   "metadata": {},
   "outputs": [
    {
     "data": {
      "text/plain": [
       "dtype('float64')"
      ]
     },
     "execution_count": 28,
     "metadata": {},
     "output_type": "execute_result"
    }
   ],
   "source": [
    "mri_2.dtype"
   ]
  },
  {
   "cell_type": "code",
   "execution_count": 29,
   "id": "e895c3ec-c9dc-4df1-b220-21cb4559b6c9",
   "metadata": {},
   "outputs": [
    {
     "data": {
      "text/plain": [
       "(34, 52, 35)"
      ]
     },
     "execution_count": 29,
     "metadata": {},
     "output_type": "execute_result"
    }
   ],
   "source": [
    "mri_2.shape"
   ]
  },
  {
   "cell_type": "code",
   "execution_count": 30,
   "id": "71488816-fc04-4549-bf96-3ac1ebffa61a",
   "metadata": {},
   "outputs": [
    {
     "name": "stdout",
     "output_type": "stream",
     "text": [
      "2776.880126953125\n"
     ]
    }
   ],
   "source": [
    "# Range of voxel values (maximum value - minimum value)\n",
    "print(mri_2[:, :, :].ptp())"
   ]
  },
  {
   "cell_type": "markdown",
   "id": "e5144974-3dc9-4457-a29c-a33ab84cb388",
   "metadata": {},
   "source": [
    "#### Mask file"
   ]
  },
  {
   "cell_type": "code",
   "execution_count": 31,
   "id": "e445bdcf-026e-42a0-abec-539329c35fd0",
   "metadata": {},
   "outputs": [],
   "source": [
    "mri_2_mask = nib.load(\"../../datasets/Task04_Hippocampus/train/masks/hippocampus_003.nii.gz\")"
   ]
  },
  {
   "cell_type": "code",
   "execution_count": 32,
   "id": "005be823-ba45-4fb3-8e31-267dba372ffc",
   "metadata": {},
   "outputs": [],
   "source": [
    "mri_2_mask = mri_2_mask.get_fdata()"
   ]
  },
  {
   "cell_type": "code",
   "execution_count": 33,
   "id": "677ede5d-2dbf-4fef-b7a7-082fedcdab93",
   "metadata": {},
   "outputs": [
    {
     "data": {
      "text/plain": [
       "dtype('float64')"
      ]
     },
     "execution_count": 33,
     "metadata": {},
     "output_type": "execute_result"
    }
   ],
   "source": [
    "mri_2_mask.dtype"
   ]
  },
  {
   "cell_type": "code",
   "execution_count": 34,
   "id": "65e328bb-a734-4940-940a-4fd29bb92519",
   "metadata": {},
   "outputs": [
    {
     "data": {
      "text/plain": [
       "array([0., 1., 2.])"
      ]
     },
     "execution_count": 34,
     "metadata": {},
     "output_type": "execute_result"
    }
   ],
   "source": [
    "np.unique(mri_2_mask)"
   ]
  },
  {
   "cell_type": "code",
   "execution_count": 35,
   "id": "3cbe0347-9270-4318-be4b-a833fd1ee127",
   "metadata": {},
   "outputs": [],
   "source": [
    "mri_2_mask = mri_2_mask.astype(np.float32)"
   ]
  },
  {
   "cell_type": "code",
   "execution_count": 36,
   "id": "5d084abd-1643-43ab-8ba4-cc79471f5bd0",
   "metadata": {},
   "outputs": [
    {
     "data": {
      "text/plain": [
       "(34, 52, 35)"
      ]
     },
     "execution_count": 36,
     "metadata": {},
     "output_type": "execute_result"
    }
   ],
   "source": [
    "mri_2_mask.shape"
   ]
  },
  {
   "cell_type": "markdown",
   "id": "4f7d840d-6f53-4f33-9a28-6444a614b3db",
   "metadata": {},
   "source": [
    "### Visualizing nifti MRI file and Mask file"
   ]
  },
  {
   "cell_type": "code",
   "execution_count": 37,
   "id": "388a9508-6169-4fd0-a8ec-f9e03ad3fa2d",
   "metadata": {
    "scrolled": true
   },
   "outputs": [
    {
     "data": {
      "application/vnd.jupyter.widget-view+json": {
       "model_id": "e1f9cbaea5634b2a955d2a14af65c932",
       "version_major": 2,
       "version_minor": 0
      },
      "text/plain": [
       "interactive(children=(ToggleButtons(button_style='info', description='Select Class:', options=('Background', '…"
      ]
     },
     "metadata": {},
     "output_type": "display_data"
    }
   ],
   "source": [
    "classes_dict = {\n",
    "    'Background': 0,\n",
    "    'Anterior': 1,\n",
    "    'Posterior': 2\n",
    "}\n",
    "\n",
    "# Create button values\n",
    "select_class = ToggleButtons(\n",
    "    options=['Background','Anterior', 'Posterior', 'All'],\n",
    "    description='Select Class:',\n",
    "    disabled=False,\n",
    "    button_style='info', \n",
    "    \n",
    ")\n",
    "# Create layer slider\n",
    "select_layer = IntSlider(min=0, max=mri_2.shape[2] - 1, description='Select Layer', continuous_update=False)\n",
    "\n",
    "    \n",
    "# Define a function for plotting images\n",
    "def plot(seg_class, layer):\n",
    "    print(f\"Plotting Layer: {layer} | Label: {seg_class}\")\n",
    "    fig = plt.figure(figsize=(20, 10))\n",
    "    \n",
    "    fig.add_subplot(1, 2, 1)\n",
    "    plt.imshow(mri_2[:, :, layer], cmap='gray');\n",
    "    plt.title(\"MRI\", fontsize=20)\n",
    "    plt.axis('off')\n",
    "    \n",
    "    fig.add_subplot(1, 2, 2)\n",
    "    img_label = classes_dict[seg_class]\n",
    "    mask = np.where(mri_2_mask[:, :, layer] == img_label, 255, 0)\n",
    "    plt.title(\"Mask\", fontsize=20)\n",
    "    plt.imshow(mask, cmap='gray')\n",
    "    plt.axis('off');\n",
    "    \n",
    "# Use the interactive() tool to create the visualization\n",
    "interactive(plot, seg_class=select_class, layer=select_layer)"
   ]
  },
  {
   "cell_type": "markdown",
   "id": "21983bf6-b729-4894-b39d-8836d98b39d1",
   "metadata": {
    "tags": []
   },
   "source": [
    "### Reading and visualizing hippocampus_004 nifti MRI and mask files"
   ]
  },
  {
   "cell_type": "markdown",
   "id": "56378bf3-d3e5-40ac-be09-c1fbbaec59ac",
   "metadata": {},
   "source": [
    "#### MRI file"
   ]
  },
  {
   "cell_type": "code",
   "execution_count": 38,
   "id": "daa53e47-2faf-402d-a05a-f33d85f769c7",
   "metadata": {},
   "outputs": [],
   "source": [
    "mri_3 = nib.load(\"../../datasets/Task04_Hippocampus/train/images/hippocampus_004.nii.gz\")"
   ]
  },
  {
   "cell_type": "code",
   "execution_count": 39,
   "id": "6104fdbf-c35a-409b-9458-3cb00a74dce4",
   "metadata": {},
   "outputs": [
    {
     "data": {
      "text/plain": [
       "nibabel.nifti1.Nifti1Image"
      ]
     },
     "execution_count": 39,
     "metadata": {},
     "output_type": "execute_result"
    }
   ],
   "source": [
    "type(mri_3)"
   ]
  },
  {
   "cell_type": "code",
   "execution_count": 40,
   "id": "5bbd1e5d-2166-4193-94ea-1b25b530e0cd",
   "metadata": {},
   "outputs": [],
   "source": [
    "# Read Nifi Image object as numpy file\n",
    "mri_3 = mri_3.get_fdata()"
   ]
  },
  {
   "cell_type": "code",
   "execution_count": 41,
   "id": "db7f5074-2bc4-46ce-b2b0-4fc5afc1f46e",
   "metadata": {},
   "outputs": [
    {
     "data": {
      "text/plain": [
       "numpy.ndarray"
      ]
     },
     "execution_count": 41,
     "metadata": {},
     "output_type": "execute_result"
    }
   ],
   "source": [
    "type(mri_3)"
   ]
  },
  {
   "cell_type": "code",
   "execution_count": 42,
   "id": "6fcde4ac-5844-4d8a-a31b-175fd906d0ec",
   "metadata": {},
   "outputs": [
    {
     "data": {
      "text/plain": [
       "dtype('float64')"
      ]
     },
     "execution_count": 42,
     "metadata": {},
     "output_type": "execute_result"
    }
   ],
   "source": [
    "mri_3.dtype"
   ]
  },
  {
   "cell_type": "code",
   "execution_count": 43,
   "id": "fe1734cf-6fe2-4600-8dad-ee6c2968161f",
   "metadata": {},
   "outputs": [
    {
     "data": {
      "text/plain": [
       "(36, 52, 38)"
      ]
     },
     "execution_count": 43,
     "metadata": {},
     "output_type": "execute_result"
    }
   ],
   "source": [
    "mri_3.shape"
   ]
  },
  {
   "cell_type": "code",
   "execution_count": 44,
   "id": "307a59c7-b03c-4af3-85e3-6757d662d843",
   "metadata": {},
   "outputs": [
    {
     "name": "stdout",
     "output_type": "stream",
     "text": [
      "2252.49072265625\n"
     ]
    }
   ],
   "source": [
    "# Range of voxel values (maximum value - minimum value)\n",
    "print(mri_3[:, :, :].ptp())"
   ]
  },
  {
   "cell_type": "markdown",
   "id": "66193405-0557-4688-819b-78abe5220fec",
   "metadata": {},
   "source": [
    "#### Mask file"
   ]
  },
  {
   "cell_type": "code",
   "execution_count": 45,
   "id": "98d73113-0936-48d3-98c9-3a1032f256a0",
   "metadata": {},
   "outputs": [],
   "source": [
    "mri_3_mask = nib.load(\"../../datasets/Task04_Hippocampus/train/masks/hippocampus_004.nii.gz\")"
   ]
  },
  {
   "cell_type": "code",
   "execution_count": 46,
   "id": "df00463b-fa0b-469d-8830-9fea938c9fa7",
   "metadata": {},
   "outputs": [],
   "source": [
    "mri_3_mask = mri_3_mask.get_fdata()"
   ]
  },
  {
   "cell_type": "code",
   "execution_count": 47,
   "id": "b5bac07a-afee-40ce-b5b9-8f24ec219e07",
   "metadata": {},
   "outputs": [
    {
     "data": {
      "text/plain": [
       "dtype('float64')"
      ]
     },
     "execution_count": 47,
     "metadata": {},
     "output_type": "execute_result"
    }
   ],
   "source": [
    "mri_3_mask.dtype"
   ]
  },
  {
   "cell_type": "code",
   "execution_count": 48,
   "id": "9dfb4627-e9b2-4f6c-877a-18bfbe7e6b3a",
   "metadata": {},
   "outputs": [
    {
     "data": {
      "text/plain": [
       "array([0., 1., 2.])"
      ]
     },
     "execution_count": 48,
     "metadata": {},
     "output_type": "execute_result"
    }
   ],
   "source": [
    "np.unique(mri_3_mask)"
   ]
  },
  {
   "cell_type": "code",
   "execution_count": 49,
   "id": "00e32041-9b99-44d4-826f-b995a7848fa5",
   "metadata": {},
   "outputs": [],
   "source": [
    "mri_3_mask = mri_3_mask.astype(np.float32)"
   ]
  },
  {
   "cell_type": "code",
   "execution_count": 50,
   "id": "c8ae3278-6a79-40ad-b356-a23967137977",
   "metadata": {},
   "outputs": [
    {
     "data": {
      "text/plain": [
       "(36, 52, 38)"
      ]
     },
     "execution_count": 50,
     "metadata": {},
     "output_type": "execute_result"
    }
   ],
   "source": [
    "mri_3_mask.shape"
   ]
  },
  {
   "cell_type": "markdown",
   "id": "7b5b9905-b15b-4a31-adde-0ff3786e5682",
   "metadata": {},
   "source": [
    "### Visualizing nifti MRI file and Mask file"
   ]
  },
  {
   "cell_type": "code",
   "execution_count": 51,
   "id": "33290818-3f36-4624-83d0-a651094c4cc5",
   "metadata": {
    "scrolled": true
   },
   "outputs": [
    {
     "data": {
      "application/vnd.jupyter.widget-view+json": {
       "model_id": "5b7ead4a2b0c4fc692abf57ec973b828",
       "version_major": 2,
       "version_minor": 0
      },
      "text/plain": [
       "interactive(children=(ToggleButtons(button_style='info', description='Select Class:', options=('Background', '…"
      ]
     },
     "metadata": {},
     "output_type": "display_data"
    }
   ],
   "source": [
    "classes_dict = {\n",
    "    'Background': 0,\n",
    "    'Anterior': 1,\n",
    "    'Posterior': 2\n",
    "}\n",
    "\n",
    "# Create button values\n",
    "select_class = ToggleButtons(\n",
    "    options=['Background','Anterior', 'Posterior', 'All'],\n",
    "    description='Select Class:',\n",
    "    disabled=False,\n",
    "    button_style='info', \n",
    "    \n",
    ")\n",
    "# Create layer slider\n",
    "select_layer = IntSlider(min=0, max=mri_3.shape[2] - 1, description='Select Layer', continuous_update=False)\n",
    "\n",
    "    \n",
    "# Define a function for plotting images\n",
    "def plot(seg_class, layer):\n",
    "    print(f\"Plotting Layer: {layer} | Label: {seg_class}\")\n",
    "    fig = plt.figure(figsize=(20, 10))\n",
    "    \n",
    "    fig.add_subplot(1, 2, 1)\n",
    "    plt.imshow(mri_3[:, :, layer], cmap='gray');\n",
    "    plt.title(\"MRI\", fontsize=20)\n",
    "    plt.axis('off')\n",
    "    \n",
    "    fig.add_subplot(1, 2, 2)\n",
    "    if seg_class == \"All\":\n",
    "        mask = mri_3_mask[:, :, layer]\n",
    "        plt.title(\"Mask\", fontsize=20)\n",
    "        plt.imshow(mask)\n",
    "        plt.axis('off');\n",
    "    else:\n",
    "        img_label = classes_dict[seg_class]\n",
    "        mask = np.where(mri_3_mask[:, :, layer] == img_label, 255, 0)\n",
    "        plt.title(\"Mask\", fontsize=20)\n",
    "        plt.imshow(mask, cmap='gray')\n",
    "        plt.axis('off');\n",
    "    \n",
    "# Use the interactive() tool to create the visualization\n",
    "interactive(plot, seg_class=select_class, layer=select_layer)"
   ]
  },
  {
   "cell_type": "markdown",
   "id": "stuck-testing",
   "metadata": {},
   "source": [
    "### Calculating MRI shape counter dictionary"
   ]
  },
  {
   "cell_type": "code",
   "execution_count": 52,
   "id": "executed-rating",
   "metadata": {},
   "outputs": [
    {
     "name": "stderr",
     "output_type": "stream",
     "text": [
      "100%|██████████| 390/390 [00:00<00:00, 657.76it/s]\n"
     ]
    }
   ],
   "source": [
    "data_dir = \"../../datasets/Task04_Hippocampus/\"\n",
    "\n",
    "train_mri_paths = [os.path.join(data_dir + \"train/images\", x) for x in os.listdir(data_dir + \"train/images\")]\n",
    "val_mri_paths = [os.path.join(data_dir + \"val/images\", x) for x in os.listdir(data_dir + \"val/images\")]\n",
    "test_mri_paths = [os.path.join(data_dir + \"test_images_for_model_prediction_submission\", x) for x in os.listdir(data_dir + \"test_images_for_model_prediction_submission\")]\n",
    "\n",
    "all_paths = train_mri_paths + val_mri_paths + test_mri_paths  # concatenate list of paths\n",
    "\n",
    "shape_count_dict = {}\n",
    "\n",
    "for path in tqdm(all_paths):\n",
    "    mri = nib.load(path).get_fdata()\n",
    "    shape = mri.shape\n",
    "    \n",
    "    if shape not in shape_count_dict.keys():\n",
    "        shape_count_dict[shape] = 1\n",
    "    else:\n",
    "        shape_count_dict[shape] += 1   "
   ]
  },
  {
   "cell_type": "code",
   "execution_count": 53,
   "id": "tired-sacramento",
   "metadata": {},
   "outputs": [
    {
     "name": "stdout",
     "output_type": "stream",
     "text": [
      "OrderedDict([((37, 51, 33), 3),\n",
      "             ((34, 53, 34), 3),\n",
      "             ((34, 53, 37), 3),\n",
      "             ((37, 49, 34), 3),\n",
      "             ((35, 51, 36), 3),\n",
      "             ((35, 51, 34), 3),\n",
      "             ((35, 51, 35), 3),\n",
      "             ((36, 52, 32), 3),\n",
      "             ((34, 53, 36), 2),\n",
      "             ((32, 47, 41), 2),\n",
      "             ((34, 52, 35), 2),\n",
      "             ((34, 48, 40), 2),\n",
      "             ((36, 51, 34), 2),\n",
      "             ((35, 49, 40), 2),\n",
      "             ((32, 52, 34), 2),\n",
      "             ((36, 51, 35), 2),\n",
      "             ((35, 53, 33), 2),\n",
      "             ((36, 53, 37), 2),\n",
      "             ((38, 52, 33), 2),\n",
      "             ((35, 52, 34), 2),\n",
      "             ((36, 48, 38), 2),\n",
      "             ((37, 49, 37), 2),\n",
      "             ((37, 51, 35), 2),\n",
      "             ((34, 51, 38), 2),\n",
      "             ((35, 49, 33), 2),\n",
      "             ((32, 54, 34), 2),\n",
      "             ((38, 51, 37), 2),\n",
      "             ((35, 50, 36), 2),\n",
      "             ((35, 48, 35), 2),\n",
      "             ((35, 46, 42), 2),\n",
      "             ((37, 48, 34), 2),\n",
      "             ((34, 51, 31), 2),\n",
      "             ((36, 53, 33), 2),\n",
      "             ((34, 49, 37), 2),\n",
      "             ((36, 50, 33), 2),\n",
      "             ((34, 47, 43), 2),\n",
      "             ((36, 50, 34), 2),\n",
      "             ((35, 52, 33), 2),\n",
      "             ((34, 49, 32), 2),\n",
      "             ((34, 53, 32), 2),\n",
      "             ((33, 54, 34), 2),\n",
      "             ((35, 54, 29), 2),\n",
      "             ((34, 50, 40), 2),\n",
      "             ((37, 52, 28), 2),\n",
      "             ((35, 54, 32), 2),\n",
      "             ((37, 51, 31), 2),\n",
      "             ((32, 45, 41), 1),\n",
      "             ((33, 50, 35), 1),\n",
      "             ((37, 52, 32), 1),\n",
      "             ((37, 53, 33), 1),\n",
      "             ((34, 53, 35), 1),\n",
      "             ((38, 53, 27), 1),\n",
      "             ((37, 56, 36), 1),\n",
      "             ((36, 45, 39), 1),\n",
      "             ((38, 52, 29), 1),\n",
      "             ((34, 49, 36), 1),\n",
      "             ((33, 51, 28), 1),\n",
      "             ((37, 45, 46), 1),\n",
      "             ((36, 42, 41), 1),\n",
      "             ((38, 55, 31), 1),\n",
      "             ((36, 49, 38), 1),\n",
      "             ((38, 50, 39), 1),\n",
      "             ((37, 58, 35), 1),\n",
      "             ((35, 56, 28), 1),\n",
      "             ((39, 41, 42), 1),\n",
      "             ((33, 49, 40), 1),\n",
      "             ((36, 58, 28), 1),\n",
      "             ((43, 42, 39), 1),\n",
      "             ((36, 47, 44), 1),\n",
      "             ((37, 54, 36), 1),\n",
      "             ((35, 54, 35), 1),\n",
      "             ((38, 49, 38), 1),\n",
      "             ((34, 49, 39), 1),\n",
      "             ((39, 52, 31), 1),\n",
      "             ((34, 52, 40), 1),\n",
      "             ((36, 48, 39), 1),\n",
      "             ((37, 55, 34), 1),\n",
      "             ((32, 53, 38), 1),\n",
      "             ((35, 48, 42), 1),\n",
      "             ((35, 44, 44), 1),\n",
      "             ((34, 46, 38), 1),\n",
      "             ((35, 55, 34), 1),\n",
      "             ((33, 52, 37), 1),\n",
      "             ((35, 50, 30), 1),\n",
      "             ((36, 50, 40), 1),\n",
      "             ((34, 49, 38), 1),\n",
      "             ((38, 50, 38), 1),\n",
      "             ((35, 46, 39), 1),\n",
      "             ((34, 56, 31), 1),\n",
      "             ((35, 53, 36), 1),\n",
      "             ((36, 47, 41), 1),\n",
      "             ((37, 57, 35), 1),\n",
      "             ((36, 47, 39), 1),\n",
      "             ((33, 49, 32), 1),\n",
      "             ((35, 48, 32), 1),\n",
      "             ((37, 48, 36), 1),\n",
      "             ((32, 48, 34), 1),\n",
      "             ((35, 53, 35), 1),\n",
      "             ((33, 54, 39), 1),\n",
      "             ((33, 52, 27), 1),\n",
      "             ((32, 51, 28), 1),\n",
      "             ((32, 46, 42), 1),\n",
      "             ((33, 44, 40), 1),\n",
      "             ((34, 51, 26), 1),\n",
      "             ((37, 50, 40), 1),\n",
      "             ((34, 47, 40), 1),\n",
      "             ((37, 47, 32), 1),\n",
      "             ((35, 50, 33), 1),\n",
      "             ((35, 52, 38), 1),\n",
      "             ((42, 51, 28), 1),\n",
      "             ((40, 52, 35), 1),\n",
      "             ((33, 59, 29), 1),\n",
      "             ((35, 49, 37), 1),\n",
      "             ((36, 49, 40), 1),\n",
      "             ((34, 46, 34), 1),\n",
      "             ((33, 47, 35), 1),\n",
      "             ((31, 54, 34), 1),\n",
      "             ((36, 51, 32), 1),\n",
      "             ((38, 48, 40), 1),\n",
      "             ((35, 52, 37), 1),\n",
      "             ((37, 45, 39), 1),\n",
      "             ((38, 52, 36), 1),\n",
      "             ((35, 53, 39), 1),\n",
      "             ((35, 53, 29), 1),\n",
      "             ((41, 47, 42), 1),\n",
      "             ((33, 47, 34), 1),\n",
      "             ((34, 52, 38), 1),\n",
      "             ((35, 44, 41), 1),\n",
      "             ((33, 53, 28), 1),\n",
      "             ((33, 53, 26), 1),\n",
      "             ((36, 50, 36), 1),\n",
      "             ((34, 52, 37), 1),\n",
      "             ((34, 49, 29), 1),\n",
      "             ((35, 55, 32), 1),\n",
      "             ((33, 47, 42), 1),\n",
      "             ((34, 51, 30), 1),\n",
      "             ((35, 53, 30), 1),\n",
      "             ((36, 49, 36), 1),\n",
      "             ((32, 49, 38), 1),\n",
      "             ((36, 48, 37), 1),\n",
      "             ((36, 52, 37), 1),\n",
      "             ((33, 51, 37), 1),\n",
      "             ((36, 52, 36), 1),\n",
      "             ((34, 53, 24), 1),\n",
      "             ((34, 51, 32), 1),\n",
      "             ((38, 49, 36), 1),\n",
      "             ((34, 49, 41), 1),\n",
      "             ((37, 50, 39), 1),\n",
      "             ((34, 50, 32), 1),\n",
      "             ((34, 51, 37), 1),\n",
      "             ((36, 52, 38), 1),\n",
      "             ((37, 50, 38), 1),\n",
      "             ((33, 51, 34), 1),\n",
      "             ((33, 47, 37), 1),\n",
      "             ((34, 48, 32), 1),\n",
      "             ((38, 53, 30), 1),\n",
      "             ((35, 56, 34), 1),\n",
      "             ((37, 45, 36), 1),\n",
      "             ((35, 55, 41), 1),\n",
      "             ((36, 51, 29), 1),\n",
      "             ((36, 46, 43), 1),\n",
      "             ((36, 40, 43), 1),\n",
      "             ((33, 48, 34), 1),\n",
      "             ((36, 58, 33), 1),\n",
      "             ((36, 55, 32), 1),\n",
      "             ((35, 53, 32), 1),\n",
      "             ((36, 47, 36), 1),\n",
      "             ((37, 52, 34), 1),\n",
      "             ((35, 47, 37), 1),\n",
      "             ((36, 49, 31), 1),\n",
      "             ((31, 50, 36), 1),\n",
      "             ((38, 43, 41), 1),\n",
      "             ((39, 50, 40), 1),\n",
      "             ((36, 48, 40), 1),\n",
      "             ((33, 48, 38), 1),\n",
      "             ((35, 48, 38), 1),\n",
      "             ((33, 44, 42), 1),\n",
      "             ((37, 48, 37), 1),\n",
      "             ((32, 47, 32), 1),\n",
      "             ((37, 52, 30), 1),\n",
      "             ((34, 45, 43), 1),\n",
      "             ((35, 47, 45), 1),\n",
      "             ((34, 51, 33), 1),\n",
      "             ((36, 44, 43), 1),\n",
      "             ((41, 48, 47), 1),\n",
      "             ((38, 50, 42), 1),\n",
      "             ((36, 50, 31), 1),\n",
      "             ((32, 49, 36), 1),\n",
      "             ((35, 40, 40), 1),\n",
      "             ((36, 50, 38), 1),\n",
      "             ((38, 48, 33), 1),\n",
      "             ((39, 52, 37), 1),\n",
      "             ((37, 47, 42), 1),\n",
      "             ((35, 49, 36), 1),\n",
      "             ((39, 45, 40), 1),\n",
      "             ((37, 52, 26), 1),\n",
      "             ((37, 55, 26), 1),\n",
      "             ((38, 49, 28), 1),\n",
      "             ((38, 52, 34), 1),\n",
      "             ((39, 44, 43), 1),\n",
      "             ((33, 50, 29), 1),\n",
      "             ((34, 49, 30), 1),\n",
      "             ((38, 51, 31), 1),\n",
      "             ((34, 47, 39), 1),\n",
      "             ((37, 50, 33), 1),\n",
      "             ((36, 49, 41), 1),\n",
      "             ((38, 55, 40), 1),\n",
      "             ((36, 54, 27), 1),\n",
      "             ((36, 50, 32), 1),\n",
      "             ((32, 49, 30), 1),\n",
      "             ((38, 51, 33), 1),\n",
      "             ((33, 44, 41), 1),\n",
      "             ((33, 47, 38), 1),\n",
      "             ((35, 49, 35), 1),\n",
      "             ((32, 51, 31), 1),\n",
      "             ((35, 55, 33), 1),\n",
      "             ((38, 54, 30), 1),\n",
      "             ((35, 55, 37), 1),\n",
      "             ((34, 47, 36), 1),\n",
      "             ((34, 49, 35), 1),\n",
      "             ((34, 48, 35), 1),\n",
      "             ((33, 51, 32), 1),\n",
      "             ((36, 57, 37), 1),\n",
      "             ((34, 50, 34), 1),\n",
      "             ((36, 51, 31), 1),\n",
      "             ((33, 46, 38), 1),\n",
      "             ((37, 47, 34), 1),\n",
      "             ((35, 48, 40), 1),\n",
      "             ((33, 55, 29), 1),\n",
      "             ((38, 47, 37), 1),\n",
      "             ((37, 43, 43), 1),\n",
      "             ((35, 49, 34), 1),\n",
      "             ((38, 52, 35), 1),\n",
      "             ((36, 51, 37), 1),\n",
      "             ((35, 51, 40), 1),\n",
      "             ((33, 49, 37), 1),\n",
      "             ((38, 48, 39), 1),\n",
      "             ((37, 45, 40), 1),\n",
      "             ((32, 45, 38), 1),\n",
      "             ((35, 46, 38), 1),\n",
      "             ((35, 50, 34), 1),\n",
      "             ((38, 51, 35), 1),\n",
      "             ((38, 48, 37), 1),\n",
      "             ((33, 47, 32), 1),\n",
      "             ((35, 52, 29), 1),\n",
      "             ((38, 47, 45), 1),\n",
      "             ((34, 52, 34), 1),\n",
      "             ((34, 51, 35), 1),\n",
      "             ((34, 43, 40), 1),\n",
      "             ((34, 55, 36), 1),\n",
      "             ((34, 54, 29), 1),\n",
      "             ((33, 51, 25), 1),\n",
      "             ((35, 51, 32), 1),\n",
      "             ((36, 50, 26), 1),\n",
      "             ((33, 47, 28), 1),\n",
      "             ((36, 56, 31), 1),\n",
      "             ((33, 49, 36), 1),\n",
      "             ((34, 51, 40), 1),\n",
      "             ((34, 51, 34), 1),\n",
      "             ((37, 51, 38), 1),\n",
      "             ((33, 51, 33), 1),\n",
      "             ((37, 51, 32), 1),\n",
      "             ((35, 51, 38), 1),\n",
      "             ((35, 50, 25), 1),\n",
      "             ((34, 52, 36), 1),\n",
      "             ((36, 46, 37), 1),\n",
      "             ((33, 45, 39), 1),\n",
      "             ((35, 47, 40), 1),\n",
      "             ((32, 52, 33), 1),\n",
      "             ((34, 47, 44), 1),\n",
      "             ((33, 57, 33), 1),\n",
      "             ((38, 51, 36), 1),\n",
      "             ((37, 50, 37), 1),\n",
      "             ((38, 52, 30), 1),\n",
      "             ((35, 50, 37), 1),\n",
      "             ((39, 46, 39), 1),\n",
      "             ((34, 52, 33), 1),\n",
      "             ((35, 49, 30), 1),\n",
      "             ((37, 42, 45), 1),\n",
      "             ((34, 40, 46), 1),\n",
      "             ((35, 45, 33), 1),\n",
      "             ((40, 55, 33), 1),\n",
      "             ((37, 53, 34), 1),\n",
      "             ((35, 50, 35), 1),\n",
      "             ((34, 41, 39), 1),\n",
      "             ((35, 53, 34), 1),\n",
      "             ((34, 47, 31), 1),\n",
      "             ((37, 52, 41), 1),\n",
      "             ((32, 54, 30), 1),\n",
      "             ((39, 49, 31), 1),\n",
      "             ((34, 48, 34), 1),\n",
      "             ((38, 49, 37), 1),\n",
      "             ((32, 51, 35), 1),\n",
      "             ((34, 53, 27), 1),\n",
      "             ((30, 45, 39), 1),\n",
      "             ((37, 49, 40), 1),\n",
      "             ((34, 55, 29), 1),\n",
      "             ((36, 51, 33), 1),\n",
      "             ((35, 51, 29), 1),\n",
      "             ((36, 47, 42), 1),\n",
      "             ((34, 52, 29), 1),\n",
      "             ((34, 48, 39), 1),\n",
      "             ((36, 48, 35), 1),\n",
      "             ((35, 52, 32), 1),\n",
      "             ((34, 47, 38), 1),\n",
      "             ((35, 54, 38), 1),\n",
      "             ((35, 49, 32), 1),\n",
      "             ((34, 50, 33), 1),\n",
      "             ((38, 50, 35), 1),\n",
      "             ((37, 50, 30), 1),\n",
      "             ((37, 55, 32), 1),\n",
      "             ((37, 50, 31), 1),\n",
      "             ((36, 55, 34), 1),\n",
      "             ((38, 50, 34), 1),\n",
      "             ((37, 46, 38), 1),\n",
      "             ((39, 47, 41), 1),\n",
      "             ((34, 48, 43), 1),\n",
      "             ((35, 44, 42), 1),\n",
      "             ((37, 53, 37), 1),\n",
      "             ((35, 54, 30), 1),\n",
      "             ((38, 49, 31), 1),\n",
      "             ((33, 48, 41), 1),\n",
      "             ((33, 48, 37), 1),\n",
      "             ((34, 43, 38), 1),\n",
      "             ((36, 56, 26), 1),\n",
      "             ((39, 47, 36), 1),\n",
      "             ((38, 42, 45), 1),\n",
      "             ((36, 52, 30), 1),\n",
      "             ((36, 48, 32), 1),\n",
      "             ((34, 56, 28), 1),\n",
      "             ((38, 47, 35), 1),\n",
      "             ((37, 52, 36), 1),\n",
      "             ((37, 49, 35), 1),\n",
      "             ((37, 52, 33), 1),\n",
      "             ((33, 44, 44), 1),\n",
      "             ((35, 58, 34), 1)])\n"
     ]
    }
   ],
   "source": [
    "shape_count_dict = OrderedDict(sorted(shape_count_dict.items(), key=lambda item: item[1], reverse=True))\n",
    "pprint(shape_count_dict)"
   ]
  },
  {
   "cell_type": "code",
   "execution_count": 54,
   "id": "heavy-september",
   "metadata": {},
   "outputs": [
    {
     "name": "stdout",
     "output_type": "stream",
     "text": [
      "35.375\n",
      "35.0\n",
      "24\n",
      "47\n"
     ]
    }
   ],
   "source": [
    "list_layers = []\n",
    "for key, val in shape_count_dict.items():\n",
    "    list_layers.append(key[2])\n",
    "\n",
    "layers = np.array(list_layers)\n",
    "print(layers.mean())\n",
    "print(np.median(layers))\n",
    "print(layers.min())\n",
    "print(layers.max())"
   ]
  },
  {
   "cell_type": "code",
   "execution_count": 55,
   "id": "cognitive-train",
   "metadata": {},
   "outputs": [
    {
     "name": "stdout",
     "output_type": "stream",
     "text": [
      "35.37202380952381\n",
      "35.0\n",
      "30\n",
      "43\n",
      "----------------------\n",
      "49.92559523809524\n",
      "50.0\n",
      "40\n",
      "59\n"
     ]
    }
   ],
   "source": [
    "list_heights = []\n",
    "list_widths = []\n",
    "\n",
    "for key, val in shape_count_dict.items():\n",
    "    list_heights.append(key[0])\n",
    "    list_widths.append(key[1])\n",
    "\n",
    "heights = np.array(list_heights)\n",
    "widths = np.array(list_widths)\n",
    "\n",
    "print(heights.mean())\n",
    "print(np.median(heights))\n",
    "print(heights.min())\n",
    "print(heights.max())\n",
    "print(\"----------------------\")\n",
    "print(widths.mean())\n",
    "print(np.median(widths))\n",
    "print(widths.min())\n",
    "print(widths.max())"
   ]
  }
 ],
 "metadata": {
  "kernelspec": {
   "display_name": "Python 3",
   "language": "python",
   "name": "python3"
  },
  "language_info": {
   "codemirror_mode": {
    "name": "ipython",
    "version": 3
   },
   "file_extension": ".py",
   "mimetype": "text/x-python",
   "name": "python",
   "nbconvert_exporter": "python",
   "pygments_lexer": "ipython3",
   "version": "3.7.10"
  }
 },
 "nbformat": 4,
 "nbformat_minor": 5
}
