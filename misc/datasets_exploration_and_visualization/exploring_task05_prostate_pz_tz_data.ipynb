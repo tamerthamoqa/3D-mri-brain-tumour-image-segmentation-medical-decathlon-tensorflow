{
 "cells": [
  {
   "cell_type": "markdown",
   "id": "micro-major",
   "metadata": {},
   "source": [
    "__Note__: The code used here was heavily inspired by the AI for Medicine Specialization Course 1 Week three programming assignments: [link](https://www.coursera.org/learn/ai-for-medical-diagnosis)"
   ]
  },
  {
   "cell_type": "code",
   "execution_count": 1,
   "id": "attractive-operator",
   "metadata": {},
   "outputs": [],
   "source": [
    "import numpy as np\n",
    "import nibabel as nib\n",
    "import matplotlib.pyplot as plt\n",
    "import json\n",
    "import os\n",
    "from pprint import pprint\n",
    "from collections import OrderedDict\n",
    "from ipywidgets import interact, interactive, IntSlider, ToggleButtons\n",
    "from sys import getsizeof\n",
    "from tqdm import tqdm"
   ]
  },
  {
   "cell_type": "markdown",
   "id": "broadband-cisco",
   "metadata": {},
   "source": [
    "### Reading dataset description"
   ]
  },
  {
   "cell_type": "code",
   "execution_count": 2,
   "id": "modular-selling",
   "metadata": {},
   "outputs": [],
   "source": [
    "file = open('../datasets_descriptions_json/task05_prostate_dataset.json')\n",
    "data_description = json.load(file)"
   ]
  },
  {
   "cell_type": "code",
   "execution_count": 3,
   "id": "convinced-occupation",
   "metadata": {},
   "outputs": [
    {
     "name": "stdout",
     "output_type": "stream",
     "text": [
      "{\n",
      "    \"name\": \"PROSTATE\",\n",
      "    \"description\": \"Prostate transitional zone and peripheral zone segmentation\",\n",
      "    \"reference\": \"Radboud University, Nijmegen Medical Centre\",\n",
      "    \"licence\": \"CC-BY-SA 4.0\",\n",
      "    \"relase\": \"1.0 04/05/2018\",\n",
      "    \"tensorImageSize\": \"4D\",\n",
      "    \"quantitative\": [\n",
      "        0,\n",
      "        1\n",
      "    ],\n",
      "    \"modality\": {\n",
      "        \"0\": \"T2\",\n",
      "        \"1\": \"ADC\"\n",
      "    },\n",
      "    \"labels\": {\n",
      "        \"0\": \"background\",\n",
      "        \"1\": \"PZ\",\n",
      "        \"2\": \"TZ\"\n",
      "    },\n",
      "    \"numTraining\": 32,\n",
      "    \"numTest\": 16,\n",
      "    \"training\": [\n",
      "        {\n",
      "            \"image\": \"./imagesTr/prostate_16.nii.gz\",\n",
      "            \"label\": \"./labelsTr/prostate_16.nii.gz\"\n",
      "        },\n",
      "        {\n",
      "            \"image\": \"./imagesTr/prostate_04.nii.gz\",\n",
      "            \"label\": \"./labelsTr/prostate_04.nii.gz\"\n",
      "        },\n",
      "        {\n",
      "            \"image\": \"./imagesTr/prostate_32.nii.gz\",\n",
      "            \"label\": \"./labelsTr/prostate_32.nii.gz\"\n",
      "        },\n",
      "        {\n",
      "            \"image\": \"./imagesTr/prostate_20.nii.gz\",\n",
      "            \"label\": \"./labelsTr/prostate_20.nii.gz\"\n",
      "        },\n",
      "        {\n",
      "            \"image\": \"./imagesTr/prostate_43.nii.gz\",\n",
      "            \"label\": \"./labelsTr/prostate_43.nii.gz\"\n",
      "        },\n",
      "        {\n",
      "            \"image\": \"./imagesTr/prostate_18.nii.gz\",\n",
      "            \"label\": \"./labelsTr/prostate_18.nii.gz\"\n",
      "        },\n",
      "        {\n",
      "            \"image\": \"./imagesTr/prostate_06.nii.gz\",\n",
      "            \"label\": \"./labelsTr/prostate_06.nii.gz\"\n",
      "        },\n",
      "        {\n",
      "            \"image\": \"./imagesTr/prostate_14.nii.gz\",\n",
      "            \"label\": \"./labelsTr/prostate_14.nii.gz\"\n",
      "        },\n",
      "        {\n",
      "            \"image\": \"./imagesTr/prostate_41.nii.gz\",\n",
      "            \"label\": \"./labelsTr/prostate_41.nii.gz\"\n",
      "        },\n",
      "        {\n",
      "            \"image\": \"./imagesTr/prostate_34.nii.gz\",\n",
      "            \"label\": \"./labelsTr/prostate_34.nii.gz\"\n",
      "        },\n",
      "        {\n",
      "            \"image\": \"./imagesTr/prostate_38.nii.gz\",\n",
      "            \"label\": \"./labelsTr/prostate_38.nii.gz\"\n",
      "        },\n",
      "        {\n",
      "            \"image\": \"./imagesTr/prostate_10.nii.gz\",\n",
      "            \"label\": \"./labelsTr/prostate_10.nii.gz\"\n",
      "        },\n",
      "        {\n",
      "            \"image\": \"./imagesTr/prostate_02.nii.gz\",\n",
      "            \"label\": \"./labelsTr/prostate_02.nii.gz\"\n",
      "        },\n",
      "        {\n",
      "            \"image\": \"./imagesTr/prostate_24.nii.gz\",\n",
      "            \"label\": \"./labelsTr/prostate_24.nii.gz\"\n",
      "        },\n",
      "        {\n",
      "            \"image\": \"./imagesTr/prostate_47.nii.gz\",\n",
      "            \"label\": \"./labelsTr/prostate_47.nii.gz\"\n",
      "        },\n",
      "        {\n",
      "            \"image\": \"./imagesTr/prostate_28.nii.gz\",\n",
      "            \"label\": \"./labelsTr/prostate_28.nii.gz\"\n",
      "        },\n",
      "        {\n",
      "            \"image\": \"./imagesTr/prostate_00.nii.gz\",\n",
      "            \"label\": \"./labelsTr/prostate_00.nii.gz\"\n",
      "        },\n",
      "        {\n",
      "            \"image\": \"./imagesTr/prostate_42.nii.gz\",\n",
      "            \"label\": \"./labelsTr/prostate_42.nii.gz\"\n",
      "        },\n",
      "        {\n",
      "            \"image\": \"./imagesTr/prostate_21.nii.gz\",\n",
      "            \"label\": \"./labelsTr/prostate_21.nii.gz\"\n",
      "        },\n",
      "        {\n",
      "            \"image\": \"./imagesTr/prostate_17.nii.gz\",\n",
      "            \"label\": \"./labelsTr/prostate_17.nii.gz\"\n",
      "        },\n",
      "        {\n",
      "            \"image\": \"./imagesTr/prostate_40.nii.gz\",\n",
      "            \"label\": \"./labelsTr/prostate_40.nii.gz\"\n",
      "        },\n",
      "        {\n",
      "            \"image\": \"./imagesTr/prostate_31.nii.gz\",\n",
      "            \"label\": \"./labelsTr/prostate_31.nii.gz\"\n",
      "        },\n",
      "        {\n",
      "            \"image\": \"./imagesTr/prostate_07.nii.gz\",\n",
      "            \"label\": \"./labelsTr/prostate_07.nii.gz\"\n",
      "        },\n",
      "        {\n",
      "            \"image\": \"./imagesTr/prostate_35.nii.gz\",\n",
      "            \"label\": \"./labelsTr/prostate_35.nii.gz\"\n",
      "        },\n",
      "        {\n",
      "            \"image\": \"./imagesTr/prostate_44.nii.gz\",\n",
      "            \"label\": \"./labelsTr/prostate_44.nii.gz\"\n",
      "        },\n",
      "        {\n",
      "            \"image\": \"./imagesTr/prostate_39.nii.gz\",\n",
      "            \"label\": \"./labelsTr/prostate_39.nii.gz\"\n",
      "        },\n",
      "        {\n",
      "            \"image\": \"./imagesTr/prostate_01.nii.gz\",\n",
      "            \"label\": \"./labelsTr/prostate_01.nii.gz\"\n",
      "        },\n",
      "        {\n",
      "            \"image\": \"./imagesTr/prostate_13.nii.gz\",\n",
      "            \"label\": \"./labelsTr/prostate_13.nii.gz\"\n",
      "        },\n",
      "        {\n",
      "            \"image\": \"./imagesTr/prostate_46.nii.gz\",\n",
      "            \"label\": \"./labelsTr/prostate_46.nii.gz\"\n",
      "        },\n",
      "        {\n",
      "            \"image\": \"./imagesTr/prostate_25.nii.gz\",\n",
      "            \"label\": \"./labelsTr/prostate_25.nii.gz\"\n",
      "        },\n",
      "        {\n",
      "            \"image\": \"./imagesTr/prostate_29.nii.gz\",\n",
      "            \"label\": \"./labelsTr/prostate_29.nii.gz\"\n",
      "        },\n",
      "        {\n",
      "            \"image\": \"./imagesTr/prostate_37.nii.gz\",\n",
      "            \"label\": \"./labelsTr/prostate_37.nii.gz\"\n",
      "        }\n",
      "    ],\n",
      "    \"test\": [\n",
      "        \"./imagesTs/prostate_08.nii.gz\",\n",
      "        \"./imagesTs/prostate_22.nii.gz\",\n",
      "        \"./imagesTs/prostate_30.nii.gz\",\n",
      "        \"./imagesTs/prostate_45.nii.gz\",\n",
      "        \"./imagesTs/prostate_26.nii.gz\",\n",
      "        \"./imagesTs/prostate_36.nii.gz\",\n",
      "        \"./imagesTs/prostate_12.nii.gz\",\n",
      "        \"./imagesTs/prostate_33.nii.gz\",\n",
      "        \"./imagesTs/prostate_09.nii.gz\",\n",
      "        \"./imagesTs/prostate_05.nii.gz\",\n",
      "        \"./imagesTs/prostate_23.nii.gz\",\n",
      "        \"./imagesTs/prostate_19.nii.gz\",\n",
      "        \"./imagesTs/prostate_15.nii.gz\",\n",
      "        \"./imagesTs/prostate_11.nii.gz\",\n",
      "        \"./imagesTs/prostate_03.nii.gz\",\n",
      "        \"./imagesTs/prostate_27.nii.gz\"\n",
      "    ]\n",
      "}\n"
     ]
    }
   ],
   "source": [
    "print(json.dumps(data_description, indent=4))"
   ]
  },
  {
   "cell_type": "markdown",
   "id": "revised-calgary",
   "metadata": {},
   "source": [
    "### Reading and visualizing prostate_00 nifti MRI and mask files"
   ]
  },
  {
   "cell_type": "markdown",
   "id": "thirty-seattle",
   "metadata": {},
   "source": [
    "#### MRI file"
   ]
  },
  {
   "cell_type": "code",
   "execution_count": 4,
   "id": "choice-softball",
   "metadata": {},
   "outputs": [],
   "source": [
    "mri_1 = nib.load(\"../../datasets/Task05_Prostate/train/images/prostate_00.nii.gz\")"
   ]
  },
  {
   "cell_type": "code",
   "execution_count": 5,
   "id": "received-fitting",
   "metadata": {},
   "outputs": [
    {
     "data": {
      "text/plain": [
       "nibabel.nifti1.Nifti1Image"
      ]
     },
     "execution_count": 5,
     "metadata": {},
     "output_type": "execute_result"
    }
   ],
   "source": [
    "type(mri_1)"
   ]
  },
  {
   "cell_type": "code",
   "execution_count": 6,
   "id": "personal-average",
   "metadata": {},
   "outputs": [],
   "source": [
    "# Read Nifi Image object as numpy file\n",
    "mri_1 = mri_1.get_fdata()"
   ]
  },
  {
   "cell_type": "code",
   "execution_count": 7,
   "id": "comparable-torture",
   "metadata": {},
   "outputs": [
    {
     "data": {
      "text/plain": [
       "numpy.ndarray"
      ]
     },
     "execution_count": 7,
     "metadata": {},
     "output_type": "execute_result"
    }
   ],
   "source": [
    "type(mri_1)"
   ]
  },
  {
   "cell_type": "code",
   "execution_count": 8,
   "id": "contained-occasions",
   "metadata": {},
   "outputs": [
    {
     "data": {
      "text/plain": [
       "dtype('float64')"
      ]
     },
     "execution_count": 8,
     "metadata": {},
     "output_type": "execute_result"
    }
   ],
   "source": [
    "mri_1.dtype"
   ]
  },
  {
   "cell_type": "code",
   "execution_count": 9,
   "id": "cooperative-blackjack",
   "metadata": {},
   "outputs": [
    {
     "data": {
      "text/plain": [
       "(320, 320, 15, 2)"
      ]
     },
     "execution_count": 9,
     "metadata": {},
     "output_type": "execute_result"
    }
   ],
   "source": [
    "mri_1.shape"
   ]
  },
  {
   "cell_type": "code",
   "execution_count": 10,
   "id": "affected-disaster",
   "metadata": {},
   "outputs": [
    {
     "name": "stdout",
     "output_type": "stream",
     "text": [
      "1486.0\n",
      "3619.0\n"
     ]
    }
   ],
   "source": [
    "# Range of voxel values (maximum value - minimum value)\n",
    "print(mri_1[:, :, :, 0].ptp()) # Channel 0\n",
    "print(mri_1[:, :, :, 1].ptp()) # Channel 1"
   ]
  },
  {
   "cell_type": "code",
   "execution_count": 11,
   "id": "coastal-steering",
   "metadata": {},
   "outputs": [
    {
     "data": {
      "text/plain": [
       "24576144"
      ]
     },
     "execution_count": 11,
     "metadata": {},
     "output_type": "execute_result"
    }
   ],
   "source": [
    "getsizeof(mri_1) # 24.576144 MBs"
   ]
  },
  {
   "cell_type": "code",
   "execution_count": 12,
   "id": "egyptian-citizenship",
   "metadata": {},
   "outputs": [
    {
     "data": {
      "text/plain": [
       "12288144"
      ]
     },
     "execution_count": 12,
     "metadata": {},
     "output_type": "execute_result"
    }
   ],
   "source": [
    "getsizeof(mri_1.astype(np.float32)) # 12.288144 MBs"
   ]
  },
  {
   "cell_type": "code",
   "execution_count": 13,
   "id": "advised-complexity",
   "metadata": {},
   "outputs": [
    {
     "data": {
      "text/plain": [
       "6144144"
      ]
     },
     "execution_count": 13,
     "metadata": {},
     "output_type": "execute_result"
    }
   ],
   "source": [
    "getsizeof(mri_1.astype(np.float16)) # 6.144144 MBs"
   ]
  },
  {
   "cell_type": "markdown",
   "id": "shared-weight",
   "metadata": {},
   "source": [
    "#### Mask file"
   ]
  },
  {
   "cell_type": "code",
   "execution_count": 14,
   "id": "paperback-times",
   "metadata": {},
   "outputs": [],
   "source": [
    "mri_1_mask = nib.load(\"../../datasets/Task05_Prostate/train/masks/prostate_00.nii.gz\")"
   ]
  },
  {
   "cell_type": "code",
   "execution_count": 15,
   "id": "every-advertising",
   "metadata": {},
   "outputs": [],
   "source": [
    "mri_1_mask = mri_1_mask.get_fdata()"
   ]
  },
  {
   "cell_type": "code",
   "execution_count": 16,
   "id": "blank-protocol",
   "metadata": {},
   "outputs": [
    {
     "data": {
      "text/plain": [
       "dtype('float64')"
      ]
     },
     "execution_count": 16,
     "metadata": {},
     "output_type": "execute_result"
    }
   ],
   "source": [
    "mri_1_mask.dtype"
   ]
  },
  {
   "cell_type": "code",
   "execution_count": 17,
   "id": "disturbed-judges",
   "metadata": {},
   "outputs": [
    {
     "data": {
      "text/plain": [
       "array([0., 1., 2.])"
      ]
     },
     "execution_count": 17,
     "metadata": {},
     "output_type": "execute_result"
    }
   ],
   "source": [
    "np.unique(mri_1_mask)"
   ]
  },
  {
   "cell_type": "code",
   "execution_count": 18,
   "id": "mathematical-hygiene",
   "metadata": {},
   "outputs": [
    {
     "data": {
      "text/plain": [
       "12288128"
      ]
     },
     "execution_count": 18,
     "metadata": {},
     "output_type": "execute_result"
    }
   ],
   "source": [
    "getsizeof(mri_1_mask) # 12.288128 MBs"
   ]
  },
  {
   "cell_type": "code",
   "execution_count": 19,
   "id": "mental-reynolds",
   "metadata": {},
   "outputs": [
    {
     "data": {
      "text/plain": [
       "6144128"
      ]
     },
     "execution_count": 19,
     "metadata": {},
     "output_type": "execute_result"
    }
   ],
   "source": [
    "getsizeof(mri_1_mask.astype(np.float32)) # 6.144128 MBs"
   ]
  },
  {
   "cell_type": "code",
   "execution_count": 20,
   "id": "local-broadway",
   "metadata": {},
   "outputs": [
    {
     "data": {
      "text/plain": [
       "1536128"
      ]
     },
     "execution_count": 20,
     "metadata": {},
     "output_type": "execute_result"
    }
   ],
   "source": [
    "getsizeof(mri_1_mask.astype(np.uint8)) # 1.536128 MBs"
   ]
  },
  {
   "cell_type": "code",
   "execution_count": 21,
   "id": "athletic-track",
   "metadata": {},
   "outputs": [],
   "source": [
    "mri_1_mask = mri_1_mask.astype(np.float32)"
   ]
  },
  {
   "cell_type": "code",
   "execution_count": 22,
   "id": "realistic-interpretation",
   "metadata": {},
   "outputs": [
    {
     "data": {
      "text/plain": [
       "(320, 320, 15)"
      ]
     },
     "execution_count": 22,
     "metadata": {},
     "output_type": "execute_result"
    }
   ],
   "source": [
    "mri_1_mask.shape"
   ]
  },
  {
   "cell_type": "markdown",
   "id": "outer-manor",
   "metadata": {
    "tags": []
   },
   "source": [
    "### Visualizing nifti MRI file and Mask file"
   ]
  },
  {
   "cell_type": "code",
   "execution_count": 23,
   "id": "wrong-leader",
   "metadata": {
    "scrolled": true
   },
   "outputs": [
    {
     "data": {
      "application/vnd.jupyter.widget-view+json": {
       "model_id": "bd8acdbccad849f4a42204edde8ce83f",
       "version_major": 2,
       "version_minor": 0
      },
      "text/plain": [
       "interactive(children=(ToggleButtons(button_style='info', description='Select Class:', options=('Background', '…"
      ]
     },
     "metadata": {},
     "output_type": "display_data"
    }
   ],
   "source": [
    "classes_dict = {\n",
    "    'Background': 0,\n",
    "    'Peripheral-Zone': 1,\n",
    "    'Transition-Zone': 2\n",
    "}\n",
    "\n",
    "# Create button values\n",
    "select_class = ToggleButtons(\n",
    "    options=['Background', 'Peripheral-Zone', 'Transition-Zone', 'All'],\n",
    "    description='Select Class:',\n",
    "    disabled=False,\n",
    "    button_style='info', \n",
    "    \n",
    ")\n",
    "# Create layer slider\n",
    "select_layer = IntSlider(min=0, max=mri_1.shape[2] - 1, description='Select Layer', continuous_update=False)\n",
    "\n",
    "    \n",
    "# Define a function for plotting images\n",
    "def plot(seg_class, layer, channel):\n",
    "    print(f\"Plotting Layer: {layer} | Label: {seg_class} | Channel: {channel}\")\n",
    "    fig = plt.figure(figsize=(20, 10))\n",
    "    \n",
    "    fig.add_subplot(1, 2, 1)\n",
    "    plt.imshow(mri_1[:, :, layer, channel], cmap='gray');\n",
    "    plt.title(\"MRI\", fontsize=20)\n",
    "    plt.axis('off')\n",
    "    \n",
    "    fig.add_subplot(1, 2, 2)\n",
    "    if seg_class == \"All\":\n",
    "        mask = mri_1_mask[:, :, layer]\n",
    "        plt.title(\"Mask\", fontsize=20)\n",
    "        plt.imshow(mask)\n",
    "        plt.axis('off');\n",
    "    else:\n",
    "        img_label = classes_dict[seg_class]\n",
    "        mask = np.where(mri_1_mask[:, :, layer] == img_label, 255, 0)\n",
    "        plt.title(\"Mask\", fontsize=20)\n",
    "        plt.imshow(mask, cmap='gray')\n",
    "        plt.axis('off');\n",
    "\n",
    "# Set channel to view:\n",
    "#  Channel 0: T2\n",
    "#  Channel 1: ADC    \n",
    "    \n",
    "# Use the interactive() tool to create the visualization\n",
    "interactive(plot, seg_class=select_class, layer=select_layer, channel=(0, 1))"
   ]
  },
  {
   "cell_type": "markdown",
   "id": "e62fbd7c-ec76-4e0c-be25-98d4a3b98ad2",
   "metadata": {},
   "source": [
    "### Reading and visualizing prostate_01 nifti MRI and mask files"
   ]
  },
  {
   "cell_type": "markdown",
   "id": "d9d96f64-34fa-4b32-897a-c6dd356b1d65",
   "metadata": {
    "tags": []
   },
   "source": [
    "#### MRI file"
   ]
  },
  {
   "cell_type": "code",
   "execution_count": 24,
   "id": "4d914151-4bbc-494a-936e-d0e610e24e42",
   "metadata": {},
   "outputs": [],
   "source": [
    "mri_2 = nib.load(\"../../datasets/Task05_Prostate/train/images/prostate_01.nii.gz\")"
   ]
  },
  {
   "cell_type": "code",
   "execution_count": 25,
   "id": "9d616dd5-73a8-4c77-a8db-566f869411f1",
   "metadata": {},
   "outputs": [
    {
     "data": {
      "text/plain": [
       "nibabel.nifti1.Nifti1Image"
      ]
     },
     "execution_count": 25,
     "metadata": {},
     "output_type": "execute_result"
    }
   ],
   "source": [
    "type(mri_2)"
   ]
  },
  {
   "cell_type": "code",
   "execution_count": 26,
   "id": "55a0e9af-96fb-476d-a98b-bc2344647efa",
   "metadata": {},
   "outputs": [],
   "source": [
    "# Read Nifi Image object as numpy file\n",
    "mri_2 = mri_2.get_fdata()"
   ]
  },
  {
   "cell_type": "code",
   "execution_count": 27,
   "id": "800b89f1-0c2d-4ff3-9fda-6d1d9ec35a4a",
   "metadata": {},
   "outputs": [
    {
     "data": {
      "text/plain": [
       "numpy.ndarray"
      ]
     },
     "execution_count": 27,
     "metadata": {},
     "output_type": "execute_result"
    }
   ],
   "source": [
    "type(mri_2)"
   ]
  },
  {
   "cell_type": "code",
   "execution_count": 28,
   "id": "233d5ff6-3451-40e5-bb41-2e3b5ef84668",
   "metadata": {},
   "outputs": [
    {
     "data": {
      "text/plain": [
       "dtype('float64')"
      ]
     },
     "execution_count": 28,
     "metadata": {},
     "output_type": "execute_result"
    }
   ],
   "source": [
    "mri_2.dtype"
   ]
  },
  {
   "cell_type": "code",
   "execution_count": 29,
   "id": "bf9a6a29-3ed3-4ed8-8ed2-cbfbc4589dd9",
   "metadata": {},
   "outputs": [
    {
     "data": {
      "text/plain": [
       "(320, 320, 20, 2)"
      ]
     },
     "execution_count": 29,
     "metadata": {},
     "output_type": "execute_result"
    }
   ],
   "source": [
    "mri_2.shape"
   ]
  },
  {
   "cell_type": "code",
   "execution_count": 30,
   "id": "773adde7-3d88-403f-ab64-9b24014eb4af",
   "metadata": {},
   "outputs": [
    {
     "name": "stdout",
     "output_type": "stream",
     "text": [
      "1693.0\n",
      "2948.0\n"
     ]
    }
   ],
   "source": [
    "# Range of voxel values (maximum value - minimum value)\n",
    "print(mri_2[:, :, :, 0].ptp()) # Channel 0\n",
    "print(mri_2[:, :, :, 1].ptp()) # Channel 1"
   ]
  },
  {
   "cell_type": "markdown",
   "id": "1d788e76-985b-456f-878b-ed1f80a43d39",
   "metadata": {},
   "source": [
    "#### Mask file"
   ]
  },
  {
   "cell_type": "code",
   "execution_count": 31,
   "id": "90ddb59f-6da9-401e-b0bc-e5d47ba05470",
   "metadata": {},
   "outputs": [],
   "source": [
    "mri_2_mask = nib.load(\"../../datasets/Task05_Prostate/train/masks/prostate_01.nii.gz\")"
   ]
  },
  {
   "cell_type": "code",
   "execution_count": 32,
   "id": "851f75fd-ac27-452f-aad2-6245e577c972",
   "metadata": {},
   "outputs": [],
   "source": [
    "mri_2_mask = mri_2_mask.get_fdata()"
   ]
  },
  {
   "cell_type": "code",
   "execution_count": 33,
   "id": "07f5311d-71ee-4256-8882-894abcc4fc26",
   "metadata": {},
   "outputs": [
    {
     "data": {
      "text/plain": [
       "dtype('float64')"
      ]
     },
     "execution_count": 33,
     "metadata": {},
     "output_type": "execute_result"
    }
   ],
   "source": [
    "mri_2_mask.dtype"
   ]
  },
  {
   "cell_type": "code",
   "execution_count": 34,
   "id": "214a7b9a-ad7f-4792-b49e-ff3b18cdf914",
   "metadata": {},
   "outputs": [
    {
     "data": {
      "text/plain": [
       "array([0., 1., 2.])"
      ]
     },
     "execution_count": 34,
     "metadata": {},
     "output_type": "execute_result"
    }
   ],
   "source": [
    "np.unique(mri_2_mask)"
   ]
  },
  {
   "cell_type": "code",
   "execution_count": 35,
   "id": "bcb9b4fb-0469-4587-b892-6340140d8e3c",
   "metadata": {},
   "outputs": [],
   "source": [
    "mri_2_mask = mri_2_mask.astype(np.float32)"
   ]
  },
  {
   "cell_type": "code",
   "execution_count": 36,
   "id": "cbfa50f4-9643-44e9-991c-f9ede2b93d47",
   "metadata": {},
   "outputs": [
    {
     "data": {
      "text/plain": [
       "(320, 320, 20)"
      ]
     },
     "execution_count": 36,
     "metadata": {},
     "output_type": "execute_result"
    }
   ],
   "source": [
    "mri_2_mask.shape"
   ]
  },
  {
   "cell_type": "markdown",
   "id": "201d6667-2c23-4562-9198-500326097cbb",
   "metadata": {
    "tags": []
   },
   "source": [
    "### Visualizing nifti MRI file and Mask file"
   ]
  },
  {
   "cell_type": "code",
   "execution_count": 37,
   "id": "c4f2062b-6aac-496d-bccf-5a16f66cb06e",
   "metadata": {
    "scrolled": true
   },
   "outputs": [
    {
     "data": {
      "application/vnd.jupyter.widget-view+json": {
       "model_id": "7c4d91b2385147a8a6b49b6c9f1af556",
       "version_major": 2,
       "version_minor": 0
      },
      "text/plain": [
       "interactive(children=(ToggleButtons(button_style='info', description='Select Class:', options=('Background', '…"
      ]
     },
     "metadata": {},
     "output_type": "display_data"
    }
   ],
   "source": [
    "classes_dict = {\n",
    "    'Background': 0,\n",
    "    'Peripheral-Zone': 1,\n",
    "    'Transition-Zone': 2\n",
    "}\n",
    "\n",
    "# Create button values\n",
    "select_class = ToggleButtons(\n",
    "    options=['Background','Peripheral-Zone', 'Transition-Zone', 'All'],\n",
    "    description='Select Class:',\n",
    "    disabled=False,\n",
    "    button_style='info', \n",
    "    \n",
    ")\n",
    "# Create layer slider\n",
    "select_layer = IntSlider(min=0, max=mri_2.shape[2] - 1, description='Select Layer', continuous_update=False)\n",
    "\n",
    "    \n",
    "# Define a function for plotting images\n",
    "def plot(seg_class, layer, channel):\n",
    "    print(f\"Plotting Layer: {layer} | Label: {seg_class} | Channel: {channel}\")\n",
    "    fig = plt.figure(figsize=(20, 10))\n",
    "    \n",
    "    fig.add_subplot(1, 2, 1)\n",
    "    plt.imshow(mri_2[:, :, layer, channel], cmap='gray');\n",
    "    plt.title(\"MRI\", fontsize=20)\n",
    "    plt.axis('off')\n",
    "    \n",
    "    fig.add_subplot(1, 2, 2)\n",
    "    if seg_class == \"All\":\n",
    "        mask = mri_2_mask[:, :, layer]\n",
    "        plt.title(\"Mask\", fontsize=20)\n",
    "        plt.imshow(mask)\n",
    "        plt.axis('off');\n",
    "    else:\n",
    "        img_label = classes_dict[seg_class]\n",
    "        mask = np.where(mri_2_mask[:, :, layer] == img_label, 255, 0)\n",
    "        plt.title(\"Mask\", fontsize=20)\n",
    "        plt.imshow(mask, cmap='gray')\n",
    "        plt.axis('off');\n",
    "\n",
    "# Set channel to view:\n",
    "#  Channel 0: T2\n",
    "#  Channel 1: ADC    \n",
    "    \n",
    "# Use the interactive() tool to create the visualization\n",
    "interactive(plot, seg_class=select_class, layer=select_layer, channel=(0, 1))"
   ]
  },
  {
   "cell_type": "markdown",
   "id": "640d8ada-e098-4b2e-8f6b-1c27540de782",
   "metadata": {},
   "source": [
    "### Reading and visualizing prostate_02 nifti MRI and mask files"
   ]
  },
  {
   "cell_type": "markdown",
   "id": "b247f1bc-e4fc-465c-b735-0f0638fbee2d",
   "metadata": {},
   "source": [
    "#### MRI file"
   ]
  },
  {
   "cell_type": "code",
   "execution_count": 38,
   "id": "e16a162b-537d-48ce-bb70-d85db8d01d2d",
   "metadata": {
    "tags": []
   },
   "outputs": [],
   "source": [
    "mri_3 = nib.load(\"../../datasets/Task05_Prostate/train/images/prostate_02.nii.gz\")"
   ]
  },
  {
   "cell_type": "code",
   "execution_count": 39,
   "id": "91ec693a-5c1d-4270-b6d6-5e25bc4e528d",
   "metadata": {},
   "outputs": [
    {
     "data": {
      "text/plain": [
       "nibabel.nifti1.Nifti1Image"
      ]
     },
     "execution_count": 39,
     "metadata": {},
     "output_type": "execute_result"
    }
   ],
   "source": [
    "type(mri_3)"
   ]
  },
  {
   "cell_type": "code",
   "execution_count": 40,
   "id": "0647c04a-9f53-47b1-8c43-164fcef8c937",
   "metadata": {},
   "outputs": [],
   "source": [
    "# Read Nifi Image object as numpy file\n",
    "mri_3 = mri_3.get_fdata()"
   ]
  },
  {
   "cell_type": "code",
   "execution_count": 41,
   "id": "10d61362-17e4-443e-9cc9-51f94e37d1c5",
   "metadata": {},
   "outputs": [
    {
     "data": {
      "text/plain": [
       "numpy.ndarray"
      ]
     },
     "execution_count": 41,
     "metadata": {},
     "output_type": "execute_result"
    }
   ],
   "source": [
    "type(mri_3)"
   ]
  },
  {
   "cell_type": "code",
   "execution_count": 42,
   "id": "632baa24-fbb7-487d-a9b5-334ceb7fe962",
   "metadata": {},
   "outputs": [
    {
     "data": {
      "text/plain": [
       "dtype('float64')"
      ]
     },
     "execution_count": 42,
     "metadata": {},
     "output_type": "execute_result"
    }
   ],
   "source": [
    "mri_3.dtype"
   ]
  },
  {
   "cell_type": "code",
   "execution_count": 43,
   "id": "e0451715-9562-4364-b93b-dcacdf734bde",
   "metadata": {},
   "outputs": [
    {
     "data": {
      "text/plain": [
       "(320, 320, 24, 2)"
      ]
     },
     "execution_count": 43,
     "metadata": {},
     "output_type": "execute_result"
    }
   ],
   "source": [
    "mri_3.shape"
   ]
  },
  {
   "cell_type": "code",
   "execution_count": 44,
   "id": "aafe6fdd-9c55-469e-b14f-e771ea710b1d",
   "metadata": {},
   "outputs": [
    {
     "name": "stdout",
     "output_type": "stream",
     "text": [
      "2272.0\n",
      "2871.0\n"
     ]
    }
   ],
   "source": [
    "# Range of voxel values (maximum value - minimum value)\n",
    "print(mri_3[:, :, :, 0].ptp()) # Channel 0\n",
    "print(mri_3[:, :, :, 1].ptp()) # Channel 1"
   ]
  },
  {
   "cell_type": "markdown",
   "id": "0a6409a3-a35b-4d45-bee3-dec2cff344e5",
   "metadata": {},
   "source": [
    "#### Mask file"
   ]
  },
  {
   "cell_type": "code",
   "execution_count": 45,
   "id": "c15ad363-8bf6-4671-8b93-33c3d75e2bc0",
   "metadata": {},
   "outputs": [],
   "source": [
    "mri_3_mask = nib.load(\"../../datasets/Task05_Prostate/train/masks/prostate_02.nii.gz\")"
   ]
  },
  {
   "cell_type": "code",
   "execution_count": 46,
   "id": "e39f3dd6-e1c9-478e-9b9d-d8f21b42d3b0",
   "metadata": {},
   "outputs": [],
   "source": [
    "mri_3_mask = mri_3_mask.get_fdata()"
   ]
  },
  {
   "cell_type": "code",
   "execution_count": 47,
   "id": "b710c53e-e8d8-494c-9424-3fdfb487afe0",
   "metadata": {},
   "outputs": [
    {
     "data": {
      "text/plain": [
       "dtype('float64')"
      ]
     },
     "execution_count": 47,
     "metadata": {},
     "output_type": "execute_result"
    }
   ],
   "source": [
    "mri_3_mask.dtype"
   ]
  },
  {
   "cell_type": "code",
   "execution_count": 48,
   "id": "74bf40d2-b4c2-43a1-90a2-289c0dbcb829",
   "metadata": {},
   "outputs": [
    {
     "data": {
      "text/plain": [
       "array([0., 1., 2.])"
      ]
     },
     "execution_count": 48,
     "metadata": {},
     "output_type": "execute_result"
    }
   ],
   "source": [
    "np.unique(mri_3_mask)"
   ]
  },
  {
   "cell_type": "code",
   "execution_count": 49,
   "id": "17d2a5bf-9ad7-47a1-8346-97e316fc8047",
   "metadata": {},
   "outputs": [],
   "source": [
    "mri_3_mask = mri_3_mask.astype(np.float32)"
   ]
  },
  {
   "cell_type": "code",
   "execution_count": 50,
   "id": "240bc57c-7d43-4948-8471-6cec629b2eee",
   "metadata": {},
   "outputs": [
    {
     "data": {
      "text/plain": [
       "(320, 320, 24)"
      ]
     },
     "execution_count": 50,
     "metadata": {},
     "output_type": "execute_result"
    }
   ],
   "source": [
    "mri_3_mask.shape"
   ]
  },
  {
   "cell_type": "markdown",
   "id": "0ad7c58f-6784-4b06-8113-7124c273e783",
   "metadata": {
    "tags": []
   },
   "source": [
    "### Visualizing nifti MRI file and Mask file"
   ]
  },
  {
   "cell_type": "code",
   "execution_count": 51,
   "id": "592dda04-c20e-4e70-9bf8-7fc3e33ef942",
   "metadata": {
    "scrolled": true
   },
   "outputs": [
    {
     "data": {
      "application/vnd.jupyter.widget-view+json": {
       "model_id": "1bb36c4273c247dabb39c12ba5483c46",
       "version_major": 2,
       "version_minor": 0
      },
      "text/plain": [
       "interactive(children=(ToggleButtons(button_style='info', description='Select Class:', options=('Background', '…"
      ]
     },
     "metadata": {},
     "output_type": "display_data"
    }
   ],
   "source": [
    "classes_dict = {\n",
    "    'Background': 0,\n",
    "    'Peripheral-Zone': 1,\n",
    "    'Transition-Zone': 2\n",
    "}\n",
    "\n",
    "# Create button values\n",
    "select_class = ToggleButtons(\n",
    "    options=['Background','Peripheral-Zone', 'Transition-Zone', 'All'],\n",
    "    description='Select Class:',\n",
    "    disabled=False,\n",
    "    button_style='info', \n",
    "    \n",
    ")\n",
    "# Create layer slider\n",
    "select_layer = IntSlider(min=0, max=mri_3.shape[2] - 1, description='Select Layer', continuous_update=False)\n",
    "\n",
    "    \n",
    "# Define a function for plotting images\n",
    "def plot(seg_class, layer, channel):\n",
    "    print(f\"Plotting Layer: {layer} | Label: {seg_class} | Channel: {channel}\")\n",
    "    fig = plt.figure(figsize=(20, 10))\n",
    "    \n",
    "    fig.add_subplot(1, 2, 1)\n",
    "    plt.imshow(mri_3[:, :, layer, channel], cmap='gray');\n",
    "    plt.title(\"MRI\", fontsize=20)\n",
    "    plt.axis('off')\n",
    "    \n",
    "    fig.add_subplot(1, 2, 2)\n",
    "    if seg_class == \"All\":\n",
    "        mask = mri_3_mask[:, :, layer]\n",
    "        plt.title(\"Mask\", fontsize=20)\n",
    "        plt.imshow(mask)\n",
    "        plt.axis('off');\n",
    "    else:\n",
    "        img_label = classes_dict[seg_class]\n",
    "        mask = np.where(mri_3_mask[:, :, layer] == img_label, 255, 0)\n",
    "        plt.title(\"Mask\", fontsize=20)\n",
    "        plt.imshow(mask, cmap='gray')\n",
    "        plt.axis('off');\n",
    "\n",
    "# Set channel to view:\n",
    "#  Channel 0: T2\n",
    "#  Channel 1: ADC    \n",
    "    \n",
    "# Use the interactive() tool to create the visualization\n",
    "interactive(plot, seg_class=select_class, layer=select_layer, channel=(0, 1))"
   ]
  },
  {
   "cell_type": "markdown",
   "id": "5f021c17-f7fe-4e23-bdf4-9e3787b81990",
   "metadata": {},
   "source": [
    "### Calculating MRI shape counter dictionary"
   ]
  },
  {
   "cell_type": "code",
   "execution_count": 52,
   "id": "executed-rating",
   "metadata": {},
   "outputs": [
    {
     "name": "stderr",
     "output_type": "stream",
     "text": [
      "100%|██████████| 48/48 [00:02<00:00, 16.61it/s]\n"
     ]
    }
   ],
   "source": [
    "data_dir = \"../../datasets/Task05_Prostate/\"\n",
    "\n",
    "train_mri_paths = [os.path.join(data_dir + \"train/images\", x) for x in os.listdir(data_dir + \"train/images\")]\n",
    "val_mri_paths = [os.path.join(data_dir + \"val/images\", x) for x in os.listdir(data_dir + \"val/images\")]\n",
    "test_mri_paths = [os.path.join(data_dir + \"test_images_for_model_prediction_submission\", x) for x in os.listdir(data_dir + \"test_images_for_model_prediction_submission\")]\n",
    "\n",
    "all_paths = train_mri_paths + val_mri_paths + test_mri_paths  # concatenate list of paths\n",
    "\n",
    "shape_count_dict = {}\n",
    "\n",
    "for path in tqdm(all_paths):\n",
    "    mri = nib.load(path).get_fdata()\n",
    "    shape = mri.shape\n",
    "    \n",
    "    if shape not in shape_count_dict.keys():\n",
    "        shape_count_dict[shape] = 1\n",
    "    else:\n",
    "        shape_count_dict[shape] += 1   "
   ]
  },
  {
   "cell_type": "code",
   "execution_count": 53,
   "id": "tired-sacramento",
   "metadata": {},
   "outputs": [
    {
     "name": "stdout",
     "output_type": "stream",
     "text": [
      "OrderedDict([((320, 320, 20, 2), 32),\n",
      "             ((320, 320, 15, 2), 8),\n",
      "             ((256, 256, 18, 2), 2),\n",
      "             ((384, 384, 11, 2), 1),\n",
      "             ((320, 320, 24, 2), 1),\n",
      "             ((320, 320, 19, 2), 1),\n",
      "             ((320, 320, 22, 2), 1),\n",
      "             ((256, 256, 15, 2), 1),\n",
      "             ((320, 320, 17, 2), 1)])\n"
     ]
    }
   ],
   "source": [
    "shape_count_dict = OrderedDict(sorted(shape_count_dict.items(), key=lambda item: item[1], reverse=True))\n",
    "pprint(shape_count_dict)"
   ]
  },
  {
   "cell_type": "code",
   "execution_count": 54,
   "id": "heavy-september",
   "metadata": {},
   "outputs": [
    {
     "name": "stdout",
     "output_type": "stream",
     "text": [
      "17.88888888888889\n",
      "18.0\n",
      "11\n",
      "24\n"
     ]
    }
   ],
   "source": [
    "list_layers = []\n",
    "for key, val in shape_count_dict.items():\n",
    "    list_layers.append(key[2])\n",
    "\n",
    "layers = np.array(list_layers)\n",
    "print(layers.mean())\n",
    "print(np.median(layers))\n",
    "print(layers.min())\n",
    "print(layers.max())"
   ]
  },
  {
   "cell_type": "markdown",
   "id": "12459246-ec31-49dd-9b0a-192660246885",
   "metadata": {},
   "source": [
    "#### Checking which files do not have height and width equal to 320x320"
   ]
  },
  {
   "cell_type": "code",
   "execution_count": 55,
   "id": "cognitive-train",
   "metadata": {},
   "outputs": [
    {
     "name": "stderr",
     "output_type": "stream",
     "text": [
      "  4%|▍         | 2/48 [00:00<00:02, 16.40it/s]"
     ]
    },
    {
     "name": "stdout",
     "output_type": "stream",
     "text": [
      "../../datasets/Task05_Prostate/train/images/prostate_18.nii.gz (256, 256, 18, 2)\n"
     ]
    },
    {
     "name": "stderr",
     "output_type": "stream",
     "text": [
      " 10%|█         | 5/48 [00:00<00:02, 18.92it/s]"
     ]
    },
    {
     "name": "stdout",
     "output_type": "stream",
     "text": [
      "../../datasets/Task05_Prostate/train/images/prostate_28.nii.gz (384, 384, 11, 2)\n"
     ]
    },
    {
     "name": "stderr",
     "output_type": "stream",
     "text": [
      " 54%|█████▍    | 26/48 [00:01<00:01, 16.57it/s]"
     ]
    },
    {
     "name": "stdout",
     "output_type": "stream",
     "text": [
      "../../datasets/Task05_Prostate/val/images/prostate_37.nii.gz (256, 256, 15, 2)\n",
      "../../datasets/Task05_Prostate/val/images/prostate_41.nii.gz (256, 256, 18, 2)\n"
     ]
    },
    {
     "name": "stderr",
     "output_type": "stream",
     "text": [
      "100%|██████████| 48/48 [00:02<00:00, 16.44it/s]\n"
     ]
    }
   ],
   "source": [
    "for path in tqdm(all_paths):\n",
    "    mri = nib.load(path).get_fdata()\n",
    "    shape = mri.shape\n",
    "    \n",
    "    if shape[0] != 320:\n",
    "        print(f\"{path} {shape}\") "
   ]
  },
  {
   "cell_type": "code",
   "execution_count": null,
   "id": "bc554552-1420-49dd-8c24-6974bb465b3b",
   "metadata": {},
   "outputs": [],
   "source": []
  }
 ],
 "metadata": {
  "kernelspec": {
   "display_name": "Python 3",
   "language": "python",
   "name": "python3"
  },
  "language_info": {
   "codemirror_mode": {
    "name": "ipython",
    "version": 3
   },
   "file_extension": ".py",
   "mimetype": "text/x-python",
   "name": "python",
   "nbconvert_exporter": "python",
   "pygments_lexer": "ipython3",
   "version": "3.7.10"
  }
 },
 "nbformat": 4,
 "nbformat_minor": 5
}
