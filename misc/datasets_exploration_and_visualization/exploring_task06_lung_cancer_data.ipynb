{
 "cells": [
  {
   "cell_type": "markdown",
   "id": "micro-major",
   "metadata": {},
   "source": [
    "__Note__: The code used here was heavily inspired by the AI for Medicine Specialization Course 1 Week three programming assignments: [link](https://www.coursera.org/learn/ai-for-medical-diagnosis)"
   ]
  },
  {
   "cell_type": "code",
   "execution_count": 1,
   "id": "attractive-operator",
   "metadata": {},
   "outputs": [],
   "source": [
    "import numpy as np\n",
    "import nibabel as nib\n",
    "import matplotlib.pyplot as plt\n",
    "import json\n",
    "import os\n",
    "from pprint import pprint\n",
    "from collections import OrderedDict\n",
    "from ipywidgets import interact, interactive, IntSlider, ToggleButtons\n",
    "from sys import getsizeof\n",
    "from tqdm import tqdm"
   ]
  },
  {
   "cell_type": "markdown",
   "id": "broadband-cisco",
   "metadata": {},
   "source": [
    "### Reading dataset description"
   ]
  },
  {
   "cell_type": "code",
   "execution_count": 2,
   "id": "modular-selling",
   "metadata": {},
   "outputs": [],
   "source": [
    "file = open('../datasets_descriptions_json/task06_lung_dataset.json')\n",
    "data_description = json.load(file)"
   ]
  },
  {
   "cell_type": "code",
   "execution_count": 3,
   "id": "convinced-occupation",
   "metadata": {},
   "outputs": [
    {
     "name": "stdout",
     "output_type": "stream",
     "text": [
      "{\n",
      "    \"name\": \"Lung\",\n",
      "    \"description\": \"Lung and cancer segmentation\",\n",
      "    \"reference\": \"The Cancer Imaging Archive\",\n",
      "    \"licence\": \"CC-BY-SA 4.0\",\n",
      "    \"relase\": \"1.0 04/05/2018\",\n",
      "    \"tensorImageSize\": \"3D\",\n",
      "    \"modality\": {\n",
      "        \"0\": \"CT\"\n",
      "    },\n",
      "    \"labels\": {\n",
      "        \"0\": \"background\",\n",
      "        \"1\": \"cancer\"\n",
      "    },\n",
      "    \"numTraining\": 63,\n",
      "    \"numTest\": 32,\n",
      "    \"training\": [\n",
      "        {\n",
      "            \"image\": \"./imagesTr/lung_053.nii.gz\",\n",
      "            \"label\": \"./labelsTr/lung_053.nii.gz\"\n",
      "        },\n",
      "        {\n",
      "            \"image\": \"./imagesTr/lung_022.nii.gz\",\n",
      "            \"label\": \"./labelsTr/lung_022.nii.gz\"\n",
      "        },\n",
      "        {\n",
      "            \"image\": \"./imagesTr/lung_041.nii.gz\",\n",
      "            \"label\": \"./labelsTr/lung_041.nii.gz\"\n",
      "        },\n",
      "        {\n",
      "            \"image\": \"./imagesTr/lung_069.nii.gz\",\n",
      "            \"label\": \"./labelsTr/lung_069.nii.gz\"\n",
      "        },\n",
      "        {\n",
      "            \"image\": \"./imagesTr/lung_014.nii.gz\",\n",
      "            \"label\": \"./labelsTr/lung_014.nii.gz\"\n",
      "        },\n",
      "        {\n",
      "            \"image\": \"./imagesTr/lung_006.nii.gz\",\n",
      "            \"label\": \"./labelsTr/lung_006.nii.gz\"\n",
      "        },\n",
      "        {\n",
      "            \"image\": \"./imagesTr/lung_065.nii.gz\",\n",
      "            \"label\": \"./labelsTr/lung_065.nii.gz\"\n",
      "        },\n",
      "        {\n",
      "            \"image\": \"./imagesTr/lung_018.nii.gz\",\n",
      "            \"label\": \"./labelsTr/lung_018.nii.gz\"\n",
      "        },\n",
      "        {\n",
      "            \"image\": \"./imagesTr/lung_096.nii.gz\",\n",
      "            \"label\": \"./labelsTr/lung_096.nii.gz\"\n",
      "        },\n",
      "        {\n",
      "            \"image\": \"./imagesTr/lung_084.nii.gz\",\n",
      "            \"label\": \"./labelsTr/lung_084.nii.gz\"\n",
      "        },\n",
      "        {\n",
      "            \"image\": \"./imagesTr/lung_086.nii.gz\",\n",
      "            \"label\": \"./labelsTr/lung_086.nii.gz\"\n",
      "        },\n",
      "        {\n",
      "            \"image\": \"./imagesTr/lung_043.nii.gz\",\n",
      "            \"label\": \"./labelsTr/lung_043.nii.gz\"\n",
      "        },\n",
      "        {\n",
      "            \"image\": \"./imagesTr/lung_020.nii.gz\",\n",
      "            \"label\": \"./labelsTr/lung_020.nii.gz\"\n",
      "        },\n",
      "        {\n",
      "            \"image\": \"./imagesTr/lung_051.nii.gz\",\n",
      "            \"label\": \"./labelsTr/lung_051.nii.gz\"\n",
      "        },\n",
      "        {\n",
      "            \"image\": \"./imagesTr/lung_079.nii.gz\",\n",
      "            \"label\": \"./labelsTr/lung_079.nii.gz\"\n",
      "        },\n",
      "        {\n",
      "            \"image\": \"./imagesTr/lung_004.nii.gz\",\n",
      "            \"label\": \"./labelsTr/lung_004.nii.gz\"\n",
      "        },\n",
      "        {\n",
      "            \"image\": \"./imagesTr/lung_075.nii.gz\",\n",
      "            \"label\": \"./labelsTr/lung_075.nii.gz\"\n",
      "        },\n",
      "        {\n",
      "            \"image\": \"./imagesTr/lung_016.nii.gz\",\n",
      "            \"label\": \"./labelsTr/lung_016.nii.gz\"\n",
      "        },\n",
      "        {\n",
      "            \"image\": \"./imagesTr/lung_071.nii.gz\",\n",
      "            \"label\": \"./labelsTr/lung_071.nii.gz\"\n",
      "        },\n",
      "        {\n",
      "            \"image\": \"./imagesTr/lung_028.nii.gz\",\n",
      "            \"label\": \"./labelsTr/lung_028.nii.gz\"\n",
      "        },\n",
      "        {\n",
      "            \"image\": \"./imagesTr/lung_055.nii.gz\",\n",
      "            \"label\": \"./labelsTr/lung_055.nii.gz\"\n",
      "        },\n",
      "        {\n",
      "            \"image\": \"./imagesTr/lung_036.nii.gz\",\n",
      "            \"label\": \"./labelsTr/lung_036.nii.gz\"\n",
      "        },\n",
      "        {\n",
      "            \"image\": \"./imagesTr/lung_047.nii.gz\",\n",
      "            \"label\": \"./labelsTr/lung_047.nii.gz\"\n",
      "        },\n",
      "        {\n",
      "            \"image\": \"./imagesTr/lung_059.nii.gz\",\n",
      "            \"label\": \"./labelsTr/lung_059.nii.gz\"\n",
      "        },\n",
      "        {\n",
      "            \"image\": \"./imagesTr/lung_061.nii.gz\",\n",
      "            \"label\": \"./labelsTr/lung_061.nii.gz\"\n",
      "        },\n",
      "        {\n",
      "            \"image\": \"./imagesTr/lung_010.nii.gz\",\n",
      "            \"label\": \"./labelsTr/lung_010.nii.gz\"\n",
      "        },\n",
      "        {\n",
      "            \"image\": \"./imagesTr/lung_073.nii.gz\",\n",
      "            \"label\": \"./labelsTr/lung_073.nii.gz\"\n",
      "        },\n",
      "        {\n",
      "            \"image\": \"./imagesTr/lung_026.nii.gz\",\n",
      "            \"label\": \"./labelsTr/lung_026.nii.gz\"\n",
      "        },\n",
      "        {\n",
      "            \"image\": \"./imagesTr/lung_038.nii.gz\",\n",
      "            \"label\": \"./labelsTr/lung_038.nii.gz\"\n",
      "        },\n",
      "        {\n",
      "            \"image\": \"./imagesTr/lung_045.nii.gz\",\n",
      "            \"label\": \"./labelsTr/lung_045.nii.gz\"\n",
      "        },\n",
      "        {\n",
      "            \"image\": \"./imagesTr/lung_034.nii.gz\",\n",
      "            \"label\": \"./labelsTr/lung_034.nii.gz\"\n",
      "        },\n",
      "        {\n",
      "            \"image\": \"./imagesTr/lung_049.nii.gz\",\n",
      "            \"label\": \"./labelsTr/lung_049.nii.gz\"\n",
      "        },\n",
      "        {\n",
      "            \"image\": \"./imagesTr/lung_057.nii.gz\",\n",
      "            \"label\": \"./labelsTr/lung_057.nii.gz\"\n",
      "        },\n",
      "        {\n",
      "            \"image\": \"./imagesTr/lung_080.nii.gz\",\n",
      "            \"label\": \"./labelsTr/lung_080.nii.gz\"\n",
      "        },\n",
      "        {\n",
      "            \"image\": \"./imagesTr/lung_092.nii.gz\",\n",
      "            \"label\": \"./labelsTr/lung_092.nii.gz\"\n",
      "        },\n",
      "        {\n",
      "            \"image\": \"./imagesTr/lung_015.nii.gz\",\n",
      "            \"label\": \"./labelsTr/lung_015.nii.gz\"\n",
      "        },\n",
      "        {\n",
      "            \"image\": \"./imagesTr/lung_064.nii.gz\",\n",
      "            \"label\": \"./labelsTr/lung_064.nii.gz\"\n",
      "        },\n",
      "        {\n",
      "            \"image\": \"./imagesTr/lung_031.nii.gz\",\n",
      "            \"label\": \"./labelsTr/lung_031.nii.gz\"\n",
      "        },\n",
      "        {\n",
      "            \"image\": \"./imagesTr/lung_023.nii.gz\",\n",
      "            \"label\": \"./labelsTr/lung_023.nii.gz\"\n",
      "        },\n",
      "        {\n",
      "            \"image\": \"./imagesTr/lung_005.nii.gz\",\n",
      "            \"label\": \"./labelsTr/lung_005.nii.gz\"\n",
      "        },\n",
      "        {\n",
      "            \"image\": \"./imagesTr/lung_078.nii.gz\",\n",
      "            \"label\": \"./labelsTr/lung_078.nii.gz\"\n",
      "        },\n",
      "        {\n",
      "            \"image\": \"./imagesTr/lung_066.nii.gz\",\n",
      "            \"label\": \"./labelsTr/lung_066.nii.gz\"\n",
      "        },\n",
      "        {\n",
      "            \"image\": \"./imagesTr/lung_009.nii.gz\",\n",
      "            \"label\": \"./labelsTr/lung_009.nii.gz\"\n",
      "        },\n",
      "        {\n",
      "            \"image\": \"./imagesTr/lung_074.nii.gz\",\n",
      "            \"label\": \"./labelsTr/lung_074.nii.gz\"\n",
      "        },\n",
      "        {\n",
      "            \"image\": \"./imagesTr/lung_042.nii.gz\",\n",
      "            \"label\": \"./labelsTr/lung_042.nii.gz\"\n",
      "        },\n",
      "        {\n",
      "            \"image\": \"./imagesTr/lung_033.nii.gz\",\n",
      "            \"label\": \"./labelsTr/lung_033.nii.gz\"\n",
      "        },\n",
      "        {\n",
      "            \"image\": \"./imagesTr/lung_095.nii.gz\",\n",
      "            \"label\": \"./labelsTr/lung_095.nii.gz\"\n",
      "        },\n",
      "        {\n",
      "            \"image\": \"./imagesTr/lung_037.nii.gz\",\n",
      "            \"label\": \"./labelsTr/lung_037.nii.gz\"\n",
      "        },\n",
      "        {\n",
      "            \"image\": \"./imagesTr/lung_054.nii.gz\",\n",
      "            \"label\": \"./labelsTr/lung_054.nii.gz\"\n",
      "        },\n",
      "        {\n",
      "            \"image\": \"./imagesTr/lung_029.nii.gz\",\n",
      "            \"label\": \"./labelsTr/lung_029.nii.gz\"\n",
      "        },\n",
      "        {\n",
      "            \"image\": \"./imagesTr/lung_058.nii.gz\",\n",
      "            \"label\": \"./labelsTr/lung_058.nii.gz\"\n",
      "        },\n",
      "        {\n",
      "            \"image\": \"./imagesTr/lung_025.nii.gz\",\n",
      "            \"label\": \"./labelsTr/lung_025.nii.gz\"\n",
      "        },\n",
      "        {\n",
      "            \"image\": \"./imagesTr/lung_046.nii.gz\",\n",
      "            \"label\": \"./labelsTr/lung_046.nii.gz\"\n",
      "        },\n",
      "        {\n",
      "            \"image\": \"./imagesTr/lung_070.nii.gz\",\n",
      "            \"label\": \"./labelsTr/lung_070.nii.gz\"\n",
      "        },\n",
      "        {\n",
      "            \"image\": \"./imagesTr/lung_001.nii.gz\",\n",
      "            \"label\": \"./labelsTr/lung_001.nii.gz\"\n",
      "        },\n",
      "        {\n",
      "            \"image\": \"./imagesTr/lung_062.nii.gz\",\n",
      "            \"label\": \"./labelsTr/lung_062.nii.gz\"\n",
      "        },\n",
      "        {\n",
      "            \"image\": \"./imagesTr/lung_083.nii.gz\",\n",
      "            \"label\": \"./labelsTr/lung_083.nii.gz\"\n",
      "        },\n",
      "        {\n",
      "            \"image\": \"./imagesTr/lung_081.nii.gz\",\n",
      "            \"label\": \"./labelsTr/lung_081.nii.gz\"\n",
      "        },\n",
      "        {\n",
      "            \"image\": \"./imagesTr/lung_093.nii.gz\",\n",
      "            \"label\": \"./labelsTr/lung_093.nii.gz\"\n",
      "        },\n",
      "        {\n",
      "            \"image\": \"./imagesTr/lung_044.nii.gz\",\n",
      "            \"label\": \"./labelsTr/lung_044.nii.gz\"\n",
      "        },\n",
      "        {\n",
      "            \"image\": \"./imagesTr/lung_027.nii.gz\",\n",
      "            \"label\": \"./labelsTr/lung_027.nii.gz\"\n",
      "        },\n",
      "        {\n",
      "            \"image\": \"./imagesTr/lung_048.nii.gz\",\n",
      "            \"label\": \"./labelsTr/lung_048.nii.gz\"\n",
      "        },\n",
      "        {\n",
      "            \"image\": \"./imagesTr/lung_003.nii.gz\",\n",
      "            \"label\": \"./labelsTr/lung_003.nii.gz\"\n",
      "        }\n",
      "    ],\n",
      "    \"test\": [\n",
      "        \"./imagesTs/lung_030.nii.gz\",\n",
      "        \"./imagesTs/lung_077.nii.gz\",\n",
      "        \"./imagesTs/lung_088.nii.gz\",\n",
      "        \"./imagesTs/lung_032.nii.gz\",\n",
      "        \"./imagesTs/lung_067.nii.gz\",\n",
      "        \"./imagesTs/lung_008.nii.gz\",\n",
      "        \"./imagesTs/lung_090.nii.gz\",\n",
      "        \"./imagesTs/lung_082.nii.gz\",\n",
      "        \"./imagesTs/lung_012.nii.gz\",\n",
      "        \"./imagesTs/lung_063.nii.gz\",\n",
      "        \"./imagesTs/lung_024.nii.gz\",\n",
      "        \"./imagesTs/lung_002.nii.gz\",\n",
      "        \"./imagesTs/lung_089.nii.gz\",\n",
      "        \"./imagesTs/lung_085.nii.gz\",\n",
      "        \"./imagesTs/lung_076.nii.gz\",\n",
      "        \"./imagesTs/lung_068.nii.gz\",\n",
      "        \"./imagesTs/lung_019.nii.gz\",\n",
      "        \"./imagesTs/lung_007.nii.gz\",\n",
      "        \"./imagesTs/lung_052.nii.gz\",\n",
      "        \"./imagesTs/lung_040.nii.gz\",\n",
      "        \"./imagesTs/lung_017.nii.gz\",\n",
      "        \"./imagesTs/lung_021.nii.gz\",\n",
      "        \"./imagesTs/lung_050.nii.gz\",\n",
      "        \"./imagesTs/lung_087.nii.gz\",\n",
      "        \"./imagesTs/lung_013.nii.gz\",\n",
      "        \"./imagesTs/lung_091.nii.gz\",\n",
      "        \"./imagesTs/lung_039.nii.gz\",\n",
      "        \"./imagesTs/lung_056.nii.gz\",\n",
      "        \"./imagesTs/lung_035.nii.gz\",\n",
      "        \"./imagesTs/lung_060.nii.gz\",\n",
      "        \"./imagesTs/lung_072.nii.gz\",\n",
      "        \"./imagesTs/lung_011.nii.gz\"\n",
      "    ]\n",
      "}\n"
     ]
    }
   ],
   "source": [
    "print(json.dumps(data_description, indent=4))"
   ]
  },
  {
   "cell_type": "markdown",
   "id": "revised-calgary",
   "metadata": {
    "tags": []
   },
   "source": [
    "### Reading and visualizing lung_001 nifti CT and mask files"
   ]
  },
  {
   "cell_type": "markdown",
   "id": "thirty-seattle",
   "metadata": {},
   "source": [
    "#### CT file"
   ]
  },
  {
   "cell_type": "code",
   "execution_count": 4,
   "id": "choice-softball",
   "metadata": {},
   "outputs": [],
   "source": [
    "ct_1 = nib.load(\"../../datasets/Task06_Lung/train/images/lung_001.nii.gz\")"
   ]
  },
  {
   "cell_type": "code",
   "execution_count": 5,
   "id": "received-fitting",
   "metadata": {},
   "outputs": [
    {
     "data": {
      "text/plain": [
       "nibabel.nifti1.Nifti1Image"
      ]
     },
     "execution_count": 5,
     "metadata": {},
     "output_type": "execute_result"
    }
   ],
   "source": [
    "type(ct_1)"
   ]
  },
  {
   "cell_type": "code",
   "execution_count": 6,
   "id": "personal-average",
   "metadata": {},
   "outputs": [],
   "source": [
    "# Read Nifi Image object as numpy file\n",
    "ct_1 = ct_1.get_fdata()"
   ]
  },
  {
   "cell_type": "code",
   "execution_count": 7,
   "id": "comparable-torture",
   "metadata": {},
   "outputs": [
    {
     "data": {
      "text/plain": [
       "numpy.ndarray"
      ]
     },
     "execution_count": 7,
     "metadata": {},
     "output_type": "execute_result"
    }
   ],
   "source": [
    "type(ct_1)"
   ]
  },
  {
   "cell_type": "code",
   "execution_count": 8,
   "id": "contained-occasions",
   "metadata": {},
   "outputs": [
    {
     "data": {
      "text/plain": [
       "dtype('float64')"
      ]
     },
     "execution_count": 8,
     "metadata": {},
     "output_type": "execute_result"
    }
   ],
   "source": [
    "ct_1.dtype"
   ]
  },
  {
   "cell_type": "code",
   "execution_count": 9,
   "id": "cooperative-blackjack",
   "metadata": {},
   "outputs": [
    {
     "data": {
      "text/plain": [
       "(512, 512, 304)"
      ]
     },
     "execution_count": 9,
     "metadata": {},
     "output_type": "execute_result"
    }
   ],
   "source": [
    "ct_1.shape"
   ]
  },
  {
   "cell_type": "code",
   "execution_count": 10,
   "id": "affected-disaster",
   "metadata": {},
   "outputs": [
    {
     "name": "stdout",
     "output_type": "stream",
     "text": [
      "4095.0\n"
     ]
    }
   ],
   "source": [
    "# Range of voxel values (maximum value - minimum value)\n",
    "print(ct_1[:, :, :].ptp())"
   ]
  },
  {
   "cell_type": "code",
   "execution_count": 11,
   "id": "coastal-steering",
   "metadata": {},
   "outputs": [
    {
     "data": {
      "text/plain": [
       "637534336"
      ]
     },
     "execution_count": 11,
     "metadata": {},
     "output_type": "execute_result"
    }
   ],
   "source": [
    "getsizeof(ct_1) # 637.534336 MBs"
   ]
  },
  {
   "cell_type": "code",
   "execution_count": 12,
   "id": "egyptian-citizenship",
   "metadata": {},
   "outputs": [
    {
     "data": {
      "text/plain": [
       "318767232"
      ]
     },
     "execution_count": 12,
     "metadata": {},
     "output_type": "execute_result"
    }
   ],
   "source": [
    "getsizeof(ct_1.astype(np.float32)) # 318.767232 MBs"
   ]
  },
  {
   "cell_type": "code",
   "execution_count": 13,
   "id": "advised-complexity",
   "metadata": {},
   "outputs": [
    {
     "data": {
      "text/plain": [
       "159383680"
      ]
     },
     "execution_count": 13,
     "metadata": {},
     "output_type": "execute_result"
    }
   ],
   "source": [
    "getsizeof(ct_1.astype(np.float16)) # 159.38368 MBs"
   ]
  },
  {
   "cell_type": "markdown",
   "id": "shared-weight",
   "metadata": {},
   "source": [
    "#### Mask file"
   ]
  },
  {
   "cell_type": "code",
   "execution_count": 14,
   "id": "paperback-times",
   "metadata": {},
   "outputs": [],
   "source": [
    "ct_1_mask = nib.load(\"../../datasets/Task06_Lung/train/masks/lung_001.nii.gz\")"
   ]
  },
  {
   "cell_type": "code",
   "execution_count": 15,
   "id": "every-advertising",
   "metadata": {},
   "outputs": [],
   "source": [
    "ct_1_mask = ct_1_mask.get_fdata()"
   ]
  },
  {
   "cell_type": "code",
   "execution_count": 16,
   "id": "blank-protocol",
   "metadata": {},
   "outputs": [
    {
     "data": {
      "text/plain": [
       "dtype('float64')"
      ]
     },
     "execution_count": 16,
     "metadata": {},
     "output_type": "execute_result"
    }
   ],
   "source": [
    "ct_1_mask.dtype"
   ]
  },
  {
   "cell_type": "code",
   "execution_count": 17,
   "id": "mathematical-hygiene",
   "metadata": {},
   "outputs": [
    {
     "data": {
      "text/plain": [
       "637534336"
      ]
     },
     "execution_count": 17,
     "metadata": {},
     "output_type": "execute_result"
    }
   ],
   "source": [
    "getsizeof(ct_1_mask) # 637.534336 MBs"
   ]
  },
  {
   "cell_type": "code",
   "execution_count": 18,
   "id": "mental-reynolds",
   "metadata": {
    "scrolled": true
   },
   "outputs": [
    {
     "data": {
      "text/plain": [
       "318767232"
      ]
     },
     "execution_count": 18,
     "metadata": {},
     "output_type": "execute_result"
    }
   ],
   "source": [
    "getsizeof(ct_1_mask.astype(np.float32)) #318.767232 MBs"
   ]
  },
  {
   "cell_type": "code",
   "execution_count": 19,
   "id": "local-broadway",
   "metadata": {},
   "outputs": [
    {
     "data": {
      "text/plain": [
       "79691904"
      ]
     },
     "execution_count": 19,
     "metadata": {},
     "output_type": "execute_result"
    }
   ],
   "source": [
    "getsizeof(ct_1_mask.astype(np.uint8)) # 79.691904 MBs"
   ]
  },
  {
   "cell_type": "code",
   "execution_count": 20,
   "id": "athletic-track",
   "metadata": {},
   "outputs": [],
   "source": [
    "ct_1_mask = ct_1_mask.astype(np.float32)"
   ]
  },
  {
   "cell_type": "code",
   "execution_count": 21,
   "id": "realistic-interpretation",
   "metadata": {},
   "outputs": [
    {
     "data": {
      "text/plain": [
       "(512, 512, 304)"
      ]
     },
     "execution_count": 21,
     "metadata": {},
     "output_type": "execute_result"
    }
   ],
   "source": [
    "ct_1_mask.shape"
   ]
  },
  {
   "cell_type": "markdown",
   "id": "outer-manor",
   "metadata": {},
   "source": [
    "### Visualizing nifti CT file and Mask file"
   ]
  },
  {
   "cell_type": "code",
   "execution_count": 22,
   "id": "wrong-leader",
   "metadata": {},
   "outputs": [
    {
     "data": {
      "application/vnd.jupyter.widget-view+json": {
       "model_id": "a76cf10d582941cd9fb22b8dfdf91c6e",
       "version_major": 2,
       "version_minor": 0
      },
      "text/plain": [
       "interactive(children=(IntSlider(value=0, continuous_update=False, description='Select Layer', max=303), Output…"
      ]
     },
     "metadata": {},
     "output_type": "display_data"
    }
   ],
   "source": [
    "# Create layer slider\n",
    "select_layer = IntSlider(min=0, max=ct_1.shape[2] - 1, description='Select Layer', continuous_update=False)\n",
    "\n",
    "    \n",
    "# Define a function for plotting images\n",
    "def plot(layer):\n",
    "    print(f\"Plotting Layer: {layer}\")\n",
    "    fig = plt.figure(figsize=(20, 10))\n",
    "    \n",
    "    fig.add_subplot(1, 2, 1)\n",
    "    plt.imshow(ct_1[:, :, layer], cmap='gray');\n",
    "    plt.title(\"ct\", fontsize=20)\n",
    "    plt.axis('off')\n",
    "    \n",
    "    fig.add_subplot(1, 2, 2)\n",
    "    plt.title(\"Mask\", fontsize=20)\n",
    "    plt.imshow(ct_1_mask[:, :, layer], cmap='gray')\n",
    "    plt.axis('off');\n",
    "\n",
    "# Use the interactive() tool to create the visualization\n",
    "interactive(plot, layer=select_layer)"
   ]
  },
  {
   "cell_type": "markdown",
   "id": "341df473-5810-4eae-8795-3001bcd3b2b6",
   "metadata": {
    "tags": []
   },
   "source": [
    "### Reading and visualizing lung_003 nifti CT and mask files"
   ]
  },
  {
   "cell_type": "markdown",
   "id": "062fd5cc-59bc-4660-8ea4-f27ea5927ed8",
   "metadata": {},
   "source": [
    "#### CT file"
   ]
  },
  {
   "cell_type": "code",
   "execution_count": 23,
   "id": "38831d01-1df1-46c6-bcfb-d65e1c292e53",
   "metadata": {},
   "outputs": [],
   "source": [
    "ct_2 = nib.load(\"../../datasets/Task06_Lung/train/images/lung_003.nii.gz\")"
   ]
  },
  {
   "cell_type": "code",
   "execution_count": 24,
   "id": "fd8cd905-c57a-4fb8-ad83-73e8f9d3d5c7",
   "metadata": {},
   "outputs": [
    {
     "data": {
      "text/plain": [
       "nibabel.nifti1.Nifti1Image"
      ]
     },
     "execution_count": 24,
     "metadata": {},
     "output_type": "execute_result"
    }
   ],
   "source": [
    "type(ct_2)"
   ]
  },
  {
   "cell_type": "code",
   "execution_count": 25,
   "id": "07349ce6-4ccf-4277-83d4-2983ea3784fa",
   "metadata": {},
   "outputs": [],
   "source": [
    "# Read Nifi Image object as numpy file\n",
    "ct_2 = ct_2.get_fdata()"
   ]
  },
  {
   "cell_type": "code",
   "execution_count": 26,
   "id": "953ec6b7-bddd-4451-b012-447ef975bc00",
   "metadata": {},
   "outputs": [
    {
     "data": {
      "text/plain": [
       "numpy.ndarray"
      ]
     },
     "execution_count": 26,
     "metadata": {},
     "output_type": "execute_result"
    }
   ],
   "source": [
    "type(ct_2)"
   ]
  },
  {
   "cell_type": "code",
   "execution_count": 27,
   "id": "a82376ab-5ac9-4a76-a0dc-611ded01f6c6",
   "metadata": {},
   "outputs": [
    {
     "data": {
      "text/plain": [
       "dtype('float64')"
      ]
     },
     "execution_count": 27,
     "metadata": {},
     "output_type": "execute_result"
    }
   ],
   "source": [
    "ct_2.dtype"
   ]
  },
  {
   "cell_type": "code",
   "execution_count": 28,
   "id": "8b87362e-ef72-41c9-a028-0c0e3cf71199",
   "metadata": {},
   "outputs": [
    {
     "data": {
      "text/plain": [
       "(512, 512, 288)"
      ]
     },
     "execution_count": 28,
     "metadata": {},
     "output_type": "execute_result"
    }
   ],
   "source": [
    "ct_2.shape"
   ]
  },
  {
   "cell_type": "code",
   "execution_count": 29,
   "id": "1ef65510-4573-480f-9bd6-a97dff9f6dad",
   "metadata": {},
   "outputs": [
    {
     "name": "stdout",
     "output_type": "stream",
     "text": [
      "3413.0\n"
     ]
    }
   ],
   "source": [
    "# Range of voxel values (maximum value - minimum value)\n",
    "print(ct_2[:, :, :].ptp())"
   ]
  },
  {
   "cell_type": "markdown",
   "id": "8fd97282-e3e9-4d21-b2e2-b31793478cd0",
   "metadata": {},
   "source": [
    "#### Mask file"
   ]
  },
  {
   "cell_type": "code",
   "execution_count": 30,
   "id": "8f3b4351-28e4-44b6-99eb-91f38e693199",
   "metadata": {},
   "outputs": [],
   "source": [
    "ct_2_mask = nib.load(\"../../datasets/Task06_Lung/train/masks/lung_003.nii.gz\")"
   ]
  },
  {
   "cell_type": "code",
   "execution_count": 31,
   "id": "120caecf-a25f-452e-9d55-b82f217c33eb",
   "metadata": {},
   "outputs": [],
   "source": [
    "ct_2_mask = ct_2_mask.get_fdata()"
   ]
  },
  {
   "cell_type": "code",
   "execution_count": 32,
   "id": "59b4f436-6ebf-4f60-af3b-6c81de868345",
   "metadata": {},
   "outputs": [
    {
     "data": {
      "text/plain": [
       "dtype('float64')"
      ]
     },
     "execution_count": 32,
     "metadata": {},
     "output_type": "execute_result"
    }
   ],
   "source": [
    "ct_2_mask.dtype"
   ]
  },
  {
   "cell_type": "code",
   "execution_count": 33,
   "id": "70179c71-1857-47a3-9552-7b15375f7a17",
   "metadata": {},
   "outputs": [],
   "source": [
    "ct_2_mask = ct_2_mask.astype(np.float32)"
   ]
  },
  {
   "cell_type": "code",
   "execution_count": 34,
   "id": "3275c211-a439-4fbf-b28f-3c395151233e",
   "metadata": {},
   "outputs": [
    {
     "data": {
      "text/plain": [
       "(512, 512, 288)"
      ]
     },
     "execution_count": 34,
     "metadata": {},
     "output_type": "execute_result"
    }
   ],
   "source": [
    "ct_2_mask.shape"
   ]
  },
  {
   "cell_type": "markdown",
   "id": "f80e80a7-c692-42d4-9c6e-b420bde92d2b",
   "metadata": {},
   "source": [
    "### Visualizing nifti CT file and Mask file"
   ]
  },
  {
   "cell_type": "code",
   "execution_count": 35,
   "id": "70ad29ff-86cd-4531-8157-bdcd2b489c2e",
   "metadata": {},
   "outputs": [
    {
     "data": {
      "application/vnd.jupyter.widget-view+json": {
       "model_id": "ce44ce368c0a4071b3ca8b5817c245a9",
       "version_major": 2,
       "version_minor": 0
      },
      "text/plain": [
       "interactive(children=(IntSlider(value=0, continuous_update=False, description='Select Layer', max=287), Output…"
      ]
     },
     "metadata": {},
     "output_type": "display_data"
    }
   ],
   "source": [
    "# Create layer slider\n",
    "select_layer = IntSlider(min=0, max=ct_2.shape[2] - 1, description='Select Layer', continuous_update=False)\n",
    "\n",
    "    \n",
    "# Define a function for plotting images\n",
    "def plot(layer):\n",
    "    print(f\"Plotting Layer: {layer}\")\n",
    "    fig = plt.figure(figsize=(20, 10))\n",
    "    \n",
    "    fig.add_subplot(1, 2, 1)\n",
    "    plt.imshow(ct_2[:, :, layer], cmap='gray');\n",
    "    plt.title(\"ct\", fontsize=20)\n",
    "    plt.axis('off')\n",
    "    \n",
    "    fig.add_subplot(1, 2, 2)\n",
    "    plt.title(\"Mask\", fontsize=20)\n",
    "    plt.imshow(ct_2_mask[:, :, layer], cmap='gray')\n",
    "    plt.axis('off');\n",
    "\n",
    "# Use the interactive() tool to create the visualization\n",
    "interactive(plot, layer=select_layer)"
   ]
  },
  {
   "cell_type": "markdown",
   "id": "c25ee658-8f6b-41a4-9fdd-4aea1e533b26",
   "metadata": {
    "tags": []
   },
   "source": [
    "### Reading and visualizing lung_004 nifti CT and mask files"
   ]
  },
  {
   "cell_type": "markdown",
   "id": "fae8f8a4-27cc-4a5b-b2a2-8400b29ba5e4",
   "metadata": {},
   "source": [
    "#### CT file"
   ]
  },
  {
   "cell_type": "code",
   "execution_count": 36,
   "id": "e740190f-d75b-4753-8f22-a96df57e6fd5",
   "metadata": {},
   "outputs": [],
   "source": [
    "ct_3 = nib.load(\"../../datasets/Task06_Lung/train/images/lung_004.nii.gz\")"
   ]
  },
  {
   "cell_type": "code",
   "execution_count": 37,
   "id": "95b0f6b9-8eef-4fcd-8c5d-39317da37aed",
   "metadata": {},
   "outputs": [
    {
     "data": {
      "text/plain": [
       "nibabel.nifti1.Nifti1Image"
      ]
     },
     "execution_count": 37,
     "metadata": {},
     "output_type": "execute_result"
    }
   ],
   "source": [
    "type(ct_3)"
   ]
  },
  {
   "cell_type": "code",
   "execution_count": 38,
   "id": "de6b97d7-82cf-4540-b582-9e342ec6f5f4",
   "metadata": {},
   "outputs": [],
   "source": [
    "# Read Nifi Image object as numpy file\n",
    "ct_3 = ct_3.get_fdata()"
   ]
  },
  {
   "cell_type": "code",
   "execution_count": 39,
   "id": "905cc93c-53fe-46e8-8915-b06c0b213064",
   "metadata": {},
   "outputs": [
    {
     "data": {
      "text/plain": [
       "numpy.ndarray"
      ]
     },
     "execution_count": 39,
     "metadata": {},
     "output_type": "execute_result"
    }
   ],
   "source": [
    "type(ct_3)"
   ]
  },
  {
   "cell_type": "code",
   "execution_count": 40,
   "id": "c53e96f1-a73d-4467-96a5-5ce5b9c76e50",
   "metadata": {},
   "outputs": [
    {
     "data": {
      "text/plain": [
       "dtype('float64')"
      ]
     },
     "execution_count": 40,
     "metadata": {},
     "output_type": "execute_result"
    }
   ],
   "source": [
    "ct_3.dtype"
   ]
  },
  {
   "cell_type": "code",
   "execution_count": 41,
   "id": "ebcaf440-3984-43de-9c2b-712096070ef3",
   "metadata": {},
   "outputs": [
    {
     "data": {
      "text/plain": [
       "(512, 512, 276)"
      ]
     },
     "execution_count": 41,
     "metadata": {},
     "output_type": "execute_result"
    }
   ],
   "source": [
    "ct_3.shape"
   ]
  },
  {
   "cell_type": "code",
   "execution_count": 42,
   "id": "9983da92-af5b-4d3c-8795-adeff0680e6a",
   "metadata": {},
   "outputs": [
    {
     "name": "stdout",
     "output_type": "stream",
     "text": [
      "4095.0\n"
     ]
    }
   ],
   "source": [
    "# Range of voxel values (maximum value - minimum value)\n",
    "print(ct_3[:, :, :].ptp())"
   ]
  },
  {
   "cell_type": "markdown",
   "id": "3fc3118c-03c3-4536-8488-ba1995b8fa3b",
   "metadata": {},
   "source": [
    "#### Mask file"
   ]
  },
  {
   "cell_type": "code",
   "execution_count": 43,
   "id": "efe79153-111b-4b25-ad11-e30dd4b281f8",
   "metadata": {},
   "outputs": [],
   "source": [
    "ct_3_mask = nib.load(\"../../datasets/Task06_Lung/train/masks/lung_004.nii.gz\")"
   ]
  },
  {
   "cell_type": "code",
   "execution_count": 44,
   "id": "a451716e-a6ff-4a18-9122-5517610ca08d",
   "metadata": {},
   "outputs": [],
   "source": [
    "ct_3_mask = ct_3_mask.get_fdata()"
   ]
  },
  {
   "cell_type": "code",
   "execution_count": 45,
   "id": "778efdc0-fae9-4a11-8c89-2f84b9132767",
   "metadata": {},
   "outputs": [
    {
     "data": {
      "text/plain": [
       "dtype('float64')"
      ]
     },
     "execution_count": 45,
     "metadata": {},
     "output_type": "execute_result"
    }
   ],
   "source": [
    "ct_3_mask.dtype"
   ]
  },
  {
   "cell_type": "code",
   "execution_count": 46,
   "id": "170d0fd1-c842-4782-a79f-31012f24f823",
   "metadata": {},
   "outputs": [],
   "source": [
    "ct_3_mask = ct_3_mask.astype(np.float32)"
   ]
  },
  {
   "cell_type": "code",
   "execution_count": 47,
   "id": "8635a9f4-642c-44dd-b425-4628c0b1e9f9",
   "metadata": {},
   "outputs": [
    {
     "data": {
      "text/plain": [
       "(512, 512, 276)"
      ]
     },
     "execution_count": 47,
     "metadata": {},
     "output_type": "execute_result"
    }
   ],
   "source": [
    "ct_3_mask.shape"
   ]
  },
  {
   "cell_type": "markdown",
   "id": "2c14a04a-d60a-415a-baed-e47b56bcb956",
   "metadata": {},
   "source": [
    "### Visualizing nifti CT file and Mask file"
   ]
  },
  {
   "cell_type": "code",
   "execution_count": 48,
   "id": "9eecce66-479a-49c9-8253-4ae8908e6bfd",
   "metadata": {},
   "outputs": [
    {
     "data": {
      "application/vnd.jupyter.widget-view+json": {
       "model_id": "84e5eb12bddb4d0291fe8e7912e911ea",
       "version_major": 2,
       "version_minor": 0
      },
      "text/plain": [
       "interactive(children=(IntSlider(value=0, continuous_update=False, description='Select Layer', max=275), Output…"
      ]
     },
     "metadata": {},
     "output_type": "display_data"
    }
   ],
   "source": [
    "# Create layer slider\n",
    "select_layer = IntSlider(min=0, max=ct_3.shape[2] - 1, description='Select Layer', continuous_update=False)\n",
    "\n",
    "    \n",
    "# Define a function for plotting images\n",
    "def plot(layer):\n",
    "    print(f\"Plotting Layer: {layer}\")\n",
    "    fig = plt.figure(figsize=(20, 10))\n",
    "    \n",
    "    fig.add_subplot(1, 2, 1)\n",
    "    plt.imshow(ct_3[:, :, layer], cmap='gray');\n",
    "    plt.title(\"ct\", fontsize=20)\n",
    "    plt.axis('off')\n",
    "    \n",
    "    fig.add_subplot(1, 2, 2)\n",
    "    plt.title(\"Mask\", fontsize=20)\n",
    "    plt.imshow(ct_3_mask[:, :, layer], cmap='gray')\n",
    "    plt.axis('off');\n",
    "\n",
    "# Use the interactive() tool to create the visualization\n",
    "interactive(plot, layer=select_layer)"
   ]
  },
  {
   "cell_type": "markdown",
   "id": "located-nutrition",
   "metadata": {},
   "source": [
    "### Calculating CT shape counter dictionary"
   ]
  },
  {
   "cell_type": "code",
   "execution_count": 49,
   "id": "sufficient-basic",
   "metadata": {},
   "outputs": [
    {
     "name": "stderr",
     "output_type": "stream",
     "text": [
      "100%|██████████| 95/95 [02:08<00:00,  1.35s/it]\n"
     ]
    }
   ],
   "source": [
    "data_dir = \"../../datasets/Task06_Lung/\"\n",
    "\n",
    "train_mri_paths = [os.path.join(data_dir + \"train/images\", x) for x in os.listdir(data_dir + \"train/images\")]\n",
    "val_mri_paths = [os.path.join(data_dir + \"val/images\", x) for x in os.listdir(data_dir + \"val/images\")]\n",
    "test_mri_paths = [os.path.join(data_dir + \"test_images_for_model_prediction_submission\", x) for x in os.listdir(data_dir + \"test_images_for_model_prediction_submission\")]\n",
    "\n",
    "all_paths = train_mri_paths + val_mri_paths + test_mri_paths  # concatenate list of paths\n",
    "\n",
    "shape_count_dict = {}\n",
    "\n",
    "for path in tqdm(all_paths):\n",
    "    mri = nib.load(path).get_fdata()\n",
    "    shape = mri.shape\n",
    "    \n",
    "    if shape not in shape_count_dict.keys():\n",
    "        shape_count_dict[shape] = 1\n",
    "    else:\n",
    "        shape_count_dict[shape] += 1   "
   ]
  },
  {
   "cell_type": "code",
   "execution_count": 50,
   "id": "premium-adjustment",
   "metadata": {},
   "outputs": [
    {
     "name": "stdout",
     "output_type": "stream",
     "text": [
      "OrderedDict([((512, 512, 241), 5),\n",
      "             ((512, 512, 271), 3),\n",
      "             ((512, 512, 252), 3),\n",
      "             ((512, 512, 251), 3),\n",
      "             ((512, 512, 245), 3),\n",
      "             ((512, 512, 125), 2),\n",
      "             ((512, 512, 304), 2),\n",
      "             ((512, 512, 322), 2),\n",
      "             ((512, 512, 301), 2),\n",
      "             ((512, 512, 242), 2),\n",
      "             ((512, 512, 228), 2),\n",
      "             ((512, 512, 218), 2),\n",
      "             ((512, 512, 129), 2),\n",
      "             ((512, 512, 267), 2),\n",
      "             ((512, 512, 300), 2),\n",
      "             ((512, 512, 119), 2),\n",
      "             ((512, 512, 244), 2),\n",
      "             ((512, 512, 282), 1),\n",
      "             ((512, 512, 128), 1),\n",
      "             ((512, 512, 273), 1),\n",
      "             ((512, 512, 329), 1),\n",
      "             ((512, 512, 266), 1),\n",
      "             ((512, 512, 531), 1),\n",
      "             ((512, 512, 296), 1),\n",
      "             ((512, 512, 211), 1),\n",
      "             ((512, 512, 376), 1),\n",
      "             ((512, 512, 589), 1),\n",
      "             ((512, 512, 226), 1),\n",
      "             ((512, 512, 243), 1),\n",
      "             ((512, 512, 276), 1),\n",
      "             ((512, 512, 314), 1),\n",
      "             ((512, 512, 260), 1),\n",
      "             ((512, 512, 255), 1),\n",
      "             ((512, 512, 227), 1),\n",
      "             ((512, 512, 240), 1),\n",
      "             ((512, 512, 126), 1),\n",
      "             ((512, 512, 288), 1),\n",
      "             ((512, 512, 291), 1),\n",
      "             ((512, 512, 155), 1),\n",
      "             ((512, 512, 567), 1),\n",
      "             ((512, 512, 248), 1),\n",
      "             ((512, 512, 636), 1),\n",
      "             ((512, 512, 112), 1),\n",
      "             ((512, 512, 277), 1),\n",
      "             ((512, 512, 483), 1),\n",
      "             ((512, 512, 264), 1),\n",
      "             ((512, 512, 369), 1),\n",
      "             ((512, 512, 450), 1),\n",
      "             ((512, 512, 249), 1),\n",
      "             ((512, 512, 115), 1),\n",
      "             ((512, 512, 423), 1),\n",
      "             ((512, 512, 256), 1),\n",
      "             ((512, 512, 289), 1),\n",
      "             ((512, 512, 493), 1),\n",
      "             ((512, 512, 231), 1),\n",
      "             ((512, 512, 269), 1),\n",
      "             ((512, 512, 199), 1),\n",
      "             ((512, 512, 565), 1),\n",
      "             ((512, 512, 368), 1),\n",
      "             ((512, 512, 318), 1),\n",
      "             ((512, 512, 580), 1),\n",
      "             ((512, 512, 285), 1),\n",
      "             ((512, 512, 373), 1),\n",
      "             ((512, 512, 261), 1),\n",
      "             ((512, 512, 235), 1),\n",
      "             ((512, 512, 265), 1),\n",
      "             ((512, 512, 254), 1),\n",
      "             ((512, 512, 316), 1),\n",
      "             ((512, 512, 216), 1),\n",
      "             ((512, 512, 224), 1),\n",
      "             ((512, 512, 313), 1)])\n"
     ]
    }
   ],
   "source": [
    "shape_count_dict = OrderedDict(sorted(shape_count_dict.items(), key=lambda item: item[1], reverse=True))\n",
    "pprint(shape_count_dict)"
   ]
  },
  {
   "cell_type": "code",
   "execution_count": 51,
   "id": "preliminary-windsor",
   "metadata": {},
   "outputs": [
    {
     "name": "stdout",
     "output_type": "stream",
     "text": [
      "292.16901408450707\n",
      "266.0\n",
      "112\n",
      "636\n"
     ]
    }
   ],
   "source": [
    "list_layers = []\n",
    "for key, val in shape_count_dict.items():\n",
    "    list_layers.append(key[2])\n",
    "\n",
    "layers = np.array(list_layers)\n",
    "print(layers.mean())\n",
    "print(np.median(layers))\n",
    "print(layers.min())\n",
    "print(layers.max())"
   ]
  },
  {
   "cell_type": "code",
   "execution_count": null,
   "id": "executed-rating",
   "metadata": {},
   "outputs": [],
   "source": []
  }
 ],
 "metadata": {
  "kernelspec": {
   "display_name": "Python 3",
   "language": "python",
   "name": "python3"
  },
  "language_info": {
   "codemirror_mode": {
    "name": "ipython",
    "version": 3
   },
   "file_extension": ".py",
   "mimetype": "text/x-python",
   "name": "python",
   "nbconvert_exporter": "python",
   "pygments_lexer": "ipython3",
   "version": "3.7.10"
  }
 },
 "nbformat": 4,
 "nbformat_minor": 5
}
