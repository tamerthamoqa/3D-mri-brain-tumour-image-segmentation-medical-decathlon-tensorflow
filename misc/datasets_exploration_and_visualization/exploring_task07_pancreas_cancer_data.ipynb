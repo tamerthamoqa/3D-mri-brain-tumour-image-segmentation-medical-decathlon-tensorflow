{
 "cells": [
  {
   "cell_type": "markdown",
   "id": "micro-major",
   "metadata": {},
   "source": [
    "__Note__: The code used here was heavily inspired by the AI for Medicine Specialization Course 1 Week three programming assignments: [link](https://www.coursera.org/learn/ai-for-medical-diagnosis)"
   ]
  },
  {
   "cell_type": "code",
   "execution_count": 1,
   "id": "attractive-operator",
   "metadata": {},
   "outputs": [],
   "source": [
    "import numpy as np\n",
    "import nibabel as nib\n",
    "import matplotlib.pyplot as plt\n",
    "import json\n",
    "import os\n",
    "from pprint import pprint\n",
    "from collections import OrderedDict\n",
    "from ipywidgets import interact, interactive, IntSlider, ToggleButtons\n",
    "from sys import getsizeof\n",
    "from tqdm import tqdm"
   ]
  },
  {
   "cell_type": "markdown",
   "id": "broadband-cisco",
   "metadata": {},
   "source": [
    "### Reading dataset description"
   ]
  },
  {
   "cell_type": "code",
   "execution_count": 2,
   "id": "modular-selling",
   "metadata": {},
   "outputs": [],
   "source": [
    "file = open('../datasets_descriptions_json/task07_pancreas_dataset.json')\n",
    "data_description = json.load(file)"
   ]
  },
  {
   "cell_type": "code",
   "execution_count": 3,
   "id": "convinced-occupation",
   "metadata": {},
   "outputs": [
    {
     "name": "stdout",
     "output_type": "stream",
     "text": [
      "{\n",
      "    \"name\": \"Pancreas\",\n",
      "    \"description\": \"Pancreas and cancer segmentation\",\n",
      "    \"reference\": \"Memorial Sloan Kettering Cancer Center \",\n",
      "    \"licence\": \"CC-BY-SA 4.0\",\n",
      "    \"relase\": \"1.0 04/05/2018\",\n",
      "    \"tensorImageSize\": \"3D\",\n",
      "    \"modality\": {\n",
      "        \"0\": \"CT\"\n",
      "    },\n",
      "    \"labels\": {\n",
      "        \"0\": \"background\",\n",
      "        \"1\": \"pancreas\",\n",
      "        \"2\": \"cancer\"\n",
      "    },\n",
      "    \"numTraining\": 281,\n",
      "    \"numTest\": 139,\n",
      "    \"training\": [\n",
      "        {\n",
      "            \"image\": \"./imagesTr/pancreas_290.nii.gz\",\n",
      "            \"label\": \"./labelsTr/pancreas_290.nii.gz\"\n",
      "        },\n",
      "        {\n",
      "            \"image\": \"./imagesTr/pancreas_127.nii.gz\",\n",
      "            \"label\": \"./labelsTr/pancreas_127.nii.gz\"\n",
      "        },\n",
      "        {\n",
      "            \"image\": \"./imagesTr/pancreas_056.nii.gz\",\n",
      "            \"label\": \"./labelsTr/pancreas_056.nii.gz\"\n",
      "        },\n",
      "        {\n",
      "            \"image\": \"./imagesTr/pancreas_148.nii.gz\",\n",
      "            \"label\": \"./labelsTr/pancreas_148.nii.gz\"\n",
      "        },\n",
      "        {\n",
      "            \"image\": \"./imagesTr/pancreas_048.nii.gz\",\n",
      "            \"label\": \"./labelsTr/pancreas_048.nii.gz\"\n",
      "        },\n",
      "        {\n",
      "            \"image\": \"./imagesTr/pancreas_135.nii.gz\",\n",
      "            \"label\": \"./labelsTr/pancreas_135.nii.gz\"\n",
      "        },\n",
      "        {\n",
      "            \"image\": \"./imagesTr/pancreas_382.nii.gz\",\n",
      "            \"label\": \"./labelsTr/pancreas_382.nii.gz\"\n",
      "        },\n",
      "        {\n",
      "            \"image\": \"./imagesTr/pancreas_035.nii.gz\",\n",
      "            \"label\": \"./labelsTr/pancreas_035.nii.gz\"\n",
      "        },\n",
      "        {\n",
      "            \"image\": \"./imagesTr/pancreas_160.nii.gz\",\n",
      "            \"label\": \"./labelsTr/pancreas_160.nii.gz\"\n",
      "        },\n",
      "        {\n",
      "            \"image\": \"./imagesTr/pancreas_103.nii.gz\",\n",
      "            \"label\": \"./labelsTr/pancreas_103.nii.gz\"\n",
      "        },\n",
      "        {\n",
      "            \"image\": \"./imagesTr/pancreas_172.nii.gz\",\n",
      "            \"label\": \"./labelsTr/pancreas_172.nii.gz\"\n",
      "        },\n",
      "        {\n",
      "            \"image\": \"./imagesTr/pancreas_111.nii.gz\",\n",
      "            \"label\": \"./labelsTr/pancreas_111.nii.gz\"\n",
      "        },\n",
      "        {\n",
      "            \"image\": \"./imagesTr/pancreas_212.nii.gz\",\n",
      "            \"label\": \"./labelsTr/pancreas_212.nii.gz\"\n",
      "        },\n",
      "        {\n",
      "            \"image\": \"./imagesTr/pancreas_312.nii.gz\",\n",
      "            \"label\": \"./labelsTr/pancreas_312.nii.gz\"\n",
      "        },\n",
      "        {\n",
      "            \"image\": \"./imagesTr/pancreas_300.nii.gz\",\n",
      "            \"label\": \"./labelsTr/pancreas_300.nii.gz\"\n",
      "        },\n",
      "        {\n",
      "            \"image\": \"./imagesTr/pancreas_200.nii.gz\",\n",
      "            \"label\": \"./labelsTr/pancreas_200.nii.gz\"\n",
      "        },\n",
      "        {\n",
      "            \"image\": \"./imagesTr/pancreas_355.nii.gz\",\n",
      "            \"label\": \"./labelsTr/pancreas_355.nii.gz\"\n",
      "        },\n",
      "        {\n",
      "            \"image\": \"./imagesTr/pancreas_404.nii.gz\",\n",
      "            \"label\": \"./labelsTr/pancreas_404.nii.gz\"\n",
      "        },\n",
      "        {\n",
      "            \"image\": \"./imagesTr/pancreas_255.nii.gz\",\n",
      "            \"label\": \"./labelsTr/pancreas_255.nii.gz\"\n",
      "        },\n",
      "        {\n",
      "            \"image\": \"./imagesTr/pancreas_328.nii.gz\",\n",
      "            \"label\": \"./labelsTr/pancreas_328.nii.gz\"\n",
      "        },\n",
      "        {\n",
      "            \"image\": \"./imagesTr/pancreas_228.nii.gz\",\n",
      "            \"label\": \"./labelsTr/pancreas_228.nii.gz\"\n",
      "        },\n",
      "        {\n",
      "            \"image\": \"./imagesTr/pancreas_181.nii.gz\",\n",
      "            \"label\": \"./labelsTr/pancreas_181.nii.gz\"\n",
      "        },\n",
      "        {\n",
      "            \"image\": \"./imagesTr/pancreas_336.nii.gz\",\n",
      "            \"label\": \"./labelsTr/pancreas_336.nii.gz\"\n",
      "        },\n",
      "        {\n",
      "            \"image\": \"./imagesTr/pancreas_081.nii.gz\",\n",
      "            \"label\": \"./labelsTr/pancreas_081.nii.gz\"\n",
      "        },\n",
      "        {\n",
      "            \"image\": \"./imagesTr/pancreas_236.nii.gz\",\n",
      "            \"label\": \"./labelsTr/pancreas_236.nii.gz\"\n",
      "        },\n",
      "        {\n",
      "            \"image\": \"./imagesTr/pancreas_247.nii.gz\",\n",
      "            \"label\": \"./labelsTr/pancreas_247.nii.gz\"\n",
      "        },\n",
      "        {\n",
      "            \"image\": \"./imagesTr/pancreas_416.nii.gz\",\n",
      "            \"label\": \"./labelsTr/pancreas_416.nii.gz\"\n",
      "        },\n",
      "        {\n",
      "            \"image\": \"./imagesTr/pancreas_347.nii.gz\",\n",
      "            \"label\": \"./labelsTr/pancreas_347.nii.gz\"\n",
      "        },\n",
      "        {\n",
      "            \"image\": \"./imagesTr/pancreas_259.nii.gz\",\n",
      "            \"label\": \"./labelsTr/pancreas_259.nii.gz\"\n",
      "        },\n",
      "        {\n",
      "            \"image\": \"./imagesTr/pancreas_224.nii.gz\",\n",
      "            \"label\": \"./labelsTr/pancreas_224.nii.gz\"\n",
      "        },\n",
      "        {\n",
      "            \"image\": \"./imagesTr/pancreas_093.nii.gz\",\n",
      "            \"label\": \"./labelsTr/pancreas_093.nii.gz\"\n",
      "        },\n",
      "        {\n",
      "            \"image\": \"./imagesTr/pancreas_193.nii.gz\",\n",
      "            \"label\": \"./labelsTr/pancreas_193.nii.gz\"\n",
      "        },\n",
      "        {\n",
      "            \"image\": \"./imagesTr/pancreas_302.nii.gz\",\n",
      "            \"label\": \"./labelsTr/pancreas_302.nii.gz\"\n",
      "        },\n",
      "        {\n",
      "            \"image\": \"./imagesTr/pancreas_361.nii.gz\",\n",
      "            \"label\": \"./labelsTr/pancreas_361.nii.gz\"\n",
      "        },\n",
      "        {\n",
      "            \"image\": \"./imagesTr/pancreas_261.nii.gz\",\n",
      "            \"label\": \"./labelsTr/pancreas_261.nii.gz\"\n",
      "        },\n",
      "        {\n",
      "            \"image\": \"./imagesTr/pancreas_210.nii.gz\",\n",
      "            \"label\": \"./labelsTr/pancreas_210.nii.gz\"\n",
      "        },\n",
      "        {\n",
      "            \"image\": \"./imagesTr/pancreas_310.nii.gz\",\n",
      "            \"label\": \"./labelsTr/pancreas_310.nii.gz\"\n",
      "        },\n",
      "        {\n",
      "            \"image\": \"./imagesTr/pancreas_226.nii.gz\",\n",
      "            \"label\": \"./labelsTr/pancreas_226.nii.gz\"\n",
      "        },\n",
      "        {\n",
      "            \"image\": \"./imagesTr/pancreas_091.nii.gz\",\n",
      "            \"label\": \"./labelsTr/pancreas_091.nii.gz\"\n",
      "        },\n",
      "        {\n",
      "            \"image\": \"./imagesTr/pancreas_326.nii.gz\",\n",
      "            \"label\": \"./labelsTr/pancreas_326.nii.gz\"\n",
      "        },\n",
      "        {\n",
      "            \"image\": \"./imagesTr/pancreas_191.nii.gz\",\n",
      "            \"label\": \"./labelsTr/pancreas_191.nii.gz\"\n",
      "        },\n",
      "        {\n",
      "            \"image\": \"./imagesTr/pancreas_414.nii.gz\",\n",
      "            \"label\": \"./labelsTr/pancreas_414.nii.gz\"\n",
      "        },\n",
      "        {\n",
      "            \"image\": \"./imagesTr/pancreas_345.nii.gz\",\n",
      "            \"label\": \"./labelsTr/pancreas_345.nii.gz\"\n",
      "        },\n",
      "        {\n",
      "            \"image\": \"./imagesTr/pancreas_418.nii.gz\",\n",
      "            \"label\": \"./labelsTr/pancreas_418.nii.gz\"\n",
      "        },\n",
      "        {\n",
      "            \"image\": \"./imagesTr/pancreas_249.nii.gz\",\n",
      "            \"label\": \"./labelsTr/pancreas_249.nii.gz\"\n",
      "        },\n",
      "        {\n",
      "            \"image\": \"./imagesTr/pancreas_183.nii.gz\",\n",
      "            \"label\": \"./labelsTr/pancreas_183.nii.gz\"\n",
      "        },\n",
      "        {\n",
      "            \"image\": \"./imagesTr/pancreas_334.nii.gz\",\n",
      "            \"label\": \"./labelsTr/pancreas_334.nii.gz\"\n",
      "        },\n",
      "        {\n",
      "            \"image\": \"./imagesTr/pancreas_083.nii.gz\",\n",
      "            \"label\": \"./labelsTr/pancreas_083.nii.gz\"\n",
      "        },\n",
      "        {\n",
      "            \"image\": \"./imagesTr/pancreas_234.nii.gz\",\n",
      "            \"label\": \"./labelsTr/pancreas_234.nii.gz\"\n",
      "        },\n",
      "        {\n",
      "            \"image\": \"./imagesTr/pancreas_357.nii.gz\",\n",
      "            \"label\": \"./labelsTr/pancreas_357.nii.gz\"\n",
      "        },\n",
      "        {\n",
      "            \"image\": \"./imagesTr/pancreas_406.nii.gz\",\n",
      "            \"label\": \"./labelsTr/pancreas_406.nii.gz\"\n",
      "        },\n",
      "        {\n",
      "            \"image\": \"./imagesTr/pancreas_137.nii.gz\",\n",
      "            \"label\": \"./labelsTr/pancreas_137.nii.gz\"\n",
      "        },\n",
      "        {\n",
      "            \"image\": \"./imagesTr/pancreas_380.nii.gz\",\n",
      "            \"label\": \"./labelsTr/pancreas_380.nii.gz\"\n",
      "        },\n",
      "        {\n",
      "            \"image\": \"./imagesTr/pancreas_037.nii.gz\",\n",
      "            \"label\": \"./labelsTr/pancreas_037.nii.gz\"\n",
      "        },\n",
      "        {\n",
      "            \"image\": \"./imagesTr/pancreas_280.nii.gz\",\n",
      "            \"label\": \"./labelsTr/pancreas_280.nii.gz\"\n",
      "        },\n",
      "        {\n",
      "            \"image\": \"./imagesTr/pancreas_129.nii.gz\",\n",
      "            \"label\": \"./labelsTr/pancreas_129.nii.gz\"\n",
      "        },\n",
      "        {\n",
      "            \"image\": \"./imagesTr/pancreas_029.nii.gz\",\n",
      "            \"label\": \"./labelsTr/pancreas_029.nii.gz\"\n",
      "        },\n",
      "        {\n",
      "            \"image\": \"./imagesTr/pancreas_058.nii.gz\",\n",
      "            \"label\": \"./labelsTr/pancreas_058.nii.gz\"\n",
      "        },\n",
      "        {\n",
      "            \"image\": \"./imagesTr/pancreas_158.nii.gz\",\n",
      "            \"label\": \"./labelsTr/pancreas_158.nii.gz\"\n",
      "        },\n",
      "        {\n",
      "            \"image\": \"./imagesTr/pancreas_292.nii.gz\",\n",
      "            \"label\": \"./labelsTr/pancreas_292.nii.gz\"\n",
      "        },\n",
      "        {\n",
      "            \"image\": \"./imagesTr/pancreas_025.nii.gz\",\n",
      "            \"label\": \"./labelsTr/pancreas_025.nii.gz\"\n",
      "        },\n",
      "        {\n",
      "            \"image\": \"./imagesTr/pancreas_392.nii.gz\",\n",
      "            \"label\": \"./labelsTr/pancreas_392.nii.gz\"\n",
      "        },\n",
      "        {\n",
      "            \"image\": \"./imagesTr/pancreas_125.nii.gz\",\n",
      "            \"label\": \"./labelsTr/pancreas_125.nii.gz\"\n",
      "        },\n",
      "        {\n",
      "            \"image\": \"./imagesTr/pancreas_046.nii.gz\",\n",
      "            \"label\": \"./labelsTr/pancreas_046.nii.gz\"\n",
      "        },\n",
      "        {\n",
      "            \"image\": \"./imagesTr/pancreas_113.nii.gz\",\n",
      "            \"label\": \"./labelsTr/pancreas_113.nii.gz\"\n",
      "        },\n",
      "        {\n",
      "            \"image\": \"./imagesTr/pancreas_070.nii.gz\",\n",
      "            \"label\": \"./labelsTr/pancreas_070.nii.gz\"\n",
      "        },\n",
      "        {\n",
      "            \"image\": \"./imagesTr/pancreas_170.nii.gz\",\n",
      "            \"label\": \"./labelsTr/pancreas_170.nii.gz\"\n",
      "        },\n",
      "        {\n",
      "            \"image\": \"./imagesTr/pancreas_101.nii.gz\",\n",
      "            \"label\": \"./labelsTr/pancreas_101.nii.gz\"\n",
      "        },\n",
      "        {\n",
      "            \"image\": \"./imagesTr/pancreas_001.nii.gz\",\n",
      "            \"label\": \"./labelsTr/pancreas_001.nii.gz\"\n",
      "        },\n",
      "        {\n",
      "            \"image\": \"./imagesTr/pancreas_187.nii.gz\",\n",
      "            \"label\": \"./labelsTr/pancreas_187.nii.gz\"\n",
      "        },\n",
      "        {\n",
      "            \"image\": \"./imagesTr/pancreas_330.nii.gz\",\n",
      "            \"label\": \"./labelsTr/pancreas_330.nii.gz\"\n",
      "        },\n",
      "        {\n",
      "            \"image\": \"./imagesTr/pancreas_087.nii.gz\",\n",
      "            \"label\": \"./labelsTr/pancreas_087.nii.gz\"\n",
      "        },\n",
      "        {\n",
      "            \"image\": \"./imagesTr/pancreas_230.nii.gz\",\n",
      "            \"label\": \"./labelsTr/pancreas_230.nii.gz\"\n",
      "        },\n",
      "        {\n",
      "            \"image\": \"./imagesTr/pancreas_199.nii.gz\",\n",
      "            \"label\": \"./labelsTr/pancreas_199.nii.gz\"\n",
      "        },\n",
      "        {\n",
      "            \"image\": \"./imagesTr/pancreas_099.nii.gz\",\n",
      "            \"label\": \"./labelsTr/pancreas_099.nii.gz\"\n",
      "        },\n",
      "        {\n",
      "            \"image\": \"./imagesTr/pancreas_402.nii.gz\",\n",
      "            \"label\": \"./labelsTr/pancreas_402.nii.gz\"\n",
      "        },\n",
      "        {\n",
      "            \"image\": \"./imagesTr/pancreas_253.nii.gz\",\n",
      "            \"label\": \"./labelsTr/pancreas_253.nii.gz\"\n",
      "        },\n",
      "        {\n",
      "            \"image\": \"./imagesTr/pancreas_222.nii.gz\",\n",
      "            \"label\": \"./labelsTr/pancreas_222.nii.gz\"\n",
      "        },\n",
      "        {\n",
      "            \"image\": \"./imagesTr/pancreas_095.nii.gz\",\n",
      "            \"label\": \"./labelsTr/pancreas_095.nii.gz\"\n",
      "        },\n",
      "        {\n",
      "            \"image\": \"./imagesTr/pancreas_241.nii.gz\",\n",
      "            \"label\": \"./labelsTr/pancreas_241.nii.gz\"\n",
      "        },\n",
      "        {\n",
      "            \"image\": \"./imagesTr/pancreas_410.nii.gz\",\n",
      "            \"label\": \"./labelsTr/pancreas_410.nii.gz\"\n",
      "        },\n",
      "        {\n",
      "            \"image\": \"./imagesTr/pancreas_214.nii.gz\",\n",
      "            \"label\": \"./labelsTr/pancreas_214.nii.gz\"\n",
      "        },\n",
      "        {\n",
      "            \"image\": \"./imagesTr/pancreas_269.nii.gz\",\n",
      "            \"label\": \"./labelsTr/pancreas_269.nii.gz\"\n",
      "        },\n",
      "        {\n",
      "            \"image\": \"./imagesTr/pancreas_369.nii.gz\",\n",
      "            \"label\": \"./labelsTr/pancreas_369.nii.gz\"\n",
      "        },\n",
      "        {\n",
      "            \"image\": \"./imagesTr/pancreas_277.nii.gz\",\n",
      "            \"label\": \"./labelsTr/pancreas_277.nii.gz\"\n",
      "        },\n",
      "        {\n",
      "            \"image\": \"./imagesTr/pancreas_377.nii.gz\",\n",
      "            \"label\": \"./labelsTr/pancreas_377.nii.gz\"\n",
      "        },\n",
      "        {\n",
      "            \"image\": \"./imagesTr/pancreas_318.nii.gz\",\n",
      "            \"label\": \"./labelsTr/pancreas_318.nii.gz\"\n",
      "        },\n",
      "        {\n",
      "            \"image\": \"./imagesTr/pancreas_218.nii.gz\",\n",
      "            \"label\": \"./labelsTr/pancreas_218.nii.gz\"\n",
      "        },\n",
      "        {\n",
      "            \"image\": \"./imagesTr/pancreas_365.nii.gz\",\n",
      "            \"label\": \"./labelsTr/pancreas_365.nii.gz\"\n",
      "        },\n",
      "        {\n",
      "            \"image\": \"./imagesTr/pancreas_265.nii.gz\",\n",
      "            \"label\": \"./labelsTr/pancreas_265.nii.gz\"\n",
      "        },\n",
      "        {\n",
      "            \"image\": \"./imagesTr/pancreas_105.nii.gz\",\n",
      "            \"label\": \"./labelsTr/pancreas_105.nii.gz\"\n",
      "        },\n",
      "        {\n",
      "            \"image\": \"./imagesTr/pancreas_005.nii.gz\",\n",
      "            \"label\": \"./labelsTr/pancreas_005.nii.gz\"\n",
      "        },\n",
      "        {\n",
      "            \"image\": \"./imagesTr/pancreas_178.nii.gz\",\n",
      "            \"label\": \"./labelsTr/pancreas_178.nii.gz\"\n",
      "        },\n",
      "        {\n",
      "            \"image\": \"./imagesTr/pancreas_078.nii.gz\",\n",
      "            \"label\": \"./labelsTr/pancreas_078.nii.gz\"\n",
      "        },\n",
      "        {\n",
      "            \"image\": \"./imagesTr/pancreas_166.nii.gz\",\n",
      "            \"label\": \"./labelsTr/pancreas_166.nii.gz\"\n",
      "        },\n",
      "        {\n",
      "            \"image\": \"./imagesTr/pancreas_066.nii.gz\",\n",
      "            \"label\": \"./labelsTr/pancreas_066.nii.gz\"\n",
      "        },\n",
      "        {\n",
      "            \"image\": \"./imagesTr/pancreas_117.nii.gz\",\n",
      "            \"label\": \"./labelsTr/pancreas_117.nii.gz\"\n",
      "        },\n",
      "        {\n",
      "            \"image\": \"./imagesTr/pancreas_109.nii.gz\",\n",
      "            \"label\": \"./labelsTr/pancreas_109.nii.gz\"\n",
      "        },\n",
      "        {\n",
      "            \"image\": \"./imagesTr/pancreas_074.nii.gz\",\n",
      "            \"label\": \"./labelsTr/pancreas_074.nii.gz\"\n",
      "        },\n",
      "        {\n",
      "            \"image\": \"./imagesTr/pancreas_296.nii.gz\",\n",
      "            \"label\": \"./labelsTr/pancreas_296.nii.gz\"\n",
      "        },\n",
      "        {\n",
      "            \"image\": \"./imagesTr/pancreas_021.nii.gz\",\n",
      "            \"label\": \"./labelsTr/pancreas_021.nii.gz\"\n",
      "        },\n",
      "        {\n",
      "            \"image\": \"./imagesTr/pancreas_388.nii.gz\",\n",
      "            \"label\": \"./labelsTr/pancreas_388.nii.gz\"\n",
      "        },\n",
      "        {\n",
      "            \"image\": \"./imagesTr/pancreas_042.nii.gz\",\n",
      "            \"label\": \"./labelsTr/pancreas_042.nii.gz\"\n",
      "        },\n",
      "        {\n",
      "            \"image\": \"./imagesTr/pancreas_284.nii.gz\",\n",
      "            \"label\": \"./labelsTr/pancreas_284.nii.gz\"\n",
      "        },\n",
      "        {\n",
      "            \"image\": \"./imagesTr/pancreas_050.nii.gz\",\n",
      "            \"label\": \"./labelsTr/pancreas_050.nii.gz\"\n",
      "        },\n",
      "        {\n",
      "            \"image\": \"./imagesTr/pancreas_015.nii.gz\",\n",
      "            \"label\": \"./labelsTr/pancreas_015.nii.gz\"\n",
      "        },\n",
      "        {\n",
      "            \"image\": \"./imagesTr/pancreas_119.nii.gz\",\n",
      "            \"label\": \"./labelsTr/pancreas_119.nii.gz\"\n",
      "        },\n",
      "        {\n",
      "            \"image\": \"./imagesTr/pancreas_019.nii.gz\",\n",
      "            \"label\": \"./labelsTr/pancreas_019.nii.gz\"\n",
      "        },\n",
      "        {\n",
      "            \"image\": \"./imagesTr/pancreas_064.nii.gz\",\n",
      "            \"label\": \"./labelsTr/pancreas_064.nii.gz\"\n",
      "        },\n",
      "        {\n",
      "            \"image\": \"./imagesTr/pancreas_107.nii.gz\",\n",
      "            \"label\": \"./labelsTr/pancreas_107.nii.gz\"\n",
      "        },\n",
      "        {\n",
      "            \"image\": \"./imagesTr/pancreas_398.nii.gz\",\n",
      "            \"label\": \"./labelsTr/pancreas_398.nii.gz\"\n",
      "        },\n",
      "        {\n",
      "            \"image\": \"./imagesTr/pancreas_298.nii.gz\",\n",
      "            \"label\": \"./labelsTr/pancreas_298.nii.gz\"\n",
      "        },\n",
      "        {\n",
      "            \"image\": \"./imagesTr/pancreas_052.nii.gz\",\n",
      "            \"label\": \"./labelsTr/pancreas_052.nii.gz\"\n",
      "        },\n",
      "        {\n",
      "            \"image\": \"./imagesTr/pancreas_131.nii.gz\",\n",
      "            \"label\": \"./labelsTr/pancreas_131.nii.gz\"\n",
      "        },\n",
      "        {\n",
      "            \"image\": \"./imagesTr/pancreas_386.nii.gz\",\n",
      "            \"label\": \"./labelsTr/pancreas_386.nii.gz\"\n",
      "        },\n",
      "        {\n",
      "            \"image\": \"./imagesTr/pancreas_286.nii.gz\",\n",
      "            \"label\": \"./labelsTr/pancreas_286.nii.gz\"\n",
      "        },\n",
      "        {\n",
      "            \"image\": \"./imagesTr/pancreas_040.nii.gz\",\n",
      "            \"label\": \"./labelsTr/pancreas_040.nii.gz\"\n",
      "        },\n",
      "        {\n",
      "            \"image\": \"./imagesTr/pancreas_140.nii.gz\",\n",
      "            \"label\": \"./labelsTr/pancreas_140.nii.gz\"\n",
      "        },\n",
      "        {\n",
      "            \"image\": \"./imagesTr/pancreas_294.nii.gz\",\n",
      "            \"label\": \"./labelsTr/pancreas_294.nii.gz\"\n",
      "        },\n",
      "        {\n",
      "            \"image\": \"./imagesTr/pancreas_089.nii.gz\",\n",
      "            \"label\": \"./labelsTr/pancreas_089.nii.gz\"\n",
      "        },\n",
      "        {\n",
      "            \"image\": \"./imagesTr/pancreas_243.nii.gz\",\n",
      "            \"label\": \"./labelsTr/pancreas_243.nii.gz\"\n",
      "        },\n",
      "        {\n",
      "            \"image\": \"./imagesTr/pancreas_343.nii.gz\",\n",
      "            \"label\": \"./labelsTr/pancreas_343.nii.gz\"\n",
      "        },\n",
      "        {\n",
      "            \"image\": \"./imagesTr/pancreas_412.nii.gz\",\n",
      "            \"label\": \"./labelsTr/pancreas_412.nii.gz\"\n",
      "        },\n",
      "        {\n",
      "            \"image\": \"./imagesTr/pancreas_320.nii.gz\",\n",
      "            \"label\": \"./labelsTr/pancreas_320.nii.gz\"\n",
      "        },\n",
      "        {\n",
      "            \"image\": \"./imagesTr/pancreas_197.nii.gz\",\n",
      "            \"label\": \"./labelsTr/pancreas_197.nii.gz\"\n",
      "        },\n",
      "        {\n",
      "            \"image\": \"./imagesTr/pancreas_400.nii.gz\",\n",
      "            \"label\": \"./labelsTr/pancreas_400.nii.gz\"\n",
      "        },\n",
      "        {\n",
      "            \"image\": \"./imagesTr/pancreas_351.nii.gz\",\n",
      "            \"label\": \"./labelsTr/pancreas_351.nii.gz\"\n",
      "        },\n",
      "        {\n",
      "            \"image\": \"./imagesTr/pancreas_367.nii.gz\",\n",
      "            \"label\": \"./labelsTr/pancreas_367.nii.gz\"\n",
      "        },\n",
      "        {\n",
      "            \"image\": \"./imagesTr/pancreas_267.nii.gz\",\n",
      "            \"label\": \"./labelsTr/pancreas_267.nii.gz\"\n",
      "        },\n",
      "        {\n",
      "            \"image\": \"./imagesTr/pancreas_304.nii.gz\",\n",
      "            \"label\": \"./labelsTr/pancreas_304.nii.gz\"\n",
      "        },\n",
      "        {\n",
      "            \"image\": \"./imagesTr/pancreas_204.nii.gz\",\n",
      "            \"label\": \"./labelsTr/pancreas_204.nii.gz\"\n",
      "        },\n",
      "        {\n",
      "            \"image\": \"./imagesTr/pancreas_379.nii.gz\",\n",
      "            \"label\": \"./labelsTr/pancreas_379.nii.gz\"\n",
      "        },\n",
      "        {\n",
      "            \"image\": \"./imagesTr/pancreas_279.nii.gz\",\n",
      "            \"label\": \"./labelsTr/pancreas_279.nii.gz\"\n",
      "        },\n",
      "        {\n",
      "            \"image\": \"./imagesTr/pancreas_308.nii.gz\",\n",
      "            \"label\": \"./labelsTr/pancreas_308.nii.gz\"\n",
      "        },\n",
      "        {\n",
      "            \"image\": \"./imagesTr/pancreas_275.nii.gz\",\n",
      "            \"label\": \"./labelsTr/pancreas_275.nii.gz\"\n",
      "        },\n",
      "        {\n",
      "            \"image\": \"./imagesTr/pancreas_375.nii.gz\",\n",
      "            \"label\": \"./labelsTr/pancreas_375.nii.gz\"\n",
      "        },\n",
      "        {\n",
      "            \"image\": \"./imagesTr/pancreas_316.nii.gz\",\n",
      "            \"label\": \"./labelsTr/pancreas_316.nii.gz\"\n",
      "        },\n",
      "        {\n",
      "            \"image\": \"./imagesTr/pancreas_080.nii.gz\",\n",
      "            \"label\": \"./labelsTr/pancreas_080.nii.gz\"\n",
      "        },\n",
      "        {\n",
      "            \"image\": \"./imagesTr/pancreas_180.nii.gz\",\n",
      "            \"label\": \"./labelsTr/pancreas_180.nii.gz\"\n",
      "        },\n",
      "        {\n",
      "            \"image\": \"./imagesTr/pancreas_229.nii.gz\",\n",
      "            \"label\": \"./labelsTr/pancreas_229.nii.gz\"\n",
      "        },\n",
      "        {\n",
      "            \"image\": \"./imagesTr/pancreas_329.nii.gz\",\n",
      "            \"label\": \"./labelsTr/pancreas_329.nii.gz\"\n",
      "        },\n",
      "        {\n",
      "            \"image\": \"./imagesTr/pancreas_254.nii.gz\",\n",
      "            \"label\": \"./labelsTr/pancreas_254.nii.gz\"\n",
      "        },\n",
      "        {\n",
      "            \"image\": \"./imagesTr/pancreas_354.nii.gz\",\n",
      "            \"label\": \"./labelsTr/pancreas_354.nii.gz\"\n",
      "        },\n",
      "        {\n",
      "            \"image\": \"./imagesTr/pancreas_405.nii.gz\",\n",
      "            \"label\": \"./labelsTr/pancreas_405.nii.gz\"\n",
      "        },\n",
      "        {\n",
      "            \"image\": \"./imagesTr/pancreas_325.nii.gz\",\n",
      "            \"label\": \"./labelsTr/pancreas_325.nii.gz\"\n",
      "        },\n",
      "        {\n",
      "            \"image\": \"./imagesTr/pancreas_225.nii.gz\",\n",
      "            \"label\": \"./labelsTr/pancreas_225.nii.gz\"\n",
      "        },\n",
      "        {\n",
      "            \"image\": \"./imagesTr/pancreas_092.nii.gz\",\n",
      "            \"label\": \"./labelsTr/pancreas_092.nii.gz\"\n",
      "        },\n",
      "        {\n",
      "            \"image\": \"./imagesTr/pancreas_409.nii.gz\",\n",
      "            \"label\": \"./labelsTr/pancreas_409.nii.gz\"\n",
      "        },\n",
      "        {\n",
      "            \"image\": \"./imagesTr/pancreas_358.nii.gz\",\n",
      "            \"label\": \"./labelsTr/pancreas_358.nii.gz\"\n",
      "        },\n",
      "        {\n",
      "            \"image\": \"./imagesTr/pancreas_258.nii.gz\",\n",
      "            \"label\": \"./labelsTr/pancreas_258.nii.gz\"\n",
      "        },\n",
      "        {\n",
      "            \"image\": \"./imagesTr/pancreas_346.nii.gz\",\n",
      "            \"label\": \"./labelsTr/pancreas_346.nii.gz\"\n",
      "        },\n",
      "        {\n",
      "            \"image\": \"./imagesTr/pancreas_246.nii.gz\",\n",
      "            \"label\": \"./labelsTr/pancreas_246.nii.gz\"\n",
      "        },\n",
      "        {\n",
      "            \"image\": \"./imagesTr/pancreas_313.nii.gz\",\n",
      "            \"label\": \"./labelsTr/pancreas_313.nii.gz\"\n",
      "        },\n",
      "        {\n",
      "            \"image\": \"./imagesTr/pancreas_213.nii.gz\",\n",
      "            \"label\": \"./labelsTr/pancreas_213.nii.gz\"\n",
      "        },\n",
      "        {\n",
      "            \"image\": \"./imagesTr/pancreas_370.nii.gz\",\n",
      "            \"label\": \"./labelsTr/pancreas_370.nii.gz\"\n",
      "        },\n",
      "        {\n",
      "            \"image\": \"./imagesTr/pancreas_421.nii.gz\",\n",
      "            \"label\": \"./labelsTr/pancreas_421.nii.gz\"\n",
      "        },\n",
      "        {\n",
      "            \"image\": \"./imagesTr/pancreas_270.nii.gz\",\n",
      "            \"label\": \"./labelsTr/pancreas_270.nii.gz\"\n",
      "        },\n",
      "        {\n",
      "            \"image\": \"./imagesTr/pancreas_201.nii.gz\",\n",
      "            \"label\": \"./labelsTr/pancreas_201.nii.gz\"\n",
      "        },\n",
      "        {\n",
      "            \"image\": \"./imagesTr/pancreas_301.nii.gz\",\n",
      "            \"label\": \"./labelsTr/pancreas_301.nii.gz\"\n",
      "        },\n",
      "        {\n",
      "            \"image\": \"./imagesTr/pancreas_262.nii.gz\",\n",
      "            \"label\": \"./labelsTr/pancreas_262.nii.gz\"\n",
      "        },\n",
      "        {\n",
      "            \"image\": \"./imagesTr/pancreas_362.nii.gz\",\n",
      "            \"label\": \"./labelsTr/pancreas_362.nii.gz\"\n",
      "        },\n",
      "        {\n",
      "            \"image\": \"./imagesTr/pancreas_102.nii.gz\",\n",
      "            \"label\": \"./labelsTr/pancreas_102.nii.gz\"\n",
      "        },\n",
      "        {\n",
      "            \"image\": \"./imagesTr/pancreas_061.nii.gz\",\n",
      "            \"label\": \"./labelsTr/pancreas_061.nii.gz\"\n",
      "        },\n",
      "        {\n",
      "            \"image\": \"./imagesTr/pancreas_110.nii.gz\",\n",
      "            \"label\": \"./labelsTr/pancreas_110.nii.gz\"\n",
      "        },\n",
      "        {\n",
      "            \"image\": \"./imagesTr/pancreas_010.nii.gz\",\n",
      "            \"label\": \"./labelsTr/pancreas_010.nii.gz\"\n",
      "        },\n",
      "        {\n",
      "            \"image\": \"./imagesTr/pancreas_173.nii.gz\",\n",
      "            \"label\": \"./labelsTr/pancreas_173.nii.gz\"\n",
      "        },\n",
      "        {\n",
      "            \"image\": \"./imagesTr/pancreas_391.nii.gz\",\n",
      "            \"label\": \"./labelsTr/pancreas_391.nii.gz\"\n",
      "        },\n",
      "        {\n",
      "            \"image\": \"./imagesTr/pancreas_126.nii.gz\",\n",
      "            \"label\": \"./labelsTr/pancreas_126.nii.gz\"\n",
      "        },\n",
      "        {\n",
      "            \"image\": \"./imagesTr/pancreas_291.nii.gz\",\n",
      "            \"label\": \"./labelsTr/pancreas_291.nii.gz\"\n",
      "        },\n",
      "        {\n",
      "            \"image\": \"./imagesTr/pancreas_138.nii.gz\",\n",
      "            \"label\": \"./labelsTr/pancreas_138.nii.gz\"\n",
      "        },\n",
      "        {\n",
      "            \"image\": \"./imagesTr/pancreas_145.nii.gz\",\n",
      "            \"label\": \"./labelsTr/pancreas_145.nii.gz\"\n",
      "        },\n",
      "        {\n",
      "            \"image\": \"./imagesTr/pancreas_045.nii.gz\",\n",
      "            \"label\": \"./labelsTr/pancreas_045.nii.gz\"\n",
      "        },\n",
      "        {\n",
      "            \"image\": \"./imagesTr/pancreas_283.nii.gz\",\n",
      "            \"label\": \"./labelsTr/pancreas_283.nii.gz\"\n",
      "        },\n",
      "        {\n",
      "            \"image\": \"./imagesTr/pancreas_049.nii.gz\",\n",
      "            \"label\": \"./labelsTr/pancreas_049.nii.gz\"\n",
      "        },\n",
      "        {\n",
      "            \"image\": \"./imagesTr/pancreas_149.nii.gz\",\n",
      "            \"label\": \"./labelsTr/pancreas_149.nii.gz\"\n",
      "        },\n",
      "        {\n",
      "            \"image\": \"./imagesTr/pancreas_157.nii.gz\",\n",
      "            \"label\": \"./labelsTr/pancreas_157.nii.gz\"\n",
      "        },\n",
      "        {\n",
      "            \"image\": \"./imagesTr/pancreas_071.nii.gz\",\n",
      "            \"label\": \"./labelsTr/pancreas_071.nii.gz\"\n",
      "        },\n",
      "        {\n",
      "            \"image\": \"./imagesTr/pancreas_012.nii.gz\",\n",
      "            \"label\": \"./labelsTr/pancreas_012.nii.gz\"\n",
      "        },\n",
      "        {\n",
      "            \"image\": \"./imagesTr/pancreas_100.nii.gz\",\n",
      "            \"label\": \"./labelsTr/pancreas_100.nii.gz\"\n",
      "        },\n",
      "        {\n",
      "            \"image\": \"./imagesTr/pancreas_028.nii.gz\",\n",
      "            \"label\": \"./labelsTr/pancreas_028.nii.gz\"\n",
      "        },\n",
      "        {\n",
      "            \"image\": \"./imagesTr/pancreas_055.nii.gz\",\n",
      "            \"label\": \"./labelsTr/pancreas_055.nii.gz\"\n",
      "        },\n",
      "        {\n",
      "            \"image\": \"./imagesTr/pancreas_155.nii.gz\",\n",
      "            \"label\": \"./labelsTr/pancreas_155.nii.gz\"\n",
      "        },\n",
      "        {\n",
      "            \"image\": \"./imagesTr/pancreas_147.nii.gz\",\n",
      "            \"label\": \"./labelsTr/pancreas_147.nii.gz\"\n",
      "        },\n",
      "        {\n",
      "            \"image\": \"./imagesTr/pancreas_393.nii.gz\",\n",
      "            \"label\": \"./labelsTr/pancreas_393.nii.gz\"\n",
      "        },\n",
      "        {\n",
      "            \"image\": \"./imagesTr/pancreas_124.nii.gz\",\n",
      "            \"label\": \"./labelsTr/pancreas_124.nii.gz\"\n",
      "        },\n",
      "        {\n",
      "            \"image\": \"./imagesTr/pancreas_293.nii.gz\",\n",
      "            \"label\": \"./labelsTr/pancreas_293.nii.gz\"\n",
      "        },\n",
      "        {\n",
      "            \"image\": \"./imagesTr/pancreas_024.nii.gz\",\n",
      "            \"label\": \"./labelsTr/pancreas_024.nii.gz\"\n",
      "        },\n",
      "        {\n",
      "            \"image\": \"./imagesTr/pancreas_159.nii.gz\",\n",
      "            \"label\": \"./labelsTr/pancreas_159.nii.gz\"\n",
      "        },\n",
      "        {\n",
      "            \"image\": \"./imagesTr/pancreas_339.nii.gz\",\n",
      "            \"label\": \"./labelsTr/pancreas_339.nii.gz\"\n",
      "        },\n",
      "        {\n",
      "            \"image\": \"./imagesTr/pancreas_239.nii.gz\",\n",
      "            \"label\": \"./labelsTr/pancreas_239.nii.gz\"\n",
      "        },\n",
      "        {\n",
      "            \"image\": \"./imagesTr/pancreas_415.nii.gz\",\n",
      "            \"label\": \"./labelsTr/pancreas_415.nii.gz\"\n",
      "        },\n",
      "        {\n",
      "            \"image\": \"./imagesTr/pancreas_344.nii.gz\",\n",
      "            \"label\": \"./labelsTr/pancreas_344.nii.gz\"\n",
      "        },\n",
      "        {\n",
      "            \"image\": \"./imagesTr/pancreas_244.nii.gz\",\n",
      "            \"label\": \"./labelsTr/pancreas_244.nii.gz\"\n",
      "        },\n",
      "        {\n",
      "            \"image\": \"./imagesTr/pancreas_327.nii.gz\",\n",
      "            \"label\": \"./labelsTr/pancreas_327.nii.gz\"\n",
      "        },\n",
      "        {\n",
      "            \"image\": \"./imagesTr/pancreas_227.nii.gz\",\n",
      "            \"label\": \"./labelsTr/pancreas_227.nii.gz\"\n",
      "        },\n",
      "        {\n",
      "            \"image\": \"./imagesTr/pancreas_256.nii.gz\",\n",
      "            \"label\": \"./labelsTr/pancreas_256.nii.gz\"\n",
      "        },\n",
      "        {\n",
      "            \"image\": \"./imagesTr/pancreas_356.nii.gz\",\n",
      "            \"label\": \"./labelsTr/pancreas_356.nii.gz\"\n",
      "        },\n",
      "        {\n",
      "            \"image\": \"./imagesTr/pancreas_235.nii.gz\",\n",
      "            \"label\": \"./labelsTr/pancreas_235.nii.gz\"\n",
      "        },\n",
      "        {\n",
      "            \"image\": \"./imagesTr/pancreas_182.nii.gz\",\n",
      "            \"label\": \"./labelsTr/pancreas_182.nii.gz\"\n",
      "        },\n",
      "        {\n",
      "            \"image\": \"./imagesTr/pancreas_348.nii.gz\",\n",
      "            \"label\": \"./labelsTr/pancreas_348.nii.gz\"\n",
      "        },\n",
      "        {\n",
      "            \"image\": \"./imagesTr/pancreas_419.nii.gz\",\n",
      "            \"label\": \"./labelsTr/pancreas_419.nii.gz\"\n",
      "        },\n",
      "        {\n",
      "            \"image\": \"./imagesTr/pancreas_360.nii.gz\",\n",
      "            \"label\": \"./labelsTr/pancreas_360.nii.gz\"\n",
      "        },\n",
      "        {\n",
      "            \"image\": \"./imagesTr/pancreas_203.nii.gz\",\n",
      "            \"label\": \"./labelsTr/pancreas_203.nii.gz\"\n",
      "        },\n",
      "        {\n",
      "            \"image\": \"./imagesTr/pancreas_303.nii.gz\",\n",
      "            \"label\": \"./labelsTr/pancreas_303.nii.gz\"\n",
      "        },\n",
      "        {\n",
      "            \"image\": \"./imagesTr/pancreas_372.nii.gz\",\n",
      "            \"label\": \"./labelsTr/pancreas_372.nii.gz\"\n",
      "        },\n",
      "        {\n",
      "            \"image\": \"./imagesTr/pancreas_311.nii.gz\",\n",
      "            \"label\": \"./labelsTr/pancreas_311.nii.gz\"\n",
      "        },\n",
      "        {\n",
      "            \"image\": \"./imagesTr/pancreas_211.nii.gz\",\n",
      "            \"label\": \"./labelsTr/pancreas_211.nii.gz\"\n",
      "        },\n",
      "        {\n",
      "            \"image\": \"./imagesTr/pancreas_043.nii.gz\",\n",
      "            \"label\": \"./labelsTr/pancreas_043.nii.gz\"\n",
      "        },\n",
      "        {\n",
      "            \"image\": \"./imagesTr/pancreas_389.nii.gz\",\n",
      "            \"label\": \"./labelsTr/pancreas_389.nii.gz\"\n",
      "        },\n",
      "        {\n",
      "            \"image\": \"./imagesTr/pancreas_289.nii.gz\",\n",
      "            \"label\": \"./labelsTr/pancreas_289.nii.gz\"\n",
      "        },\n",
      "        {\n",
      "            \"image\": \"./imagesTr/pancreas_120.nii.gz\",\n",
      "            \"label\": \"./labelsTr/pancreas_120.nii.gz\"\n",
      "        },\n",
      "        {\n",
      "            \"image\": \"./imagesTr/pancreas_297.nii.gz\",\n",
      "            \"label\": \"./labelsTr/pancreas_297.nii.gz\"\n",
      "        },\n",
      "        {\n",
      "            \"image\": \"./imagesTr/pancreas_051.nii.gz\",\n",
      "            \"label\": \"./labelsTr/pancreas_051.nii.gz\"\n",
      "        },\n",
      "        {\n",
      "            \"image\": \"./imagesTr/pancreas_032.nii.gz\",\n",
      "            \"label\": \"./labelsTr/pancreas_032.nii.gz\"\n",
      "        },\n",
      "        {\n",
      "            \"image\": \"./imagesTr/pancreas_285.nii.gz\",\n",
      "            \"label\": \"./labelsTr/pancreas_285.nii.gz\"\n",
      "        },\n",
      "        {\n",
      "            \"image\": \"./imagesTr/pancreas_385.nii.gz\",\n",
      "            \"label\": \"./labelsTr/pancreas_385.nii.gz\"\n",
      "        },\n",
      "        {\n",
      "            \"image\": \"./imagesTr/pancreas_067.nii.gz\",\n",
      "            \"label\": \"./labelsTr/pancreas_067.nii.gz\"\n",
      "        },\n",
      "        {\n",
      "            \"image\": \"./imagesTr/pancreas_167.nii.gz\",\n",
      "            \"label\": \"./labelsTr/pancreas_167.nii.gz\"\n",
      "        },\n",
      "        {\n",
      "            \"image\": \"./imagesTr/pancreas_179.nii.gz\",\n",
      "            \"label\": \"./labelsTr/pancreas_179.nii.gz\"\n",
      "        },\n",
      "        {\n",
      "            \"image\": \"./imagesTr/pancreas_004.nii.gz\",\n",
      "            \"label\": \"./labelsTr/pancreas_004.nii.gz\"\n",
      "        },\n",
      "        {\n",
      "            \"image\": \"./imagesTr/pancreas_104.nii.gz\",\n",
      "            \"label\": \"./labelsTr/pancreas_104.nii.gz\"\n",
      "        },\n",
      "        {\n",
      "            \"image\": \"./imagesTr/pancreas_175.nii.gz\",\n",
      "            \"label\": \"./labelsTr/pancreas_175.nii.gz\"\n",
      "        },\n",
      "        {\n",
      "            \"image\": \"./imagesTr/pancreas_075.nii.gz\",\n",
      "            \"label\": \"./labelsTr/pancreas_075.nii.gz\"\n",
      "        },\n",
      "        {\n",
      "            \"image\": \"./imagesTr/pancreas_016.nii.gz\",\n",
      "            \"label\": \"./labelsTr/pancreas_016.nii.gz\"\n",
      "        },\n",
      "        {\n",
      "            \"image\": \"./imagesTr/pancreas_376.nii.gz\",\n",
      "            \"label\": \"./labelsTr/pancreas_376.nii.gz\"\n",
      "        },\n",
      "        {\n",
      "            \"image\": \"./imagesTr/pancreas_276.nii.gz\",\n",
      "            \"label\": \"./labelsTr/pancreas_276.nii.gz\"\n",
      "        },\n",
      "        {\n",
      "            \"image\": \"./imagesTr/pancreas_268.nii.gz\",\n",
      "            \"label\": \"./labelsTr/pancreas_268.nii.gz\"\n",
      "        },\n",
      "        {\n",
      "            \"image\": \"./imagesTr/pancreas_315.nii.gz\",\n",
      "            \"label\": \"./labelsTr/pancreas_315.nii.gz\"\n",
      "        },\n",
      "        {\n",
      "            \"image\": \"./imagesTr/pancreas_215.nii.gz\",\n",
      "            \"label\": \"./labelsTr/pancreas_215.nii.gz\"\n",
      "        },\n",
      "        {\n",
      "            \"image\": \"./imagesTr/pancreas_264.nii.gz\",\n",
      "            \"label\": \"./labelsTr/pancreas_264.nii.gz\"\n",
      "        },\n",
      "        {\n",
      "            \"image\": \"./imagesTr/pancreas_364.nii.gz\",\n",
      "            \"label\": \"./labelsTr/pancreas_364.nii.gz\"\n",
      "        },\n",
      "        {\n",
      "            \"image\": \"./imagesTr/pancreas_219.nii.gz\",\n",
      "            \"label\": \"./labelsTr/pancreas_219.nii.gz\"\n",
      "        },\n",
      "        {\n",
      "            \"image\": \"./imagesTr/pancreas_207.nii.gz\",\n",
      "            \"label\": \"./labelsTr/pancreas_207.nii.gz\"\n",
      "        },\n",
      "        {\n",
      "            \"image\": \"./imagesTr/pancreas_098.nii.gz\",\n",
      "            \"label\": \"./labelsTr/pancreas_098.nii.gz\"\n",
      "        },\n",
      "        {\n",
      "            \"image\": \"./imagesTr/pancreas_198.nii.gz\",\n",
      "            \"label\": \"./labelsTr/pancreas_198.nii.gz\"\n",
      "        },\n",
      "        {\n",
      "            \"image\": \"./imagesTr/pancreas_086.nii.gz\",\n",
      "            \"label\": \"./labelsTr/pancreas_086.nii.gz\"\n",
      "        },\n",
      "        {\n",
      "            \"image\": \"./imagesTr/pancreas_231.nii.gz\",\n",
      "            \"label\": \"./labelsTr/pancreas_231.nii.gz\"\n",
      "        },\n",
      "        {\n",
      "            \"image\": \"./imagesTr/pancreas_186.nii.gz\",\n",
      "            \"label\": \"./labelsTr/pancreas_186.nii.gz\"\n",
      "        },\n",
      "        {\n",
      "            \"image\": \"./imagesTr/pancreas_331.nii.gz\",\n",
      "            \"label\": \"./labelsTr/pancreas_331.nii.gz\"\n",
      "        },\n",
      "        {\n",
      "            \"image\": \"./imagesTr/pancreas_411.nii.gz\",\n",
      "            \"label\": \"./labelsTr/pancreas_411.nii.gz\"\n",
      "        },\n",
      "        {\n",
      "            \"image\": \"./imagesTr/pancreas_323.nii.gz\",\n",
      "            \"label\": \"./labelsTr/pancreas_323.nii.gz\"\n",
      "        },\n",
      "        {\n",
      "            \"image\": \"./imagesTr/pancreas_194.nii.gz\",\n",
      "            \"label\": \"./labelsTr/pancreas_194.nii.gz\"\n",
      "        },\n",
      "        {\n",
      "            \"image\": \"./imagesTr/pancreas_094.nii.gz\",\n",
      "            \"label\": \"./labelsTr/pancreas_094.nii.gz\"\n",
      "        },\n",
      "        {\n",
      "            \"image\": \"./imagesTr/pancreas_278.nii.gz\",\n",
      "            \"label\": \"./labelsTr/pancreas_278.nii.gz\"\n",
      "        },\n",
      "        {\n",
      "            \"image\": \"./imagesTr/pancreas_378.nii.gz\",\n",
      "            \"label\": \"./labelsTr/pancreas_378.nii.gz\"\n",
      "        },\n",
      "        {\n",
      "            \"image\": \"./imagesTr/pancreas_305.nii.gz\",\n",
      "            \"label\": \"./labelsTr/pancreas_305.nii.gz\"\n",
      "        },\n",
      "        {\n",
      "            \"image\": \"./imagesTr/pancreas_266.nii.gz\",\n",
      "            \"label\": \"./labelsTr/pancreas_266.nii.gz\"\n",
      "        },\n",
      "        {\n",
      "            \"image\": \"./imagesTr/pancreas_366.nii.gz\",\n",
      "            \"label\": \"./labelsTr/pancreas_366.nii.gz\"\n",
      "        },\n",
      "        {\n",
      "            \"image\": \"./imagesTr/pancreas_217.nii.gz\",\n",
      "            \"label\": \"./labelsTr/pancreas_217.nii.gz\"\n",
      "        },\n",
      "        {\n",
      "            \"image\": \"./imagesTr/pancreas_374.nii.gz\",\n",
      "            \"label\": \"./labelsTr/pancreas_374.nii.gz\"\n",
      "        },\n",
      "        {\n",
      "            \"image\": \"./imagesTr/pancreas_274.nii.gz\",\n",
      "            \"label\": \"./labelsTr/pancreas_274.nii.gz\"\n",
      "        },\n",
      "        {\n",
      "            \"image\": \"./imagesTr/pancreas_309.nii.gz\",\n",
      "            \"label\": \"./labelsTr/pancreas_309.nii.gz\"\n",
      "        },\n",
      "        {\n",
      "            \"image\": \"./imagesTr/pancreas_209.nii.gz\",\n",
      "            \"label\": \"./labelsTr/pancreas_209.nii.gz\"\n",
      "        },\n",
      "        {\n",
      "            \"image\": \"./imagesTr/pancreas_321.nii.gz\",\n",
      "            \"label\": \"./labelsTr/pancreas_321.nii.gz\"\n",
      "        },\n",
      "        {\n",
      "            \"image\": \"./imagesTr/pancreas_196.nii.gz\",\n",
      "            \"label\": \"./labelsTr/pancreas_196.nii.gz\"\n",
      "        },\n",
      "        {\n",
      "            \"image\": \"./imagesTr/pancreas_096.nii.gz\",\n",
      "            \"label\": \"./labelsTr/pancreas_096.nii.gz\"\n",
      "        },\n",
      "        {\n",
      "            \"image\": \"./imagesTr/pancreas_342.nii.gz\",\n",
      "            \"label\": \"./labelsTr/pancreas_342.nii.gz\"\n",
      "        },\n",
      "        {\n",
      "            \"image\": \"./imagesTr/pancreas_413.nii.gz\",\n",
      "            \"label\": \"./labelsTr/pancreas_413.nii.gz\"\n",
      "        },\n",
      "        {\n",
      "            \"image\": \"./imagesTr/pancreas_242.nii.gz\",\n",
      "            \"label\": \"./labelsTr/pancreas_242.nii.gz\"\n",
      "        },\n",
      "        {\n",
      "            \"image\": \"./imagesTr/pancreas_088.nii.gz\",\n",
      "            \"label\": \"./labelsTr/pancreas_088.nii.gz\"\n",
      "        },\n",
      "        {\n",
      "            \"image\": \"./imagesTr/pancreas_084.nii.gz\",\n",
      "            \"label\": \"./labelsTr/pancreas_084.nii.gz\"\n",
      "        },\n",
      "        {\n",
      "            \"image\": \"./imagesTr/pancreas_333.nii.gz\",\n",
      "            \"label\": \"./labelsTr/pancreas_333.nii.gz\"\n",
      "        },\n",
      "        {\n",
      "            \"image\": \"./imagesTr/pancreas_401.nii.gz\",\n",
      "            \"label\": \"./labelsTr/pancreas_401.nii.gz\"\n",
      "        },\n",
      "        {\n",
      "            \"image\": \"./imagesTr/pancreas_350.nii.gz\",\n",
      "            \"label\": \"./labelsTr/pancreas_350.nii.gz\"\n",
      "        },\n",
      "        {\n",
      "            \"image\": \"./imagesTr/pancreas_287.nii.gz\",\n",
      "            \"label\": \"./labelsTr/pancreas_287.nii.gz\"\n",
      "        },\n",
      "        {\n",
      "            \"image\": \"./imagesTr/pancreas_130.nii.gz\",\n",
      "            \"label\": \"./labelsTr/pancreas_130.nii.gz\"\n",
      "        },\n",
      "        {\n",
      "            \"image\": \"./imagesTr/pancreas_387.nii.gz\",\n",
      "            \"label\": \"./labelsTr/pancreas_387.nii.gz\"\n",
      "        },\n",
      "        {\n",
      "            \"image\": \"./imagesTr/pancreas_299.nii.gz\",\n",
      "            \"label\": \"./labelsTr/pancreas_299.nii.gz\"\n",
      "        },\n",
      "        {\n",
      "            \"image\": \"./imagesTr/pancreas_399.nii.gz\",\n",
      "            \"label\": \"./labelsTr/pancreas_399.nii.gz\"\n",
      "        },\n",
      "        {\n",
      "            \"image\": \"./imagesTr/pancreas_395.nii.gz\",\n",
      "            \"label\": \"./labelsTr/pancreas_395.nii.gz\"\n",
      "        },\n",
      "        {\n",
      "            \"image\": \"./imagesTr/pancreas_122.nii.gz\",\n",
      "            \"label\": \"./labelsTr/pancreas_122.nii.gz\"\n",
      "        },\n",
      "        {\n",
      "            \"image\": \"./imagesTr/pancreas_295.nii.gz\",\n",
      "            \"label\": \"./labelsTr/pancreas_295.nii.gz\"\n",
      "        },\n",
      "        {\n",
      "            \"image\": \"./imagesTr/pancreas_041.nii.gz\",\n",
      "            \"label\": \"./labelsTr/pancreas_041.nii.gz\"\n",
      "        },\n",
      "        {\n",
      "            \"image\": \"./imagesTr/pancreas_169.nii.gz\",\n",
      "            \"label\": \"./labelsTr/pancreas_169.nii.gz\"\n",
      "        },\n",
      "        {\n",
      "            \"image\": \"./imagesTr/pancreas_069.nii.gz\",\n",
      "            \"label\": \"./labelsTr/pancreas_069.nii.gz\"\n",
      "        },\n",
      "        {\n",
      "            \"image\": \"./imagesTr/pancreas_114.nii.gz\",\n",
      "            \"label\": \"./labelsTr/pancreas_114.nii.gz\"\n",
      "        },\n",
      "        {\n",
      "            \"image\": \"./imagesTr/pancreas_077.nii.gz\",\n",
      "            \"label\": \"./labelsTr/pancreas_077.nii.gz\"\n",
      "        },\n",
      "        {\n",
      "            \"image\": \"./imagesTr/pancreas_006.nii.gz\",\n",
      "            \"label\": \"./labelsTr/pancreas_006.nii.gz\"\n",
      "        },\n",
      "        {\n",
      "            \"image\": \"./imagesTr/pancreas_106.nii.gz\",\n",
      "            \"label\": \"./labelsTr/pancreas_106.nii.gz\"\n",
      "        },\n",
      "        {\n",
      "            \"image\": \"./imagesTr/pancreas_165.nii.gz\",\n",
      "            \"label\": \"./labelsTr/pancreas_165.nii.gz\"\n",
      "        },\n",
      "        {\n",
      "            \"image\": \"./imagesTr/pancreas_018.nii.gz\",\n",
      "            \"label\": \"./labelsTr/pancreas_018.nii.gz\"\n",
      "        }\n",
      "    ],\n",
      "    \"test\": [\n",
      "        \"./imagesTs/pancreas_044.nii.gz\",\n",
      "        \"./imagesTs/pancreas_144.nii.gz\",\n",
      "        \"./imagesTs/pancreas_039.nii.gz\",\n",
      "        \"./imagesTs/pancreas_139.nii.gz\",\n",
      "        \"./imagesTs/pancreas_027.nii.gz\",\n",
      "        \"./imagesTs/pancreas_390.nii.gz\",\n",
      "        \"./imagesTs/pancreas_156.nii.gz\",\n",
      "        \"./imagesTs/pancreas_282.nii.gz\",\n",
      "        \"./imagesTs/pancreas_060.nii.gz\",\n",
      "        \"./imagesTs/pancreas_003.nii.gz\",\n",
      "        \"./imagesTs/pancreas_072.nii.gz\",\n",
      "        \"./imagesTs/pancreas_271.nii.gz\",\n",
      "        \"./imagesTs/pancreas_371.nii.gz\",\n",
      "        \"./imagesTs/pancreas_420.nii.gz\",\n",
      "        \"./imagesTs/pancreas_363.nii.gz\",\n",
      "        \"./imagesTs/pancreas_263.nii.gz\",\n",
      "        \"./imagesTs/pancreas_408.nii.gz\",\n",
      "        \"./imagesTs/pancreas_359.nii.gz\",\n",
      "        \"./imagesTs/pancreas_324.nii.gz\",\n",
      "        \"./imagesTs/pancreas_202.nii.gz\",\n",
      "        \"./imagesTs/pancreas_273.nii.gz\",\n",
      "        \"./imagesTs/pancreas_373.nii.gz\",\n",
      "        \"./imagesTs/pancreas_245.nii.gz\",\n",
      "        \"./imagesTs/pancreas_238.nii.gz\",\n",
      "        \"./imagesTs/pancreas_338.nii.gz\",\n",
      "        \"./imagesTs/pancreas_349.nii.gz\",\n",
      "        \"./imagesTs/pancreas_257.nii.gz\",\n",
      "        \"./imagesTs/pancreas_154.nii.gz\",\n",
      "        \"./imagesTs/pancreas_054.nii.gz\",\n",
      "        \"./imagesTs/pancreas_146.nii.gz\",\n",
      "        \"./imagesTs/pancreas_013.nii.gz\",\n",
      "        \"./imagesTs/pancreas_162.nii.gz\",\n",
      "        \"./imagesTs/pancreas_062.nii.gz\",\n",
      "        \"./imagesTs/pancreas_353.nii.gz\",\n",
      "        \"./imagesTs/pancreas_322.nii.gz\",\n",
      "        \"./imagesTs/pancreas_195.nii.gz\",\n",
      "        \"./imagesTs/pancreas_341.nii.gz\",\n",
      "        \"./imagesTs/pancreas_314.nii.gz\",\n",
      "        \"./imagesTs/pancreas_306.nii.gz\",\n",
      "        \"./imagesTs/pancreas_206.nii.gz\",\n",
      "        \"./imagesTs/pancreas_017.nii.gz\",\n",
      "        \"./imagesTs/pancreas_009.nii.gz\",\n",
      "        \"./imagesTs/pancreas_174.nii.gz\",\n",
      "        \"./imagesTs/pancreas_396.nii.gz\",\n",
      "        \"./imagesTs/pancreas_121.nii.gz\",\n",
      "        \"./imagesTs/pancreas_288.nii.gz\",\n",
      "        \"./imagesTs/pancreas_142.nii.gz\",\n",
      "        \"./imagesTs/pancreas_133.nii.gz\",\n",
      "        \"./imagesTs/pancreas_384.nii.gz\",\n",
      "        \"./imagesTs/pancreas_033.nii.gz\",\n",
      "        \"./imagesTs/pancreas_150.nii.gz\",\n",
      "        \"./imagesTs/pancreas_076.nii.gz\",\n",
      "        \"./imagesTs/pancreas_176.nii.gz\",\n",
      "        \"./imagesTs/pancreas_115.nii.gz\",\n",
      "        \"./imagesTs/pancreas_068.nii.gz\",\n",
      "        \"./imagesTs/pancreas_168.nii.gz\",\n",
      "        \"./imagesTs/pancreas_164.nii.gz\",\n",
      "        \"./imagesTs/pancreas_007.nii.gz\",\n",
      "        \"./imagesTs/pancreas_152.nii.gz\",\n",
      "        \"./imagesTs/pancreas_031.nii.gz\",\n",
      "        \"./imagesTs/pancreas_023.nii.gz\",\n",
      "        \"./imagesTs/pancreas_394.nii.gz\",\n",
      "        \"./imagesTs/pancreas_123.nii.gz\",\n",
      "        \"./imagesTs/pancreas_189.nii.gz\",\n",
      "        \"./imagesTs/pancreas_220.nii.gz\",\n",
      "        \"./imagesTs/pancreas_097.nii.gz\",\n",
      "        \"./imagesTs/pancreas_251.nii.gz\",\n",
      "        \"./imagesTs/pancreas_185.nii.gz\",\n",
      "        \"./imagesTs/pancreas_332.nii.gz\",\n",
      "        \"./imagesTs/pancreas_085.nii.gz\",\n",
      "        \"./imagesTs/pancreas_232.nii.gz\",\n",
      "        \"./imagesTs/pancreas_208.nii.gz\",\n",
      "        \"./imagesTs/pancreas_216.nii.gz\",\n",
      "        \"./imagesTs/pancreas_237.nii.gz\",\n",
      "        \"./imagesTs/pancreas_337.nii.gz\",\n",
      "        \"./imagesTs/pancreas_192.nii.gz\",\n",
      "        \"./imagesTs/pancreas_417.nii.gz\",\n",
      "        \"./imagesTs/pancreas_002.nii.gz\",\n",
      "        \"./imagesTs/pancreas_161.nii.gz\",\n",
      "        \"./imagesTs/pancreas_073.nii.gz\",\n",
      "        \"./imagesTs/pancreas_026.nii.gz\",\n",
      "        \"./imagesTs/pancreas_038.nii.gz\",\n",
      "        \"./imagesTs/pancreas_034.nii.gz\",\n",
      "        \"./imagesTs/pancreas_134.nii.gz\",\n",
      "        \"./imagesTs/pancreas_383.nii.gz\",\n",
      "        \"./imagesTs/pancreas_057.nii.gz\",\n",
      "        \"./imagesTs/pancreas_171.nii.gz\",\n",
      "        \"./imagesTs/pancreas_112.nii.gz\",\n",
      "        \"./imagesTs/pancreas_063.nii.gz\",\n",
      "        \"./imagesTs/pancreas_163.nii.gz\",\n",
      "        \"./imagesTs/pancreas_128.nii.gz\",\n",
      "        \"./imagesTs/pancreas_036.nii.gz\",\n",
      "        \"./imagesTs/pancreas_281.nii.gz\",\n",
      "        \"./imagesTs/pancreas_136.nii.gz\",\n",
      "        \"./imagesTs/pancreas_381.nii.gz\",\n",
      "        \"./imagesTs/pancreas_047.nii.gz\",\n",
      "        \"./imagesTs/pancreas_059.nii.gz\",\n",
      "        \"./imagesTs/pancreas_190.nii.gz\",\n",
      "        \"./imagesTs/pancreas_090.nii.gz\",\n",
      "        \"./imagesTs/pancreas_407.nii.gz\",\n",
      "        \"./imagesTs/pancreas_082.nii.gz\",\n",
      "        \"./imagesTs/pancreas_335.nii.gz\",\n",
      "        \"./imagesTs/pancreas_248.nii.gz\",\n",
      "        \"./imagesTs/pancreas_260.nii.gz\",\n",
      "        \"./imagesTs/pancreas_272.nii.gz\",\n",
      "        \"./imagesTs/pancreas_143.nii.gz\",\n",
      "        \"./imagesTs/pancreas_397.nii.gz\",\n",
      "        \"./imagesTs/pancreas_020.nii.gz\",\n",
      "        \"./imagesTs/pancreas_151.nii.gz\",\n",
      "        \"./imagesTs/pancreas_132.nii.gz\",\n",
      "        \"./imagesTs/pancreas_079.nii.gz\",\n",
      "        \"./imagesTs/pancreas_108.nii.gz\",\n",
      "        \"./imagesTs/pancreas_008.nii.gz\",\n",
      "        \"./imagesTs/pancreas_116.nii.gz\",\n",
      "        \"./imagesTs/pancreas_368.nii.gz\",\n",
      "        \"./imagesTs/pancreas_319.nii.gz\",\n",
      "        \"./imagesTs/pancreas_307.nii.gz\",\n",
      "        \"./imagesTs/pancreas_252.nii.gz\",\n",
      "        \"./imagesTs/pancreas_403.nii.gz\",\n",
      "        \"./imagesTs/pancreas_352.nii.gz\",\n",
      "        \"./imagesTs/pancreas_340.nii.gz\",\n",
      "        \"./imagesTs/pancreas_240.nii.gz\",\n",
      "        \"./imagesTs/pancreas_223.nii.gz\",\n",
      "        \"./imagesTs/pancreas_205.nii.gz\",\n",
      "        \"./imagesTs/pancreas_317.nii.gz\",\n",
      "        \"./imagesTs/pancreas_221.nii.gz\",\n",
      "        \"./imagesTs/pancreas_188.nii.gz\",\n",
      "        \"./imagesTs/pancreas_233.nii.gz\",\n",
      "        \"./imagesTs/pancreas_184.nii.gz\",\n",
      "        \"./imagesTs/pancreas_250.nii.gz\",\n",
      "        \"./imagesTs/pancreas_030.nii.gz\",\n",
      "        \"./imagesTs/pancreas_053.nii.gz\",\n",
      "        \"./imagesTs/pancreas_153.nii.gz\",\n",
      "        \"./imagesTs/pancreas_022.nii.gz\",\n",
      "        \"./imagesTs/pancreas_141.nii.gz\",\n",
      "        \"./imagesTs/pancreas_014.nii.gz\",\n",
      "        \"./imagesTs/pancreas_177.nii.gz\",\n",
      "        \"./imagesTs/pancreas_065.nii.gz\",\n",
      "        \"./imagesTs/pancreas_118.nii.gz\"\n",
      "    ]\n",
      "}\n"
     ]
    }
   ],
   "source": [
    "print(json.dumps(data_description, indent=4))"
   ]
  },
  {
   "cell_type": "markdown",
   "id": "revised-calgary",
   "metadata": {},
   "source": [
    "### Reading and visualizing pancreas_001 nifti CT and mask files"
   ]
  },
  {
   "cell_type": "markdown",
   "id": "thirty-seattle",
   "metadata": {},
   "source": [
    "#### CT file"
   ]
  },
  {
   "cell_type": "code",
   "execution_count": 4,
   "id": "choice-softball",
   "metadata": {},
   "outputs": [],
   "source": [
    "ct_1 = nib.load(\"../../datasets/Task07_Pancreas/train/images/pancreas_001.nii.gz\")"
   ]
  },
  {
   "cell_type": "code",
   "execution_count": 5,
   "id": "received-fitting",
   "metadata": {},
   "outputs": [
    {
     "data": {
      "text/plain": [
       "nibabel.nifti1.Nifti1Image"
      ]
     },
     "execution_count": 5,
     "metadata": {},
     "output_type": "execute_result"
    }
   ],
   "source": [
    "type(ct_1)"
   ]
  },
  {
   "cell_type": "code",
   "execution_count": 6,
   "id": "personal-average",
   "metadata": {},
   "outputs": [],
   "source": [
    "# Read Nifi Image object as numpy file\n",
    "ct_1 = ct_1.get_fdata()"
   ]
  },
  {
   "cell_type": "code",
   "execution_count": 7,
   "id": "comparable-torture",
   "metadata": {},
   "outputs": [
    {
     "data": {
      "text/plain": [
       "numpy.ndarray"
      ]
     },
     "execution_count": 7,
     "metadata": {},
     "output_type": "execute_result"
    }
   ],
   "source": [
    "type(ct_1)"
   ]
  },
  {
   "cell_type": "code",
   "execution_count": 8,
   "id": "contained-occasions",
   "metadata": {},
   "outputs": [
    {
     "data": {
      "text/plain": [
       "dtype('float64')"
      ]
     },
     "execution_count": 8,
     "metadata": {},
     "output_type": "execute_result"
    }
   ],
   "source": [
    "ct_1.dtype"
   ]
  },
  {
   "cell_type": "code",
   "execution_count": 9,
   "id": "cooperative-blackjack",
   "metadata": {},
   "outputs": [
    {
     "data": {
      "text/plain": [
       "(512, 512, 110)"
      ]
     },
     "execution_count": 9,
     "metadata": {},
     "output_type": "execute_result"
    }
   ],
   "source": [
    "ct_1.shape"
   ]
  },
  {
   "cell_type": "code",
   "execution_count": 10,
   "id": "affected-disaster",
   "metadata": {},
   "outputs": [
    {
     "name": "stdout",
     "output_type": "stream",
     "text": [
      "4095.0\n"
     ]
    }
   ],
   "source": [
    "# Range of voxel values (maximum value - minimum value)\n",
    "print(ct_1[:, :, :].ptp())"
   ]
  },
  {
   "cell_type": "code",
   "execution_count": 11,
   "id": "coastal-steering",
   "metadata": {},
   "outputs": [
    {
     "data": {
      "text/plain": [
       "230686848"
      ]
     },
     "execution_count": 11,
     "metadata": {},
     "output_type": "execute_result"
    }
   ],
   "source": [
    "getsizeof(ct_1) # 230.686848 MBs"
   ]
  },
  {
   "cell_type": "code",
   "execution_count": 12,
   "id": "egyptian-citizenship",
   "metadata": {},
   "outputs": [
    {
     "data": {
      "text/plain": [
       "115343488"
      ]
     },
     "execution_count": 12,
     "metadata": {},
     "output_type": "execute_result"
    }
   ],
   "source": [
    "getsizeof(ct_1.astype(np.float32)) # 115.343488 MBs"
   ]
  },
  {
   "cell_type": "code",
   "execution_count": 13,
   "id": "advised-complexity",
   "metadata": {},
   "outputs": [
    {
     "data": {
      "text/plain": [
       "57671808"
      ]
     },
     "execution_count": 13,
     "metadata": {},
     "output_type": "execute_result"
    }
   ],
   "source": [
    "getsizeof(ct_1.astype(np.float16)) # 57.671808 MBs"
   ]
  },
  {
   "cell_type": "markdown",
   "id": "shared-weight",
   "metadata": {
    "tags": []
   },
   "source": [
    "#### Mask file"
   ]
  },
  {
   "cell_type": "code",
   "execution_count": 14,
   "id": "paperback-times",
   "metadata": {},
   "outputs": [],
   "source": [
    "ct_1_mask = nib.load(\"../../datasets/Task07_Pancreas/train/masks/pancreas_001.nii.gz\")"
   ]
  },
  {
   "cell_type": "code",
   "execution_count": 15,
   "id": "every-advertising",
   "metadata": {},
   "outputs": [],
   "source": [
    "ct_1_mask = ct_1_mask.get_fdata()"
   ]
  },
  {
   "cell_type": "code",
   "execution_count": 16,
   "id": "blank-protocol",
   "metadata": {},
   "outputs": [
    {
     "data": {
      "text/plain": [
       "dtype('float64')"
      ]
     },
     "execution_count": 16,
     "metadata": {},
     "output_type": "execute_result"
    }
   ],
   "source": [
    "ct_1_mask.dtype"
   ]
  },
  {
   "cell_type": "code",
   "execution_count": 17,
   "id": "257aa48b-b1ff-4545-9d4f-0c6057858e46",
   "metadata": {},
   "outputs": [
    {
     "data": {
      "text/plain": [
       "array([0., 1., 2.])"
      ]
     },
     "execution_count": 17,
     "metadata": {},
     "output_type": "execute_result"
    }
   ],
   "source": [
    "np.unique(ct_1_mask)"
   ]
  },
  {
   "cell_type": "code",
   "execution_count": 18,
   "id": "mathematical-hygiene",
   "metadata": {},
   "outputs": [
    {
     "data": {
      "text/plain": [
       "230686848"
      ]
     },
     "execution_count": 18,
     "metadata": {},
     "output_type": "execute_result"
    }
   ],
   "source": [
    "getsizeof(ct_1_mask) # 230.686848 MBs"
   ]
  },
  {
   "cell_type": "code",
   "execution_count": 19,
   "id": "mental-reynolds",
   "metadata": {
    "scrolled": true
   },
   "outputs": [
    {
     "data": {
      "text/plain": [
       "115343488"
      ]
     },
     "execution_count": 19,
     "metadata": {},
     "output_type": "execute_result"
    }
   ],
   "source": [
    "getsizeof(ct_1_mask.astype(np.float32)) # 115.343488 MBs"
   ]
  },
  {
   "cell_type": "code",
   "execution_count": 20,
   "id": "local-broadway",
   "metadata": {},
   "outputs": [
    {
     "data": {
      "text/plain": [
       "28835968"
      ]
     },
     "execution_count": 20,
     "metadata": {},
     "output_type": "execute_result"
    }
   ],
   "source": [
    "getsizeof(ct_1_mask.astype(np.uint8)) # 28.835968 MBs"
   ]
  },
  {
   "cell_type": "code",
   "execution_count": 21,
   "id": "athletic-track",
   "metadata": {},
   "outputs": [],
   "source": [
    "ct_1_mask = ct_1_mask.astype(np.float32)"
   ]
  },
  {
   "cell_type": "code",
   "execution_count": 22,
   "id": "realistic-interpretation",
   "metadata": {},
   "outputs": [
    {
     "data": {
      "text/plain": [
       "(512, 512, 110)"
      ]
     },
     "execution_count": 22,
     "metadata": {},
     "output_type": "execute_result"
    }
   ],
   "source": [
    "ct_1_mask.shape"
   ]
  },
  {
   "cell_type": "markdown",
   "id": "outer-manor",
   "metadata": {},
   "source": [
    "### Visualizing nifti CT file and Mask file"
   ]
  },
  {
   "cell_type": "code",
   "execution_count": 23,
   "id": "wrong-leader",
   "metadata": {},
   "outputs": [
    {
     "data": {
      "application/vnd.jupyter.widget-view+json": {
       "model_id": "b8939bd06c974d0b9828327c127d0a5a",
       "version_major": 2,
       "version_minor": 0
      },
      "text/plain": [
       "interactive(children=(ToggleButtons(button_style='info', description='Select Class:', options=('Background', '…"
      ]
     },
     "metadata": {},
     "output_type": "display_data"
    }
   ],
   "source": [
    "classes_dict = {\n",
    "    'Background': 0,\n",
    "    'Pancreas': 1,\n",
    "    'Cancer': 2\n",
    "}\n",
    "\n",
    "# Create button values\n",
    "select_class = ToggleButtons(\n",
    "    options=['Background', 'Pancreas', 'Cancer', 'All'],\n",
    "    description='Select Class:',\n",
    "    disabled=False,\n",
    "    button_style='info', \n",
    "    \n",
    ")\n",
    "# Create layer slider\n",
    "select_layer = IntSlider(min=0, max=ct_1.shape[2] - 1, description='Select Layer', continuous_update=False)\n",
    "\n",
    "    \n",
    "# Define a function for plotting images\n",
    "def plot(seg_class, layer):\n",
    "    print(f\"Plotting Layer: {layer} | Label: {seg_class}\")\n",
    "    fig = plt.figure(figsize=(20, 10))\n",
    "    \n",
    "    fig.add_subplot(1, 2, 1)\n",
    "    plt.imshow(ct_1[:, :, layer], cmap='gray');\n",
    "    plt.title(\"ct\", fontsize=20)\n",
    "    plt.axis('off')\n",
    "    \n",
    "    fig.add_subplot(1, 2, 2)\n",
    "    if seg_class == \"All\":\n",
    "        mask = ct_1_mask[:, :, layer]\n",
    "        plt.title(\"Mask\", fontsize=20)\n",
    "        plt.imshow(mask)\n",
    "        plt.axis('off');\n",
    "    else:\n",
    "        img_label = classes_dict[seg_class]\n",
    "        mask = np.where(ct_1_mask[:, :, layer] == img_label, 255, 0)\n",
    "        plt.title(\"Mask\", fontsize=20)\n",
    "        plt.imshow(mask, cmap='gray')\n",
    "        plt.axis('off');\n",
    "\n",
    "# Use the interactive() tool to create the visualization\n",
    "interactive(plot, seg_class=select_class, layer=select_layer)"
   ]
  },
  {
   "cell_type": "markdown",
   "id": "6838b4d6-3de8-4afd-a7aa-890228bc8fb7",
   "metadata": {},
   "source": [
    "### Reading and visualizing pancreas_004 nifti CT and mask files"
   ]
  },
  {
   "cell_type": "markdown",
   "id": "d12e9260-21cb-4c27-a885-efec9b2dd596",
   "metadata": {
    "tags": []
   },
   "source": [
    "#### CT file"
   ]
  },
  {
   "cell_type": "code",
   "execution_count": 24,
   "id": "d39102dc-171a-4b78-804a-78272522fc22",
   "metadata": {
    "tags": []
   },
   "outputs": [],
   "source": [
    "ct_2 = nib.load(\"../../datasets/Task07_Pancreas/train/images/pancreas_004.nii.gz\")"
   ]
  },
  {
   "cell_type": "code",
   "execution_count": 25,
   "id": "8a72b46d-9582-4836-8d64-27cb2ad3d36b",
   "metadata": {},
   "outputs": [
    {
     "data": {
      "text/plain": [
       "nibabel.nifti1.Nifti1Image"
      ]
     },
     "execution_count": 25,
     "metadata": {},
     "output_type": "execute_result"
    }
   ],
   "source": [
    "type(ct_2)"
   ]
  },
  {
   "cell_type": "code",
   "execution_count": 26,
   "id": "7bcbd56c-0a2c-4df8-a8a3-c2b662398fed",
   "metadata": {},
   "outputs": [],
   "source": [
    "# Read Nifi Image object as numpy file\n",
    "ct_2 = ct_2.get_fdata()"
   ]
  },
  {
   "cell_type": "code",
   "execution_count": 27,
   "id": "2213c986-fe3b-476f-bf4e-ccb4eb99313a",
   "metadata": {},
   "outputs": [
    {
     "data": {
      "text/plain": [
       "numpy.ndarray"
      ]
     },
     "execution_count": 27,
     "metadata": {},
     "output_type": "execute_result"
    }
   ],
   "source": [
    "type(ct_2)"
   ]
  },
  {
   "cell_type": "code",
   "execution_count": 28,
   "id": "d395d84d-49c2-4cd0-8d5e-246a73e9d355",
   "metadata": {},
   "outputs": [
    {
     "data": {
      "text/plain": [
       "dtype('float64')"
      ]
     },
     "execution_count": 28,
     "metadata": {},
     "output_type": "execute_result"
    }
   ],
   "source": [
    "ct_2.dtype"
   ]
  },
  {
   "cell_type": "code",
   "execution_count": 29,
   "id": "8995fbb8-e085-45c3-9e5e-65eb0f960842",
   "metadata": {},
   "outputs": [
    {
     "data": {
      "text/plain": [
       "(512, 512, 107)"
      ]
     },
     "execution_count": 29,
     "metadata": {},
     "output_type": "execute_result"
    }
   ],
   "source": [
    "ct_2.shape"
   ]
  },
  {
   "cell_type": "code",
   "execution_count": 30,
   "id": "8dac3499-39c5-4047-8a00-8a6b882fa093",
   "metadata": {},
   "outputs": [
    {
     "name": "stdout",
     "output_type": "stream",
     "text": [
      "3950.0\n"
     ]
    }
   ],
   "source": [
    "# Range of voxel values (maximum value - minimum value)\n",
    "print(ct_2[:, :, :].ptp())"
   ]
  },
  {
   "cell_type": "markdown",
   "id": "9e30e0d5-cedd-4bc0-8635-3c11d9b4f1a3",
   "metadata": {
    "tags": []
   },
   "source": [
    "#### Mask file"
   ]
  },
  {
   "cell_type": "code",
   "execution_count": 31,
   "id": "8f457ee2-2617-49d9-89d6-dc54d4fe435c",
   "metadata": {},
   "outputs": [],
   "source": [
    "ct_2_mask = nib.load(\"../../datasets/Task07_Pancreas/train/masks/pancreas_004.nii.gz\")"
   ]
  },
  {
   "cell_type": "code",
   "execution_count": 32,
   "id": "b75545ea-d221-4810-be1d-c618e9597797",
   "metadata": {},
   "outputs": [],
   "source": [
    "ct_2_mask = ct_2_mask.get_fdata()"
   ]
  },
  {
   "cell_type": "code",
   "execution_count": 33,
   "id": "ee833b82-0a81-405d-9497-ddb016ddcb82",
   "metadata": {},
   "outputs": [
    {
     "data": {
      "text/plain": [
       "dtype('float64')"
      ]
     },
     "execution_count": 33,
     "metadata": {},
     "output_type": "execute_result"
    }
   ],
   "source": [
    "ct_2_mask.dtype"
   ]
  },
  {
   "cell_type": "code",
   "execution_count": 34,
   "id": "1307865f-c2dd-49d0-beda-aae51b1e62bf",
   "metadata": {},
   "outputs": [
    {
     "data": {
      "text/plain": [
       "array([0., 1., 2.])"
      ]
     },
     "execution_count": 34,
     "metadata": {},
     "output_type": "execute_result"
    }
   ],
   "source": [
    "np.unique(ct_2_mask)"
   ]
  },
  {
   "cell_type": "code",
   "execution_count": 35,
   "id": "b638d15e-5d57-4368-8f39-f4cc16490aad",
   "metadata": {},
   "outputs": [],
   "source": [
    "ct_2_mask = ct_2_mask.astype(np.float32)"
   ]
  },
  {
   "cell_type": "code",
   "execution_count": 36,
   "id": "047faca9-dd0d-4b65-9e49-e2acf91ab0d6",
   "metadata": {},
   "outputs": [
    {
     "data": {
      "text/plain": [
       "(512, 512, 107)"
      ]
     },
     "execution_count": 36,
     "metadata": {},
     "output_type": "execute_result"
    }
   ],
   "source": [
    "ct_2_mask.shape"
   ]
  },
  {
   "cell_type": "markdown",
   "id": "462721f6-f8a4-4aa7-9667-1e4dbbe82a46",
   "metadata": {},
   "source": [
    "### Visualizing nifti CT file and Mask file"
   ]
  },
  {
   "cell_type": "code",
   "execution_count": 37,
   "id": "01c46d95-7831-490b-9d72-a85bb125dc27",
   "metadata": {},
   "outputs": [
    {
     "data": {
      "application/vnd.jupyter.widget-view+json": {
       "model_id": "c7a662f9f5d34224a3a85880a0abface",
       "version_major": 2,
       "version_minor": 0
      },
      "text/plain": [
       "interactive(children=(ToggleButtons(button_style='info', description='Select Class:', options=('Background', '…"
      ]
     },
     "metadata": {},
     "output_type": "display_data"
    }
   ],
   "source": [
    "classes_dict = {\n",
    "    'Background': 0,\n",
    "    'Pancreas': 1,\n",
    "    'Cancer': 2\n",
    "}\n",
    "\n",
    "# Create button values\n",
    "select_class = ToggleButtons(\n",
    "    options=['Background', 'Pancreas', 'Cancer', 'All'],\n",
    "    description='Select Class:',\n",
    "    disabled=False,\n",
    "    button_style='info', \n",
    "    \n",
    ")\n",
    "# Create layer slider\n",
    "select_layer = IntSlider(min=0, max=ct_2.shape[2] - 1, description='Select Layer', continuous_update=False)\n",
    "\n",
    "    \n",
    "# Define a function for plotting images\n",
    "def plot(seg_class, layer):\n",
    "    print(f\"Plotting Layer: {layer} | Label: {seg_class}\")\n",
    "    fig = plt.figure(figsize=(20, 10))\n",
    "    \n",
    "    fig.add_subplot(1, 2, 1)\n",
    "    plt.imshow(ct_2[:, :, layer], cmap='gray');\n",
    "    plt.title(\"ct\", fontsize=20)\n",
    "    plt.axis('off')\n",
    "    \n",
    "    fig.add_subplot(1, 2, 2)\n",
    "    if seg_class == \"All\":\n",
    "        mask = ct_2_mask[:, :, layer]\n",
    "        plt.title(\"Mask\", fontsize=20)\n",
    "        plt.imshow(mask)\n",
    "        plt.axis('off');\n",
    "    else:\n",
    "        img_label = classes_dict[seg_class]\n",
    "        mask = np.where(ct_2_mask[:, :, layer] == img_label, 255, 0)\n",
    "        plt.title(\"Mask\", fontsize=20)\n",
    "        plt.imshow(mask, cmap='gray')\n",
    "        plt.axis('off');\n",
    "\n",
    "# Use the interactive() tool to create the visualization\n",
    "interactive(plot, seg_class=select_class, layer=select_layer)"
   ]
  },
  {
   "cell_type": "markdown",
   "id": "0b0fdd38-8c23-4351-b12a-b1d9139e2de4",
   "metadata": {},
   "source": [
    "### Reading and visualizing pancreas_005 nifti CT and mask files"
   ]
  },
  {
   "cell_type": "markdown",
   "id": "3255b37a-6b68-41e4-8cd9-7bce672a6c22",
   "metadata": {},
   "source": [
    "#### CT file"
   ]
  },
  {
   "cell_type": "code",
   "execution_count": 38,
   "id": "38baab29-abf8-4575-aa8a-fb2fa041ba73",
   "metadata": {
    "tags": []
   },
   "outputs": [],
   "source": [
    "ct_3 = nib.load(\"../../datasets/Task07_Pancreas/train/images/pancreas_005.nii.gz\")"
   ]
  },
  {
   "cell_type": "code",
   "execution_count": 39,
   "id": "d4e0f662-ac0e-4709-a099-8acc616bd39c",
   "metadata": {},
   "outputs": [
    {
     "data": {
      "text/plain": [
       "nibabel.nifti1.Nifti1Image"
      ]
     },
     "execution_count": 39,
     "metadata": {},
     "output_type": "execute_result"
    }
   ],
   "source": [
    "type(ct_3)"
   ]
  },
  {
   "cell_type": "code",
   "execution_count": 40,
   "id": "4ffed2e8-d420-45a7-8479-e70bf2b6f553",
   "metadata": {},
   "outputs": [],
   "source": [
    "# Read Nifi Image object as numpy file\n",
    "ct_3 = ct_3.get_fdata()"
   ]
  },
  {
   "cell_type": "code",
   "execution_count": 41,
   "id": "eece5717-ae06-486d-b52d-aa092cf93aac",
   "metadata": {},
   "outputs": [
    {
     "data": {
      "text/plain": [
       "numpy.ndarray"
      ]
     },
     "execution_count": 41,
     "metadata": {},
     "output_type": "execute_result"
    }
   ],
   "source": [
    "type(ct_3)"
   ]
  },
  {
   "cell_type": "code",
   "execution_count": 42,
   "id": "18f7bfe9-8037-4516-a226-2a841293ba45",
   "metadata": {},
   "outputs": [
    {
     "data": {
      "text/plain": [
       "dtype('float64')"
      ]
     },
     "execution_count": 42,
     "metadata": {},
     "output_type": "execute_result"
    }
   ],
   "source": [
    "ct_3.dtype"
   ]
  },
  {
   "cell_type": "code",
   "execution_count": 43,
   "id": "5414bca6-cf9a-41d5-b239-2f5bc0d80b7e",
   "metadata": {},
   "outputs": [
    {
     "data": {
      "text/plain": [
       "(512, 512, 104)"
      ]
     },
     "execution_count": 43,
     "metadata": {},
     "output_type": "execute_result"
    }
   ],
   "source": [
    "ct_3.shape"
   ]
  },
  {
   "cell_type": "code",
   "execution_count": 44,
   "id": "8ad21f2a-8285-460f-9bea-1792249299fc",
   "metadata": {},
   "outputs": [
    {
     "name": "stdout",
     "output_type": "stream",
     "text": [
      "3122.0\n"
     ]
    }
   ],
   "source": [
    "# Range of voxel values (maximum value - minimum value)\n",
    "print(ct_3[:, :, :].ptp())"
   ]
  },
  {
   "cell_type": "markdown",
   "id": "ff09237b-14ee-468a-96a2-17d04b94aac8",
   "metadata": {
    "tags": []
   },
   "source": [
    "#### Mask file"
   ]
  },
  {
   "cell_type": "code",
   "execution_count": 45,
   "id": "142e8f46-ca01-4bb0-ba15-5f8f760e99b0",
   "metadata": {},
   "outputs": [],
   "source": [
    "ct_3_mask = nib.load(\"../../datasets/Task07_Pancreas/train/masks/pancreas_005.nii.gz\")"
   ]
  },
  {
   "cell_type": "code",
   "execution_count": 46,
   "id": "3e43361e-ba06-43c0-94ec-9bca3cc66c7f",
   "metadata": {},
   "outputs": [],
   "source": [
    "ct_3_mask = ct_3_mask.get_fdata()"
   ]
  },
  {
   "cell_type": "code",
   "execution_count": 47,
   "id": "4590c9ee-9749-4460-819b-3b9e99dba0ea",
   "metadata": {},
   "outputs": [
    {
     "data": {
      "text/plain": [
       "dtype('float64')"
      ]
     },
     "execution_count": 47,
     "metadata": {},
     "output_type": "execute_result"
    }
   ],
   "source": [
    "ct_3_mask.dtype"
   ]
  },
  {
   "cell_type": "code",
   "execution_count": 48,
   "id": "f8eb3fa7-e01e-40ea-a1f4-00c67440075d",
   "metadata": {},
   "outputs": [
    {
     "data": {
      "text/plain": [
       "array([0., 1., 2.])"
      ]
     },
     "execution_count": 48,
     "metadata": {},
     "output_type": "execute_result"
    }
   ],
   "source": [
    "np.unique(ct_3_mask)"
   ]
  },
  {
   "cell_type": "code",
   "execution_count": 49,
   "id": "57d6aa67-ca51-48c9-9092-a2242c8e9032",
   "metadata": {},
   "outputs": [],
   "source": [
    "ct_3_mask = ct_3_mask.astype(np.float32)"
   ]
  },
  {
   "cell_type": "code",
   "execution_count": 50,
   "id": "6f2d80fe-3376-4af9-be3a-55cb036effa8",
   "metadata": {},
   "outputs": [
    {
     "data": {
      "text/plain": [
       "(512, 512, 104)"
      ]
     },
     "execution_count": 50,
     "metadata": {},
     "output_type": "execute_result"
    }
   ],
   "source": [
    "ct_3_mask.shape"
   ]
  },
  {
   "cell_type": "markdown",
   "id": "b6d0b7aa-e727-45ff-a6f2-fb2d8b2f539e",
   "metadata": {},
   "source": [
    "### Visualizing nifti CT file and Mask file"
   ]
  },
  {
   "cell_type": "code",
   "execution_count": 51,
   "id": "f162aca7-7dc5-4037-ab4a-dca948534ab6",
   "metadata": {},
   "outputs": [
    {
     "data": {
      "application/vnd.jupyter.widget-view+json": {
       "model_id": "82e09e914a8649b0b2aa7493b5c8a9ba",
       "version_major": 2,
       "version_minor": 0
      },
      "text/plain": [
       "interactive(children=(ToggleButtons(button_style='info', description='Select Class:', options=('Background', '…"
      ]
     },
     "metadata": {},
     "output_type": "display_data"
    }
   ],
   "source": [
    "classes_dict = {\n",
    "    'Background': 0,\n",
    "    'Pancreas': 1,\n",
    "    'Cancer': 2\n",
    "}\n",
    "\n",
    "# Create button values\n",
    "select_class = ToggleButtons(\n",
    "    options=['Background', 'Pancreas', 'Cancer', 'All'],\n",
    "    description='Select Class:',\n",
    "    disabled=False,\n",
    "    button_style='info', \n",
    "    \n",
    ")\n",
    "# Create layer slider\n",
    "select_layer = IntSlider(min=0, max=ct_3.shape[2] - 1, description='Select Layer', continuous_update=False)\n",
    "\n",
    "    \n",
    "# Define a function for plotting images\n",
    "def plot(seg_class, layer):\n",
    "    print(f\"Plotting Layer: {layer} | Label: {seg_class}\")\n",
    "    fig = plt.figure(figsize=(20, 10))\n",
    "    \n",
    "    fig.add_subplot(1, 2, 1)\n",
    "    plt.imshow(ct_3[:, :, layer], cmap='gray');\n",
    "    plt.title(\"ct\", fontsize=20)\n",
    "    plt.axis('off')\n",
    "    \n",
    "    fig.add_subplot(1, 2, 2)\n",
    "    if seg_class == \"All\":\n",
    "        mask = ct_3_mask[:, :, layer]\n",
    "        plt.title(\"Mask\", fontsize=20)\n",
    "        plt.imshow(mask)\n",
    "        plt.axis('off');\n",
    "    else:\n",
    "        img_label = classes_dict[seg_class]\n",
    "        mask = np.where(ct_3_mask[:, :, layer] == img_label, 255, 0)\n",
    "        plt.title(\"Mask\", fontsize=20)\n",
    "        plt.imshow(mask, cmap='gray')\n",
    "        plt.axis('off');\n",
    "\n",
    "# Use the interactive() tool to create the visualization\n",
    "interactive(plot, seg_class=select_class, layer=select_layer)"
   ]
  },
  {
   "cell_type": "markdown",
   "id": "located-nutrition",
   "metadata": {},
   "source": [
    "### Calculating CT shape counter dictionary"
   ]
  },
  {
   "cell_type": "code",
   "execution_count": 52,
   "id": "sufficient-basic",
   "metadata": {},
   "outputs": [
    {
     "name": "stderr",
     "output_type": "stream",
     "text": [
      "100%|██████████| 420/420 [03:00<00:00,  2.32it/s]\n"
     ]
    }
   ],
   "source": [
    "data_dir = \"../../datasets/Task07_Pancreas/\"\n",
    "\n",
    "train_mri_paths = [os.path.join(data_dir + \"train/images\", x) for x in os.listdir(data_dir + \"train/images\")]\n",
    "val_mri_paths = [os.path.join(data_dir + \"val/images\", x) for x in os.listdir(data_dir + \"val/images\")]\n",
    "test_mri_paths = [os.path.join(data_dir + \"test_images_for_model_prediction_submission\", x) for x in os.listdir(data_dir + \"test_images_for_model_prediction_submission\")]\n",
    "\n",
    "all_paths = train_mri_paths + val_mri_paths + test_mri_paths  # concatenate list of paths\n",
    "\n",
    "shape_count_dict = {}\n",
    "\n",
    "for path in tqdm(all_paths):\n",
    "    mri = nib.load(path).get_fdata()\n",
    "    shape = mri.shape\n",
    "    \n",
    "    if shape not in shape_count_dict.keys():\n",
    "        shape_count_dict[shape] = 1\n",
    "    else:\n",
    "        shape_count_dict[shape] += 1   "
   ]
  },
  {
   "cell_type": "code",
   "execution_count": 53,
   "id": "premium-adjustment",
   "metadata": {},
   "outputs": [
    {
     "name": "stdout",
     "output_type": "stream",
     "text": [
      "OrderedDict([((512, 512, 89), 24),\n",
      "             ((512, 512, 93), 21),\n",
      "             ((512, 512, 97), 21),\n",
      "             ((512, 512, 95), 19),\n",
      "             ((512, 512, 87), 16),\n",
      "             ((512, 512, 99), 15),\n",
      "             ((512, 512, 85), 13),\n",
      "             ((512, 512, 101), 13),\n",
      "             ((512, 512, 81), 13),\n",
      "             ((512, 512, 103), 12),\n",
      "             ((512, 512, 83), 10),\n",
      "             ((512, 512, 98), 10),\n",
      "             ((512, 512, 91), 10),\n",
      "             ((512, 512, 105), 9),\n",
      "             ((512, 512, 107), 9),\n",
      "             ((512, 512, 84), 8),\n",
      "             ((512, 512, 79), 7),\n",
      "             ((512, 512, 113), 7),\n",
      "             ((512, 512, 96), 6),\n",
      "             ((512, 512, 77), 6),\n",
      "             ((512, 512, 92), 6),\n",
      "             ((512, 512, 73), 6),\n",
      "             ((512, 512, 109), 6),\n",
      "             ((512, 512, 51), 5),\n",
      "             ((512, 512, 75), 5),\n",
      "             ((512, 512, 121), 5),\n",
      "             ((512, 512, 104), 5),\n",
      "             ((512, 512, 100), 5),\n",
      "             ((512, 512, 57), 5),\n",
      "             ((512, 512, 71), 4),\n",
      "             ((512, 512, 102), 4),\n",
      "             ((512, 512, 44), 4),\n",
      "             ((512, 512, 76), 4),\n",
      "             ((512, 512, 90), 4),\n",
      "             ((512, 512, 48), 3),\n",
      "             ((512, 512, 55), 3),\n",
      "             ((512, 512, 106), 3),\n",
      "             ((512, 512, 117), 3),\n",
      "             ((512, 512, 88), 3),\n",
      "             ((512, 512, 82), 3),\n",
      "             ((512, 512, 134), 3),\n",
      "             ((512, 512, 94), 3),\n",
      "             ((512, 512, 123), 3),\n",
      "             ((512, 512, 49), 3),\n",
      "             ((512, 512, 115), 2),\n",
      "             ((512, 512, 111), 2),\n",
      "             ((512, 512, 130), 2),\n",
      "             ((512, 512, 86), 2),\n",
      "             ((512, 512, 137), 2),\n",
      "             ((512, 512, 110), 2),\n",
      "             ((512, 512, 45), 2),\n",
      "             ((512, 512, 108), 2),\n",
      "             ((512, 512, 67), 2),\n",
      "             ((512, 512, 66), 2),\n",
      "             ((512, 512, 42), 2),\n",
      "             ((512, 512, 43), 2),\n",
      "             ((512, 512, 169), 2),\n",
      "             ((512, 512, 120), 2),\n",
      "             ((512, 512, 68), 2),\n",
      "             ((512, 512, 118), 2),\n",
      "             ((512, 512, 119), 2),\n",
      "             ((512, 512, 122), 2),\n",
      "             ((512, 512, 56), 1),\n",
      "             ((512, 512, 112), 1),\n",
      "             ((512, 512, 147), 1),\n",
      "             ((512, 512, 59), 1),\n",
      "             ((512, 512, 161), 1),\n",
      "             ((512, 512, 47), 1),\n",
      "             ((512, 512, 39), 1),\n",
      "             ((512, 512, 192), 1),\n",
      "             ((512, 512, 41), 1),\n",
      "             ((512, 512, 174), 1),\n",
      "             ((512, 512, 126), 1),\n",
      "             ((512, 512, 80), 1),\n",
      "             ((512, 512, 37), 1),\n",
      "             ((512, 512, 60), 1),\n",
      "             ((512, 512, 384), 1),\n",
      "             ((512, 512, 142), 1),\n",
      "             ((512, 512, 751), 1),\n",
      "             ((512, 512, 50), 1),\n",
      "             ((512, 512, 116), 1),\n",
      "             ((512, 512, 58), 1),\n",
      "             ((512, 512, 72), 1),\n",
      "             ((512, 512, 61), 1),\n",
      "             ((512, 512, 131), 1),\n",
      "             ((512, 512, 164), 1),\n",
      "             ((512, 512, 40), 1),\n",
      "             ((512, 512, 63), 1),\n",
      "             ((512, 512, 70), 1),\n",
      "             ((512, 512, 153), 1),\n",
      "             ((512, 512, 179), 1),\n",
      "             ((512, 512, 69), 1),\n",
      "             ((512, 512, 62), 1),\n",
      "             ((512, 512, 46), 1),\n",
      "             ((512, 512, 53), 1),\n",
      "             ((512, 512, 148), 1),\n",
      "             ((512, 512, 132), 1),\n",
      "             ((512, 512, 686), 1),\n",
      "             ((512, 512, 149), 1)])\n"
     ]
    }
   ],
   "source": [
    "shape_count_dict = OrderedDict(sorted(shape_count_dict.items(), key=lambda item: item[1], reverse=True))\n",
    "pprint(shape_count_dict)"
   ]
  },
  {
   "cell_type": "code",
   "execution_count": 54,
   "id": "preliminary-windsor",
   "metadata": {},
   "outputs": [
    {
     "name": "stdout",
     "output_type": "stream",
     "text": [
      "109.1919191919192\n",
      "93.0\n",
      "37\n",
      "751\n"
     ]
    }
   ],
   "source": [
    "list_layers = []\n",
    "for key, val in shape_count_dict.items():\n",
    "    list_layers.append(key[2])\n",
    "\n",
    "layers = np.array(list_layers)\n",
    "print(layers.mean())\n",
    "print(np.median(layers))\n",
    "print(layers.min())\n",
    "print(layers.max())"
   ]
  },
  {
   "cell_type": "code",
   "execution_count": null,
   "id": "executed-rating",
   "metadata": {},
   "outputs": [],
   "source": []
  }
 ],
 "metadata": {
  "kernelspec": {
   "display_name": "Python 3",
   "language": "python",
   "name": "python3"
  },
  "language_info": {
   "codemirror_mode": {
    "name": "ipython",
    "version": 3
   },
   "file_extension": ".py",
   "mimetype": "text/x-python",
   "name": "python",
   "nbconvert_exporter": "python",
   "pygments_lexer": "ipython3",
   "version": "3.7.10"
  }
 },
 "nbformat": 4,
 "nbformat_minor": 5
}
