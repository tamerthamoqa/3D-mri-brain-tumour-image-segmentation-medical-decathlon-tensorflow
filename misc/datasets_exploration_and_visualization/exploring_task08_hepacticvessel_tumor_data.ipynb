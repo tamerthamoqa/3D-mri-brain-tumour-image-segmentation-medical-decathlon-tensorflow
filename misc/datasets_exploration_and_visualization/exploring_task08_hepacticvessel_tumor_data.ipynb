{
 "cells": [
  {
   "cell_type": "markdown",
   "id": "micro-major",
   "metadata": {},
   "source": [
    "__Note__: The code used here was heavily inspired by the AI for Medicine Specialization Course 1 Week three programming assignments: [link](https://www.coursera.org/learn/ai-for-medical-diagnosis)"
   ]
  },
  {
   "cell_type": "code",
   "execution_count": 1,
   "id": "attractive-operator",
   "metadata": {},
   "outputs": [],
   "source": [
    "import numpy as np\n",
    "import nibabel as nib\n",
    "import matplotlib.pyplot as plt\n",
    "import json\n",
    "import os\n",
    "from pprint import pprint\n",
    "from collections import OrderedDict\n",
    "from ipywidgets import interact, interactive, IntSlider, ToggleButtons\n",
    "from sys import getsizeof\n",
    "from tqdm import tqdm"
   ]
  },
  {
   "cell_type": "markdown",
   "id": "broadband-cisco",
   "metadata": {},
   "source": [
    "### Reading dataset description"
   ]
  },
  {
   "cell_type": "code",
   "execution_count": 2,
   "id": "modular-selling",
   "metadata": {},
   "outputs": [],
   "source": [
    "file = open('../datasets_descriptions_json/task08_hepaticvessel_dataset.json')\n",
    "data_description = json.load(file)"
   ]
  },
  {
   "cell_type": "code",
   "execution_count": 3,
   "id": "convinced-occupation",
   "metadata": {},
   "outputs": [
    {
     "name": "stdout",
     "output_type": "stream",
     "text": [
      "{\n",
      "    \"name\": \"HepaticVessel\",\n",
      "    \"description\": \"Hepatic Vessels and Tumour Segmentation\",\n",
      "    \"reference\": \"Memorial Sloan Kettering Cancer Center\",\n",
      "    \"licence\": \"CC-BY-SA 4.0\",\n",
      "    \"release\": \"1.1 14/08/2018\",\n",
      "    \"tensorImageSize\": \"3D\",\n",
      "    \"modality\": {\n",
      "        \"0\": \"CT\"\n",
      "    },\n",
      "    \"labels\": {\n",
      "        \"0\": \"background\",\n",
      "        \"1\": \"Vessel\",\n",
      "        \"2\": \"Tumour\"\n",
      "    },\n",
      "    \"numTraining\": 303,\n",
      "    \"numTest\": 140,\n",
      "    \"training\": [\n",
      "        {\n",
      "            \"image\": \"./imagesTr/hepaticvessel_001.nii.gz\",\n",
      "            \"label\": \"./labelsTr/hepaticvessel_001.nii.gz\"\n",
      "        },\n",
      "        {\n",
      "            \"image\": \"./imagesTr/hepaticvessel_002.nii.gz\",\n",
      "            \"label\": \"./labelsTr/hepaticvessel_002.nii.gz\"\n",
      "        },\n",
      "        {\n",
      "            \"image\": \"./imagesTr/hepaticvessel_004.nii.gz\",\n",
      "            \"label\": \"./labelsTr/hepaticvessel_004.nii.gz\"\n",
      "        },\n",
      "        {\n",
      "            \"image\": \"./imagesTr/hepaticvessel_005.nii.gz\",\n",
      "            \"label\": \"./labelsTr/hepaticvessel_005.nii.gz\"\n",
      "        },\n",
      "        {\n",
      "            \"image\": \"./imagesTr/hepaticvessel_007.nii.gz\",\n",
      "            \"label\": \"./labelsTr/hepaticvessel_007.nii.gz\"\n",
      "        },\n",
      "        {\n",
      "            \"image\": \"./imagesTr/hepaticvessel_008.nii.gz\",\n",
      "            \"label\": \"./labelsTr/hepaticvessel_008.nii.gz\"\n",
      "        },\n",
      "        {\n",
      "            \"image\": \"./imagesTr/hepaticvessel_010.nii.gz\",\n",
      "            \"label\": \"./labelsTr/hepaticvessel_010.nii.gz\"\n",
      "        },\n",
      "        {\n",
      "            \"image\": \"./imagesTr/hepaticvessel_011.nii.gz\",\n",
      "            \"label\": \"./labelsTr/hepaticvessel_011.nii.gz\"\n",
      "        },\n",
      "        {\n",
      "            \"image\": \"./imagesTr/hepaticvessel_013.nii.gz\",\n",
      "            \"label\": \"./labelsTr/hepaticvessel_013.nii.gz\"\n",
      "        },\n",
      "        {\n",
      "            \"image\": \"./imagesTr/hepaticvessel_016.nii.gz\",\n",
      "            \"label\": \"./labelsTr/hepaticvessel_016.nii.gz\"\n",
      "        },\n",
      "        {\n",
      "            \"image\": \"./imagesTr/hepaticvessel_018.nii.gz\",\n",
      "            \"label\": \"./labelsTr/hepaticvessel_018.nii.gz\"\n",
      "        },\n",
      "        {\n",
      "            \"image\": \"./imagesTr/hepaticvessel_019.nii.gz\",\n",
      "            \"label\": \"./labelsTr/hepaticvessel_019.nii.gz\"\n",
      "        },\n",
      "        {\n",
      "            \"image\": \"./imagesTr/hepaticvessel_020.nii.gz\",\n",
      "            \"label\": \"./labelsTr/hepaticvessel_020.nii.gz\"\n",
      "        },\n",
      "        {\n",
      "            \"image\": \"./imagesTr/hepaticvessel_022.nii.gz\",\n",
      "            \"label\": \"./labelsTr/hepaticvessel_022.nii.gz\"\n",
      "        },\n",
      "        {\n",
      "            \"image\": \"./imagesTr/hepaticvessel_023.nii.gz\",\n",
      "            \"label\": \"./labelsTr/hepaticvessel_023.nii.gz\"\n",
      "        },\n",
      "        {\n",
      "            \"image\": \"./imagesTr/hepaticvessel_025.nii.gz\",\n",
      "            \"label\": \"./labelsTr/hepaticvessel_025.nii.gz\"\n",
      "        },\n",
      "        {\n",
      "            \"image\": \"./imagesTr/hepaticvessel_026.nii.gz\",\n",
      "            \"label\": \"./labelsTr/hepaticvessel_026.nii.gz\"\n",
      "        },\n",
      "        {\n",
      "            \"image\": \"./imagesTr/hepaticvessel_027.nii.gz\",\n",
      "            \"label\": \"./labelsTr/hepaticvessel_027.nii.gz\"\n",
      "        },\n",
      "        {\n",
      "            \"image\": \"./imagesTr/hepaticvessel_028.nii.gz\",\n",
      "            \"label\": \"./labelsTr/hepaticvessel_028.nii.gz\"\n",
      "        },\n",
      "        {\n",
      "            \"image\": \"./imagesTr/hepaticvessel_029.nii.gz\",\n",
      "            \"label\": \"./labelsTr/hepaticvessel_029.nii.gz\"\n",
      "        },\n",
      "        {\n",
      "            \"image\": \"./imagesTr/hepaticvessel_030.nii.gz\",\n",
      "            \"label\": \"./labelsTr/hepaticvessel_030.nii.gz\"\n",
      "        },\n",
      "        {\n",
      "            \"image\": \"./imagesTr/hepaticvessel_031.nii.gz\",\n",
      "            \"label\": \"./labelsTr/hepaticvessel_031.nii.gz\"\n",
      "        },\n",
      "        {\n",
      "            \"image\": \"./imagesTr/hepaticvessel_032.nii.gz\",\n",
      "            \"label\": \"./labelsTr/hepaticvessel_032.nii.gz\"\n",
      "        },\n",
      "        {\n",
      "            \"image\": \"./imagesTr/hepaticvessel_033.nii.gz\",\n",
      "            \"label\": \"./labelsTr/hepaticvessel_033.nii.gz\"\n",
      "        },\n",
      "        {\n",
      "            \"image\": \"./imagesTr/hepaticvessel_039.nii.gz\",\n",
      "            \"label\": \"./labelsTr/hepaticvessel_039.nii.gz\"\n",
      "        },\n",
      "        {\n",
      "            \"image\": \"./imagesTr/hepaticvessel_040.nii.gz\",\n",
      "            \"label\": \"./labelsTr/hepaticvessel_040.nii.gz\"\n",
      "        },\n",
      "        {\n",
      "            \"image\": \"./imagesTr/hepaticvessel_042.nii.gz\",\n",
      "            \"label\": \"./labelsTr/hepaticvessel_042.nii.gz\"\n",
      "        },\n",
      "        {\n",
      "            \"image\": \"./imagesTr/hepaticvessel_044.nii.gz\",\n",
      "            \"label\": \"./labelsTr/hepaticvessel_044.nii.gz\"\n",
      "        },\n",
      "        {\n",
      "            \"image\": \"./imagesTr/hepaticvessel_046.nii.gz\",\n",
      "            \"label\": \"./labelsTr/hepaticvessel_046.nii.gz\"\n",
      "        },\n",
      "        {\n",
      "            \"image\": \"./imagesTr/hepaticvessel_049.nii.gz\",\n",
      "            \"label\": \"./labelsTr/hepaticvessel_049.nii.gz\"\n",
      "        },\n",
      "        {\n",
      "            \"image\": \"./imagesTr/hepaticvessel_050.nii.gz\",\n",
      "            \"label\": \"./labelsTr/hepaticvessel_050.nii.gz\"\n",
      "        },\n",
      "        {\n",
      "            \"image\": \"./imagesTr/hepaticvessel_051.nii.gz\",\n",
      "            \"label\": \"./labelsTr/hepaticvessel_051.nii.gz\"\n",
      "        },\n",
      "        {\n",
      "            \"image\": \"./imagesTr/hepaticvessel_052.nii.gz\",\n",
      "            \"label\": \"./labelsTr/hepaticvessel_052.nii.gz\"\n",
      "        },\n",
      "        {\n",
      "            \"image\": \"./imagesTr/hepaticvessel_053.nii.gz\",\n",
      "            \"label\": \"./labelsTr/hepaticvessel_053.nii.gz\"\n",
      "        },\n",
      "        {\n",
      "            \"image\": \"./imagesTr/hepaticvessel_057.nii.gz\",\n",
      "            \"label\": \"./labelsTr/hepaticvessel_057.nii.gz\"\n",
      "        },\n",
      "        {\n",
      "            \"image\": \"./imagesTr/hepaticvessel_058.nii.gz\",\n",
      "            \"label\": \"./labelsTr/hepaticvessel_058.nii.gz\"\n",
      "        },\n",
      "        {\n",
      "            \"image\": \"./imagesTr/hepaticvessel_059.nii.gz\",\n",
      "            \"label\": \"./labelsTr/hepaticvessel_059.nii.gz\"\n",
      "        },\n",
      "        {\n",
      "            \"image\": \"./imagesTr/hepaticvessel_061.nii.gz\",\n",
      "            \"label\": \"./labelsTr/hepaticvessel_061.nii.gz\"\n",
      "        },\n",
      "        {\n",
      "            \"image\": \"./imagesTr/hepaticvessel_062.nii.gz\",\n",
      "            \"label\": \"./labelsTr/hepaticvessel_062.nii.gz\"\n",
      "        },\n",
      "        {\n",
      "            \"image\": \"./imagesTr/hepaticvessel_065.nii.gz\",\n",
      "            \"label\": \"./labelsTr/hepaticvessel_065.nii.gz\"\n",
      "        },\n",
      "        {\n",
      "            \"image\": \"./imagesTr/hepaticvessel_066.nii.gz\",\n",
      "            \"label\": \"./labelsTr/hepaticvessel_066.nii.gz\"\n",
      "        },\n",
      "        {\n",
      "            \"image\": \"./imagesTr/hepaticvessel_067.nii.gz\",\n",
      "            \"label\": \"./labelsTr/hepaticvessel_067.nii.gz\"\n",
      "        },\n",
      "        {\n",
      "            \"image\": \"./imagesTr/hepaticvessel_068.nii.gz\",\n",
      "            \"label\": \"./labelsTr/hepaticvessel_068.nii.gz\"\n",
      "        },\n",
      "        {\n",
      "            \"image\": \"./imagesTr/hepaticvessel_070.nii.gz\",\n",
      "            \"label\": \"./labelsTr/hepaticvessel_070.nii.gz\"\n",
      "        },\n",
      "        {\n",
      "            \"image\": \"./imagesTr/hepaticvessel_071.nii.gz\",\n",
      "            \"label\": \"./labelsTr/hepaticvessel_071.nii.gz\"\n",
      "        },\n",
      "        {\n",
      "            \"image\": \"./imagesTr/hepaticvessel_072.nii.gz\",\n",
      "            \"label\": \"./labelsTr/hepaticvessel_072.nii.gz\"\n",
      "        },\n",
      "        {\n",
      "            \"image\": \"./imagesTr/hepaticvessel_075.nii.gz\",\n",
      "            \"label\": \"./labelsTr/hepaticvessel_075.nii.gz\"\n",
      "        },\n",
      "        {\n",
      "            \"image\": \"./imagesTr/hepaticvessel_077.nii.gz\",\n",
      "            \"label\": \"./labelsTr/hepaticvessel_077.nii.gz\"\n",
      "        },\n",
      "        {\n",
      "            \"image\": \"./imagesTr/hepaticvessel_078.nii.gz\",\n",
      "            \"label\": \"./labelsTr/hepaticvessel_078.nii.gz\"\n",
      "        },\n",
      "        {\n",
      "            \"image\": \"./imagesTr/hepaticvessel_079.nii.gz\",\n",
      "            \"label\": \"./labelsTr/hepaticvessel_079.nii.gz\"\n",
      "        },\n",
      "        {\n",
      "            \"image\": \"./imagesTr/hepaticvessel_080.nii.gz\",\n",
      "            \"label\": \"./labelsTr/hepaticvessel_080.nii.gz\"\n",
      "        },\n",
      "        {\n",
      "            \"image\": \"./imagesTr/hepaticvessel_081.nii.gz\",\n",
      "            \"label\": \"./labelsTr/hepaticvessel_081.nii.gz\"\n",
      "        },\n",
      "        {\n",
      "            \"image\": \"./imagesTr/hepaticvessel_082.nii.gz\",\n",
      "            \"label\": \"./labelsTr/hepaticvessel_082.nii.gz\"\n",
      "        },\n",
      "        {\n",
      "            \"image\": \"./imagesTr/hepaticvessel_083.nii.gz\",\n",
      "            \"label\": \"./labelsTr/hepaticvessel_083.nii.gz\"\n",
      "        },\n",
      "        {\n",
      "            \"image\": \"./imagesTr/hepaticvessel_084.nii.gz\",\n",
      "            \"label\": \"./labelsTr/hepaticvessel_084.nii.gz\"\n",
      "        },\n",
      "        {\n",
      "            \"image\": \"./imagesTr/hepaticvessel_085.nii.gz\",\n",
      "            \"label\": \"./labelsTr/hepaticvessel_085.nii.gz\"\n",
      "        },\n",
      "        {\n",
      "            \"image\": \"./imagesTr/hepaticvessel_086.nii.gz\",\n",
      "            \"label\": \"./labelsTr/hepaticvessel_086.nii.gz\"\n",
      "        },\n",
      "        {\n",
      "            \"image\": \"./imagesTr/hepaticvessel_087.nii.gz\",\n",
      "            \"label\": \"./labelsTr/hepaticvessel_087.nii.gz\"\n",
      "        },\n",
      "        {\n",
      "            \"image\": \"./imagesTr/hepaticvessel_088.nii.gz\",\n",
      "            \"label\": \"./labelsTr/hepaticvessel_088.nii.gz\"\n",
      "        },\n",
      "        {\n",
      "            \"image\": \"./imagesTr/hepaticvessel_089.nii.gz\",\n",
      "            \"label\": \"./labelsTr/hepaticvessel_089.nii.gz\"\n",
      "        },\n",
      "        {\n",
      "            \"image\": \"./imagesTr/hepaticvessel_090.nii.gz\",\n",
      "            \"label\": \"./labelsTr/hepaticvessel_090.nii.gz\"\n",
      "        },\n",
      "        {\n",
      "            \"image\": \"./imagesTr/hepaticvessel_091.nii.gz\",\n",
      "            \"label\": \"./labelsTr/hepaticvessel_091.nii.gz\"\n",
      "        },\n",
      "        {\n",
      "            \"image\": \"./imagesTr/hepaticvessel_092.nii.gz\",\n",
      "            \"label\": \"./labelsTr/hepaticvessel_092.nii.gz\"\n",
      "        },\n",
      "        {\n",
      "            \"image\": \"./imagesTr/hepaticvessel_093.nii.gz\",\n",
      "            \"label\": \"./labelsTr/hepaticvessel_093.nii.gz\"\n",
      "        },\n",
      "        {\n",
      "            \"image\": \"./imagesTr/hepaticvessel_094.nii.gz\",\n",
      "            \"label\": \"./labelsTr/hepaticvessel_094.nii.gz\"\n",
      "        },\n",
      "        {\n",
      "            \"image\": \"./imagesTr/hepaticvessel_096.nii.gz\",\n",
      "            \"label\": \"./labelsTr/hepaticvessel_096.nii.gz\"\n",
      "        },\n",
      "        {\n",
      "            \"image\": \"./imagesTr/hepaticvessel_097.nii.gz\",\n",
      "            \"label\": \"./labelsTr/hepaticvessel_097.nii.gz\"\n",
      "        },\n",
      "        {\n",
      "            \"image\": \"./imagesTr/hepaticvessel_098.nii.gz\",\n",
      "            \"label\": \"./labelsTr/hepaticvessel_098.nii.gz\"\n",
      "        },\n",
      "        {\n",
      "            \"image\": \"./imagesTr/hepaticvessel_100.nii.gz\",\n",
      "            \"label\": \"./labelsTr/hepaticvessel_100.nii.gz\"\n",
      "        },\n",
      "        {\n",
      "            \"image\": \"./imagesTr/hepaticvessel_102.nii.gz\",\n",
      "            \"label\": \"./labelsTr/hepaticvessel_102.nii.gz\"\n",
      "        },\n",
      "        {\n",
      "            \"image\": \"./imagesTr/hepaticvessel_103.nii.gz\",\n",
      "            \"label\": \"./labelsTr/hepaticvessel_103.nii.gz\"\n",
      "        },\n",
      "        {\n",
      "            \"image\": \"./imagesTr/hepaticvessel_104.nii.gz\",\n",
      "            \"label\": \"./labelsTr/hepaticvessel_104.nii.gz\"\n",
      "        },\n",
      "        {\n",
      "            \"image\": \"./imagesTr/hepaticvessel_108.nii.gz\",\n",
      "            \"label\": \"./labelsTr/hepaticvessel_108.nii.gz\"\n",
      "        },\n",
      "        {\n",
      "            \"image\": \"./imagesTr/hepaticvessel_110.nii.gz\",\n",
      "            \"label\": \"./labelsTr/hepaticvessel_110.nii.gz\"\n",
      "        },\n",
      "        {\n",
      "            \"image\": \"./imagesTr/hepaticvessel_111.nii.gz\",\n",
      "            \"label\": \"./labelsTr/hepaticvessel_111.nii.gz\"\n",
      "        },\n",
      "        {\n",
      "            \"image\": \"./imagesTr/hepaticvessel_112.nii.gz\",\n",
      "            \"label\": \"./labelsTr/hepaticvessel_112.nii.gz\"\n",
      "        },\n",
      "        {\n",
      "            \"image\": \"./imagesTr/hepaticvessel_113.nii.gz\",\n",
      "            \"label\": \"./labelsTr/hepaticvessel_113.nii.gz\"\n",
      "        },\n",
      "        {\n",
      "            \"image\": \"./imagesTr/hepaticvessel_115.nii.gz\",\n",
      "            \"label\": \"./labelsTr/hepaticvessel_115.nii.gz\"\n",
      "        },\n",
      "        {\n",
      "            \"image\": \"./imagesTr/hepaticvessel_116.nii.gz\",\n",
      "            \"label\": \"./labelsTr/hepaticvessel_116.nii.gz\"\n",
      "        },\n",
      "        {\n",
      "            \"image\": \"./imagesTr/hepaticvessel_117.nii.gz\",\n",
      "            \"label\": \"./labelsTr/hepaticvessel_117.nii.gz\"\n",
      "        },\n",
      "        {\n",
      "            \"image\": \"./imagesTr/hepaticvessel_119.nii.gz\",\n",
      "            \"label\": \"./labelsTr/hepaticvessel_119.nii.gz\"\n",
      "        },\n",
      "        {\n",
      "            \"image\": \"./imagesTr/hepaticvessel_121.nii.gz\",\n",
      "            \"label\": \"./labelsTr/hepaticvessel_121.nii.gz\"\n",
      "        },\n",
      "        {\n",
      "            \"image\": \"./imagesTr/hepaticvessel_123.nii.gz\",\n",
      "            \"label\": \"./labelsTr/hepaticvessel_123.nii.gz\"\n",
      "        },\n",
      "        {\n",
      "            \"image\": \"./imagesTr/hepaticvessel_124.nii.gz\",\n",
      "            \"label\": \"./labelsTr/hepaticvessel_124.nii.gz\"\n",
      "        },\n",
      "        {\n",
      "            \"image\": \"./imagesTr/hepaticvessel_125.nii.gz\",\n",
      "            \"label\": \"./labelsTr/hepaticvessel_125.nii.gz\"\n",
      "        },\n",
      "        {\n",
      "            \"image\": \"./imagesTr/hepaticvessel_127.nii.gz\",\n",
      "            \"label\": \"./labelsTr/hepaticvessel_127.nii.gz\"\n",
      "        },\n",
      "        {\n",
      "            \"image\": \"./imagesTr/hepaticvessel_128.nii.gz\",\n",
      "            \"label\": \"./labelsTr/hepaticvessel_128.nii.gz\"\n",
      "        },\n",
      "        {\n",
      "            \"image\": \"./imagesTr/hepaticvessel_129.nii.gz\",\n",
      "            \"label\": \"./labelsTr/hepaticvessel_129.nii.gz\"\n",
      "        },\n",
      "        {\n",
      "            \"image\": \"./imagesTr/hepaticvessel_131.nii.gz\",\n",
      "            \"label\": \"./labelsTr/hepaticvessel_131.nii.gz\"\n",
      "        },\n",
      "        {\n",
      "            \"image\": \"./imagesTr/hepaticvessel_132.nii.gz\",\n",
      "            \"label\": \"./labelsTr/hepaticvessel_132.nii.gz\"\n",
      "        },\n",
      "        {\n",
      "            \"image\": \"./imagesTr/hepaticvessel_133.nii.gz\",\n",
      "            \"label\": \"./labelsTr/hepaticvessel_133.nii.gz\"\n",
      "        },\n",
      "        {\n",
      "            \"image\": \"./imagesTr/hepaticvessel_136.nii.gz\",\n",
      "            \"label\": \"./labelsTr/hepaticvessel_136.nii.gz\"\n",
      "        },\n",
      "        {\n",
      "            \"image\": \"./imagesTr/hepaticvessel_137.nii.gz\",\n",
      "            \"label\": \"./labelsTr/hepaticvessel_137.nii.gz\"\n",
      "        },\n",
      "        {\n",
      "            \"image\": \"./imagesTr/hepaticvessel_138.nii.gz\",\n",
      "            \"label\": \"./labelsTr/hepaticvessel_138.nii.gz\"\n",
      "        },\n",
      "        {\n",
      "            \"image\": \"./imagesTr/hepaticvessel_139.nii.gz\",\n",
      "            \"label\": \"./labelsTr/hepaticvessel_139.nii.gz\"\n",
      "        },\n",
      "        {\n",
      "            \"image\": \"./imagesTr/hepaticvessel_140.nii.gz\",\n",
      "            \"label\": \"./labelsTr/hepaticvessel_140.nii.gz\"\n",
      "        },\n",
      "        {\n",
      "            \"image\": \"./imagesTr/hepaticvessel_141.nii.gz\",\n",
      "            \"label\": \"./labelsTr/hepaticvessel_141.nii.gz\"\n",
      "        },\n",
      "        {\n",
      "            \"image\": \"./imagesTr/hepaticvessel_142.nii.gz\",\n",
      "            \"label\": \"./labelsTr/hepaticvessel_142.nii.gz\"\n",
      "        },\n",
      "        {\n",
      "            \"image\": \"./imagesTr/hepaticvessel_144.nii.gz\",\n",
      "            \"label\": \"./labelsTr/hepaticvessel_144.nii.gz\"\n",
      "        },\n",
      "        {\n",
      "            \"image\": \"./imagesTr/hepaticvessel_145.nii.gz\",\n",
      "            \"label\": \"./labelsTr/hepaticvessel_145.nii.gz\"\n",
      "        },\n",
      "        {\n",
      "            \"image\": \"./imagesTr/hepaticvessel_146.nii.gz\",\n",
      "            \"label\": \"./labelsTr/hepaticvessel_146.nii.gz\"\n",
      "        },\n",
      "        {\n",
      "            \"image\": \"./imagesTr/hepaticvessel_147.nii.gz\",\n",
      "            \"label\": \"./labelsTr/hepaticvessel_147.nii.gz\"\n",
      "        },\n",
      "        {\n",
      "            \"image\": \"./imagesTr/hepaticvessel_148.nii.gz\",\n",
      "            \"label\": \"./labelsTr/hepaticvessel_148.nii.gz\"\n",
      "        },\n",
      "        {\n",
      "            \"image\": \"./imagesTr/hepaticvessel_150.nii.gz\",\n",
      "            \"label\": \"./labelsTr/hepaticvessel_150.nii.gz\"\n",
      "        },\n",
      "        {\n",
      "            \"image\": \"./imagesTr/hepaticvessel_151.nii.gz\",\n",
      "            \"label\": \"./labelsTr/hepaticvessel_151.nii.gz\"\n",
      "        },\n",
      "        {\n",
      "            \"image\": \"./imagesTr/hepaticvessel_154.nii.gz\",\n",
      "            \"label\": \"./labelsTr/hepaticvessel_154.nii.gz\"\n",
      "        },\n",
      "        {\n",
      "            \"image\": \"./imagesTr/hepaticvessel_157.nii.gz\",\n",
      "            \"label\": \"./labelsTr/hepaticvessel_157.nii.gz\"\n",
      "        },\n",
      "        {\n",
      "            \"image\": \"./imagesTr/hepaticvessel_158.nii.gz\",\n",
      "            \"label\": \"./labelsTr/hepaticvessel_158.nii.gz\"\n",
      "        },\n",
      "        {\n",
      "            \"image\": \"./imagesTr/hepaticvessel_159.nii.gz\",\n",
      "            \"label\": \"./labelsTr/hepaticvessel_159.nii.gz\"\n",
      "        },\n",
      "        {\n",
      "            \"image\": \"./imagesTr/hepaticvessel_160.nii.gz\",\n",
      "            \"label\": \"./labelsTr/hepaticvessel_160.nii.gz\"\n",
      "        },\n",
      "        {\n",
      "            \"image\": \"./imagesTr/hepaticvessel_161.nii.gz\",\n",
      "            \"label\": \"./labelsTr/hepaticvessel_161.nii.gz\"\n",
      "        },\n",
      "        {\n",
      "            \"image\": \"./imagesTr/hepaticvessel_163.nii.gz\",\n",
      "            \"label\": \"./labelsTr/hepaticvessel_163.nii.gz\"\n",
      "        },\n",
      "        {\n",
      "            \"image\": \"./imagesTr/hepaticvessel_164.nii.gz\",\n",
      "            \"label\": \"./labelsTr/hepaticvessel_164.nii.gz\"\n",
      "        },\n",
      "        {\n",
      "            \"image\": \"./imagesTr/hepaticvessel_165.nii.gz\",\n",
      "            \"label\": \"./labelsTr/hepaticvessel_165.nii.gz\"\n",
      "        },\n",
      "        {\n",
      "            \"image\": \"./imagesTr/hepaticvessel_166.nii.gz\",\n",
      "            \"label\": \"./labelsTr/hepaticvessel_166.nii.gz\"\n",
      "        },\n",
      "        {\n",
      "            \"image\": \"./imagesTr/hepaticvessel_167.nii.gz\",\n",
      "            \"label\": \"./labelsTr/hepaticvessel_167.nii.gz\"\n",
      "        },\n",
      "        {\n",
      "            \"image\": \"./imagesTr/hepaticvessel_171.nii.gz\",\n",
      "            \"label\": \"./labelsTr/hepaticvessel_171.nii.gz\"\n",
      "        },\n",
      "        {\n",
      "            \"image\": \"./imagesTr/hepaticvessel_172.nii.gz\",\n",
      "            \"label\": \"./labelsTr/hepaticvessel_172.nii.gz\"\n",
      "        },\n",
      "        {\n",
      "            \"image\": \"./imagesTr/hepaticvessel_173.nii.gz\",\n",
      "            \"label\": \"./labelsTr/hepaticvessel_173.nii.gz\"\n",
      "        },\n",
      "        {\n",
      "            \"image\": \"./imagesTr/hepaticvessel_174.nii.gz\",\n",
      "            \"label\": \"./labelsTr/hepaticvessel_174.nii.gz\"\n",
      "        },\n",
      "        {\n",
      "            \"image\": \"./imagesTr/hepaticvessel_175.nii.gz\",\n",
      "            \"label\": \"./labelsTr/hepaticvessel_175.nii.gz\"\n",
      "        },\n",
      "        {\n",
      "            \"image\": \"./imagesTr/hepaticvessel_177.nii.gz\",\n",
      "            \"label\": \"./labelsTr/hepaticvessel_177.nii.gz\"\n",
      "        },\n",
      "        {\n",
      "            \"image\": \"./imagesTr/hepaticvessel_178.nii.gz\",\n",
      "            \"label\": \"./labelsTr/hepaticvessel_178.nii.gz\"\n",
      "        },\n",
      "        {\n",
      "            \"image\": \"./imagesTr/hepaticvessel_179.nii.gz\",\n",
      "            \"label\": \"./labelsTr/hepaticvessel_179.nii.gz\"\n",
      "        },\n",
      "        {\n",
      "            \"image\": \"./imagesTr/hepaticvessel_181.nii.gz\",\n",
      "            \"label\": \"./labelsTr/hepaticvessel_181.nii.gz\"\n",
      "        },\n",
      "        {\n",
      "            \"image\": \"./imagesTr/hepaticvessel_183.nii.gz\",\n",
      "            \"label\": \"./labelsTr/hepaticvessel_183.nii.gz\"\n",
      "        },\n",
      "        {\n",
      "            \"image\": \"./imagesTr/hepaticvessel_184.nii.gz\",\n",
      "            \"label\": \"./labelsTr/hepaticvessel_184.nii.gz\"\n",
      "        },\n",
      "        {\n",
      "            \"image\": \"./imagesTr/hepaticvessel_185.nii.gz\",\n",
      "            \"label\": \"./labelsTr/hepaticvessel_185.nii.gz\"\n",
      "        },\n",
      "        {\n",
      "            \"image\": \"./imagesTr/hepaticvessel_186.nii.gz\",\n",
      "            \"label\": \"./labelsTr/hepaticvessel_186.nii.gz\"\n",
      "        },\n",
      "        {\n",
      "            \"image\": \"./imagesTr/hepaticvessel_189.nii.gz\",\n",
      "            \"label\": \"./labelsTr/hepaticvessel_189.nii.gz\"\n",
      "        },\n",
      "        {\n",
      "            \"image\": \"./imagesTr/hepaticvessel_192.nii.gz\",\n",
      "            \"label\": \"./labelsTr/hepaticvessel_192.nii.gz\"\n",
      "        },\n",
      "        {\n",
      "            \"image\": \"./imagesTr/hepaticvessel_193.nii.gz\",\n",
      "            \"label\": \"./labelsTr/hepaticvessel_193.nii.gz\"\n",
      "        },\n",
      "        {\n",
      "            \"image\": \"./imagesTr/hepaticvessel_194.nii.gz\",\n",
      "            \"label\": \"./labelsTr/hepaticvessel_194.nii.gz\"\n",
      "        },\n",
      "        {\n",
      "            \"image\": \"./imagesTr/hepaticvessel_195.nii.gz\",\n",
      "            \"label\": \"./labelsTr/hepaticvessel_195.nii.gz\"\n",
      "        },\n",
      "        {\n",
      "            \"image\": \"./imagesTr/hepaticvessel_196.nii.gz\",\n",
      "            \"label\": \"./labelsTr/hepaticvessel_196.nii.gz\"\n",
      "        },\n",
      "        {\n",
      "            \"image\": \"./imagesTr/hepaticvessel_197.nii.gz\",\n",
      "            \"label\": \"./labelsTr/hepaticvessel_197.nii.gz\"\n",
      "        },\n",
      "        {\n",
      "            \"image\": \"./imagesTr/hepaticvessel_198.nii.gz\",\n",
      "            \"label\": \"./labelsTr/hepaticvessel_198.nii.gz\"\n",
      "        },\n",
      "        {\n",
      "            \"image\": \"./imagesTr/hepaticvessel_199.nii.gz\",\n",
      "            \"label\": \"./labelsTr/hepaticvessel_199.nii.gz\"\n",
      "        },\n",
      "        {\n",
      "            \"image\": \"./imagesTr/hepaticvessel_200.nii.gz\",\n",
      "            \"label\": \"./labelsTr/hepaticvessel_200.nii.gz\"\n",
      "        },\n",
      "        {\n",
      "            \"image\": \"./imagesTr/hepaticvessel_201.nii.gz\",\n",
      "            \"label\": \"./labelsTr/hepaticvessel_201.nii.gz\"\n",
      "        },\n",
      "        {\n",
      "            \"image\": \"./imagesTr/hepaticvessel_203.nii.gz\",\n",
      "            \"label\": \"./labelsTr/hepaticvessel_203.nii.gz\"\n",
      "        },\n",
      "        {\n",
      "            \"image\": \"./imagesTr/hepaticvessel_206.nii.gz\",\n",
      "            \"label\": \"./labelsTr/hepaticvessel_206.nii.gz\"\n",
      "        },\n",
      "        {\n",
      "            \"image\": \"./imagesTr/hepaticvessel_207.nii.gz\",\n",
      "            \"label\": \"./labelsTr/hepaticvessel_207.nii.gz\"\n",
      "        },\n",
      "        {\n",
      "            \"image\": \"./imagesTr/hepaticvessel_208.nii.gz\",\n",
      "            \"label\": \"./labelsTr/hepaticvessel_208.nii.gz\"\n",
      "        },\n",
      "        {\n",
      "            \"image\": \"./imagesTr/hepaticvessel_209.nii.gz\",\n",
      "            \"label\": \"./labelsTr/hepaticvessel_209.nii.gz\"\n",
      "        },\n",
      "        {\n",
      "            \"image\": \"./imagesTr/hepaticvessel_210.nii.gz\",\n",
      "            \"label\": \"./labelsTr/hepaticvessel_210.nii.gz\"\n",
      "        },\n",
      "        {\n",
      "            \"image\": \"./imagesTr/hepaticvessel_211.nii.gz\",\n",
      "            \"label\": \"./labelsTr/hepaticvessel_211.nii.gz\"\n",
      "        },\n",
      "        {\n",
      "            \"image\": \"./imagesTr/hepaticvessel_213.nii.gz\",\n",
      "            \"label\": \"./labelsTr/hepaticvessel_213.nii.gz\"\n",
      "        },\n",
      "        {\n",
      "            \"image\": \"./imagesTr/hepaticvessel_214.nii.gz\",\n",
      "            \"label\": \"./labelsTr/hepaticvessel_214.nii.gz\"\n",
      "        },\n",
      "        {\n",
      "            \"image\": \"./imagesTr/hepaticvessel_215.nii.gz\",\n",
      "            \"label\": \"./labelsTr/hepaticvessel_215.nii.gz\"\n",
      "        },\n",
      "        {\n",
      "            \"image\": \"./imagesTr/hepaticvessel_217.nii.gz\",\n",
      "            \"label\": \"./labelsTr/hepaticvessel_217.nii.gz\"\n",
      "        },\n",
      "        {\n",
      "            \"image\": \"./imagesTr/hepaticvessel_218.nii.gz\",\n",
      "            \"label\": \"./labelsTr/hepaticvessel_218.nii.gz\"\n",
      "        },\n",
      "        {\n",
      "            \"image\": \"./imagesTr/hepaticvessel_219.nii.gz\",\n",
      "            \"label\": \"./labelsTr/hepaticvessel_219.nii.gz\"\n",
      "        },\n",
      "        {\n",
      "            \"image\": \"./imagesTr/hepaticvessel_221.nii.gz\",\n",
      "            \"label\": \"./labelsTr/hepaticvessel_221.nii.gz\"\n",
      "        },\n",
      "        {\n",
      "            \"image\": \"./imagesTr/hepaticvessel_222.nii.gz\",\n",
      "            \"label\": \"./labelsTr/hepaticvessel_222.nii.gz\"\n",
      "        },\n",
      "        {\n",
      "            \"image\": \"./imagesTr/hepaticvessel_223.nii.gz\",\n",
      "            \"label\": \"./labelsTr/hepaticvessel_223.nii.gz\"\n",
      "        },\n",
      "        {\n",
      "            \"image\": \"./imagesTr/hepaticvessel_224.nii.gz\",\n",
      "            \"label\": \"./labelsTr/hepaticvessel_224.nii.gz\"\n",
      "        },\n",
      "        {\n",
      "            \"image\": \"./imagesTr/hepaticvessel_225.nii.gz\",\n",
      "            \"label\": \"./labelsTr/hepaticvessel_225.nii.gz\"\n",
      "        },\n",
      "        {\n",
      "            \"image\": \"./imagesTr/hepaticvessel_227.nii.gz\",\n",
      "            \"label\": \"./labelsTr/hepaticvessel_227.nii.gz\"\n",
      "        },\n",
      "        {\n",
      "            \"image\": \"./imagesTr/hepaticvessel_229.nii.gz\",\n",
      "            \"label\": \"./labelsTr/hepaticvessel_229.nii.gz\"\n",
      "        },\n",
      "        {\n",
      "            \"image\": \"./imagesTr/hepaticvessel_230.nii.gz\",\n",
      "            \"label\": \"./labelsTr/hepaticvessel_230.nii.gz\"\n",
      "        },\n",
      "        {\n",
      "            \"image\": \"./imagesTr/hepaticvessel_231.nii.gz\",\n",
      "            \"label\": \"./labelsTr/hepaticvessel_231.nii.gz\"\n",
      "        },\n",
      "        {\n",
      "            \"image\": \"./imagesTr/hepaticvessel_233.nii.gz\",\n",
      "            \"label\": \"./labelsTr/hepaticvessel_233.nii.gz\"\n",
      "        },\n",
      "        {\n",
      "            \"image\": \"./imagesTr/hepaticvessel_234.nii.gz\",\n",
      "            \"label\": \"./labelsTr/hepaticvessel_234.nii.gz\"\n",
      "        },\n",
      "        {\n",
      "            \"image\": \"./imagesTr/hepaticvessel_235.nii.gz\",\n",
      "            \"label\": \"./labelsTr/hepaticvessel_235.nii.gz\"\n",
      "        },\n",
      "        {\n",
      "            \"image\": \"./imagesTr/hepaticvessel_236.nii.gz\",\n",
      "            \"label\": \"./labelsTr/hepaticvessel_236.nii.gz\"\n",
      "        },\n",
      "        {\n",
      "            \"image\": \"./imagesTr/hepaticvessel_237.nii.gz\",\n",
      "            \"label\": \"./labelsTr/hepaticvessel_237.nii.gz\"\n",
      "        },\n",
      "        {\n",
      "            \"image\": \"./imagesTr/hepaticvessel_238.nii.gz\",\n",
      "            \"label\": \"./labelsTr/hepaticvessel_238.nii.gz\"\n",
      "        },\n",
      "        {\n",
      "            \"image\": \"./imagesTr/hepaticvessel_240.nii.gz\",\n",
      "            \"label\": \"./labelsTr/hepaticvessel_240.nii.gz\"\n",
      "        },\n",
      "        {\n",
      "            \"image\": \"./imagesTr/hepaticvessel_242.nii.gz\",\n",
      "            \"label\": \"./labelsTr/hepaticvessel_242.nii.gz\"\n",
      "        },\n",
      "        {\n",
      "            \"image\": \"./imagesTr/hepaticvessel_244.nii.gz\",\n",
      "            \"label\": \"./labelsTr/hepaticvessel_244.nii.gz\"\n",
      "        },\n",
      "        {\n",
      "            \"image\": \"./imagesTr/hepaticvessel_245.nii.gz\",\n",
      "            \"label\": \"./labelsTr/hepaticvessel_245.nii.gz\"\n",
      "        },\n",
      "        {\n",
      "            \"image\": \"./imagesTr/hepaticvessel_246.nii.gz\",\n",
      "            \"label\": \"./labelsTr/hepaticvessel_246.nii.gz\"\n",
      "        },\n",
      "        {\n",
      "            \"image\": \"./imagesTr/hepaticvessel_248.nii.gz\",\n",
      "            \"label\": \"./labelsTr/hepaticvessel_248.nii.gz\"\n",
      "        },\n",
      "        {\n",
      "            \"image\": \"./imagesTr/hepaticvessel_255.nii.gz\",\n",
      "            \"label\": \"./labelsTr/hepaticvessel_255.nii.gz\"\n",
      "        },\n",
      "        {\n",
      "            \"image\": \"./imagesTr/hepaticvessel_256.nii.gz\",\n",
      "            \"label\": \"./labelsTr/hepaticvessel_256.nii.gz\"\n",
      "        },\n",
      "        {\n",
      "            \"image\": \"./imagesTr/hepaticvessel_258.nii.gz\",\n",
      "            \"label\": \"./labelsTr/hepaticvessel_258.nii.gz\"\n",
      "        },\n",
      "        {\n",
      "            \"image\": \"./imagesTr/hepaticvessel_259.nii.gz\",\n",
      "            \"label\": \"./labelsTr/hepaticvessel_259.nii.gz\"\n",
      "        },\n",
      "        {\n",
      "            \"image\": \"./imagesTr/hepaticvessel_262.nii.gz\",\n",
      "            \"label\": \"./labelsTr/hepaticvessel_262.nii.gz\"\n",
      "        },\n",
      "        {\n",
      "            \"image\": \"./imagesTr/hepaticvessel_263.nii.gz\",\n",
      "            \"label\": \"./labelsTr/hepaticvessel_263.nii.gz\"\n",
      "        },\n",
      "        {\n",
      "            \"image\": \"./imagesTr/hepaticvessel_265.nii.gz\",\n",
      "            \"label\": \"./labelsTr/hepaticvessel_265.nii.gz\"\n",
      "        },\n",
      "        {\n",
      "            \"image\": \"./imagesTr/hepaticvessel_266.nii.gz\",\n",
      "            \"label\": \"./labelsTr/hepaticvessel_266.nii.gz\"\n",
      "        },\n",
      "        {\n",
      "            \"image\": \"./imagesTr/hepaticvessel_268.nii.gz\",\n",
      "            \"label\": \"./labelsTr/hepaticvessel_268.nii.gz\"\n",
      "        },\n",
      "        {\n",
      "            \"image\": \"./imagesTr/hepaticvessel_269.nii.gz\",\n",
      "            \"label\": \"./labelsTr/hepaticvessel_269.nii.gz\"\n",
      "        },\n",
      "        {\n",
      "            \"image\": \"./imagesTr/hepaticvessel_270.nii.gz\",\n",
      "            \"label\": \"./labelsTr/hepaticvessel_270.nii.gz\"\n",
      "        },\n",
      "        {\n",
      "            \"image\": \"./imagesTr/hepaticvessel_271.nii.gz\",\n",
      "            \"label\": \"./labelsTr/hepaticvessel_271.nii.gz\"\n",
      "        },\n",
      "        {\n",
      "            \"image\": \"./imagesTr/hepaticvessel_272.nii.gz\",\n",
      "            \"label\": \"./labelsTr/hepaticvessel_272.nii.gz\"\n",
      "        },\n",
      "        {\n",
      "            \"image\": \"./imagesTr/hepaticvessel_274.nii.gz\",\n",
      "            \"label\": \"./labelsTr/hepaticvessel_274.nii.gz\"\n",
      "        },\n",
      "        {\n",
      "            \"image\": \"./imagesTr/hepaticvessel_275.nii.gz\",\n",
      "            \"label\": \"./labelsTr/hepaticvessel_275.nii.gz\"\n",
      "        },\n",
      "        {\n",
      "            \"image\": \"./imagesTr/hepaticvessel_278.nii.gz\",\n",
      "            \"label\": \"./labelsTr/hepaticvessel_278.nii.gz\"\n",
      "        },\n",
      "        {\n",
      "            \"image\": \"./imagesTr/hepaticvessel_279.nii.gz\",\n",
      "            \"label\": \"./labelsTr/hepaticvessel_279.nii.gz\"\n",
      "        },\n",
      "        {\n",
      "            \"image\": \"./imagesTr/hepaticvessel_280.nii.gz\",\n",
      "            \"label\": \"./labelsTr/hepaticvessel_280.nii.gz\"\n",
      "        },\n",
      "        {\n",
      "            \"image\": \"./imagesTr/hepaticvessel_281.nii.gz\",\n",
      "            \"label\": \"./labelsTr/hepaticvessel_281.nii.gz\"\n",
      "        },\n",
      "        {\n",
      "            \"image\": \"./imagesTr/hepaticvessel_282.nii.gz\",\n",
      "            \"label\": \"./labelsTr/hepaticvessel_282.nii.gz\"\n",
      "        },\n",
      "        {\n",
      "            \"image\": \"./imagesTr/hepaticvessel_284.nii.gz\",\n",
      "            \"label\": \"./labelsTr/hepaticvessel_284.nii.gz\"\n",
      "        },\n",
      "        {\n",
      "            \"image\": \"./imagesTr/hepaticvessel_285.nii.gz\",\n",
      "            \"label\": \"./labelsTr/hepaticvessel_285.nii.gz\"\n",
      "        },\n",
      "        {\n",
      "            \"image\": \"./imagesTr/hepaticvessel_286.nii.gz\",\n",
      "            \"label\": \"./labelsTr/hepaticvessel_286.nii.gz\"\n",
      "        },\n",
      "        {\n",
      "            \"image\": \"./imagesTr/hepaticvessel_287.nii.gz\",\n",
      "            \"label\": \"./labelsTr/hepaticvessel_287.nii.gz\"\n",
      "        },\n",
      "        {\n",
      "            \"image\": \"./imagesTr/hepaticvessel_289.nii.gz\",\n",
      "            \"label\": \"./labelsTr/hepaticvessel_289.nii.gz\"\n",
      "        },\n",
      "        {\n",
      "            \"image\": \"./imagesTr/hepaticvessel_290.nii.gz\",\n",
      "            \"label\": \"./labelsTr/hepaticvessel_290.nii.gz\"\n",
      "        },\n",
      "        {\n",
      "            \"image\": \"./imagesTr/hepaticvessel_291.nii.gz\",\n",
      "            \"label\": \"./labelsTr/hepaticvessel_291.nii.gz\"\n",
      "        },\n",
      "        {\n",
      "            \"image\": \"./imagesTr/hepaticvessel_293.nii.gz\",\n",
      "            \"label\": \"./labelsTr/hepaticvessel_293.nii.gz\"\n",
      "        },\n",
      "        {\n",
      "            \"image\": \"./imagesTr/hepaticvessel_294.nii.gz\",\n",
      "            \"label\": \"./labelsTr/hepaticvessel_294.nii.gz\"\n",
      "        },\n",
      "        {\n",
      "            \"image\": \"./imagesTr/hepaticvessel_296.nii.gz\",\n",
      "            \"label\": \"./labelsTr/hepaticvessel_296.nii.gz\"\n",
      "        },\n",
      "        {\n",
      "            \"image\": \"./imagesTr/hepaticvessel_297.nii.gz\",\n",
      "            \"label\": \"./labelsTr/hepaticvessel_297.nii.gz\"\n",
      "        },\n",
      "        {\n",
      "            \"image\": \"./imagesTr/hepaticvessel_299.nii.gz\",\n",
      "            \"label\": \"./labelsTr/hepaticvessel_299.nii.gz\"\n",
      "        },\n",
      "        {\n",
      "            \"image\": \"./imagesTr/hepaticvessel_300.nii.gz\",\n",
      "            \"label\": \"./labelsTr/hepaticvessel_300.nii.gz\"\n",
      "        },\n",
      "        {\n",
      "            \"image\": \"./imagesTr/hepaticvessel_303.nii.gz\",\n",
      "            \"label\": \"./labelsTr/hepaticvessel_303.nii.gz\"\n",
      "        },\n",
      "        {\n",
      "            \"image\": \"./imagesTr/hepaticvessel_305.nii.gz\",\n",
      "            \"label\": \"./labelsTr/hepaticvessel_305.nii.gz\"\n",
      "        },\n",
      "        {\n",
      "            \"image\": \"./imagesTr/hepaticvessel_307.nii.gz\",\n",
      "            \"label\": \"./labelsTr/hepaticvessel_307.nii.gz\"\n",
      "        },\n",
      "        {\n",
      "            \"image\": \"./imagesTr/hepaticvessel_308.nii.gz\",\n",
      "            \"label\": \"./labelsTr/hepaticvessel_308.nii.gz\"\n",
      "        },\n",
      "        {\n",
      "            \"image\": \"./imagesTr/hepaticvessel_309.nii.gz\",\n",
      "            \"label\": \"./labelsTr/hepaticvessel_309.nii.gz\"\n",
      "        },\n",
      "        {\n",
      "            \"image\": \"./imagesTr/hepaticvessel_314.nii.gz\",\n",
      "            \"label\": \"./labelsTr/hepaticvessel_314.nii.gz\"\n",
      "        },\n",
      "        {\n",
      "            \"image\": \"./imagesTr/hepaticvessel_318.nii.gz\",\n",
      "            \"label\": \"./labelsTr/hepaticvessel_318.nii.gz\"\n",
      "        },\n",
      "        {\n",
      "            \"image\": \"./imagesTr/hepaticvessel_319.nii.gz\",\n",
      "            \"label\": \"./labelsTr/hepaticvessel_319.nii.gz\"\n",
      "        },\n",
      "        {\n",
      "            \"image\": \"./imagesTr/hepaticvessel_320.nii.gz\",\n",
      "            \"label\": \"./labelsTr/hepaticvessel_320.nii.gz\"\n",
      "        },\n",
      "        {\n",
      "            \"image\": \"./imagesTr/hepaticvessel_321.nii.gz\",\n",
      "            \"label\": \"./labelsTr/hepaticvessel_321.nii.gz\"\n",
      "        },\n",
      "        {\n",
      "            \"image\": \"./imagesTr/hepaticvessel_322.nii.gz\",\n",
      "            \"label\": \"./labelsTr/hepaticvessel_322.nii.gz\"\n",
      "        },\n",
      "        {\n",
      "            \"image\": \"./imagesTr/hepaticvessel_323.nii.gz\",\n",
      "            \"label\": \"./labelsTr/hepaticvessel_323.nii.gz\"\n",
      "        },\n",
      "        {\n",
      "            \"image\": \"./imagesTr/hepaticvessel_324.nii.gz\",\n",
      "            \"label\": \"./labelsTr/hepaticvessel_324.nii.gz\"\n",
      "        },\n",
      "        {\n",
      "            \"image\": \"./imagesTr/hepaticvessel_325.nii.gz\",\n",
      "            \"label\": \"./labelsTr/hepaticvessel_325.nii.gz\"\n",
      "        },\n",
      "        {\n",
      "            \"image\": \"./imagesTr/hepaticvessel_327.nii.gz\",\n",
      "            \"label\": \"./labelsTr/hepaticvessel_327.nii.gz\"\n",
      "        },\n",
      "        {\n",
      "            \"image\": \"./imagesTr/hepaticvessel_329.nii.gz\",\n",
      "            \"label\": \"./labelsTr/hepaticvessel_329.nii.gz\"\n",
      "        },\n",
      "        {\n",
      "            \"image\": \"./imagesTr/hepaticvessel_330.nii.gz\",\n",
      "            \"label\": \"./labelsTr/hepaticvessel_330.nii.gz\"\n",
      "        },\n",
      "        {\n",
      "            \"image\": \"./imagesTr/hepaticvessel_332.nii.gz\",\n",
      "            \"label\": \"./labelsTr/hepaticvessel_332.nii.gz\"\n",
      "        },\n",
      "        {\n",
      "            \"image\": \"./imagesTr/hepaticvessel_333.nii.gz\",\n",
      "            \"label\": \"./labelsTr/hepaticvessel_333.nii.gz\"\n",
      "        },\n",
      "        {\n",
      "            \"image\": \"./imagesTr/hepaticvessel_335.nii.gz\",\n",
      "            \"label\": \"./labelsTr/hepaticvessel_335.nii.gz\"\n",
      "        },\n",
      "        {\n",
      "            \"image\": \"./imagesTr/hepaticvessel_336.nii.gz\",\n",
      "            \"label\": \"./labelsTr/hepaticvessel_336.nii.gz\"\n",
      "        },\n",
      "        {\n",
      "            \"image\": \"./imagesTr/hepaticvessel_338.nii.gz\",\n",
      "            \"label\": \"./labelsTr/hepaticvessel_338.nii.gz\"\n",
      "        },\n",
      "        {\n",
      "            \"image\": \"./imagesTr/hepaticvessel_340.nii.gz\",\n",
      "            \"label\": \"./labelsTr/hepaticvessel_340.nii.gz\"\n",
      "        },\n",
      "        {\n",
      "            \"image\": \"./imagesTr/hepaticvessel_341.nii.gz\",\n",
      "            \"label\": \"./labelsTr/hepaticvessel_341.nii.gz\"\n",
      "        },\n",
      "        {\n",
      "            \"image\": \"./imagesTr/hepaticvessel_344.nii.gz\",\n",
      "            \"label\": \"./labelsTr/hepaticvessel_344.nii.gz\"\n",
      "        },\n",
      "        {\n",
      "            \"image\": \"./imagesTr/hepaticvessel_345.nii.gz\",\n",
      "            \"label\": \"./labelsTr/hepaticvessel_345.nii.gz\"\n",
      "        },\n",
      "        {\n",
      "            \"image\": \"./imagesTr/hepaticvessel_348.nii.gz\",\n",
      "            \"label\": \"./labelsTr/hepaticvessel_348.nii.gz\"\n",
      "        },\n",
      "        {\n",
      "            \"image\": \"./imagesTr/hepaticvessel_349.nii.gz\",\n",
      "            \"label\": \"./labelsTr/hepaticvessel_349.nii.gz\"\n",
      "        },\n",
      "        {\n",
      "            \"image\": \"./imagesTr/hepaticvessel_350.nii.gz\",\n",
      "            \"label\": \"./labelsTr/hepaticvessel_350.nii.gz\"\n",
      "        },\n",
      "        {\n",
      "            \"image\": \"./imagesTr/hepaticvessel_353.nii.gz\",\n",
      "            \"label\": \"./labelsTr/hepaticvessel_353.nii.gz\"\n",
      "        },\n",
      "        {\n",
      "            \"image\": \"./imagesTr/hepaticvessel_356.nii.gz\",\n",
      "            \"label\": \"./labelsTr/hepaticvessel_356.nii.gz\"\n",
      "        },\n",
      "        {\n",
      "            \"image\": \"./imagesTr/hepaticvessel_358.nii.gz\",\n",
      "            \"label\": \"./labelsTr/hepaticvessel_358.nii.gz\"\n",
      "        },\n",
      "        {\n",
      "            \"image\": \"./imagesTr/hepaticvessel_359.nii.gz\",\n",
      "            \"label\": \"./labelsTr/hepaticvessel_359.nii.gz\"\n",
      "        },\n",
      "        {\n",
      "            \"image\": \"./imagesTr/hepaticvessel_361.nii.gz\",\n",
      "            \"label\": \"./labelsTr/hepaticvessel_361.nii.gz\"\n",
      "        },\n",
      "        {\n",
      "            \"image\": \"./imagesTr/hepaticvessel_362.nii.gz\",\n",
      "            \"label\": \"./labelsTr/hepaticvessel_362.nii.gz\"\n",
      "        },\n",
      "        {\n",
      "            \"image\": \"./imagesTr/hepaticvessel_363.nii.gz\",\n",
      "            \"label\": \"./labelsTr/hepaticvessel_363.nii.gz\"\n",
      "        },\n",
      "        {\n",
      "            \"image\": \"./imagesTr/hepaticvessel_367.nii.gz\",\n",
      "            \"label\": \"./labelsTr/hepaticvessel_367.nii.gz\"\n",
      "        },\n",
      "        {\n",
      "            \"image\": \"./imagesTr/hepaticvessel_368.nii.gz\",\n",
      "            \"label\": \"./labelsTr/hepaticvessel_368.nii.gz\"\n",
      "        },\n",
      "        {\n",
      "            \"image\": \"./imagesTr/hepaticvessel_369.nii.gz\",\n",
      "            \"label\": \"./labelsTr/hepaticvessel_369.nii.gz\"\n",
      "        },\n",
      "        {\n",
      "            \"image\": \"./imagesTr/hepaticvessel_371.nii.gz\",\n",
      "            \"label\": \"./labelsTr/hepaticvessel_371.nii.gz\"\n",
      "        },\n",
      "        {\n",
      "            \"image\": \"./imagesTr/hepaticvessel_372.nii.gz\",\n",
      "            \"label\": \"./labelsTr/hepaticvessel_372.nii.gz\"\n",
      "        },\n",
      "        {\n",
      "            \"image\": \"./imagesTr/hepaticvessel_373.nii.gz\",\n",
      "            \"label\": \"./labelsTr/hepaticvessel_373.nii.gz\"\n",
      "        },\n",
      "        {\n",
      "            \"image\": \"./imagesTr/hepaticvessel_374.nii.gz\",\n",
      "            \"label\": \"./labelsTr/hepaticvessel_374.nii.gz\"\n",
      "        },\n",
      "        {\n",
      "            \"image\": \"./imagesTr/hepaticvessel_375.nii.gz\",\n",
      "            \"label\": \"./labelsTr/hepaticvessel_375.nii.gz\"\n",
      "        },\n",
      "        {\n",
      "            \"image\": \"./imagesTr/hepaticvessel_378.nii.gz\",\n",
      "            \"label\": \"./labelsTr/hepaticvessel_378.nii.gz\"\n",
      "        },\n",
      "        {\n",
      "            \"image\": \"./imagesTr/hepaticvessel_379.nii.gz\",\n",
      "            \"label\": \"./labelsTr/hepaticvessel_379.nii.gz\"\n",
      "        },\n",
      "        {\n",
      "            \"image\": \"./imagesTr/hepaticvessel_382.nii.gz\",\n",
      "            \"label\": \"./labelsTr/hepaticvessel_382.nii.gz\"\n",
      "        },\n",
      "        {\n",
      "            \"image\": \"./imagesTr/hepaticvessel_383.nii.gz\",\n",
      "            \"label\": \"./labelsTr/hepaticvessel_383.nii.gz\"\n",
      "        },\n",
      "        {\n",
      "            \"image\": \"./imagesTr/hepaticvessel_384.nii.gz\",\n",
      "            \"label\": \"./labelsTr/hepaticvessel_384.nii.gz\"\n",
      "        },\n",
      "        {\n",
      "            \"image\": \"./imagesTr/hepaticvessel_385.nii.gz\",\n",
      "            \"label\": \"./labelsTr/hepaticvessel_385.nii.gz\"\n",
      "        },\n",
      "        {\n",
      "            \"image\": \"./imagesTr/hepaticvessel_386.nii.gz\",\n",
      "            \"label\": \"./labelsTr/hepaticvessel_386.nii.gz\"\n",
      "        },\n",
      "        {\n",
      "            \"image\": \"./imagesTr/hepaticvessel_388.nii.gz\",\n",
      "            \"label\": \"./labelsTr/hepaticvessel_388.nii.gz\"\n",
      "        },\n",
      "        {\n",
      "            \"image\": \"./imagesTr/hepaticvessel_389.nii.gz\",\n",
      "            \"label\": \"./labelsTr/hepaticvessel_389.nii.gz\"\n",
      "        },\n",
      "        {\n",
      "            \"image\": \"./imagesTr/hepaticvessel_391.nii.gz\",\n",
      "            \"label\": \"./labelsTr/hepaticvessel_391.nii.gz\"\n",
      "        },\n",
      "        {\n",
      "            \"image\": \"./imagesTr/hepaticvessel_393.nii.gz\",\n",
      "            \"label\": \"./labelsTr/hepaticvessel_393.nii.gz\"\n",
      "        },\n",
      "        {\n",
      "            \"image\": \"./imagesTr/hepaticvessel_396.nii.gz\",\n",
      "            \"label\": \"./labelsTr/hepaticvessel_396.nii.gz\"\n",
      "        },\n",
      "        {\n",
      "            \"image\": \"./imagesTr/hepaticvessel_397.nii.gz\",\n",
      "            \"label\": \"./labelsTr/hepaticvessel_397.nii.gz\"\n",
      "        },\n",
      "        {\n",
      "            \"image\": \"./imagesTr/hepaticvessel_398.nii.gz\",\n",
      "            \"label\": \"./labelsTr/hepaticvessel_398.nii.gz\"\n",
      "        },\n",
      "        {\n",
      "            \"image\": \"./imagesTr/hepaticvessel_400.nii.gz\",\n",
      "            \"label\": \"./labelsTr/hepaticvessel_400.nii.gz\"\n",
      "        },\n",
      "        {\n",
      "            \"image\": \"./imagesTr/hepaticvessel_401.nii.gz\",\n",
      "            \"label\": \"./labelsTr/hepaticvessel_401.nii.gz\"\n",
      "        },\n",
      "        {\n",
      "            \"image\": \"./imagesTr/hepaticvessel_402.nii.gz\",\n",
      "            \"label\": \"./labelsTr/hepaticvessel_402.nii.gz\"\n",
      "        },\n",
      "        {\n",
      "            \"image\": \"./imagesTr/hepaticvessel_404.nii.gz\",\n",
      "            \"label\": \"./labelsTr/hepaticvessel_404.nii.gz\"\n",
      "        },\n",
      "        {\n",
      "            \"image\": \"./imagesTr/hepaticvessel_406.nii.gz\",\n",
      "            \"label\": \"./labelsTr/hepaticvessel_406.nii.gz\"\n",
      "        },\n",
      "        {\n",
      "            \"image\": \"./imagesTr/hepaticvessel_407.nii.gz\",\n",
      "            \"label\": \"./labelsTr/hepaticvessel_407.nii.gz\"\n",
      "        },\n",
      "        {\n",
      "            \"image\": \"./imagesTr/hepaticvessel_408.nii.gz\",\n",
      "            \"label\": \"./labelsTr/hepaticvessel_408.nii.gz\"\n",
      "        },\n",
      "        {\n",
      "            \"image\": \"./imagesTr/hepaticvessel_409.nii.gz\",\n",
      "            \"label\": \"./labelsTr/hepaticvessel_409.nii.gz\"\n",
      "        },\n",
      "        {\n",
      "            \"image\": \"./imagesTr/hepaticvessel_411.nii.gz\",\n",
      "            \"label\": \"./labelsTr/hepaticvessel_411.nii.gz\"\n",
      "        },\n",
      "        {\n",
      "            \"image\": \"./imagesTr/hepaticvessel_412.nii.gz\",\n",
      "            \"label\": \"./labelsTr/hepaticvessel_412.nii.gz\"\n",
      "        },\n",
      "        {\n",
      "            \"image\": \"./imagesTr/hepaticvessel_416.nii.gz\",\n",
      "            \"label\": \"./labelsTr/hepaticvessel_416.nii.gz\"\n",
      "        },\n",
      "        {\n",
      "            \"image\": \"./imagesTr/hepaticvessel_419.nii.gz\",\n",
      "            \"label\": \"./labelsTr/hepaticvessel_419.nii.gz\"\n",
      "        },\n",
      "        {\n",
      "            \"image\": \"./imagesTr/hepaticvessel_420.nii.gz\",\n",
      "            \"label\": \"./labelsTr/hepaticvessel_420.nii.gz\"\n",
      "        },\n",
      "        {\n",
      "            \"image\": \"./imagesTr/hepaticvessel_422.nii.gz\",\n",
      "            \"label\": \"./labelsTr/hepaticvessel_422.nii.gz\"\n",
      "        },\n",
      "        {\n",
      "            \"image\": \"./imagesTr/hepaticvessel_423.nii.gz\",\n",
      "            \"label\": \"./labelsTr/hepaticvessel_423.nii.gz\"\n",
      "        },\n",
      "        {\n",
      "            \"image\": \"./imagesTr/hepaticvessel_424.nii.gz\",\n",
      "            \"label\": \"./labelsTr/hepaticvessel_424.nii.gz\"\n",
      "        },\n",
      "        {\n",
      "            \"image\": \"./imagesTr/hepaticvessel_425.nii.gz\",\n",
      "            \"label\": \"./labelsTr/hepaticvessel_425.nii.gz\"\n",
      "        },\n",
      "        {\n",
      "            \"image\": \"./imagesTr/hepaticvessel_427.nii.gz\",\n",
      "            \"label\": \"./labelsTr/hepaticvessel_427.nii.gz\"\n",
      "        },\n",
      "        {\n",
      "            \"image\": \"./imagesTr/hepaticvessel_429.nii.gz\",\n",
      "            \"label\": \"./labelsTr/hepaticvessel_429.nii.gz\"\n",
      "        },\n",
      "        {\n",
      "            \"image\": \"./imagesTr/hepaticvessel_431.nii.gz\",\n",
      "            \"label\": \"./labelsTr/hepaticvessel_431.nii.gz\"\n",
      "        },\n",
      "        {\n",
      "            \"image\": \"./imagesTr/hepaticvessel_432.nii.gz\",\n",
      "            \"label\": \"./labelsTr/hepaticvessel_432.nii.gz\"\n",
      "        },\n",
      "        {\n",
      "            \"image\": \"./imagesTr/hepaticvessel_433.nii.gz\",\n",
      "            \"label\": \"./labelsTr/hepaticvessel_433.nii.gz\"\n",
      "        },\n",
      "        {\n",
      "            \"image\": \"./imagesTr/hepaticvessel_434.nii.gz\",\n",
      "            \"label\": \"./labelsTr/hepaticvessel_434.nii.gz\"\n",
      "        },\n",
      "        {\n",
      "            \"image\": \"./imagesTr/hepaticvessel_437.nii.gz\",\n",
      "            \"label\": \"./labelsTr/hepaticvessel_437.nii.gz\"\n",
      "        },\n",
      "        {\n",
      "            \"image\": \"./imagesTr/hepaticvessel_438.nii.gz\",\n",
      "            \"label\": \"./labelsTr/hepaticvessel_438.nii.gz\"\n",
      "        },\n",
      "        {\n",
      "            \"image\": \"./imagesTr/hepaticvessel_440.nii.gz\",\n",
      "            \"label\": \"./labelsTr/hepaticvessel_440.nii.gz\"\n",
      "        },\n",
      "        {\n",
      "            \"image\": \"./imagesTr/hepaticvessel_441.nii.gz\",\n",
      "            \"label\": \"./labelsTr/hepaticvessel_441.nii.gz\"\n",
      "        },\n",
      "        {\n",
      "            \"image\": \"./imagesTr/hepaticvessel_442.nii.gz\",\n",
      "            \"label\": \"./labelsTr/hepaticvessel_442.nii.gz\"\n",
      "        },\n",
      "        {\n",
      "            \"image\": \"./imagesTr/hepaticvessel_443.nii.gz\",\n",
      "            \"label\": \"./labelsTr/hepaticvessel_443.nii.gz\"\n",
      "        },\n",
      "        {\n",
      "            \"image\": \"./imagesTr/hepaticvessel_444.nii.gz\",\n",
      "            \"label\": \"./labelsTr/hepaticvessel_444.nii.gz\"\n",
      "        },\n",
      "        {\n",
      "            \"image\": \"./imagesTr/hepaticvessel_445.nii.gz\",\n",
      "            \"label\": \"./labelsTr/hepaticvessel_445.nii.gz\"\n",
      "        },\n",
      "        {\n",
      "            \"image\": \"./imagesTr/hepaticvessel_446.nii.gz\",\n",
      "            \"label\": \"./labelsTr/hepaticvessel_446.nii.gz\"\n",
      "        },\n",
      "        {\n",
      "            \"image\": \"./imagesTr/hepaticvessel_447.nii.gz\",\n",
      "            \"label\": \"./labelsTr/hepaticvessel_447.nii.gz\"\n",
      "        },\n",
      "        {\n",
      "            \"image\": \"./imagesTr/hepaticvessel_453.nii.gz\",\n",
      "            \"label\": \"./labelsTr/hepaticvessel_453.nii.gz\"\n",
      "        },\n",
      "        {\n",
      "            \"image\": \"./imagesTr/hepaticvessel_454.nii.gz\",\n",
      "            \"label\": \"./labelsTr/hepaticvessel_454.nii.gz\"\n",
      "        },\n",
      "        {\n",
      "            \"image\": \"./imagesTr/hepaticvessel_455.nii.gz\",\n",
      "            \"label\": \"./labelsTr/hepaticvessel_455.nii.gz\"\n",
      "        },\n",
      "        {\n",
      "            \"image\": \"./imagesTr/hepaticvessel_456.nii.gz\",\n",
      "            \"label\": \"./labelsTr/hepaticvessel_456.nii.gz\"\n",
      "        },\n",
      "        {\n",
      "            \"image\": \"./imagesTr/hepaticvessel_458.nii.gz\",\n",
      "            \"label\": \"./labelsTr/hepaticvessel_458.nii.gz\"\n",
      "        }\n",
      "    ],\n",
      "    \"test\": [\n",
      "        \"./imagesTs/hepaticvessel_003.nii.gz\",\n",
      "        \"./imagesTs/hepaticvessel_009.nii.gz\",\n",
      "        \"./imagesTs/hepaticvessel_012.nii.gz\",\n",
      "        \"./imagesTs/hepaticvessel_014.nii.gz\",\n",
      "        \"./imagesTs/hepaticvessel_015.nii.gz\",\n",
      "        \"./imagesTs/hepaticvessel_017.nii.gz\",\n",
      "        \"./imagesTs/hepaticvessel_021.nii.gz\",\n",
      "        \"./imagesTs/hepaticvessel_024.nii.gz\",\n",
      "        \"./imagesTs/hepaticvessel_034.nii.gz\",\n",
      "        \"./imagesTs/hepaticvessel_035.nii.gz\",\n",
      "        \"./imagesTs/hepaticvessel_036.nii.gz\",\n",
      "        \"./imagesTs/hepaticvessel_037.nii.gz\",\n",
      "        \"./imagesTs/hepaticvessel_038.nii.gz\",\n",
      "        \"./imagesTs/hepaticvessel_041.nii.gz\",\n",
      "        \"./imagesTs/hepaticvessel_043.nii.gz\",\n",
      "        \"./imagesTs/hepaticvessel_045.nii.gz\",\n",
      "        \"./imagesTs/hepaticvessel_047.nii.gz\",\n",
      "        \"./imagesTs/hepaticvessel_048.nii.gz\",\n",
      "        \"./imagesTs/hepaticvessel_054.nii.gz\",\n",
      "        \"./imagesTs/hepaticvessel_055.nii.gz\",\n",
      "        \"./imagesTs/hepaticvessel_056.nii.gz\",\n",
      "        \"./imagesTs/hepaticvessel_060.nii.gz\",\n",
      "        \"./imagesTs/hepaticvessel_063.nii.gz\",\n",
      "        \"./imagesTs/hepaticvessel_064.nii.gz\",\n",
      "        \"./imagesTs/hepaticvessel_069.nii.gz\",\n",
      "        \"./imagesTs/hepaticvessel_073.nii.gz\",\n",
      "        \"./imagesTs/hepaticvessel_074.nii.gz\",\n",
      "        \"./imagesTs/hepaticvessel_076.nii.gz\",\n",
      "        \"./imagesTs/hepaticvessel_095.nii.gz\",\n",
      "        \"./imagesTs/hepaticvessel_099.nii.gz\",\n",
      "        \"./imagesTs/hepaticvessel_101.nii.gz\",\n",
      "        \"./imagesTs/hepaticvessel_105.nii.gz\",\n",
      "        \"./imagesTs/hepaticvessel_106.nii.gz\",\n",
      "        \"./imagesTs/hepaticvessel_107.nii.gz\",\n",
      "        \"./imagesTs/hepaticvessel_109.nii.gz\",\n",
      "        \"./imagesTs/hepaticvessel_114.nii.gz\",\n",
      "        \"./imagesTs/hepaticvessel_118.nii.gz\",\n",
      "        \"./imagesTs/hepaticvessel_120.nii.gz\",\n",
      "        \"./imagesTs/hepaticvessel_122.nii.gz\",\n",
      "        \"./imagesTs/hepaticvessel_126.nii.gz\",\n",
      "        \"./imagesTs/hepaticvessel_130.nii.gz\",\n",
      "        \"./imagesTs/hepaticvessel_134.nii.gz\",\n",
      "        \"./imagesTs/hepaticvessel_135.nii.gz\",\n",
      "        \"./imagesTs/hepaticvessel_143.nii.gz\",\n",
      "        \"./imagesTs/hepaticvessel_149.nii.gz\",\n",
      "        \"./imagesTs/hepaticvessel_153.nii.gz\",\n",
      "        \"./imagesTs/hepaticvessel_156.nii.gz\",\n",
      "        \"./imagesTs/hepaticvessel_162.nii.gz\",\n",
      "        \"./imagesTs/hepaticvessel_168.nii.gz\",\n",
      "        \"./imagesTs/hepaticvessel_169.nii.gz\",\n",
      "        \"./imagesTs/hepaticvessel_170.nii.gz\",\n",
      "        \"./imagesTs/hepaticvessel_176.nii.gz\",\n",
      "        \"./imagesTs/hepaticvessel_180.nii.gz\",\n",
      "        \"./imagesTs/hepaticvessel_182.nii.gz\",\n",
      "        \"./imagesTs/hepaticvessel_187.nii.gz\",\n",
      "        \"./imagesTs/hepaticvessel_188.nii.gz\",\n",
      "        \"./imagesTs/hepaticvessel_190.nii.gz\",\n",
      "        \"./imagesTs/hepaticvessel_191.nii.gz\",\n",
      "        \"./imagesTs/hepaticvessel_202.nii.gz\",\n",
      "        \"./imagesTs/hepaticvessel_204.nii.gz\",\n",
      "        \"./imagesTs/hepaticvessel_205.nii.gz\",\n",
      "        \"./imagesTs/hepaticvessel_212.nii.gz\",\n",
      "        \"./imagesTs/hepaticvessel_216.nii.gz\",\n",
      "        \"./imagesTs/hepaticvessel_220.nii.gz\",\n",
      "        \"./imagesTs/hepaticvessel_228.nii.gz\",\n",
      "        \"./imagesTs/hepaticvessel_232.nii.gz\",\n",
      "        \"./imagesTs/hepaticvessel_241.nii.gz\",\n",
      "        \"./imagesTs/hepaticvessel_243.nii.gz\",\n",
      "        \"./imagesTs/hepaticvessel_250.nii.gz\",\n",
      "        \"./imagesTs/hepaticvessel_251.nii.gz\",\n",
      "        \"./imagesTs/hepaticvessel_252.nii.gz\",\n",
      "        \"./imagesTs/hepaticvessel_254.nii.gz\",\n",
      "        \"./imagesTs/hepaticvessel_261.nii.gz\",\n",
      "        \"./imagesTs/hepaticvessel_264.nii.gz\",\n",
      "        \"./imagesTs/hepaticvessel_267.nii.gz\",\n",
      "        \"./imagesTs/hepaticvessel_273.nii.gz\",\n",
      "        \"./imagesTs/hepaticvessel_276.nii.gz\",\n",
      "        \"./imagesTs/hepaticvessel_277.nii.gz\",\n",
      "        \"./imagesTs/hepaticvessel_292.nii.gz\",\n",
      "        \"./imagesTs/hepaticvessel_298.nii.gz\",\n",
      "        \"./imagesTs/hepaticvessel_301.nii.gz\",\n",
      "        \"./imagesTs/hepaticvessel_302.nii.gz\",\n",
      "        \"./imagesTs/hepaticvessel_304.nii.gz\",\n",
      "        \"./imagesTs/hepaticvessel_306.nii.gz\",\n",
      "        \"./imagesTs/hepaticvessel_310.nii.gz\",\n",
      "        \"./imagesTs/hepaticvessel_312.nii.gz\",\n",
      "        \"./imagesTs/hepaticvessel_313.nii.gz\",\n",
      "        \"./imagesTs/hepaticvessel_315.nii.gz\",\n",
      "        \"./imagesTs/hepaticvessel_316.nii.gz\",\n",
      "        \"./imagesTs/hepaticvessel_317.nii.gz\",\n",
      "        \"./imagesTs/hepaticvessel_326.nii.gz\",\n",
      "        \"./imagesTs/hepaticvessel_328.nii.gz\",\n",
      "        \"./imagesTs/hepaticvessel_331.nii.gz\",\n",
      "        \"./imagesTs/hepaticvessel_334.nii.gz\",\n",
      "        \"./imagesTs/hepaticvessel_337.nii.gz\",\n",
      "        \"./imagesTs/hepaticvessel_339.nii.gz\",\n",
      "        \"./imagesTs/hepaticvessel_342.nii.gz\",\n",
      "        \"./imagesTs/hepaticvessel_343.nii.gz\",\n",
      "        \"./imagesTs/hepaticvessel_346.nii.gz\",\n",
      "        \"./imagesTs/hepaticvessel_347.nii.gz\",\n",
      "        \"./imagesTs/hepaticvessel_351.nii.gz\",\n",
      "        \"./imagesTs/hepaticvessel_352.nii.gz\",\n",
      "        \"./imagesTs/hepaticvessel_354.nii.gz\",\n",
      "        \"./imagesTs/hepaticvessel_355.nii.gz\",\n",
      "        \"./imagesTs/hepaticvessel_357.nii.gz\",\n",
      "        \"./imagesTs/hepaticvessel_360.nii.gz\",\n",
      "        \"./imagesTs/hepaticvessel_364.nii.gz\",\n",
      "        \"./imagesTs/hepaticvessel_365.nii.gz\",\n",
      "        \"./imagesTs/hepaticvessel_366.nii.gz\",\n",
      "        \"./imagesTs/hepaticvessel_370.nii.gz\",\n",
      "        \"./imagesTs/hepaticvessel_376.nii.gz\",\n",
      "        \"./imagesTs/hepaticvessel_377.nii.gz\",\n",
      "        \"./imagesTs/hepaticvessel_380.nii.gz\",\n",
      "        \"./imagesTs/hepaticvessel_381.nii.gz\",\n",
      "        \"./imagesTs/hepaticvessel_387.nii.gz\",\n",
      "        \"./imagesTs/hepaticvessel_390.nii.gz\",\n",
      "        \"./imagesTs/hepaticvessel_392.nii.gz\",\n",
      "        \"./imagesTs/hepaticvessel_394.nii.gz\",\n",
      "        \"./imagesTs/hepaticvessel_395.nii.gz\",\n",
      "        \"./imagesTs/hepaticvessel_399.nii.gz\",\n",
      "        \"./imagesTs/hepaticvessel_403.nii.gz\",\n",
      "        \"./imagesTs/hepaticvessel_410.nii.gz\",\n",
      "        \"./imagesTs/hepaticvessel_414.nii.gz\",\n",
      "        \"./imagesTs/hepaticvessel_415.nii.gz\",\n",
      "        \"./imagesTs/hepaticvessel_417.nii.gz\",\n",
      "        \"./imagesTs/hepaticvessel_418.nii.gz\",\n",
      "        \"./imagesTs/hepaticvessel_421.nii.gz\",\n",
      "        \"./imagesTs/hepaticvessel_426.nii.gz\",\n",
      "        \"./imagesTs/hepaticvessel_428.nii.gz\",\n",
      "        \"./imagesTs/hepaticvessel_430.nii.gz\",\n",
      "        \"./imagesTs/hepaticvessel_435.nii.gz\",\n",
      "        \"./imagesTs/hepaticvessel_436.nii.gz\",\n",
      "        \"./imagesTs/hepaticvessel_439.nii.gz\",\n",
      "        \"./imagesTs/hepaticvessel_448.nii.gz\",\n",
      "        \"./imagesTs/hepaticvessel_450.nii.gz\",\n",
      "        \"./imagesTs/hepaticvessel_451.nii.gz\",\n",
      "        \"./imagesTs/hepaticvessel_452.nii.gz\",\n",
      "        \"./imagesTs/hepaticvessel_457.nii.gz\",\n",
      "        \"./imagesTs/hepaticvessel_460.nii.gz\"\n",
      "    ]\n",
      "}\n"
     ]
    }
   ],
   "source": [
    "print(json.dumps(data_description, indent=4))"
   ]
  },
  {
   "cell_type": "markdown",
   "id": "revised-calgary",
   "metadata": {},
   "source": [
    "### Reading and visualizing hepaticvessel_001 nifti CT and mask files"
   ]
  },
  {
   "cell_type": "markdown",
   "id": "thirty-seattle",
   "metadata": {},
   "source": [
    "#### CT file"
   ]
  },
  {
   "cell_type": "code",
   "execution_count": 4,
   "id": "choice-softball",
   "metadata": {},
   "outputs": [],
   "source": [
    "ct_1 = nib.load(\"../../datasets/Task08_HepaticVessel/train/images/hepaticvessel_001.nii.gz\")"
   ]
  },
  {
   "cell_type": "code",
   "execution_count": 5,
   "id": "received-fitting",
   "metadata": {},
   "outputs": [
    {
     "data": {
      "text/plain": [
       "nibabel.nifti1.Nifti1Image"
      ]
     },
     "execution_count": 5,
     "metadata": {},
     "output_type": "execute_result"
    }
   ],
   "source": [
    "type(ct_1)"
   ]
  },
  {
   "cell_type": "code",
   "execution_count": 6,
   "id": "personal-average",
   "metadata": {},
   "outputs": [],
   "source": [
    "# Read Nifi Image object as numpy file\n",
    "ct_1 = ct_1.get_fdata()"
   ]
  },
  {
   "cell_type": "code",
   "execution_count": 7,
   "id": "comparable-torture",
   "metadata": {},
   "outputs": [
    {
     "data": {
      "text/plain": [
       "numpy.ndarray"
      ]
     },
     "execution_count": 7,
     "metadata": {},
     "output_type": "execute_result"
    }
   ],
   "source": [
    "type(ct_1)"
   ]
  },
  {
   "cell_type": "code",
   "execution_count": 8,
   "id": "contained-occasions",
   "metadata": {},
   "outputs": [
    {
     "data": {
      "text/plain": [
       "dtype('float64')"
      ]
     },
     "execution_count": 8,
     "metadata": {},
     "output_type": "execute_result"
    }
   ],
   "source": [
    "ct_1.dtype"
   ]
  },
  {
   "cell_type": "code",
   "execution_count": 9,
   "id": "cooperative-blackjack",
   "metadata": {},
   "outputs": [
    {
     "data": {
      "text/plain": [
       "(512, 512, 49)"
      ]
     },
     "execution_count": 9,
     "metadata": {},
     "output_type": "execute_result"
    }
   ],
   "source": [
    "ct_1.shape"
   ]
  },
  {
   "cell_type": "code",
   "execution_count": 10,
   "id": "affected-disaster",
   "metadata": {},
   "outputs": [
    {
     "name": "stdout",
     "output_type": "stream",
     "text": [
      "2313.0\n"
     ]
    }
   ],
   "source": [
    "# Range of voxel values (maximum value - minimum value)\n",
    "print(ct_1[:, :, :].ptp())"
   ]
  },
  {
   "cell_type": "code",
   "execution_count": 11,
   "id": "coastal-steering",
   "metadata": {},
   "outputs": [
    {
     "data": {
      "text/plain": [
       "102760576"
      ]
     },
     "execution_count": 11,
     "metadata": {},
     "output_type": "execute_result"
    }
   ],
   "source": [
    "getsizeof(ct_1) # 102.760576 MBs"
   ]
  },
  {
   "cell_type": "code",
   "execution_count": 12,
   "id": "egyptian-citizenship",
   "metadata": {},
   "outputs": [
    {
     "data": {
      "text/plain": [
       "51380352"
      ]
     },
     "execution_count": 12,
     "metadata": {},
     "output_type": "execute_result"
    }
   ],
   "source": [
    "getsizeof(ct_1.astype(np.float32)) # 51.380352 MBs"
   ]
  },
  {
   "cell_type": "code",
   "execution_count": 13,
   "id": "advised-complexity",
   "metadata": {},
   "outputs": [
    {
     "data": {
      "text/plain": [
       "25690240"
      ]
     },
     "execution_count": 13,
     "metadata": {},
     "output_type": "execute_result"
    }
   ],
   "source": [
    "getsizeof(ct_1.astype(np.float16)) # 25.69024 MBs"
   ]
  },
  {
   "cell_type": "markdown",
   "id": "shared-weight",
   "metadata": {},
   "source": [
    "#### Mask file"
   ]
  },
  {
   "cell_type": "code",
   "execution_count": 14,
   "id": "paperback-times",
   "metadata": {},
   "outputs": [],
   "source": [
    "ct_1_mask = nib.load(\"../../datasets/Task08_HepaticVessel/train/masks/hepaticvessel_001.nii.gz\")"
   ]
  },
  {
   "cell_type": "code",
   "execution_count": 15,
   "id": "every-advertising",
   "metadata": {},
   "outputs": [],
   "source": [
    "ct_1_mask = ct_1_mask.get_fdata()"
   ]
  },
  {
   "cell_type": "code",
   "execution_count": 16,
   "id": "blank-protocol",
   "metadata": {},
   "outputs": [
    {
     "data": {
      "text/plain": [
       "dtype('float64')"
      ]
     },
     "execution_count": 16,
     "metadata": {},
     "output_type": "execute_result"
    }
   ],
   "source": [
    "ct_1_mask.dtype"
   ]
  },
  {
   "cell_type": "code",
   "execution_count": 17,
   "id": "mathematical-hygiene",
   "metadata": {},
   "outputs": [
    {
     "data": {
      "text/plain": [
       "102760576"
      ]
     },
     "execution_count": 17,
     "metadata": {},
     "output_type": "execute_result"
    }
   ],
   "source": [
    "getsizeof(ct_1_mask) # 102.760576 MBs"
   ]
  },
  {
   "cell_type": "code",
   "execution_count": 18,
   "id": "mental-reynolds",
   "metadata": {
    "scrolled": true
   },
   "outputs": [
    {
     "data": {
      "text/plain": [
       "51380352"
      ]
     },
     "execution_count": 18,
     "metadata": {},
     "output_type": "execute_result"
    }
   ],
   "source": [
    "getsizeof(ct_1_mask.astype(np.float32)) # 51.380352 MBs"
   ]
  },
  {
   "cell_type": "code",
   "execution_count": 19,
   "id": "local-broadway",
   "metadata": {},
   "outputs": [
    {
     "data": {
      "text/plain": [
       "12845184"
      ]
     },
     "execution_count": 19,
     "metadata": {},
     "output_type": "execute_result"
    }
   ],
   "source": [
    "getsizeof(ct_1_mask.astype(np.uint8)) # 12.845184 MBs"
   ]
  },
  {
   "cell_type": "code",
   "execution_count": 20,
   "id": "athletic-track",
   "metadata": {},
   "outputs": [],
   "source": [
    "ct_1_mask = ct_1_mask.astype(np.float32)"
   ]
  },
  {
   "cell_type": "code",
   "execution_count": 21,
   "id": "realistic-interpretation",
   "metadata": {},
   "outputs": [
    {
     "data": {
      "text/plain": [
       "(512, 512, 49)"
      ]
     },
     "execution_count": 21,
     "metadata": {},
     "output_type": "execute_result"
    }
   ],
   "source": [
    "ct_1_mask.shape"
   ]
  },
  {
   "cell_type": "markdown",
   "id": "outer-manor",
   "metadata": {},
   "source": [
    "### Visualizing nifti CT file and Mask file"
   ]
  },
  {
   "cell_type": "code",
   "execution_count": 22,
   "id": "wrong-leader",
   "metadata": {},
   "outputs": [
    {
     "data": {
      "application/vnd.jupyter.widget-view+json": {
       "model_id": "fd2d5cdef13e41afbc03dffa9186dc13",
       "version_major": 2,
       "version_minor": 0
      },
      "text/plain": [
       "interactive(children=(ToggleButtons(button_style='info', description='Select Class:', options=('Background', '…"
      ]
     },
     "metadata": {},
     "output_type": "display_data"
    }
   ],
   "source": [
    "classes_dict = {\n",
    "    'Background': 0,\n",
    "    'Vessel': 1,\n",
    "    'Tumour': 2\n",
    "}\n",
    "\n",
    "# Create button values\n",
    "select_class = ToggleButtons(\n",
    "    options=['Background','Vessel', 'Tumour', 'All'],\n",
    "    description='Select Class:',\n",
    "    disabled=False,\n",
    "    button_style='info', \n",
    "    \n",
    ")\n",
    "# Create layer slider\n",
    "select_layer = IntSlider(min=0, max=ct_1.shape[2] - 1, description='Select Layer', continuous_update=False)\n",
    "\n",
    "    \n",
    "# Define a function for plotting images\n",
    "def plot(seg_class, layer):\n",
    "    print(f\"Plotting Layer: {layer} | Label: {seg_class}\")\n",
    "    fig = plt.figure(figsize=(20, 10))\n",
    "    \n",
    "    fig.add_subplot(1, 2, 1)\n",
    "    plt.imshow(ct_1[:, :, layer], cmap='gray');\n",
    "    plt.title(\"ct\", fontsize=20)\n",
    "    plt.axis('off')\n",
    "    \n",
    "    fig.add_subplot(1, 2, 2)\n",
    "    if seg_class == \"All\":\n",
    "        mask = ct_1_mask[:, :, layer]\n",
    "        plt.title(\"Mask\", fontsize=20)\n",
    "        plt.imshow(mask)\n",
    "        plt.axis('off');\n",
    "    else:\n",
    "        img_label = classes_dict[seg_class]\n",
    "        mask = np.where(ct_1_mask[:, :, layer] == img_label, 255, 0)\n",
    "        plt.title(\"Mask\", fontsize=20)\n",
    "        plt.imshow(mask, cmap='gray')\n",
    "        plt.axis('off');\n",
    "\n",
    "# Use the interactive() tool to create the visualization\n",
    "interactive(plot, seg_class=select_class, layer=select_layer)"
   ]
  },
  {
   "cell_type": "markdown",
   "id": "b105647c-ab55-44c9-be57-48d66e3bb7d4",
   "metadata": {},
   "source": [
    "### Reading and visualizing hepaticvessel_002 nifti CT and mask files"
   ]
  },
  {
   "cell_type": "markdown",
   "id": "5cfdf948-e559-45b4-8e6e-2de456a1e88d",
   "metadata": {},
   "source": [
    "#### CT file"
   ]
  },
  {
   "cell_type": "code",
   "execution_count": 23,
   "id": "4ce60135-5e69-4656-8680-2675b99a1d6f",
   "metadata": {},
   "outputs": [],
   "source": [
    "ct_2 = nib.load(\"../../datasets/Task08_HepaticVessel/train/images/hepaticvessel_002.nii.gz\")"
   ]
  },
  {
   "cell_type": "code",
   "execution_count": 24,
   "id": "2f748a4a-99e0-42b2-a704-46cb880a7166",
   "metadata": {},
   "outputs": [
    {
     "data": {
      "text/plain": [
       "nibabel.nifti1.Nifti1Image"
      ]
     },
     "execution_count": 24,
     "metadata": {},
     "output_type": "execute_result"
    }
   ],
   "source": [
    "type(ct_2)"
   ]
  },
  {
   "cell_type": "code",
   "execution_count": 25,
   "id": "008081b5-d2d6-4505-9946-0615110e2e1f",
   "metadata": {},
   "outputs": [],
   "source": [
    "# Read Nifi Image object as numpy file\n",
    "ct_2 = ct_2.get_fdata()"
   ]
  },
  {
   "cell_type": "code",
   "execution_count": 26,
   "id": "a421077e-25ef-4d3c-bdaa-c0c61d2f2790",
   "metadata": {},
   "outputs": [
    {
     "data": {
      "text/plain": [
       "numpy.ndarray"
      ]
     },
     "execution_count": 26,
     "metadata": {},
     "output_type": "execute_result"
    }
   ],
   "source": [
    "type(ct_2)"
   ]
  },
  {
   "cell_type": "code",
   "execution_count": 27,
   "id": "c21598d9-55fe-4020-8632-8090d1db55dd",
   "metadata": {},
   "outputs": [
    {
     "data": {
      "text/plain": [
       "dtype('float64')"
      ]
     },
     "execution_count": 27,
     "metadata": {},
     "output_type": "execute_result"
    }
   ],
   "source": [
    "ct_2.dtype"
   ]
  },
  {
   "cell_type": "code",
   "execution_count": 28,
   "id": "60fed46d-ffd3-4d0e-94e1-9459b6e36ae5",
   "metadata": {},
   "outputs": [
    {
     "data": {
      "text/plain": [
       "(512, 512, 66)"
      ]
     },
     "execution_count": 28,
     "metadata": {},
     "output_type": "execute_result"
    }
   ],
   "source": [
    "ct_2.shape"
   ]
  },
  {
   "cell_type": "code",
   "execution_count": 29,
   "id": "3226b022-3007-4168-be6b-c9bbe398f8b6",
   "metadata": {},
   "outputs": [
    {
     "name": "stdout",
     "output_type": "stream",
     "text": [
      "2271.0\n"
     ]
    }
   ],
   "source": [
    "# Range of voxel values (maximum value - minimum value)\n",
    "print(ct_2[:, :, :].ptp())"
   ]
  },
  {
   "cell_type": "markdown",
   "id": "95732345-f0e1-4adf-ae79-3897cf7d8e76",
   "metadata": {},
   "source": [
    "#### Mask file"
   ]
  },
  {
   "cell_type": "code",
   "execution_count": 30,
   "id": "11c6c784-f551-426d-b17e-85c56e54cb4f",
   "metadata": {},
   "outputs": [],
   "source": [
    "ct_2_mask = nib.load(\"../../datasets/Task08_HepaticVessel/train/masks/hepaticvessel_002.nii.gz\")"
   ]
  },
  {
   "cell_type": "code",
   "execution_count": 31,
   "id": "7cf086cc-f450-406c-9648-67271a645897",
   "metadata": {},
   "outputs": [],
   "source": [
    "ct_2_mask = ct_2_mask.get_fdata()"
   ]
  },
  {
   "cell_type": "code",
   "execution_count": 32,
   "id": "891c7d15-0dc6-42d0-8669-8c695cd9206e",
   "metadata": {},
   "outputs": [
    {
     "data": {
      "text/plain": [
       "dtype('float64')"
      ]
     },
     "execution_count": 32,
     "metadata": {},
     "output_type": "execute_result"
    }
   ],
   "source": [
    "ct_2_mask.dtype"
   ]
  },
  {
   "cell_type": "code",
   "execution_count": 33,
   "id": "e9443a5a-4444-4744-b27d-8c811fb9d789",
   "metadata": {},
   "outputs": [],
   "source": [
    "ct_2_mask = ct_2_mask.astype(np.float32)"
   ]
  },
  {
   "cell_type": "code",
   "execution_count": 34,
   "id": "dbbc2494-8f79-459e-99dc-c3f5d383ddda",
   "metadata": {},
   "outputs": [
    {
     "data": {
      "text/plain": [
       "(512, 512, 66)"
      ]
     },
     "execution_count": 34,
     "metadata": {},
     "output_type": "execute_result"
    }
   ],
   "source": [
    "ct_2_mask.shape"
   ]
  },
  {
   "cell_type": "markdown",
   "id": "3c1ed2aa-085e-4cd6-8230-5b8553834ac1",
   "metadata": {},
   "source": [
    "### Visualizing nifti CT file and Mask file"
   ]
  },
  {
   "cell_type": "code",
   "execution_count": 35,
   "id": "8485f2b0-6662-4487-b012-384d413f858a",
   "metadata": {},
   "outputs": [
    {
     "data": {
      "application/vnd.jupyter.widget-view+json": {
       "model_id": "e98514a934f648e6ac6b7a262d6c8b50",
       "version_major": 2,
       "version_minor": 0
      },
      "text/plain": [
       "interactive(children=(ToggleButtons(button_style='info', description='Select Class:', options=('Background', '…"
      ]
     },
     "metadata": {},
     "output_type": "display_data"
    }
   ],
   "source": [
    "classes_dict = {\n",
    "    'Background': 0,\n",
    "    'Vessel': 1,\n",
    "    'Tumour': 2\n",
    "}\n",
    "\n",
    "# Create button values\n",
    "select_class = ToggleButtons(\n",
    "    options=['Background','Vessel', 'Tumour', 'All'],\n",
    "    description='Select Class:',\n",
    "    disabled=False,\n",
    "    button_style='info', \n",
    "    \n",
    ")\n",
    "# Create layer slider\n",
    "select_layer = IntSlider(min=0, max=ct_2.shape[2] - 1, description='Select Layer', continuous_update=False)\n",
    "\n",
    "    \n",
    "# Define a function for plotting images\n",
    "def plot(seg_class, layer):\n",
    "    print(f\"Plotting Layer: {layer} | Label: {seg_class}\")\n",
    "    fig = plt.figure(figsize=(20, 10))\n",
    "    \n",
    "    fig.add_subplot(1, 2, 1)\n",
    "    plt.imshow(ct_2[:, :, layer], cmap='gray');\n",
    "    plt.title(\"ct\", fontsize=20)\n",
    "    plt.axis('off')\n",
    "    \n",
    "    fig.add_subplot(1, 2, 2)\n",
    "    if seg_class == \"All\":\n",
    "        mask = ct_2_mask[:, :, layer]\n",
    "        plt.title(\"Mask\", fontsize=20)\n",
    "        plt.imshow(mask)\n",
    "        plt.axis('off');\n",
    "    else:\n",
    "        img_label = classes_dict[seg_class]\n",
    "        mask = np.where(ct_2_mask[:, :, layer] == img_label, 255, 0)\n",
    "        plt.title(\"Mask\", fontsize=20)\n",
    "        plt.imshow(mask, cmap='gray')\n",
    "        plt.axis('off');\n",
    "\n",
    "# Use the interactive() tool to create the visualization\n",
    "interactive(plot, seg_class=select_class, layer=select_layer)"
   ]
  },
  {
   "cell_type": "markdown",
   "id": "65a6a08f-8561-42f3-8821-eaf31e50226b",
   "metadata": {},
   "source": [
    "### Reading and visualizing hepaticvessel_004 nifti CT and mask files"
   ]
  },
  {
   "cell_type": "markdown",
   "id": "f4a242f0-9455-4982-8c31-378c1b6896c6",
   "metadata": {},
   "source": [
    "#### CT file"
   ]
  },
  {
   "cell_type": "code",
   "execution_count": 36,
   "id": "aaf2489f-70ef-4662-8b4c-db7e70955032",
   "metadata": {},
   "outputs": [],
   "source": [
    "ct_3 = nib.load(\"../../datasets/Task08_HepaticVessel/train/images/hepaticvessel_004.nii.gz\")"
   ]
  },
  {
   "cell_type": "code",
   "execution_count": 37,
   "id": "b7b23636-6fb6-4de8-a2b5-fd76cfcff1bd",
   "metadata": {},
   "outputs": [
    {
     "data": {
      "text/plain": [
       "nibabel.nifti1.Nifti1Image"
      ]
     },
     "execution_count": 37,
     "metadata": {},
     "output_type": "execute_result"
    }
   ],
   "source": [
    "type(ct_3)"
   ]
  },
  {
   "cell_type": "code",
   "execution_count": 38,
   "id": "78fcb2e9-5857-416c-9b10-b32a341ecf33",
   "metadata": {},
   "outputs": [],
   "source": [
    "# Read Nifi Image object as numpy file\n",
    "ct_3 = ct_3.get_fdata()"
   ]
  },
  {
   "cell_type": "code",
   "execution_count": 39,
   "id": "452eb938-71e3-4833-9629-acb79333117d",
   "metadata": {},
   "outputs": [
    {
     "data": {
      "text/plain": [
       "numpy.ndarray"
      ]
     },
     "execution_count": 39,
     "metadata": {},
     "output_type": "execute_result"
    }
   ],
   "source": [
    "type(ct_3)"
   ]
  },
  {
   "cell_type": "code",
   "execution_count": 40,
   "id": "613d9f5c-a6ce-46ce-bbcc-edb205d503b3",
   "metadata": {},
   "outputs": [
    {
     "data": {
      "text/plain": [
       "dtype('float64')"
      ]
     },
     "execution_count": 40,
     "metadata": {},
     "output_type": "execute_result"
    }
   ],
   "source": [
    "ct_3.dtype"
   ]
  },
  {
   "cell_type": "code",
   "execution_count": 41,
   "id": "2ca26324-b8d2-49c3-8e57-d9d89c1550f8",
   "metadata": {},
   "outputs": [
    {
     "data": {
      "text/plain": [
       "(512, 512, 43)"
      ]
     },
     "execution_count": 41,
     "metadata": {},
     "output_type": "execute_result"
    }
   ],
   "source": [
    "ct_3.shape"
   ]
  },
  {
   "cell_type": "code",
   "execution_count": 42,
   "id": "f59edbfe-e9a6-4a40-aa36-fa05b574492d",
   "metadata": {},
   "outputs": [
    {
     "name": "stdout",
     "output_type": "stream",
     "text": [
      "2290.0\n"
     ]
    }
   ],
   "source": [
    "# Range of voxel values (maximum value - minimum value)\n",
    "print(ct_3[:, :, :].ptp())"
   ]
  },
  {
   "cell_type": "markdown",
   "id": "ef0a2e7b-b1ed-4206-91ae-bd75e8f7077b",
   "metadata": {},
   "source": [
    "#### Mask file"
   ]
  },
  {
   "cell_type": "code",
   "execution_count": 43,
   "id": "42d6ba97-9aba-43cb-bf96-82796b05fac8",
   "metadata": {},
   "outputs": [],
   "source": [
    "ct_3_mask = nib.load(\"../../datasets/Task08_HepaticVessel/train/masks/hepaticvessel_004.nii.gz\")"
   ]
  },
  {
   "cell_type": "code",
   "execution_count": 44,
   "id": "e1113557-fc01-4f74-955a-c843a0e5307d",
   "metadata": {},
   "outputs": [],
   "source": [
    "ct_3_mask = ct_3_mask.get_fdata()"
   ]
  },
  {
   "cell_type": "code",
   "execution_count": 45,
   "id": "6f26dbc6-d195-4192-8f0d-d2e720e3c37a",
   "metadata": {},
   "outputs": [
    {
     "data": {
      "text/plain": [
       "dtype('float64')"
      ]
     },
     "execution_count": 45,
     "metadata": {},
     "output_type": "execute_result"
    }
   ],
   "source": [
    "ct_3_mask.dtype"
   ]
  },
  {
   "cell_type": "code",
   "execution_count": 46,
   "id": "802b94db-309d-44f4-aa37-1ed1d5d24cd1",
   "metadata": {},
   "outputs": [],
   "source": [
    "ct_3_mask = ct_3_mask.astype(np.float32)"
   ]
  },
  {
   "cell_type": "code",
   "execution_count": 47,
   "id": "9365f2a2-0d1f-4970-b696-bb15917c9583",
   "metadata": {},
   "outputs": [
    {
     "data": {
      "text/plain": [
       "(512, 512, 43)"
      ]
     },
     "execution_count": 47,
     "metadata": {},
     "output_type": "execute_result"
    }
   ],
   "source": [
    "ct_3_mask.shape"
   ]
  },
  {
   "cell_type": "markdown",
   "id": "7369f2b1-475e-463e-8be1-c09b282e5d60",
   "metadata": {},
   "source": [
    "### Visualizing nifti CT file and Mask file"
   ]
  },
  {
   "cell_type": "code",
   "execution_count": 48,
   "id": "d1c0e6ea-0628-46b4-bae2-4d846753c4ef",
   "metadata": {},
   "outputs": [
    {
     "data": {
      "application/vnd.jupyter.widget-view+json": {
       "model_id": "b7efae8e8a2942d99505ca31bb4c3a0e",
       "version_major": 2,
       "version_minor": 0
      },
      "text/plain": [
       "interactive(children=(ToggleButtons(button_style='info', description='Select Class:', options=('Background', '…"
      ]
     },
     "metadata": {},
     "output_type": "display_data"
    }
   ],
   "source": [
    "classes_dict = {\n",
    "    'Background': 0,\n",
    "    'Vessel': 1,\n",
    "    'Tumour': 2\n",
    "}\n",
    "\n",
    "# Create button values\n",
    "select_class = ToggleButtons(\n",
    "    options=['Background','Vessel', 'Tumour', 'All'],\n",
    "    description='Select Class:',\n",
    "    disabled=False,\n",
    "    button_style='info', \n",
    "    \n",
    ")\n",
    "# Create layer slider\n",
    "select_layer = IntSlider(min=0, max=ct_3.shape[2] - 1, description='Select Layer', continuous_update=False)\n",
    "\n",
    "    \n",
    "# Define a function for plotting images\n",
    "def plot(seg_class, layer):\n",
    "    print(f\"Plotting Layer: {layer} | Label: {seg_class}\")\n",
    "    fig = plt.figure(figsize=(20, 10))\n",
    "    \n",
    "    fig.add_subplot(1, 2, 1)\n",
    "    plt.imshow(ct_3[:, :, layer], cmap='gray');\n",
    "    plt.title(\"ct\", fontsize=20)\n",
    "    plt.axis('off')\n",
    "    \n",
    "    fig.add_subplot(1, 2, 2)\n",
    "    if seg_class == \"All\":\n",
    "        mask = ct_3_mask[:, :, layer]\n",
    "        plt.title(\"Mask\", fontsize=20)\n",
    "        plt.imshow(mask)\n",
    "        plt.axis('off');\n",
    "    else:\n",
    "        img_label = classes_dict[seg_class]\n",
    "        mask = np.where(ct_3_mask[:, :, layer] == img_label, 255, 0)\n",
    "        plt.title(\"Mask\", fontsize=20)\n",
    "        plt.imshow(mask, cmap='gray')\n",
    "        plt.axis('off');\n",
    "\n",
    "# Use the interactive() tool to create the visualization\n",
    "interactive(plot, seg_class=select_class, layer=select_layer)"
   ]
  },
  {
   "cell_type": "markdown",
   "id": "located-nutrition",
   "metadata": {},
   "source": [
    "### Calculating CT shape counter dictionary"
   ]
  },
  {
   "cell_type": "code",
   "execution_count": 49,
   "id": "sufficient-basic",
   "metadata": {},
   "outputs": [
    {
     "name": "stderr",
     "output_type": "stream",
     "text": [
      "100%|██████████| 442/442 [02:18<00:00,  3.20it/s]\n"
     ]
    }
   ],
   "source": [
    "data_dir = \"../../datasets/Task08_HepaticVessel/\"\n",
    "\n",
    "train_mri_paths = [os.path.join(data_dir + \"train/images\", x) for x in os.listdir(data_dir + \"train/images\")]\n",
    "val_mri_paths = [os.path.join(data_dir + \"val/images\", x) for x in os.listdir(data_dir + \"val/images\")]\n",
    "test_mri_paths = [os.path.join(data_dir + \"test_images_for_model_prediction_submission\", x) for x in os.listdir(data_dir + \"test_images_for_model_prediction_submission\")]\n",
    "\n",
    "all_paths = train_mri_paths + val_mri_paths + test_mri_paths  # concatenate list of paths\n",
    "\n",
    "shape_count_dict = {}\n",
    "\n",
    "for path in tqdm(all_paths):\n",
    "    mri = nib.load(path).get_fdata()\n",
    "    shape = mri.shape\n",
    "    \n",
    "    if shape not in shape_count_dict.keys():\n",
    "        shape_count_dict[shape] = 1\n",
    "    else:\n",
    "        shape_count_dict[shape] += 1   "
   ]
  },
  {
   "cell_type": "code",
   "execution_count": 50,
   "id": "premium-adjustment",
   "metadata": {},
   "outputs": [
    {
     "name": "stdout",
     "output_type": "stream",
     "text": [
      "OrderedDict([((512, 512, 49), 20),\n",
      "             ((512, 512, 45), 19),\n",
      "             ((512, 512, 47), 18),\n",
      "             ((512, 512, 41), 16),\n",
      "             ((512, 512, 37), 14),\n",
      "             ((512, 512, 50), 13),\n",
      "             ((512, 512, 46), 13),\n",
      "             ((512, 512, 39), 12),\n",
      "             ((512, 512, 43), 12),\n",
      "             ((512, 512, 40), 11),\n",
      "             ((512, 512, 48), 11),\n",
      "             ((512, 512, 36), 11),\n",
      "             ((512, 512, 51), 10),\n",
      "             ((512, 512, 44), 10),\n",
      "             ((512, 512, 42), 10),\n",
      "             ((512, 512, 34), 10),\n",
      "             ((512, 512, 38), 9),\n",
      "             ((512, 512, 52), 9),\n",
      "             ((512, 512, 55), 9),\n",
      "             ((512, 512, 30), 8),\n",
      "             ((512, 512, 141), 7),\n",
      "             ((512, 512, 161), 7),\n",
      "             ((512, 512, 54), 7),\n",
      "             ((512, 512, 148), 6),\n",
      "             ((512, 512, 53), 6),\n",
      "             ((512, 512, 35), 6),\n",
      "             ((512, 512, 32), 5),\n",
      "             ((512, 512, 24), 5),\n",
      "             ((512, 512, 144), 5),\n",
      "             ((512, 512, 164), 5),\n",
      "             ((512, 512, 134), 5),\n",
      "             ((512, 512, 131), 4),\n",
      "             ((512, 512, 99), 4),\n",
      "             ((512, 512, 138), 4),\n",
      "             ((512, 512, 171), 4),\n",
      "             ((512, 512, 154), 4),\n",
      "             ((512, 512, 151), 4),\n",
      "             ((512, 512, 58), 4),\n",
      "             ((512, 512, 87), 4),\n",
      "             ((512, 512, 178), 4),\n",
      "             ((512, 512, 59), 3),\n",
      "             ((512, 512, 174), 3),\n",
      "             ((512, 512, 121), 3),\n",
      "             ((512, 512, 56), 3),\n",
      "             ((512, 512, 61), 3),\n",
      "             ((512, 512, 31), 3),\n",
      "             ((512, 512, 60), 3),\n",
      "             ((512, 512, 105), 3),\n",
      "             ((512, 512, 33), 2),\n",
      "             ((512, 512, 120), 2),\n",
      "             ((512, 512, 82), 2),\n",
      "             ((512, 512, 158), 2),\n",
      "             ((512, 512, 81), 2),\n",
      "             ((512, 512, 26), 2),\n",
      "             ((512, 512, 168), 2),\n",
      "             ((512, 512, 114), 2),\n",
      "             ((512, 512, 65), 2),\n",
      "             ((512, 512, 71), 2),\n",
      "             ((512, 512, 27), 2),\n",
      "             ((512, 512, 80), 2),\n",
      "             ((512, 512, 122), 2),\n",
      "             ((512, 512, 146), 1),\n",
      "             ((512, 512, 127), 1),\n",
      "             ((512, 512, 88), 1),\n",
      "             ((512, 512, 108), 1),\n",
      "             ((512, 512, 86), 1),\n",
      "             ((512, 512, 155), 1),\n",
      "             ((512, 512, 102), 1),\n",
      "             ((512, 512, 145), 1),\n",
      "             ((512, 512, 104), 1),\n",
      "             ((512, 512, 143), 1),\n",
      "             ((512, 512, 117), 1),\n",
      "             ((512, 512, 63), 1),\n",
      "             ((512, 512, 136), 1),\n",
      "             ((512, 512, 83), 1),\n",
      "             ((512, 512, 92), 1),\n",
      "             ((512, 512, 177), 1),\n",
      "             ((512, 512, 107), 1),\n",
      "             ((512, 512, 95), 1),\n",
      "             ((512, 512, 66), 1),\n",
      "             ((512, 512, 109), 1),\n",
      "             ((512, 512, 128), 1),\n",
      "             ((512, 512, 152), 1),\n",
      "             ((512, 512, 97), 1),\n",
      "             ((512, 512, 169), 1),\n",
      "             ((512, 512, 89), 1),\n",
      "             ((512, 512, 181), 1),\n",
      "             ((512, 512, 28), 1),\n",
      "             ((512, 512, 118), 1),\n",
      "             ((512, 512, 165), 1),\n",
      "             ((512, 512, 25), 1),\n",
      "             ((512, 512, 129), 1),\n",
      "             ((512, 512, 111), 1),\n",
      "             ((512, 512, 139), 1),\n",
      "             ((512, 512, 175), 1),\n",
      "             ((512, 512, 78), 1),\n",
      "             ((512, 512, 137), 1),\n",
      "             ((512, 512, 29), 1),\n",
      "             ((512, 512, 166), 1),\n",
      "             ((512, 512, 101), 1),\n",
      "             ((512, 512, 251), 1),\n",
      "             ((512, 512, 162), 1),\n",
      "             ((512, 512, 157), 1),\n",
      "             ((512, 512, 150), 1),\n",
      "             ((512, 512, 72), 1),\n",
      "             ((512, 512, 67), 1),\n",
      "             ((512, 512, 132), 1),\n",
      "             ((512, 512, 115), 1)])\n"
     ]
    }
   ],
   "source": [
    "shape_count_dict = OrderedDict(sorted(shape_count_dict.items(), key=lambda item: item[1], reverse=True))\n",
    "pprint(shape_count_dict)"
   ]
  },
  {
   "cell_type": "code",
   "execution_count": 51,
   "id": "preliminary-windsor",
   "metadata": {},
   "outputs": [
    {
     "name": "stdout",
     "output_type": "stream",
     "text": [
      "97.31481481481481\n",
      "96.0\n",
      "24\n",
      "251\n"
     ]
    }
   ],
   "source": [
    "list_layers = []\n",
    "for key, val in shape_count_dict.items():\n",
    "    list_layers.append(key[2])\n",
    "\n",
    "layers = np.array(list_layers)\n",
    "print(layers.mean())\n",
    "print(np.median(layers))\n",
    "print(layers.min())\n",
    "print(layers.max())"
   ]
  },
  {
   "cell_type": "code",
   "execution_count": null,
   "id": "executed-rating",
   "metadata": {},
   "outputs": [],
   "source": []
  }
 ],
 "metadata": {
  "kernelspec": {
   "display_name": "Python 3",
   "language": "python",
   "name": "python3"
  },
  "language_info": {
   "codemirror_mode": {
    "name": "ipython",
    "version": 3
   },
   "file_extension": ".py",
   "mimetype": "text/x-python",
   "name": "python",
   "nbconvert_exporter": "python",
   "pygments_lexer": "ipython3",
   "version": "3.7.10"
  }
 },
 "nbformat": 4,
 "nbformat_minor": 5
}
