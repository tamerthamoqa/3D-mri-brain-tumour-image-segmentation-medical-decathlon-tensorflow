{
 "cells": [
  {
   "cell_type": "markdown",
   "id": "micro-major",
   "metadata": {},
   "source": [
    "__Note__: The code used here was heavily inspired by the AI for Medicine Specialization Course 1 Week three programming assignments: [link](https://www.coursera.org/learn/ai-for-medical-diagnosis)"
   ]
  },
  {
   "cell_type": "code",
   "execution_count": 1,
   "id": "attractive-operator",
   "metadata": {},
   "outputs": [],
   "source": [
    "import numpy as np\n",
    "import nibabel as nib\n",
    "import matplotlib.pyplot as plt\n",
    "import json\n",
    "import os\n",
    "from pprint import pprint\n",
    "from collections import OrderedDict\n",
    "from ipywidgets import interact, interactive, IntSlider, ToggleButtons\n",
    "from sys import getsizeof\n",
    "from tqdm import tqdm"
   ]
  },
  {
   "cell_type": "markdown",
   "id": "broadband-cisco",
   "metadata": {},
   "source": [
    "### Reading dataset description"
   ]
  },
  {
   "cell_type": "code",
   "execution_count": 2,
   "id": "modular-selling",
   "metadata": {},
   "outputs": [],
   "source": [
    "file = open('../datasets_descriptions_json/task09_spleen_dataset.json')\n",
    "data_description = json.load(file)"
   ]
  },
  {
   "cell_type": "code",
   "execution_count": 3,
   "id": "convinced-occupation",
   "metadata": {},
   "outputs": [
    {
     "name": "stdout",
     "output_type": "stream",
     "text": [
      "{\n",
      "    \"name\": \"Spleen\",\n",
      "    \"description\": \"Spleen Segmentation\",\n",
      "    \"reference\": \"Memorial Sloan Kettering Cancer Center\",\n",
      "    \"licence\": \"CC-BY-SA 4.0\",\n",
      "    \"release\": \"1.0 06/08/2018\",\n",
      "    \"tensorImageSize\": \"3D\",\n",
      "    \"modality\": {\n",
      "        \"0\": \"CT\"\n",
      "    },\n",
      "    \"labels\": {\n",
      "        \"0\": \"background\",\n",
      "        \"1\": \"spleen\"\n",
      "    },\n",
      "    \"numTraining\": 41,\n",
      "    \"numTest\": 20,\n",
      "    \"training\": [\n",
      "        {\n",
      "            \"image\": \"./imagesTr/spleen_19.nii.gz\",\n",
      "            \"label\": \"./labelsTr/spleen_19.nii.gz\"\n",
      "        },\n",
      "        {\n",
      "            \"image\": \"./imagesTr/spleen_31.nii.gz\",\n",
      "            \"label\": \"./labelsTr/spleen_31.nii.gz\"\n",
      "        },\n",
      "        {\n",
      "            \"image\": \"./imagesTr/spleen_52.nii.gz\",\n",
      "            \"label\": \"./labelsTr/spleen_52.nii.gz\"\n",
      "        },\n",
      "        {\n",
      "            \"image\": \"./imagesTr/spleen_40.nii.gz\",\n",
      "            \"label\": \"./labelsTr/spleen_40.nii.gz\"\n",
      "        },\n",
      "        {\n",
      "            \"image\": \"./imagesTr/spleen_3.nii.gz\",\n",
      "            \"label\": \"./labelsTr/spleen_3.nii.gz\"\n",
      "        },\n",
      "        {\n",
      "            \"image\": \"./imagesTr/spleen_17.nii.gz\",\n",
      "            \"label\": \"./labelsTr/spleen_17.nii.gz\"\n",
      "        },\n",
      "        {\n",
      "            \"image\": \"./imagesTr/spleen_21.nii.gz\",\n",
      "            \"label\": \"./labelsTr/spleen_21.nii.gz\"\n",
      "        },\n",
      "        {\n",
      "            \"image\": \"./imagesTr/spleen_33.nii.gz\",\n",
      "            \"label\": \"./labelsTr/spleen_33.nii.gz\"\n",
      "        },\n",
      "        {\n",
      "            \"image\": \"./imagesTr/spleen_9.nii.gz\",\n",
      "            \"label\": \"./labelsTr/spleen_9.nii.gz\"\n",
      "        },\n",
      "        {\n",
      "            \"image\": \"./imagesTr/spleen_29.nii.gz\",\n",
      "            \"label\": \"./labelsTr/spleen_29.nii.gz\"\n",
      "        },\n",
      "        {\n",
      "            \"image\": \"./imagesTr/spleen_46.nii.gz\",\n",
      "            \"label\": \"./labelsTr/spleen_46.nii.gz\"\n",
      "        },\n",
      "        {\n",
      "            \"image\": \"./imagesTr/spleen_25.nii.gz\",\n",
      "            \"label\": \"./labelsTr/spleen_25.nii.gz\"\n",
      "        },\n",
      "        {\n",
      "            \"image\": \"./imagesTr/spleen_13.nii.gz\",\n",
      "            \"label\": \"./labelsTr/spleen_13.nii.gz\"\n",
      "        },\n",
      "        {\n",
      "            \"image\": \"./imagesTr/spleen_62.nii.gz\",\n",
      "            \"label\": \"./labelsTr/spleen_62.nii.gz\"\n",
      "        },\n",
      "        {\n",
      "            \"image\": \"./imagesTr/spleen_27.nii.gz\",\n",
      "            \"label\": \"./labelsTr/spleen_27.nii.gz\"\n",
      "        },\n",
      "        {\n",
      "            \"image\": \"./imagesTr/spleen_44.nii.gz\",\n",
      "            \"label\": \"./labelsTr/spleen_44.nii.gz\"\n",
      "        },\n",
      "        {\n",
      "            \"image\": \"./imagesTr/spleen_56.nii.gz\",\n",
      "            \"label\": \"./labelsTr/spleen_56.nii.gz\"\n",
      "        },\n",
      "        {\n",
      "            \"image\": \"./imagesTr/spleen_60.nii.gz\",\n",
      "            \"label\": \"./labelsTr/spleen_60.nii.gz\"\n",
      "        },\n",
      "        {\n",
      "            \"image\": \"./imagesTr/spleen_2.nii.gz\",\n",
      "            \"label\": \"./labelsTr/spleen_2.nii.gz\"\n",
      "        },\n",
      "        {\n",
      "            \"image\": \"./imagesTr/spleen_53.nii.gz\",\n",
      "            \"label\": \"./labelsTr/spleen_53.nii.gz\"\n",
      "        },\n",
      "        {\n",
      "            \"image\": \"./imagesTr/spleen_41.nii.gz\",\n",
      "            \"label\": \"./labelsTr/spleen_41.nii.gz\"\n",
      "        },\n",
      "        {\n",
      "            \"image\": \"./imagesTr/spleen_22.nii.gz\",\n",
      "            \"label\": \"./labelsTr/spleen_22.nii.gz\"\n",
      "        },\n",
      "        {\n",
      "            \"image\": \"./imagesTr/spleen_14.nii.gz\",\n",
      "            \"label\": \"./labelsTr/spleen_14.nii.gz\"\n",
      "        },\n",
      "        {\n",
      "            \"image\": \"./imagesTr/spleen_18.nii.gz\",\n",
      "            \"label\": \"./labelsTr/spleen_18.nii.gz\"\n",
      "        },\n",
      "        {\n",
      "            \"image\": \"./imagesTr/spleen_20.nii.gz\",\n",
      "            \"label\": \"./labelsTr/spleen_20.nii.gz\"\n",
      "        },\n",
      "        {\n",
      "            \"image\": \"./imagesTr/spleen_32.nii.gz\",\n",
      "            \"label\": \"./labelsTr/spleen_32.nii.gz\"\n",
      "        },\n",
      "        {\n",
      "            \"image\": \"./imagesTr/spleen_16.nii.gz\",\n",
      "            \"label\": \"./labelsTr/spleen_16.nii.gz\"\n",
      "        },\n",
      "        {\n",
      "            \"image\": \"./imagesTr/spleen_12.nii.gz\",\n",
      "            \"label\": \"./labelsTr/spleen_12.nii.gz\"\n",
      "        },\n",
      "        {\n",
      "            \"image\": \"./imagesTr/spleen_63.nii.gz\",\n",
      "            \"label\": \"./labelsTr/spleen_63.nii.gz\"\n",
      "        },\n",
      "        {\n",
      "            \"image\": \"./imagesTr/spleen_28.nii.gz\",\n",
      "            \"label\": \"./labelsTr/spleen_28.nii.gz\"\n",
      "        },\n",
      "        {\n",
      "            \"image\": \"./imagesTr/spleen_24.nii.gz\",\n",
      "            \"label\": \"./labelsTr/spleen_24.nii.gz\"\n",
      "        },\n",
      "        {\n",
      "            \"image\": \"./imagesTr/spleen_59.nii.gz\",\n",
      "            \"label\": \"./labelsTr/spleen_59.nii.gz\"\n",
      "        },\n",
      "        {\n",
      "            \"image\": \"./imagesTr/spleen_47.nii.gz\",\n",
      "            \"label\": \"./labelsTr/spleen_47.nii.gz\"\n",
      "        },\n",
      "        {\n",
      "            \"image\": \"./imagesTr/spleen_8.nii.gz\",\n",
      "            \"label\": \"./labelsTr/spleen_8.nii.gz\"\n",
      "        },\n",
      "        {\n",
      "            \"image\": \"./imagesTr/spleen_6.nii.gz\",\n",
      "            \"label\": \"./labelsTr/spleen_6.nii.gz\"\n",
      "        },\n",
      "        {\n",
      "            \"image\": \"./imagesTr/spleen_61.nii.gz\",\n",
      "            \"label\": \"./labelsTr/spleen_61.nii.gz\"\n",
      "        },\n",
      "        {\n",
      "            \"image\": \"./imagesTr/spleen_10.nii.gz\",\n",
      "            \"label\": \"./labelsTr/spleen_10.nii.gz\"\n",
      "        },\n",
      "        {\n",
      "            \"image\": \"./imagesTr/spleen_38.nii.gz\",\n",
      "            \"label\": \"./labelsTr/spleen_38.nii.gz\"\n",
      "        },\n",
      "        {\n",
      "            \"image\": \"./imagesTr/spleen_45.nii.gz\",\n",
      "            \"label\": \"./labelsTr/spleen_45.nii.gz\"\n",
      "        },\n",
      "        {\n",
      "            \"image\": \"./imagesTr/spleen_26.nii.gz\",\n",
      "            \"label\": \"./labelsTr/spleen_26.nii.gz\"\n",
      "        },\n",
      "        {\n",
      "            \"image\": \"./imagesTr/spleen_49.nii.gz\",\n",
      "            \"label\": \"./labelsTr/spleen_49.nii.gz\"\n",
      "        }\n",
      "    ],\n",
      "    \"test\": [\n",
      "        \"./imagesTs/spleen_15.nii.gz\",\n",
      "        \"./imagesTs/spleen_23.nii.gz\",\n",
      "        \"./imagesTs/spleen_1.nii.gz\",\n",
      "        \"./imagesTs/spleen_42.nii.gz\",\n",
      "        \"./imagesTs/spleen_50.nii.gz\",\n",
      "        \"./imagesTs/spleen_54.nii.gz\",\n",
      "        \"./imagesTs/spleen_37.nii.gz\",\n",
      "        \"./imagesTs/spleen_58.nii.gz\",\n",
      "        \"./imagesTs/spleen_39.nii.gz\",\n",
      "        \"./imagesTs/spleen_48.nii.gz\",\n",
      "        \"./imagesTs/spleen_35.nii.gz\",\n",
      "        \"./imagesTs/spleen_11.nii.gz\",\n",
      "        \"./imagesTs/spleen_7.nii.gz\",\n",
      "        \"./imagesTs/spleen_30.nii.gz\",\n",
      "        \"./imagesTs/spleen_43.nii.gz\",\n",
      "        \"./imagesTs/spleen_51.nii.gz\",\n",
      "        \"./imagesTs/spleen_36.nii.gz\",\n",
      "        \"./imagesTs/spleen_55.nii.gz\",\n",
      "        \"./imagesTs/spleen_57.nii.gz\",\n",
      "        \"./imagesTs/spleen_34.nii.gz\"\n",
      "    ]\n",
      "}\n"
     ]
    }
   ],
   "source": [
    "print(json.dumps(data_description, indent=4))"
   ]
  },
  {
   "cell_type": "markdown",
   "id": "revised-calgary",
   "metadata": {},
   "source": [
    "### Reading and visualizing spleen_2 nifti CT and mask files"
   ]
  },
  {
   "cell_type": "markdown",
   "id": "thirty-seattle",
   "metadata": {},
   "source": [
    "#### CT file"
   ]
  },
  {
   "cell_type": "code",
   "execution_count": 4,
   "id": "choice-softball",
   "metadata": {},
   "outputs": [],
   "source": [
    "ct_1 = nib.load(\"../../datasets/Task09_Spleen/train/images/spleen_2.nii.gz\")"
   ]
  },
  {
   "cell_type": "code",
   "execution_count": 5,
   "id": "received-fitting",
   "metadata": {},
   "outputs": [
    {
     "data": {
      "text/plain": [
       "nibabel.nifti1.Nifti1Image"
      ]
     },
     "execution_count": 5,
     "metadata": {},
     "output_type": "execute_result"
    }
   ],
   "source": [
    "type(ct_1)"
   ]
  },
  {
   "cell_type": "code",
   "execution_count": 6,
   "id": "personal-average",
   "metadata": {},
   "outputs": [],
   "source": [
    "# Read Nifi Image object as numpy file\n",
    "ct_1 = ct_1.get_fdata()"
   ]
  },
  {
   "cell_type": "code",
   "execution_count": 7,
   "id": "comparable-torture",
   "metadata": {},
   "outputs": [
    {
     "data": {
      "text/plain": [
       "numpy.ndarray"
      ]
     },
     "execution_count": 7,
     "metadata": {},
     "output_type": "execute_result"
    }
   ],
   "source": [
    "type(ct_1)"
   ]
  },
  {
   "cell_type": "code",
   "execution_count": 8,
   "id": "contained-occasions",
   "metadata": {},
   "outputs": [
    {
     "data": {
      "text/plain": [
       "dtype('float64')"
      ]
     },
     "execution_count": 8,
     "metadata": {},
     "output_type": "execute_result"
    }
   ],
   "source": [
    "ct_1.dtype"
   ]
  },
  {
   "cell_type": "code",
   "execution_count": 9,
   "id": "cooperative-blackjack",
   "metadata": {},
   "outputs": [
    {
     "data": {
      "text/plain": [
       "(512, 512, 90)"
      ]
     },
     "execution_count": 9,
     "metadata": {},
     "output_type": "execute_result"
    }
   ],
   "source": [
    "ct_1.shape"
   ]
  },
  {
   "cell_type": "code",
   "execution_count": 10,
   "id": "affected-disaster",
   "metadata": {},
   "outputs": [
    {
     "name": "stdout",
     "output_type": "stream",
     "text": [
      "4095.0\n"
     ]
    }
   ],
   "source": [
    "# Range of voxel values (maximum value - minimum value)\n",
    "print(ct_1[:, :, :].ptp())"
   ]
  },
  {
   "cell_type": "code",
   "execution_count": 11,
   "id": "coastal-steering",
   "metadata": {},
   "outputs": [
    {
     "data": {
      "text/plain": [
       "188743808"
      ]
     },
     "execution_count": 11,
     "metadata": {},
     "output_type": "execute_result"
    }
   ],
   "source": [
    "getsizeof(ct_1) # 188.743808 MBs"
   ]
  },
  {
   "cell_type": "code",
   "execution_count": 12,
   "id": "egyptian-citizenship",
   "metadata": {},
   "outputs": [
    {
     "data": {
      "text/plain": [
       "94371968"
      ]
     },
     "execution_count": 12,
     "metadata": {},
     "output_type": "execute_result"
    }
   ],
   "source": [
    "getsizeof(ct_1.astype(np.float32)) # 94.371968 MBs"
   ]
  },
  {
   "cell_type": "code",
   "execution_count": 13,
   "id": "advised-complexity",
   "metadata": {},
   "outputs": [
    {
     "data": {
      "text/plain": [
       "47186048"
      ]
     },
     "execution_count": 13,
     "metadata": {},
     "output_type": "execute_result"
    }
   ],
   "source": [
    "getsizeof(ct_1.astype(np.float16)) # 47.186048 MBs"
   ]
  },
  {
   "cell_type": "markdown",
   "id": "shared-weight",
   "metadata": {},
   "source": [
    "#### Mask file"
   ]
  },
  {
   "cell_type": "code",
   "execution_count": 14,
   "id": "paperback-times",
   "metadata": {},
   "outputs": [],
   "source": [
    "ct_1_mask = nib.load(\"../../datasets/Task09_Spleen/train/masks/spleen_2.nii.gz\")"
   ]
  },
  {
   "cell_type": "code",
   "execution_count": 15,
   "id": "every-advertising",
   "metadata": {},
   "outputs": [],
   "source": [
    "ct_1_mask = ct_1_mask.get_fdata()"
   ]
  },
  {
   "cell_type": "code",
   "execution_count": 16,
   "id": "blank-protocol",
   "metadata": {},
   "outputs": [
    {
     "data": {
      "text/plain": [
       "dtype('float64')"
      ]
     },
     "execution_count": 16,
     "metadata": {},
     "output_type": "execute_result"
    }
   ],
   "source": [
    "ct_1_mask.dtype"
   ]
  },
  {
   "cell_type": "code",
   "execution_count": 17,
   "id": "mathematical-hygiene",
   "metadata": {},
   "outputs": [
    {
     "data": {
      "text/plain": [
       "188743808"
      ]
     },
     "execution_count": 17,
     "metadata": {},
     "output_type": "execute_result"
    }
   ],
   "source": [
    "getsizeof(ct_1_mask) # 188.743808 MBs"
   ]
  },
  {
   "cell_type": "code",
   "execution_count": 18,
   "id": "mental-reynolds",
   "metadata": {
    "scrolled": true
   },
   "outputs": [
    {
     "data": {
      "text/plain": [
       "94371968"
      ]
     },
     "execution_count": 18,
     "metadata": {},
     "output_type": "execute_result"
    }
   ],
   "source": [
    "getsizeof(ct_1_mask.astype(np.float32)) # 94.371968 MBs"
   ]
  },
  {
   "cell_type": "code",
   "execution_count": 19,
   "id": "local-broadway",
   "metadata": {},
   "outputs": [
    {
     "data": {
      "text/plain": [
       "23593088"
      ]
     },
     "execution_count": 19,
     "metadata": {},
     "output_type": "execute_result"
    }
   ],
   "source": [
    "getsizeof(ct_1_mask.astype(np.uint8)) # 23.593088 MBs"
   ]
  },
  {
   "cell_type": "code",
   "execution_count": 20,
   "id": "athletic-track",
   "metadata": {},
   "outputs": [],
   "source": [
    "ct_1_mask = ct_1_mask.astype(np.float32)"
   ]
  },
  {
   "cell_type": "code",
   "execution_count": 21,
   "id": "realistic-interpretation",
   "metadata": {},
   "outputs": [
    {
     "data": {
      "text/plain": [
       "(512, 512, 90)"
      ]
     },
     "execution_count": 21,
     "metadata": {},
     "output_type": "execute_result"
    }
   ],
   "source": [
    "ct_1_mask.shape"
   ]
  },
  {
   "cell_type": "markdown",
   "id": "outer-manor",
   "metadata": {},
   "source": [
    "### Visualizing nifti CT file and Mask file"
   ]
  },
  {
   "cell_type": "code",
   "execution_count": 22,
   "id": "wrong-leader",
   "metadata": {},
   "outputs": [
    {
     "data": {
      "application/vnd.jupyter.widget-view+json": {
       "model_id": "b82bdb9a0cef4df399ddd143f339360d",
       "version_major": 2,
       "version_minor": 0
      },
      "text/plain": [
       "interactive(children=(IntSlider(value=0, continuous_update=False, description='Select Layer', max=89), Output(…"
      ]
     },
     "metadata": {},
     "output_type": "display_data"
    }
   ],
   "source": [
    "# Create layer slider\n",
    "select_layer = IntSlider(min=0, max=ct_1.shape[2] - 1, description='Select Layer', continuous_update=False)\n",
    "\n",
    "    \n",
    "# Define a function for plotting images\n",
    "def plot(layer):\n",
    "    print(f\"Plotting Layer: {layer}\")\n",
    "    fig = plt.figure(figsize=(20, 10))\n",
    "    \n",
    "    fig.add_subplot(1, 2, 1)\n",
    "    plt.imshow(ct_1[:, :, layer], cmap='gray');\n",
    "    plt.title(\"ct\", fontsize=20)\n",
    "    plt.axis('off')\n",
    "    \n",
    "    fig.add_subplot(1, 2, 2)\n",
    "    plt.title(\"Mask\", fontsize=20)\n",
    "    plt.imshow(ct_1_mask[:, :, layer], cmap='gray')\n",
    "    plt.axis('off');\n",
    "\n",
    "# Use the interactive() tool to create the visualization\n",
    "interactive(plot, layer=select_layer)"
   ]
  },
  {
   "cell_type": "markdown",
   "id": "3ae5fa50-6c32-4db0-a1df-deada452fcb3",
   "metadata": {},
   "source": [
    "### Reading and visualizing spleen_3 nifti CT and mask files"
   ]
  },
  {
   "cell_type": "markdown",
   "id": "25dd0578-396a-4fde-961f-1ce9b0a052aa",
   "metadata": {},
   "source": [
    "#### CT file"
   ]
  },
  {
   "cell_type": "code",
   "execution_count": 23,
   "id": "d24439e5-1592-4fa0-b7ba-0c6ed5328c72",
   "metadata": {},
   "outputs": [],
   "source": [
    "ct_2 = nib.load(\"../../datasets/Task09_Spleen/train/images/spleen_3.nii.gz\")"
   ]
  },
  {
   "cell_type": "code",
   "execution_count": 24,
   "id": "86b9b07f-52d5-4707-b5ce-044c2839e2f9",
   "metadata": {},
   "outputs": [
    {
     "data": {
      "text/plain": [
       "nibabel.nifti1.Nifti1Image"
      ]
     },
     "execution_count": 24,
     "metadata": {},
     "output_type": "execute_result"
    }
   ],
   "source": [
    "type(ct_2)"
   ]
  },
  {
   "cell_type": "code",
   "execution_count": 25,
   "id": "61fda828-6143-4d3c-a81e-5dc029b470d8",
   "metadata": {},
   "outputs": [],
   "source": [
    "# Read Nifi Image object as numpy file\n",
    "ct_2 = ct_2.get_fdata()"
   ]
  },
  {
   "cell_type": "code",
   "execution_count": 26,
   "id": "2ef2be88-119f-4a09-b139-b95435aa0c6a",
   "metadata": {},
   "outputs": [
    {
     "data": {
      "text/plain": [
       "numpy.ndarray"
      ]
     },
     "execution_count": 26,
     "metadata": {},
     "output_type": "execute_result"
    }
   ],
   "source": [
    "type(ct_2)"
   ]
  },
  {
   "cell_type": "code",
   "execution_count": 27,
   "id": "8b86c0d8-8d29-4e7f-825f-817082857dbf",
   "metadata": {},
   "outputs": [
    {
     "data": {
      "text/plain": [
       "dtype('float64')"
      ]
     },
     "execution_count": 27,
     "metadata": {},
     "output_type": "execute_result"
    }
   ],
   "source": [
    "ct_2.dtype"
   ]
  },
  {
   "cell_type": "code",
   "execution_count": 28,
   "id": "b46dd99a-bb8a-4651-916c-7ed46983a0e9",
   "metadata": {},
   "outputs": [
    {
     "data": {
      "text/plain": [
       "(512, 512, 40)"
      ]
     },
     "execution_count": 28,
     "metadata": {},
     "output_type": "execute_result"
    }
   ],
   "source": [
    "ct_2.shape"
   ]
  },
  {
   "cell_type": "code",
   "execution_count": 29,
   "id": "0223160a-f367-4e85-803d-de89a04a9f57",
   "metadata": {},
   "outputs": [
    {
     "name": "stdout",
     "output_type": "stream",
     "text": [
      "2370.0\n"
     ]
    }
   ],
   "source": [
    "# Range of voxel values (maximum value - minimum value)\n",
    "print(ct_2[:, :, :].ptp())"
   ]
  },
  {
   "cell_type": "markdown",
   "id": "a5e4e7c2-1c64-401d-b459-18fa7303e5dd",
   "metadata": {},
   "source": [
    "#### Mask file"
   ]
  },
  {
   "cell_type": "code",
   "execution_count": 30,
   "id": "7754dae0-aca4-455a-b949-733b2951b38d",
   "metadata": {},
   "outputs": [],
   "source": [
    "ct_2_mask = nib.load(\"../../datasets/Task09_Spleen/train/masks/spleen_3.nii.gz\")"
   ]
  },
  {
   "cell_type": "code",
   "execution_count": 31,
   "id": "b1ec911d-5378-48a6-bec5-33ae077eacf6",
   "metadata": {},
   "outputs": [],
   "source": [
    "ct_2_mask = ct_2_mask.get_fdata()"
   ]
  },
  {
   "cell_type": "code",
   "execution_count": 32,
   "id": "b827a3be-5dd6-40d6-b612-74aacbdf08e8",
   "metadata": {},
   "outputs": [
    {
     "data": {
      "text/plain": [
       "dtype('float64')"
      ]
     },
     "execution_count": 32,
     "metadata": {},
     "output_type": "execute_result"
    }
   ],
   "source": [
    "ct_2_mask.dtype"
   ]
  },
  {
   "cell_type": "code",
   "execution_count": 33,
   "id": "8d9989cd-db9e-47da-b53e-06df08bd674f",
   "metadata": {},
   "outputs": [],
   "source": [
    "ct_2_mask = ct_2_mask.astype(np.float32)"
   ]
  },
  {
   "cell_type": "code",
   "execution_count": 34,
   "id": "356ce2ac-8838-4871-a7bd-e16341f0c80a",
   "metadata": {},
   "outputs": [
    {
     "data": {
      "text/plain": [
       "(512, 512, 40)"
      ]
     },
     "execution_count": 34,
     "metadata": {},
     "output_type": "execute_result"
    }
   ],
   "source": [
    "ct_2_mask.shape"
   ]
  },
  {
   "cell_type": "markdown",
   "id": "fe8ad507-3125-49e9-887e-1052da417627",
   "metadata": {},
   "source": [
    "### Visualizing nifti CT file and Mask file"
   ]
  },
  {
   "cell_type": "code",
   "execution_count": 35,
   "id": "8fc63b7b-3669-4491-9a1e-82d7cd4bdbee",
   "metadata": {},
   "outputs": [
    {
     "data": {
      "application/vnd.jupyter.widget-view+json": {
       "model_id": "8c7442d99b6142ecb813137f82c02ccc",
       "version_major": 2,
       "version_minor": 0
      },
      "text/plain": [
       "interactive(children=(IntSlider(value=0, continuous_update=False, description='Select Layer', max=39), Output(…"
      ]
     },
     "metadata": {},
     "output_type": "display_data"
    }
   ],
   "source": [
    "# Create layer slider\n",
    "select_layer = IntSlider(min=0, max=ct_2.shape[2] - 1, description='Select Layer', continuous_update=False)\n",
    "\n",
    "    \n",
    "# Define a function for plotting images\n",
    "def plot(layer):\n",
    "    print(f\"Plotting Layer: {layer}\")\n",
    "    fig = plt.figure(figsize=(20, 10))\n",
    "    \n",
    "    fig.add_subplot(1, 2, 1)\n",
    "    plt.imshow(ct_2[:, :, layer], cmap='gray');\n",
    "    plt.title(\"ct\", fontsize=20)\n",
    "    plt.axis('off')\n",
    "    \n",
    "    fig.add_subplot(1, 2, 2)\n",
    "    plt.title(\"Mask\", fontsize=20)\n",
    "    plt.imshow(ct_2_mask[:, :, layer], cmap='gray')\n",
    "    plt.axis('off');\n",
    "\n",
    "# Use the interactive() tool to create the visualization\n",
    "interactive(plot, layer=select_layer)"
   ]
  },
  {
   "cell_type": "markdown",
   "id": "9e840333-6454-47e8-b924-204ac3830047",
   "metadata": {},
   "source": [
    "### Reading and visualizing spleen_6 nifti CT and mask files"
   ]
  },
  {
   "cell_type": "markdown",
   "id": "0ccd9dbd-55b2-4b56-b8bc-d7c469a0d4ea",
   "metadata": {},
   "source": [
    "#### CT file"
   ]
  },
  {
   "cell_type": "code",
   "execution_count": 36,
   "id": "516c1d01-10e8-4877-854b-c57adef05ed7",
   "metadata": {},
   "outputs": [],
   "source": [
    "ct_3 = nib.load(\"../../datasets/Task09_Spleen/train/images/spleen_6.nii.gz\")"
   ]
  },
  {
   "cell_type": "code",
   "execution_count": 37,
   "id": "cfe6aad5-ea1c-4767-8973-262504704e03",
   "metadata": {},
   "outputs": [
    {
     "data": {
      "text/plain": [
       "nibabel.nifti1.Nifti1Image"
      ]
     },
     "execution_count": 37,
     "metadata": {},
     "output_type": "execute_result"
    }
   ],
   "source": [
    "type(ct_3)"
   ]
  },
  {
   "cell_type": "code",
   "execution_count": 38,
   "id": "b7363c8f-2429-4598-9147-715599950380",
   "metadata": {},
   "outputs": [],
   "source": [
    "# Read Nifi Image object as numpy file\n",
    "ct_3 = ct_3.get_fdata()"
   ]
  },
  {
   "cell_type": "code",
   "execution_count": 39,
   "id": "46666fdc-ecd5-4729-8baf-71a4d787b20d",
   "metadata": {},
   "outputs": [
    {
     "data": {
      "text/plain": [
       "numpy.ndarray"
      ]
     },
     "execution_count": 39,
     "metadata": {},
     "output_type": "execute_result"
    }
   ],
   "source": [
    "type(ct_3)"
   ]
  },
  {
   "cell_type": "code",
   "execution_count": 40,
   "id": "8b98a4cc-d395-4818-a241-4dccda53262e",
   "metadata": {},
   "outputs": [
    {
     "data": {
      "text/plain": [
       "dtype('float64')"
      ]
     },
     "execution_count": 40,
     "metadata": {},
     "output_type": "execute_result"
    }
   ],
   "source": [
    "ct_3.dtype"
   ]
  },
  {
   "cell_type": "code",
   "execution_count": 41,
   "id": "413f412c-759a-488c-b783-5fc3f62c0889",
   "metadata": {},
   "outputs": [
    {
     "data": {
      "text/plain": [
       "(512, 512, 135)"
      ]
     },
     "execution_count": 41,
     "metadata": {},
     "output_type": "execute_result"
    }
   ],
   "source": [
    "ct_3.shape"
   ]
  },
  {
   "cell_type": "code",
   "execution_count": 42,
   "id": "9df15bc9-5024-4774-b417-93ed67241e51",
   "metadata": {},
   "outputs": [
    {
     "name": "stdout",
     "output_type": "stream",
     "text": [
      "2276.0\n"
     ]
    }
   ],
   "source": [
    "# Range of voxel values (maximum value - minimum value)\n",
    "print(ct_3[:, :, :].ptp())"
   ]
  },
  {
   "cell_type": "markdown",
   "id": "c7cf7375-3e6d-42cc-85b9-ce54c4197559",
   "metadata": {},
   "source": [
    "#### Mask file"
   ]
  },
  {
   "cell_type": "code",
   "execution_count": 43,
   "id": "0f27d531-a52d-4b1b-84ca-1c1d2d65a8fd",
   "metadata": {},
   "outputs": [],
   "source": [
    "ct_3_mask = nib.load(\"../../datasets/Task09_Spleen/train/masks/spleen_6.nii.gz\")"
   ]
  },
  {
   "cell_type": "code",
   "execution_count": 44,
   "id": "94ea4809-37fe-4f74-bc27-63ee45a7fef8",
   "metadata": {},
   "outputs": [],
   "source": [
    "ct_3_mask = ct_3_mask.get_fdata()"
   ]
  },
  {
   "cell_type": "code",
   "execution_count": 45,
   "id": "916b13c8-66b1-4829-a66b-413fbc32c81b",
   "metadata": {},
   "outputs": [
    {
     "data": {
      "text/plain": [
       "dtype('float64')"
      ]
     },
     "execution_count": 45,
     "metadata": {},
     "output_type": "execute_result"
    }
   ],
   "source": [
    "ct_3_mask.dtype"
   ]
  },
  {
   "cell_type": "code",
   "execution_count": 46,
   "id": "c1310c84-ed82-477c-870d-6f273443004d",
   "metadata": {},
   "outputs": [],
   "source": [
    "ct_3_mask = ct_3_mask.astype(np.float32)"
   ]
  },
  {
   "cell_type": "code",
   "execution_count": 47,
   "id": "1c5c750e-001c-40d9-856c-87019b470a13",
   "metadata": {},
   "outputs": [
    {
     "data": {
      "text/plain": [
       "(512, 512, 135)"
      ]
     },
     "execution_count": 47,
     "metadata": {},
     "output_type": "execute_result"
    }
   ],
   "source": [
    "ct_3_mask.shape"
   ]
  },
  {
   "cell_type": "markdown",
   "id": "5c1990e6-bd2b-4693-9779-d804bc9c1624",
   "metadata": {},
   "source": [
    "### Visualizing nifti CT file and Mask file"
   ]
  },
  {
   "cell_type": "code",
   "execution_count": 48,
   "id": "187c73ee-1b00-44ee-9cc2-6d3fabbc78c6",
   "metadata": {},
   "outputs": [
    {
     "data": {
      "application/vnd.jupyter.widget-view+json": {
       "model_id": "f262022dadec4130896b6261508b68bb",
       "version_major": 2,
       "version_minor": 0
      },
      "text/plain": [
       "interactive(children=(IntSlider(value=0, continuous_update=False, description='Select Layer', max=134), Output…"
      ]
     },
     "metadata": {},
     "output_type": "display_data"
    }
   ],
   "source": [
    "# Create layer slider\n",
    "select_layer = IntSlider(min=0, max=ct_3.shape[2] - 1, description='Select Layer', continuous_update=False)\n",
    "\n",
    "    \n",
    "# Define a function for plotting images\n",
    "def plot(layer):\n",
    "    print(f\"Plotting Layer: {layer}\")\n",
    "    fig = plt.figure(figsize=(20, 10))\n",
    "    \n",
    "    fig.add_subplot(1, 2, 1)\n",
    "    plt.imshow(ct_3[:, :, layer], cmap='gray');\n",
    "    plt.title(\"ct\", fontsize=20)\n",
    "    plt.axis('off')\n",
    "    \n",
    "    fig.add_subplot(1, 2, 2)\n",
    "    plt.title(\"Mask\", fontsize=20)\n",
    "    plt.imshow(ct_3_mask[:, :, layer], cmap='gray')\n",
    "    plt.axis('off');\n",
    "\n",
    "# Use the interactive() tool to create the visualization\n",
    "interactive(plot, layer=select_layer)"
   ]
  },
  {
   "cell_type": "markdown",
   "id": "located-nutrition",
   "metadata": {},
   "source": [
    "### Calculating CT shape counter dictionary"
   ]
  },
  {
   "cell_type": "code",
   "execution_count": 49,
   "id": "sufficient-basic",
   "metadata": {},
   "outputs": [
    {
     "name": "stderr",
     "output_type": "stream",
     "text": [
      "100%|██████████| 61/61 [00:23<00:00,  2.56it/s]\n"
     ]
    }
   ],
   "source": [
    "data_dir = \"../../datasets/Task09_Spleen/\"\n",
    "\n",
    "train_mri_paths = [os.path.join(data_dir + \"train/images\", x) for x in os.listdir(data_dir + \"train/images\")]\n",
    "val_mri_paths = [os.path.join(data_dir + \"val/images\", x) for x in os.listdir(data_dir + \"val/images\")]\n",
    "test_mri_paths = [os.path.join(data_dir + \"test_images_for_model_prediction_submission\", x) for x in os.listdir(data_dir + \"test_images_for_model_prediction_submission\")]\n",
    "\n",
    "all_paths = train_mri_paths + val_mri_paths + test_mri_paths  # concatenate list of paths\n",
    "\n",
    "shape_count_dict = {}\n",
    "\n",
    "for path in tqdm(all_paths):\n",
    "    mri = nib.load(path).get_fdata()\n",
    "    shape = mri.shape\n",
    "    \n",
    "    if shape not in shape_count_dict.keys():\n",
    "        shape_count_dict[shape] = 1\n",
    "    else:\n",
    "        shape_count_dict[shape] += 1   "
   ]
  },
  {
   "cell_type": "code",
   "execution_count": 50,
   "id": "premium-adjustment",
   "metadata": {},
   "outputs": [
    {
     "name": "stdout",
     "output_type": "stream",
     "text": [
      "OrderedDict([((512, 512, 94), 3),\n",
      "             ((512, 512, 44), 2),\n",
      "             ((512, 512, 112), 2),\n",
      "             ((512, 512, 61), 2),\n",
      "             ((512, 512, 103), 2),\n",
      "             ((512, 512, 168), 2),\n",
      "             ((512, 512, 89), 2),\n",
      "             ((512, 512, 50), 2),\n",
      "             ((512, 512, 98), 2),\n",
      "             ((512, 512, 48), 2),\n",
      "             ((512, 512, 96), 2),\n",
      "             ((512, 512, 54), 1),\n",
      "             ((512, 512, 104), 1),\n",
      "             ((512, 512, 41), 1),\n",
      "             ((512, 512, 164), 1),\n",
      "             ((512, 512, 95), 1),\n",
      "             ((512, 512, 55), 1),\n",
      "             ((512, 512, 100), 1),\n",
      "             ((512, 512, 83), 1),\n",
      "             ((512, 512, 40), 1),\n",
      "             ((512, 512, 51), 1),\n",
      "             ((512, 512, 77), 1),\n",
      "             ((512, 512, 87), 1),\n",
      "             ((512, 512, 90), 1),\n",
      "             ((512, 512, 148), 1),\n",
      "             ((512, 512, 135), 1),\n",
      "             ((512, 512, 65), 1),\n",
      "             ((512, 512, 93), 1),\n",
      "             ((512, 512, 119), 1),\n",
      "             ((512, 512, 56), 1),\n",
      "             ((512, 512, 92), 1),\n",
      "             ((512, 512, 31), 1),\n",
      "             ((512, 512, 156), 1),\n",
      "             ((512, 512, 80), 1),\n",
      "             ((512, 512, 60), 1),\n",
      "             ((512, 512, 88), 1),\n",
      "             ((512, 512, 33), 1),\n",
      "             ((512, 512, 101), 1),\n",
      "             ((512, 512, 97), 1),\n",
      "             ((512, 512, 99), 1),\n",
      "             ((512, 512, 102), 1),\n",
      "             ((512, 512, 34), 1),\n",
      "             ((512, 512, 38), 1),\n",
      "             ((512, 512, 157), 1),\n",
      "             ((512, 512, 114), 1),\n",
      "             ((512, 512, 36), 1),\n",
      "             ((512, 512, 86), 1),\n",
      "             ((512, 512, 129), 1),\n",
      "             ((512, 512, 67), 1)])\n"
     ]
    }
   ],
   "source": [
    "shape_count_dict = OrderedDict(sorted(shape_count_dict.items(), key=lambda item: item[1], reverse=True))\n",
    "pprint(shape_count_dict)"
   ]
  },
  {
   "cell_type": "code",
   "execution_count": 51,
   "id": "preliminary-windsor",
   "metadata": {},
   "outputs": [
    {
     "name": "stdout",
     "output_type": "stream",
     "text": [
      "86.12244897959184\n",
      "89.0\n",
      "31\n",
      "168\n"
     ]
    }
   ],
   "source": [
    "list_layers = []\n",
    "for key, val in shape_count_dict.items():\n",
    "    list_layers.append(key[2])\n",
    "\n",
    "layers = np.array(list_layers)\n",
    "print(layers.mean())\n",
    "print(np.median(layers))\n",
    "print(layers.min())\n",
    "print(layers.max())"
   ]
  },
  {
   "cell_type": "code",
   "execution_count": null,
   "id": "executed-rating",
   "metadata": {},
   "outputs": [],
   "source": []
  }
 ],
 "metadata": {
  "kernelspec": {
   "display_name": "Python 3",
   "language": "python",
   "name": "python3"
  },
  "language_info": {
   "codemirror_mode": {
    "name": "ipython",
    "version": 3
   },
   "file_extension": ".py",
   "mimetype": "text/x-python",
   "name": "python",
   "nbconvert_exporter": "python",
   "pygments_lexer": "ipython3",
   "version": "3.7.10"
  }
 },
 "nbformat": 4,
 "nbformat_minor": 5
}
