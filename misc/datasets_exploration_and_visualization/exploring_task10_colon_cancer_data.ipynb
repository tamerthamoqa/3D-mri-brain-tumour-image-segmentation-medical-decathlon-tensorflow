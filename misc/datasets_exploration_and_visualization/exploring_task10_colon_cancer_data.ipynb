{
 "cells": [
  {
   "cell_type": "markdown",
   "id": "micro-major",
   "metadata": {},
   "source": [
    "__Note__: The code used here was heavily inspired by the AI for Medicine Specialization Course 1 Week three programming assignments: [link](https://www.coursera.org/learn/ai-for-medical-diagnosis)"
   ]
  },
  {
   "cell_type": "code",
   "execution_count": 1,
   "id": "attractive-operator",
   "metadata": {},
   "outputs": [],
   "source": [
    "import numpy as np\n",
    "import nibabel as nib\n",
    "import matplotlib.pyplot as plt\n",
    "import json\n",
    "import os\n",
    "from pprint import pprint\n",
    "from collections import OrderedDict\n",
    "from ipywidgets import interact, interactive, IntSlider, ToggleButtons\n",
    "from sys import getsizeof\n",
    "from tqdm import tqdm"
   ]
  },
  {
   "cell_type": "markdown",
   "id": "broadband-cisco",
   "metadata": {},
   "source": [
    "### Reading dataset description"
   ]
  },
  {
   "cell_type": "code",
   "execution_count": 2,
   "id": "modular-selling",
   "metadata": {},
   "outputs": [],
   "source": [
    "file = open('../datasets_descriptions_json/task10_colon_dataset.json')\n",
    "data_description = json.load(file)"
   ]
  },
  {
   "cell_type": "code",
   "execution_count": 3,
   "id": "convinced-occupation",
   "metadata": {},
   "outputs": [
    {
     "name": "stdout",
     "output_type": "stream",
     "text": [
      "{\n",
      "    \"name\": \"Colon\",\n",
      "    \"description\": \"Colon Cancer segmentation\",\n",
      "    \"reference\": \" Memorial Sloan Kettering Cancer Center\",\n",
      "    \"licence\": \"CC-BY-SA 4.0\",\n",
      "    \"release\": \"1.0 06/08/2018\",\n",
      "    \"tensorImageSize\": \"3D\",\n",
      "    \"modality\": {\n",
      "        \"0\": \"CT\"\n",
      "    },\n",
      "    \"labels\": {\n",
      "        \"0\": \"background\",\n",
      "        \"1\": \"colon cancer primaries\"\n",
      "    },\n",
      "    \"numTraining\": 126,\n",
      "    \"numTest\": 64,\n",
      "    \"training\": [\n",
      "        {\n",
      "            \"image\": \"./imagesTr/colon_219.nii.gz\",\n",
      "            \"label\": \"./labelsTr/colon_219.nii.gz\"\n",
      "        },\n",
      "        {\n",
      "            \"image\": \"./imagesTr/colon_207.nii.gz\",\n",
      "            \"label\": \"./labelsTr/colon_207.nii.gz\"\n",
      "        },\n",
      "        {\n",
      "            \"image\": \"./imagesTr/colon_215.nii.gz\",\n",
      "            \"label\": \"./labelsTr/colon_215.nii.gz\"\n",
      "        },\n",
      "        {\n",
      "            \"image\": \"./imagesTr/colon_194.nii.gz\",\n",
      "            \"label\": \"./labelsTr/colon_194.nii.gz\"\n",
      "        },\n",
      "        {\n",
      "            \"image\": \"./imagesTr/colon_098.nii.gz\",\n",
      "            \"label\": \"./labelsTr/colon_098.nii.gz\"\n",
      "        },\n",
      "        {\n",
      "            \"image\": \"./imagesTr/colon_086.nii.gz\",\n",
      "            \"label\": \"./labelsTr/colon_086.nii.gz\"\n",
      "        },\n",
      "        {\n",
      "            \"image\": \"./imagesTr/colon_051.nii.gz\",\n",
      "            \"label\": \"./labelsTr/colon_051.nii.gz\"\n",
      "        },\n",
      "        {\n",
      "            \"image\": \"./imagesTr/colon_032.nii.gz\",\n",
      "            \"label\": \"./labelsTr/colon_032.nii.gz\"\n",
      "        },\n",
      "        {\n",
      "            \"image\": \"./imagesTr/colon_143.nii.gz\",\n",
      "            \"label\": \"./labelsTr/colon_143.nii.gz\"\n",
      "        },\n",
      "        {\n",
      "            \"image\": \"./imagesTr/colon_120.nii.gz\",\n",
      "            \"label\": \"./labelsTr/colon_120.nii.gz\"\n",
      "        },\n",
      "        {\n",
      "            \"image\": \"./imagesTr/colon_075.nii.gz\",\n",
      "            \"label\": \"./labelsTr/colon_075.nii.gz\"\n",
      "        },\n",
      "        {\n",
      "            \"image\": \"./imagesTr/colon_175.nii.gz\",\n",
      "            \"label\": \"./labelsTr/colon_175.nii.gz\"\n",
      "        },\n",
      "        {\n",
      "            \"image\": \"./imagesTr/colon_008.nii.gz\",\n",
      "            \"label\": \"./labelsTr/colon_008.nii.gz\"\n",
      "        },\n",
      "        {\n",
      "            \"image\": \"./imagesTr/colon_108.nii.gz\",\n",
      "            \"label\": \"./labelsTr/colon_108.nii.gz\"\n",
      "        },\n",
      "        {\n",
      "            \"image\": \"./imagesTr/colon_104.nii.gz\",\n",
      "            \"label\": \"./labelsTr/colon_104.nii.gz\"\n",
      "        },\n",
      "        {\n",
      "            \"image\": \"./imagesTr/colon_022.nii.gz\",\n",
      "            \"label\": \"./labelsTr/colon_022.nii.gz\"\n",
      "        },\n",
      "        {\n",
      "            \"image\": \"./imagesTr/colon_122.nii.gz\",\n",
      "            \"label\": \"./labelsTr/colon_122.nii.gz\"\n",
      "        },\n",
      "        {\n",
      "            \"image\": \"./imagesTr/colon_041.nii.gz\",\n",
      "            \"label\": \"./labelsTr/colon_041.nii.gz\"\n",
      "        },\n",
      "        {\n",
      "            \"image\": \"./imagesTr/colon_141.nii.gz\",\n",
      "            \"label\": \"./labelsTr/colon_141.nii.gz\"\n",
      "        },\n",
      "        {\n",
      "            \"image\": \"./imagesTr/colon_030.nii.gz\",\n",
      "            \"label\": \"./labelsTr/colon_030.nii.gz\"\n",
      "        },\n",
      "        {\n",
      "            \"image\": \"./imagesTr/colon_053.nii.gz\",\n",
      "            \"label\": \"./labelsTr/colon_053.nii.gz\"\n",
      "        },\n",
      "        {\n",
      "            \"image\": \"./imagesTr/colon_106.nii.gz\",\n",
      "            \"label\": \"./labelsTr/colon_106.nii.gz\"\n",
      "        },\n",
      "        {\n",
      "            \"image\": \"./imagesTr/colon_006.nii.gz\",\n",
      "            \"label\": \"./labelsTr/colon_006.nii.gz\"\n",
      "        },\n",
      "        {\n",
      "            \"image\": \"./imagesTr/colon_165.nii.gz\",\n",
      "            \"label\": \"./labelsTr/colon_165.nii.gz\"\n",
      "        },\n",
      "        {\n",
      "            \"image\": \"./imagesTr/colon_065.nii.gz\",\n",
      "            \"label\": \"./labelsTr/colon_065.nii.gz\"\n",
      "        },\n",
      "        {\n",
      "            \"image\": \"./imagesTr/colon_118.nii.gz\",\n",
      "            \"label\": \"./labelsTr/colon_118.nii.gz\"\n",
      "        },\n",
      "        {\n",
      "            \"image\": \"./imagesTr/colon_069.nii.gz\",\n",
      "            \"label\": \"./labelsTr/colon_069.nii.gz\"\n",
      "        },\n",
      "        {\n",
      "            \"image\": \"./imagesTr/colon_169.nii.gz\",\n",
      "            \"label\": \"./labelsTr/colon_169.nii.gz\"\n",
      "        },\n",
      "        {\n",
      "            \"image\": \"./imagesTr/colon_114.nii.gz\",\n",
      "            \"label\": \"./labelsTr/colon_114.nii.gz\"\n",
      "        },\n",
      "        {\n",
      "            \"image\": \"./imagesTr/colon_077.nii.gz\",\n",
      "            \"label\": \"./labelsTr/colon_077.nii.gz\"\n",
      "        },\n",
      "        {\n",
      "            \"image\": \"./imagesTr/colon_217.nii.gz\",\n",
      "            \"label\": \"./labelsTr/colon_217.nii.gz\"\n",
      "        },\n",
      "        {\n",
      "            \"image\": \"./imagesTr/colon_205.nii.gz\",\n",
      "            \"label\": \"./labelsTr/colon_205.nii.gz\"\n",
      "        },\n",
      "        {\n",
      "            \"image\": \"./imagesTr/colon_096.nii.gz\",\n",
      "            \"label\": \"./labelsTr/colon_096.nii.gz\"\n",
      "        },\n",
      "        {\n",
      "            \"image\": \"./imagesTr/colon_196.nii.gz\",\n",
      "            \"label\": \"./labelsTr/colon_196.nii.gz\"\n",
      "        },\n",
      "        {\n",
      "            \"image\": \"./imagesTr/colon_088.nii.gz\",\n",
      "            \"label\": \"./labelsTr/colon_088.nii.gz\"\n",
      "        },\n",
      "        {\n",
      "            \"image\": \"./imagesTr/colon_102.nii.gz\",\n",
      "            \"label\": \"./labelsTr/colon_102.nii.gz\"\n",
      "        },\n",
      "        {\n",
      "            \"image\": \"./imagesTr/colon_161.nii.gz\",\n",
      "            \"label\": \"./labelsTr/colon_161.nii.gz\"\n",
      "        },\n",
      "        {\n",
      "            \"image\": \"./imagesTr/colon_061.nii.gz\",\n",
      "            \"label\": \"./labelsTr/colon_061.nii.gz\"\n",
      "        },\n",
      "        {\n",
      "            \"image\": \"./imagesTr/colon_134.nii.gz\",\n",
      "            \"label\": \"./labelsTr/colon_134.nii.gz\"\n",
      "        },\n",
      "        {\n",
      "            \"image\": \"./imagesTr/colon_149.nii.gz\",\n",
      "            \"label\": \"./labelsTr/colon_149.nii.gz\"\n",
      "        },\n",
      "        {\n",
      "            \"image\": \"./imagesTr/colon_157.nii.gz\",\n",
      "            \"label\": \"./labelsTr/colon_157.nii.gz\"\n",
      "        },\n",
      "        {\n",
      "            \"image\": \"./imagesTr/colon_026.nii.gz\",\n",
      "            \"label\": \"./labelsTr/colon_026.nii.gz\"\n",
      "        },\n",
      "        {\n",
      "            \"image\": \"./imagesTr/colon_126.nii.gz\",\n",
      "            \"label\": \"./labelsTr/colon_126.nii.gz\"\n",
      "        },\n",
      "        {\n",
      "            \"image\": \"./imagesTr/colon_038.nii.gz\",\n",
      "            \"label\": \"./labelsTr/colon_038.nii.gz\"\n",
      "        },\n",
      "        {\n",
      "            \"image\": \"./imagesTr/colon_138.nii.gz\",\n",
      "            \"label\": \"./labelsTr/colon_138.nii.gz\"\n",
      "        },\n",
      "        {\n",
      "            \"image\": \"./imagesTr/colon_045.nii.gz\",\n",
      "            \"label\": \"./labelsTr/colon_045.nii.gz\"\n",
      "        },\n",
      "        {\n",
      "            \"image\": \"./imagesTr/colon_145.nii.gz\",\n",
      "            \"label\": \"./labelsTr/colon_145.nii.gz\"\n",
      "        },\n",
      "        {\n",
      "            \"image\": \"./imagesTr/colon_092.nii.gz\",\n",
      "            \"label\": \"./labelsTr/colon_092.nii.gz\"\n",
      "        },\n",
      "        {\n",
      "            \"image\": \"./imagesTr/colon_192.nii.gz\",\n",
      "            \"label\": \"./labelsTr/colon_192.nii.gz\"\n",
      "        },\n",
      "        {\n",
      "            \"image\": \"./imagesTr/colon_201.nii.gz\",\n",
      "            \"label\": \"./labelsTr/colon_201.nii.gz\"\n",
      "        },\n",
      "        {\n",
      "            \"image\": \"./imagesTr/colon_213.nii.gz\",\n",
      "            \"label\": \"./labelsTr/colon_213.nii.gz\"\n",
      "        },\n",
      "        {\n",
      "            \"image\": \"./imagesTr/colon_203.nii.gz\",\n",
      "            \"label\": \"./labelsTr/colon_203.nii.gz\"\n",
      "        },\n",
      "        {\n",
      "            \"image\": \"./imagesTr/colon_163.nii.gz\",\n",
      "            \"label\": \"./labelsTr/colon_163.nii.gz\"\n",
      "        },\n",
      "        {\n",
      "            \"image\": \"./imagesTr/colon_100.nii.gz\",\n",
      "            \"label\": \"./labelsTr/colon_100.nii.gz\"\n",
      "        },\n",
      "        {\n",
      "            \"image\": \"./imagesTr/colon_171.nii.gz\",\n",
      "            \"label\": \"./labelsTr/colon_171.nii.gz\"\n",
      "        },\n",
      "        {\n",
      "            \"image\": \"./imagesTr/colon_012.nii.gz\",\n",
      "            \"label\": \"./labelsTr/colon_012.nii.gz\"\n",
      "        },\n",
      "        {\n",
      "            \"image\": \"./imagesTr/colon_112.nii.gz\",\n",
      "            \"label\": \"./labelsTr/colon_112.nii.gz\"\n",
      "        },\n",
      "        {\n",
      "            \"image\": \"./imagesTr/colon_024.nii.gz\",\n",
      "            \"label\": \"./labelsTr/colon_024.nii.gz\"\n",
      "        },\n",
      "        {\n",
      "            \"image\": \"./imagesTr/colon_124.nii.gz\",\n",
      "            \"label\": \"./labelsTr/colon_124.nii.gz\"\n",
      "        },\n",
      "        {\n",
      "            \"image\": \"./imagesTr/colon_059.nii.gz\",\n",
      "            \"label\": \"./labelsTr/colon_059.nii.gz\"\n",
      "        },\n",
      "        {\n",
      "            \"image\": \"./imagesTr/colon_159.nii.gz\",\n",
      "            \"label\": \"./labelsTr/colon_159.nii.gz\"\n",
      "        },\n",
      "        {\n",
      "            \"image\": \"./imagesTr/colon_028.nii.gz\",\n",
      "            \"label\": \"./labelsTr/colon_028.nii.gz\"\n",
      "        },\n",
      "        {\n",
      "            \"image\": \"./imagesTr/colon_155.nii.gz\",\n",
      "            \"label\": \"./labelsTr/colon_155.nii.gz\"\n",
      "        },\n",
      "        {\n",
      "            \"image\": \"./imagesTr/colon_136.nii.gz\",\n",
      "            \"label\": \"./labelsTr/colon_136.nii.gz\"\n",
      "        },\n",
      "        {\n",
      "            \"image\": \"./imagesTr/colon_036.nii.gz\",\n",
      "            \"label\": \"./labelsTr/colon_036.nii.gz\"\n",
      "        },\n",
      "        {\n",
      "            \"image\": \"./imagesTr/colon_117.nii.gz\",\n",
      "            \"label\": \"./labelsTr/colon_117.nii.gz\"\n",
      "        },\n",
      "        {\n",
      "            \"image\": \"./imagesTr/colon_009.nii.gz\",\n",
      "            \"label\": \"./labelsTr/colon_009.nii.gz\"\n",
      "        },\n",
      "        {\n",
      "            \"image\": \"./imagesTr/colon_074.nii.gz\",\n",
      "            \"label\": \"./labelsTr/colon_074.nii.gz\"\n",
      "        },\n",
      "        {\n",
      "            \"image\": \"./imagesTr/colon_005.nii.gz\",\n",
      "            \"label\": \"./labelsTr/colon_005.nii.gz\"\n",
      "        },\n",
      "        {\n",
      "            \"image\": \"./imagesTr/colon_078.nii.gz\",\n",
      "            \"label\": \"./labelsTr/colon_078.nii.gz\"\n",
      "        },\n",
      "        {\n",
      "            \"image\": \"./imagesTr/colon_066.nii.gz\",\n",
      "            \"label\": \"./labelsTr/colon_066.nii.gz\"\n",
      "        },\n",
      "        {\n",
      "            \"image\": \"./imagesTr/colon_166.nii.gz\",\n",
      "            \"label\": \"./labelsTr/colon_166.nii.gz\"\n",
      "        },\n",
      "        {\n",
      "            \"image\": \"./imagesTr/colon_033.nii.gz\",\n",
      "            \"label\": \"./labelsTr/colon_033.nii.gz\"\n",
      "        },\n",
      "        {\n",
      "            \"image\": \"./imagesTr/colon_133.nii.gz\",\n",
      "            \"label\": \"./labelsTr/colon_133.nii.gz\"\n",
      "        },\n",
      "        {\n",
      "            \"image\": \"./imagesTr/colon_050.nii.gz\",\n",
      "            \"label\": \"./labelsTr/colon_050.nii.gz\"\n",
      "        },\n",
      "        {\n",
      "            \"image\": \"./imagesTr/colon_142.nii.gz\",\n",
      "            \"label\": \"./labelsTr/colon_142.nii.gz\"\n",
      "        },\n",
      "        {\n",
      "            \"image\": \"./imagesTr/colon_042.nii.gz\",\n",
      "            \"label\": \"./labelsTr/colon_042.nii.gz\"\n",
      "        },\n",
      "        {\n",
      "            \"image\": \"./imagesTr/colon_095.nii.gz\",\n",
      "            \"label\": \"./labelsTr/colon_095.nii.gz\"\n",
      "        },\n",
      "        {\n",
      "            \"image\": \"./imagesTr/colon_187.nii.gz\",\n",
      "            \"label\": \"./labelsTr/colon_187.nii.gz\"\n",
      "        },\n",
      "        {\n",
      "            \"image\": \"./imagesTr/colon_099.nii.gz\",\n",
      "            \"label\": \"./labelsTr/colon_099.nii.gz\"\n",
      "        },\n",
      "        {\n",
      "            \"image\": \"./imagesTr/colon_206.nii.gz\",\n",
      "            \"label\": \"./labelsTr/colon_206.nii.gz\"\n",
      "        },\n",
      "        {\n",
      "            \"image\": \"./imagesTr/colon_218.nii.gz\",\n",
      "            \"label\": \"./labelsTr/colon_218.nii.gz\"\n",
      "        },\n",
      "        {\n",
      "            \"image\": \"./imagesTr/colon_214.nii.gz\",\n",
      "            \"label\": \"./labelsTr/colon_214.nii.gz\"\n",
      "        },\n",
      "        {\n",
      "            \"image\": \"./imagesTr/colon_185.nii.gz\",\n",
      "            \"label\": \"./labelsTr/colon_185.nii.gz\"\n",
      "        },\n",
      "        {\n",
      "            \"image\": \"./imagesTr/colon_089.nii.gz\",\n",
      "            \"label\": \"./labelsTr/colon_089.nii.gz\"\n",
      "        },\n",
      "        {\n",
      "            \"image\": \"./imagesTr/colon_208.nii.gz\",\n",
      "            \"label\": \"./labelsTr/colon_208.nii.gz\"\n",
      "        },\n",
      "        {\n",
      "            \"image\": \"./imagesTr/colon_216.nii.gz\",\n",
      "            \"label\": \"./labelsTr/colon_216.nii.gz\"\n",
      "        },\n",
      "        {\n",
      "            \"image\": \"./imagesTr/colon_119.nii.gz\",\n",
      "            \"label\": \"./labelsTr/colon_119.nii.gz\"\n",
      "        },\n",
      "        {\n",
      "            \"image\": \"./imagesTr/colon_064.nii.gz\",\n",
      "            \"label\": \"./labelsTr/colon_064.nii.gz\"\n",
      "        },\n",
      "        {\n",
      "            \"image\": \"./imagesTr/colon_164.nii.gz\",\n",
      "            \"label\": \"./labelsTr/colon_164.nii.gz\"\n",
      "        },\n",
      "        {\n",
      "            \"image\": \"./imagesTr/colon_007.nii.gz\",\n",
      "            \"label\": \"./labelsTr/colon_007.nii.gz\"\n",
      "        },\n",
      "        {\n",
      "            \"image\": \"./imagesTr/colon_107.nii.gz\",\n",
      "            \"label\": \"./labelsTr/colon_107.nii.gz\"\n",
      "        },\n",
      "        {\n",
      "            \"image\": \"./imagesTr/colon_176.nii.gz\",\n",
      "            \"label\": \"./labelsTr/colon_176.nii.gz\"\n",
      "        },\n",
      "        {\n",
      "            \"image\": \"./imagesTr/colon_115.nii.gz\",\n",
      "            \"label\": \"./labelsTr/colon_115.nii.gz\"\n",
      "        },\n",
      "        {\n",
      "            \"image\": \"./imagesTr/colon_015.nii.gz\",\n",
      "            \"label\": \"./labelsTr/colon_015.nii.gz\"\n",
      "        },\n",
      "        {\n",
      "            \"image\": \"./imagesTr/colon_168.nii.gz\",\n",
      "            \"label\": \"./labelsTr/colon_168.nii.gz\"\n",
      "        },\n",
      "        {\n",
      "            \"image\": \"./imagesTr/colon_140.nii.gz\",\n",
      "            \"label\": \"./labelsTr/colon_140.nii.gz\"\n",
      "        },\n",
      "        {\n",
      "            \"image\": \"./imagesTr/colon_040.nii.gz\",\n",
      "            \"label\": \"./labelsTr/colon_040.nii.gz\"\n",
      "        },\n",
      "        {\n",
      "            \"image\": \"./imagesTr/colon_031.nii.gz\",\n",
      "            \"label\": \"./labelsTr/colon_031.nii.gz\"\n",
      "        },\n",
      "        {\n",
      "            \"image\": \"./imagesTr/colon_131.nii.gz\",\n",
      "            \"label\": \"./labelsTr/colon_131.nii.gz\"\n",
      "        },\n",
      "        {\n",
      "            \"image\": \"./imagesTr/colon_212.nii.gz\",\n",
      "            \"label\": \"./labelsTr/colon_212.nii.gz\"\n",
      "        },\n",
      "        {\n",
      "            \"image\": \"./imagesTr/colon_193.nii.gz\",\n",
      "            \"label\": \"./labelsTr/colon_193.nii.gz\"\n",
      "        },\n",
      "        {\n",
      "            \"image\": \"./imagesTr/colon_081.nii.gz\",\n",
      "            \"label\": \"./labelsTr/colon_081.nii.gz\"\n",
      "        },\n",
      "        {\n",
      "            \"image\": \"./imagesTr/colon_181.nii.gz\",\n",
      "            \"label\": \"./labelsTr/colon_181.nii.gz\"\n",
      "        },\n",
      "        {\n",
      "            \"image\": \"./imagesTr/colon_148.nii.gz\",\n",
      "            \"label\": \"./labelsTr/colon_148.nii.gz\"\n",
      "        },\n",
      "        {\n",
      "            \"image\": \"./imagesTr/colon_144.nii.gz\",\n",
      "            \"label\": \"./labelsTr/colon_144.nii.gz\"\n",
      "        },\n",
      "        {\n",
      "            \"image\": \"./imagesTr/colon_139.nii.gz\",\n",
      "            \"label\": \"./labelsTr/colon_139.nii.gz\"\n",
      "        },\n",
      "        {\n",
      "            \"image\": \"./imagesTr/colon_039.nii.gz\",\n",
      "            \"label\": \"./labelsTr/colon_039.nii.gz\"\n",
      "        },\n",
      "        {\n",
      "            \"image\": \"./imagesTr/colon_127.nii.gz\",\n",
      "            \"label\": \"./labelsTr/colon_127.nii.gz\"\n",
      "        },\n",
      "        {\n",
      "            \"image\": \"./imagesTr/colon_027.nii.gz\",\n",
      "            \"label\": \"./labelsTr/colon_027.nii.gz\"\n",
      "        },\n",
      "        {\n",
      "            \"image\": \"./imagesTr/colon_172.nii.gz\",\n",
      "            \"label\": \"./labelsTr/colon_172.nii.gz\"\n",
      "        },\n",
      "        {\n",
      "            \"image\": \"./imagesTr/colon_072.nii.gz\",\n",
      "            \"label\": \"./labelsTr/colon_072.nii.gz\"\n",
      "        },\n",
      "        {\n",
      "            \"image\": \"./imagesTr/colon_111.nii.gz\",\n",
      "            \"label\": \"./labelsTr/colon_111.nii.gz\"\n",
      "        },\n",
      "        {\n",
      "            \"image\": \"./imagesTr/colon_011.nii.gz\",\n",
      "            \"label\": \"./labelsTr/colon_011.nii.gz\"\n",
      "        },\n",
      "        {\n",
      "            \"image\": \"./imagesTr/colon_103.nii.gz\",\n",
      "            \"label\": \"./labelsTr/colon_103.nii.gz\"\n",
      "        },\n",
      "        {\n",
      "            \"image\": \"./imagesTr/colon_025.nii.gz\",\n",
      "            \"label\": \"./labelsTr/colon_025.nii.gz\"\n",
      "        },\n",
      "        {\n",
      "            \"image\": \"./imagesTr/colon_046.nii.gz\",\n",
      "            \"label\": \"./labelsTr/colon_046.nii.gz\"\n",
      "        },\n",
      "        {\n",
      "            \"image\": \"./imagesTr/colon_137.nii.gz\",\n",
      "            \"label\": \"./labelsTr/colon_137.nii.gz\"\n",
      "        },\n",
      "        {\n",
      "            \"image\": \"./imagesTr/colon_054.nii.gz\",\n",
      "            \"label\": \"./labelsTr/colon_054.nii.gz\"\n",
      "        },\n",
      "        {\n",
      "            \"image\": \"./imagesTr/colon_154.nii.gz\",\n",
      "            \"label\": \"./labelsTr/colon_154.nii.gz\"\n",
      "        },\n",
      "        {\n",
      "            \"image\": \"./imagesTr/colon_029.nii.gz\",\n",
      "            \"label\": \"./labelsTr/colon_029.nii.gz\"\n",
      "        },\n",
      "        {\n",
      "            \"image\": \"./imagesTr/colon_129.nii.gz\",\n",
      "            \"label\": \"./labelsTr/colon_129.nii.gz\"\n",
      "        },\n",
      "        {\n",
      "            \"image\": \"./imagesTr/colon_001.nii.gz\",\n",
      "            \"label\": \"./labelsTr/colon_001.nii.gz\"\n",
      "        },\n",
      "        {\n",
      "            \"image\": \"./imagesTr/colon_162.nii.gz\",\n",
      "            \"label\": \"./labelsTr/colon_162.nii.gz\"\n",
      "        },\n",
      "        {\n",
      "            \"image\": \"./imagesTr/colon_202.nii.gz\",\n",
      "            \"label\": \"./labelsTr/colon_202.nii.gz\"\n",
      "        },\n",
      "        {\n",
      "            \"image\": \"./imagesTr/colon_091.nii.gz\",\n",
      "            \"label\": \"./labelsTr/colon_091.nii.gz\"\n",
      "        }\n",
      "    ],\n",
      "    \"test\": [\n",
      "        \"./imagesTs/colon_198.nii.gz\",\n",
      "        \"./imagesTs/colon_186.nii.gz\",\n",
      "        \"./imagesTs/colon_151.nii.gz\",\n",
      "        \"./imagesTs/colon_132.nii.gz\",\n",
      "        \"./imagesTs/colon_020.nii.gz\",\n",
      "        \"./imagesTs/colon_116.nii.gz\",\n",
      "        \"./imagesTs/colon_067.nii.gz\",\n",
      "        \"./imagesTs/colon_179.nii.gz\",\n",
      "        \"./imagesTs/colon_079.nii.gz\",\n",
      "        \"./imagesTs/colon_004.nii.gz\",\n",
      "        \"./imagesTs/colon_153.nii.gz\",\n",
      "        \"./imagesTs/colon_018.nii.gz\",\n",
      "        \"./imagesTs/colon_177.nii.gz\",\n",
      "        \"./imagesTs/colon_209.nii.gz\",\n",
      "        \"./imagesTs/colon_184.nii.gz\",\n",
      "        \"./imagesTs/colon_084.nii.gz\",\n",
      "        \"./imagesTs/colon_188.nii.gz\",\n",
      "        \"./imagesTs/colon_010.nii.gz\",\n",
      "        \"./imagesTs/colon_110.nii.gz\",\n",
      "        \"./imagesTs/colon_034.nii.gz\",\n",
      "        \"./imagesTs/colon_049.nii.gz\",\n",
      "        \"./imagesTs/colon_180.nii.gz\",\n",
      "        \"./imagesTs/colon_182.nii.gz\",\n",
      "        \"./imagesTs/colon_082.nii.gz\",\n",
      "        \"./imagesTs/colon_090.nii.gz\",\n",
      "        \"./imagesTs/colon_190.nii.gz\",\n",
      "        \"./imagesTs/colon_063.nii.gz\",\n",
      "        \"./imagesTs/colon_071.nii.gz\",\n",
      "        \"./imagesTs/colon_147.nii.gz\",\n",
      "        \"./imagesTs/colon_128.nii.gz\",\n",
      "        \"./imagesTs/colon_055.nii.gz\",\n",
      "        \"./imagesTs/colon_017.nii.gz\",\n",
      "        \"./imagesTs/colon_109.nii.gz\",\n",
      "        \"./imagesTs/colon_174.nii.gz\",\n",
      "        \"./imagesTs/colon_105.nii.gz\",\n",
      "        \"./imagesTs/colon_178.nii.gz\",\n",
      "        \"./imagesTs/colon_150.nii.gz\",\n",
      "        \"./imagesTs/colon_121.nii.gz\",\n",
      "        \"./imagesTs/colon_021.nii.gz\",\n",
      "        \"./imagesTs/colon_195.nii.gz\",\n",
      "        \"./imagesTs/colon_087.nii.gz\",\n",
      "        \"./imagesTs/colon_085.nii.gz\",\n",
      "        \"./imagesTs/colon_189.nii.gz\",\n",
      "        \"./imagesTs/colon_204.nii.gz\",\n",
      "        \"./imagesTs/colon_019.nii.gz\",\n",
      "        \"./imagesTs/colon_076.nii.gz\",\n",
      "        \"./imagesTs/colon_123.nii.gz\",\n",
      "        \"./imagesTs/colon_023.nii.gz\",\n",
      "        \"./imagesTs/colon_200.nii.gz\",\n",
      "        \"./imagesTs/colon_056.nii.gz\",\n",
      "        \"./imagesTs/colon_156.nii.gz\",\n",
      "        \"./imagesTs/colon_048.nii.gz\",\n",
      "        \"./imagesTs/colon_060.nii.gz\",\n",
      "        \"./imagesTs/colon_003.nii.gz\",\n",
      "        \"./imagesTs/colon_158.nii.gz\",\n",
      "        \"./imagesTs/colon_146.nii.gz\",\n",
      "        \"./imagesTs/colon_037.nii.gz\",\n",
      "        \"./imagesTs/colon_101.nii.gz\",\n",
      "        \"./imagesTs/colon_013.nii.gz\",\n",
      "        \"./imagesTs/colon_170.nii.gz\",\n",
      "        \"./imagesTs/colon_070.nii.gz\",\n",
      "        \"./imagesTs/colon_083.nii.gz\",\n",
      "        \"./imagesTs/colon_183.nii.gz\",\n",
      "        \"./imagesTs/colon_191.nii.gz\"\n",
      "    ]\n",
      "}\n"
     ]
    }
   ],
   "source": [
    "print(json.dumps(data_description, indent=4))"
   ]
  },
  {
   "cell_type": "markdown",
   "id": "revised-calgary",
   "metadata": {},
   "source": [
    "### Reading and visualizing colon_001 nifti CT and mask files"
   ]
  },
  {
   "cell_type": "markdown",
   "id": "thirty-seattle",
   "metadata": {},
   "source": [
    "#### CT file"
   ]
  },
  {
   "cell_type": "code",
   "execution_count": 4,
   "id": "choice-softball",
   "metadata": {},
   "outputs": [],
   "source": [
    "ct_1 = nib.load(\"../../datasets/Task10_Colon/train/images/colon_001.nii.gz\")"
   ]
  },
  {
   "cell_type": "code",
   "execution_count": 5,
   "id": "received-fitting",
   "metadata": {},
   "outputs": [
    {
     "data": {
      "text/plain": [
       "nibabel.nifti1.Nifti1Image"
      ]
     },
     "execution_count": 5,
     "metadata": {},
     "output_type": "execute_result"
    }
   ],
   "source": [
    "type(ct_1)"
   ]
  },
  {
   "cell_type": "code",
   "execution_count": 6,
   "id": "personal-average",
   "metadata": {},
   "outputs": [],
   "source": [
    "# Read Nifi Image object as numpy file\n",
    "ct_1 = ct_1.get_fdata()"
   ]
  },
  {
   "cell_type": "code",
   "execution_count": 7,
   "id": "comparable-torture",
   "metadata": {},
   "outputs": [
    {
     "data": {
      "text/plain": [
       "numpy.ndarray"
      ]
     },
     "execution_count": 7,
     "metadata": {},
     "output_type": "execute_result"
    }
   ],
   "source": [
    "type(ct_1)"
   ]
  },
  {
   "cell_type": "code",
   "execution_count": 8,
   "id": "contained-occasions",
   "metadata": {},
   "outputs": [
    {
     "data": {
      "text/plain": [
       "dtype('float64')"
      ]
     },
     "execution_count": 8,
     "metadata": {},
     "output_type": "execute_result"
    }
   ],
   "source": [
    "ct_1.dtype"
   ]
  },
  {
   "cell_type": "code",
   "execution_count": 9,
   "id": "cooperative-blackjack",
   "metadata": {},
   "outputs": [
    {
     "data": {
      "text/plain": [
       "(512, 512, 60)"
      ]
     },
     "execution_count": 9,
     "metadata": {},
     "output_type": "execute_result"
    }
   ],
   "source": [
    "ct_1.shape"
   ]
  },
  {
   "cell_type": "code",
   "execution_count": 10,
   "id": "affected-disaster",
   "metadata": {},
   "outputs": [
    {
     "name": "stdout",
     "output_type": "stream",
     "text": [
      "4096.0\n"
     ]
    }
   ],
   "source": [
    "# Range of voxel values (maximum value - minimum value)\n",
    "print(ct_1[:, :, :].ptp())"
   ]
  },
  {
   "cell_type": "code",
   "execution_count": 11,
   "id": "coastal-steering",
   "metadata": {},
   "outputs": [
    {
     "data": {
      "text/plain": [
       "125829248"
      ]
     },
     "execution_count": 11,
     "metadata": {},
     "output_type": "execute_result"
    }
   ],
   "source": [
    "getsizeof(ct_1) # 125.829248 MBs"
   ]
  },
  {
   "cell_type": "code",
   "execution_count": 12,
   "id": "egyptian-citizenship",
   "metadata": {},
   "outputs": [
    {
     "data": {
      "text/plain": [
       "62914688"
      ]
     },
     "execution_count": 12,
     "metadata": {},
     "output_type": "execute_result"
    }
   ],
   "source": [
    "getsizeof(ct_1.astype(np.float32)) # 62.914688 MBs"
   ]
  },
  {
   "cell_type": "code",
   "execution_count": 13,
   "id": "advised-complexity",
   "metadata": {},
   "outputs": [
    {
     "data": {
      "text/plain": [
       "31457408"
      ]
     },
     "execution_count": 13,
     "metadata": {},
     "output_type": "execute_result"
    }
   ],
   "source": [
    "getsizeof(ct_1.astype(np.float16)) # 31.457408 MBs"
   ]
  },
  {
   "cell_type": "markdown",
   "id": "shared-weight",
   "metadata": {},
   "source": [
    "#### Mask file"
   ]
  },
  {
   "cell_type": "code",
   "execution_count": 14,
   "id": "paperback-times",
   "metadata": {},
   "outputs": [],
   "source": [
    "ct_1_mask = nib.load(\"../../datasets/Task10_Colon/train/masks/colon_001.nii.gz\")"
   ]
  },
  {
   "cell_type": "code",
   "execution_count": 15,
   "id": "every-advertising",
   "metadata": {},
   "outputs": [],
   "source": [
    "ct_1_mask = ct_1_mask.get_fdata()"
   ]
  },
  {
   "cell_type": "code",
   "execution_count": 16,
   "id": "blank-protocol",
   "metadata": {},
   "outputs": [
    {
     "data": {
      "text/plain": [
       "dtype('float64')"
      ]
     },
     "execution_count": 16,
     "metadata": {},
     "output_type": "execute_result"
    }
   ],
   "source": [
    "ct_1_mask.dtype"
   ]
  },
  {
   "cell_type": "code",
   "execution_count": 17,
   "id": "mathematical-hygiene",
   "metadata": {},
   "outputs": [
    {
     "data": {
      "text/plain": [
       "125829248"
      ]
     },
     "execution_count": 17,
     "metadata": {},
     "output_type": "execute_result"
    }
   ],
   "source": [
    "getsizeof(ct_1_mask) # 125.829248 MBs"
   ]
  },
  {
   "cell_type": "code",
   "execution_count": 18,
   "id": "mental-reynolds",
   "metadata": {
    "scrolled": true
   },
   "outputs": [
    {
     "data": {
      "text/plain": [
       "62914688"
      ]
     },
     "execution_count": 18,
     "metadata": {},
     "output_type": "execute_result"
    }
   ],
   "source": [
    "getsizeof(ct_1_mask.astype(np.float32)) # 62.914688 MBs"
   ]
  },
  {
   "cell_type": "code",
   "execution_count": 19,
   "id": "local-broadway",
   "metadata": {},
   "outputs": [
    {
     "data": {
      "text/plain": [
       "15728768"
      ]
     },
     "execution_count": 19,
     "metadata": {},
     "output_type": "execute_result"
    }
   ],
   "source": [
    "getsizeof(ct_1_mask.astype(np.uint8)) # 15.728768 MBs"
   ]
  },
  {
   "cell_type": "code",
   "execution_count": 20,
   "id": "athletic-track",
   "metadata": {},
   "outputs": [],
   "source": [
    "ct_1_mask = ct_1_mask.astype(np.float32)"
   ]
  },
  {
   "cell_type": "code",
   "execution_count": 21,
   "id": "realistic-interpretation",
   "metadata": {},
   "outputs": [
    {
     "data": {
      "text/plain": [
       "(512, 512, 60)"
      ]
     },
     "execution_count": 21,
     "metadata": {},
     "output_type": "execute_result"
    }
   ],
   "source": [
    "ct_1_mask.shape"
   ]
  },
  {
   "cell_type": "markdown",
   "id": "outer-manor",
   "metadata": {},
   "source": [
    "### Visualizing nifti CT file and Mask file"
   ]
  },
  {
   "cell_type": "code",
   "execution_count": 22,
   "id": "wrong-leader",
   "metadata": {},
   "outputs": [
    {
     "data": {
      "application/vnd.jupyter.widget-view+json": {
       "model_id": "a58e6f86b420468a845c95e2f638f183",
       "version_major": 2,
       "version_minor": 0
      },
      "text/plain": [
       "interactive(children=(IntSlider(value=0, continuous_update=False, description='Select Layer', max=59), Output(…"
      ]
     },
     "metadata": {},
     "output_type": "display_data"
    }
   ],
   "source": [
    "# Create layer slider\n",
    "select_layer = IntSlider(min=0, max=ct_1.shape[2] - 1, description='Select Layer', continuous_update=False)\n",
    "\n",
    "    \n",
    "# Define a function for plotting images\n",
    "def plot(layer):\n",
    "    print(f\"Plotting Layer: {layer}\")\n",
    "    fig = plt.figure(figsize=(20, 10))\n",
    "    \n",
    "    fig.add_subplot(1, 2, 1)\n",
    "    plt.imshow(ct_1[:, :, layer], cmap='gray');\n",
    "    plt.title(\"ct\", fontsize=20)\n",
    "    plt.axis('off')\n",
    "    \n",
    "    fig.add_subplot(1, 2, 2)\n",
    "    plt.title(\"Mask\", fontsize=20)\n",
    "    plt.imshow(ct_1_mask[:, :, layer], cmap='gray')\n",
    "    plt.axis('off');\n",
    "\n",
    "# Use the interactive() tool to create the visualization\n",
    "interactive(plot, layer=select_layer)"
   ]
  },
  {
   "cell_type": "markdown",
   "id": "5e2f814f-4e27-4110-b42e-f06abe8ea20e",
   "metadata": {},
   "source": [
    "### Reading and visualizing colon_005 nifti CT and mask files"
   ]
  },
  {
   "cell_type": "markdown",
   "id": "44313d1e-b3b0-436e-bd71-7a415f419b93",
   "metadata": {},
   "source": [
    "#### CT file"
   ]
  },
  {
   "cell_type": "code",
   "execution_count": 23,
   "id": "ff774378-95e1-49c0-9cc8-bbf4eda7e538",
   "metadata": {},
   "outputs": [],
   "source": [
    "ct_2 = nib.load(\"../../datasets/Task10_Colon/train/images/colon_005.nii.gz\")"
   ]
  },
  {
   "cell_type": "code",
   "execution_count": 24,
   "id": "4b10fcd1-d431-49af-96ef-def79b5e02b0",
   "metadata": {},
   "outputs": [
    {
     "data": {
      "text/plain": [
       "nibabel.nifti1.Nifti1Image"
      ]
     },
     "execution_count": 24,
     "metadata": {},
     "output_type": "execute_result"
    }
   ],
   "source": [
    "type(ct_2)"
   ]
  },
  {
   "cell_type": "code",
   "execution_count": 25,
   "id": "fd458c40-5616-4a50-af84-cb3443e32795",
   "metadata": {},
   "outputs": [],
   "source": [
    "# Read Nifi Image object as numpy file\n",
    "ct_2 = ct_2.get_fdata()"
   ]
  },
  {
   "cell_type": "code",
   "execution_count": 26,
   "id": "995f8f35-efd6-4cfb-af13-c832e51ae2c0",
   "metadata": {},
   "outputs": [
    {
     "data": {
      "text/plain": [
       "numpy.ndarray"
      ]
     },
     "execution_count": 26,
     "metadata": {},
     "output_type": "execute_result"
    }
   ],
   "source": [
    "type(ct_2)"
   ]
  },
  {
   "cell_type": "code",
   "execution_count": 27,
   "id": "84f0619c-f4bc-4f44-b8b8-690ca3a93929",
   "metadata": {},
   "outputs": [
    {
     "data": {
      "text/plain": [
       "dtype('float64')"
      ]
     },
     "execution_count": 27,
     "metadata": {},
     "output_type": "execute_result"
    }
   ],
   "source": [
    "ct_2.dtype"
   ]
  },
  {
   "cell_type": "code",
   "execution_count": 28,
   "id": "9dccbfac-2bc9-4e6d-8d3c-8ffb4d4ae99c",
   "metadata": {},
   "outputs": [
    {
     "data": {
      "text/plain": [
       "(512, 512, 98)"
      ]
     },
     "execution_count": 28,
     "metadata": {},
     "output_type": "execute_result"
    }
   ],
   "source": [
    "ct_2.shape"
   ]
  },
  {
   "cell_type": "code",
   "execution_count": 29,
   "id": "b7f8e37d-41f4-4b28-af33-a1596fef27f1",
   "metadata": {},
   "outputs": [
    {
     "name": "stdout",
     "output_type": "stream",
     "text": [
      "2438.0\n"
     ]
    }
   ],
   "source": [
    "# Range of voxel values (maximum value - minimum value)\n",
    "print(ct_2[:, :, :].ptp())"
   ]
  },
  {
   "cell_type": "markdown",
   "id": "2c35055b-5e6b-4fda-8c7c-f636bb1a2d84",
   "metadata": {},
   "source": [
    "#### Mask file"
   ]
  },
  {
   "cell_type": "code",
   "execution_count": 30,
   "id": "84e6743a-cca2-4409-aece-e01c4aa45fa8",
   "metadata": {},
   "outputs": [],
   "source": [
    "ct_2_mask = nib.load(\"../../datasets/Task10_Colon/train/masks/colon_005.nii.gz\")"
   ]
  },
  {
   "cell_type": "code",
   "execution_count": 31,
   "id": "2b14b216-fca6-49c6-ab18-6db57bb0669f",
   "metadata": {},
   "outputs": [],
   "source": [
    "ct_2_mask = ct_2_mask.get_fdata()"
   ]
  },
  {
   "cell_type": "code",
   "execution_count": 32,
   "id": "d990f56a-2b96-439d-a1e9-dfc2d7066f17",
   "metadata": {},
   "outputs": [
    {
     "data": {
      "text/plain": [
       "dtype('float64')"
      ]
     },
     "execution_count": 32,
     "metadata": {},
     "output_type": "execute_result"
    }
   ],
   "source": [
    "ct_2_mask.dtype"
   ]
  },
  {
   "cell_type": "code",
   "execution_count": 33,
   "id": "9152ecb7-d189-4f23-a200-87ac9c1d178b",
   "metadata": {},
   "outputs": [],
   "source": [
    "ct_2_mask = ct_2_mask.astype(np.float32)"
   ]
  },
  {
   "cell_type": "code",
   "execution_count": 34,
   "id": "91782bde-065d-484a-9a1a-5edc6d04e825",
   "metadata": {},
   "outputs": [
    {
     "data": {
      "text/plain": [
       "(512, 512, 98)"
      ]
     },
     "execution_count": 34,
     "metadata": {},
     "output_type": "execute_result"
    }
   ],
   "source": [
    "ct_2_mask.shape"
   ]
  },
  {
   "cell_type": "markdown",
   "id": "17b8613a-1ee1-4f67-8b1a-db846524774b",
   "metadata": {},
   "source": [
    "### Visualizing nifti CT file and Mask file"
   ]
  },
  {
   "cell_type": "code",
   "execution_count": 35,
   "id": "5a623d0f-bace-470a-9314-ba37d114dfec",
   "metadata": {},
   "outputs": [
    {
     "data": {
      "application/vnd.jupyter.widget-view+json": {
       "model_id": "adb3aa52db304131ab004fe6a96ea335",
       "version_major": 2,
       "version_minor": 0
      },
      "text/plain": [
       "interactive(children=(IntSlider(value=0, continuous_update=False, description='Select Layer', max=97), Output(…"
      ]
     },
     "metadata": {},
     "output_type": "display_data"
    }
   ],
   "source": [
    "# Create layer slider\n",
    "select_layer = IntSlider(min=0, max=ct_2.shape[2] - 1, description='Select Layer', continuous_update=False)\n",
    "\n",
    "    \n",
    "# Define a function for plotting images\n",
    "def plot(layer):\n",
    "    print(f\"Plotting Layer: {layer}\")\n",
    "    fig = plt.figure(figsize=(20, 10))\n",
    "    \n",
    "    fig.add_subplot(1, 2, 1)\n",
    "    plt.imshow(ct_2[:, :, layer], cmap='gray');\n",
    "    plt.title(\"ct\", fontsize=20)\n",
    "    plt.axis('off')\n",
    "    \n",
    "    fig.add_subplot(1, 2, 2)\n",
    "    plt.title(\"Mask\", fontsize=20)\n",
    "    plt.imshow(ct_2_mask[:, :, layer], cmap='gray')\n",
    "    plt.axis('off');\n",
    "\n",
    "# Use the interactive() tool to create the visualization\n",
    "interactive(plot, layer=select_layer)"
   ]
  },
  {
   "cell_type": "markdown",
   "id": "0806a408-1be4-47ad-a200-0f393dd3feb6",
   "metadata": {},
   "source": [
    "### Reading and visualizing colon_006 nifti CT and mask files"
   ]
  },
  {
   "cell_type": "markdown",
   "id": "1975675b-cdde-443d-b529-41f5f1844139",
   "metadata": {},
   "source": [
    "#### CT file"
   ]
  },
  {
   "cell_type": "code",
   "execution_count": 36,
   "id": "1d867ebf-4231-4ad0-b36a-440f43e4d704",
   "metadata": {},
   "outputs": [],
   "source": [
    "ct_3 = nib.load(\"../../datasets/Task10_Colon/train/images/colon_006.nii.gz\")"
   ]
  },
  {
   "cell_type": "code",
   "execution_count": 37,
   "id": "4a32248d-e873-4fbc-a9f2-552cff4760b2",
   "metadata": {},
   "outputs": [
    {
     "data": {
      "text/plain": [
       "nibabel.nifti1.Nifti1Image"
      ]
     },
     "execution_count": 37,
     "metadata": {},
     "output_type": "execute_result"
    }
   ],
   "source": [
    "type(ct_3)"
   ]
  },
  {
   "cell_type": "code",
   "execution_count": 38,
   "id": "d86ea909-378e-44f3-81b8-b0e0efd724b0",
   "metadata": {},
   "outputs": [],
   "source": [
    "# Read Nifi Image object as numpy file\n",
    "ct_3 = ct_3.get_fdata()"
   ]
  },
  {
   "cell_type": "code",
   "execution_count": 39,
   "id": "fb72e484-028b-443e-80f4-0a10fa6a0113",
   "metadata": {},
   "outputs": [
    {
     "data": {
      "text/plain": [
       "numpy.ndarray"
      ]
     },
     "execution_count": 39,
     "metadata": {},
     "output_type": "execute_result"
    }
   ],
   "source": [
    "type(ct_3)"
   ]
  },
  {
   "cell_type": "code",
   "execution_count": 40,
   "id": "fcc3424e-1312-4c40-b6c6-b488a13bfe86",
   "metadata": {},
   "outputs": [
    {
     "data": {
      "text/plain": [
       "dtype('float64')"
      ]
     },
     "execution_count": 40,
     "metadata": {},
     "output_type": "execute_result"
    }
   ],
   "source": [
    "ct_3.dtype"
   ]
  },
  {
   "cell_type": "code",
   "execution_count": 41,
   "id": "6988c832-fb3b-4c47-a3b5-1f91d766bb96",
   "metadata": {},
   "outputs": [
    {
     "data": {
      "text/plain": [
       "(512, 512, 68)"
      ]
     },
     "execution_count": 41,
     "metadata": {},
     "output_type": "execute_result"
    }
   ],
   "source": [
    "ct_3.shape"
   ]
  },
  {
   "cell_type": "code",
   "execution_count": 42,
   "id": "5a648a52-3631-460a-8d9e-3a9303da8b2b",
   "metadata": {},
   "outputs": [
    {
     "name": "stdout",
     "output_type": "stream",
     "text": [
      "2463.0\n"
     ]
    }
   ],
   "source": [
    "# Range of voxel values (maximum value - minimum value)\n",
    "print(ct_3[:, :, :].ptp())"
   ]
  },
  {
   "cell_type": "markdown",
   "id": "ba9917a5-590f-4082-8b45-18ee4ac999cc",
   "metadata": {},
   "source": [
    "#### Mask file"
   ]
  },
  {
   "cell_type": "code",
   "execution_count": 43,
   "id": "f8bfa9a0-2f46-4d52-9fae-f96c15efc059",
   "metadata": {},
   "outputs": [],
   "source": [
    "ct_3_mask = nib.load(\"../../datasets/Task10_Colon/train/masks/colon_006.nii.gz\")"
   ]
  },
  {
   "cell_type": "code",
   "execution_count": 44,
   "id": "27e4fecc-555c-4385-8d19-56679d707632",
   "metadata": {},
   "outputs": [],
   "source": [
    "ct_3_mask = ct_3_mask.get_fdata()"
   ]
  },
  {
   "cell_type": "code",
   "execution_count": 45,
   "id": "2b43267a-f9ef-45cc-ae09-de79d9d6f6a6",
   "metadata": {},
   "outputs": [
    {
     "data": {
      "text/plain": [
       "dtype('float64')"
      ]
     },
     "execution_count": 45,
     "metadata": {},
     "output_type": "execute_result"
    }
   ],
   "source": [
    "ct_3_mask.dtype"
   ]
  },
  {
   "cell_type": "code",
   "execution_count": 46,
   "id": "ddbd4c33-37f1-4acd-b17e-ae741162379b",
   "metadata": {},
   "outputs": [],
   "source": [
    "ct_3_mask = ct_3_mask.astype(np.float32)"
   ]
  },
  {
   "cell_type": "code",
   "execution_count": 47,
   "id": "6abeffa9-3678-42d1-a1c5-198e57f4ecf2",
   "metadata": {},
   "outputs": [
    {
     "data": {
      "text/plain": [
       "(512, 512, 68)"
      ]
     },
     "execution_count": 47,
     "metadata": {},
     "output_type": "execute_result"
    }
   ],
   "source": [
    "ct_3_mask.shape"
   ]
  },
  {
   "cell_type": "markdown",
   "id": "e81173ab-5260-457d-b803-f1b5ac90da13",
   "metadata": {},
   "source": [
    "### Visualizing nifti CT file and Mask file"
   ]
  },
  {
   "cell_type": "code",
   "execution_count": 48,
   "id": "7b4826fe-862b-4b7b-b311-d4a088b2ea5e",
   "metadata": {},
   "outputs": [
    {
     "data": {
      "application/vnd.jupyter.widget-view+json": {
       "model_id": "c403c2843a3e414893bf8900d9bc9ee3",
       "version_major": 2,
       "version_minor": 0
      },
      "text/plain": [
       "interactive(children=(IntSlider(value=0, continuous_update=False, description='Select Layer', max=67), Output(…"
      ]
     },
     "metadata": {},
     "output_type": "display_data"
    }
   ],
   "source": [
    "# Create layer slider\n",
    "select_layer = IntSlider(min=0, max=ct_3.shape[2] - 1, description='Select Layer', continuous_update=False)\n",
    "\n",
    "    \n",
    "# Define a function for plotting images\n",
    "def plot(layer):\n",
    "    print(f\"Plotting Layer: {layer}\")\n",
    "    fig = plt.figure(figsize=(20, 10))\n",
    "    \n",
    "    fig.add_subplot(1, 2, 1)\n",
    "    plt.imshow(ct_3[:, :, layer], cmap='gray');\n",
    "    plt.title(\"ct\", fontsize=20)\n",
    "    plt.axis('off')\n",
    "    \n",
    "    fig.add_subplot(1, 2, 2)\n",
    "    plt.title(\"Mask\", fontsize=20)\n",
    "    plt.imshow(ct_3_mask[:, :, layer], cmap='gray')\n",
    "    plt.axis('off');\n",
    "\n",
    "# Use the interactive() tool to create the visualization\n",
    "interactive(plot, layer=select_layer)"
   ]
  },
  {
   "cell_type": "markdown",
   "id": "located-nutrition",
   "metadata": {},
   "source": [
    "### Calculating CT shape counter dictionary"
   ]
  },
  {
   "cell_type": "code",
   "execution_count": 49,
   "id": "sufficient-basic",
   "metadata": {},
   "outputs": [
    {
     "name": "stderr",
     "output_type": "stream",
     "text": [
      "100%|██████████| 190/190 [01:30<00:00,  2.10it/s]\n"
     ]
    }
   ],
   "source": [
    "data_dir = \"../../datasets/Task10_Colon/\"\n",
    "\n",
    "train_mri_paths = [os.path.join(data_dir + \"train/images\", x) for x in os.listdir(data_dir + \"train/images\")]\n",
    "val_mri_paths = [os.path.join(data_dir + \"val/images\", x) for x in os.listdir(data_dir + \"val/images\")]\n",
    "test_mri_paths = [os.path.join(data_dir + \"test_images_for_model_prediction_submission\", x) for x in os.listdir(data_dir + \"test_images_for_model_prediction_submission\")]\n",
    "\n",
    "all_paths = train_mri_paths + val_mri_paths + test_mri_paths  # concatenate list of paths\n",
    "\n",
    "shape_count_dict = {}\n",
    "\n",
    "for path in tqdm(all_paths):\n",
    "    mri = nib.load(path).get_fdata()\n",
    "    shape = mri.shape\n",
    "    \n",
    "    if shape not in shape_count_dict.keys():\n",
    "        shape_count_dict[shape] = 1\n",
    "    else:\n",
    "        shape_count_dict[shape] += 1   "
   ]
  },
  {
   "cell_type": "code",
   "execution_count": 50,
   "id": "premium-adjustment",
   "metadata": {},
   "outputs": [
    {
     "name": "stdout",
     "output_type": "stream",
     "text": [
      "OrderedDict([((512, 512, 90), 10),\n",
      "             ((512, 512, 87), 7),\n",
      "             ((512, 512, 98), 7),\n",
      "             ((512, 512, 102), 7),\n",
      "             ((512, 512, 100), 6),\n",
      "             ((512, 512, 95), 5),\n",
      "             ((512, 512, 81), 5),\n",
      "             ((512, 512, 86), 5),\n",
      "             ((512, 512, 85), 4),\n",
      "             ((512, 512, 94), 4),\n",
      "             ((512, 512, 96), 4),\n",
      "             ((512, 512, 93), 4),\n",
      "             ((512, 512, 89), 3),\n",
      "             ((512, 512, 124), 3),\n",
      "             ((512, 512, 97), 3),\n",
      "             ((512, 512, 44), 3),\n",
      "             ((512, 512, 112), 3),\n",
      "             ((512, 512, 149), 3),\n",
      "             ((512, 512, 92), 3),\n",
      "             ((512, 512, 80), 3),\n",
      "             ((512, 512, 88), 3),\n",
      "             ((512, 512, 103), 3),\n",
      "             ((512, 512, 59), 2),\n",
      "             ((512, 512, 74), 2),\n",
      "             ((512, 512, 101), 2),\n",
      "             ((512, 512, 41), 2),\n",
      "             ((512, 512, 137), 2),\n",
      "             ((512, 512, 104), 2),\n",
      "             ((512, 512, 142), 2),\n",
      "             ((512, 512, 91), 2),\n",
      "             ((512, 512, 127), 2),\n",
      "             ((512, 512, 55), 2),\n",
      "             ((512, 512, 119), 2),\n",
      "             ((512, 512, 48), 2),\n",
      "             ((512, 512, 113), 2),\n",
      "             ((512, 512, 82), 2),\n",
      "             ((512, 512, 154), 2),\n",
      "             ((512, 512, 131), 2),\n",
      "             ((512, 512, 43), 2),\n",
      "             ((512, 512, 116), 2),\n",
      "             ((512, 512, 178), 1),\n",
      "             ((512, 512, 148), 1),\n",
      "             ((512, 512, 54), 1),\n",
      "             ((512, 512, 166), 1),\n",
      "             ((512, 512, 53), 1),\n",
      "             ((512, 512, 194), 1),\n",
      "             ((512, 512, 140), 1),\n",
      "             ((512, 512, 171), 1),\n",
      "             ((512, 512, 99), 1),\n",
      "             ((512, 512, 37), 1),\n",
      "             ((512, 512, 68), 1),\n",
      "             ((512, 512, 51), 1),\n",
      "             ((512, 512, 126), 1),\n",
      "             ((512, 512, 107), 1),\n",
      "             ((512, 512, 79), 1),\n",
      "             ((512, 512, 205), 1),\n",
      "             ((512, 512, 123), 1),\n",
      "             ((512, 512, 110), 1),\n",
      "             ((512, 512, 146), 1),\n",
      "             ((512, 512, 195), 1),\n",
      "             ((512, 512, 76), 1),\n",
      "             ((512, 512, 145), 1),\n",
      "             ((512, 512, 153), 1),\n",
      "             ((512, 512, 114), 1),\n",
      "             ((512, 512, 38), 1),\n",
      "             ((512, 512, 45), 1),\n",
      "             ((512, 512, 173), 1),\n",
      "             ((512, 512, 60), 1),\n",
      "             ((512, 512, 258), 1),\n",
      "             ((512, 512, 84), 1),\n",
      "             ((512, 512, 106), 1),\n",
      "             ((512, 512, 729), 1),\n",
      "             ((512, 512, 40), 1),\n",
      "             ((512, 512, 306), 1),\n",
      "             ((512, 512, 47), 1),\n",
      "             ((512, 512, 189), 1),\n",
      "             ((512, 512, 128), 1),\n",
      "             ((512, 512, 77), 1),\n",
      "             ((512, 512, 78), 1),\n",
      "             ((512, 512, 50), 1),\n",
      "             ((512, 512, 64), 1),\n",
      "             ((512, 512, 65), 1),\n",
      "             ((512, 512, 42), 1),\n",
      "             ((512, 512, 108), 1),\n",
      "             ((512, 512, 115), 1),\n",
      "             ((512, 512, 120), 1),\n",
      "             ((512, 512, 174), 1),\n",
      "             ((512, 512, 71), 1),\n",
      "             ((512, 512, 263), 1),\n",
      "             ((512, 512, 180), 1),\n",
      "             ((512, 512, 164), 1),\n",
      "             ((512, 512, 161), 1),\n",
      "             ((512, 512, 36), 1),\n",
      "             ((512, 512, 175), 1),\n",
      "             ((512, 512, 134), 1),\n",
      "             ((512, 512, 185), 1)])\n"
     ]
    }
   ],
   "source": [
    "shape_count_dict = OrderedDict(sorted(shape_count_dict.items(), key=lambda item: item[1], reverse=True))\n",
    "pprint(shape_count_dict)"
   ]
  },
  {
   "cell_type": "code",
   "execution_count": 51,
   "id": "preliminary-windsor",
   "metadata": {},
   "outputs": [
    {
     "name": "stdout",
     "output_type": "stream",
     "text": [
      "116.92708333333333\n",
      "101.5\n",
      "36\n",
      "729\n"
     ]
    }
   ],
   "source": [
    "list_layers = []\n",
    "for key, val in shape_count_dict.items():\n",
    "    list_layers.append(key[2])\n",
    "\n",
    "layers = np.array(list_layers)\n",
    "print(layers.mean())\n",
    "print(np.median(layers))\n",
    "print(layers.min())\n",
    "print(layers.max())"
   ]
  },
  {
   "cell_type": "code",
   "execution_count": null,
   "id": "executed-rating",
   "metadata": {},
   "outputs": [],
   "source": []
  }
 ],
 "metadata": {
  "kernelspec": {
   "display_name": "Python 3",
   "language": "python",
   "name": "python3"
  },
  "language_info": {
   "codemirror_mode": {
    "name": "ipython",
    "version": 3
   },
   "file_extension": ".py",
   "mimetype": "text/x-python",
   "name": "python",
   "nbconvert_exporter": "python",
   "pygments_lexer": "ipython3",
   "version": "3.7.10"
  }
 },
 "nbformat": 4,
 "nbformat_minor": 5
}
