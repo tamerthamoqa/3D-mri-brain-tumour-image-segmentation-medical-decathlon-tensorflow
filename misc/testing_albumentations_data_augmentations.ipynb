{
 "cells": [
  {
   "cell_type": "code",
   "execution_count": 1,
   "id": "foreign-jefferson",
   "metadata": {},
   "outputs": [],
   "source": [
    "import numpy as np\n",
    "import nibabel as nib\n",
    "import albumentations as A\n",
    "import matplotlib.pyplot as plt\n",
    "from ipywidgets import interact, interactive, IntSlider, ToggleButtons"
   ]
  },
  {
   "cell_type": "code",
   "execution_count": 2,
   "id": "grateful-above",
   "metadata": {},
   "outputs": [],
   "source": [
    "transform = A.Compose(\n",
    "    p=1.0,\n",
    "    transforms=[\n",
    "        A.HorizontalFlip(p=1) # To check if horizontal flip is working\n",
    "    ]\n",
    ")"
   ]
  },
  {
   "cell_type": "code",
   "execution_count": 3,
   "id": "parliamentary-conversation",
   "metadata": {},
   "outputs": [],
   "source": [
    "mri = nib.load(\"../datasets/Task01_BrainTumour/train/images/BRATS_001.nii.gz\").get_fdata()\n",
    "mask = nib.load(\"../datasets/Task01_BrainTumour/train/masks/BRATS_001.nii.gz\").get_fdata().astype(np.uint8)"
   ]
  },
  {
   "cell_type": "code",
   "execution_count": 4,
   "id": "brave-palestinian",
   "metadata": {},
   "outputs": [
    {
     "data": {
      "application/vnd.jupyter.widget-view+json": {
       "model_id": "d08507701d92448f8c051665eac4693f",
       "version_major": 2,
       "version_minor": 0
      },
      "text/plain": [
       "interactive(children=(ToggleButtons(button_style='info', description='Select Class:', options=('Background', '…"
      ]
     },
     "metadata": {},
     "output_type": "display_data"
    }
   ],
   "source": [
    "classes_dict = {\n",
    "    'Background': 0,\n",
    "    'Edema': 1,\n",
    "    'Non-enhancing tumor': 2,\n",
    "    'Enhancing tumor': 3 \n",
    "}\n",
    "\n",
    "# Create button values\n",
    "select_class = ToggleButtons(\n",
    "    options=['Background','Edema', 'Non-enhancing tumor', 'Enhancing tumor', 'All'],\n",
    "    description='Select Class:',\n",
    "    disabled=False,\n",
    "    button_style='info', \n",
    "    \n",
    ")\n",
    "# Create layer slider\n",
    "select_layer = IntSlider(min=0, max=154, description='Select Layer', continuous_update=False)\n",
    "\n",
    "    \n",
    "# Define a function for plotting images\n",
    "def plot(seg_class, layer, channel):\n",
    "    print(f\"Plotting Layer: {layer} | Label: {seg_class} | Channel: {channel}\")\n",
    "    fig = plt.figure(figsize=(20, 10))\n",
    "    \n",
    "    fig.add_subplot(1, 2, 1)\n",
    "    plt.title(\"MRI\", fontsize=20)\n",
    "    plt.imshow(mri[:, :, layer, channel], cmap='gray');\n",
    "    plt.axis('off')\n",
    "    \n",
    "    fig.add_subplot(1, 2, 2)\n",
    "    if seg_class == \"All\":\n",
    "        mask_img = mask[:, :, layer]\n",
    "        plt.title(\"Mask\", fontsize=20)\n",
    "        plt.imshow(mask_img)\n",
    "        plt.axis('off');\n",
    "    else:\n",
    "        img_label = classes_dict[seg_class]\n",
    "        mask_img = np.where(mask[:, :, layer] == img_label, 255, 0)\n",
    "        plt.title(\"Mask\", fontsize=20)\n",
    "        plt.imshow(mask_img, cmap='gray')\n",
    "        plt.axis('off');\n",
    "\n",
    "# Set channel to view:\n",
    "#  Channel 0: \"FLAIR\" Fluid-attenuated inversion recovery\n",
    "#  Channel 1: \"T1w\" T1-weighted\n",
    "#  Channel 2: \"t1gd\" T1-weighted with gadolinium contrast enhancement\n",
    "#  Channel 3: \"T2w\" T2-weighted    \n",
    "    \n",
    "# Use the interactive() tool to create the visualization\n",
    "interactive(plot, seg_class=select_class, layer=select_layer, channel=(0, 3))"
   ]
  },
  {
   "cell_type": "code",
   "execution_count": 5,
   "id": "familiar-charity",
   "metadata": {},
   "outputs": [],
   "source": [
    "transformed = transform(image=mri, mask=mask)\n",
    "mri = transformed[\"image\"]\n",
    "mask = transformed[\"mask\"]"
   ]
  },
  {
   "cell_type": "code",
   "execution_count": 6,
   "id": "chief-strike",
   "metadata": {},
   "outputs": [
    {
     "data": {
      "text/plain": [
       "dtype('float64')"
      ]
     },
     "execution_count": 6,
     "metadata": {},
     "output_type": "execute_result"
    }
   ],
   "source": [
    "mri.dtype"
   ]
  },
  {
   "cell_type": "code",
   "execution_count": 7,
   "id": "acoustic-uganda",
   "metadata": {},
   "outputs": [
    {
     "data": {
      "text/plain": [
       "(240, 240, 155, 4)"
      ]
     },
     "execution_count": 7,
     "metadata": {},
     "output_type": "execute_result"
    }
   ],
   "source": [
    "mri.shape"
   ]
  },
  {
   "cell_type": "code",
   "execution_count": 8,
   "id": "inappropriate-wheat",
   "metadata": {},
   "outputs": [
    {
     "data": {
      "text/plain": [
       "dtype('uint8')"
      ]
     },
     "execution_count": 8,
     "metadata": {},
     "output_type": "execute_result"
    }
   ],
   "source": [
    "mask.dtype"
   ]
  },
  {
   "cell_type": "code",
   "execution_count": 9,
   "id": "exclusive-static",
   "metadata": {},
   "outputs": [
    {
     "data": {
      "text/plain": [
       "(240, 240, 155)"
      ]
     },
     "execution_count": 9,
     "metadata": {},
     "output_type": "execute_result"
    }
   ],
   "source": [
    "mask.shape"
   ]
  },
  {
   "cell_type": "code",
   "execution_count": 10,
   "id": "undefined-burns",
   "metadata": {},
   "outputs": [
    {
     "data": {
      "application/vnd.jupyter.widget-view+json": {
       "model_id": "3436ac2eb5cc4eeaa94ea9ccf3c06adb",
       "version_major": 2,
       "version_minor": 0
      },
      "text/plain": [
       "interactive(children=(ToggleButtons(button_style='info', description='Select Class:', options=('Background', '…"
      ]
     },
     "metadata": {},
     "output_type": "display_data"
    }
   ],
   "source": [
    "classes_dict = {\n",
    "    'Background': 0,\n",
    "    'Edema': 1,\n",
    "    'Non-enhancing tumor': 2,\n",
    "    'Enhancing tumor': 3 \n",
    "}\n",
    "\n",
    "# Create button values\n",
    "select_class = ToggleButtons(\n",
    "    options=['Background','Edema', 'Non-enhancing tumor', 'Enhancing tumor', 'All'],\n",
    "    description='Select Class:',\n",
    "    disabled=False,\n",
    "    button_style='info', \n",
    "    \n",
    ")\n",
    "# Create layer slider\n",
    "select_layer = IntSlider(min=0, max=154, description='Select Layer', continuous_update=False)\n",
    "\n",
    "    \n",
    "# Define a function for plotting images\n",
    "def plot(seg_class, layer, channel):\n",
    "    print(f\"Plotting Layer: {layer} | Label: {seg_class} | Channel: {channel}\")\n",
    "    fig = plt.figure(figsize=(20, 10))\n",
    "    \n",
    "    fig.add_subplot(1, 2, 1)\n",
    "    plt.title(\"MRI\", fontsize=20)\n",
    "    plt.imshow(mri[:, :, layer, channel], cmap='gray');\n",
    "    plt.axis('off')\n",
    "    \n",
    "    fig.add_subplot(1, 2, 2)\n",
    "    if seg_class == \"All\":\n",
    "        mask_img = mask[:, :, layer]\n",
    "        plt.title(\"Mask\", fontsize=20)\n",
    "        plt.imshow(mask_img)\n",
    "        plt.axis('off');\n",
    "    else:\n",
    "        img_label = classes_dict[seg_class]\n",
    "        mask_img = np.where(mask[:, :, layer] == img_label, 255, 0)\n",
    "        plt.title(\"Mask\", fontsize=20)\n",
    "        plt.imshow(mask_img, cmap='gray')\n",
    "        plt.axis('off');\n",
    "\n",
    "# Set channel to view:\n",
    "#  Channel 0: \"FLAIR\" Fluid-attenuated inversion recovery\n",
    "#  Channel 1: \"T1w\" T1-weighted\n",
    "#  Channel 2: \"t1gd\" T1-weighted with gadolinium contrast enhancement\n",
    "#  Channel 3: \"T2w\" T2-weighted    \n",
    "    \n",
    "# Use the interactive() tool to create the visualization\n",
    "interactive(plot, seg_class=select_class, layer=select_layer, channel=(0, 3))"
   ]
  },
  {
   "cell_type": "code",
   "execution_count": null,
   "id": "alpha-dinner",
   "metadata": {},
   "outputs": [],
   "source": []
  }
 ],
 "metadata": {
  "kernelspec": {
   "display_name": "Python 3",
   "language": "python",
   "name": "python3"
  },
  "language_info": {
   "codemirror_mode": {
    "name": "ipython",
    "version": 3
   },
   "file_extension": ".py",
   "mimetype": "text/x-python",
   "name": "python",
   "nbconvert_exporter": "python",
   "pygments_lexer": "ipython3",
   "version": "3.7.10"
  }
 },
 "nbformat": 4,
 "nbformat_minor": 5
}
