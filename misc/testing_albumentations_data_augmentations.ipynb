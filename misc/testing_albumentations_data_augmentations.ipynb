{
 "cells": [
  {
   "cell_type": "code",
   "execution_count": 1,
   "id": "foreign-jefferson",
   "metadata": {},
   "outputs": [],
   "source": [
    "import numpy as np\n",
    "import nibabel as nib\n",
    "import albumentations as A\n",
    "import matplotlib.pyplot as plt\n",
    "from ipywidgets import interact, interactive, IntSlider, ToggleButtons"
   ]
  },
  {
   "cell_type": "markdown",
   "id": "32f63a1c-e1cf-4fbb-97b2-5c0cb40d8156",
   "metadata": {},
   "source": [
    "__Note: When resizing a mask file make sure it is of type uint8 before resizing to avoid having non-integer outputs for the class labels, after resizing recast to float32 for tensorflow requirements__"
   ]
  },
  {
   "cell_type": "markdown",
   "id": "a1c7de32-9d0a-4040-9e0b-a5102a8c69b2",
   "metadata": {},
   "source": [
    "### 1- Checking Horizontal flipping"
   ]
  },
  {
   "cell_type": "code",
   "execution_count": 2,
   "id": "grateful-above",
   "metadata": {},
   "outputs": [],
   "source": [
    "transform = A.Compose(\n",
    "    p=1.0,\n",
    "    transforms=[\n",
    "        A.HorizontalFlip(p=1) # To check if horizontal flip is working\n",
    "    ]\n",
    ")"
   ]
  },
  {
   "cell_type": "code",
   "execution_count": 3,
   "id": "parliamentary-conversation",
   "metadata": {},
   "outputs": [],
   "source": [
    "mri = nib.load(\"../datasets/Task01_BrainTumour/train/images/BRATS_001.nii.gz\").get_fdata()\n",
    "mask = nib.load(\"../datasets/Task01_BrainTumour/train/masks/BRATS_001.nii.gz\").get_fdata().astype(np.uint8)"
   ]
  },
  {
   "cell_type": "code",
   "execution_count": 4,
   "id": "brave-palestinian",
   "metadata": {},
   "outputs": [
    {
     "data": {
      "application/vnd.jupyter.widget-view+json": {
       "model_id": "b36174da981246a2b52b650d33e4cbd4",
       "version_major": 2,
       "version_minor": 0
      },
      "text/plain": [
       "interactive(children=(ToggleButtons(button_style='info', description='Select Class:', options=('Background', '…"
      ]
     },
     "metadata": {},
     "output_type": "display_data"
    }
   ],
   "source": [
    "classes_dict = {\n",
    "    'Background': 0,\n",
    "    'Edema': 1,\n",
    "    'Non-enhancing tumor': 2,\n",
    "    'Enhancing tumor': 3 \n",
    "}\n",
    "\n",
    "# Create button values\n",
    "select_class = ToggleButtons(\n",
    "    options=['Background','Edema', 'Non-enhancing tumor', 'Enhancing tumor', 'All'],\n",
    "    description='Select Class:',\n",
    "    disabled=False,\n",
    "    button_style='info', \n",
    "    \n",
    ")\n",
    "# Create layer slider\n",
    "select_layer = IntSlider(min=0, max=154, description='Select Layer', continuous_update=False)\n",
    "\n",
    "    \n",
    "# Define a function for plotting images\n",
    "def plot(seg_class, layer, channel):\n",
    "    print(f\"Plotting Layer: {layer} | Label: {seg_class} | Channel: {channel}\")\n",
    "    fig = plt.figure(figsize=(20, 10))\n",
    "    \n",
    "    fig.add_subplot(1, 2, 1)\n",
    "    plt.title(\"MRI\", fontsize=20)\n",
    "    plt.imshow(mri[:, :, layer, channel], cmap='gray');\n",
    "    plt.axis('off')\n",
    "    \n",
    "    fig.add_subplot(1, 2, 2)\n",
    "    if seg_class == \"All\":\n",
    "        mask_img = mask[:, :, layer]\n",
    "        plt.title(\"Mask\", fontsize=20)\n",
    "        plt.imshow(mask_img)\n",
    "        plt.axis('off');\n",
    "    else:\n",
    "        img_label = classes_dict[seg_class]\n",
    "        mask_img = np.where(mask[:, :, layer] == img_label, 255, 0)\n",
    "        plt.title(\"Mask\", fontsize=20)\n",
    "        plt.imshow(mask_img, cmap='gray')\n",
    "        plt.axis('off');\n",
    "\n",
    "# Set channel to view:\n",
    "#  Channel 0: \"FLAIR\" Fluid-attenuated inversion recovery\n",
    "#  Channel 1: \"T1w\" T1-weighted\n",
    "#  Channel 2: \"t1gd\" T1-weighted with gadolinium contrast enhancement\n",
    "#  Channel 3: \"T2w\" T2-weighted    \n",
    "    \n",
    "# Use the interactive() tool to create the visualization\n",
    "interactive(plot, seg_class=select_class, layer=select_layer, channel=(0, 3))"
   ]
  },
  {
   "cell_type": "code",
   "execution_count": 5,
   "id": "familiar-charity",
   "metadata": {},
   "outputs": [],
   "source": [
    "transformed = transform(image=mri, mask=mask)\n",
    "mri = transformed[\"image\"]\n",
    "mask = transformed[\"mask\"]"
   ]
  },
  {
   "cell_type": "code",
   "execution_count": 6,
   "id": "chief-strike",
   "metadata": {},
   "outputs": [
    {
     "data": {
      "text/plain": [
       "dtype('float64')"
      ]
     },
     "execution_count": 6,
     "metadata": {},
     "output_type": "execute_result"
    }
   ],
   "source": [
    "mri.dtype"
   ]
  },
  {
   "cell_type": "code",
   "execution_count": 7,
   "id": "acoustic-uganda",
   "metadata": {},
   "outputs": [
    {
     "data": {
      "text/plain": [
       "(240, 240, 155, 4)"
      ]
     },
     "execution_count": 7,
     "metadata": {},
     "output_type": "execute_result"
    }
   ],
   "source": [
    "mri.shape"
   ]
  },
  {
   "cell_type": "code",
   "execution_count": 8,
   "id": "inappropriate-wheat",
   "metadata": {},
   "outputs": [
    {
     "data": {
      "text/plain": [
       "dtype('uint8')"
      ]
     },
     "execution_count": 8,
     "metadata": {},
     "output_type": "execute_result"
    }
   ],
   "source": [
    "mask.dtype"
   ]
  },
  {
   "cell_type": "code",
   "execution_count": 9,
   "id": "exclusive-static",
   "metadata": {},
   "outputs": [
    {
     "data": {
      "text/plain": [
       "(240, 240, 155)"
      ]
     },
     "execution_count": 9,
     "metadata": {},
     "output_type": "execute_result"
    }
   ],
   "source": [
    "mask.shape"
   ]
  },
  {
   "cell_type": "code",
   "execution_count": 10,
   "id": "undefined-burns",
   "metadata": {},
   "outputs": [
    {
     "data": {
      "application/vnd.jupyter.widget-view+json": {
       "model_id": "074958c7491047b58527b2f307381aae",
       "version_major": 2,
       "version_minor": 0
      },
      "text/plain": [
       "interactive(children=(ToggleButtons(button_style='info', description='Select Class:', options=('Background', '…"
      ]
     },
     "metadata": {},
     "output_type": "display_data"
    }
   ],
   "source": [
    "classes_dict = {\n",
    "    'Background': 0,\n",
    "    'Edema': 1,\n",
    "    'Non-enhancing tumor': 2,\n",
    "    'Enhancing tumor': 3 \n",
    "}\n",
    "\n",
    "# Create button values\n",
    "select_class = ToggleButtons(\n",
    "    options=['Background','Edema', 'Non-enhancing tumor', 'Enhancing tumor', 'All'],\n",
    "    description='Select Class:',\n",
    "    disabled=False,\n",
    "    button_style='info', \n",
    "    \n",
    ")\n",
    "# Create layer slider\n",
    "select_layer = IntSlider(min=0, max=154, description='Select Layer', continuous_update=False)\n",
    "\n",
    "    \n",
    "# Define a function for plotting images\n",
    "def plot(seg_class, layer, channel):\n",
    "    print(f\"Plotting Layer: {layer} | Label: {seg_class} | Channel: {channel}\")\n",
    "    fig = plt.figure(figsize=(20, 10))\n",
    "    \n",
    "    fig.add_subplot(1, 2, 1)\n",
    "    plt.title(\"MRI\", fontsize=20)\n",
    "    plt.imshow(mri[:, :, layer, channel], cmap='gray');\n",
    "    plt.axis('off')\n",
    "    \n",
    "    fig.add_subplot(1, 2, 2)\n",
    "    if seg_class == \"All\":\n",
    "        mask_img = mask[:, :, layer]\n",
    "        plt.title(\"Mask\", fontsize=20)\n",
    "        plt.imshow(mask_img)\n",
    "        plt.axis('off');\n",
    "    else:\n",
    "        img_label = classes_dict[seg_class]\n",
    "        mask_img = np.where(mask[:, :, layer] == img_label, 255, 0)\n",
    "        plt.title(\"Mask\", fontsize=20)\n",
    "        plt.imshow(mask_img, cmap='gray')\n",
    "        plt.axis('off');\n",
    "\n",
    "# Set channel to view:\n",
    "#  Channel 0: \"FLAIR\" Fluid-attenuated inversion recovery\n",
    "#  Channel 1: \"T1w\" T1-weighted\n",
    "#  Channel 2: \"t1gd\" T1-weighted with gadolinium contrast enhancement\n",
    "#  Channel 3: \"T2w\" T2-weighted    \n",
    "    \n",
    "# Use the interactive() tool to create the visualization\n",
    "interactive(plot, seg_class=select_class, layer=select_layer, channel=(0, 3))"
   ]
  },
  {
   "cell_type": "markdown",
   "id": "76c0de59-6e0a-4050-aebb-b01a51b477e4",
   "metadata": {},
   "source": [
    "### 2- Checking Resizing from size 400x400x180 to 320x320x180"
   ]
  },
  {
   "cell_type": "code",
   "execution_count": 11,
   "id": "11a68769-0729-4105-82c2-c1ee65952f2d",
   "metadata": {},
   "outputs": [],
   "source": [
    "transform = A.Compose(\n",
    "    p=1.0,\n",
    "    transforms=[\n",
    "        A.Resize(\n",
    "            height=320,\n",
    "            width=320,\n",
    "            interpolation=1,\n",
    "            p=1\n",
    "        ) # To check if Resizing is working\n",
    "    ]\n",
    ")"
   ]
  },
  {
   "cell_type": "code",
   "execution_count": 12,
   "id": "97728be9-7849-4c44-bdf5-248b9f103f4e",
   "metadata": {},
   "outputs": [],
   "source": [
    "mri = nib.load(\"../datasets/Task02_Heart/test_images_for_model_prediction_submission/la_006.nii.gz\").get_fdata()"
   ]
  },
  {
   "cell_type": "code",
   "execution_count": 13,
   "id": "1ebefb26-c6b2-42ed-afc0-f730d72bc802",
   "metadata": {},
   "outputs": [
    {
     "data": {
      "text/plain": [
       "(400, 400, 180)"
      ]
     },
     "execution_count": 13,
     "metadata": {},
     "output_type": "execute_result"
    }
   ],
   "source": [
    "mri.shape"
   ]
  },
  {
   "cell_type": "code",
   "execution_count": 14,
   "id": "70975ed0-82a4-44b5-a496-d703a39113c2",
   "metadata": {},
   "outputs": [],
   "source": [
    "transformed = transform(image=mri)"
   ]
  },
  {
   "cell_type": "code",
   "execution_count": 15,
   "id": "37b50344-90ed-4232-bd6f-809ea3016af1",
   "metadata": {},
   "outputs": [],
   "source": [
    "resized_mri = transformed[\"image\"]"
   ]
  },
  {
   "cell_type": "code",
   "execution_count": 16,
   "id": "0b18635a-cf19-4add-85f8-d9d36173d4b4",
   "metadata": {},
   "outputs": [
    {
     "data": {
      "text/plain": [
       "(320, 320, 180)"
      ]
     },
     "execution_count": 16,
     "metadata": {},
     "output_type": "execute_result"
    }
   ],
   "source": [
    "resized_mri.shape"
   ]
  },
  {
   "cell_type": "code",
   "execution_count": 17,
   "id": "2a420924-e295-4dc6-af24-c683e4ae1a8d",
   "metadata": {},
   "outputs": [
    {
     "data": {
      "application/vnd.jupyter.widget-view+json": {
       "model_id": "5e4d361332dc48eea2f4a4fecee028e7",
       "version_major": 2,
       "version_minor": 0
      },
      "text/plain": [
       "interactive(children=(IntSlider(value=0, continuous_update=False, description='Select Layer', max=179), Output…"
      ]
     },
     "metadata": {},
     "output_type": "display_data"
    }
   ],
   "source": [
    "# Create layer slider\n",
    "select_layer = IntSlider(min=0, max=mri.shape[2] - 1, description='Select Layer', continuous_update=False)\n",
    "\n",
    "    \n",
    "# Define a function for plotting images\n",
    "def plot(layer):\n",
    "    print(f\"Plotting Layer: {layer}\")\n",
    "    fig = plt.figure(figsize=(20, 10))\n",
    "    \n",
    "    fig.add_subplot(1, 2, 1)\n",
    "    plt.title(\"MRI\", fontsize=20)\n",
    "    plt.imshow(mri[:, :, layer], cmap='gray');\n",
    "    plt.axis('off')\n",
    "    \n",
    "    fig.add_subplot(1, 2, 2)\n",
    "    plt.title(\"Resized MRI\", fontsize=20)\n",
    "    plt.imshow(resized_mri[:, :, layer], cmap='gray')\n",
    "    plt.axis('off');\n",
    "    \n",
    "# Use the interactive() tool to create the visualization\n",
    "interactive(plot, layer=select_layer)"
   ]
  },
  {
   "cell_type": "markdown",
   "id": "0ad90bbd-0ea4-480c-b0fc-5b888be2ba2c",
   "metadata": {
    "jp-MarkdownHeadingCollapsed": true,
    "tags": []
   },
   "source": [
    "### 3- Checking Resizing from 256x256x18x2 to 320x320x18x2\n",
    "__Note: it seems for resizing each channel must be resized separately, having both channels would not work__"
   ]
  },
  {
   "cell_type": "code",
   "execution_count": 18,
   "id": "44975136-7d09-40b4-9513-7b156dda6691",
   "metadata": {},
   "outputs": [],
   "source": [
    "transform = A.Compose(\n",
    "    p=1.0,\n",
    "    transforms=[\n",
    "        A.Resize(\n",
    "            height=320,\n",
    "            width=320,\n",
    "            interpolation=1,\n",
    "            p=1\n",
    "        ) # To check if Resizing is working\n",
    "    ]\n",
    ")"
   ]
  },
  {
   "cell_type": "code",
   "execution_count": 19,
   "id": "814d92d8-7ab3-4c96-9aee-fddb0cc769dc",
   "metadata": {},
   "outputs": [],
   "source": [
    "mri = nib.load(\"../datasets/Task05_Prostate/train/images/prostate_18.nii.gz\").get_fdata().astype(np.float32)"
   ]
  },
  {
   "cell_type": "code",
   "execution_count": 20,
   "id": "ce73eb53-ff9c-4cd8-8fe3-6c35235178a3",
   "metadata": {},
   "outputs": [
    {
     "data": {
      "text/plain": [
       "(256, 256, 18, 2)"
      ]
     },
     "execution_count": 20,
     "metadata": {},
     "output_type": "execute_result"
    }
   ],
   "source": [
    "mri.shape"
   ]
  },
  {
   "cell_type": "code",
   "execution_count": 21,
   "id": "91f0a4e5-2e3f-4dc0-b5f0-d3eb2f6a4530",
   "metadata": {},
   "outputs": [],
   "source": [
    "# IMPORTANT TO CAST AS TYPE UINT8 AND THEN RECASTING TO TYPE FLOAT32 AFTER RESIZING TO AVOID NON-INTEGER VALUES AFTER RESIZING\n",
    "mask = nib.load(\"../datasets/Task05_Prostate/train/masks/prostate_18.nii.gz\").get_fdata().astype(np.uint8)"
   ]
  },
  {
   "cell_type": "code",
   "execution_count": 22,
   "id": "aa556784-d54d-44ee-9e0f-598bab4a6e81",
   "metadata": {},
   "outputs": [
    {
     "data": {
      "text/plain": [
       "(256, 256, 18)"
      ]
     },
     "execution_count": 22,
     "metadata": {},
     "output_type": "execute_result"
    }
   ],
   "source": [
    "mask.shape"
   ]
  },
  {
   "cell_type": "code",
   "execution_count": 23,
   "id": "3b4f0d4c-15be-40ed-b50f-316c8a6d5259",
   "metadata": {},
   "outputs": [
    {
     "data": {
      "text/plain": [
       "array([0, 1], dtype=uint8)"
      ]
     },
     "execution_count": 23,
     "metadata": {},
     "output_type": "execute_result"
    }
   ],
   "source": [
    "np.unique(mask)"
   ]
  },
  {
   "cell_type": "code",
   "execution_count": 24,
   "id": "1744ccd9-9ad8-4a9a-8b4a-e007591291da",
   "metadata": {},
   "outputs": [],
   "source": [
    "transformed_channel1 = transform(image=mri[:, :, :, 0])\n",
    "transformed_channel2 = transform(image=mri[:, :, :, 1])\n",
    "transformed_mask = transform(image=mask)"
   ]
  },
  {
   "cell_type": "code",
   "execution_count": 25,
   "id": "cbeb1d4f-b1e5-4c3a-8225-17d471d60509",
   "metadata": {},
   "outputs": [],
   "source": [
    "resized_mri_channel1 = transformed_channel1[\"image\"]\n",
    "resized_mri_channel2 = transformed_channel2[\"image\"]\n",
    "resized_mask = transformed_mask[\"image\"]"
   ]
  },
  {
   "cell_type": "code",
   "execution_count": 26,
   "id": "638c02fa-b0d7-427e-b75f-b95b7d5fdb3f",
   "metadata": {},
   "outputs": [
    {
     "data": {
      "text/plain": [
       "(320, 320, 18)"
      ]
     },
     "execution_count": 26,
     "metadata": {},
     "output_type": "execute_result"
    }
   ],
   "source": [
    "resized_mri_channel1.shape"
   ]
  },
  {
   "cell_type": "code",
   "execution_count": 27,
   "id": "bccae55b-7634-406b-90df-837638dd36f6",
   "metadata": {},
   "outputs": [
    {
     "data": {
      "text/plain": [
       "(320, 320, 18)"
      ]
     },
     "execution_count": 27,
     "metadata": {},
     "output_type": "execute_result"
    }
   ],
   "source": [
    "resized_mri_channel2.shape"
   ]
  },
  {
   "cell_type": "code",
   "execution_count": 28,
   "id": "f4a343f9-4dc0-43eb-8be7-ec0cf1443f3e",
   "metadata": {},
   "outputs": [],
   "source": [
    "resized_mri = np.stack((resized_mri_channel1, resized_mri_channel2), axis = -1)"
   ]
  },
  {
   "cell_type": "code",
   "execution_count": 29,
   "id": "e7d90acc-2846-4a65-95b0-72c2a75236c3",
   "metadata": {},
   "outputs": [
    {
     "data": {
      "text/plain": [
       "(320, 320, 18, 2)"
      ]
     },
     "execution_count": 29,
     "metadata": {},
     "output_type": "execute_result"
    }
   ],
   "source": [
    "resized_mri.shape"
   ]
  },
  {
   "cell_type": "code",
   "execution_count": 30,
   "id": "255f27ea-49f9-412f-a21b-6495272aff3c",
   "metadata": {},
   "outputs": [
    {
     "data": {
      "text/plain": [
       "(320, 320, 18)"
      ]
     },
     "execution_count": 30,
     "metadata": {},
     "output_type": "execute_result"
    }
   ],
   "source": [
    "resized_mask.shape"
   ]
  },
  {
   "cell_type": "code",
   "execution_count": 31,
   "id": "7ec7aede-d0b9-440c-88ff-905e960c6445",
   "metadata": {},
   "outputs": [
    {
     "data": {
      "text/plain": [
       "array([0, 1], dtype=uint8)"
      ]
     },
     "execution_count": 31,
     "metadata": {},
     "output_type": "execute_result"
    }
   ],
   "source": [
    "np.unique(resized_mask)"
   ]
  },
  {
   "cell_type": "code",
   "execution_count": 32,
   "id": "8b655102-fded-4b93-813c-67db94189d1e",
   "metadata": {},
   "outputs": [
    {
     "data": {
      "application/vnd.jupyter.widget-view+json": {
       "model_id": "07de2778969644d581c15fdc35d2ed64",
       "version_major": 2,
       "version_minor": 0
      },
      "text/plain": [
       "interactive(children=(ToggleButtons(button_style='info', description='Select Class:', options=('Background', '…"
      ]
     },
     "metadata": {},
     "output_type": "display_data"
    }
   ],
   "source": [
    "# For python variable assignment issues\n",
    "orig_mri = mri\n",
    "orig_mask = mask\n",
    "\n",
    "classes_dict = {\n",
    "    'Background': 0,\n",
    "    'Peripheral-Zone': 1,\n",
    "    'Transition-Zone': 2\n",
    "}\n",
    "\n",
    "# Create button values\n",
    "select_class = ToggleButtons(\n",
    "    options=['Background','Peripheral-Zone', 'Transition-Zone', 'All'],\n",
    "    description='Select Class:',\n",
    "    disabled=False,\n",
    "    button_style='info', \n",
    "    \n",
    ")\n",
    "# Create layer slider\n",
    "select_layer = IntSlider(min=0, max=orig_mri.shape[2] - 1, description='Select Layer', continuous_update=False)\n",
    "\n",
    "    \n",
    "# Define a function for plotting images\n",
    "def plot(seg_class, layer, channel):\n",
    "    print(f\"Plotting Layer: {layer} | Label: {seg_class} | Channel: {channel}\")\n",
    "    fig = plt.figure(figsize=(20, 10))\n",
    "    \n",
    "    fig.add_subplot(2, 2, 1)\n",
    "    plt.imshow(orig_mri[:, :, layer, channel], cmap='gray');\n",
    "    plt.title(\"MRI\", fontsize=20)\n",
    "    plt.axis('off')\n",
    "    \n",
    "    fig.add_subplot(2, 2, 2)\n",
    "    if seg_class == \"All\":\n",
    "        mask = orig_mask[:, :, layer]\n",
    "        plt.title(\"Mask\", fontsize=20)\n",
    "        plt.imshow(mask)\n",
    "        plt.axis('off');\n",
    "    else:\n",
    "        img_label = classes_dict[seg_class]\n",
    "        mask = np.where(orig_mask[:, :, layer] == img_label, 255, 0)\n",
    "        plt.title(\"Mask\", fontsize=20)\n",
    "        plt.imshow(mask, cmap='gray')\n",
    "        plt.axis('off');\n",
    "    \n",
    "    fig.add_subplot(2, 2, 3)\n",
    "    plt.imshow(resized_mri[:, :, layer, channel], cmap='gray');\n",
    "    plt.title(\"Resized MRI\", fontsize=20)\n",
    "    plt.axis('off')\n",
    "    \n",
    "    fig.add_subplot(2, 2, 4)\n",
    "    if seg_class == \"All\":\n",
    "        mask = resized_mask[:, :, layer]\n",
    "        plt.title(\"Resized Mask\", fontsize=20)\n",
    "        plt.imshow(mask)\n",
    "        plt.axis('off');\n",
    "    else:\n",
    "        img_label = classes_dict[seg_class]\n",
    "        mask = np.where(resized_mask[:, :, layer] == img_label, 255, 0)\n",
    "        plt.title(\"Resized Mask\", fontsize=20)\n",
    "        plt.imshow(mask, cmap='gray')\n",
    "        plt.axis('off');\n",
    "\n",
    "# Set channel to view:\n",
    "#  Channel 0: T2\n",
    "#  Channel 1: ADC    \n",
    "    \n",
    "# Use the interactive() tool to create the visualization\n",
    "interactive(plot, seg_class=select_class, layer=select_layer, channel=(0, 1))"
   ]
  },
  {
   "cell_type": "markdown",
   "id": "31e57c8a-7c96-4ac7-8d16-e408b94a088a",
   "metadata": {},
   "source": [
    "### 4- Checking Resizing from size 35x51x35 to 32x32x35"
   ]
  },
  {
   "cell_type": "code",
   "execution_count": 64,
   "id": "3b3bbf15-5cfb-465e-a7d0-2a5e2de5426e",
   "metadata": {},
   "outputs": [],
   "source": [
    "transform = A.Compose(\n",
    "    p=1.0,\n",
    "    transforms=[\n",
    "        A.Resize(\n",
    "            height=32,\n",
    "            width=32,\n",
    "            interpolation=1,\n",
    "            p=1\n",
    "        ) # To check if Resizing is working\n",
    "    ]\n",
    ")"
   ]
  },
  {
   "cell_type": "code",
   "execution_count": 65,
   "id": "c4d25327-e7cf-43ec-86ce-99c77b423b62",
   "metadata": {},
   "outputs": [],
   "source": [
    "mri = nib.load(\"../datasets/Task04_Hippocampus/train/images/hippocampus_001.nii.gz\").get_fdata()"
   ]
  },
  {
   "cell_type": "code",
   "execution_count": 66,
   "id": "abb26802-143c-440b-a3fc-96a785f7067b",
   "metadata": {},
   "outputs": [
    {
     "data": {
      "text/plain": [
       "(35, 51, 35)"
      ]
     },
     "execution_count": 66,
     "metadata": {},
     "output_type": "execute_result"
    }
   ],
   "source": [
    "mri.shape"
   ]
  },
  {
   "cell_type": "code",
   "execution_count": 67,
   "id": "ce5db9a4-36a9-465b-837b-bb627410b797",
   "metadata": {},
   "outputs": [],
   "source": [
    "# IMPORTANT TO CAST AS TYPE UINT8 AND THEN RECASTING TO TYPE FLOAT32 AFTER RESIZING TO AVOID NON-INTEGER VALUES AFTER RESIZING\n",
    "mask = nib.load(\"../datasets/Task04_Hippocampus/train/masks/hippocampus_001.nii.gz\").get_fdata().astype(np.uint8)"
   ]
  },
  {
   "cell_type": "code",
   "execution_count": 68,
   "id": "86273e04-55cc-4b59-8a7e-cc7993f15da7",
   "metadata": {},
   "outputs": [
    {
     "data": {
      "text/plain": [
       "(35, 51, 35)"
      ]
     },
     "execution_count": 68,
     "metadata": {},
     "output_type": "execute_result"
    }
   ],
   "source": [
    "mask.shape"
   ]
  },
  {
   "cell_type": "code",
   "execution_count": 69,
   "id": "fd55fa6c-e54e-4e39-8e25-c7c96330e8cb",
   "metadata": {},
   "outputs": [
    {
     "data": {
      "text/plain": [
       "array([0, 1, 2], dtype=uint8)"
      ]
     },
     "execution_count": 69,
     "metadata": {},
     "output_type": "execute_result"
    }
   ],
   "source": [
    "np.unique(mask)"
   ]
  },
  {
   "cell_type": "code",
   "execution_count": 70,
   "id": "4f2ddfca-deb5-4816-ad6f-426918261a4e",
   "metadata": {},
   "outputs": [],
   "source": [
    "transformed = transform(image=mri, mask=mask)"
   ]
  },
  {
   "cell_type": "code",
   "execution_count": 71,
   "id": "b5134553-18db-4340-a6a7-1fcdc94d72d3",
   "metadata": {},
   "outputs": [],
   "source": [
    "resized_mri = transformed[\"image\"]\n",
    "resized_mask = transformed[\"mask\"].astype(np.uint8)"
   ]
  },
  {
   "cell_type": "code",
   "execution_count": 72,
   "id": "7ca23bac-b34f-4de2-9014-01daf8dca64f",
   "metadata": {},
   "outputs": [
    {
     "data": {
      "text/plain": [
       "(32, 32, 35)"
      ]
     },
     "execution_count": 72,
     "metadata": {},
     "output_type": "execute_result"
    }
   ],
   "source": [
    "resized_mri.shape"
   ]
  },
  {
   "cell_type": "code",
   "execution_count": 73,
   "id": "8c6a9911-8353-4e40-8bc1-a6bcf2f08a8f",
   "metadata": {},
   "outputs": [
    {
     "data": {
      "text/plain": [
       "(32, 32, 35)"
      ]
     },
     "execution_count": 73,
     "metadata": {},
     "output_type": "execute_result"
    }
   ],
   "source": [
    "resized_mask.shape"
   ]
  },
  {
   "cell_type": "code",
   "execution_count": 74,
   "id": "475ca75b-7e72-43a6-95ab-7920b594dd48",
   "metadata": {},
   "outputs": [
    {
     "data": {
      "text/plain": [
       "array([0, 1, 2], dtype=uint8)"
      ]
     },
     "execution_count": 74,
     "metadata": {},
     "output_type": "execute_result"
    }
   ],
   "source": [
    "np.unique(resized_mask)"
   ]
  },
  {
   "cell_type": "code",
   "execution_count": 75,
   "id": "7f122aca-e5f3-4c36-84ce-84223de40344",
   "metadata": {},
   "outputs": [
    {
     "data": {
      "application/vnd.jupyter.widget-view+json": {
       "model_id": "d2a3b0f2e3c94da9b066d375ea8a4a90",
       "version_major": 2,
       "version_minor": 0
      },
      "text/plain": [
       "interactive(children=(ToggleButtons(button_style='info', description='Select Class:', options=('Background', '…"
      ]
     },
     "metadata": {},
     "output_type": "display_data"
    }
   ],
   "source": [
    "# For python variable assignment issues\n",
    "orig_mri = mri\n",
    "orig_mask = mask\n",
    "\n",
    "classes_dict = {\n",
    "    'Background': 0,\n",
    "    'Anterior': 1,\n",
    "    'Exterior': 2\n",
    "}\n",
    "\n",
    "# Create button values\n",
    "select_class = ToggleButtons(\n",
    "    options=['Background','Anterior', 'Exterior', 'All'],\n",
    "    description='Select Class:',\n",
    "    disabled=False,\n",
    "    button_style='info', \n",
    "    \n",
    ")\n",
    "# Create layer slider\n",
    "select_layer = IntSlider(min=0, max=orig_mri.shape[2] - 1, description='Select Layer', continuous_update=False)\n",
    "\n",
    "    \n",
    "# Define a function for plotting images\n",
    "def plot(seg_class, layer):\n",
    "    print(f\"Plotting Layer: {layer} | Label: {seg_class}\")\n",
    "    fig = plt.figure(figsize=(20, 10))\n",
    "    \n",
    "    fig.add_subplot(2, 2, 1)\n",
    "    plt.imshow(orig_mri[:, :, layer], cmap='gray');\n",
    "    plt.title(\"MRI\", fontsize=20)\n",
    "    plt.axis('off')\n",
    "    \n",
    "    fig.add_subplot(2, 2, 2)\n",
    "    if seg_class == \"All\":\n",
    "        mask = orig_mask[:, :, layer]\n",
    "        plt.title(\"Mask\", fontsize=20)\n",
    "        plt.imshow(mask)\n",
    "        plt.axis('off');\n",
    "    else:\n",
    "        img_label = classes_dict[seg_class]\n",
    "        mask = np.where(orig_mask[:, :, layer] == img_label, 255, 0)\n",
    "        plt.title(\"Mask\", fontsize=20)\n",
    "        plt.imshow(mask, cmap='gray')\n",
    "        plt.axis('off');\n",
    "    \n",
    "    fig.add_subplot(2, 2, 3)\n",
    "    plt.imshow(resized_mri[:, :, layer], cmap='gray');\n",
    "    plt.title(\"Resized MRI\", fontsize=20)\n",
    "    plt.axis('off')\n",
    "    \n",
    "    fig.add_subplot(2, 2, 4)\n",
    "    if seg_class == \"All\":\n",
    "        mask = resized_mask[:, :, layer]\n",
    "        plt.title(\"Resized Mask\", fontsize=20)\n",
    "        plt.imshow(mask)\n",
    "        plt.axis('off');\n",
    "    else:\n",
    "        img_label = classes_dict[seg_class]\n",
    "        mask = np.where(resized_mask[:, :, layer] == img_label, 255, 0)\n",
    "        plt.title(\"Resized Mask\", fontsize=20)\n",
    "        plt.imshow(mask, cmap='gray')\n",
    "        plt.axis('off');\n",
    "\n",
    "# Set channel to view:\n",
    "#  Channel 0: T2\n",
    "#  Channel 1: ADC    \n",
    "    \n",
    "# Use the interactive() tool to create the visualization\n",
    "interactive(plot, seg_class=select_class, layer=select_layer)"
   ]
  },
  {
   "cell_type": "markdown",
   "id": "59d125e6-403f-4bd8-8171-888595a0c487",
   "metadata": {},
   "source": [
    "### 5- Checking reverse resizing from size 32x32x35 to 35x51x35 "
   ]
  },
  {
   "cell_type": "code",
   "execution_count": 45,
   "id": "3e3ce890-beb0-48e1-aad9-8a96d01c5f0a",
   "metadata": {},
   "outputs": [],
   "source": [
    "transform = A.Compose(\n",
    "    p=1.0,\n",
    "    transforms=[\n",
    "        A.Resize(\n",
    "            height=35,\n",
    "            width=51,\n",
    "            interpolation=1,\n",
    "            p=1\n",
    "        ) # To check if Resizing is working\n",
    "    ]\n",
    ")"
   ]
  },
  {
   "cell_type": "code",
   "execution_count": 46,
   "id": "ea7b37cd-b1f2-461b-b5d6-8618644e3c24",
   "metadata": {},
   "outputs": [],
   "source": [
    "transformed_mri = transform(image=mri)\n",
    "transformed_mask = transform(image=mask)"
   ]
  },
  {
   "cell_type": "code",
   "execution_count": 47,
   "id": "5925d9c5-96f8-4e0a-8f7f-ad02aec01a72",
   "metadata": {},
   "outputs": [],
   "source": [
    "resized_mri = transformed_mri[\"image\"]\n",
    "resized_mask = transformed_mask[\"image\"]"
   ]
  },
  {
   "cell_type": "code",
   "execution_count": 48,
   "id": "d5129084-7b68-45c0-814e-ca1f74c2cb17",
   "metadata": {},
   "outputs": [
    {
     "data": {
      "text/plain": [
       "(35, 51, 35)"
      ]
     },
     "execution_count": 48,
     "metadata": {},
     "output_type": "execute_result"
    }
   ],
   "source": [
    "resized_mri.shape"
   ]
  },
  {
   "cell_type": "code",
   "execution_count": 49,
   "id": "eca3c428-3c6a-40a1-af90-cf22addb6cbc",
   "metadata": {},
   "outputs": [
    {
     "data": {
      "text/plain": [
       "(35, 51, 35)"
      ]
     },
     "execution_count": 49,
     "metadata": {},
     "output_type": "execute_result"
    }
   ],
   "source": [
    "resized_mask.shape"
   ]
  },
  {
   "cell_type": "code",
   "execution_count": 50,
   "id": "5e99d5f9-12b0-4114-8b11-6831b0609206",
   "metadata": {},
   "outputs": [
    {
     "data": {
      "text/plain": [
       "array([0, 1, 2], dtype=uint8)"
      ]
     },
     "execution_count": 50,
     "metadata": {},
     "output_type": "execute_result"
    }
   ],
   "source": [
    "np.unique(resized_mask)"
   ]
  },
  {
   "cell_type": "code",
   "execution_count": 51,
   "id": "2df28c01-1f13-4a3e-810a-072efd2b4aab",
   "metadata": {},
   "outputs": [
    {
     "data": {
      "application/vnd.jupyter.widget-view+json": {
       "model_id": "2d5dea0944044d9486c0552fe2ec909b",
       "version_major": 2,
       "version_minor": 0
      },
      "text/plain": [
       "interactive(children=(ToggleButtons(button_style='info', description='Select Class:', options=('Background', '…"
      ]
     },
     "metadata": {},
     "output_type": "display_data"
    }
   ],
   "source": [
    "# For python variable assignment issues\n",
    "orig_mri = mri\n",
    "orig_mask = mask\n",
    "\n",
    "classes_dict = {\n",
    "    'Background': 0,\n",
    "    'Anterior': 1,\n",
    "    'Exterior': 2\n",
    "}\n",
    "\n",
    "# Create button values\n",
    "select_class = ToggleButtons(\n",
    "    options=['Background','Anterior', 'Exterior', 'All'],\n",
    "    description='Select Class:',\n",
    "    disabled=False,\n",
    "    button_style='info', \n",
    "    \n",
    ")\n",
    "# Create layer slider\n",
    "select_layer = IntSlider(min=0, max=orig_mri.shape[2] - 1, description='Select Layer', continuous_update=False)\n",
    "\n",
    "    \n",
    "# Define a function for plotting images\n",
    "def plot(seg_class, layer):\n",
    "    print(f\"Plotting Layer: {layer} | Label: {seg_class}\")\n",
    "    fig = plt.figure(figsize=(20, 10))\n",
    "    \n",
    "    fig.add_subplot(2, 2, 1)\n",
    "    plt.imshow(orig_mri[:, :, layer], cmap='gray');\n",
    "    plt.title(\"MRI\", fontsize=20)\n",
    "    plt.axis('off')\n",
    "    \n",
    "    fig.add_subplot(2, 2, 2)\n",
    "    if seg_class == \"All\":\n",
    "        mask = orig_mask[:, :, layer]\n",
    "        plt.title(\"Mask\", fontsize=20)\n",
    "        plt.imshow(mask)\n",
    "        plt.axis('off');\n",
    "    else:\n",
    "        img_label = classes_dict[seg_class]\n",
    "        mask = np.where(orig_mask[:, :, layer] == img_label, 255, 0)\n",
    "        plt.title(\"Mask\", fontsize=20)\n",
    "        plt.imshow(mask, cmap='gray')\n",
    "        plt.axis('off');\n",
    "    \n",
    "    fig.add_subplot(2, 2, 3)\n",
    "    plt.imshow(resized_mri[:, :, layer], cmap='gray');\n",
    "    plt.title(\"Resized MRI\", fontsize=20)\n",
    "    plt.axis('off')\n",
    "    \n",
    "    fig.add_subplot(2, 2, 4)\n",
    "    if seg_class == \"All\":\n",
    "        mask = resized_mask[:, :, layer]\n",
    "        plt.title(\"Resized Mask\", fontsize=20)\n",
    "        plt.imshow(mask)\n",
    "        plt.axis('off');\n",
    "    else:\n",
    "        img_label = classes_dict[seg_class]\n",
    "        mask = np.where(resized_mask[:, :, layer] == img_label, 255, 0)\n",
    "        plt.title(\"Resized Mask\", fontsize=20)\n",
    "        plt.imshow(mask, cmap='gray')\n",
    "        plt.axis('off');\n",
    "\n",
    "# Set channel to view:\n",
    "#  Channel 0: T2\n",
    "#  Channel 1: ADC    \n",
    "    \n",
    "# Use the interactive() tool to create the visualization\n",
    "interactive(plot, seg_class=select_class, layer=select_layer)"
   ]
  },
  {
   "cell_type": "markdown",
   "id": "meaning-minority",
   "metadata": {},
   "source": [
    "### 6- Checking Resizing from size 512x512x75 to 320x320x75"
   ]
  },
  {
   "cell_type": "code",
   "execution_count": 52,
   "id": "focused-prisoner",
   "metadata": {},
   "outputs": [],
   "source": [
    "transform = A.Compose(\n",
    "    p=1.0,\n",
    "    transforms=[\n",
    "        A.Resize(\n",
    "            height=320,\n",
    "            width=320,\n",
    "            interpolation=1,\n",
    "            p=1\n",
    "        ) # To check if Resizing is working\n",
    "    ]\n",
    ")"
   ]
  },
  {
   "cell_type": "code",
   "execution_count": 53,
   "id": "foreign-pulse",
   "metadata": {},
   "outputs": [],
   "source": [
    "mri = nib.load(\"../datasets/Task03_Liver/train/images/liver_0.nii.gz\").get_fdata()"
   ]
  },
  {
   "cell_type": "code",
   "execution_count": 54,
   "id": "portuguese-sword",
   "metadata": {},
   "outputs": [
    {
     "data": {
      "text/plain": [
       "(512, 512, 75)"
      ]
     },
     "execution_count": 54,
     "metadata": {},
     "output_type": "execute_result"
    }
   ],
   "source": [
    "mri.shape"
   ]
  },
  {
   "cell_type": "code",
   "execution_count": 55,
   "id": "accessible-mountain",
   "metadata": {},
   "outputs": [],
   "source": [
    "mask = nib.load(\"../datasets/Task03_Liver/train/masks/liver_0.nii.gz\").get_fdata()"
   ]
  },
  {
   "cell_type": "code",
   "execution_count": 56,
   "id": "compliant-investor",
   "metadata": {},
   "outputs": [
    {
     "data": {
      "text/plain": [
       "(512, 512, 75)"
      ]
     },
     "execution_count": 56,
     "metadata": {},
     "output_type": "execute_result"
    }
   ],
   "source": [
    "mask.shape"
   ]
  },
  {
   "cell_type": "code",
   "execution_count": 57,
   "id": "smooth-legend",
   "metadata": {},
   "outputs": [],
   "source": [
    "transformed = transform(image=mri)"
   ]
  },
  {
   "cell_type": "code",
   "execution_count": 58,
   "id": "moderate-probability",
   "metadata": {},
   "outputs": [],
   "source": [
    "resized_mri = transformed[\"image\"]"
   ]
  },
  {
   "cell_type": "code",
   "execution_count": 59,
   "id": "unusual-carol",
   "metadata": {},
   "outputs": [
    {
     "data": {
      "text/plain": [
       "(320, 320, 75)"
      ]
     },
     "execution_count": 59,
     "metadata": {},
     "output_type": "execute_result"
    }
   ],
   "source": [
    "resized_mri.shape"
   ]
  },
  {
   "cell_type": "code",
   "execution_count": 60,
   "id": "sealed-harvest",
   "metadata": {},
   "outputs": [],
   "source": [
    "transformed = transform(image=mask.astype(np.uint8))"
   ]
  },
  {
   "cell_type": "code",
   "execution_count": 61,
   "id": "raising-belfast",
   "metadata": {},
   "outputs": [],
   "source": [
    "resized_mask = transformed[\"image\"].astype(np.uint8)"
   ]
  },
  {
   "cell_type": "code",
   "execution_count": 62,
   "id": "understanding-convenience",
   "metadata": {},
   "outputs": [
    {
     "data": {
      "text/plain": [
       "(320, 320, 75)"
      ]
     },
     "execution_count": 62,
     "metadata": {},
     "output_type": "execute_result"
    }
   ],
   "source": [
    "resized_mask.shape"
   ]
  },
  {
   "cell_type": "code",
   "execution_count": 63,
   "id": "clean-issue",
   "metadata": {},
   "outputs": [
    {
     "data": {
      "application/vnd.jupyter.widget-view+json": {
       "model_id": "c2f47c75ff694198813b5ee722a07e63",
       "version_major": 2,
       "version_minor": 0
      },
      "text/plain": [
       "interactive(children=(ToggleButtons(button_style='info', description='Select Class:', options=('Background', '…"
      ]
     },
     "metadata": {},
     "output_type": "display_data"
    }
   ],
   "source": [
    "# For python variable assignment issues\n",
    "orig_mri = mri\n",
    "orig_mask = mask\n",
    "\n",
    "classes_dict = {\n",
    "    'Background': 0,\n",
    "    'Liver': 1,\n",
    "    'Cancer': 2\n",
    "}\n",
    "\n",
    "# Create button values\n",
    "select_class = ToggleButtons(\n",
    "    options=['Background', 'Liver', 'Cancer', 'All'],\n",
    "    description='Select Class:',\n",
    "    disabled=False,\n",
    "    button_style='info', \n",
    "    \n",
    ")\n",
    "# Create layer slider\n",
    "select_layer = IntSlider(min=0, max=orig_mri.shape[2] - 1, description='Select Layer', continuous_update=False)\n",
    "\n",
    "    \n",
    "# Define a function for plotting images\n",
    "def plot(seg_class, layer):\n",
    "    print(f\"Plotting Layer: {layer} | Label: {seg_class}\")\n",
    "    fig = plt.figure(figsize=(20, 10))\n",
    "    \n",
    "    fig.add_subplot(2, 2, 1)\n",
    "    plt.imshow(orig_mri[:, :, layer], cmap='gray');\n",
    "    plt.title(\"MRI\", fontsize=20)\n",
    "    plt.axis('off')\n",
    "    \n",
    "    fig.add_subplot(2, 2, 2)\n",
    "    if seg_class == \"All\":\n",
    "        mask = orig_mask[:, :, layer]\n",
    "        plt.title(\"Mask\", fontsize=20)\n",
    "        plt.imshow(mask)\n",
    "        plt.axis('off');\n",
    "    else:\n",
    "        img_label = classes_dict[seg_class]\n",
    "        mask = np.where(orig_mask[:, :, layer] == img_label, 255, 0)\n",
    "        plt.title(\"Mask\", fontsize=20)\n",
    "        plt.imshow(mask, cmap='gray')\n",
    "        plt.axis('off');\n",
    "    \n",
    "    fig.add_subplot(2, 2, 3)\n",
    "    plt.imshow(resized_mri[:, :, layer], cmap='gray');\n",
    "    plt.title(\"Resized MRI\", fontsize=20)\n",
    "    plt.axis('off')\n",
    "    \n",
    "    fig.add_subplot(2, 2, 4)\n",
    "    if seg_class == \"All\":\n",
    "        mask = resized_mask[:, :, layer]\n",
    "        plt.title(\"Resized Mask\", fontsize=20)\n",
    "        plt.imshow(mask)\n",
    "        plt.axis('off');\n",
    "    else:\n",
    "        img_label = classes_dict[seg_class]\n",
    "        mask = np.where(resized_mask[:, :, layer] == img_label, 255, 0)\n",
    "        plt.title(\"Resized Mask\", fontsize=20)\n",
    "        plt.imshow(mask, cmap='gray')\n",
    "        plt.axis('off');\n",
    "\n",
    "# Set channel to view:\n",
    "#  Channel 0: T2\n",
    "#  Channel 1: ADC    \n",
    "    \n",
    "# Use the interactive() tool to create the visualization\n",
    "interactive(plot, seg_class=select_class, layer=select_layer)"
   ]
  },
  {
   "cell_type": "code",
   "execution_count": null,
   "id": "independent-spyware",
   "metadata": {},
   "outputs": [],
   "source": []
  }
 ],
 "metadata": {
  "kernelspec": {
   "display_name": "Python 3",
   "language": "python",
   "name": "python3"
  },
  "language_info": {
   "codemirror_mode": {
    "name": "ipython",
    "version": 3
   },
   "file_extension": ".py",
   "mimetype": "text/x-python",
   "name": "python",
   "nbconvert_exporter": "python",
   "pygments_lexer": "ipython3",
   "version": "3.7.10"
  }
 },
 "nbformat": 4,
 "nbformat_minor": 5
}
