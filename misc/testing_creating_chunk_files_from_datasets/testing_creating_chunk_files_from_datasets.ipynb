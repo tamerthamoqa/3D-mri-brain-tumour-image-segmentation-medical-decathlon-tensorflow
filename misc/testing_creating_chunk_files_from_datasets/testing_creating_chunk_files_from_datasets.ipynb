{
 "cells": [
  {
   "cell_type": "code",
   "execution_count": 1,
   "id": "20da2d35-ef95-4fa3-ac93-3a52e9622c59",
   "metadata": {},
   "outputs": [],
   "source": [
    "import numpy as np\n",
    "import nibabel as nib\n",
    "import matplotlib.pyplot as plt\n",
    "import json\n",
    "import os\n",
    "from ipywidgets import interact, interactive, IntSlider, ToggleButtons\n",
    "from sys import getsizeof\n",
    "from tqdm import tqdm"
   ]
  },
  {
   "cell_type": "markdown",
   "id": "0fb8fda2-35d2-40ff-a344-436bc3f90c19",
   "metadata": {},
   "source": [
    "### 1- Testing creating 240x240x160x4 Brain Tumor task 01 files from 240x240x155x4 files (with zero padding)"
   ]
  },
  {
   "cell_type": "code",
   "execution_count": 2,
   "id": "edaa2549-eeda-497a-98b9-71a80ad29398",
   "metadata": {},
   "outputs": [],
   "source": [
    "mri = nib.load(\"../../datasets/Task01_BrainTumour/train/images/BRATS_001.nii.gz\").get_fdata().astype(np.float32)"
   ]
  },
  {
   "cell_type": "code",
   "execution_count": 3,
   "id": "831e9c27-0254-4041-836a-3efb708d6b60",
   "metadata": {},
   "outputs": [
    {
     "data": {
      "text/plain": [
       "(240, 240, 155, 4)"
      ]
     },
     "execution_count": 3,
     "metadata": {},
     "output_type": "execute_result"
    }
   ],
   "source": [
    "mri.shape"
   ]
  },
  {
   "cell_type": "code",
   "execution_count": 4,
   "id": "bb4ab46a-d3bd-484d-ad02-81a186cf761b",
   "metadata": {},
   "outputs": [
    {
     "data": {
      "text/plain": [
       "142848144"
      ]
     },
     "execution_count": 4,
     "metadata": {},
     "output_type": "execute_result"
    }
   ],
   "source": [
    "getsizeof(mri) # 142.848144 MBs"
   ]
  },
  {
   "cell_type": "code",
   "execution_count": 5,
   "id": "0ec2ac8f-df4b-4acc-80f6-5eb5fa3741c4",
   "metadata": {},
   "outputs": [],
   "source": [
    "new_mri = np.zeros((240, 240, 160, 4)).astype(np.float32)"
   ]
  },
  {
   "cell_type": "code",
   "execution_count": 6,
   "id": "895a6908-2678-4704-8f4d-30b2ff5ec0e7",
   "metadata": {},
   "outputs": [
    {
     "data": {
      "text/plain": [
       "(240, 240, 160, 4)"
      ]
     },
     "execution_count": 6,
     "metadata": {},
     "output_type": "execute_result"
    }
   ],
   "source": [
    "new_mri.shape"
   ]
  },
  {
   "cell_type": "code",
   "execution_count": 7,
   "id": "6edf77ec-f984-4174-96ea-6db0faa08fd9",
   "metadata": {},
   "outputs": [],
   "source": [
    "new_mri[:, :, :mri.shape[2], :] = mri[:, :, :, :]"
   ]
  },
  {
   "cell_type": "code",
   "execution_count": 8,
   "id": "de8ca11c-de9d-4d1f-8f11-5ee1ec85ba8d",
   "metadata": {},
   "outputs": [
    {
     "data": {
      "text/plain": [
       "(240, 240, 160, 4)"
      ]
     },
     "execution_count": 8,
     "metadata": {},
     "output_type": "execute_result"
    }
   ],
   "source": [
    "new_mri.shape"
   ]
  },
  {
   "cell_type": "code",
   "execution_count": 9,
   "id": "6994d05f-0aae-4bb9-b838-4132a2febc5b",
   "metadata": {},
   "outputs": [
    {
     "data": {
      "text/plain": [
       "147456144"
      ]
     },
     "execution_count": 9,
     "metadata": {},
     "output_type": "execute_result"
    }
   ],
   "source": [
    "getsizeof(new_mri) # 147.456144 MBs"
   ]
  },
  {
   "cell_type": "markdown",
   "id": "dc30ec9a-11b6-46eb-ad11-de63a0624787",
   "metadata": {},
   "source": [
    "#### Visualizing Original MRI file and new padded MRI file"
   ]
  },
  {
   "cell_type": "code",
   "execution_count": 10,
   "id": "a88e9182-3d47-46fa-8f3c-214527527192",
   "metadata": {},
   "outputs": [
    {
     "data": {
      "application/vnd.jupyter.widget-view+json": {
       "model_id": "b97a1d8f222640fe9779d3db33b0c392",
       "version_major": 2,
       "version_minor": 0
      },
      "text/plain": [
       "interactive(children=(ToggleButtons(button_style='info', description='Select Class:', options=('Background', '…"
      ]
     },
     "metadata": {},
     "output_type": "display_data"
    }
   ],
   "source": [
    "classes_dict = {\n",
    "    'Background': 0,\n",
    "    'Edema': 1,\n",
    "    'Non-enhancing tumor': 2,\n",
    "    'Enhancing tumor': 3 \n",
    "}\n",
    "\n",
    "# Create button values\n",
    "select_class = ToggleButtons(\n",
    "    options=['Background','Edema', 'Non-enhancing tumor', 'Enhancing tumor', 'All'],\n",
    "    description='Select Class:',\n",
    "    disabled=False,\n",
    "    button_style='info', \n",
    "    \n",
    ")\n",
    "# Create layer slider\n",
    "select_layer = IntSlider(min=0, max=new_mri.shape[2] - 1, description='Select Layer', continuous_update=False)\n",
    "\n",
    "    \n",
    "# Define a function for plotting images\n",
    "def plot(seg_class, layer, channel):\n",
    "    print(f\"Plotting Layer: {layer} | Label: {seg_class} | Channel: {channel}\")\n",
    "    fig = plt.figure(figsize=(20, 10))\n",
    "    \n",
    "    fig.add_subplot(1, 2, 1)\n",
    "    if layer > mri.shape[2] - 1:\n",
    "        plt.imshow(mri[:, :, mri.shape[2] - 1, channel], cmap='gray');\n",
    "    else:\n",
    "        plt.imshow(mri[:, :, layer, channel], cmap='gray');\n",
    "    plt.title(\"MRI\", fontsize=20)\n",
    "    plt.axis('off')\n",
    "    \n",
    "    fig.add_subplot(1, 2, 2)\n",
    "    plt.imshow(new_mri[:, :, layer, channel], cmap='gray');\n",
    "    plt.title(\"New MRI\", fontsize=20)\n",
    "    plt.axis('off')\n",
    "\n",
    "# Set channel to view:\n",
    "#  Channel 0: \"FLAIR\" Fluid-attenuated inversion recovery\n",
    "#  Channel 1: \"T1w\" T1-weighted\n",
    "#  Channel 2: \"t1gd\" T1-weighted with gadolinium contrast enhancement\n",
    "#  Channel 3: \"T2w\" T2-weighted    \n",
    "    \n",
    "# Use the interactive() tool to create the visualization\n",
    "interactive(plot, seg_class=select_class, layer=select_layer, channel=(0, 3))"
   ]
  },
  {
   "cell_type": "markdown",
   "id": "6b036e5a-cc89-4d45-983e-3d4e20d9dd9f",
   "metadata": {},
   "source": [
    "### 2- Testing splitting a 320x320x130 MRI file into 96 layer chunks with the last chunk padded with zeros to layer size 96"
   ]
  },
  {
   "cell_type": "code",
   "execution_count": 11,
   "id": "ade00519-ffda-41d5-a43a-422fd2fe3af0",
   "metadata": {},
   "outputs": [],
   "source": [
    "mri = nib.load(\"../../datasets/Task02_Heart/train/images/la_003.nii.gz\").get_fdata().astype(np.float32)"
   ]
  },
  {
   "cell_type": "code",
   "execution_count": 12,
   "id": "2db59f10-641a-4684-b139-9a8f793212d8",
   "metadata": {},
   "outputs": [
    {
     "data": {
      "text/plain": [
       "(320, 320, 130)"
      ]
     },
     "execution_count": 12,
     "metadata": {},
     "output_type": "execute_result"
    }
   ],
   "source": [
    "mri.shape"
   ]
  },
  {
   "cell_type": "code",
   "execution_count": 13,
   "id": "a37fef48-d7ec-4ba4-89c0-4878091bad50",
   "metadata": {},
   "outputs": [
    {
     "data": {
      "text/plain": [
       "1.3541666666666667"
      ]
     },
     "execution_count": 13,
     "metadata": {},
     "output_type": "execute_result"
    }
   ],
   "source": [
    "mri.shape[2] / 96"
   ]
  },
  {
   "cell_type": "code",
   "execution_count": 14,
   "id": "cddf9412-bf8a-44b7-b10b-cc7bac58ba3d",
   "metadata": {},
   "outputs": [
    {
     "data": {
      "text/plain": [
       "34"
      ]
     },
     "execution_count": 14,
     "metadata": {},
     "output_type": "execute_result"
    }
   ],
   "source": [
    "mri.shape[2] % 96 # Modulus does not equal zero => leftover chunk to be padded with zeros"
   ]
  },
  {
   "cell_type": "code",
   "execution_count": 15,
   "id": "c4afc8ed-dbe8-4221-a4af-792b5e203624",
   "metadata": {},
   "outputs": [],
   "source": [
    "num_chunks = int(np.ceil(mri.shape[2] / 96)) # Two chunks"
   ]
  },
  {
   "cell_type": "code",
   "execution_count": 16,
   "id": "b2660214-7d09-415e-8d79-48f57ec11314",
   "metadata": {},
   "outputs": [
    {
     "data": {
      "text/plain": [
       "2"
      ]
     },
     "execution_count": 16,
     "metadata": {},
     "output_type": "execute_result"
    }
   ],
   "source": [
    "num_chunks"
   ]
  },
  {
   "cell_type": "code",
   "execution_count": 17,
   "id": "f0021055-a68b-4a12-8dc5-1a68c371a6a6",
   "metadata": {},
   "outputs": [],
   "source": [
    "layer_size = 96\n",
    "\n",
    "chunks = np.zeros((num_chunks, mri.shape[0], mri.shape[1], layer_size))\n",
    "\n",
    "for i in range(num_chunks):\n",
    "    if i == num_chunks - 1: # last iteration (if we wish to pad the last chunk with zeros and use it)\n",
    "        chunks[i, :, :, :mri.shape[2] % layer_size] = mri[:, :, i*layer_size: i*layer_size + (mri.shape[2] % layer_size)]\n",
    "    else:\n",
    "        chunks[i, :, :, :] = mri[:, :, i*layer_size: (i+1)*layer_size]    \n",
    "    \n",
    "    nib.save(nib.Nifti1Image(chunks[i, :, :, :], np.eye(4)), f\"la_003_{i}.nii.gz\") # Numpy array has to be set as Nifti Image object before saving"
   ]
  },
  {
   "cell_type": "code",
   "execution_count": 18,
   "id": "9de6041e-3108-42dd-bc78-b49e0e3876b1",
   "metadata": {},
   "outputs": [
    {
     "data": {
      "text/plain": [
       "(2, 320, 320, 96)"
      ]
     },
     "execution_count": 18,
     "metadata": {},
     "output_type": "execute_result"
    }
   ],
   "source": [
    "chunks.shape"
   ]
  },
  {
   "cell_type": "code",
   "execution_count": 19,
   "id": "848680a7-db4a-4d14-9d71-8dbfad8dcb54",
   "metadata": {},
   "outputs": [
    {
     "data": {
      "application/vnd.jupyter.widget-view+json": {
       "model_id": "99b7b8320189454184e7a228008312b0",
       "version_major": 2,
       "version_minor": 0
      },
      "text/plain": [
       "interactive(children=(IntSlider(value=0, continuous_update=False, description='Select Layer', max=129), Output…"
      ]
     },
     "metadata": {},
     "output_type": "display_data"
    }
   ],
   "source": [
    "# Create layer slider\n",
    "select_layer = IntSlider(min=0, max=mri.shape[2] - 1, description='Select Layer', continuous_update=False)\n",
    "\n",
    "    \n",
    "# Define a function for plotting images\n",
    "def plot(layer):\n",
    "    print(f\"Plotting Layer: {layer}\")\n",
    "    fig = plt.figure(figsize=(20, 10))\n",
    "    plt.imshow(mri[:, :, layer], cmap='gray');\n",
    "    plt.title(\"MRI\", fontsize=20)\n",
    "    plt.axis('off')\n",
    "    \n",
    "# Use the interactive() tool to create the visualization\n",
    "interactive(plot, layer=select_layer)"
   ]
  },
  {
   "cell_type": "code",
   "execution_count": 20,
   "id": "9283b3e8-38c3-438a-a4a7-46a4593842ae",
   "metadata": {},
   "outputs": [
    {
     "data": {
      "application/vnd.jupyter.widget-view+json": {
       "model_id": "8d27be871d0d4ceabcc1324843ce4614",
       "version_major": 2,
       "version_minor": 0
      },
      "text/plain": [
       "interactive(children=(IntSlider(value=0, continuous_update=False, description='Select Layer', max=95), Output(…"
      ]
     },
     "metadata": {},
     "output_type": "display_data"
    }
   ],
   "source": [
    "# Create layer slider\n",
    "select_layer = IntSlider(min=0, max=chunks[0, :, :, :].shape[2] - 1, description='Select Layer', continuous_update=False)\n",
    "\n",
    "    \n",
    "# Define a function for plotting images\n",
    "def plot(layer):\n",
    "    print(f\"Plotting Layer: {layer}\")\n",
    "    fig = plt.figure(figsize=(20, 10))\n",
    "    \n",
    "    plt.imshow(chunks[0, :, :, layer], cmap='gray');\n",
    "    plt.title(\"Chunk 1 MRI\", fontsize=20)\n",
    "    plt.axis('off')\n",
    "    \n",
    "# Use the interactive() tool to create the visualization\n",
    "interactive(plot, layer=select_layer)"
   ]
  },
  {
   "cell_type": "code",
   "execution_count": 21,
   "id": "5ba21dc3-091e-4bb4-a26a-045161b3b354",
   "metadata": {},
   "outputs": [
    {
     "data": {
      "application/vnd.jupyter.widget-view+json": {
       "model_id": "dbe034b9a768444bad62ad270b0412fc",
       "version_major": 2,
       "version_minor": 0
      },
      "text/plain": [
       "interactive(children=(IntSlider(value=0, continuous_update=False, description='Select Layer', max=95), Output(…"
      ]
     },
     "metadata": {},
     "output_type": "display_data"
    }
   ],
   "source": [
    "# Create layer slider\n",
    "select_layer = IntSlider(min=0, max=chunks[1, :, :, :].shape[2] - 1, description='Select Layer', continuous_update=False)\n",
    "\n",
    "    \n",
    "# Define a function for plotting images\n",
    "def plot(layer):\n",
    "    print(f\"Plotting Layer: {layer}\")\n",
    "    fig = plt.figure(figsize=(20, 10))\n",
    "    \n",
    "    plt.imshow(chunks[1, :, :, layer], cmap='gray');\n",
    "    plt.title(\"Chunk 1 MRI\", fontsize=20)\n",
    "    plt.axis('off')\n",
    "    \n",
    "# Use the interactive() tool to create the visualization\n",
    "interactive(plot, layer=select_layer)"
   ]
  },
  {
   "cell_type": "markdown",
   "id": "7cc33a41-02e7-472a-bbf5-48b434799814",
   "metadata": {},
   "source": [
    "#### Testing if shapes of saved files are correct"
   ]
  },
  {
   "cell_type": "code",
   "execution_count": 22,
   "id": "ddbeff9e-7e7f-4722-b35c-36d79071eede",
   "metadata": {},
   "outputs": [],
   "source": [
    "mri_1 = nib.load(\"la_003_0.nii.gz\").get_fdata()"
   ]
  },
  {
   "cell_type": "code",
   "execution_count": 23,
   "id": "cfa4728b-7e98-4d1b-8b43-d4abd5e21959",
   "metadata": {},
   "outputs": [
    {
     "data": {
      "text/plain": [
       "(320, 320, 96)"
      ]
     },
     "execution_count": 23,
     "metadata": {},
     "output_type": "execute_result"
    }
   ],
   "source": [
    "mri_1.shape"
   ]
  },
  {
   "cell_type": "code",
   "execution_count": 24,
   "id": "348abb59-59f9-4ef1-994f-48e960a6171e",
   "metadata": {},
   "outputs": [],
   "source": [
    "mri_2 = nib.load(\"la_003_1.nii.gz\").get_fdata()"
   ]
  },
  {
   "cell_type": "code",
   "execution_count": 25,
   "id": "74a6b032-f487-428e-94a0-74bcbb90cda2",
   "metadata": {},
   "outputs": [
    {
     "data": {
      "text/plain": [
       "(320, 320, 96)"
      ]
     },
     "execution_count": 25,
     "metadata": {},
     "output_type": "execute_result"
    }
   ],
   "source": [
    "mri_2.shape"
   ]
  },
  {
   "cell_type": "code",
   "execution_count": null,
   "id": "c66e325e-1e23-4887-8bd6-f058b27e6a8d",
   "metadata": {},
   "outputs": [],
   "source": []
  }
 ],
 "metadata": {
  "kernelspec": {
   "display_name": "Python 3",
   "language": "python",
   "name": "python3"
  },
  "language_info": {
   "codemirror_mode": {
    "name": "ipython",
    "version": 3
   },
   "file_extension": ".py",
   "mimetype": "text/x-python",
   "name": "python",
   "nbconvert_exporter": "python",
   "pygments_lexer": "ipython3",
   "version": "3.7.10"
  }
 },
 "nbformat": 4,
 "nbformat_minor": 5
}
