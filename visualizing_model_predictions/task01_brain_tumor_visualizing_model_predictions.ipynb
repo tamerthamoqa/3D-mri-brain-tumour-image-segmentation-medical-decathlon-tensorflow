{
 "cells": [
  {
   "cell_type": "code",
   "execution_count": 1,
   "id": "premier-enzyme",
   "metadata": {},
   "outputs": [],
   "source": [
    "import numpy as np\n",
    "import nibabel as nib\n",
    "import matplotlib.pyplot as plt\n",
    "from ipywidgets import interact, interactive, IntSlider, ToggleButtons\n",
    "from tensorflow.keras.models import load_model\n",
    "\n",
    "# Custom objects required for loading the U-Net segmentation models\n",
    "import sys \n",
    "sys.path.append('..')\n",
    "from segmentation_losses import (\n",
    "    dice_coefficient,\n",
    "    dice_loss,\n",
    "    log_cosh_dice_loss,\n",
    "    iou\n",
    ")"
   ]
  },
  {
   "cell_type": "code",
   "execution_count": 2,
   "id": "valuable-suspect",
   "metadata": {},
   "outputs": [],
   "source": [
    "model = load_model(\n",
    "    \"../trained_models/task01_braintumour_unet_3d_segmentation_model.h5\",\n",
    "    custom_objects={\n",
    "        \"log_cosh_dice_loss\": log_cosh_dice_loss,\n",
    "        \"dice_coefficient\": dice_coefficient,\n",
    "        \"iou\": iou\n",
    "    }\n",
    ")"
   ]
  },
  {
   "cell_type": "code",
   "execution_count": 3,
   "id": "quiet-richards",
   "metadata": {},
   "outputs": [],
   "source": [
    "def standardize(mri):\n",
    "    \"\"\"\n",
    "    Standardize mean and standard deviation of each channel and z_dimension slice to mean 0 and standard \n",
    "     deviation 1.\n",
    "\n",
    "    Note: setting the type of the input mri to np.float16 beforehand causes issues, set it afterwards.\n",
    "\n",
    "    Args:\n",
    "        mri (np.array): input mri, shape (dim_x, dim_y, dim_z, num_channels)\n",
    "    Returns:\n",
    "        standardized_mri (np.array): standardized version of input mri\n",
    "    \"\"\"\n",
    "\n",
    "    standardized_mri = np.zeros(mri.shape)\n",
    "\n",
    "    # Iterate over channels\n",
    "    for c in range(mri.shape[3]):\n",
    "        # Iterate over the `z` depth dimension\n",
    "        for z in range(mri.shape[2]):\n",
    "            # Get a slice of the mri at channel c and z-th dimension\n",
    "            mri_slice = mri[:, :, z, c]\n",
    "\n",
    "            # Subtract the mean from mri_slice\n",
    "            centered = mri_slice - np.mean(mri_slice)\n",
    "\n",
    "            # Divide by the standard deviation (only if it is different from zero)\n",
    "            if np.std(centered) != 0:\n",
    "                centered_scaled = centered / np.std(centered)\n",
    "\n",
    "                # Update the slice of standardized mri with the centered and scaled mri\n",
    "                standardized_mri[:, :, z, c] = centered_scaled\n",
    "\n",
    "    return standardized_mri"
   ]
  },
  {
   "cell_type": "markdown",
   "id": "returning-robertson",
   "metadata": {},
   "source": [
    "### 1. Visualizing predictions on validation set images"
   ]
  },
  {
   "cell_type": "markdown",
   "id": "7087994f-8541-4cb0-a9c2-2b404a3eeb34",
   "metadata": {},
   "source": [
    "### 1.1. Visualizing prediction on BRATS_389 file"
   ]
  },
  {
   "cell_type": "code",
   "execution_count": 4,
   "id": "interior-dallas",
   "metadata": {},
   "outputs": [],
   "source": [
    "mri = nib.load(\"../datasets/Task01_BrainTumour_240x240x160x4/val/images/BRATS_389.nii.gz\").get_fdata().astype(np.float32)"
   ]
  },
  {
   "cell_type": "code",
   "execution_count": 5,
   "id": "diverse-dayton",
   "metadata": {},
   "outputs": [],
   "source": [
    "mask = nib.load(\"../datasets/Task01_BrainTumour_240x240x160x4/val/masks/BRATS_389.nii.gz\").get_fdata().astype(np.uint8)"
   ]
  },
  {
   "cell_type": "code",
   "execution_count": 6,
   "id": "treated-demand",
   "metadata": {},
   "outputs": [
    {
     "data": {
      "text/plain": [
       "(240, 240, 160)"
      ]
     },
     "execution_count": 6,
     "metadata": {},
     "output_type": "execute_result"
    }
   ],
   "source": [
    "mask.shape"
   ]
  },
  {
   "cell_type": "code",
   "execution_count": 7,
   "id": "about-hollow",
   "metadata": {},
   "outputs": [],
   "source": [
    "mri_standardized = standardize(mri)"
   ]
  },
  {
   "cell_type": "code",
   "execution_count": 8,
   "id": "ceramic-static",
   "metadata": {},
   "outputs": [],
   "source": [
    "mri_standardized = np.expand_dims(mri_standardized, axis=0)  # Keras models require an additional dimension of 'batch_size'"
   ]
  },
  {
   "cell_type": "code",
   "execution_count": 9,
   "id": "conscious-renaissance",
   "metadata": {},
   "outputs": [],
   "source": [
    "prediction = model.predict(mri_standardized)"
   ]
  },
  {
   "cell_type": "code",
   "execution_count": 10,
   "id": "attempted-letters",
   "metadata": {},
   "outputs": [],
   "source": [
    "prediction = np.squeeze(prediction, axis=0)  # Remove 'batch_size' dimension"
   ]
  },
  {
   "cell_type": "code",
   "execution_count": 11,
   "id": "bearing-tribute",
   "metadata": {},
   "outputs": [
    {
     "data": {
      "text/plain": [
       "(240, 240, 160, 4)"
      ]
     },
     "execution_count": 11,
     "metadata": {},
     "output_type": "execute_result"
    }
   ],
   "source": [
    "prediction.shape"
   ]
  },
  {
   "cell_type": "code",
   "execution_count": 12,
   "id": "automatic-prescription",
   "metadata": {},
   "outputs": [
    {
     "data": {
      "text/plain": [
       "array([[[[9.9723488e-01, 1.0849655e-03, 1.2136004e-03, 4.6653324e-04],\n",
       "         [9.9723488e-01, 1.0849655e-03, 1.2136004e-03, 4.6653324e-04],\n",
       "         [9.9723488e-01, 1.0849655e-03, 1.2136004e-03, 4.6653324e-04],\n",
       "         ...,\n",
       "         [9.9723488e-01, 1.0849655e-03, 1.2136004e-03, 4.6653324e-04],\n",
       "         [9.9723488e-01, 1.0849655e-03, 1.2136004e-03, 4.6653324e-04],\n",
       "         [9.9723488e-01, 1.0849655e-03, 1.2136004e-03, 4.6653324e-04]],\n",
       "\n",
       "        [[9.9723488e-01, 1.0849655e-03, 1.2136004e-03, 4.6653324e-04],\n",
       "         [9.9723488e-01, 1.0849655e-03, 1.2136004e-03, 4.6653324e-04],\n",
       "         [9.9723488e-01, 1.0849655e-03, 1.2136004e-03, 4.6653324e-04],\n",
       "         ...,\n",
       "         [9.9723488e-01, 1.0849655e-03, 1.2136004e-03, 4.6653324e-04],\n",
       "         [9.9723488e-01, 1.0849655e-03, 1.2136004e-03, 4.6653324e-04],\n",
       "         [9.9723488e-01, 1.0849655e-03, 1.2136004e-03, 4.6653324e-04]],\n",
       "\n",
       "        [[9.9723488e-01, 1.0849655e-03, 1.2136004e-03, 4.6653324e-04],\n",
       "         [9.9723488e-01, 1.0849655e-03, 1.2136004e-03, 4.6653324e-04],\n",
       "         [9.9723488e-01, 1.0849655e-03, 1.2136004e-03, 4.6653324e-04],\n",
       "         ...,\n",
       "         [9.9723488e-01, 1.0849655e-03, 1.2136004e-03, 4.6653324e-04],\n",
       "         [9.9723488e-01, 1.0849655e-03, 1.2136004e-03, 4.6653324e-04],\n",
       "         [9.9723488e-01, 1.0849655e-03, 1.2136004e-03, 4.6653324e-04]],\n",
       "\n",
       "        ...,\n",
       "\n",
       "        [[9.9723488e-01, 1.0849655e-03, 1.2136004e-03, 4.6653324e-04],\n",
       "         [9.9723488e-01, 1.0849655e-03, 1.2136004e-03, 4.6653324e-04],\n",
       "         [9.9723488e-01, 1.0849655e-03, 1.2136004e-03, 4.6653324e-04],\n",
       "         ...,\n",
       "         [9.9723488e-01, 1.0849655e-03, 1.2136004e-03, 4.6653324e-04],\n",
       "         [9.9723488e-01, 1.0849655e-03, 1.2136004e-03, 4.6653324e-04],\n",
       "         [9.9723488e-01, 1.0849655e-03, 1.2136004e-03, 4.6653324e-04]],\n",
       "\n",
       "        [[9.9723488e-01, 1.0849655e-03, 1.2136004e-03, 4.6653324e-04],\n",
       "         [9.9723488e-01, 1.0849655e-03, 1.2136004e-03, 4.6653324e-04],\n",
       "         [9.9723488e-01, 1.0849655e-03, 1.2136004e-03, 4.6653324e-04],\n",
       "         ...,\n",
       "         [9.9723488e-01, 1.0849655e-03, 1.2136004e-03, 4.6653324e-04],\n",
       "         [9.9723488e-01, 1.0849655e-03, 1.2136004e-03, 4.6653324e-04],\n",
       "         [9.9723488e-01, 1.0849655e-03, 1.2136004e-03, 4.6653324e-04]],\n",
       "\n",
       "        [[9.9723488e-01, 1.0849655e-03, 1.2136004e-03, 4.6653324e-04],\n",
       "         [9.9723488e-01, 1.0849655e-03, 1.2136004e-03, 4.6653324e-04],\n",
       "         [9.9723488e-01, 1.0849655e-03, 1.2136004e-03, 4.6653324e-04],\n",
       "         ...,\n",
       "         [9.9723488e-01, 1.0849655e-03, 1.2136004e-03, 4.6653324e-04],\n",
       "         [9.9723488e-01, 1.0849655e-03, 1.2136004e-03, 4.6653324e-04],\n",
       "         [9.9723488e-01, 1.0849655e-03, 1.2136004e-03, 4.6653324e-04]]],\n",
       "\n",
       "\n",
       "       [[[9.9704283e-01, 1.1959202e-03, 1.2611852e-03, 5.0000672e-04],\n",
       "         [9.9723488e-01, 1.0849655e-03, 1.2136004e-03, 4.6653324e-04],\n",
       "         [9.9723488e-01, 1.0849655e-03, 1.2136004e-03, 4.6653324e-04],\n",
       "         ...,\n",
       "         [9.9723488e-01, 1.0849655e-03, 1.2136004e-03, 4.6653324e-04],\n",
       "         [9.9723488e-01, 1.0849655e-03, 1.2136004e-03, 4.6653324e-04],\n",
       "         [9.9723488e-01, 1.0849655e-03, 1.2136004e-03, 4.6653324e-04]],\n",
       "\n",
       "        [[9.9723488e-01, 1.0849655e-03, 1.2136004e-03, 4.6653324e-04],\n",
       "         [9.9723488e-01, 1.0849655e-03, 1.2136004e-03, 4.6653324e-04],\n",
       "         [9.9723488e-01, 1.0849655e-03, 1.2136004e-03, 4.6653324e-04],\n",
       "         ...,\n",
       "         [9.9723488e-01, 1.0849655e-03, 1.2136004e-03, 4.6653324e-04],\n",
       "         [9.9723488e-01, 1.0849655e-03, 1.2136004e-03, 4.6653324e-04],\n",
       "         [9.9723488e-01, 1.0849655e-03, 1.2136004e-03, 4.6653324e-04]],\n",
       "\n",
       "        [[9.9723488e-01, 1.0849655e-03, 1.2136004e-03, 4.6653324e-04],\n",
       "         [9.9723488e-01, 1.0849655e-03, 1.2136004e-03, 4.6653324e-04],\n",
       "         [9.9723488e-01, 1.0849655e-03, 1.2136004e-03, 4.6653324e-04],\n",
       "         ...,\n",
       "         [9.9723488e-01, 1.0849655e-03, 1.2136004e-03, 4.6653324e-04],\n",
       "         [9.9723488e-01, 1.0849655e-03, 1.2136004e-03, 4.6653324e-04],\n",
       "         [9.9723488e-01, 1.0849655e-03, 1.2136004e-03, 4.6653324e-04]],\n",
       "\n",
       "        ...,\n",
       "\n",
       "        [[9.9723488e-01, 1.0849655e-03, 1.2136004e-03, 4.6653324e-04],\n",
       "         [9.9723488e-01, 1.0849655e-03, 1.2136004e-03, 4.6653324e-04],\n",
       "         [9.9723488e-01, 1.0849655e-03, 1.2136004e-03, 4.6653324e-04],\n",
       "         ...,\n",
       "         [9.9723488e-01, 1.0849655e-03, 1.2136004e-03, 4.6653324e-04],\n",
       "         [9.9723488e-01, 1.0849655e-03, 1.2136004e-03, 4.6653324e-04],\n",
       "         [9.9723488e-01, 1.0849655e-03, 1.2136004e-03, 4.6653324e-04]],\n",
       "\n",
       "        [[9.9723488e-01, 1.0849655e-03, 1.2136004e-03, 4.6653324e-04],\n",
       "         [9.9723488e-01, 1.0849655e-03, 1.2136004e-03, 4.6653324e-04],\n",
       "         [9.9723488e-01, 1.0849655e-03, 1.2136004e-03, 4.6653324e-04],\n",
       "         ...,\n",
       "         [9.9723488e-01, 1.0849655e-03, 1.2136004e-03, 4.6653324e-04],\n",
       "         [9.9723488e-01, 1.0849655e-03, 1.2136004e-03, 4.6653324e-04],\n",
       "         [9.9723488e-01, 1.0849655e-03, 1.2136004e-03, 4.6653324e-04]],\n",
       "\n",
       "        [[9.9723488e-01, 1.0849655e-03, 1.2136004e-03, 4.6653324e-04],\n",
       "         [9.9723488e-01, 1.0849655e-03, 1.2136004e-03, 4.6653324e-04],\n",
       "         [9.9723488e-01, 1.0849655e-03, 1.2136004e-03, 4.6653324e-04],\n",
       "         ...,\n",
       "         [9.9723488e-01, 1.0849655e-03, 1.2136004e-03, 4.6653324e-04],\n",
       "         [9.9723488e-01, 1.0849655e-03, 1.2136004e-03, 4.6653324e-04],\n",
       "         [9.9723488e-01, 1.0849655e-03, 1.2136004e-03, 4.6653324e-04]]],\n",
       "\n",
       "\n",
       "       [[[9.9667668e-01, 1.4131607e-03, 1.3471080e-03, 5.6306506e-04],\n",
       "         [9.9708909e-01, 1.1690600e-03, 1.2499208e-03, 4.9198902e-04],\n",
       "         [9.9721044e-01, 1.0989847e-03, 1.2197713e-03, 4.7081549e-04],\n",
       "         ...,\n",
       "         [9.9723488e-01, 1.0849655e-03, 1.2136004e-03, 4.6653324e-04],\n",
       "         [9.9723488e-01, 1.0849655e-03, 1.2136004e-03, 4.6653324e-04],\n",
       "         [9.9723488e-01, 1.0849655e-03, 1.2136004e-03, 4.6653324e-04]],\n",
       "\n",
       "        [[9.9707150e-01, 1.1792167e-03, 1.2541986e-03, 4.9502676e-04],\n",
       "         [9.9723488e-01, 1.0849655e-03, 1.2136004e-03, 4.6653324e-04],\n",
       "         [9.9720889e-01, 1.0998239e-03, 1.2201394e-03, 4.7107143e-04],\n",
       "         ...,\n",
       "         [9.9723488e-01, 1.0849655e-03, 1.2136004e-03, 4.6653324e-04],\n",
       "         [9.9723488e-01, 1.0849655e-03, 1.2136004e-03, 4.6653324e-04],\n",
       "         [9.9723488e-01, 1.0849655e-03, 1.2136004e-03, 4.6653324e-04]],\n",
       "\n",
       "        [[9.9719393e-01, 1.1084423e-03, 1.2239076e-03, 4.7369549e-04],\n",
       "         [9.9717379e-01, 1.1200667e-03, 1.2289619e-03, 4.7722537e-04],\n",
       "         [9.9674809e-01, 1.3702756e-03, 1.3308179e-03, 5.5085222e-04],\n",
       "         ...,\n",
       "         [9.9723488e-01, 1.0849655e-03, 1.2136004e-03, 4.6653324e-04],\n",
       "         [9.9723488e-01, 1.0849655e-03, 1.2136004e-03, 4.6653324e-04],\n",
       "         [9.9723488e-01, 1.0849655e-03, 1.2136004e-03, 4.6653324e-04]],\n",
       "\n",
       "        ...,\n",
       "\n",
       "        [[9.9716288e-01, 1.1263046e-03, 1.2316605e-03, 4.7911535e-04],\n",
       "         [9.9723488e-01, 1.0849655e-03, 1.2136004e-03, 4.6653324e-04],\n",
       "         [9.9688089e-01, 1.2911605e-03, 1.2999327e-03, 5.2802777e-04],\n",
       "         ...,\n",
       "         [9.9723488e-01, 1.0849655e-03, 1.2136004e-03, 4.6653324e-04],\n",
       "         [9.9723488e-01, 1.0849655e-03, 1.2136004e-03, 4.6653324e-04],\n",
       "         [9.9723488e-01, 1.0849655e-03, 1.2136004e-03, 4.6653324e-04]],\n",
       "\n",
       "        [[9.9723488e-01, 1.0849655e-03, 1.2136004e-03, 4.6653324e-04],\n",
       "         [9.9723488e-01, 1.0849655e-03, 1.2136004e-03, 4.6653324e-04],\n",
       "         [9.9723488e-01, 1.0849655e-03, 1.2136004e-03, 4.6653324e-04],\n",
       "         ...,\n",
       "         [9.9723488e-01, 1.0849655e-03, 1.2136004e-03, 4.6653324e-04],\n",
       "         [9.9723488e-01, 1.0849655e-03, 1.2136004e-03, 4.6653324e-04],\n",
       "         [9.9723488e-01, 1.0849655e-03, 1.2136004e-03, 4.6653324e-04]],\n",
       "\n",
       "        [[9.9723488e-01, 1.0849655e-03, 1.2136004e-03, 4.6653324e-04],\n",
       "         [9.9723488e-01, 1.0849655e-03, 1.2136004e-03, 4.6653324e-04],\n",
       "         [9.9723488e-01, 1.0849655e-03, 1.2136004e-03, 4.6653324e-04],\n",
       "         ...,\n",
       "         [9.9723488e-01, 1.0849655e-03, 1.2136004e-03, 4.6653324e-04],\n",
       "         [9.9723488e-01, 1.0849655e-03, 1.2136004e-03, 4.6653324e-04],\n",
       "         [9.9723488e-01, 1.0849655e-03, 1.2136004e-03, 4.6653324e-04]]],\n",
       "\n",
       "\n",
       "       ...,\n",
       "\n",
       "\n",
       "       [[[9.9651450e-01, 1.5115098e-03, 1.3833635e-03, 5.9067510e-04],\n",
       "         [9.9697804e-01, 1.2338408e-03, 1.2768299e-03, 5.1123829e-04],\n",
       "         [9.9711859e-01, 1.1519743e-03, 1.2426730e-03, 4.8686104e-04],\n",
       "         ...,\n",
       "         [9.9723488e-01, 1.0849655e-03, 1.2136004e-03, 4.6653324e-04],\n",
       "         [9.9723488e-01, 1.0849655e-03, 1.2136004e-03, 4.6653324e-04],\n",
       "         [9.9723488e-01, 1.0849655e-03, 1.2136004e-03, 4.6653324e-04]],\n",
       "\n",
       "        [[9.9719101e-01, 1.1101465e-03, 1.2246501e-03, 4.7421345e-04],\n",
       "         [9.9723488e-01, 1.0849655e-03, 1.2136004e-03, 4.6653324e-04],\n",
       "         [9.9723488e-01, 1.0849655e-03, 1.2136004e-03, 4.6653324e-04],\n",
       "         ...,\n",
       "         [9.9723488e-01, 1.0849655e-03, 1.2136004e-03, 4.6653324e-04],\n",
       "         [9.9723488e-01, 1.0849655e-03, 1.2136004e-03, 4.6653324e-04],\n",
       "         [9.9723488e-01, 1.0849655e-03, 1.2136004e-03, 4.6653324e-04]],\n",
       "\n",
       "        [[9.9723488e-01, 1.0849655e-03, 1.2136004e-03, 4.6653324e-04],\n",
       "         [9.9717653e-01, 1.1185077e-03, 1.2282857e-03, 4.7675270e-04],\n",
       "         [9.9681771e-01, 1.3286922e-03, 1.3147237e-03, 5.3890486e-04],\n",
       "         ...,\n",
       "         [9.9723488e-01, 1.0849655e-03, 1.2136004e-03, 4.6653324e-04],\n",
       "         [9.9723488e-01, 1.0849655e-03, 1.2136004e-03, 4.6653324e-04],\n",
       "         [9.9723488e-01, 1.0849655e-03, 1.2136004e-03, 4.6653324e-04]],\n",
       "\n",
       "        ...,\n",
       "\n",
       "        [[9.9723488e-01, 1.0849655e-03, 1.2136004e-03, 4.6653324e-04],\n",
       "         [9.9721450e-01, 1.0966467e-03, 1.2187455e-03, 4.7010247e-04],\n",
       "         [9.9716115e-01, 1.1273735e-03, 1.2321217e-03, 4.7943881e-04],\n",
       "         ...,\n",
       "         [9.9723488e-01, 1.0849655e-03, 1.2136004e-03, 4.6653324e-04],\n",
       "         [9.9723488e-01, 1.0849655e-03, 1.2136004e-03, 4.6653324e-04],\n",
       "         [9.9723488e-01, 1.0849655e-03, 1.2136004e-03, 4.6653324e-04]],\n",
       "\n",
       "        [[9.9723488e-01, 1.0849655e-03, 1.2136004e-03, 4.6653324e-04],\n",
       "         [9.9723488e-01, 1.0849655e-03, 1.2136004e-03, 4.6653324e-04],\n",
       "         [9.9723488e-01, 1.0849655e-03, 1.2136004e-03, 4.6653324e-04],\n",
       "         ...,\n",
       "         [9.9723488e-01, 1.0849655e-03, 1.2136004e-03, 4.6653324e-04],\n",
       "         [9.9723488e-01, 1.0849655e-03, 1.2136004e-03, 4.6653324e-04],\n",
       "         [9.9723488e-01, 1.0849655e-03, 1.2136004e-03, 4.6653324e-04]],\n",
       "\n",
       "        [[9.9723488e-01, 1.0849655e-03, 1.2136004e-03, 4.6653324e-04],\n",
       "         [9.9723488e-01, 1.0849655e-03, 1.2136004e-03, 4.6653324e-04],\n",
       "         [9.9723488e-01, 1.0849655e-03, 1.2136004e-03, 4.6653324e-04],\n",
       "         ...,\n",
       "         [9.9723488e-01, 1.0849655e-03, 1.2136004e-03, 4.6653324e-04],\n",
       "         [9.9723488e-01, 1.0849655e-03, 1.2136004e-03, 4.6653324e-04],\n",
       "         [9.9723488e-01, 1.0849655e-03, 1.2136004e-03, 4.6653324e-04]]],\n",
       "\n",
       "\n",
       "       [[[9.9681157e-01, 1.3322685e-03, 1.3161192e-03, 5.3993624e-04],\n",
       "         [9.9705338e-01, 1.1897830e-03, 1.2586254e-03, 4.9817946e-04],\n",
       "         [9.9717820e-01, 1.1174993e-03, 1.2278479e-03, 4.7644667e-04],\n",
       "         ...,\n",
       "         [9.9723488e-01, 1.0849655e-03, 1.2136004e-03, 4.6653324e-04],\n",
       "         [9.9723488e-01, 1.0849655e-03, 1.2136004e-03, 4.6653324e-04],\n",
       "         [9.9723488e-01, 1.0849655e-03, 1.2136004e-03, 4.6653324e-04]],\n",
       "\n",
       "        [[9.9717075e-01, 1.1217758e-03, 1.2297019e-03, 4.7774345e-04],\n",
       "         [9.9723488e-01, 1.0849655e-03, 1.2136004e-03, 4.6653324e-04],\n",
       "         [9.9723488e-01, 1.0849655e-03, 1.2136004e-03, 4.6653324e-04],\n",
       "         ...,\n",
       "         [9.9723488e-01, 1.0849655e-03, 1.2136004e-03, 4.6653324e-04],\n",
       "         [9.9723488e-01, 1.0849655e-03, 1.2136004e-03, 4.6653324e-04],\n",
       "         [9.9723488e-01, 1.0849655e-03, 1.2136004e-03, 4.6653324e-04]],\n",
       "\n",
       "        [[9.9723488e-01, 1.0849655e-03, 1.2136004e-03, 4.6653324e-04],\n",
       "         [9.9670488e-01, 1.3961891e-03, 1.3406975e-03, 5.5824476e-04],\n",
       "         [9.9648178e-01, 1.5313930e-03, 1.3905168e-03, 5.9619313e-04],\n",
       "         ...,\n",
       "         [9.9723488e-01, 1.0849655e-03, 1.2136004e-03, 4.6653324e-04],\n",
       "         [9.9723488e-01, 1.0849655e-03, 1.2136004e-03, 4.6653324e-04],\n",
       "         [9.9723488e-01, 1.0849655e-03, 1.2136004e-03, 4.6653324e-04]],\n",
       "\n",
       "        ...,\n",
       "\n",
       "        [[9.9723488e-01, 1.0849655e-03, 1.2136004e-03, 4.6653324e-04],\n",
       "         [9.9687827e-01, 1.2926788e-03, 1.3005356e-03, 5.2846974e-04],\n",
       "         [9.9701500e-01, 1.2121889e-03, 1.2679334e-03, 5.0483772e-04],\n",
       "         ...,\n",
       "         [9.9723488e-01, 1.0849655e-03, 1.2136004e-03, 4.6653324e-04],\n",
       "         [9.9723488e-01, 1.0849655e-03, 1.2136004e-03, 4.6653324e-04],\n",
       "         [9.9723488e-01, 1.0849655e-03, 1.2136004e-03, 4.6653324e-04]],\n",
       "\n",
       "        [[9.9723488e-01, 1.0849655e-03, 1.2136004e-03, 4.6653324e-04],\n",
       "         [9.9723488e-01, 1.0849655e-03, 1.2136004e-03, 4.6653324e-04],\n",
       "         [9.9723488e-01, 1.0849655e-03, 1.2136004e-03, 4.6653324e-04],\n",
       "         ...,\n",
       "         [9.9723488e-01, 1.0849655e-03, 1.2136004e-03, 4.6653324e-04],\n",
       "         [9.9723488e-01, 1.0849655e-03, 1.2136004e-03, 4.6653324e-04],\n",
       "         [9.9723488e-01, 1.0849655e-03, 1.2136004e-03, 4.6653324e-04]],\n",
       "\n",
       "        [[9.9723488e-01, 1.0849655e-03, 1.2136004e-03, 4.6653324e-04],\n",
       "         [9.9723488e-01, 1.0849655e-03, 1.2136004e-03, 4.6653324e-04],\n",
       "         [9.9723488e-01, 1.0849655e-03, 1.2136004e-03, 4.6653324e-04],\n",
       "         ...,\n",
       "         [9.9723488e-01, 1.0849655e-03, 1.2136004e-03, 4.6653324e-04],\n",
       "         [9.9723488e-01, 1.0849655e-03, 1.2136004e-03, 4.6653324e-04],\n",
       "         [9.9723488e-01, 1.0849655e-03, 1.2136004e-03, 4.6653324e-04]]],\n",
       "\n",
       "\n",
       "       [[[9.9702221e-01, 1.2079851e-03, 1.2661952e-03, 5.0359115e-04],\n",
       "         [9.9713171e-01, 1.1442822e-03, 1.2393891e-03, 4.8454540e-04],\n",
       "         [9.9714357e-01, 1.1374728e-03, 1.2364706e-03, 4.8249160e-04],\n",
       "         ...,\n",
       "         [9.9723488e-01, 1.0849655e-03, 1.2136004e-03, 4.6653324e-04],\n",
       "         [9.9723488e-01, 1.0849655e-03, 1.2136004e-03, 4.6653324e-04],\n",
       "         [9.9723488e-01, 1.0849655e-03, 1.2136004e-03, 4.6653324e-04]],\n",
       "\n",
       "        [[9.9723488e-01, 1.0849655e-03, 1.2136004e-03, 4.6653324e-04],\n",
       "         [9.9723488e-01, 1.0849655e-03, 1.2136004e-03, 4.6653324e-04],\n",
       "         [9.9723488e-01, 1.0849655e-03, 1.2136004e-03, 4.6653324e-04],\n",
       "         ...,\n",
       "         [9.9723488e-01, 1.0849655e-03, 1.2136004e-03, 4.6653324e-04],\n",
       "         [9.9723488e-01, 1.0849655e-03, 1.2136004e-03, 4.6653324e-04],\n",
       "         [9.9723488e-01, 1.0849655e-03, 1.2136004e-03, 4.6653324e-04]],\n",
       "\n",
       "        [[9.9723488e-01, 1.0849655e-03, 1.2136004e-03, 4.6653324e-04],\n",
       "         [9.9716091e-01, 1.1274980e-03, 1.2321755e-03, 4.7947641e-04],\n",
       "         [9.9713552e-01, 1.1421266e-03, 1.2384662e-03, 4.8389568e-04],\n",
       "         ...,\n",
       "         [9.9723488e-01, 1.0849655e-03, 1.2136004e-03, 4.6653324e-04],\n",
       "         [9.9723488e-01, 1.0849655e-03, 1.2136004e-03, 4.6653324e-04],\n",
       "         [9.9723488e-01, 1.0849655e-03, 1.2136004e-03, 4.6653324e-04]],\n",
       "\n",
       "        ...,\n",
       "\n",
       "        [[9.9723488e-01, 1.0849655e-03, 1.2136004e-03, 4.6653324e-04],\n",
       "         [9.9723488e-01, 1.0849655e-03, 1.2136004e-03, 4.6653324e-04],\n",
       "         [9.9715400e-01, 1.1314142e-03, 1.2338646e-03, 4.8066114e-04],\n",
       "         ...,\n",
       "         [9.9723488e-01, 1.0849655e-03, 1.2136004e-03, 4.6653324e-04],\n",
       "         [9.9723488e-01, 1.0849655e-03, 1.2136004e-03, 4.6653324e-04],\n",
       "         [9.9723488e-01, 1.0849655e-03, 1.2136004e-03, 4.6653324e-04]],\n",
       "\n",
       "        [[9.9723488e-01, 1.0849655e-03, 1.2136004e-03, 4.6653324e-04],\n",
       "         [9.9723488e-01, 1.0849655e-03, 1.2136004e-03, 4.6653324e-04],\n",
       "         [9.9723488e-01, 1.0849655e-03, 1.2136004e-03, 4.6653324e-04],\n",
       "         ...,\n",
       "         [9.9723488e-01, 1.0849655e-03, 1.2136004e-03, 4.6653324e-04],\n",
       "         [9.9723488e-01, 1.0849655e-03, 1.2136004e-03, 4.6653324e-04],\n",
       "         [9.9723488e-01, 1.0849655e-03, 1.2136004e-03, 4.6653324e-04]],\n",
       "\n",
       "        [[9.9723488e-01, 1.0849655e-03, 1.2136004e-03, 4.6653324e-04],\n",
       "         [9.9723488e-01, 1.0849655e-03, 1.2136004e-03, 4.6653324e-04],\n",
       "         [9.9723488e-01, 1.0849655e-03, 1.2136004e-03, 4.6653324e-04],\n",
       "         ...,\n",
       "         [9.9723488e-01, 1.0849655e-03, 1.2136004e-03, 4.6653324e-04],\n",
       "         [9.9723488e-01, 1.0849655e-03, 1.2136004e-03, 4.6653324e-04],\n",
       "         [9.9723488e-01, 1.0849655e-03, 1.2136004e-03, 4.6653324e-04]]]],\n",
       "      dtype=float32)"
      ]
     },
     "execution_count": 12,
     "metadata": {},
     "output_type": "execute_result"
    }
   ],
   "source": [
    "prediction"
   ]
  },
  {
   "cell_type": "code",
   "execution_count": 13,
   "id": "concrete-moses",
   "metadata": {},
   "outputs": [
    {
     "data": {
      "text/plain": [
       "numpy.ndarray"
      ]
     },
     "execution_count": 13,
     "metadata": {},
     "output_type": "execute_result"
    }
   ],
   "source": [
    "type(prediction)"
   ]
  },
  {
   "cell_type": "code",
   "execution_count": 14,
   "id": "secure-style",
   "metadata": {},
   "outputs": [],
   "source": [
    "prediction = np.argmax(prediction, axis=3)"
   ]
  },
  {
   "cell_type": "code",
   "execution_count": 15,
   "id": "atlantic-friday",
   "metadata": {},
   "outputs": [
    {
     "data": {
      "text/plain": [
       "(240, 240, 160)"
      ]
     },
     "execution_count": 15,
     "metadata": {},
     "output_type": "execute_result"
    }
   ],
   "source": [
    "prediction.shape"
   ]
  },
  {
   "cell_type": "code",
   "execution_count": 16,
   "id": "stainless-dietary",
   "metadata": {},
   "outputs": [
    {
     "data": {
      "text/plain": [
       "array([0, 1, 2, 3])"
      ]
     },
     "execution_count": 16,
     "metadata": {},
     "output_type": "execute_result"
    }
   ],
   "source": [
    "np.unique(prediction)"
   ]
  },
  {
   "cell_type": "markdown",
   "id": "7b11d199-3c0d-4a7f-b0fd-0a7b9ce062f8",
   "metadata": {},
   "source": [
    "#### Model prediction vs groundtruth number of labels"
   ]
  },
  {
   "cell_type": "code",
   "execution_count": 17,
   "id": "hungry-schema",
   "metadata": {},
   "outputs": [
    {
     "name": "stdout",
     "output_type": "stream",
     "text": [
      "Background - class 0\n",
      "9179123\n",
      "--------\n",
      "Edema - class 1\n",
      "23876\n",
      "--------\n",
      "Non-Enhancing-Tumor - class 2\n",
      "3064\n",
      "--------\n",
      "Enhancing-Tumor - class 3\n",
      "9937\n"
     ]
    }
   ],
   "source": [
    "# Number of labels per class in model prediction\n",
    "print(\"Background - class 0\")\n",
    "print(len(prediction[prediction == 0])) \n",
    "print(\"--------\")\n",
    "print(\"Edema - class 1\")\n",
    "print(len(prediction[prediction == 1]))\n",
    "print(\"--------\")\n",
    "print(\"Non-Enhancing-Tumor - class 2\")\n",
    "print(len(prediction[prediction == 2]))\n",
    "print(\"--------\")\n",
    "print(\"Enhancing-Tumor - class 3\")\n",
    "print(len(prediction[prediction == 3])) "
   ]
  },
  {
   "cell_type": "code",
   "execution_count": 18,
   "id": "beautiful-puzzle",
   "metadata": {},
   "outputs": [
    {
     "name": "stdout",
     "output_type": "stream",
     "text": [
      "Background - class 0\n",
      "9178172\n",
      "--------\n",
      "Edema - class 1\n",
      "25665\n",
      "--------\n",
      "Non-Enhancing-Tumor - class 2\n",
      "3169\n",
      "--------\n",
      "Enhancing-Tumor - class 3\n",
      "8994\n"
     ]
    }
   ],
   "source": [
    "# Number of labels per class in ground truth mask\n",
    "print(\"Background - class 0\")\n",
    "print(len(mask[mask == 0]))\n",
    "print(\"--------\")\n",
    "print(\"Edema - class 1\")\n",
    "print(len(mask[mask == 1]))\n",
    "print(\"--------\")\n",
    "print(\"Non-Enhancing-Tumor - class 2\")\n",
    "print(len(mask[mask == 2]))\n",
    "print(\"--------\")\n",
    "print(\"Enhancing-Tumor - class 3\")\n",
    "print(len(mask[mask == 3]))"
   ]
  },
  {
   "cell_type": "code",
   "execution_count": 19,
   "id": "academic-samoa",
   "metadata": {},
   "outputs": [
    {
     "data": {
      "application/vnd.jupyter.widget-view+json": {
       "model_id": "f0bb1fe92b8b423f800d839b8ed0b7cb",
       "version_major": 2,
       "version_minor": 0
      },
      "text/plain": [
       "interactive(children=(ToggleButtons(button_style='info', description='Select Class:', options=('Background', '…"
      ]
     },
     "metadata": {},
     "output_type": "display_data"
    }
   ],
   "source": [
    "classes_dict = {\n",
    "    'Background': 0,\n",
    "    'Edema': 1,\n",
    "    'Non-enhancing tumor': 2,\n",
    "    'Enhancing tumor': 3 \n",
    "}\n",
    "\n",
    "# Create button values\n",
    "select_class = ToggleButtons(\n",
    "    options=['Background','Edema', 'Non-enhancing tumor', 'Enhancing tumor', 'All'],\n",
    "    description='Select Class:',\n",
    "    disabled=False,\n",
    "    button_style='info', \n",
    "    \n",
    ")\n",
    "# Create layer slider\n",
    "select_layer = IntSlider(min=0, max=mri.shape[2] - 1, description='Select Layer', continuous_update=False)\n",
    "\n",
    "    \n",
    "# Define a function for plotting images\n",
    "def plot(seg_class, layer, channel):\n",
    "    print(f\"Plotting Layer: {layer} | Label: {seg_class} | Channel: {channel}\")\n",
    "    fig = plt.figure(figsize=(20, 10))\n",
    "    \n",
    "    fig.add_subplot(1, 3, 1)\n",
    "    plt.title(\"MRI_BRATS_389\", fontsize=20)\n",
    "    plt.imshow(mri[:, :, layer, channel], cmap='gray');\n",
    "    plt.axis('off')\n",
    "    \n",
    "    fig.add_subplot(1, 3, 2)\n",
    "    if seg_class == \"All\":\n",
    "        mask_groundtruth = mask[:, :, layer]\n",
    "        plt.title(\"Groundtruth mask\", fontsize=20)\n",
    "        plt.imshow(mask_groundtruth)\n",
    "        plt.axis('off');\n",
    "    else:\n",
    "        img_label = classes_dict[seg_class]\n",
    "        mask_groundtruth = np.where(mask[:, :, layer] == img_label, 255, 0)\n",
    "        plt.title(\"Groundtruth mask\", fontsize=20)\n",
    "        plt.imshow(mask_groundtruth, cmap='gray')\n",
    "        plt.axis('off');\n",
    "    \n",
    "    fig.add_subplot(1, 3, 3)\n",
    "    if seg_class == \"All\":\n",
    "        mask_model_prediction = prediction[:, :, layer]\n",
    "        plt.title(\"Model prediction mask\", fontsize=20)\n",
    "        plt.imshow(mask_model_prediction)\n",
    "        plt.axis('off');\n",
    "    else:\n",
    "        img_label = classes_dict[seg_class]\n",
    "        mask_model_prediction = np.where(prediction[:, :, layer] == img_label, 255, 0)\n",
    "        plt.title(\"Model prediction mask\", fontsize=20)\n",
    "        plt.imshow(mask_model_prediction, cmap='gray')\n",
    "        plt.axis('off');\n",
    "\n",
    "# Set channel to view:\n",
    "#  Channel 0: \"FLAIR\" Fluid-attenuated inversion recovery\n",
    "#  Channel 1: \"T1w\" T1-weighted\n",
    "#  Channel 2: \"t1gd\" T1-weighted with gadolinium contrast enhancement\n",
    "#  Channel 3: \"T2w\" T2-weighted    \n",
    "    \n",
    "# Use the interactive() tool to create the visualization\n",
    "interactive(plot, seg_class=select_class, layer=select_layer, channel=(0, 3))"
   ]
  },
  {
   "cell_type": "markdown",
   "id": "corporate-housing",
   "metadata": {},
   "source": [
    "### 1.2 Visualizing prediction on BRATS_390 file"
   ]
  },
  {
   "cell_type": "code",
   "execution_count": 20,
   "id": "stunning-vintage",
   "metadata": {},
   "outputs": [],
   "source": [
    "mri = nib.load(\"../datasets/Task01_BrainTumour_240x240x160x4/val/images/BRATS_390.nii.gz\").get_fdata().astype(np.float32)"
   ]
  },
  {
   "cell_type": "code",
   "execution_count": 21,
   "id": "variable-directive",
   "metadata": {},
   "outputs": [],
   "source": [
    "mask = nib.load(\"../datasets/Task01_BrainTumour_240x240x160x4/val/masks/BRATS_390.nii.gz\").get_fdata().astype(np.uint8)"
   ]
  },
  {
   "cell_type": "code",
   "execution_count": 22,
   "id": "black-arizona",
   "metadata": {},
   "outputs": [
    {
     "data": {
      "text/plain": [
       "(240, 240, 160)"
      ]
     },
     "execution_count": 22,
     "metadata": {},
     "output_type": "execute_result"
    }
   ],
   "source": [
    "mask.shape"
   ]
  },
  {
   "cell_type": "code",
   "execution_count": 23,
   "id": "rising-burlington",
   "metadata": {},
   "outputs": [],
   "source": [
    "mri_standardized = standardize(mri)"
   ]
  },
  {
   "cell_type": "code",
   "execution_count": 24,
   "id": "becoming-appearance",
   "metadata": {},
   "outputs": [],
   "source": [
    "mri_standardized = np.expand_dims(mri_standardized, axis=0)  # Keras models require an additional dimension of 'batch_size'"
   ]
  },
  {
   "cell_type": "code",
   "execution_count": 25,
   "id": "operational-encyclopedia",
   "metadata": {},
   "outputs": [],
   "source": [
    "prediction = model.predict(mri_standardized)"
   ]
  },
  {
   "cell_type": "code",
   "execution_count": 26,
   "id": "recognized-transportation",
   "metadata": {},
   "outputs": [],
   "source": [
    "prediction = np.squeeze(prediction, axis=0)  # Remove 'batch_size' dimension"
   ]
  },
  {
   "cell_type": "code",
   "execution_count": 27,
   "id": "civil-anderson",
   "metadata": {},
   "outputs": [
    {
     "data": {
      "text/plain": [
       "(240, 240, 160, 4)"
      ]
     },
     "execution_count": 27,
     "metadata": {},
     "output_type": "execute_result"
    }
   ],
   "source": [
    "prediction.shape"
   ]
  },
  {
   "cell_type": "code",
   "execution_count": 28,
   "id": "pending-progressive",
   "metadata": {},
   "outputs": [
    {
     "data": {
      "text/plain": [
       "numpy.ndarray"
      ]
     },
     "execution_count": 28,
     "metadata": {},
     "output_type": "execute_result"
    }
   ],
   "source": [
    "type(prediction)"
   ]
  },
  {
   "cell_type": "code",
   "execution_count": 29,
   "id": "composite-defeat",
   "metadata": {},
   "outputs": [],
   "source": [
    "prediction = np.argmax(prediction, axis=3)"
   ]
  },
  {
   "cell_type": "code",
   "execution_count": 30,
   "id": "comic-helicopter",
   "metadata": {},
   "outputs": [
    {
     "data": {
      "text/plain": [
       "(240, 240, 160)"
      ]
     },
     "execution_count": 30,
     "metadata": {},
     "output_type": "execute_result"
    }
   ],
   "source": [
    "prediction.shape"
   ]
  },
  {
   "cell_type": "code",
   "execution_count": 31,
   "id": "level-notice",
   "metadata": {},
   "outputs": [
    {
     "data": {
      "text/plain": [
       "array([0, 1, 2, 3])"
      ]
     },
     "execution_count": 31,
     "metadata": {},
     "output_type": "execute_result"
    }
   ],
   "source": [
    "np.unique(prediction)"
   ]
  },
  {
   "cell_type": "markdown",
   "id": "serious-rating",
   "metadata": {},
   "source": [
    "#### Model prediction vs groundtruth number of labels"
   ]
  },
  {
   "cell_type": "code",
   "execution_count": 32,
   "id": "permanent-master",
   "metadata": {},
   "outputs": [
    {
     "name": "stdout",
     "output_type": "stream",
     "text": [
      "Background - class 0\n",
      "9173289\n",
      "--------\n",
      "Edema - class 1\n",
      "32362\n",
      "--------\n",
      "Non-Enhancing-Tumor - class 2\n",
      "2059\n",
      "--------\n",
      "Enhancing-Tumor - class 3\n",
      "8290\n"
     ]
    }
   ],
   "source": [
    "# Number of labels per class in model prediction\n",
    "print(\"Background - class 0\")\n",
    "print(len(prediction[prediction == 0])) \n",
    "print(\"--------\")\n",
    "print(\"Edema - class 1\")\n",
    "print(len(prediction[prediction == 1]))\n",
    "print(\"--------\")\n",
    "print(\"Non-Enhancing-Tumor - class 2\")\n",
    "print(len(prediction[prediction == 2]))\n",
    "print(\"--------\")\n",
    "print(\"Enhancing-Tumor - class 3\")\n",
    "print(len(prediction[prediction == 3])) "
   ]
  },
  {
   "cell_type": "code",
   "execution_count": 33,
   "id": "wrong-buffalo",
   "metadata": {},
   "outputs": [
    {
     "name": "stdout",
     "output_type": "stream",
     "text": [
      "Background - class 0\n",
      "9185510\n",
      "--------\n",
      "Edema - class 1\n",
      "19594\n",
      "--------\n",
      "Non-Enhancing-Tumor - class 2\n",
      "2287\n",
      "--------\n",
      "Enhancing-Tumor - class 3\n",
      "8609\n"
     ]
    }
   ],
   "source": [
    "# Number of labels per class in ground truth mask\n",
    "print(\"Background - class 0\")\n",
    "print(len(mask[mask == 0]))\n",
    "print(\"--------\")\n",
    "print(\"Edema - class 1\")\n",
    "print(len(mask[mask == 1]))\n",
    "print(\"--------\")\n",
    "print(\"Non-Enhancing-Tumor - class 2\")\n",
    "print(len(mask[mask == 2]))\n",
    "print(\"--------\")\n",
    "print(\"Enhancing-Tumor - class 3\")\n",
    "print(len(mask[mask == 3]))"
   ]
  },
  {
   "cell_type": "code",
   "execution_count": 34,
   "id": "fifty-discipline",
   "metadata": {},
   "outputs": [
    {
     "data": {
      "application/vnd.jupyter.widget-view+json": {
       "model_id": "d2fceb7a03fe47638479f97ab6643772",
       "version_major": 2,
       "version_minor": 0
      },
      "text/plain": [
       "interactive(children=(ToggleButtons(button_style='info', description='Select Class:', options=('Background', '…"
      ]
     },
     "metadata": {},
     "output_type": "display_data"
    }
   ],
   "source": [
    "classes_dict = {\n",
    "    'Background': 0,\n",
    "    'Edema': 1,\n",
    "    'Non-enhancing tumor': 2,\n",
    "    'Enhancing tumor': 3 \n",
    "}\n",
    "\n",
    "# Create button values\n",
    "select_class = ToggleButtons(\n",
    "    options=['Background','Edema', 'Non-enhancing tumor', 'Enhancing tumor', 'All'],\n",
    "    description='Select Class:',\n",
    "    disabled=False,\n",
    "    button_style='info', \n",
    "    \n",
    ")\n",
    "# Create layer slider\n",
    "select_layer = IntSlider(min=0, max=mri.shape[2] - 1, description='Select Layer', continuous_update=False)\n",
    "\n",
    "    \n",
    "# Define a function for plotting images\n",
    "def plot(seg_class, layer, channel):\n",
    "    print(f\"Plotting Layer: {layer} | Label: {seg_class} | Channel: {channel}\")\n",
    "    fig = plt.figure(figsize=(20, 10))\n",
    "    \n",
    "    fig.add_subplot(1, 3, 1)\n",
    "    plt.title(\"MRI_BRATS_390\", fontsize=20)\n",
    "    plt.imshow(mri[:, :, layer, channel], cmap='gray');\n",
    "    plt.axis('off')\n",
    "    \n",
    "    fig.add_subplot(1, 3, 2)\n",
    "    if seg_class == \"All\":\n",
    "        mask_groundtruth = mask[:, :, layer]\n",
    "        plt.title(\"Groundtruth mask\", fontsize=20)\n",
    "        plt.imshow(mask_groundtruth)\n",
    "        plt.axis('off');\n",
    "    else:\n",
    "        img_label = classes_dict[seg_class]\n",
    "        mask_groundtruth = np.where(mask[:, :, layer] == img_label, 255, 0)\n",
    "        plt.title(\"Groundtruth mask\", fontsize=20)\n",
    "        plt.imshow(mask_groundtruth, cmap='gray')\n",
    "        plt.axis('off');\n",
    "    \n",
    "    fig.add_subplot(1, 3, 3)\n",
    "    if seg_class == \"All\":\n",
    "        mask_model_prediction = prediction[:, :, layer]\n",
    "        plt.title(\"Model prediction mask\", fontsize=20)\n",
    "        plt.imshow(mask_model_prediction)\n",
    "        plt.axis('off');\n",
    "    else:\n",
    "        img_label = classes_dict[seg_class]\n",
    "        mask_model_prediction = np.where(prediction[:, :, layer] == img_label, 255, 0)\n",
    "        plt.title(\"Model prediction mask\", fontsize=20)\n",
    "        plt.imshow(mask_model_prediction, cmap='gray')\n",
    "        plt.axis('off');\n",
    "\n",
    "# Set channel to view:\n",
    "#  Channel 0: \"FLAIR\" Fluid-attenuated inversion recovery\n",
    "#  Channel 1: \"T1w\" T1-weighted\n",
    "#  Channel 2: \"t1gd\" T1-weighted with gadolinium contrast enhancement\n",
    "#  Channel 3: \"T2w\" T2-weighted    \n",
    "    \n",
    "# Use the interactive() tool to create the visualization\n",
    "interactive(plot, seg_class=select_class, layer=select_layer, channel=(0, 3))"
   ]
  },
  {
   "cell_type": "markdown",
   "id": "raising-latvia",
   "metadata": {},
   "source": [
    "### 1.3 Visualizing prediction on BRATS_391 file"
   ]
  },
  {
   "cell_type": "code",
   "execution_count": 35,
   "id": "quiet-switzerland",
   "metadata": {},
   "outputs": [],
   "source": [
    "mri = nib.load(\"../datasets/Task01_BrainTumour_240x240x160x4/val/images/BRATS_391.nii.gz\").get_fdata().astype(np.float32)"
   ]
  },
  {
   "cell_type": "code",
   "execution_count": 36,
   "id": "quarterly-cambodia",
   "metadata": {},
   "outputs": [],
   "source": [
    "mask = nib.load(\"../datasets/Task01_BrainTumour_240x240x160x4/val/masks/BRATS_391.nii.gz\").get_fdata().astype(np.uint8)"
   ]
  },
  {
   "cell_type": "code",
   "execution_count": 37,
   "id": "lyric-humor",
   "metadata": {},
   "outputs": [
    {
     "data": {
      "text/plain": [
       "(240, 240, 160)"
      ]
     },
     "execution_count": 37,
     "metadata": {},
     "output_type": "execute_result"
    }
   ],
   "source": [
    "mask.shape"
   ]
  },
  {
   "cell_type": "code",
   "execution_count": 38,
   "id": "solid-absorption",
   "metadata": {},
   "outputs": [],
   "source": [
    "mri_standardized = standardize(mri)"
   ]
  },
  {
   "cell_type": "code",
   "execution_count": 39,
   "id": "quality-mills",
   "metadata": {},
   "outputs": [],
   "source": [
    "mri_standardized = np.expand_dims(mri_standardized, axis=0)  # Keras models require an additional dimension of 'batch_size'"
   ]
  },
  {
   "cell_type": "code",
   "execution_count": 40,
   "id": "julian-yacht",
   "metadata": {},
   "outputs": [],
   "source": [
    "prediction = model.predict(mri_standardized)"
   ]
  },
  {
   "cell_type": "code",
   "execution_count": 41,
   "id": "published-trade",
   "metadata": {},
   "outputs": [],
   "source": [
    "prediction = np.squeeze(prediction, axis=0)  # Remove 'batch_size' dimension"
   ]
  },
  {
   "cell_type": "code",
   "execution_count": 42,
   "id": "announced-brave",
   "metadata": {},
   "outputs": [
    {
     "data": {
      "text/plain": [
       "(240, 240, 160, 4)"
      ]
     },
     "execution_count": 42,
     "metadata": {},
     "output_type": "execute_result"
    }
   ],
   "source": [
    "prediction.shape"
   ]
  },
  {
   "cell_type": "code",
   "execution_count": 43,
   "id": "particular-geography",
   "metadata": {},
   "outputs": [
    {
     "data": {
      "text/plain": [
       "numpy.ndarray"
      ]
     },
     "execution_count": 43,
     "metadata": {},
     "output_type": "execute_result"
    }
   ],
   "source": [
    "type(prediction)"
   ]
  },
  {
   "cell_type": "code",
   "execution_count": 44,
   "id": "introductory-stage",
   "metadata": {},
   "outputs": [],
   "source": [
    "prediction = np.argmax(prediction, axis=3)"
   ]
  },
  {
   "cell_type": "code",
   "execution_count": 45,
   "id": "anticipated-basket",
   "metadata": {},
   "outputs": [
    {
     "data": {
      "text/plain": [
       "(240, 240, 160)"
      ]
     },
     "execution_count": 45,
     "metadata": {},
     "output_type": "execute_result"
    }
   ],
   "source": [
    "prediction.shape"
   ]
  },
  {
   "cell_type": "code",
   "execution_count": 46,
   "id": "sensitive-marketplace",
   "metadata": {},
   "outputs": [
    {
     "data": {
      "text/plain": [
       "array([0, 1, 2, 3])"
      ]
     },
     "execution_count": 46,
     "metadata": {},
     "output_type": "execute_result"
    }
   ],
   "source": [
    "np.unique(prediction)"
   ]
  },
  {
   "cell_type": "markdown",
   "id": "injured-cooper",
   "metadata": {},
   "source": [
    "#### Model prediction vs groundtruth number of labels"
   ]
  },
  {
   "cell_type": "code",
   "execution_count": 47,
   "id": "collectible-above",
   "metadata": {},
   "outputs": [
    {
     "name": "stdout",
     "output_type": "stream",
     "text": [
      "Background - class 0\n",
      "9123505\n",
      "--------\n",
      "Edema - class 1\n",
      "49013\n",
      "--------\n",
      "Non-Enhancing-Tumor - class 2\n",
      "14481\n",
      "--------\n",
      "Enhancing-Tumor - class 3\n",
      "29001\n"
     ]
    }
   ],
   "source": [
    "# Number of labels per class in model prediction\n",
    "print(\"Background - class 0\")\n",
    "print(len(prediction[prediction == 0])) \n",
    "print(\"--------\")\n",
    "print(\"Edema - class 1\")\n",
    "print(len(prediction[prediction == 1]))\n",
    "print(\"--------\")\n",
    "print(\"Non-Enhancing-Tumor - class 2\")\n",
    "print(len(prediction[prediction == 2]))\n",
    "print(\"--------\")\n",
    "print(\"Enhancing-Tumor - class 3\")\n",
    "print(len(prediction[prediction == 3])) "
   ]
  },
  {
   "cell_type": "code",
   "execution_count": 48,
   "id": "opponent-pontiac",
   "metadata": {},
   "outputs": [
    {
     "name": "stdout",
     "output_type": "stream",
     "text": [
      "Background - class 0\n",
      "9134153\n",
      "--------\n",
      "Edema - class 1\n",
      "44701\n",
      "--------\n",
      "Non-Enhancing-Tumor - class 2\n",
      "3614\n",
      "--------\n",
      "Enhancing-Tumor - class 3\n",
      "33532\n"
     ]
    }
   ],
   "source": [
    "# Number of labels per class in ground truth mask\n",
    "print(\"Background - class 0\")\n",
    "print(len(mask[mask == 0]))\n",
    "print(\"--------\")\n",
    "print(\"Edema - class 1\")\n",
    "print(len(mask[mask == 1]))\n",
    "print(\"--------\")\n",
    "print(\"Non-Enhancing-Tumor - class 2\")\n",
    "print(len(mask[mask == 2]))\n",
    "print(\"--------\")\n",
    "print(\"Enhancing-Tumor - class 3\")\n",
    "print(len(mask[mask == 3]))"
   ]
  },
  {
   "cell_type": "code",
   "execution_count": 49,
   "id": "speaking-falls",
   "metadata": {},
   "outputs": [
    {
     "data": {
      "application/vnd.jupyter.widget-view+json": {
       "model_id": "075ecafde6d743a5b32765585795a70d",
       "version_major": 2,
       "version_minor": 0
      },
      "text/plain": [
       "interactive(children=(ToggleButtons(button_style='info', description='Select Class:', options=('Background', '…"
      ]
     },
     "metadata": {},
     "output_type": "display_data"
    }
   ],
   "source": [
    "classes_dict = {\n",
    "    'Background': 0,\n",
    "    'Edema': 1,\n",
    "    'Non-enhancing tumor': 2,\n",
    "    'Enhancing tumor': 3 \n",
    "}\n",
    "\n",
    "# Create button values\n",
    "select_class = ToggleButtons(\n",
    "    options=['Background','Edema', 'Non-enhancing tumor', 'Enhancing tumor', 'All'],\n",
    "    description='Select Class:',\n",
    "    disabled=False,\n",
    "    button_style='info', \n",
    "    \n",
    ")\n",
    "# Create layer slider\n",
    "select_layer = IntSlider(min=0, max=mri.shape[2] - 1, description='Select Layer', continuous_update=False)\n",
    "\n",
    "    \n",
    "# Define a function for plotting images\n",
    "def plot(seg_class, layer, channel):\n",
    "    print(f\"Plotting Layer: {layer} | Label: {seg_class} | Channel: {channel}\")\n",
    "    fig = plt.figure(figsize=(20, 10))\n",
    "    \n",
    "    fig.add_subplot(1, 3, 1)\n",
    "    plt.title(\"MRI_BRATS_391\", fontsize=20)\n",
    "    plt.imshow(mri[:, :, layer, channel], cmap='gray');\n",
    "    plt.axis('off')\n",
    "    \n",
    "    fig.add_subplot(1, 3, 2)\n",
    "    if seg_class == \"All\":\n",
    "        mask_groundtruth = mask[:, :, layer]\n",
    "        plt.title(\"Groundtruth mask\", fontsize=20)\n",
    "        plt.imshow(mask_groundtruth)\n",
    "        plt.axis('off');\n",
    "    else:\n",
    "        img_label = classes_dict[seg_class]\n",
    "        mask_groundtruth = np.where(mask[:, :, layer] == img_label, 255, 0)\n",
    "        plt.title(\"Groundtruth mask\", fontsize=20)\n",
    "        plt.imshow(mask_groundtruth, cmap='gray')\n",
    "        plt.axis('off');\n",
    "    \n",
    "    fig.add_subplot(1, 3, 3)\n",
    "    if seg_class == \"All\":\n",
    "        mask_model_prediction = prediction[:, :, layer]\n",
    "        plt.title(\"Model prediction mask\", fontsize=20)\n",
    "        plt.imshow(mask_model_prediction)\n",
    "        plt.axis('off');\n",
    "    else:\n",
    "        img_label = classes_dict[seg_class]\n",
    "        mask_model_prediction = np.where(prediction[:, :, layer] == img_label, 255, 0)\n",
    "        plt.title(\"Model prediction mask\", fontsize=20)\n",
    "        plt.imshow(mask_model_prediction, cmap='gray')\n",
    "        plt.axis('off');\n",
    "\n",
    "# Set channel to view:\n",
    "#  Channel 0: \"FLAIR\" Fluid-attenuated inversion recovery\n",
    "#  Channel 1: \"T1w\" T1-weighted\n",
    "#  Channel 2: \"t1gd\" T1-weighted with gadolinium contrast enhancement\n",
    "#  Channel 3: \"T2w\" T2-weighted    \n",
    "    \n",
    "# Use the interactive() tool to create the visualization\n",
    "interactive(plot, seg_class=select_class, layer=select_layer, channel=(0, 3))"
   ]
  },
  {
   "cell_type": "markdown",
   "id": "exempt-bleeding",
   "metadata": {},
   "source": [
    "### 1.4 Visualizing prediction on BRATS_392 file"
   ]
  },
  {
   "cell_type": "code",
   "execution_count": 50,
   "id": "flexible-study",
   "metadata": {},
   "outputs": [],
   "source": [
    "mri = nib.load(\"../datasets/Task01_BrainTumour_240x240x160x4/val/images/BRATS_392.nii.gz\").get_fdata().astype(np.float32)"
   ]
  },
  {
   "cell_type": "code",
   "execution_count": 51,
   "id": "laden-friday",
   "metadata": {},
   "outputs": [],
   "source": [
    "mask = nib.load(\"../datasets/Task01_BrainTumour_240x240x160x4/val/masks/BRATS_392.nii.gz\").get_fdata().astype(np.uint8)"
   ]
  },
  {
   "cell_type": "code",
   "execution_count": 52,
   "id": "expressed-queens",
   "metadata": {},
   "outputs": [
    {
     "data": {
      "text/plain": [
       "(240, 240, 160)"
      ]
     },
     "execution_count": 52,
     "metadata": {},
     "output_type": "execute_result"
    }
   ],
   "source": [
    "mask.shape"
   ]
  },
  {
   "cell_type": "code",
   "execution_count": 53,
   "id": "collectible-making",
   "metadata": {},
   "outputs": [],
   "source": [
    "mri_standardized = standardize(mri)"
   ]
  },
  {
   "cell_type": "code",
   "execution_count": 54,
   "id": "acute-schema",
   "metadata": {},
   "outputs": [],
   "source": [
    "mri_standardized = np.expand_dims(mri_standardized, axis=0)  # Keras models require an additional dimension of 'batch_size'"
   ]
  },
  {
   "cell_type": "code",
   "execution_count": 55,
   "id": "actual-title",
   "metadata": {},
   "outputs": [],
   "source": [
    "prediction = model.predict(mri_standardized)"
   ]
  },
  {
   "cell_type": "code",
   "execution_count": 56,
   "id": "minimal-drinking",
   "metadata": {},
   "outputs": [],
   "source": [
    "prediction = np.squeeze(prediction, axis=0)  # Remove 'batch_size' dimension"
   ]
  },
  {
   "cell_type": "code",
   "execution_count": 57,
   "id": "proved-mineral",
   "metadata": {},
   "outputs": [
    {
     "data": {
      "text/plain": [
       "(240, 240, 160, 4)"
      ]
     },
     "execution_count": 57,
     "metadata": {},
     "output_type": "execute_result"
    }
   ],
   "source": [
    "prediction.shape"
   ]
  },
  {
   "cell_type": "code",
   "execution_count": 58,
   "id": "japanese-nickname",
   "metadata": {},
   "outputs": [
    {
     "data": {
      "text/plain": [
       "numpy.ndarray"
      ]
     },
     "execution_count": 58,
     "metadata": {},
     "output_type": "execute_result"
    }
   ],
   "source": [
    "type(prediction)"
   ]
  },
  {
   "cell_type": "code",
   "execution_count": 59,
   "id": "floating-ratio",
   "metadata": {},
   "outputs": [],
   "source": [
    "prediction = np.argmax(prediction, axis=3)"
   ]
  },
  {
   "cell_type": "code",
   "execution_count": 60,
   "id": "fewer-science",
   "metadata": {},
   "outputs": [
    {
     "data": {
      "text/plain": [
       "(240, 240, 160)"
      ]
     },
     "execution_count": 60,
     "metadata": {},
     "output_type": "execute_result"
    }
   ],
   "source": [
    "prediction.shape"
   ]
  },
  {
   "cell_type": "code",
   "execution_count": 61,
   "id": "pleased-portrait",
   "metadata": {},
   "outputs": [
    {
     "data": {
      "text/plain": [
       "array([0, 1, 2, 3])"
      ]
     },
     "execution_count": 61,
     "metadata": {},
     "output_type": "execute_result"
    }
   ],
   "source": [
    "np.unique(prediction)"
   ]
  },
  {
   "cell_type": "markdown",
   "id": "palestinian-wallet",
   "metadata": {},
   "source": [
    "#### Model prediction vs groundtruth number of labels"
   ]
  },
  {
   "cell_type": "code",
   "execution_count": 62,
   "id": "interstate-pastor",
   "metadata": {},
   "outputs": [
    {
     "name": "stdout",
     "output_type": "stream",
     "text": [
      "Background - class 0\n",
      "9095749\n",
      "--------\n",
      "Edema - class 1\n",
      "22441\n",
      "--------\n",
      "Non-Enhancing-Tumor - class 2\n",
      "20798\n",
      "--------\n",
      "Enhancing-Tumor - class 3\n",
      "77012\n"
     ]
    }
   ],
   "source": [
    "# Number of labels per class in model prediction\n",
    "print(\"Background - class 0\")\n",
    "print(len(prediction[prediction == 0])) \n",
    "print(\"--------\")\n",
    "print(\"Edema - class 1\")\n",
    "print(len(prediction[prediction == 1]))\n",
    "print(\"--------\")\n",
    "print(\"Non-Enhancing-Tumor - class 2\")\n",
    "print(len(prediction[prediction == 2]))\n",
    "print(\"--------\")\n",
    "print(\"Enhancing-Tumor - class 3\")\n",
    "print(len(prediction[prediction == 3])) "
   ]
  },
  {
   "cell_type": "code",
   "execution_count": 63,
   "id": "given-quilt",
   "metadata": {},
   "outputs": [
    {
     "name": "stdout",
     "output_type": "stream",
     "text": [
      "Background - class 0\n",
      "9104688\n",
      "--------\n",
      "Edema - class 1\n",
      "28795\n",
      "--------\n",
      "Non-Enhancing-Tumor - class 2\n",
      "21404\n",
      "--------\n",
      "Enhancing-Tumor - class 3\n",
      "61113\n"
     ]
    }
   ],
   "source": [
    "# Number of labels per class in ground truth mask\n",
    "print(\"Background - class 0\")\n",
    "print(len(mask[mask == 0]))\n",
    "print(\"--------\")\n",
    "print(\"Edema - class 1\")\n",
    "print(len(mask[mask == 1]))\n",
    "print(\"--------\")\n",
    "print(\"Non-Enhancing-Tumor - class 2\")\n",
    "print(len(mask[mask == 2]))\n",
    "print(\"--------\")\n",
    "print(\"Enhancing-Tumor - class 3\")\n",
    "print(len(mask[mask == 3]))"
   ]
  },
  {
   "cell_type": "code",
   "execution_count": 64,
   "id": "circular-string",
   "metadata": {},
   "outputs": [
    {
     "data": {
      "application/vnd.jupyter.widget-view+json": {
       "model_id": "2a5ea45604834531b408d1185e5b2ca8",
       "version_major": 2,
       "version_minor": 0
      },
      "text/plain": [
       "interactive(children=(ToggleButtons(button_style='info', description='Select Class:', options=('Background', '…"
      ]
     },
     "metadata": {},
     "output_type": "display_data"
    }
   ],
   "source": [
    "classes_dict = {\n",
    "    'Background': 0,\n",
    "    'Edema': 1,\n",
    "    'Non-enhancing tumor': 2,\n",
    "    'Enhancing tumor': 3 \n",
    "}\n",
    "\n",
    "# Create button values\n",
    "select_class = ToggleButtons(\n",
    "    options=['Background','Edema', 'Non-enhancing tumor', 'Enhancing tumor', 'All'],\n",
    "    description='Select Class:',\n",
    "    disabled=False,\n",
    "    button_style='info', \n",
    "    \n",
    ")\n",
    "# Create layer slider\n",
    "select_layer = IntSlider(min=0, max=mri.shape[2] - 1, description='Select Layer', continuous_update=False)\n",
    "\n",
    "    \n",
    "# Define a function for plotting images\n",
    "def plot(seg_class, layer, channel):\n",
    "    print(f\"Plotting Layer: {layer} | Label: {seg_class} | Channel: {channel}\")\n",
    "    fig = plt.figure(figsize=(20, 10))\n",
    "    \n",
    "    fig.add_subplot(1, 3, 1)\n",
    "    plt.title(\"MRI_BRATS_392\", fontsize=20)\n",
    "    plt.imshow(mri[:, :, layer, channel], cmap='gray');\n",
    "    plt.axis('off')\n",
    "    \n",
    "    fig.add_subplot(1, 3, 2)\n",
    "    if seg_class == \"All\":\n",
    "        mask_groundtruth = mask[:, :, layer]\n",
    "        plt.title(\"Groundtruth mask\", fontsize=20)\n",
    "        plt.imshow(mask_groundtruth)\n",
    "        plt.axis('off');\n",
    "    else:\n",
    "        img_label = classes_dict[seg_class]\n",
    "        mask_groundtruth = np.where(mask[:, :, layer] == img_label, 255, 0)\n",
    "        plt.title(\"Groundtruth mask\", fontsize=20)\n",
    "        plt.imshow(mask_groundtruth, cmap='gray')\n",
    "        plt.axis('off');\n",
    "    \n",
    "    fig.add_subplot(1, 3, 3)\n",
    "    if seg_class == \"All\":\n",
    "        mask_model_prediction = prediction[:, :, layer]\n",
    "        plt.title(\"Model prediction mask\", fontsize=20)\n",
    "        plt.imshow(mask_model_prediction)\n",
    "        plt.axis('off');\n",
    "    else:\n",
    "        img_label = classes_dict[seg_class]\n",
    "        mask_model_prediction = np.where(prediction[:, :, layer] == img_label, 255, 0)\n",
    "        plt.title(\"Model prediction mask\", fontsize=20)\n",
    "        plt.imshow(mask_model_prediction, cmap='gray')\n",
    "        plt.axis('off');\n",
    "\n",
    "# Set channel to view:\n",
    "#  Channel 0: \"FLAIR\" Fluid-attenuated inversion recovery\n",
    "#  Channel 1: \"T1w\" T1-weighted\n",
    "#  Channel 2: \"t1gd\" T1-weighted with gadolinium contrast enhancement\n",
    "#  Channel 3: \"T2w\" T2-weighted    \n",
    "    \n",
    "# Use the interactive() tool to create the visualization\n",
    "interactive(plot, seg_class=select_class, layer=select_layer, channel=(0, 3))"
   ]
  },
  {
   "cell_type": "markdown",
   "id": "noticed-runner",
   "metadata": {},
   "source": [
    "### 2. Testing on the medical decathlon test images for Task 1 \n",
    "Having to modify the original 155 layer files to 160 layer files then taking the first 155 layers as the model prediction for submission to the challenge"
   ]
  },
  {
   "cell_type": "markdown",
   "id": "sitting-venice",
   "metadata": {},
   "source": [
    "### 2.1 Visualizing prediction on BRATS_488 file"
   ]
  },
  {
   "cell_type": "code",
   "execution_count": 65,
   "id": "entire-white",
   "metadata": {},
   "outputs": [],
   "source": [
    "mri = nib.load(\"../datasets/Task01_BrainTumour/test_images_for_model_prediction_submission/BRATS_488.nii.gz\").get_fdata().astype(np.float32)"
   ]
  },
  {
   "cell_type": "code",
   "execution_count": 66,
   "id": "capable-mirror",
   "metadata": {},
   "outputs": [
    {
     "data": {
      "text/plain": [
       "(240, 240, 155, 4)"
      ]
     },
     "execution_count": 66,
     "metadata": {},
     "output_type": "execute_result"
    }
   ],
   "source": [
    "mri.shape"
   ]
  },
  {
   "cell_type": "code",
   "execution_count": 67,
   "id": "direct-policy",
   "metadata": {},
   "outputs": [],
   "source": [
    "mri_temp = np.zeros((240, 240, 160, 4))\n",
    "mri_temp[:, :, :155, :] = mri[:, :, :]\n",
    "\n",
    "mri = mri_temp"
   ]
  },
  {
   "cell_type": "code",
   "execution_count": 68,
   "id": "immune-combination",
   "metadata": {},
   "outputs": [
    {
     "data": {
      "text/plain": [
       "(240, 240, 160, 4)"
      ]
     },
     "execution_count": 68,
     "metadata": {},
     "output_type": "execute_result"
    }
   ],
   "source": [
    "mri.shape"
   ]
  },
  {
   "cell_type": "code",
   "execution_count": 69,
   "id": "binary-payroll",
   "metadata": {},
   "outputs": [],
   "source": [
    "mri_standardized = standardize(mri)"
   ]
  },
  {
   "cell_type": "code",
   "execution_count": 70,
   "id": "emerging-approach",
   "metadata": {},
   "outputs": [],
   "source": [
    "mri_standardized = np.expand_dims(mri_standardized, axis=0)  # Keras models require an additional dimension of 'batch_size'"
   ]
  },
  {
   "cell_type": "code",
   "execution_count": 71,
   "id": "thermal-ecology",
   "metadata": {},
   "outputs": [],
   "source": [
    "prediction = model.predict(mri_standardized)"
   ]
  },
  {
   "cell_type": "code",
   "execution_count": 72,
   "id": "hollywood-hampshire",
   "metadata": {},
   "outputs": [],
   "source": [
    "prediction = np.squeeze(prediction, axis=0)  # Remove 'batch_size' dimension"
   ]
  },
  {
   "cell_type": "code",
   "execution_count": 73,
   "id": "recent-disclosure",
   "metadata": {},
   "outputs": [
    {
     "data": {
      "text/plain": [
       "(240, 240, 160, 4)"
      ]
     },
     "execution_count": 73,
     "metadata": {},
     "output_type": "execute_result"
    }
   ],
   "source": [
    "prediction.shape"
   ]
  },
  {
   "cell_type": "code",
   "execution_count": 74,
   "id": "grateful-cursor",
   "metadata": {},
   "outputs": [
    {
     "data": {
      "text/plain": [
       "numpy.ndarray"
      ]
     },
     "execution_count": 74,
     "metadata": {},
     "output_type": "execute_result"
    }
   ],
   "source": [
    "type(prediction)"
   ]
  },
  {
   "cell_type": "code",
   "execution_count": 75,
   "id": "plastic-stephen",
   "metadata": {},
   "outputs": [],
   "source": [
    "prediction = np.argmax(prediction, axis=3)"
   ]
  },
  {
   "cell_type": "code",
   "execution_count": 76,
   "id": "returning-warehouse",
   "metadata": {},
   "outputs": [
    {
     "data": {
      "text/plain": [
       "(240, 240, 160)"
      ]
     },
     "execution_count": 76,
     "metadata": {},
     "output_type": "execute_result"
    }
   ],
   "source": [
    "prediction.shape"
   ]
  },
  {
   "cell_type": "code",
   "execution_count": 77,
   "id": "interstate-creator",
   "metadata": {},
   "outputs": [],
   "source": [
    "mri = mri[:, :, :155, :]\n",
    "prediction = prediction[:, :, :155]"
   ]
  },
  {
   "cell_type": "code",
   "execution_count": 78,
   "id": "prerequisite-helen",
   "metadata": {},
   "outputs": [
    {
     "data": {
      "text/plain": [
       "(240, 240, 155)"
      ]
     },
     "execution_count": 78,
     "metadata": {},
     "output_type": "execute_result"
    }
   ],
   "source": [
    "prediction.shape"
   ]
  },
  {
   "cell_type": "code",
   "execution_count": 79,
   "id": "solid-superintendent",
   "metadata": {},
   "outputs": [
    {
     "data": {
      "text/plain": [
       "array([0, 1, 2, 3])"
      ]
     },
     "execution_count": 79,
     "metadata": {},
     "output_type": "execute_result"
    }
   ],
   "source": [
    "np.unique(prediction)"
   ]
  },
  {
   "cell_type": "markdown",
   "id": "structured-ability",
   "metadata": {},
   "source": [
    "#### Model prediction number of labels (no available masks)"
   ]
  },
  {
   "cell_type": "code",
   "execution_count": 80,
   "id": "compliant-mountain",
   "metadata": {},
   "outputs": [
    {
     "name": "stdout",
     "output_type": "stream",
     "text": [
      "Background - class 0\n",
      "8796397\n",
      "--------\n",
      "Edema - class 1\n",
      "114480\n",
      "--------\n",
      "Non-Enhancing-Tumor - class 2\n",
      "8195\n",
      "--------\n",
      "Enhancing-Tumor - class 3\n",
      "8928\n"
     ]
    }
   ],
   "source": [
    "# Number of labels per class in model prediction\n",
    "print(\"Background - class 0\")\n",
    "print(len(prediction[prediction == 0])) \n",
    "print(\"--------\")\n",
    "print(\"Edema - class 1\")\n",
    "print(len(prediction[prediction == 1]))\n",
    "print(\"--------\")\n",
    "print(\"Non-Enhancing-Tumor - class 2\")\n",
    "print(len(prediction[prediction == 2]))\n",
    "print(\"--------\")\n",
    "print(\"Enhancing-Tumor - class 3\")\n",
    "print(len(prediction[prediction == 3])) "
   ]
  },
  {
   "cell_type": "code",
   "execution_count": 81,
   "id": "moving-capacity",
   "metadata": {
    "scrolled": true
   },
   "outputs": [
    {
     "data": {
      "application/vnd.jupyter.widget-view+json": {
       "model_id": "fd9c77bfaeb541ee984f27fc81af479c",
       "version_major": 2,
       "version_minor": 0
      },
      "text/plain": [
       "interactive(children=(ToggleButtons(button_style='info', description='Select Class:', options=('Background', '…"
      ]
     },
     "metadata": {},
     "output_type": "display_data"
    }
   ],
   "source": [
    "classes_dict = {\n",
    "    'Background': 0,\n",
    "    'Edema': 1,\n",
    "    'Non-enhancing tumor': 2,\n",
    "    'Enhancing tumor': 3 \n",
    "}\n",
    "\n",
    "# Create button values\n",
    "select_class = ToggleButtons(\n",
    "    options=['Background','Edema', 'Non-enhancing tumor', 'Enhancing tumor', 'All'],\n",
    "    description='Select Class:',\n",
    "    disabled=False,\n",
    "    button_style='info', \n",
    "    \n",
    ")\n",
    "# Create layer slider\n",
    "select_layer = IntSlider(min=0, max=mri.shape[2] - 1, description='Select Layer', continuous_update=False)\n",
    "\n",
    "    \n",
    "# Define a function for plotting images\n",
    "def plot(seg_class, layer, channel):\n",
    "    print(f\"Plotting Layer: {layer} | Label: {seg_class} | Channel: {channel}\")\n",
    "    fig = plt.figure(figsize=(20, 10))\n",
    "    \n",
    "    fig.add_subplot(1, 2, 1)\n",
    "    plt.title(\"MRI_BRATS_488\", fontsize=20)\n",
    "    plt.imshow(mri[:, :, layer, channel], cmap='gray');\n",
    "    plt.axis('off')\n",
    "    \n",
    "    fig.add_subplot(1, 2, 2)\n",
    "    if seg_class == \"All\":\n",
    "        mask_model_prediction = prediction[:, :, layer]\n",
    "        plt.title(\"Model prediction mask\", fontsize=20)\n",
    "        plt.imshow(mask_model_prediction)\n",
    "        plt.axis('off');\n",
    "    else:\n",
    "        img_label = classes_dict[seg_class]\n",
    "        mask_model_prediction = np.where(prediction[:, :, layer] == img_label, 255, 0)\n",
    "        plt.title(\"Model prediction mask\", fontsize=20)\n",
    "        plt.imshow(mask_model_prediction, cmap='gray')\n",
    "        plt.axis('off');\n",
    "\n",
    "# Set channel to view:\n",
    "#  Channel 0: \"FLAIR\" Fluid-attenuated inversion recovery\n",
    "#  Channel 1: \"T1w\" T1-weighted\n",
    "#  Channel 2: \"t1gd\" T1-weighted with gadolinium contrast enhancement\n",
    "#  Channel 3: \"T2w\" T2-weighted    \n",
    "    \n",
    "# Use the interactive() tool to create the visualization\n",
    "interactive(plot, seg_class=select_class, layer=select_layer, channel=(0, 3))"
   ]
  },
  {
   "cell_type": "markdown",
   "id": "needed-coalition",
   "metadata": {},
   "source": [
    "### 2.2 Visualizing prediction on BRATS_490 file"
   ]
  },
  {
   "cell_type": "code",
   "execution_count": 82,
   "id": "stylish-phrase",
   "metadata": {},
   "outputs": [],
   "source": [
    "mri = nib.load(\"../datasets/Task01_BrainTumour/test_images_for_model_prediction_submission/BRATS_490.nii.gz\").get_fdata().astype(np.float32)"
   ]
  },
  {
   "cell_type": "code",
   "execution_count": 83,
   "id": "essential-proof",
   "metadata": {},
   "outputs": [
    {
     "data": {
      "text/plain": [
       "(240, 240, 155, 4)"
      ]
     },
     "execution_count": 83,
     "metadata": {},
     "output_type": "execute_result"
    }
   ],
   "source": [
    "mri.shape"
   ]
  },
  {
   "cell_type": "code",
   "execution_count": 84,
   "id": "arbitrary-behavior",
   "metadata": {},
   "outputs": [],
   "source": [
    "mri_temp = np.zeros((240, 240, 160, 4))\n",
    "mri_temp[:, :, :155, :] = mri[:, :, :]\n",
    "\n",
    "mri = mri_temp"
   ]
  },
  {
   "cell_type": "code",
   "execution_count": 85,
   "id": "sudden-minutes",
   "metadata": {},
   "outputs": [
    {
     "data": {
      "text/plain": [
       "(240, 240, 160, 4)"
      ]
     },
     "execution_count": 85,
     "metadata": {},
     "output_type": "execute_result"
    }
   ],
   "source": [
    "mri.shape"
   ]
  },
  {
   "cell_type": "code",
   "execution_count": 86,
   "id": "liable-little",
   "metadata": {},
   "outputs": [],
   "source": [
    "mri_standardized = standardize(mri)"
   ]
  },
  {
   "cell_type": "code",
   "execution_count": 87,
   "id": "composite-ghost",
   "metadata": {},
   "outputs": [],
   "source": [
    "mri_standardized = np.expand_dims(mri_standardized, axis=0)  # Keras models require an additional dimension of 'batch_size'"
   ]
  },
  {
   "cell_type": "code",
   "execution_count": 88,
   "id": "original-anthony",
   "metadata": {},
   "outputs": [],
   "source": [
    "prediction = model.predict(mri_standardized)"
   ]
  },
  {
   "cell_type": "code",
   "execution_count": 89,
   "id": "invalid-compact",
   "metadata": {},
   "outputs": [],
   "source": [
    "prediction = np.squeeze(prediction, axis=0)  # Remove 'batch_size' dimension"
   ]
  },
  {
   "cell_type": "code",
   "execution_count": 90,
   "id": "educational-fundamental",
   "metadata": {},
   "outputs": [
    {
     "data": {
      "text/plain": [
       "(240, 240, 160, 4)"
      ]
     },
     "execution_count": 90,
     "metadata": {},
     "output_type": "execute_result"
    }
   ],
   "source": [
    "prediction.shape"
   ]
  },
  {
   "cell_type": "code",
   "execution_count": 91,
   "id": "centered-bottom",
   "metadata": {},
   "outputs": [
    {
     "data": {
      "text/plain": [
       "numpy.ndarray"
      ]
     },
     "execution_count": 91,
     "metadata": {},
     "output_type": "execute_result"
    }
   ],
   "source": [
    "type(prediction)"
   ]
  },
  {
   "cell_type": "code",
   "execution_count": 92,
   "id": "scenic-wisdom",
   "metadata": {},
   "outputs": [],
   "source": [
    "prediction = np.argmax(prediction, axis=3)"
   ]
  },
  {
   "cell_type": "code",
   "execution_count": 93,
   "id": "talented-warren",
   "metadata": {},
   "outputs": [
    {
     "data": {
      "text/plain": [
       "(240, 240, 160)"
      ]
     },
     "execution_count": 93,
     "metadata": {},
     "output_type": "execute_result"
    }
   ],
   "source": [
    "prediction.shape"
   ]
  },
  {
   "cell_type": "code",
   "execution_count": 94,
   "id": "fossil-bicycle",
   "metadata": {},
   "outputs": [],
   "source": [
    "mri = mri[:, :, :155, :]\n",
    "prediction = prediction[:, :, :155]"
   ]
  },
  {
   "cell_type": "code",
   "execution_count": 95,
   "id": "awful-dining",
   "metadata": {},
   "outputs": [
    {
     "data": {
      "text/plain": [
       "(240, 240, 155)"
      ]
     },
     "execution_count": 95,
     "metadata": {},
     "output_type": "execute_result"
    }
   ],
   "source": [
    "prediction.shape"
   ]
  },
  {
   "cell_type": "code",
   "execution_count": 96,
   "id": "tight-constant",
   "metadata": {},
   "outputs": [
    {
     "data": {
      "text/plain": [
       "array([0, 1, 2, 3])"
      ]
     },
     "execution_count": 96,
     "metadata": {},
     "output_type": "execute_result"
    }
   ],
   "source": [
    "np.unique(prediction)"
   ]
  },
  {
   "cell_type": "markdown",
   "id": "diagnostic-raising",
   "metadata": {},
   "source": [
    "#### Model prediction number of labels (no available masks)"
   ]
  },
  {
   "cell_type": "code",
   "execution_count": 97,
   "id": "dominant-expert",
   "metadata": {},
   "outputs": [
    {
     "name": "stdout",
     "output_type": "stream",
     "text": [
      "Background - class 0\n",
      "8735937\n",
      "--------\n",
      "Edema - class 1\n",
      "109736\n",
      "--------\n",
      "Non-Enhancing-Tumor - class 2\n",
      "33273\n",
      "--------\n",
      "Enhancing-Tumor - class 3\n",
      "49054\n"
     ]
    }
   ],
   "source": [
    "# Number of labels per class in model prediction\n",
    "print(\"Background - class 0\")\n",
    "print(len(prediction[prediction == 0])) \n",
    "print(\"--------\")\n",
    "print(\"Edema - class 1\")\n",
    "print(len(prediction[prediction == 1]))\n",
    "print(\"--------\")\n",
    "print(\"Non-Enhancing-Tumor - class 2\")\n",
    "print(len(prediction[prediction == 2]))\n",
    "print(\"--------\")\n",
    "print(\"Enhancing-Tumor - class 3\")\n",
    "print(len(prediction[prediction == 3])) "
   ]
  },
  {
   "cell_type": "code",
   "execution_count": 98,
   "id": "greenhouse-breakfast",
   "metadata": {
    "scrolled": false
   },
   "outputs": [
    {
     "data": {
      "application/vnd.jupyter.widget-view+json": {
       "model_id": "68a8e5dace434eff8f9ee0eee4fe7496",
       "version_major": 2,
       "version_minor": 0
      },
      "text/plain": [
       "interactive(children=(ToggleButtons(button_style='info', description='Select Class:', options=('Background', '…"
      ]
     },
     "metadata": {},
     "output_type": "display_data"
    }
   ],
   "source": [
    "classes_dict = {\n",
    "    'Background': 0,\n",
    "    'Edema': 1,\n",
    "    'Non-enhancing tumor': 2,\n",
    "    'Enhancing tumor': 3 \n",
    "}\n",
    "\n",
    "# Create button values\n",
    "select_class = ToggleButtons(\n",
    "    options=['Background','Edema', 'Non-enhancing tumor', 'Enhancing tumor', 'All'],\n",
    "    description='Select Class:',\n",
    "    disabled=False,\n",
    "    button_style='info', \n",
    "    \n",
    ")\n",
    "# Create layer slider\n",
    "select_layer = IntSlider(min=0, max=mri.shape[2] - 1, description='Select Layer', continuous_update=False)\n",
    "\n",
    "    \n",
    "# Define a function for plotting images\n",
    "def plot(seg_class, layer, channel):\n",
    "    print(f\"Plotting Layer: {layer} | Label: {seg_class} | Channel: {channel}\")\n",
    "    fig = plt.figure(figsize=(20, 10))\n",
    "    \n",
    "    fig.add_subplot(1, 2, 1)\n",
    "    plt.title(\"MRI_BRATS_490\", fontsize=20)\n",
    "    plt.imshow(mri[:, :, layer, channel], cmap='gray');\n",
    "    plt.axis('off')\n",
    "    \n",
    "    fig.add_subplot(1, 2, 2)\n",
    "    if seg_class == \"All\":\n",
    "        mask_model_prediction = prediction[:, :, layer]\n",
    "        plt.title(\"Model prediction mask\", fontsize=20)\n",
    "        plt.imshow(mask_model_prediction)\n",
    "        plt.axis('off');\n",
    "    else:\n",
    "        img_label = classes_dict[seg_class]\n",
    "        mask_model_prediction = np.where(prediction[:, :, layer] == img_label, 255, 0)\n",
    "        plt.title(\"Model prediction mask\", fontsize=20)\n",
    "        plt.imshow(mask_model_prediction, cmap='gray')\n",
    "        plt.axis('off');\n",
    "\n",
    "# Set channel to view:\n",
    "#  Channel 0: \"FLAIR\" Fluid-attenuated inversion recovery\n",
    "#  Channel 1: \"T1w\" T1-weighted\n",
    "#  Channel 2: \"t1gd\" T1-weighted with gadolinium contrast enhancement\n",
    "#  Channel 3: \"T2w\" T2-weighted    \n",
    "    \n",
    "# Use the interactive() tool to create the visualization\n",
    "interactive(plot, seg_class=select_class, layer=select_layer, channel=(0, 3))"
   ]
  },
  {
   "cell_type": "code",
   "execution_count": null,
   "id": "hired-complexity",
   "metadata": {},
   "outputs": [],
   "source": []
  }
 ],
 "metadata": {
  "kernelspec": {
   "display_name": "Python 3",
   "language": "python",
   "name": "python3"
  },
  "language_info": {
   "codemirror_mode": {
    "name": "ipython",
    "version": 3
   },
   "file_extension": ".py",
   "mimetype": "text/x-python",
   "name": "python",
   "nbconvert_exporter": "python",
   "pygments_lexer": "ipython3",
   "version": "3.7.10"
  }
 },
 "nbformat": 4,
 "nbformat_minor": 5
}
