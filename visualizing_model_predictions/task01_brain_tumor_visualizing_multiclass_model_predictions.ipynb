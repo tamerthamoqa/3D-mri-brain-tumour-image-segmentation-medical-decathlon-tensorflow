{
 "cells": [
  {
   "cell_type": "code",
   "execution_count": 1,
   "id": "premier-enzyme",
   "metadata": {},
   "outputs": [],
   "source": [
    "import numpy as np\n",
    "import nibabel as nib\n",
    "import matplotlib.pyplot as plt\n",
    "from ipywidgets import interact, interactive, IntSlider, ToggleButtons\n",
    "from tensorflow.keras.models import load_model\n",
    "\n",
    "# Custom objects required for loading the U-Net segmentation models\n",
    "import sys \n",
    "sys.path.append('../..')\n",
    "from segmentation_losses import (\n",
    "    dice_coefficient,\n",
    "    dice_loss,\n",
    "    log_cosh_dice_loss,\n",
    "    iou\n",
    ")"
   ]
  },
  {
   "cell_type": "code",
   "execution_count": 2,
   "id": "valuable-suspect",
   "metadata": {},
   "outputs": [],
   "source": [
    "model = load_model(\n",
    "    \"../trained_models/task01_braintumour_unet_3d_segmentation_model.h5\",\n",
    "    custom_objects={\n",
    "        \"log_cosh_dice_loss\": log_cosh_dice_loss,\n",
    "        \"dice_coefficient\": dice_coefficient,\n",
    "        \"iou\": iou\n",
    "    }\n",
    ")"
   ]
  },
  {
   "cell_type": "code",
   "execution_count": 3,
   "id": "quiet-richards",
   "metadata": {},
   "outputs": [],
   "source": [
    "def standardize(mri):\n",
    "    \"\"\"\n",
    "    Standardize mean and standard deviation of each channel and z_dimension slice to mean 0 and standard \n",
    "     deviation 1.\n",
    "\n",
    "    Note: setting the type of the input mri to np.float16 beforehand causes issues, set it afterwards.\n",
    "\n",
    "    Args:\n",
    "        mri (np.array): input mri, shape (dim_x, dim_y, dim_z, num_channels)\n",
    "    Returns:\n",
    "        standardized_mri (np.array): standardized version of input mri\n",
    "    \"\"\"\n",
    "\n",
    "    standardized_mri = np.zeros(mri.shape)\n",
    "\n",
    "    # Iterate over channels\n",
    "    for c in range(mri.shape[3]):\n",
    "        # Iterate over the `z` depth dimension\n",
    "        for z in range(mri.shape[2]):\n",
    "            # Get a slice of the mri at channel c and z-th dimension\n",
    "            mri_slice = mri[:, :, z, c]\n",
    "\n",
    "            # Subtract the mean from mri_slice\n",
    "            centered = mri_slice - np.mean(mri_slice)\n",
    "\n",
    "            # Divide by the standard deviation (only if it is different from zero)\n",
    "            if np.std(centered) != 0:\n",
    "                centered_scaled = centered / np.std(centered)\n",
    "\n",
    "                # Update the slice of standardized mri with the centered and scaled mri\n",
    "                standardized_mri[:, :, z, c] = centered_scaled\n",
    "\n",
    "    return standardized_mri"
   ]
  },
  {
   "cell_type": "markdown",
   "id": "returning-robertson",
   "metadata": {},
   "source": [
    "### 1. Visualizing predictions on validation set images"
   ]
  },
  {
   "cell_type": "markdown",
   "id": "7087994f-8541-4cb0-a9c2-2b404a3eeb34",
   "metadata": {},
   "source": [
    "### 1.1. Visualizing prediction on BRATS_389 file"
   ]
  },
  {
   "cell_type": "code",
   "execution_count": 4,
   "id": "interior-dallas",
   "metadata": {},
   "outputs": [],
   "source": [
    "mri = nib.load(\"../datasets/Task01_BrainTumour_240x240x160x4/val/images/BRATS_389.nii.gz\").get_fdata().astype(np.float32)"
   ]
  },
  {
   "cell_type": "code",
   "execution_count": 5,
   "id": "diverse-dayton",
   "metadata": {},
   "outputs": [],
   "source": [
    "mask = nib.load(\"../datasets/Task01_BrainTumour_240x240x160x4/val/masks/BRATS_389.nii.gz\").get_fdata().astype(np.uint8)"
   ]
  },
  {
   "cell_type": "code",
   "execution_count": 6,
   "id": "treated-demand",
   "metadata": {},
   "outputs": [
    {
     "data": {
      "text/plain": [
       "(240, 240, 160)"
      ]
     },
     "execution_count": 6,
     "metadata": {},
     "output_type": "execute_result"
    }
   ],
   "source": [
    "mask.shape"
   ]
  },
  {
   "cell_type": "code",
   "execution_count": 7,
   "id": "about-hollow",
   "metadata": {},
   "outputs": [],
   "source": [
    "mri_standardized = standardize(mri)"
   ]
  },
  {
   "cell_type": "code",
   "execution_count": 8,
   "id": "ceramic-static",
   "metadata": {},
   "outputs": [],
   "source": [
    "mri_standardized = np.expand_dims(mri_standardized, axis=0)  # Keras models require an additional dimension of 'batch_size'"
   ]
  },
  {
   "cell_type": "code",
   "execution_count": 9,
   "id": "conscious-renaissance",
   "metadata": {},
   "outputs": [],
   "source": [
    "prediction = model.predict(mri_standardized)"
   ]
  },
  {
   "cell_type": "code",
   "execution_count": 10,
   "id": "attempted-letters",
   "metadata": {},
   "outputs": [],
   "source": [
    "prediction = np.squeeze(prediction, axis=0)  # Remove 'batch_size' dimension"
   ]
  },
  {
   "cell_type": "code",
   "execution_count": 11,
   "id": "bearing-tribute",
   "metadata": {},
   "outputs": [
    {
     "data": {
      "text/plain": [
       "(240, 240, 160, 4)"
      ]
     },
     "execution_count": 11,
     "metadata": {},
     "output_type": "execute_result"
    }
   ],
   "source": [
    "prediction.shape"
   ]
  },
  {
   "cell_type": "code",
   "execution_count": null,
   "id": "automatic-prescription",
   "metadata": {},
   "outputs": [],
   "source": [
    "prediction"
   ]
  },
  {
   "cell_type": "code",
   "execution_count": 13,
   "id": "concrete-moses",
   "metadata": {},
   "outputs": [
    {
     "data": {
      "text/plain": [
       "numpy.ndarray"
      ]
     },
     "execution_count": 13,
     "metadata": {},
     "output_type": "execute_result"
    }
   ],
   "source": [
    "type(prediction)"
   ]
  },
  {
   "cell_type": "code",
   "execution_count": 14,
   "id": "secure-style",
   "metadata": {},
   "outputs": [],
   "source": [
    "prediction = np.argmax(prediction, axis=3)"
   ]
  },
  {
   "cell_type": "code",
   "execution_count": 15,
   "id": "atlantic-friday",
   "metadata": {},
   "outputs": [
    {
     "data": {
      "text/plain": [
       "(240, 240, 160)"
      ]
     },
     "execution_count": 15,
     "metadata": {},
     "output_type": "execute_result"
    }
   ],
   "source": [
    "prediction.shape"
   ]
  },
  {
   "cell_type": "code",
   "execution_count": 16,
   "id": "stainless-dietary",
   "metadata": {},
   "outputs": [
    {
     "data": {
      "text/plain": [
       "array([0, 1, 2, 3])"
      ]
     },
     "execution_count": 16,
     "metadata": {},
     "output_type": "execute_result"
    }
   ],
   "source": [
    "np.unique(prediction)"
   ]
  },
  {
   "cell_type": "markdown",
   "id": "7b11d199-3c0d-4a7f-b0fd-0a7b9ce062f8",
   "metadata": {},
   "source": [
    "#### Model prediction vs groundtruth number of labels"
   ]
  },
  {
   "cell_type": "code",
   "execution_count": 17,
   "id": "hungry-schema",
   "metadata": {},
   "outputs": [
    {
     "name": "stdout",
     "output_type": "stream",
     "text": [
      "Background - class 0\n",
      "9179123\n",
      "--------\n",
      "Edema - class 1\n",
      "23876\n",
      "--------\n",
      "Non-Enhancing-Tumor - class 2\n",
      "3064\n",
      "--------\n",
      "Enhancing-Tumor - class 3\n",
      "9937\n"
     ]
    }
   ],
   "source": [
    "# Number of labels per class in model prediction\n",
    "print(\"Background - class 0\")\n",
    "print(len(prediction[prediction == 0])) \n",
    "print(\"--------\")\n",
    "print(\"Edema - class 1\")\n",
    "print(len(prediction[prediction == 1]))\n",
    "print(\"--------\")\n",
    "print(\"Non-Enhancing-Tumor - class 2\")\n",
    "print(len(prediction[prediction == 2]))\n",
    "print(\"--------\")\n",
    "print(\"Enhancing-Tumor - class 3\")\n",
    "print(len(prediction[prediction == 3])) "
   ]
  },
  {
   "cell_type": "code",
   "execution_count": 18,
   "id": "beautiful-puzzle",
   "metadata": {},
   "outputs": [
    {
     "name": "stdout",
     "output_type": "stream",
     "text": [
      "Background - class 0\n",
      "9178172\n",
      "--------\n",
      "Edema - class 1\n",
      "25665\n",
      "--------\n",
      "Non-Enhancing-Tumor - class 2\n",
      "3169\n",
      "--------\n",
      "Enhancing-Tumor - class 3\n",
      "8994\n"
     ]
    }
   ],
   "source": [
    "# Number of labels per class in ground truth mask\n",
    "print(\"Background - class 0\")\n",
    "print(len(mask[mask == 0]))\n",
    "print(\"--------\")\n",
    "print(\"Edema - class 1\")\n",
    "print(len(mask[mask == 1]))\n",
    "print(\"--------\")\n",
    "print(\"Non-Enhancing-Tumor - class 2\")\n",
    "print(len(mask[mask == 2]))\n",
    "print(\"--------\")\n",
    "print(\"Enhancing-Tumor - class 3\")\n",
    "print(len(mask[mask == 3]))"
   ]
  },
  {
   "cell_type": "code",
   "execution_count": 19,
   "id": "academic-samoa",
   "metadata": {},
   "outputs": [
    {
     "data": {
      "application/vnd.jupyter.widget-view+json": {
       "model_id": "",
       "version_major": 2,
       "version_minor": 0
      },
      "text/plain": [
       "interactive(children=(ToggleButtons(button_style='info', description='Select Class:', options=('Background', '…"
      ]
     },
     "metadata": {},
     "output_type": "display_data"
    }
   ],
   "source": [
    "classes_dict = {\n",
    "    'Background': 0,\n",
    "    'Edema': 1,\n",
    "    'Non-enhancing tumor': 2,\n",
    "    'Enhancing tumor': 3 \n",
    "}\n",
    "\n",
    "# Create button values\n",
    "select_class = ToggleButtons(\n",
    "    options=['Background','Edema', 'Non-enhancing tumor', 'Enhancing tumor', 'All'],\n",
    "    description='Select Class:',\n",
    "    disabled=False,\n",
    "    button_style='info', \n",
    "    \n",
    ")\n",
    "# Create layer slider\n",
    "select_layer = IntSlider(min=0, max=mri.shape[2] - 1, description='Select Layer', continuous_update=False)\n",
    "\n",
    "    \n",
    "# Define a function for plotting images\n",
    "def plot(seg_class, layer, channel):\n",
    "    print(f\"Plotting Layer: {layer} | Label: {seg_class} | Channel: {channel}\")\n",
    "    fig = plt.figure(figsize=(20, 10))\n",
    "    \n",
    "    fig.add_subplot(1, 3, 1)\n",
    "    plt.title(\"MRI_BRATS_389\", fontsize=20)\n",
    "    plt.imshow(mri[:, :, layer, channel], cmap='gray');\n",
    "    plt.axis('off')\n",
    "    \n",
    "    fig.add_subplot(1, 3, 2)\n",
    "    if seg_class == \"All\":\n",
    "        mask_groundtruth = mask[:, :, layer]\n",
    "        plt.title(\"Groundtruth mask\", fontsize=20)\n",
    "        plt.imshow(mask_groundtruth)\n",
    "        plt.axis('off');\n",
    "    else:\n",
    "        img_label = classes_dict[seg_class]\n",
    "        mask_groundtruth = np.where(mask[:, :, layer] == img_label, 255, 0)\n",
    "        plt.title(\"Groundtruth mask\", fontsize=20)\n",
    "        plt.imshow(mask_groundtruth, cmap='gray')\n",
    "        plt.axis('off');\n",
    "    \n",
    "    fig.add_subplot(1, 3, 3)\n",
    "    if seg_class == \"All\":\n",
    "        mask_model_prediction = prediction[:, :, layer]\n",
    "        plt.title(\"Model prediction mask\", fontsize=20)\n",
    "        plt.imshow(mask_model_prediction)\n",
    "        plt.axis('off');\n",
    "    else:\n",
    "        img_label = classes_dict[seg_class]\n",
    "        mask_model_prediction = np.where(prediction[:, :, layer] == img_label, 255, 0)\n",
    "        plt.title(\"Model prediction mask\", fontsize=20)\n",
    "        plt.imshow(mask_model_prediction, cmap='gray')\n",
    "        plt.axis('off');\n",
    "\n",
    "# Set channel to view:\n",
    "#  Channel 0: \"FLAIR\" Fluid-attenuated inversion recovery\n",
    "#  Channel 1: \"T1w\" T1-weighted\n",
    "#  Channel 2: \"t1gd\" T1-weighted with gadolinium contrast enhancement\n",
    "#  Channel 3: \"T2w\" T2-weighted    \n",
    "    \n",
    "# Use the interactive() tool to create the visualization\n",
    "interactive(plot, seg_class=select_class, layer=select_layer, channel=(0, 3))"
   ]
  },
  {
   "cell_type": "markdown",
   "id": "corporate-housing",
   "metadata": {},
   "source": [
    "### 1.2 Visualizing prediction on BRATS_390 file"
   ]
  },
  {
   "cell_type": "code",
   "execution_count": 20,
   "id": "stunning-vintage",
   "metadata": {},
   "outputs": [],
   "source": [
    "mri = nib.load(\"../datasets/Task01_BrainTumour_240x240x160x4/val/images/BRATS_390.nii.gz\").get_fdata().astype(np.float32)"
   ]
  },
  {
   "cell_type": "code",
   "execution_count": 21,
   "id": "variable-directive",
   "metadata": {},
   "outputs": [],
   "source": [
    "mask = nib.load(\"../datasets/Task01_BrainTumour_240x240x160x4/val/masks/BRATS_390.nii.gz\").get_fdata().astype(np.uint8)"
   ]
  },
  {
   "cell_type": "code",
   "execution_count": 22,
   "id": "black-arizona",
   "metadata": {},
   "outputs": [
    {
     "data": {
      "text/plain": [
       "(240, 240, 160)"
      ]
     },
     "execution_count": 22,
     "metadata": {},
     "output_type": "execute_result"
    }
   ],
   "source": [
    "mask.shape"
   ]
  },
  {
   "cell_type": "code",
   "execution_count": 23,
   "id": "rising-burlington",
   "metadata": {},
   "outputs": [],
   "source": [
    "mri_standardized = standardize(mri)"
   ]
  },
  {
   "cell_type": "code",
   "execution_count": 24,
   "id": "becoming-appearance",
   "metadata": {},
   "outputs": [],
   "source": [
    "mri_standardized = np.expand_dims(mri_standardized, axis=0)  # Keras models require an additional dimension of 'batch_size'"
   ]
  },
  {
   "cell_type": "code",
   "execution_count": 25,
   "id": "operational-encyclopedia",
   "metadata": {},
   "outputs": [],
   "source": [
    "prediction = model.predict(mri_standardized)"
   ]
  },
  {
   "cell_type": "code",
   "execution_count": 26,
   "id": "recognized-transportation",
   "metadata": {},
   "outputs": [],
   "source": [
    "prediction = np.squeeze(prediction, axis=0)  # Remove 'batch_size' dimension"
   ]
  },
  {
   "cell_type": "code",
   "execution_count": 27,
   "id": "civil-anderson",
   "metadata": {},
   "outputs": [
    {
     "data": {
      "text/plain": [
       "(240, 240, 160, 4)"
      ]
     },
     "execution_count": 27,
     "metadata": {},
     "output_type": "execute_result"
    }
   ],
   "source": [
    "prediction.shape"
   ]
  },
  {
   "cell_type": "code",
   "execution_count": 29,
   "id": "pending-progressive",
   "metadata": {},
   "outputs": [
    {
     "data": {
      "text/plain": [
       "numpy.ndarray"
      ]
     },
     "execution_count": 29,
     "metadata": {},
     "output_type": "execute_result"
    }
   ],
   "source": [
    "type(prediction)"
   ]
  },
  {
   "cell_type": "code",
   "execution_count": 30,
   "id": "composite-defeat",
   "metadata": {},
   "outputs": [],
   "source": [
    "prediction = np.argmax(prediction, axis=3)"
   ]
  },
  {
   "cell_type": "code",
   "execution_count": 31,
   "id": "comic-helicopter",
   "metadata": {},
   "outputs": [
    {
     "data": {
      "text/plain": [
       "(240, 240, 160)"
      ]
     },
     "execution_count": 31,
     "metadata": {},
     "output_type": "execute_result"
    }
   ],
   "source": [
    "prediction.shape"
   ]
  },
  {
   "cell_type": "code",
   "execution_count": 32,
   "id": "level-notice",
   "metadata": {},
   "outputs": [
    {
     "data": {
      "text/plain": [
       "array([0, 1, 2, 3])"
      ]
     },
     "execution_count": 32,
     "metadata": {},
     "output_type": "execute_result"
    }
   ],
   "source": [
    "np.unique(prediction)"
   ]
  },
  {
   "cell_type": "markdown",
   "id": "serious-rating",
   "metadata": {},
   "source": [
    "#### Model prediction vs groundtruth number of labels"
   ]
  },
  {
   "cell_type": "code",
   "execution_count": 33,
   "id": "permanent-master",
   "metadata": {},
   "outputs": [
    {
     "name": "stdout",
     "output_type": "stream",
     "text": [
      "Background - class 0\n",
      "9173289\n",
      "--------\n",
      "Edema - class 1\n",
      "32362\n",
      "--------\n",
      "Non-Enhancing-Tumor - class 2\n",
      "2059\n",
      "--------\n",
      "Enhancing-Tumor - class 3\n",
      "8290\n"
     ]
    }
   ],
   "source": [
    "# Number of labels per class in model prediction\n",
    "print(\"Background - class 0\")\n",
    "print(len(prediction[prediction == 0])) \n",
    "print(\"--------\")\n",
    "print(\"Edema - class 1\")\n",
    "print(len(prediction[prediction == 1]))\n",
    "print(\"--------\")\n",
    "print(\"Non-Enhancing-Tumor - class 2\")\n",
    "print(len(prediction[prediction == 2]))\n",
    "print(\"--------\")\n",
    "print(\"Enhancing-Tumor - class 3\")\n",
    "print(len(prediction[prediction == 3])) "
   ]
  },
  {
   "cell_type": "code",
   "execution_count": 34,
   "id": "wrong-buffalo",
   "metadata": {},
   "outputs": [
    {
     "name": "stdout",
     "output_type": "stream",
     "text": [
      "Background - class 0\n",
      "9185510\n",
      "--------\n",
      "Edema - class 1\n",
      "19594\n",
      "--------\n",
      "Non-Enhancing-Tumor - class 2\n",
      "2287\n",
      "--------\n",
      "Enhancing-Tumor - class 3\n",
      "8609\n"
     ]
    }
   ],
   "source": [
    "# Number of labels per class in ground truth mask\n",
    "print(\"Background - class 0\")\n",
    "print(len(mask[mask == 0]))\n",
    "print(\"--------\")\n",
    "print(\"Edema - class 1\")\n",
    "print(len(mask[mask == 1]))\n",
    "print(\"--------\")\n",
    "print(\"Non-Enhancing-Tumor - class 2\")\n",
    "print(len(mask[mask == 2]))\n",
    "print(\"--------\")\n",
    "print(\"Enhancing-Tumor - class 3\")\n",
    "print(len(mask[mask == 3]))"
   ]
  },
  {
   "cell_type": "code",
   "execution_count": 36,
   "id": "fifty-discipline",
   "metadata": {},
   "outputs": [
    {
     "data": {
      "application/vnd.jupyter.widget-view+json": {
       "model_id": "23126662544b4bdaa649667375202663",
       "version_major": 2,
       "version_minor": 0
      },
      "text/plain": [
       "interactive(children=(ToggleButtons(button_style='info', description='Select Class:', options=('Background', '…"
      ]
     },
     "metadata": {},
     "output_type": "display_data"
    }
   ],
   "source": [
    "classes_dict = {\n",
    "    'Background': 0,\n",
    "    'Edema': 1,\n",
    "    'Non-enhancing tumor': 2,\n",
    "    'Enhancing tumor': 3 \n",
    "}\n",
    "\n",
    "# Create button values\n",
    "select_class = ToggleButtons(\n",
    "    options=['Background','Edema', 'Non-enhancing tumor', 'Enhancing tumor', 'All'],\n",
    "    description='Select Class:',\n",
    "    disabled=False,\n",
    "    button_style='info', \n",
    "    \n",
    ")\n",
    "# Create layer slider\n",
    "select_layer = IntSlider(min=0, max=mri.shape[2] - 1, description='Select Layer', continuous_update=False)\n",
    "\n",
    "    \n",
    "# Define a function for plotting images\n",
    "def plot(seg_class, layer, channel):\n",
    "    print(f\"Plotting Layer: {layer} | Label: {seg_class} | Channel: {channel}\")\n",
    "    fig = plt.figure(figsize=(20, 10))\n",
    "    \n",
    "    fig.add_subplot(1, 3, 1)\n",
    "    plt.title(\"MRI_BRATS_390\", fontsize=20)\n",
    "    plt.imshow(mri[:, :, layer, channel], cmap='gray');\n",
    "    plt.axis('off')\n",
    "    \n",
    "    fig.add_subplot(1, 3, 2)\n",
    "    if seg_class == \"All\":\n",
    "        mask_groundtruth = mask[:, :, layer]\n",
    "        plt.title(\"Groundtruth mask\", fontsize=20)\n",
    "        plt.imshow(mask_groundtruth)\n",
    "        plt.axis('off');\n",
    "    else:\n",
    "        img_label = classes_dict[seg_class]\n",
    "        mask_groundtruth = np.where(mask[:, :, layer] == img_label, 255, 0)\n",
    "        plt.title(\"Groundtruth mask\", fontsize=20)\n",
    "        plt.imshow(mask_groundtruth, cmap='gray')\n",
    "        plt.axis('off');\n",
    "    \n",
    "    fig.add_subplot(1, 3, 3)\n",
    "    if seg_class == \"All\":\n",
    "        mask_model_prediction = prediction[:, :, layer]\n",
    "        plt.title(\"Model prediction mask\", fontsize=20)\n",
    "        plt.imshow(mask_model_prediction)\n",
    "        plt.axis('off');\n",
    "    else:\n",
    "        img_label = classes_dict[seg_class]\n",
    "        mask_model_prediction = np.where(prediction[:, :, layer] == img_label, 255, 0)\n",
    "        plt.title(\"Model prediction mask\", fontsize=20)\n",
    "        plt.imshow(mask_model_prediction, cmap='gray')\n",
    "        plt.axis('off');\n",
    "\n",
    "# Set channel to view:\n",
    "#  Channel 0: \"FLAIR\" Fluid-attenuated inversion recovery\n",
    "#  Channel 1: \"T1w\" T1-weighted\n",
    "#  Channel 2: \"t1gd\" T1-weighted with gadolinium contrast enhancement\n",
    "#  Channel 3: \"T2w\" T2-weighted    \n",
    "    \n",
    "# Use the interactive() tool to create the visualization\n",
    "interactive(plot, seg_class=select_class, layer=select_layer, channel=(0, 3))"
   ]
  },
  {
   "cell_type": "markdown",
   "id": "raising-latvia",
   "metadata": {},
   "source": [
    "### 1.3 Visualizing prediction on BRATS_391 file"
   ]
  },
  {
   "cell_type": "code",
   "execution_count": 37,
   "id": "quiet-switzerland",
   "metadata": {},
   "outputs": [],
   "source": [
    "mri = nib.load(\"../datasets/Task01_BrainTumour_240x240x160x4/val/images/BRATS_391.nii.gz\").get_fdata().astype(np.float32)"
   ]
  },
  {
   "cell_type": "code",
   "execution_count": 38,
   "id": "quarterly-cambodia",
   "metadata": {},
   "outputs": [],
   "source": [
    "mask = nib.load(\"../datasets/Task01_BrainTumour_240x240x160x4/val/masks/BRATS_391.nii.gz\").get_fdata().astype(np.uint8)"
   ]
  },
  {
   "cell_type": "code",
   "execution_count": 39,
   "id": "lyric-humor",
   "metadata": {},
   "outputs": [
    {
     "data": {
      "text/plain": [
       "(240, 240, 160)"
      ]
     },
     "execution_count": 39,
     "metadata": {},
     "output_type": "execute_result"
    }
   ],
   "source": [
    "mask.shape"
   ]
  },
  {
   "cell_type": "code",
   "execution_count": 40,
   "id": "solid-absorption",
   "metadata": {},
   "outputs": [],
   "source": [
    "mri_standardized = standardize(mri)"
   ]
  },
  {
   "cell_type": "code",
   "execution_count": 41,
   "id": "quality-mills",
   "metadata": {},
   "outputs": [],
   "source": [
    "mri_standardized = np.expand_dims(mri_standardized, axis=0)  # Keras models require an additional dimension of 'batch_size'"
   ]
  },
  {
   "cell_type": "code",
   "execution_count": 42,
   "id": "julian-yacht",
   "metadata": {},
   "outputs": [],
   "source": [
    "prediction = model.predict(mri_standardized)"
   ]
  },
  {
   "cell_type": "code",
   "execution_count": 43,
   "id": "published-trade",
   "metadata": {},
   "outputs": [],
   "source": [
    "prediction = np.squeeze(prediction, axis=0)  # Remove 'batch_size' dimension"
   ]
  },
  {
   "cell_type": "code",
   "execution_count": 44,
   "id": "announced-brave",
   "metadata": {},
   "outputs": [
    {
     "data": {
      "text/plain": [
       "(240, 240, 160, 4)"
      ]
     },
     "execution_count": 44,
     "metadata": {},
     "output_type": "execute_result"
    }
   ],
   "source": [
    "prediction.shape"
   ]
  },
  {
   "cell_type": "code",
   "execution_count": 46,
   "id": "particular-geography",
   "metadata": {},
   "outputs": [
    {
     "data": {
      "text/plain": [
       "numpy.ndarray"
      ]
     },
     "execution_count": 46,
     "metadata": {},
     "output_type": "execute_result"
    }
   ],
   "source": [
    "type(prediction)"
   ]
  },
  {
   "cell_type": "code",
   "execution_count": 47,
   "id": "introductory-stage",
   "metadata": {},
   "outputs": [],
   "source": [
    "prediction = np.argmax(prediction, axis=3)"
   ]
  },
  {
   "cell_type": "code",
   "execution_count": 48,
   "id": "anticipated-basket",
   "metadata": {},
   "outputs": [
    {
     "data": {
      "text/plain": [
       "(240, 240, 160)"
      ]
     },
     "execution_count": 48,
     "metadata": {},
     "output_type": "execute_result"
    }
   ],
   "source": [
    "prediction.shape"
   ]
  },
  {
   "cell_type": "code",
   "execution_count": 49,
   "id": "sensitive-marketplace",
   "metadata": {},
   "outputs": [
    {
     "data": {
      "text/plain": [
       "array([0, 1, 2, 3])"
      ]
     },
     "execution_count": 49,
     "metadata": {},
     "output_type": "execute_result"
    }
   ],
   "source": [
    "np.unique(prediction)"
   ]
  },
  {
   "cell_type": "markdown",
   "id": "injured-cooper",
   "metadata": {},
   "source": [
    "#### Model prediction vs groundtruth number of labels"
   ]
  },
  {
   "cell_type": "code",
   "execution_count": 50,
   "id": "collectible-above",
   "metadata": {},
   "outputs": [
    {
     "name": "stdout",
     "output_type": "stream",
     "text": [
      "Background - class 0\n",
      "9123505\n",
      "--------\n",
      "Edema - class 1\n",
      "49013\n",
      "--------\n",
      "Non-Enhancing-Tumor - class 2\n",
      "14481\n",
      "--------\n",
      "Enhancing-Tumor - class 3\n",
      "29001\n"
     ]
    }
   ],
   "source": [
    "# Number of labels per class in model prediction\n",
    "print(\"Background - class 0\")\n",
    "print(len(prediction[prediction == 0])) \n",
    "print(\"--------\")\n",
    "print(\"Edema - class 1\")\n",
    "print(len(prediction[prediction == 1]))\n",
    "print(\"--------\")\n",
    "print(\"Non-Enhancing-Tumor - class 2\")\n",
    "print(len(prediction[prediction == 2]))\n",
    "print(\"--------\")\n",
    "print(\"Enhancing-Tumor - class 3\")\n",
    "print(len(prediction[prediction == 3])) "
   ]
  },
  {
   "cell_type": "code",
   "execution_count": 51,
   "id": "opponent-pontiac",
   "metadata": {},
   "outputs": [
    {
     "name": "stdout",
     "output_type": "stream",
     "text": [
      "Background - class 0\n",
      "9134153\n",
      "--------\n",
      "Edema - class 1\n",
      "44701\n",
      "--------\n",
      "Non-Enhancing-Tumor - class 2\n",
      "3614\n",
      "--------\n",
      "Enhancing-Tumor - class 3\n",
      "33532\n"
     ]
    }
   ],
   "source": [
    "# Number of labels per class in ground truth mask\n",
    "print(\"Background - class 0\")\n",
    "print(len(mask[mask == 0]))\n",
    "print(\"--------\")\n",
    "print(\"Edema - class 1\")\n",
    "print(len(mask[mask == 1]))\n",
    "print(\"--------\")\n",
    "print(\"Non-Enhancing-Tumor - class 2\")\n",
    "print(len(mask[mask == 2]))\n",
    "print(\"--------\")\n",
    "print(\"Enhancing-Tumor - class 3\")\n",
    "print(len(mask[mask == 3]))"
   ]
  },
  {
   "cell_type": "code",
   "execution_count": 52,
   "id": "speaking-falls",
   "metadata": {},
   "outputs": [
    {
     "data": {
      "application/vnd.jupyter.widget-view+json": {
       "model_id": "",
       "version_major": 2,
       "version_minor": 0
      },
      "text/plain": [
       "interactive(children=(ToggleButtons(button_style='info', description='Select Class:', options=('Background', '…"
      ]
     },
     "metadata": {},
     "output_type": "display_data"
    }
   ],
   "source": [
    "classes_dict = {\n",
    "    'Background': 0,\n",
    "    'Edema': 1,\n",
    "    'Non-enhancing tumor': 2,\n",
    "    'Enhancing tumor': 3 \n",
    "}\n",
    "\n",
    "# Create button values\n",
    "select_class = ToggleButtons(\n",
    "    options=['Background','Edema', 'Non-enhancing tumor', 'Enhancing tumor', 'All'],\n",
    "    description='Select Class:',\n",
    "    disabled=False,\n",
    "    button_style='info', \n",
    "    \n",
    ")\n",
    "# Create layer slider\n",
    "select_layer = IntSlider(min=0, max=mri.shape[2] - 1, description='Select Layer', continuous_update=False)\n",
    "\n",
    "    \n",
    "# Define a function for plotting images\n",
    "def plot(seg_class, layer, channel):\n",
    "    print(f\"Plotting Layer: {layer} | Label: {seg_class} | Channel: {channel}\")\n",
    "    fig = plt.figure(figsize=(20, 10))\n",
    "    \n",
    "    fig.add_subplot(1, 3, 1)\n",
    "    plt.title(\"MRI_BRATS_391\", fontsize=20)\n",
    "    plt.imshow(mri[:, :, layer, channel], cmap='gray');\n",
    "    plt.axis('off')\n",
    "    \n",
    "    fig.add_subplot(1, 3, 2)\n",
    "    if seg_class == \"All\":\n",
    "        mask_groundtruth = mask[:, :, layer]\n",
    "        plt.title(\"Groundtruth mask\", fontsize=20)\n",
    "        plt.imshow(mask_groundtruth)\n",
    "        plt.axis('off');\n",
    "    else:\n",
    "        img_label = classes_dict[seg_class]\n",
    "        mask_groundtruth = np.where(mask[:, :, layer] == img_label, 255, 0)\n",
    "        plt.title(\"Groundtruth mask\", fontsize=20)\n",
    "        plt.imshow(mask_groundtruth, cmap='gray')\n",
    "        plt.axis('off');\n",
    "    \n",
    "    fig.add_subplot(1, 3, 3)\n",
    "    if seg_class == \"All\":\n",
    "        mask_model_prediction = prediction[:, :, layer]\n",
    "        plt.title(\"Model prediction mask\", fontsize=20)\n",
    "        plt.imshow(mask_model_prediction)\n",
    "        plt.axis('off');\n",
    "    else:\n",
    "        img_label = classes_dict[seg_class]\n",
    "        mask_model_prediction = np.where(prediction[:, :, layer] == img_label, 255, 0)\n",
    "        plt.title(\"Model prediction mask\", fontsize=20)\n",
    "        plt.imshow(mask_model_prediction, cmap='gray')\n",
    "        plt.axis('off');\n",
    "\n",
    "# Set channel to view:\n",
    "#  Channel 0: \"FLAIR\" Fluid-attenuated inversion recovery\n",
    "#  Channel 1: \"T1w\" T1-weighted\n",
    "#  Channel 2: \"t1gd\" T1-weighted with gadolinium contrast enhancement\n",
    "#  Channel 3: \"T2w\" T2-weighted    \n",
    "    \n",
    "# Use the interactive() tool to create the visualization\n",
    "interactive(plot, seg_class=select_class, layer=select_layer, channel=(0, 3))"
   ]
  },
  {
   "cell_type": "markdown",
   "id": "exempt-bleeding",
   "metadata": {},
   "source": [
    "### 1.4 Visualizing prediction on BRATS_392 file"
   ]
  },
  {
   "cell_type": "code",
   "execution_count": 53,
   "id": "flexible-study",
   "metadata": {},
   "outputs": [],
   "source": [
    "mri = nib.load(\"../datasets/Task01_BrainTumour_240x240x160x4/val/images/BRATS_392.nii.gz\").get_fdata().astype(np.float32)"
   ]
  },
  {
   "cell_type": "code",
   "execution_count": 54,
   "id": "laden-friday",
   "metadata": {},
   "outputs": [],
   "source": [
    "mask = nib.load(\"../datasets/Task01_BrainTumour_240x240x160x4/val/masks/BRATS_392.nii.gz\").get_fdata().astype(np.uint8)"
   ]
  },
  {
   "cell_type": "code",
   "execution_count": 55,
   "id": "expressed-queens",
   "metadata": {},
   "outputs": [
    {
     "data": {
      "text/plain": [
       "(240, 240, 160)"
      ]
     },
     "execution_count": 55,
     "metadata": {},
     "output_type": "execute_result"
    }
   ],
   "source": [
    "mask.shape"
   ]
  },
  {
   "cell_type": "code",
   "execution_count": 56,
   "id": "collectible-making",
   "metadata": {},
   "outputs": [],
   "source": [
    "mri_standardized = standardize(mri)"
   ]
  },
  {
   "cell_type": "code",
   "execution_count": 57,
   "id": "acute-schema",
   "metadata": {},
   "outputs": [],
   "source": [
    "mri_standardized = np.expand_dims(mri_standardized, axis=0)  # Keras models require an additional dimension of 'batch_size'"
   ]
  },
  {
   "cell_type": "code",
   "execution_count": 58,
   "id": "actual-title",
   "metadata": {},
   "outputs": [],
   "source": [
    "prediction = model.predict(mri_standardized)"
   ]
  },
  {
   "cell_type": "code",
   "execution_count": 59,
   "id": "minimal-drinking",
   "metadata": {},
   "outputs": [],
   "source": [
    "prediction = np.squeeze(prediction, axis=0)  # Remove 'batch_size' dimension"
   ]
  },
  {
   "cell_type": "code",
   "execution_count": 60,
   "id": "proved-mineral",
   "metadata": {},
   "outputs": [
    {
     "data": {
      "text/plain": [
       "(240, 240, 160, 4)"
      ]
     },
     "execution_count": 60,
     "metadata": {},
     "output_type": "execute_result"
    }
   ],
   "source": [
    "prediction.shape"
   ]
  },
  {
   "cell_type": "code",
   "execution_count": 61,
   "id": "japanese-nickname",
   "metadata": {},
   "outputs": [
    {
     "data": {
      "text/plain": [
       "numpy.ndarray"
      ]
     },
     "execution_count": 61,
     "metadata": {},
     "output_type": "execute_result"
    }
   ],
   "source": [
    "type(prediction)"
   ]
  },
  {
   "cell_type": "code",
   "execution_count": 62,
   "id": "floating-ratio",
   "metadata": {},
   "outputs": [],
   "source": [
    "prediction = np.argmax(prediction, axis=3)"
   ]
  },
  {
   "cell_type": "code",
   "execution_count": 63,
   "id": "fewer-science",
   "metadata": {},
   "outputs": [
    {
     "data": {
      "text/plain": [
       "(240, 240, 160)"
      ]
     },
     "execution_count": 63,
     "metadata": {},
     "output_type": "execute_result"
    }
   ],
   "source": [
    "prediction.shape"
   ]
  },
  {
   "cell_type": "code",
   "execution_count": 64,
   "id": "pleased-portrait",
   "metadata": {},
   "outputs": [
    {
     "data": {
      "text/plain": [
       "array([0, 1, 2, 3])"
      ]
     },
     "execution_count": 64,
     "metadata": {},
     "output_type": "execute_result"
    }
   ],
   "source": [
    "np.unique(prediction)"
   ]
  },
  {
   "cell_type": "markdown",
   "id": "palestinian-wallet",
   "metadata": {},
   "source": [
    "#### Model prediction vs groundtruth number of labels"
   ]
  },
  {
   "cell_type": "code",
   "execution_count": 65,
   "id": "interstate-pastor",
   "metadata": {},
   "outputs": [
    {
     "name": "stdout",
     "output_type": "stream",
     "text": [
      "Background - class 0\n",
      "9095749\n",
      "--------\n",
      "Edema - class 1\n",
      "22441\n",
      "--------\n",
      "Non-Enhancing-Tumor - class 2\n",
      "20798\n",
      "--------\n",
      "Enhancing-Tumor - class 3\n",
      "77012\n"
     ]
    }
   ],
   "source": [
    "# Number of labels per class in model prediction\n",
    "print(\"Background - class 0\")\n",
    "print(len(prediction[prediction == 0])) \n",
    "print(\"--------\")\n",
    "print(\"Edema - class 1\")\n",
    "print(len(prediction[prediction == 1]))\n",
    "print(\"--------\")\n",
    "print(\"Non-Enhancing-Tumor - class 2\")\n",
    "print(len(prediction[prediction == 2]))\n",
    "print(\"--------\")\n",
    "print(\"Enhancing-Tumor - class 3\")\n",
    "print(len(prediction[prediction == 3])) "
   ]
  },
  {
   "cell_type": "code",
   "execution_count": 66,
   "id": "given-quilt",
   "metadata": {},
   "outputs": [
    {
     "name": "stdout",
     "output_type": "stream",
     "text": [
      "Background - class 0\n",
      "9104688\n",
      "--------\n",
      "Edema - class 1\n",
      "28795\n",
      "--------\n",
      "Non-Enhancing-Tumor - class 2\n",
      "21404\n",
      "--------\n",
      "Enhancing-Tumor - class 3\n",
      "61113\n"
     ]
    }
   ],
   "source": [
    "# Number of labels per class in ground truth mask\n",
    "print(\"Background - class 0\")\n",
    "print(len(mask[mask == 0]))\n",
    "print(\"--------\")\n",
    "print(\"Edema - class 1\")\n",
    "print(len(mask[mask == 1]))\n",
    "print(\"--------\")\n",
    "print(\"Non-Enhancing-Tumor - class 2\")\n",
    "print(len(mask[mask == 2]))\n",
    "print(\"--------\")\n",
    "print(\"Enhancing-Tumor - class 3\")\n",
    "print(len(mask[mask == 3]))"
   ]
  },
  {
   "cell_type": "code",
   "execution_count": 67,
   "id": "circular-string",
   "metadata": {},
   "outputs": [
    {
     "data": {
      "application/vnd.jupyter.widget-view+json": {
       "model_id": "",
       "version_major": 2,
       "version_minor": 0
      },
      "text/plain": [
       "interactive(children=(ToggleButtons(button_style='info', description='Select Class:', options=('Background', '…"
      ]
     },
     "metadata": {},
     "output_type": "display_data"
    }
   ],
   "source": [
    "classes_dict = {\n",
    "    'Background': 0,\n",
    "    'Edema': 1,\n",
    "    'Non-enhancing tumor': 2,\n",
    "    'Enhancing tumor': 3 \n",
    "}\n",
    "\n",
    "# Create button values\n",
    "select_class = ToggleButtons(\n",
    "    options=['Background','Edema', 'Non-enhancing tumor', 'Enhancing tumor', 'All'],\n",
    "    description='Select Class:',\n",
    "    disabled=False,\n",
    "    button_style='info', \n",
    "    \n",
    ")\n",
    "# Create layer slider\n",
    "select_layer = IntSlider(min=0, max=mri.shape[2] - 1, description='Select Layer', continuous_update=False)\n",
    "\n",
    "    \n",
    "# Define a function for plotting images\n",
    "def plot(seg_class, layer, channel):\n",
    "    print(f\"Plotting Layer: {layer} | Label: {seg_class} | Channel: {channel}\")\n",
    "    fig = plt.figure(figsize=(20, 10))\n",
    "    \n",
    "    fig.add_subplot(1, 3, 1)\n",
    "    plt.title(\"MRI_BRATS_392\", fontsize=20)\n",
    "    plt.imshow(mri[:, :, layer, channel], cmap='gray');\n",
    "    plt.axis('off')\n",
    "    \n",
    "    fig.add_subplot(1, 3, 2)\n",
    "    if seg_class == \"All\":\n",
    "        mask_groundtruth = mask[:, :, layer]\n",
    "        plt.title(\"Groundtruth mask\", fontsize=20)\n",
    "        plt.imshow(mask_groundtruth)\n",
    "        plt.axis('off');\n",
    "    else:\n",
    "        img_label = classes_dict[seg_class]\n",
    "        mask_groundtruth = np.where(mask[:, :, layer] == img_label, 255, 0)\n",
    "        plt.title(\"Groundtruth mask\", fontsize=20)\n",
    "        plt.imshow(mask_groundtruth, cmap='gray')\n",
    "        plt.axis('off');\n",
    "    \n",
    "    fig.add_subplot(1, 3, 3)\n",
    "    if seg_class == \"All\":\n",
    "        mask_model_prediction = prediction[:, :, layer]\n",
    "        plt.title(\"Model prediction mask\", fontsize=20)\n",
    "        plt.imshow(mask_model_prediction)\n",
    "        plt.axis('off');\n",
    "    else:\n",
    "        img_label = classes_dict[seg_class]\n",
    "        mask_model_prediction = np.where(prediction[:, :, layer] == img_label, 255, 0)\n",
    "        plt.title(\"Model prediction mask\", fontsize=20)\n",
    "        plt.imshow(mask_model_prediction, cmap='gray')\n",
    "        plt.axis('off');\n",
    "\n",
    "# Set channel to view:\n",
    "#  Channel 0: \"FLAIR\" Fluid-attenuated inversion recovery\n",
    "#  Channel 1: \"T1w\" T1-weighted\n",
    "#  Channel 2: \"t1gd\" T1-weighted with gadolinium contrast enhancement\n",
    "#  Channel 3: \"T2w\" T2-weighted    \n",
    "    \n",
    "# Use the interactive() tool to create the visualization\n",
    "interactive(plot, seg_class=select_class, layer=select_layer, channel=(0, 3))"
   ]
  },
  {
   "cell_type": "markdown",
   "id": "noticed-runner",
   "metadata": {},
   "source": [
    "### 2. Testing on the medical decathlon test images for Task 1 \n",
    "Having to modify the original 155 layer files to 160 layer files then taking the first 155 layers as the model prediction for submission to the challenge"
   ]
  },
  {
   "cell_type": "markdown",
   "id": "sitting-venice",
   "metadata": {},
   "source": [
    "### 2.1 Visualizing prediction on BRATS_485 file"
   ]
  },
  {
   "cell_type": "code",
   "execution_count": 68,
   "id": "entire-white",
   "metadata": {},
   "outputs": [],
   "source": [
    "mri = nib.load(\"../datasets/Task01_BrainTumour/test_images_for_model_prediction_submission/BRATS_485.nii.gz\").get_fdata().astype(np.float32)"
   ]
  },
  {
   "cell_type": "code",
   "execution_count": 70,
   "id": "capable-mirror",
   "metadata": {},
   "outputs": [
    {
     "data": {
      "text/plain": [
       "(240, 240, 155, 4)"
      ]
     },
     "execution_count": 70,
     "metadata": {},
     "output_type": "execute_result"
    }
   ],
   "source": [
    "mri.shape"
   ]
  },
  {
   "cell_type": "code",
   "execution_count": 71,
   "id": "direct-policy",
   "metadata": {},
   "outputs": [],
   "source": [
    "mri_temp = np.zeros((240, 240, 160, 4))\n",
    "mri_temp[:, :, :155, :] = mri[:, :, :]\n",
    "\n",
    "mri = mri_temp"
   ]
  },
  {
   "cell_type": "code",
   "execution_count": 72,
   "id": "immune-combination",
   "metadata": {},
   "outputs": [
    {
     "data": {
      "text/plain": [
       "(240, 240, 160, 4)"
      ]
     },
     "execution_count": 72,
     "metadata": {},
     "output_type": "execute_result"
    }
   ],
   "source": [
    "mri.shape"
   ]
  },
  {
   "cell_type": "code",
   "execution_count": 73,
   "id": "binary-payroll",
   "metadata": {},
   "outputs": [],
   "source": [
    "mri_standardized = standardize(mri)"
   ]
  },
  {
   "cell_type": "code",
   "execution_count": 74,
   "id": "emerging-approach",
   "metadata": {},
   "outputs": [],
   "source": [
    "mri_standardized = np.expand_dims(mri_standardized, axis=0)  # Keras models require an additional dimension of 'batch_size'"
   ]
  },
  {
   "cell_type": "code",
   "execution_count": 75,
   "id": "thermal-ecology",
   "metadata": {},
   "outputs": [],
   "source": [
    "prediction = model.predict(mri_standardized)"
   ]
  },
  {
   "cell_type": "code",
   "execution_count": 76,
   "id": "hollywood-hampshire",
   "metadata": {},
   "outputs": [],
   "source": [
    "prediction = np.squeeze(prediction, axis=0)  # Remove 'batch_size' dimension"
   ]
  },
  {
   "cell_type": "code",
   "execution_count": 77,
   "id": "recent-disclosure",
   "metadata": {},
   "outputs": [
    {
     "data": {
      "text/plain": [
       "(240, 240, 160, 4)"
      ]
     },
     "execution_count": 77,
     "metadata": {},
     "output_type": "execute_result"
    }
   ],
   "source": [
    "prediction.shape"
   ]
  },
  {
   "cell_type": "code",
   "execution_count": 78,
   "id": "grateful-cursor",
   "metadata": {},
   "outputs": [
    {
     "data": {
      "text/plain": [
       "numpy.ndarray"
      ]
     },
     "execution_count": 78,
     "metadata": {},
     "output_type": "execute_result"
    }
   ],
   "source": [
    "type(prediction)"
   ]
  },
  {
   "cell_type": "code",
   "execution_count": 79,
   "id": "plastic-stephen",
   "metadata": {},
   "outputs": [],
   "source": [
    "prediction = np.argmax(prediction, axis=3)"
   ]
  },
  {
   "cell_type": "code",
   "execution_count": 80,
   "id": "returning-warehouse",
   "metadata": {},
   "outputs": [
    {
     "data": {
      "text/plain": [
       "(240, 240, 160)"
      ]
     },
     "execution_count": 80,
     "metadata": {},
     "output_type": "execute_result"
    }
   ],
   "source": [
    "prediction.shape"
   ]
  },
  {
   "cell_type": "code",
   "execution_count": 88,
   "id": "interstate-creator",
   "metadata": {},
   "outputs": [],
   "source": [
    "mri = mri[:, :, :155, :]\n",
    "prediction = prediction[:, :, :155]"
   ]
  },
  {
   "cell_type": "code",
   "execution_count": 89,
   "id": "prerequisite-helen",
   "metadata": {},
   "outputs": [
    {
     "data": {
      "text/plain": [
       "(240, 240, 155)"
      ]
     },
     "execution_count": 89,
     "metadata": {},
     "output_type": "execute_result"
    }
   ],
   "source": [
    "prediction.shape"
   ]
  },
  {
   "cell_type": "code",
   "execution_count": 90,
   "id": "solid-superintendent",
   "metadata": {},
   "outputs": [
    {
     "data": {
      "text/plain": [
       "array([0, 1, 2, 3])"
      ]
     },
     "execution_count": 90,
     "metadata": {},
     "output_type": "execute_result"
    }
   ],
   "source": [
    "np.unique(prediction)"
   ]
  },
  {
   "cell_type": "markdown",
   "id": "structured-ability",
   "metadata": {},
   "source": [
    "#### Model prediction number of labels (no available masks)"
   ]
  },
  {
   "cell_type": "code",
   "execution_count": 91,
   "id": "compliant-mountain",
   "metadata": {},
   "outputs": [
    {
     "name": "stdout",
     "output_type": "stream",
     "text": [
      "Background - class 0\n",
      "8866196\n",
      "--------\n",
      "Edema - class 1\n",
      "46081\n",
      "--------\n",
      "Non-Enhancing-Tumor - class 2\n",
      "11244\n",
      "--------\n",
      "Enhancing-Tumor - class 3\n",
      "4479\n"
     ]
    }
   ],
   "source": [
    "# Number of labels per class in model prediction\n",
    "print(\"Background - class 0\")\n",
    "print(len(prediction[prediction == 0])) \n",
    "print(\"--------\")\n",
    "print(\"Edema - class 1\")\n",
    "print(len(prediction[prediction == 1]))\n",
    "print(\"--------\")\n",
    "print(\"Non-Enhancing-Tumor - class 2\")\n",
    "print(len(prediction[prediction == 2]))\n",
    "print(\"--------\")\n",
    "print(\"Enhancing-Tumor - class 3\")\n",
    "print(len(prediction[prediction == 3])) "
   ]
  },
  {
   "cell_type": "code",
   "execution_count": 92,
   "id": "moving-capacity",
   "metadata": {},
   "outputs": [
    {
     "data": {
      "application/vnd.jupyter.widget-view+json": {
       "model_id": "964c578f619c42638f6d141dd0424837",
       "version_major": 2,
       "version_minor": 0
      },
      "text/plain": [
       "interactive(children=(ToggleButtons(button_style='info', description='Select Class:', options=('Background', '…"
      ]
     },
     "metadata": {},
     "output_type": "display_data"
    }
   ],
   "source": [
    "classes_dict = {\n",
    "    'Background': 0,\n",
    "    'Edema': 1,\n",
    "    'Non-enhancing tumor': 2,\n",
    "    'Enhancing tumor': 3 \n",
    "}\n",
    "\n",
    "# Create button values\n",
    "select_class = ToggleButtons(\n",
    "    options=['Background','Edema', 'Non-enhancing tumor', 'Enhancing tumor', 'All'],\n",
    "    description='Select Class:',\n",
    "    disabled=False,\n",
    "    button_style='info', \n",
    "    \n",
    ")\n",
    "# Create layer slider\n",
    "select_layer = IntSlider(min=0, max=mri.shape[2] - 1, description='Select Layer', continuous_update=False)\n",
    "\n",
    "    \n",
    "# Define a function for plotting images\n",
    "def plot(seg_class, layer, channel):\n",
    "    print(f\"Plotting Layer: {layer} | Label: {seg_class} | Channel: {channel}\")\n",
    "    fig = plt.figure(figsize=(20, 10))\n",
    "    \n",
    "    fig.add_subplot(1, 2, 1)\n",
    "    plt.title(\"MRI_BRATS_485\", fontsize=20)\n",
    "    plt.imshow(mri[:, :, layer, channel], cmap='gray');\n",
    "    plt.axis('off')\n",
    "    \n",
    "    fig.add_subplot(1, 2, 2)\n",
    "    if seg_class == \"All\":\n",
    "        mask_model_prediction = prediction[:, :, layer]\n",
    "        plt.title(\"Model prediction mask\", fontsize=20)\n",
    "        plt.imshow(mask_model_prediction)\n",
    "        plt.axis('off');\n",
    "    else:\n",
    "        img_label = classes_dict[seg_class]\n",
    "        mask_model_prediction = np.where(prediction[:, :, layer] == img_label, 255, 0)\n",
    "        plt.title(\"Model prediction mask\", fontsize=20)\n",
    "        plt.imshow(mask_model_prediction, cmap='gray')\n",
    "        plt.axis('off');\n",
    "\n",
    "# Set channel to view:\n",
    "#  Channel 0: \"FLAIR\" Fluid-attenuated inversion recovery\n",
    "#  Channel 1: \"T1w\" T1-weighted\n",
    "#  Channel 2: \"t1gd\" T1-weighted with gadolinium contrast enhancement\n",
    "#  Channel 3: \"T2w\" T2-weighted    \n",
    "    \n",
    "# Use the interactive() tool to create the visualization\n",
    "interactive(plot, seg_class=select_class, layer=select_layer, channel=(0, 3))"
   ]
  },
  {
   "cell_type": "code",
   "execution_count": null,
   "id": "studied-array",
   "metadata": {},
   "outputs": [],
   "source": []
  }
 ],
 "metadata": {
  "kernelspec": {
   "display_name": "Python 3",
   "language": "python",
   "name": "python3"
  },
  "language_info": {
   "codemirror_mode": {
    "name": "ipython",
    "version": 3
   },
   "file_extension": ".py",
   "mimetype": "text/x-python",
   "name": "python",
   "nbconvert_exporter": "python",
   "pygments_lexer": "ipython3",
   "version": "3.7.10"
  }
 },
 "nbformat": 4,
 "nbformat_minor": 5
}
