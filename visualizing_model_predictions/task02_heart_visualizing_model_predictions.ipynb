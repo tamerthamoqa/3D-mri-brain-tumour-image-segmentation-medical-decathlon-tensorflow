{
 "cells": [
  {
   "cell_type": "code",
   "execution_count": 1,
   "id": "premier-enzyme",
   "metadata": {},
   "outputs": [],
   "source": [
    "import numpy as np\n",
    "import nibabel as nib\n",
    "import matplotlib.pyplot as plt\n",
    "from ipywidgets import interact, interactive, IntSlider, ToggleButtons\n",
    "from tensorflow.keras.models import load_model\n",
    "import albumentations as A\n",
    "\n",
    "# Custom objects required for loading the U-Net segmentation models\n",
    "import sys \n",
    "sys.path.append('..')\n",
    "from segmentation_losses import (\n",
    "    dice_coefficient_binary,\n",
    "    dice_loss_binary,\n",
    "    log_cosh_dice_loss_binary,\n",
    "    iou_binary\n",
    ")"
   ]
  },
  {
   "cell_type": "code",
   "execution_count": 2,
   "id": "valuable-suspect",
   "metadata": {},
   "outputs": [],
   "source": [
    "model = load_model(\n",
    "    \"../trained_models/task02_heart_unet_3d_segmentation_model.h5\",\n",
    "    custom_objects={\n",
    "        \"log_cosh_dice_loss_binary\": log_cosh_dice_loss_binary,\n",
    "        \"dice_coefficient_binary\": dice_coefficient_binary,\n",
    "        \"iou_binary\": iou_binary\n",
    "    }\n",
    ")"
   ]
  },
  {
   "cell_type": "code",
   "execution_count": 3,
   "id": "quiet-richards",
   "metadata": {},
   "outputs": [],
   "source": [
    "def standardize(mri):\n",
    "    \"\"\"\n",
    "    Standardize mean and standard deviation of each channel and z_dimension slice to mean 0 and standard \n",
    "     deviation 1.\n",
    "\n",
    "    Note: setting the type of the input mri to np.float16 beforehand causes issues, set it afterwards.\n",
    "\n",
    "    Args:\n",
    "        mri (np.array): input mri, shape (dim_x, dim_y, dim_z, num_channels)\n",
    "    Returns:\n",
    "        standardized_mri (np.array): standardized version of input mri\n",
    "    \"\"\"\n",
    "\n",
    "    standardized_mri = np.zeros(mri.shape)\n",
    "\n",
    "    # Iterate over channels\n",
    "    for c in range(mri.shape[3]):\n",
    "        # Iterate over the `z` depth dimension\n",
    "        for z in range(mri.shape[2]):\n",
    "            # Get a slice of the mri at channel c and z-th dimension\n",
    "            mri_slice = mri[:, :, z, c]\n",
    "\n",
    "            # Subtract the mean from mri_slice\n",
    "            centered = mri_slice - np.mean(mri_slice)\n",
    "\n",
    "            # Divide by the standard deviation (only if it is different from zero)\n",
    "            if np.std(centered) != 0:\n",
    "                centered_scaled = centered / np.std(centered)\n",
    "\n",
    "                # Update the slice of standardized mri with the centered and scaled mri\n",
    "                standardized_mri[:, :, z, c] = centered_scaled\n",
    "\n",
    "    return standardized_mri"
   ]
  },
  {
   "cell_type": "markdown",
   "id": "returning-robertson",
   "metadata": {},
   "source": [
    "### 1. Visualizing predictions on validation set images"
   ]
  },
  {
   "cell_type": "markdown",
   "id": "7087994f-8541-4cb0-a9c2-2b404a3eeb34",
   "metadata": {},
   "source": [
    "### 1.1. Visualizing prediction on la_022 file"
   ]
  },
  {
   "cell_type": "markdown",
   "id": "expensive-mitchell",
   "metadata": {},
   "source": [
    "### 1.1.1 Chunk 1"
   ]
  },
  {
   "cell_type": "code",
   "execution_count": 4,
   "id": "interior-dallas",
   "metadata": {},
   "outputs": [],
   "source": [
    "mri_chunk1 = nib.load(\"../datasets/Task02_Heart_320x320x96/val/images/la_022_0.nii.gz\").get_fdata().astype(np.float32)"
   ]
  },
  {
   "cell_type": "code",
   "execution_count": 5,
   "id": "diverse-dayton",
   "metadata": {},
   "outputs": [],
   "source": [
    "mask_chunk1 = nib.load(\"../datasets/Task02_Heart_320x320x96/val/masks/la_022_0.nii.gz\").get_fdata().astype(np.uint8)"
   ]
  },
  {
   "cell_type": "code",
   "execution_count": 6,
   "id": "treated-demand",
   "metadata": {},
   "outputs": [
    {
     "data": {
      "text/plain": [
       "(320, 320, 96)"
      ]
     },
     "execution_count": 6,
     "metadata": {},
     "output_type": "execute_result"
    }
   ],
   "source": [
    "mask_chunk1.shape"
   ]
  },
  {
   "cell_type": "code",
   "execution_count": 7,
   "id": "about-hollow",
   "metadata": {},
   "outputs": [],
   "source": [
    "mri_standardized_chunk1 = standardize(mri_chunk1.reshape((mri_chunk1.shape[0], mri_chunk1.shape[1], mri_chunk1.shape[2], 1)))"
   ]
  },
  {
   "cell_type": "code",
   "execution_count": 8,
   "id": "ceramic-static",
   "metadata": {},
   "outputs": [],
   "source": [
    "mri_standardized_chunk1 = np.expand_dims(mri_standardized_chunk1, axis=0)  # Keras models require an additional dimension of 'batch_size'"
   ]
  },
  {
   "cell_type": "code",
   "execution_count": 9,
   "id": "conscious-renaissance",
   "metadata": {},
   "outputs": [],
   "source": [
    "prediction_chunk1 = model.predict(mri_standardized_chunk1)"
   ]
  },
  {
   "cell_type": "code",
   "execution_count": 10,
   "id": "attempted-letters",
   "metadata": {},
   "outputs": [],
   "source": [
    "prediction_chunk1 = np.squeeze(prediction_chunk1, axis=0)  # Remove 'batch_size' dimension"
   ]
  },
  {
   "cell_type": "code",
   "execution_count": 11,
   "id": "bearing-tribute",
   "metadata": {},
   "outputs": [
    {
     "data": {
      "text/plain": [
       "(320, 320, 96, 1)"
      ]
     },
     "execution_count": 11,
     "metadata": {},
     "output_type": "execute_result"
    }
   ],
   "source": [
    "prediction_chunk1.shape"
   ]
  },
  {
   "cell_type": "code",
   "execution_count": 12,
   "id": "automatic-prescription",
   "metadata": {},
   "outputs": [
    {
     "data": {
      "text/plain": [
       "array([[[[3.5335725e-05],\n",
       "         [3.5335725e-05],\n",
       "         [3.5335725e-05],\n",
       "         ...,\n",
       "         [3.5335725e-05],\n",
       "         [3.1880227e-05],\n",
       "         [3.1585627e-05]],\n",
       "\n",
       "        [[3.5335725e-05],\n",
       "         [3.5335725e-05],\n",
       "         [3.5114321e-05],\n",
       "         ...,\n",
       "         [3.5069679e-05],\n",
       "         [2.8724477e-05],\n",
       "         [3.0104733e-05]],\n",
       "\n",
       "        [[3.5335725e-05],\n",
       "         [3.5335725e-05],\n",
       "         [3.4995479e-05],\n",
       "         ...,\n",
       "         [3.0953172e-05],\n",
       "         [2.7633230e-05],\n",
       "         [3.0193603e-05]],\n",
       "\n",
       "        ...,\n",
       "\n",
       "        [[3.5335725e-05],\n",
       "         [3.6390113e-05],\n",
       "         [3.6694335e-05],\n",
       "         ...,\n",
       "         [3.4164597e-05],\n",
       "         [2.4771429e-05],\n",
       "         [2.5988789e-05]],\n",
       "\n",
       "        [[3.5335725e-05],\n",
       "         [3.5335725e-05],\n",
       "         [3.4669414e-05],\n",
       "         ...,\n",
       "         [3.1673164e-05],\n",
       "         [2.6956264e-05],\n",
       "         [2.9094010e-05]],\n",
       "\n",
       "        [[3.5335725e-05],\n",
       "         [3.5335725e-05],\n",
       "         [3.1770269e-05],\n",
       "         ...,\n",
       "         [2.7075161e-05],\n",
       "         [2.5731324e-05],\n",
       "         [2.8285011e-05]]],\n",
       "\n",
       "\n",
       "       [[[3.5335725e-05],\n",
       "         [3.3777531e-05],\n",
       "         [3.1169555e-05],\n",
       "         ...,\n",
       "         [2.8788678e-05],\n",
       "         [2.4929832e-05],\n",
       "         [2.1118725e-05]],\n",
       "\n",
       "        [[3.5335725e-05],\n",
       "         [2.9517712e-05],\n",
       "         [2.4371628e-05],\n",
       "         ...,\n",
       "         [2.5037809e-05],\n",
       "         [2.0879279e-05],\n",
       "         [2.2245293e-05]],\n",
       "\n",
       "        [[3.5335725e-05],\n",
       "         [2.6889098e-05],\n",
       "         [2.4712252e-05],\n",
       "         ...,\n",
       "         [2.7573900e-05],\n",
       "         [2.0345560e-05],\n",
       "         [2.4575376e-05]],\n",
       "\n",
       "        ...,\n",
       "\n",
       "        [[3.5379257e-05],\n",
       "         [3.2399887e-05],\n",
       "         [2.6102296e-05],\n",
       "         ...,\n",
       "         [2.4130737e-05],\n",
       "         [1.5842732e-05],\n",
       "         [1.7006168e-05]],\n",
       "\n",
       "        [[3.5335725e-05],\n",
       "         [2.9971814e-05],\n",
       "         [2.5521251e-05],\n",
       "         ...,\n",
       "         [2.2068203e-05],\n",
       "         [1.8926576e-05],\n",
       "         [1.7096923e-05]],\n",
       "\n",
       "        [[3.5335725e-05],\n",
       "         [2.8911163e-05],\n",
       "         [2.8774375e-05],\n",
       "         ...,\n",
       "         [2.5480955e-05],\n",
       "         [2.2407577e-05],\n",
       "         [2.2968234e-05]]],\n",
       "\n",
       "\n",
       "       [[[3.5335725e-05],\n",
       "         [2.4519430e-05],\n",
       "         [2.4312501e-05],\n",
       "         ...,\n",
       "         [3.0390793e-05],\n",
       "         [2.6191716e-05],\n",
       "         [2.9665813e-05]],\n",
       "\n",
       "        [[3.5335725e-05],\n",
       "         [3.6826106e-05],\n",
       "         [2.6745194e-05],\n",
       "         ...,\n",
       "         [3.3319015e-05],\n",
       "         [2.0765554e-05],\n",
       "         [2.8656486e-05]],\n",
       "\n",
       "        [[3.2335593e-05],\n",
       "         [3.3165295e-05],\n",
       "         [2.5163670e-05],\n",
       "         ...,\n",
       "         [2.3860441e-05],\n",
       "         [1.9920297e-05],\n",
       "         [2.9654469e-05]],\n",
       "\n",
       "        ...,\n",
       "\n",
       "        [[3.2699339e-05],\n",
       "         [2.9693691e-05],\n",
       "         [1.9908106e-05],\n",
       "         ...,\n",
       "         [1.8929752e-05],\n",
       "         [1.3638470e-05],\n",
       "         [1.7356504e-05]],\n",
       "\n",
       "        [[3.7942005e-05],\n",
       "         [3.3175449e-05],\n",
       "         [2.5428233e-05],\n",
       "         ...,\n",
       "         [2.5852536e-05],\n",
       "         [2.1026304e-05],\n",
       "         [1.7201774e-05]],\n",
       "\n",
       "        [[3.2741274e-05],\n",
       "         [3.3251876e-05],\n",
       "         [2.7406484e-05],\n",
       "         ...,\n",
       "         [2.4641206e-05],\n",
       "         [2.1025342e-05],\n",
       "         [2.0663407e-05]]],\n",
       "\n",
       "\n",
       "       ...,\n",
       "\n",
       "\n",
       "       [[[3.5335725e-05],\n",
       "         [2.6106831e-05],\n",
       "         [2.8234290e-05],\n",
       "         ...,\n",
       "         [3.6119811e-05],\n",
       "         [3.2670101e-05],\n",
       "         [3.0944346e-05]],\n",
       "\n",
       "        [[2.9420591e-05],\n",
       "         [2.3310862e-05],\n",
       "         [1.8668494e-05],\n",
       "         ...,\n",
       "         [2.1222721e-05],\n",
       "         [2.0061087e-05],\n",
       "         [2.6480137e-05]],\n",
       "\n",
       "        [[2.3259789e-05],\n",
       "         [2.3979472e-05],\n",
       "         [2.0414420e-05],\n",
       "         ...,\n",
       "         [1.9551731e-05],\n",
       "         [2.1101794e-05],\n",
       "         [2.8706019e-05]],\n",
       "\n",
       "        ...,\n",
       "\n",
       "        [[2.6137894e-05],\n",
       "         [2.3461536e-05],\n",
       "         [1.7476023e-05],\n",
       "         ...,\n",
       "         [1.6958087e-05],\n",
       "         [1.5989492e-05],\n",
       "         [2.0998072e-05]],\n",
       "\n",
       "        [[3.2662250e-05],\n",
       "         [3.0673753e-05],\n",
       "         [2.4115370e-05],\n",
       "         ...,\n",
       "         [2.1316311e-05],\n",
       "         [2.5148123e-05],\n",
       "         [2.0663701e-05]],\n",
       "\n",
       "        [[3.0681855e-05],\n",
       "         [3.1412426e-05],\n",
       "         [2.9839515e-05],\n",
       "         ...,\n",
       "         [2.4723095e-05],\n",
       "         [2.8078635e-05],\n",
       "         [2.6646849e-05]]],\n",
       "\n",
       "\n",
       "       [[[3.5335725e-05],\n",
       "         [3.2835269e-05],\n",
       "         [3.2463569e-05],\n",
       "         ...,\n",
       "         [3.9538470e-05],\n",
       "         [3.5788737e-05],\n",
       "         [3.0602896e-05]],\n",
       "\n",
       "        [[3.5335725e-05],\n",
       "         [3.1594849e-05],\n",
       "         [2.5343741e-05],\n",
       "         ...,\n",
       "         [2.7507818e-05],\n",
       "         [2.5989806e-05],\n",
       "         [2.6549040e-05]],\n",
       "\n",
       "        [[3.1255011e-05],\n",
       "         [3.1822274e-05],\n",
       "         [2.6972131e-05],\n",
       "         ...,\n",
       "         [2.9987741e-05],\n",
       "         [3.4409073e-05],\n",
       "         [2.8942031e-05]],\n",
       "\n",
       "        ...,\n",
       "\n",
       "        [[3.3418648e-05],\n",
       "         [3.0211431e-05],\n",
       "         [2.1003118e-05],\n",
       "         ...,\n",
       "         [2.3545836e-05],\n",
       "         [2.6507854e-05],\n",
       "         [2.2545100e-05]],\n",
       "\n",
       "        [[3.9496903e-05],\n",
       "         [3.6260451e-05],\n",
       "         [2.9368535e-05],\n",
       "         ...,\n",
       "         [2.7581262e-05],\n",
       "         [3.6644538e-05],\n",
       "         [2.3899111e-05]],\n",
       "\n",
       "        [[3.5919074e-05],\n",
       "         [3.7516580e-05],\n",
       "         [3.2292883e-05],\n",
       "         ...,\n",
       "         [3.1700842e-05],\n",
       "         [3.5129422e-05],\n",
       "         [2.7222166e-05]]],\n",
       "\n",
       "\n",
       "       [[[3.5335725e-05],\n",
       "         [3.2725104e-05],\n",
       "         [3.4831795e-05],\n",
       "         ...,\n",
       "         [4.2566160e-05],\n",
       "         [4.3946249e-05],\n",
       "         [3.3216384e-05]],\n",
       "\n",
       "        [[3.1982818e-05],\n",
       "         [3.8624548e-05],\n",
       "         [4.0913299e-05],\n",
       "         ...,\n",
       "         [4.5756533e-05],\n",
       "         [5.2763357e-05],\n",
       "         [3.4304263e-05]],\n",
       "\n",
       "        [[2.9041094e-05],\n",
       "         [3.8327162e-05],\n",
       "         [4.0964092e-05],\n",
       "         ...,\n",
       "         [4.3690809e-05],\n",
       "         [5.2412113e-05],\n",
       "         [3.6940917e-05]],\n",
       "\n",
       "        ...,\n",
       "\n",
       "        [[3.0937619e-05],\n",
       "         [3.7300506e-05],\n",
       "         [3.4872344e-05],\n",
       "         ...,\n",
       "         [3.6969286e-05],\n",
       "         [4.7244641e-05],\n",
       "         [3.7147929e-05]],\n",
       "\n",
       "        [[3.8061342e-05],\n",
       "         [4.4550921e-05],\n",
       "         [3.8686143e-05],\n",
       "         ...,\n",
       "         [3.7306763e-05],\n",
       "         [4.9217626e-05],\n",
       "         [3.2374777e-05]],\n",
       "\n",
       "        [[3.2129588e-05],\n",
       "         [3.9514420e-05],\n",
       "         [3.7012676e-05],\n",
       "         ...,\n",
       "         [3.6504603e-05],\n",
       "         [4.3431093e-05],\n",
       "         [3.4987799e-05]]]], dtype=float32)"
      ]
     },
     "execution_count": 12,
     "metadata": {},
     "output_type": "execute_result"
    }
   ],
   "source": [
    "prediction_chunk1"
   ]
  },
  {
   "cell_type": "code",
   "execution_count": 13,
   "id": "concrete-moses",
   "metadata": {},
   "outputs": [
    {
     "data": {
      "text/plain": [
       "numpy.ndarray"
      ]
     },
     "execution_count": 13,
     "metadata": {},
     "output_type": "execute_result"
    }
   ],
   "source": [
    "type(prediction_chunk1)"
   ]
  },
  {
   "cell_type": "code",
   "execution_count": 14,
   "id": "secure-style",
   "metadata": {},
   "outputs": [],
   "source": [
    "prediction_chunk1 = (prediction_chunk1 >= 0.5).astype(np.uint8)  # Apply \"Sigmoid\" function on predicted probabilities per voxel"
   ]
  },
  {
   "cell_type": "code",
   "execution_count": 15,
   "id": "atlantic-friday",
   "metadata": {},
   "outputs": [
    {
     "data": {
      "text/plain": [
       "(320, 320, 96, 1)"
      ]
     },
     "execution_count": 15,
     "metadata": {},
     "output_type": "execute_result"
    }
   ],
   "source": [
    "prediction_chunk1.shape"
   ]
  },
  {
   "cell_type": "code",
   "execution_count": 16,
   "id": "catholic-surname",
   "metadata": {},
   "outputs": [],
   "source": [
    "prediction_chunk1 = prediction_chunk1.reshape((prediction_chunk1.shape[0], prediction_chunk1.shape[1], prediction_chunk1.shape[2]))"
   ]
  },
  {
   "cell_type": "code",
   "execution_count": 17,
   "id": "laden-meeting",
   "metadata": {},
   "outputs": [
    {
     "data": {
      "text/plain": [
       "(320, 320, 96)"
      ]
     },
     "execution_count": 17,
     "metadata": {},
     "output_type": "execute_result"
    }
   ],
   "source": [
    "prediction_chunk1.shape"
   ]
  },
  {
   "cell_type": "code",
   "execution_count": 18,
   "id": "stainless-dietary",
   "metadata": {},
   "outputs": [
    {
     "data": {
      "text/plain": [
       "array([0, 1], dtype=uint8)"
      ]
     },
     "execution_count": 18,
     "metadata": {},
     "output_type": "execute_result"
    }
   ],
   "source": [
    "np.unique(prediction_chunk1)"
   ]
  },
  {
   "cell_type": "markdown",
   "id": "7b11d199-3c0d-4a7f-b0fd-0a7b9ce062f8",
   "metadata": {},
   "source": [
    "#### Model prediction vs groundtruth number of labels"
   ]
  },
  {
   "cell_type": "code",
   "execution_count": 19,
   "id": "hungry-schema",
   "metadata": {},
   "outputs": [
    {
     "name": "stdout",
     "output_type": "stream",
     "text": [
      "Background - class 0\n",
      "9792279\n",
      "--------\n",
      "Left Atrium - class 1\n",
      "38121\n"
     ]
    }
   ],
   "source": [
    "# Number of labels per class in model prediction\n",
    "print(\"Background - class 0\")\n",
    "print(len(prediction_chunk1[prediction_chunk1 == 0])) \n",
    "print(\"--------\")\n",
    "print(\"Left Atrium - class 1\")\n",
    "print(len(prediction_chunk1[prediction_chunk1 == 1]))"
   ]
  },
  {
   "cell_type": "code",
   "execution_count": 20,
   "id": "beautiful-puzzle",
   "metadata": {},
   "outputs": [
    {
     "name": "stdout",
     "output_type": "stream",
     "text": [
      "Background - class 0\n",
      "9797268\n",
      "--------\n",
      "Left Atrium - class 1\n",
      "33132\n"
     ]
    }
   ],
   "source": [
    "# Number of labels per class in ground truth mask\n",
    "print(\"Background - class 0\")\n",
    "print(len(mask_chunk1[mask_chunk1 == 0])) \n",
    "print(\"--------\")\n",
    "print(\"Left Atrium - class 1\")\n",
    "print(len(mask_chunk1[mask_chunk1 == 1]))"
   ]
  },
  {
   "cell_type": "code",
   "execution_count": 21,
   "id": "academic-samoa",
   "metadata": {
    "scrolled": false
   },
   "outputs": [
    {
     "data": {
      "application/vnd.jupyter.widget-view+json": {
       "model_id": "feae260e8d744055914c4bf456fec4c7",
       "version_major": 2,
       "version_minor": 0
      },
      "text/plain": [
       "interactive(children=(IntSlider(value=0, continuous_update=False, description='Select Layer', max=95), Output(…"
      ]
     },
     "metadata": {},
     "output_type": "display_data"
    }
   ],
   "source": [
    "# Create layer slider\n",
    "select_layer = IntSlider(min=0, max=mri_chunk1.shape[2] - 1, description='Select Layer', continuous_update=False)\n",
    "\n",
    "    \n",
    "# Define a function for plotting images\n",
    "def plot(layer):\n",
    "    print(f\"Plotting Layer: {layer}\")\n",
    "    fig = plt.figure(figsize=(20, 10))\n",
    "    \n",
    "    fig.add_subplot(1, 3, 1)\n",
    "    plt.title(\"MRI la_022\", fontsize=20)\n",
    "    plt.imshow(mri_chunk1[:, :, layer], cmap='gray');\n",
    "    plt.axis('off')\n",
    "    \n",
    "    fig.add_subplot(1, 3, 2)\n",
    "    plt.title(\"Groundtruth mask\", fontsize=20)\n",
    "    plt.imshow(mask_chunk1[:, :, layer], cmap='gray')\n",
    "    plt.axis('off');\n",
    "    \n",
    "    fig.add_subplot(1, 3, 3)\n",
    "    plt.title(\"Model prediction mask\", fontsize=20)\n",
    "    plt.imshow(prediction_chunk1[:, :, layer], cmap='gray')\n",
    "    plt.axis('off');\n",
    " \n",
    "    \n",
    "# Use the interactive() tool to create the visualization\n",
    "interactive(plot, layer=select_layer)"
   ]
  },
  {
   "cell_type": "markdown",
   "id": "thick-mistress",
   "metadata": {},
   "source": [
    "### 1.1.2 Chunk 2"
   ]
  },
  {
   "cell_type": "code",
   "execution_count": 22,
   "id": "private-strategy",
   "metadata": {},
   "outputs": [],
   "source": [
    "mri_chunk2 = nib.load(\"../datasets/Task02_Heart_320x320x96/val/images/la_022_1.nii.gz\").get_fdata().astype(np.float32)"
   ]
  },
  {
   "cell_type": "code",
   "execution_count": 23,
   "id": "received-toyota",
   "metadata": {},
   "outputs": [],
   "source": [
    "mask_chunk2 = nib.load(\"../datasets/Task02_Heart_320x320x96/val/masks/la_022_1.nii.gz\").get_fdata().astype(np.uint8)"
   ]
  },
  {
   "cell_type": "code",
   "execution_count": 24,
   "id": "comprehensive-registration",
   "metadata": {},
   "outputs": [
    {
     "data": {
      "text/plain": [
       "(320, 320, 96)"
      ]
     },
     "execution_count": 24,
     "metadata": {},
     "output_type": "execute_result"
    }
   ],
   "source": [
    "mask_chunk2.shape"
   ]
  },
  {
   "cell_type": "code",
   "execution_count": 25,
   "id": "sticky-radio",
   "metadata": {},
   "outputs": [],
   "source": [
    "mri_standardized_chunk2 = standardize(mri_chunk2.reshape((mri_chunk2.shape[0], mri_chunk2.shape[1], mri_chunk2.shape[2], 1)))"
   ]
  },
  {
   "cell_type": "code",
   "execution_count": 26,
   "id": "variable-causing",
   "metadata": {},
   "outputs": [],
   "source": [
    "mri_standardized_chunk2 = np.expand_dims(mri_standardized_chunk2, axis=0)  # Keras models require an additional dimension of 'batch_size'"
   ]
  },
  {
   "cell_type": "code",
   "execution_count": 27,
   "id": "located-comparative",
   "metadata": {},
   "outputs": [],
   "source": [
    "prediction_chunk2 = model.predict(mri_standardized_chunk2)"
   ]
  },
  {
   "cell_type": "code",
   "execution_count": 28,
   "id": "becoming-hepatitis",
   "metadata": {},
   "outputs": [],
   "source": [
    "prediction_chunk2 = np.squeeze(prediction_chunk2, axis=0)  # Remove 'batch_size' dimension"
   ]
  },
  {
   "cell_type": "code",
   "execution_count": 29,
   "id": "absolute-interface",
   "metadata": {},
   "outputs": [
    {
     "data": {
      "text/plain": [
       "(320, 320, 96, 1)"
      ]
     },
     "execution_count": 29,
     "metadata": {},
     "output_type": "execute_result"
    }
   ],
   "source": [
    "prediction_chunk2.shape"
   ]
  },
  {
   "cell_type": "code",
   "execution_count": 30,
   "id": "ecological-facing",
   "metadata": {},
   "outputs": [
    {
     "data": {
      "text/plain": [
       "array([[[[3.5335725e-05],\n",
       "         [3.5335725e-05],\n",
       "         [3.5335725e-05],\n",
       "         ...,\n",
       "         [3.5335725e-05],\n",
       "         [3.5335725e-05],\n",
       "         [3.5335725e-05]],\n",
       "\n",
       "        [[3.5335725e-05],\n",
       "         [3.5335725e-05],\n",
       "         [3.4836383e-05],\n",
       "         ...,\n",
       "         [3.5335725e-05],\n",
       "         [3.5335725e-05],\n",
       "         [3.5335725e-05]],\n",
       "\n",
       "        [[3.5335725e-05],\n",
       "         [3.4574328e-05],\n",
       "         [3.4647899e-05],\n",
       "         ...,\n",
       "         [3.5335725e-05],\n",
       "         [3.5335725e-05],\n",
       "         [3.5335725e-05]],\n",
       "\n",
       "        ...,\n",
       "\n",
       "        [[3.5335725e-05],\n",
       "         [3.6739853e-05],\n",
       "         [3.6926933e-05],\n",
       "         ...,\n",
       "         [3.5335725e-05],\n",
       "         [3.5335725e-05],\n",
       "         [3.5335725e-05]],\n",
       "\n",
       "        [[3.5335725e-05],\n",
       "         [3.5335725e-05],\n",
       "         [3.4710240e-05],\n",
       "         ...,\n",
       "         [3.5335725e-05],\n",
       "         [3.5335725e-05],\n",
       "         [3.5335725e-05]],\n",
       "\n",
       "        [[3.5335725e-05],\n",
       "         [3.5335725e-05],\n",
       "         [3.1545231e-05],\n",
       "         ...,\n",
       "         [3.5335725e-05],\n",
       "         [3.5335725e-05],\n",
       "         [3.5335725e-05]]],\n",
       "\n",
       "\n",
       "       [[[3.5335725e-05],\n",
       "         [3.2760545e-05],\n",
       "         [3.0748433e-05],\n",
       "         ...,\n",
       "         [3.5335725e-05],\n",
       "         [3.5335725e-05],\n",
       "         [3.5335725e-05]],\n",
       "\n",
       "        [[3.5335725e-05],\n",
       "         [2.8523709e-05],\n",
       "         [2.4154129e-05],\n",
       "         ...,\n",
       "         [3.5335725e-05],\n",
       "         [3.5335725e-05],\n",
       "         [3.5335725e-05]],\n",
       "\n",
       "        [[3.5335725e-05],\n",
       "         [2.7293938e-05],\n",
       "         [2.5023988e-05],\n",
       "         ...,\n",
       "         [3.5335725e-05],\n",
       "         [3.5335725e-05],\n",
       "         [3.5335725e-05]],\n",
       "\n",
       "        ...,\n",
       "\n",
       "        [[3.6689191e-05],\n",
       "         [3.2802374e-05],\n",
       "         [2.5946318e-05],\n",
       "         ...,\n",
       "         [3.5335725e-05],\n",
       "         [3.5335725e-05],\n",
       "         [3.5335725e-05]],\n",
       "\n",
       "        [[3.5335725e-05],\n",
       "         [3.0391950e-05],\n",
       "         [2.5698710e-05],\n",
       "         ...,\n",
       "         [3.5335725e-05],\n",
       "         [3.5335725e-05],\n",
       "         [3.5335725e-05]],\n",
       "\n",
       "        [[3.5335725e-05],\n",
       "         [2.9060900e-05],\n",
       "         [2.8889966e-05],\n",
       "         ...,\n",
       "         [3.5335725e-05],\n",
       "         [3.5335725e-05],\n",
       "         [3.5335725e-05]]],\n",
       "\n",
       "\n",
       "       [[[3.5335725e-05],\n",
       "         [2.4882682e-05],\n",
       "         [2.4751427e-05],\n",
       "         ...,\n",
       "         [3.5335725e-05],\n",
       "         [3.5335725e-05],\n",
       "         [3.5335725e-05]],\n",
       "\n",
       "        [[3.5335725e-05],\n",
       "         [3.8007733e-05],\n",
       "         [2.7028134e-05],\n",
       "         ...,\n",
       "         [3.5335725e-05],\n",
       "         [3.5335725e-05],\n",
       "         [3.5335725e-05]],\n",
       "\n",
       "        [[3.1099127e-05],\n",
       "         [3.3156062e-05],\n",
       "         [2.4913290e-05],\n",
       "         ...,\n",
       "         [3.5335725e-05],\n",
       "         [3.5335725e-05],\n",
       "         [3.5335725e-05]],\n",
       "\n",
       "        ...,\n",
       "\n",
       "        [[3.1821150e-05],\n",
       "         [2.9261548e-05],\n",
       "         [1.9545447e-05],\n",
       "         ...,\n",
       "         [3.5335725e-05],\n",
       "         [3.5335725e-05],\n",
       "         [3.5335725e-05]],\n",
       "\n",
       "        [[3.7752052e-05],\n",
       "         [3.2948472e-05],\n",
       "         [2.5410463e-05],\n",
       "         ...,\n",
       "         [3.5335725e-05],\n",
       "         [3.5335725e-05],\n",
       "         [3.5335725e-05]],\n",
       "\n",
       "        [[3.3111224e-05],\n",
       "         [3.3141299e-05],\n",
       "         [2.7534481e-05],\n",
       "         ...,\n",
       "         [3.5335725e-05],\n",
       "         [3.5335725e-05],\n",
       "         [3.5335725e-05]]],\n",
       "\n",
       "\n",
       "       ...,\n",
       "\n",
       "\n",
       "       [[[3.5335725e-05],\n",
       "         [2.6492360e-05],\n",
       "         [2.8810015e-05],\n",
       "         ...,\n",
       "         [3.5335725e-05],\n",
       "         [3.5335725e-05],\n",
       "         [3.5335725e-05]],\n",
       "\n",
       "        [[2.8485163e-05],\n",
       "         [2.3844406e-05],\n",
       "         [1.8911869e-05],\n",
       "         ...,\n",
       "         [3.5335725e-05],\n",
       "         [3.5335725e-05],\n",
       "         [3.5335725e-05]],\n",
       "\n",
       "        [[2.2351978e-05],\n",
       "         [2.3881839e-05],\n",
       "         [2.0386735e-05],\n",
       "         ...,\n",
       "         [3.5335725e-05],\n",
       "         [3.5335725e-05],\n",
       "         [3.5335725e-05]],\n",
       "\n",
       "        ...,\n",
       "\n",
       "        [[2.6176509e-05],\n",
       "         [2.3229684e-05],\n",
       "         [1.7523753e-05],\n",
       "         ...,\n",
       "         [3.5335725e-05],\n",
       "         [3.5335725e-05],\n",
       "         [3.5335725e-05]],\n",
       "\n",
       "        [[3.2862365e-05],\n",
       "         [3.0148087e-05],\n",
       "         [2.4131681e-05],\n",
       "         ...,\n",
       "         [3.5335725e-05],\n",
       "         [3.5335725e-05],\n",
       "         [3.5335725e-05]],\n",
       "\n",
       "        [[3.1120846e-05],\n",
       "         [3.1823361e-05],\n",
       "         [2.9975616e-05],\n",
       "         ...,\n",
       "         [3.5335725e-05],\n",
       "         [3.5335725e-05],\n",
       "         [3.2580090e-05]]],\n",
       "\n",
       "\n",
       "       [[[3.5335725e-05],\n",
       "         [3.3495191e-05],\n",
       "         [3.2917127e-05],\n",
       "         ...,\n",
       "         [3.5335725e-05],\n",
       "         [3.5335725e-05],\n",
       "         [3.5335725e-05]],\n",
       "\n",
       "        [[3.5335725e-05],\n",
       "         [3.2147913e-05],\n",
       "         [2.5591540e-05],\n",
       "         ...,\n",
       "         [3.5335725e-05],\n",
       "         [3.5335725e-05],\n",
       "         [3.5335725e-05]],\n",
       "\n",
       "        [[3.0346682e-05],\n",
       "         [3.2197309e-05],\n",
       "         [2.7428108e-05],\n",
       "         ...,\n",
       "         [3.5335725e-05],\n",
       "         [3.5335725e-05],\n",
       "         [3.5335725e-05]],\n",
       "\n",
       "        ...,\n",
       "\n",
       "        [[3.2955631e-05],\n",
       "         [2.9794330e-05],\n",
       "         [2.0993124e-05],\n",
       "         ...,\n",
       "         [3.5335725e-05],\n",
       "         [3.5335725e-05],\n",
       "         [3.5335725e-05]],\n",
       "\n",
       "        [[3.9578910e-05],\n",
       "         [3.6128597e-05],\n",
       "         [2.9066447e-05],\n",
       "         ...,\n",
       "         [3.5335725e-05],\n",
       "         [3.5335725e-05],\n",
       "         [3.5335725e-05]],\n",
       "\n",
       "        [[3.6840440e-05],\n",
       "         [3.8075610e-05],\n",
       "         [3.2422206e-05],\n",
       "         ...,\n",
       "         [3.5335725e-05],\n",
       "         [3.5335725e-05],\n",
       "         [3.1622701e-05]]],\n",
       "\n",
       "\n",
       "       [[[3.5335725e-05],\n",
       "         [3.3231081e-05],\n",
       "         [3.5367582e-05],\n",
       "         ...,\n",
       "         [3.5335725e-05],\n",
       "         [3.5335725e-05],\n",
       "         [2.6985508e-05]],\n",
       "\n",
       "        [[3.1417549e-05],\n",
       "         [3.8595976e-05],\n",
       "         [4.1193496e-05],\n",
       "         ...,\n",
       "         [3.5335725e-05],\n",
       "         [3.5335725e-05],\n",
       "         [3.5335725e-05]],\n",
       "\n",
       "        [[2.8586230e-05],\n",
       "         [3.8475948e-05],\n",
       "         [4.1035175e-05],\n",
       "         ...,\n",
       "         [3.5335725e-05],\n",
       "         [3.5335725e-05],\n",
       "         [3.5335725e-05]],\n",
       "\n",
       "        ...,\n",
       "\n",
       "        [[3.0637148e-05],\n",
       "         [3.6416357e-05],\n",
       "         [3.4643504e-05],\n",
       "         ...,\n",
       "         [3.5335725e-05],\n",
       "         [3.5335725e-05],\n",
       "         [3.5335725e-05]],\n",
       "\n",
       "        [[3.8041966e-05],\n",
       "         [4.4498909e-05],\n",
       "         [3.8745660e-05],\n",
       "         ...,\n",
       "         [3.5335725e-05],\n",
       "         [3.5335725e-05],\n",
       "         [3.5335725e-05]],\n",
       "\n",
       "        [[3.1676271e-05],\n",
       "         [3.9366154e-05],\n",
       "         [3.7099358e-05],\n",
       "         ...,\n",
       "         [3.5335725e-05],\n",
       "         [3.5335725e-05],\n",
       "         [3.5335725e-05]]]], dtype=float32)"
      ]
     },
     "execution_count": 30,
     "metadata": {},
     "output_type": "execute_result"
    }
   ],
   "source": [
    "prediction_chunk2"
   ]
  },
  {
   "cell_type": "code",
   "execution_count": 31,
   "id": "blond-memorabilia",
   "metadata": {},
   "outputs": [
    {
     "data": {
      "text/plain": [
       "numpy.ndarray"
      ]
     },
     "execution_count": 31,
     "metadata": {},
     "output_type": "execute_result"
    }
   ],
   "source": [
    "type(prediction_chunk2)"
   ]
  },
  {
   "cell_type": "code",
   "execution_count": 32,
   "id": "acknowledged-medication",
   "metadata": {},
   "outputs": [],
   "source": [
    "prediction_chunk2 = (prediction_chunk2 >= 0.5).astype(np.uint8)  # Apply \"Sigmoid\" function on predicted probabilities per voxel"
   ]
  },
  {
   "cell_type": "code",
   "execution_count": 33,
   "id": "hearing-detection",
   "metadata": {},
   "outputs": [
    {
     "data": {
      "text/plain": [
       "(320, 320, 96, 1)"
      ]
     },
     "execution_count": 33,
     "metadata": {},
     "output_type": "execute_result"
    }
   ],
   "source": [
    "prediction_chunk2.shape"
   ]
  },
  {
   "cell_type": "code",
   "execution_count": 34,
   "id": "external-disability",
   "metadata": {},
   "outputs": [],
   "source": [
    "prediction_chunk2 = prediction_chunk2.reshape((prediction_chunk2.shape[0], prediction_chunk2.shape[1], prediction_chunk2.shape[2]))"
   ]
  },
  {
   "cell_type": "code",
   "execution_count": 35,
   "id": "lesser-television",
   "metadata": {},
   "outputs": [
    {
     "data": {
      "text/plain": [
       "(320, 320, 96)"
      ]
     },
     "execution_count": 35,
     "metadata": {},
     "output_type": "execute_result"
    }
   ],
   "source": [
    "prediction_chunk2.shape"
   ]
  },
  {
   "cell_type": "code",
   "execution_count": 36,
   "id": "empirical-fundamental",
   "metadata": {},
   "outputs": [
    {
     "data": {
      "text/plain": [
       "array([0, 1], dtype=uint8)"
      ]
     },
     "execution_count": 36,
     "metadata": {},
     "output_type": "execute_result"
    }
   ],
   "source": [
    "np.unique(prediction_chunk2)"
   ]
  },
  {
   "cell_type": "markdown",
   "id": "solved-expansion",
   "metadata": {},
   "source": [
    "#### Model prediction vs groundtruth number of labels"
   ]
  },
  {
   "cell_type": "code",
   "execution_count": 37,
   "id": "portable-farming",
   "metadata": {},
   "outputs": [
    {
     "name": "stdout",
     "output_type": "stream",
     "text": [
      "Background - class 0\n",
      "9830352\n",
      "--------\n",
      "Left Atrium - class 1\n",
      "48\n"
     ]
    }
   ],
   "source": [
    "# Number of labels per class in model prediction\n",
    "print(\"Background - class 0\")\n",
    "print(len(prediction_chunk2[prediction_chunk2 == 0])) \n",
    "print(\"--------\")\n",
    "print(\"Left Atrium - class 1\")\n",
    "print(len(prediction_chunk2[prediction_chunk2 == 1]))"
   ]
  },
  {
   "cell_type": "code",
   "execution_count": 38,
   "id": "attractive-category",
   "metadata": {},
   "outputs": [
    {
     "name": "stdout",
     "output_type": "stream",
     "text": [
      "Background - class 0\n",
      "9829981\n",
      "--------\n",
      "Left Atrium - class 1\n",
      "419\n"
     ]
    }
   ],
   "source": [
    "# Number of labels per class in ground truth mask\n",
    "print(\"Background - class 0\")\n",
    "print(len(mask_chunk2[mask_chunk2 == 0])) \n",
    "print(\"--------\")\n",
    "print(\"Left Atrium - class 1\")\n",
    "print(len(mask_chunk2[mask_chunk2 == 1]))"
   ]
  },
  {
   "cell_type": "code",
   "execution_count": 39,
   "id": "changed-bunch",
   "metadata": {
    "scrolled": false
   },
   "outputs": [
    {
     "data": {
      "application/vnd.jupyter.widget-view+json": {
       "model_id": "4cb631c37f8748949c370c4e16e76d71",
       "version_major": 2,
       "version_minor": 0
      },
      "text/plain": [
       "interactive(children=(IntSlider(value=0, continuous_update=False, description='Select Layer', max=95), Output(…"
      ]
     },
     "metadata": {},
     "output_type": "display_data"
    }
   ],
   "source": [
    "# Create layer slider\n",
    "select_layer = IntSlider(min=0, max=mri_chunk2.shape[2] - 1, description='Select Layer', continuous_update=False)\n",
    "\n",
    "    \n",
    "# Define a function for plotting images\n",
    "def plot(layer):\n",
    "    print(f\"Plotting Layer: {layer}\")\n",
    "    fig = plt.figure(figsize=(20, 10))\n",
    "    \n",
    "    fig.add_subplot(1, 3, 1)\n",
    "    plt.title(\"MRI la_022\", fontsize=20)\n",
    "    plt.imshow(mri_chunk2[:, :, layer], cmap='gray');\n",
    "    plt.axis('off')\n",
    "    \n",
    "    fig.add_subplot(1, 3, 2)\n",
    "    plt.title(\"Groundtruth mask\", fontsize=20)\n",
    "    plt.imshow(mask_chunk2[:, :, layer], cmap='gray')\n",
    "    plt.axis('off');\n",
    "    \n",
    "    fig.add_subplot(1, 3, 3)\n",
    "    plt.title(\"Model prediction mask\", fontsize=20)\n",
    "    plt.imshow(prediction_chunk2[:, :, layer], cmap='gray')\n",
    "    plt.axis('off');\n",
    " \n",
    "    \n",
    "# Use the interactive() tool to create the visualization\n",
    "interactive(plot, layer=select_layer)"
   ]
  },
  {
   "cell_type": "markdown",
   "id": "aware-discussion",
   "metadata": {},
   "source": [
    "### 1.2. Visualizing prediction on la_023 file"
   ]
  },
  {
   "cell_type": "markdown",
   "id": "modular-merit",
   "metadata": {},
   "source": [
    "### 1.1.1 Chunk 1"
   ]
  },
  {
   "cell_type": "code",
   "execution_count": 40,
   "id": "lesbian-prayer",
   "metadata": {},
   "outputs": [],
   "source": [
    "mri_chunk1 = nib.load(\"../datasets/Task02_Heart_320x320x96/val/images/la_023_0.nii.gz\").get_fdata().astype(np.float32)"
   ]
  },
  {
   "cell_type": "code",
   "execution_count": 41,
   "id": "smart-petersburg",
   "metadata": {},
   "outputs": [],
   "source": [
    "mask_chunk1 = nib.load(\"../datasets/Task02_Heart_320x320x96/val/masks/la_023_0.nii.gz\").get_fdata().astype(np.uint8)"
   ]
  },
  {
   "cell_type": "code",
   "execution_count": 42,
   "id": "cardiovascular-logging",
   "metadata": {},
   "outputs": [
    {
     "data": {
      "text/plain": [
       "(320, 320, 96)"
      ]
     },
     "execution_count": 42,
     "metadata": {},
     "output_type": "execute_result"
    }
   ],
   "source": [
    "mask_chunk1.shape"
   ]
  },
  {
   "cell_type": "code",
   "execution_count": 43,
   "id": "delayed-ethics",
   "metadata": {},
   "outputs": [],
   "source": [
    "mri_standardized_chunk1 = standardize(mri_chunk1.reshape((mri_chunk1.shape[0], mri_chunk1.shape[1], mri_chunk1.shape[2], 1)))"
   ]
  },
  {
   "cell_type": "code",
   "execution_count": 44,
   "id": "sound-maine",
   "metadata": {},
   "outputs": [],
   "source": [
    "mri_standardized_chunk1 = np.expand_dims(mri_standardized_chunk1, axis=0)  # Keras models require an additional dimension of 'batch_size'"
   ]
  },
  {
   "cell_type": "code",
   "execution_count": 45,
   "id": "acquired-mixture",
   "metadata": {},
   "outputs": [],
   "source": [
    "prediction_chunk1 = model.predict(mri_standardized_chunk1)"
   ]
  },
  {
   "cell_type": "code",
   "execution_count": 46,
   "id": "municipal-brief",
   "metadata": {},
   "outputs": [],
   "source": [
    "prediction_chunk1 = np.squeeze(prediction_chunk1, axis=0)  # Remove 'batch_size' dimension"
   ]
  },
  {
   "cell_type": "code",
   "execution_count": 47,
   "id": "seventh-dubai",
   "metadata": {},
   "outputs": [
    {
     "data": {
      "text/plain": [
       "(320, 320, 96, 1)"
      ]
     },
     "execution_count": 47,
     "metadata": {},
     "output_type": "execute_result"
    }
   ],
   "source": [
    "prediction_chunk1.shape"
   ]
  },
  {
   "cell_type": "code",
   "execution_count": 48,
   "id": "jewish-criterion",
   "metadata": {},
   "outputs": [
    {
     "data": {
      "text/plain": [
       "array([[[[3.5335725e-05],\n",
       "         [3.5335725e-05],\n",
       "         [3.5335725e-05],\n",
       "         ...,\n",
       "         [3.5166933e-05],\n",
       "         [3.1231088e-05],\n",
       "         [3.0975436e-05]],\n",
       "\n",
       "        [[3.5335725e-05],\n",
       "         [3.5335725e-05],\n",
       "         [3.5335725e-05],\n",
       "         ...,\n",
       "         [3.4971188e-05],\n",
       "         [2.7791961e-05],\n",
       "         [2.9899476e-05]],\n",
       "\n",
       "        [[3.5335725e-05],\n",
       "         [3.5335725e-05],\n",
       "         [3.5335725e-05],\n",
       "         ...,\n",
       "         [3.2262316e-05],\n",
       "         [2.6313590e-05],\n",
       "         [3.0164825e-05]],\n",
       "\n",
       "        ...,\n",
       "\n",
       "        [[3.5335725e-05],\n",
       "         [3.5335725e-05],\n",
       "         [3.4731627e-05],\n",
       "         ...,\n",
       "         [3.5255514e-05],\n",
       "         [2.5194789e-05],\n",
       "         [2.4998204e-05]],\n",
       "\n",
       "        [[3.5335725e-05],\n",
       "         [3.5335725e-05],\n",
       "         [3.5335725e-05],\n",
       "         ...,\n",
       "         [3.3086162e-05],\n",
       "         [2.7738102e-05],\n",
       "         [2.7977383e-05]],\n",
       "\n",
       "        [[3.5335725e-05],\n",
       "         [3.5335725e-05],\n",
       "         [3.4795379e-05],\n",
       "         ...,\n",
       "         [2.6275426e-05],\n",
       "         [2.4667748e-05],\n",
       "         [2.7850438e-05]]],\n",
       "\n",
       "\n",
       "       [[[3.5335725e-05],\n",
       "         [3.5335725e-05],\n",
       "         [3.5335725e-05],\n",
       "         ...,\n",
       "         [2.9154171e-05],\n",
       "         [2.3983221e-05],\n",
       "         [2.1817639e-05]],\n",
       "\n",
       "        [[3.5335725e-05],\n",
       "         [3.5335725e-05],\n",
       "         [2.9472287e-05],\n",
       "         ...,\n",
       "         [2.6011005e-05],\n",
       "         [1.9938656e-05],\n",
       "         [2.3523167e-05]],\n",
       "\n",
       "        [[3.5335725e-05],\n",
       "         [3.3103333e-05],\n",
       "         [2.7200031e-05],\n",
       "         ...,\n",
       "         [2.8093020e-05],\n",
       "         [2.0419871e-05],\n",
       "         [2.5517360e-05]],\n",
       "\n",
       "        ...,\n",
       "\n",
       "        [[3.5335725e-05],\n",
       "         [2.9613493e-05],\n",
       "         [2.5552596e-05],\n",
       "         ...,\n",
       "         [2.2816941e-05],\n",
       "         [1.5692469e-05],\n",
       "         [1.6878723e-05]],\n",
       "\n",
       "        [[3.5335725e-05],\n",
       "         [2.8161710e-05],\n",
       "         [2.2488282e-05],\n",
       "         ...,\n",
       "         [2.1981961e-05],\n",
       "         [1.9140596e-05],\n",
       "         [1.6468355e-05]],\n",
       "\n",
       "        [[3.5335725e-05],\n",
       "         [3.1232190e-05],\n",
       "         [2.7692615e-05],\n",
       "         ...,\n",
       "         [2.6223006e-05],\n",
       "         [2.2522323e-05],\n",
       "         [2.2273100e-05]]],\n",
       "\n",
       "\n",
       "       [[[3.5335725e-05],\n",
       "         [3.0288224e-05],\n",
       "         [2.6459462e-05],\n",
       "         ...,\n",
       "         [2.9993491e-05],\n",
       "         [2.6669270e-05],\n",
       "         [3.0617288e-05]],\n",
       "\n",
       "        [[3.5335725e-05],\n",
       "         [3.3228360e-05],\n",
       "         [2.5908806e-05],\n",
       "         ...,\n",
       "         [3.3532102e-05],\n",
       "         [2.1370779e-05],\n",
       "         [2.9732029e-05]],\n",
       "\n",
       "        [[3.5335725e-05],\n",
       "         [3.2748299e-05],\n",
       "         [2.6888511e-05],\n",
       "         ...,\n",
       "         [2.3139763e-05],\n",
       "         [1.9385654e-05],\n",
       "         [2.9615072e-05]],\n",
       "\n",
       "        ...,\n",
       "\n",
       "        [[3.6479061e-05],\n",
       "         [3.4357792e-05],\n",
       "         [2.2182820e-05],\n",
       "         ...,\n",
       "         [1.7480539e-05],\n",
       "         [1.2827646e-05],\n",
       "         [1.6929760e-05]],\n",
       "\n",
       "        [[3.5496185e-05],\n",
       "         [3.4924498e-05],\n",
       "         [2.7374330e-05],\n",
       "         ...,\n",
       "         [2.4789459e-05],\n",
       "         [2.0545020e-05],\n",
       "         [1.6705069e-05]],\n",
       "\n",
       "        [[3.5335725e-05],\n",
       "         [3.1224983e-05],\n",
       "         [2.7185355e-05],\n",
       "         ...,\n",
       "         [2.4293267e-05],\n",
       "         [2.0940837e-05],\n",
       "         [2.0935944e-05]]],\n",
       "\n",
       "\n",
       "       ...,\n",
       "\n",
       "\n",
       "       [[[3.5335725e-05],\n",
       "         [2.6125361e-05],\n",
       "         [2.7220531e-05],\n",
       "         ...,\n",
       "         [3.5367884e-05],\n",
       "         [3.3092347e-05],\n",
       "         [3.1258052e-05]],\n",
       "\n",
       "        [[3.5181623e-05],\n",
       "         [2.1464919e-05],\n",
       "         [1.8331213e-05],\n",
       "         ...,\n",
       "         [2.0917525e-05],\n",
       "         [2.0211657e-05],\n",
       "         [2.7074906e-05]],\n",
       "\n",
       "        [[2.8346229e-05],\n",
       "         [2.2944176e-05],\n",
       "         [2.0547508e-05],\n",
       "         ...,\n",
       "         [1.8737894e-05],\n",
       "         [2.0675370e-05],\n",
       "         [2.8504890e-05]],\n",
       "\n",
       "        ...,\n",
       "\n",
       "        [[2.5821046e-05],\n",
       "         [2.5002089e-05],\n",
       "         [1.8174118e-05],\n",
       "         ...,\n",
       "         [1.5847507e-05],\n",
       "         [1.4730734e-05],\n",
       "         [2.0457061e-05]],\n",
       "\n",
       "        [[3.2040058e-05],\n",
       "         [3.0362518e-05],\n",
       "         [2.3488625e-05],\n",
       "         ...,\n",
       "         [2.0498714e-05],\n",
       "         [2.4446072e-05],\n",
       "         [2.0710990e-05]],\n",
       "\n",
       "        [[3.2056378e-05],\n",
       "         [2.9029907e-05],\n",
       "         [2.6869848e-05],\n",
       "         ...,\n",
       "         [2.4520414e-05],\n",
       "         [2.8204633e-05],\n",
       "         [2.6847361e-05]]],\n",
       "\n",
       "\n",
       "       [[[3.5335725e-05],\n",
       "         [3.0001527e-05],\n",
       "         [3.0622428e-05],\n",
       "         ...,\n",
       "         [3.9959981e-05],\n",
       "         [3.6902609e-05],\n",
       "         [3.1295516e-05]],\n",
       "\n",
       "        [[3.5335725e-05],\n",
       "         [3.4321209e-05],\n",
       "         [2.4810839e-05],\n",
       "         ...,\n",
       "         [2.6972953e-05],\n",
       "         [2.6955853e-05],\n",
       "         [2.7162239e-05]],\n",
       "\n",
       "        [[3.5335725e-05],\n",
       "         [3.0901174e-05],\n",
       "         [2.6636379e-05],\n",
       "         ...,\n",
       "         [2.9043640e-05],\n",
       "         [3.4675631e-05],\n",
       "         [2.9701594e-05]],\n",
       "\n",
       "        ...,\n",
       "\n",
       "        [[3.5209414e-05],\n",
       "         [3.3101722e-05],\n",
       "         [2.2913649e-05],\n",
       "         ...,\n",
       "         [2.2571410e-05],\n",
       "         [2.5894211e-05],\n",
       "         [2.3247858e-05]],\n",
       "\n",
       "        [[3.5949677e-05],\n",
       "         [3.6449710e-05],\n",
       "         [3.2227508e-05],\n",
       "         ...,\n",
       "         [2.6373531e-05],\n",
       "         [3.6669742e-05],\n",
       "         [2.3878605e-05]],\n",
       "\n",
       "        [[3.5335725e-05],\n",
       "         [3.5971552e-05],\n",
       "         [3.1872474e-05],\n",
       "         ...,\n",
       "         [3.1407184e-05],\n",
       "         [3.5938912e-05],\n",
       "         [2.7415739e-05]]],\n",
       "\n",
       "\n",
       "       [[[3.5335725e-05],\n",
       "         [3.0275023e-05],\n",
       "         [3.1048989e-05],\n",
       "         ...,\n",
       "         [4.3184660e-05],\n",
       "         [4.5652185e-05],\n",
       "         [3.4024040e-05]],\n",
       "\n",
       "        [[3.5335725e-05],\n",
       "         [3.9395371e-05],\n",
       "         [4.1411349e-05],\n",
       "         ...,\n",
       "         [4.4629927e-05],\n",
       "         [5.2847550e-05],\n",
       "         [3.4319542e-05]],\n",
       "\n",
       "        [[3.2867127e-05],\n",
       "         [3.7953476e-05],\n",
       "         [4.0426527e-05],\n",
       "         ...,\n",
       "         [4.3926644e-05],\n",
       "         [5.3999240e-05],\n",
       "         [3.7363945e-05]],\n",
       "\n",
       "        ...,\n",
       "\n",
       "        [[3.1183587e-05],\n",
       "         [4.1480675e-05],\n",
       "         [3.7026759e-05],\n",
       "         ...,\n",
       "         [3.5789144e-05],\n",
       "         [4.6373330e-05],\n",
       "         [3.7292641e-05]],\n",
       "\n",
       "        [[3.5338824e-05],\n",
       "         [4.4971544e-05],\n",
       "         [3.9206778e-05],\n",
       "         ...,\n",
       "         [3.6894409e-05],\n",
       "         [4.9073329e-05],\n",
       "         [3.2666736e-05]],\n",
       "\n",
       "        [[3.4950484e-05],\n",
       "         [4.0046270e-05],\n",
       "         [3.7220838e-05],\n",
       "         ...,\n",
       "         [3.5854391e-05],\n",
       "         [4.3575506e-05],\n",
       "         [3.5133413e-05]]]], dtype=float32)"
      ]
     },
     "execution_count": 48,
     "metadata": {},
     "output_type": "execute_result"
    }
   ],
   "source": [
    "prediction_chunk1"
   ]
  },
  {
   "cell_type": "code",
   "execution_count": 49,
   "id": "raising-raise",
   "metadata": {},
   "outputs": [
    {
     "data": {
      "text/plain": [
       "numpy.ndarray"
      ]
     },
     "execution_count": 49,
     "metadata": {},
     "output_type": "execute_result"
    }
   ],
   "source": [
    "type(prediction_chunk1)"
   ]
  },
  {
   "cell_type": "code",
   "execution_count": 50,
   "id": "perceived-zimbabwe",
   "metadata": {},
   "outputs": [],
   "source": [
    "prediction_chunk1 = (prediction_chunk1 >= 0.5).astype(np.uint8)  # Apply \"Sigmoid\" function on predicted probabilities per voxel"
   ]
  },
  {
   "cell_type": "code",
   "execution_count": 51,
   "id": "floating-salmon",
   "metadata": {},
   "outputs": [
    {
     "data": {
      "text/plain": [
       "(320, 320, 96, 1)"
      ]
     },
     "execution_count": 51,
     "metadata": {},
     "output_type": "execute_result"
    }
   ],
   "source": [
    "prediction_chunk1.shape"
   ]
  },
  {
   "cell_type": "code",
   "execution_count": 52,
   "id": "infinite-toner",
   "metadata": {},
   "outputs": [],
   "source": [
    "prediction_chunk1 = prediction_chunk1.reshape((prediction_chunk1.shape[0], prediction_chunk1.shape[1], prediction_chunk1.shape[2]))"
   ]
  },
  {
   "cell_type": "code",
   "execution_count": 53,
   "id": "unauthorized-columbus",
   "metadata": {},
   "outputs": [
    {
     "data": {
      "text/plain": [
       "(320, 320, 96)"
      ]
     },
     "execution_count": 53,
     "metadata": {},
     "output_type": "execute_result"
    }
   ],
   "source": [
    "prediction_chunk1.shape"
   ]
  },
  {
   "cell_type": "code",
   "execution_count": 54,
   "id": "entertaining-provision",
   "metadata": {},
   "outputs": [
    {
     "data": {
      "text/plain": [
       "array([0, 1], dtype=uint8)"
      ]
     },
     "execution_count": 54,
     "metadata": {},
     "output_type": "execute_result"
    }
   ],
   "source": [
    "np.unique(prediction_chunk1)"
   ]
  },
  {
   "cell_type": "markdown",
   "id": "periodic-resort",
   "metadata": {},
   "source": [
    "#### Model prediction vs groundtruth number of labels"
   ]
  },
  {
   "cell_type": "code",
   "execution_count": 55,
   "id": "structured-things",
   "metadata": {},
   "outputs": [
    {
     "name": "stdout",
     "output_type": "stream",
     "text": [
      "Background - class 0\n",
      "9794583\n",
      "--------\n",
      "Left Atrium - class 1\n",
      "35817\n"
     ]
    }
   ],
   "source": [
    "# Number of labels per class in model prediction\n",
    "print(\"Background - class 0\")\n",
    "print(len(prediction_chunk1[prediction_chunk1 == 0])) \n",
    "print(\"--------\")\n",
    "print(\"Left Atrium - class 1\")\n",
    "print(len(prediction_chunk1[prediction_chunk1 == 1]))"
   ]
  },
  {
   "cell_type": "code",
   "execution_count": 56,
   "id": "nonprofit-governor",
   "metadata": {},
   "outputs": [
    {
     "name": "stdout",
     "output_type": "stream",
     "text": [
      "Background - class 0\n",
      "9787196\n",
      "--------\n",
      "Left Atrium - class 1\n",
      "43204\n"
     ]
    }
   ],
   "source": [
    "# Number of labels per class in ground truth mask\n",
    "print(\"Background - class 0\")\n",
    "print(len(mask_chunk1[mask_chunk1 == 0])) \n",
    "print(\"--------\")\n",
    "print(\"Left Atrium - class 1\")\n",
    "print(len(mask_chunk1[mask_chunk1 == 1]))"
   ]
  },
  {
   "cell_type": "code",
   "execution_count": 57,
   "id": "active-causing",
   "metadata": {
    "scrolled": false
   },
   "outputs": [
    {
     "data": {
      "application/vnd.jupyter.widget-view+json": {
       "model_id": "54dc8da7101747ed80ea0c4625db2872",
       "version_major": 2,
       "version_minor": 0
      },
      "text/plain": [
       "interactive(children=(IntSlider(value=0, continuous_update=False, description='Select Layer', max=95), Output(…"
      ]
     },
     "metadata": {},
     "output_type": "display_data"
    }
   ],
   "source": [
    "# Create layer slider\n",
    "select_layer = IntSlider(min=0, max=mri_chunk1.shape[2] - 1, description='Select Layer', continuous_update=False)\n",
    "\n",
    "    \n",
    "# Define a function for plotting images\n",
    "def plot(layer):\n",
    "    print(f\"Plotting Layer: {layer}\")\n",
    "    fig = plt.figure(figsize=(20, 10))\n",
    "    \n",
    "    fig.add_subplot(1, 3, 1)\n",
    "    plt.title(\"MRI la_023\", fontsize=20)\n",
    "    plt.imshow(mri_chunk1[:, :, layer], cmap='gray');\n",
    "    plt.axis('off')\n",
    "    \n",
    "    fig.add_subplot(1, 3, 2)\n",
    "    plt.title(\"Groundtruth mask\", fontsize=20)\n",
    "    plt.imshow(mask_chunk1[:, :, layer], cmap='gray')\n",
    "    plt.axis('off');\n",
    "    \n",
    "    fig.add_subplot(1, 3, 3)\n",
    "    plt.title(\"Model prediction mask\", fontsize=20)\n",
    "    plt.imshow(prediction_chunk1[:, :, layer], cmap='gray')\n",
    "    plt.axis('off');\n",
    " \n",
    "    \n",
    "# Use the interactive() tool to create the visualization\n",
    "interactive(plot, layer=select_layer)"
   ]
  },
  {
   "cell_type": "markdown",
   "id": "awful-prevention",
   "metadata": {},
   "source": [
    "### 1.1.2 Chunk 2"
   ]
  },
  {
   "cell_type": "code",
   "execution_count": 58,
   "id": "reserved-renaissance",
   "metadata": {},
   "outputs": [],
   "source": [
    "mri_chunk2 = nib.load(\"../datasets/Task02_Heart_320x320x96/val/images/la_023_1.nii.gz\").get_fdata().astype(np.float32)"
   ]
  },
  {
   "cell_type": "code",
   "execution_count": 59,
   "id": "traditional-vegetable",
   "metadata": {},
   "outputs": [],
   "source": [
    "mask_chunk2 = nib.load(\"../datasets/Task02_Heart_320x320x96/val/masks/la_023_1.nii.gz\").get_fdata().astype(np.uint8)"
   ]
  },
  {
   "cell_type": "code",
   "execution_count": 60,
   "id": "thick-semester",
   "metadata": {},
   "outputs": [
    {
     "data": {
      "text/plain": [
       "(320, 320, 96)"
      ]
     },
     "execution_count": 60,
     "metadata": {},
     "output_type": "execute_result"
    }
   ],
   "source": [
    "mask_chunk2.shape"
   ]
  },
  {
   "cell_type": "code",
   "execution_count": 61,
   "id": "naughty-mailman",
   "metadata": {},
   "outputs": [],
   "source": [
    "mri_standardized_chunk2 = standardize(mri_chunk2.reshape((mri_chunk2.shape[0], mri_chunk2.shape[1], mri_chunk2.shape[2], 1)))"
   ]
  },
  {
   "cell_type": "code",
   "execution_count": 62,
   "id": "perfect-catch",
   "metadata": {},
   "outputs": [],
   "source": [
    "mri_standardized_chunk2 = np.expand_dims(mri_standardized_chunk2, axis=0)  # Keras models require an additional dimension of 'batch_size'"
   ]
  },
  {
   "cell_type": "code",
   "execution_count": 63,
   "id": "practical-cabinet",
   "metadata": {},
   "outputs": [],
   "source": [
    "prediction_chunk2 = model.predict(mri_standardized_chunk2)"
   ]
  },
  {
   "cell_type": "code",
   "execution_count": 64,
   "id": "mysterious-packing",
   "metadata": {},
   "outputs": [],
   "source": [
    "prediction_chunk2 = np.squeeze(prediction_chunk2, axis=0)  # Remove 'batch_size' dimension"
   ]
  },
  {
   "cell_type": "code",
   "execution_count": 65,
   "id": "comprehensive-balance",
   "metadata": {},
   "outputs": [
    {
     "data": {
      "text/plain": [
       "(320, 320, 96, 1)"
      ]
     },
     "execution_count": 65,
     "metadata": {},
     "output_type": "execute_result"
    }
   ],
   "source": [
    "prediction_chunk2.shape"
   ]
  },
  {
   "cell_type": "code",
   "execution_count": 66,
   "id": "competitive-fashion",
   "metadata": {},
   "outputs": [
    {
     "data": {
      "text/plain": [
       "array([[[[3.5335725e-05],\n",
       "         [3.5335725e-05],\n",
       "         [3.2904729e-05],\n",
       "         ...,\n",
       "         [3.5335725e-05],\n",
       "         [3.5335725e-05],\n",
       "         [3.5335725e-05]],\n",
       "\n",
       "        [[3.5335725e-05],\n",
       "         [3.4261531e-05],\n",
       "         [3.2444659e-05],\n",
       "         ...,\n",
       "         [3.5335725e-05],\n",
       "         [3.5335725e-05],\n",
       "         [3.5335725e-05]],\n",
       "\n",
       "        [[3.5335725e-05],\n",
       "         [3.2231135e-05],\n",
       "         [3.2539694e-05],\n",
       "         ...,\n",
       "         [3.5335725e-05],\n",
       "         [3.5335725e-05],\n",
       "         [3.5335725e-05]],\n",
       "\n",
       "        ...,\n",
       "\n",
       "        [[3.5335725e-05],\n",
       "         [4.0659088e-05],\n",
       "         [3.9590424e-05],\n",
       "         ...,\n",
       "         [3.5335725e-05],\n",
       "         [3.5335725e-05],\n",
       "         [3.5335725e-05]],\n",
       "\n",
       "        [[3.5335725e-05],\n",
       "         [3.7610433e-05],\n",
       "         [3.5924277e-05],\n",
       "         ...,\n",
       "         [3.5335725e-05],\n",
       "         [3.5335725e-05],\n",
       "         [3.5335725e-05]],\n",
       "\n",
       "        [[3.5335725e-05],\n",
       "         [3.3400072e-05],\n",
       "         [3.1492033e-05],\n",
       "         ...,\n",
       "         [3.5335725e-05],\n",
       "         [3.5335725e-05],\n",
       "         [3.5335725e-05]]],\n",
       "\n",
       "\n",
       "       [[[3.5335725e-05],\n",
       "         [3.0585506e-05],\n",
       "         [2.7100632e-05],\n",
       "         ...,\n",
       "         [3.5335725e-05],\n",
       "         [3.5335725e-05],\n",
       "         [3.5335725e-05]],\n",
       "\n",
       "        [[3.5335725e-05],\n",
       "         [2.5168085e-05],\n",
       "         [2.2060818e-05],\n",
       "         ...,\n",
       "         [3.5335725e-05],\n",
       "         [3.5335725e-05],\n",
       "         [3.5335725e-05]],\n",
       "\n",
       "        [[3.5335725e-05],\n",
       "         [2.8408524e-05],\n",
       "         [2.4094312e-05],\n",
       "         ...,\n",
       "         [3.5335725e-05],\n",
       "         [3.5335725e-05],\n",
       "         [3.5335725e-05]],\n",
       "\n",
       "        ...,\n",
       "\n",
       "        [[3.7854974e-05],\n",
       "         [3.3349497e-05],\n",
       "         [2.5240701e-05],\n",
       "         ...,\n",
       "         [3.5335725e-05],\n",
       "         [3.5335725e-05],\n",
       "         [3.5335725e-05]],\n",
       "\n",
       "        [[3.6429592e-05],\n",
       "         [3.2141841e-05],\n",
       "         [2.6994800e-05],\n",
       "         ...,\n",
       "         [3.5335725e-05],\n",
       "         [3.5335725e-05],\n",
       "         [3.5335725e-05]],\n",
       "\n",
       "        [[3.5335725e-05],\n",
       "         [3.1278600e-05],\n",
       "         [3.1540629e-05],\n",
       "         ...,\n",
       "         [3.5335725e-05],\n",
       "         [3.5335725e-05],\n",
       "         [3.5335725e-05]]],\n",
       "\n",
       "\n",
       "       [[[3.5335725e-05],\n",
       "         [2.5197192e-05],\n",
       "         [2.5251606e-05],\n",
       "         ...,\n",
       "         [3.5335725e-05],\n",
       "         [3.5335725e-05],\n",
       "         [3.5335725e-05]],\n",
       "\n",
       "        [[3.3161028e-05],\n",
       "         [4.0269118e-05],\n",
       "         [2.7323367e-05],\n",
       "         ...,\n",
       "         [3.5335725e-05],\n",
       "         [3.5335725e-05],\n",
       "         [3.5335725e-05]],\n",
       "\n",
       "        [[2.8340011e-05],\n",
       "         [3.0837469e-05],\n",
       "         [2.2086668e-05],\n",
       "         ...,\n",
       "         [3.5335725e-05],\n",
       "         [3.5335725e-05],\n",
       "         [3.5335725e-05]],\n",
       "\n",
       "        ...,\n",
       "\n",
       "        [[2.9591332e-05],\n",
       "         [2.7301852e-05],\n",
       "         [1.6778256e-05],\n",
       "         ...,\n",
       "         [3.5335725e-05],\n",
       "         [3.5335725e-05],\n",
       "         [3.5335725e-05]],\n",
       "\n",
       "        [[3.5411998e-05],\n",
       "         [3.0703748e-05],\n",
       "         [2.2381457e-05],\n",
       "         ...,\n",
       "         [3.5335725e-05],\n",
       "         [3.5335725e-05],\n",
       "         [3.5335725e-05]],\n",
       "\n",
       "        [[3.3563392e-05],\n",
       "         [3.3594777e-05],\n",
       "         [2.6931315e-05],\n",
       "         ...,\n",
       "         [3.5335725e-05],\n",
       "         [3.5335725e-05],\n",
       "         [3.5335725e-05]]],\n",
       "\n",
       "\n",
       "       ...,\n",
       "\n",
       "\n",
       "       [[[3.4832727e-05],\n",
       "         [2.6787184e-05],\n",
       "         [2.8497712e-05],\n",
       "         ...,\n",
       "         [3.5335725e-05],\n",
       "         [3.5335725e-05],\n",
       "         [3.5335725e-05]],\n",
       "\n",
       "        [[2.5967876e-05],\n",
       "         [2.4649102e-05],\n",
       "         [1.8527933e-05],\n",
       "         ...,\n",
       "         [3.5335725e-05],\n",
       "         [3.5335725e-05],\n",
       "         [3.5335725e-05]],\n",
       "\n",
       "        [[2.1989761e-05],\n",
       "         [2.3316245e-05],\n",
       "         [1.8318246e-05],\n",
       "         ...,\n",
       "         [3.5335725e-05],\n",
       "         [3.5335725e-05],\n",
       "         [3.5335725e-05]],\n",
       "\n",
       "        ...,\n",
       "\n",
       "        [[2.6113054e-05],\n",
       "         [2.1524096e-05],\n",
       "         [1.5784022e-05],\n",
       "         ...,\n",
       "         [3.5335725e-05],\n",
       "         [3.5335725e-05],\n",
       "         [3.5335725e-05]],\n",
       "\n",
       "        [[3.2956483e-05],\n",
       "         [2.8868184e-05],\n",
       "         [2.3224946e-05],\n",
       "         ...,\n",
       "         [3.5335725e-05],\n",
       "         [3.5335725e-05],\n",
       "         [3.5335725e-05]],\n",
       "\n",
       "        [[3.1608048e-05],\n",
       "         [3.3428722e-05],\n",
       "         [3.1324984e-05],\n",
       "         ...,\n",
       "         [3.5335725e-05],\n",
       "         [3.5335725e-05],\n",
       "         [3.2580090e-05]]],\n",
       "\n",
       "\n",
       "       [[[3.5689864e-05],\n",
       "         [3.3792254e-05],\n",
       "         [3.1804098e-05],\n",
       "         ...,\n",
       "         [3.5335725e-05],\n",
       "         [3.5335725e-05],\n",
       "         [3.5335725e-05]],\n",
       "\n",
       "        [[3.2455089e-05],\n",
       "         [3.2329703e-05],\n",
       "         [2.4738378e-05],\n",
       "         ...,\n",
       "         [3.5335725e-05],\n",
       "         [3.5335725e-05],\n",
       "         [3.5335725e-05]],\n",
       "\n",
       "        [[2.9593590e-05],\n",
       "         [3.1502033e-05],\n",
       "         [2.6088685e-05],\n",
       "         ...,\n",
       "         [3.5335725e-05],\n",
       "         [3.5335725e-05],\n",
       "         [3.5335725e-05]],\n",
       "\n",
       "        ...,\n",
       "\n",
       "        [[3.0616731e-05],\n",
       "         [2.6456990e-05],\n",
       "         [1.9041101e-05],\n",
       "         ...,\n",
       "         [3.5335725e-05],\n",
       "         [3.5335725e-05],\n",
       "         [3.5335725e-05]],\n",
       "\n",
       "        [[3.8383962e-05],\n",
       "         [3.3724325e-05],\n",
       "         [2.7489907e-05],\n",
       "         ...,\n",
       "         [3.5335725e-05],\n",
       "         [3.5335725e-05],\n",
       "         [3.5335725e-05]],\n",
       "\n",
       "        [[3.7589314e-05],\n",
       "         [3.9121136e-05],\n",
       "         [3.1847896e-05],\n",
       "         ...,\n",
       "         [3.5335725e-05],\n",
       "         [3.5335725e-05],\n",
       "         [3.1622669e-05]]],\n",
       "\n",
       "\n",
       "       [[[3.4384015e-05],\n",
       "         [3.4332505e-05],\n",
       "         [3.6621237e-05],\n",
       "         ...,\n",
       "         [3.5335725e-05],\n",
       "         [3.5335725e-05],\n",
       "         [2.6985508e-05]],\n",
       "\n",
       "        [[2.9856505e-05],\n",
       "         [3.7616854e-05],\n",
       "         [3.9407547e-05],\n",
       "         ...,\n",
       "         [3.5335725e-05],\n",
       "         [3.5335725e-05],\n",
       "         [3.5335725e-05]],\n",
       "\n",
       "        [[2.7265558e-05],\n",
       "         [3.8117389e-05],\n",
       "         [3.9818700e-05],\n",
       "         ...,\n",
       "         [3.5335725e-05],\n",
       "         [3.5335725e-05],\n",
       "         [3.5335725e-05]],\n",
       "\n",
       "        ...,\n",
       "\n",
       "        [[2.8236554e-05],\n",
       "         [3.3890879e-05],\n",
       "         [3.0751366e-05],\n",
       "         ...,\n",
       "         [3.5335725e-05],\n",
       "         [3.5335725e-05],\n",
       "         [3.5335725e-05]],\n",
       "\n",
       "        [[3.7318507e-05],\n",
       "         [4.2273852e-05],\n",
       "         [3.6742200e-05],\n",
       "         ...,\n",
       "         [3.5335725e-05],\n",
       "         [3.5335725e-05],\n",
       "         [3.5335725e-05]],\n",
       "\n",
       "        [[3.0457144e-05],\n",
       "         [3.8799091e-05],\n",
       "         [3.6574711e-05],\n",
       "         ...,\n",
       "         [3.5335725e-05],\n",
       "         [3.5335725e-05],\n",
       "         [3.5335725e-05]]]], dtype=float32)"
      ]
     },
     "execution_count": 66,
     "metadata": {},
     "output_type": "execute_result"
    }
   ],
   "source": [
    "prediction_chunk2"
   ]
  },
  {
   "cell_type": "code",
   "execution_count": 67,
   "id": "integrated-formula",
   "metadata": {},
   "outputs": [
    {
     "data": {
      "text/plain": [
       "numpy.ndarray"
      ]
     },
     "execution_count": 67,
     "metadata": {},
     "output_type": "execute_result"
    }
   ],
   "source": [
    "type(prediction_chunk2)"
   ]
  },
  {
   "cell_type": "code",
   "execution_count": 68,
   "id": "determined-tongue",
   "metadata": {},
   "outputs": [],
   "source": [
    "prediction_chunk2 = (prediction_chunk2 >= 0.5).astype(np.uint8)  # Apply \"Sigmoid\" function on predicted probabilities per voxel"
   ]
  },
  {
   "cell_type": "code",
   "execution_count": 69,
   "id": "positive-kansas",
   "metadata": {},
   "outputs": [
    {
     "data": {
      "text/plain": [
       "(320, 320, 96, 1)"
      ]
     },
     "execution_count": 69,
     "metadata": {},
     "output_type": "execute_result"
    }
   ],
   "source": [
    "prediction_chunk2.shape"
   ]
  },
  {
   "cell_type": "code",
   "execution_count": 70,
   "id": "incident-steel",
   "metadata": {},
   "outputs": [],
   "source": [
    "prediction_chunk2 = prediction_chunk2.reshape((prediction_chunk2.shape[0], prediction_chunk2.shape[1], prediction_chunk2.shape[2]))"
   ]
  },
  {
   "cell_type": "code",
   "execution_count": 71,
   "id": "sporting-bermuda",
   "metadata": {},
   "outputs": [
    {
     "data": {
      "text/plain": [
       "array([0], dtype=uint8)"
      ]
     },
     "execution_count": 71,
     "metadata": {},
     "output_type": "execute_result"
    }
   ],
   "source": [
    "np.unique(prediction_chunk2)"
   ]
  },
  {
   "cell_type": "markdown",
   "id": "failing-scientist",
   "metadata": {},
   "source": [
    "#### Model prediction vs groundtruth number of labels"
   ]
  },
  {
   "cell_type": "code",
   "execution_count": 72,
   "id": "electric-hearts",
   "metadata": {},
   "outputs": [
    {
     "name": "stdout",
     "output_type": "stream",
     "text": [
      "Background - class 0\n",
      "9830400\n",
      "--------\n",
      "Left Atrium - class 1\n",
      "0\n"
     ]
    }
   ],
   "source": [
    "# Number of labels per class in model prediction\n",
    "print(\"Background - class 0\")\n",
    "print(len(prediction_chunk2[prediction_chunk2 == 0])) \n",
    "print(\"--------\")\n",
    "print(\"Left Atrium - class 1\")\n",
    "print(len(prediction_chunk2[prediction_chunk2 == 1]))"
   ]
  },
  {
   "cell_type": "code",
   "execution_count": 73,
   "id": "greenhouse-founder",
   "metadata": {},
   "outputs": [
    {
     "name": "stdout",
     "output_type": "stream",
     "text": [
      "Background - class 0\n",
      "9830400\n",
      "--------\n",
      "Left Atrium - class 1\n",
      "0\n"
     ]
    }
   ],
   "source": [
    "# Number of labels per class in ground truth mask\n",
    "print(\"Background - class 0\")\n",
    "print(len(mask_chunk2[mask_chunk2 == 0])) \n",
    "print(\"--------\")\n",
    "print(\"Left Atrium - class 1\")\n",
    "print(len(mask_chunk2[mask_chunk2 == 1]))"
   ]
  },
  {
   "cell_type": "code",
   "execution_count": 74,
   "id": "golden-outline",
   "metadata": {
    "scrolled": false
   },
   "outputs": [
    {
     "data": {
      "application/vnd.jupyter.widget-view+json": {
       "model_id": "5b78acc5245d40cd8e3783f43db4776c",
       "version_major": 2,
       "version_minor": 0
      },
      "text/plain": [
       "interactive(children=(IntSlider(value=0, continuous_update=False, description='Select Layer', max=95), Output(…"
      ]
     },
     "metadata": {},
     "output_type": "display_data"
    }
   ],
   "source": [
    "# Create layer slider\n",
    "select_layer = IntSlider(min=0, max=mri_chunk2.shape[2] - 1, description='Select Layer', continuous_update=False)\n",
    "\n",
    "    \n",
    "# Define a function for plotting images\n",
    "def plot(layer):\n",
    "    print(f\"Plotting Layer: {layer}\")\n",
    "    fig = plt.figure(figsize=(20, 10))\n",
    "    \n",
    "    fig.add_subplot(1, 3, 1)\n",
    "    plt.title(\"MRI la_023\", fontsize=20)\n",
    "    plt.imshow(mri_chunk2[:, :, layer], cmap='gray');\n",
    "    plt.axis('off')\n",
    "    \n",
    "    fig.add_subplot(1, 3, 2)\n",
    "    plt.title(\"Groundtruth mask\", fontsize=20)\n",
    "    plt.imshow(mask_chunk2[:, :, layer], cmap='gray')\n",
    "    plt.axis('off');\n",
    "    \n",
    "    fig.add_subplot(1, 3, 3)\n",
    "    plt.title(\"Model prediction mask\", fontsize=20)\n",
    "    plt.imshow(prediction_chunk2[:, :, layer], cmap='gray')\n",
    "    plt.axis('off');\n",
    " \n",
    "    \n",
    "# Use the interactive() tool to create the visualization\n",
    "interactive(plot, layer=select_layer)"
   ]
  },
  {
   "cell_type": "markdown",
   "id": "noticed-runner",
   "metadata": {},
   "source": [
    "### 2. Testing on the medical decathlon test images for Task 2"
   ]
  },
  {
   "cell_type": "code",
   "execution_count": 75,
   "id": "alien-combine",
   "metadata": {},
   "outputs": [],
   "source": [
    "def generate_model_prediction(model, mri):\n",
    "    mri_standardized = standardize(mri)\n",
    "    mri_standardized = np.expand_dims(mri_standardized, axis=0)  # Keras models require an additional dimension of 'batch_size'\n",
    "\n",
    "    prediction = model.predict(mri_standardized)\n",
    "    prediction = np.squeeze(prediction, axis=0)  # Remove 'batch_size' dimension\n",
    "\n",
    "    prediction = (prediction >= 0.5).astype(np.uint8)  # Apply \"Sigmoid\" function on predicted probabilities per voxel\n",
    "    prediction = prediction.reshape(prediction.shape[0], prediction.shape[1], prediction.shape[2])  # Remove extra channel dimension\n",
    "\n",
    "    return prediction"
   ]
  },
  {
   "cell_type": "code",
   "execution_count": 76,
   "id": "minimal-greene",
   "metadata": {},
   "outputs": [],
   "source": [
    "def generate_model_prediction_full_file_chunks(model, mri):\n",
    "    file_layer_size = 96\n",
    "    original_mri_image_height_size = mri.shape[0]\n",
    "    original_mri_image_width_size = mri.shape[1]\n",
    "    original_file_layer_size = mri.shape[2]\n",
    "\n",
    "    num_chunks = int(np.ceil(original_file_layer_size / file_layer_size))\n",
    "    prediction = np.zeros((original_mri_image_height_size, original_mri_image_width_size, original_file_layer_size))\n",
    "    chunks = np.zeros((num_chunks, original_mri_image_height_size, original_mri_image_width_size, file_layer_size, 1))\n",
    "\n",
    "    reshaped_mri = mri.reshape((original_mri_image_height_size, original_mri_image_width_size, original_file_layer_size, 1))\n",
    "\n",
    "    # Split the file into chunks\n",
    "    for i in range(num_chunks):\n",
    "        if i == num_chunks - 1:  # last iteration (padding the last chunk with zeros and using it)\n",
    "            chunks[i, :, :, :original_file_layer_size % file_layer_size, :] = reshaped_mri[:, :, i*file_layer_size: i*file_layer_size + (original_file_layer_size % file_layer_size), :]\n",
    "        else:\n",
    "            chunks[i, :, :, :, :] = reshaped_mri[:, :, i*file_layer_size: (i+1)*file_layer_size, :]\n",
    "\n",
    "    # Generate predictions per chunk\n",
    "    for i in range(num_chunks):\n",
    "        if i == num_chunks - 1:  # Last chunk, only get the remainder of the layers\n",
    "            prediction[:, :, i*file_layer_size:] = generate_model_prediction(model=model, mri=chunks[i, :, :, :])[:, :, :original_file_layer_size - (i*file_layer_size)]  # Returns type np.uint8\n",
    "        else:\n",
    "            prediction[:, :, i*file_layer_size: (i+1)*file_layer_size] = generate_model_prediction(model=model, mri=chunks[i, :, :, :])  # Returns type np.uint8\n",
    "    \n",
    "    return prediction"
   ]
  },
  {
   "cell_type": "markdown",
   "id": "sitting-venice",
   "metadata": {},
   "source": [
    "### 2.1 Visualizing prediction on la_002 file"
   ]
  },
  {
   "cell_type": "code",
   "execution_count": 77,
   "id": "entire-white",
   "metadata": {},
   "outputs": [],
   "source": [
    "mri = nib.load(\"../datasets/Task02_Heart/test_images_for_model_prediction_submission/la_002.nii.gz\").get_fdata().astype(np.float32)"
   ]
  },
  {
   "cell_type": "code",
   "execution_count": 78,
   "id": "capable-mirror",
   "metadata": {},
   "outputs": [
    {
     "data": {
      "text/plain": [
       "(320, 320, 140)"
      ]
     },
     "execution_count": 78,
     "metadata": {},
     "output_type": "execute_result"
    }
   ],
   "source": [
    "mri.shape"
   ]
  },
  {
   "cell_type": "code",
   "execution_count": 79,
   "id": "stainless-contest",
   "metadata": {},
   "outputs": [],
   "source": [
    "prediction = generate_model_prediction_full_file_chunks(model, mri)"
   ]
  },
  {
   "cell_type": "code",
   "execution_count": 80,
   "id": "recent-disclosure",
   "metadata": {},
   "outputs": [
    {
     "data": {
      "text/plain": [
       "(320, 320, 140)"
      ]
     },
     "execution_count": 80,
     "metadata": {},
     "output_type": "execute_result"
    }
   ],
   "source": [
    "prediction.shape"
   ]
  },
  {
   "cell_type": "code",
   "execution_count": 81,
   "id": "grateful-cursor",
   "metadata": {},
   "outputs": [
    {
     "data": {
      "text/plain": [
       "numpy.ndarray"
      ]
     },
     "execution_count": 81,
     "metadata": {},
     "output_type": "execute_result"
    }
   ],
   "source": [
    "type(prediction)"
   ]
  },
  {
   "cell_type": "code",
   "execution_count": 82,
   "id": "plastic-stephen",
   "metadata": {},
   "outputs": [],
   "source": [
    "prediction = (prediction >= 0.5).astype(np.uint8)  # Apply \"Sigmoid\" function on predicted probabilities per voxel"
   ]
  },
  {
   "cell_type": "code",
   "execution_count": 83,
   "id": "returning-warehouse",
   "metadata": {},
   "outputs": [
    {
     "data": {
      "text/plain": [
       "(320, 320, 140)"
      ]
     },
     "execution_count": 83,
     "metadata": {},
     "output_type": "execute_result"
    }
   ],
   "source": [
    "prediction.shape"
   ]
  },
  {
   "cell_type": "code",
   "execution_count": 84,
   "id": "solid-superintendent",
   "metadata": {},
   "outputs": [
    {
     "data": {
      "text/plain": [
       "array([0, 1], dtype=uint8)"
      ]
     },
     "execution_count": 84,
     "metadata": {},
     "output_type": "execute_result"
    }
   ],
   "source": [
    "np.unique(prediction)"
   ]
  },
  {
   "cell_type": "markdown",
   "id": "structured-ability",
   "metadata": {},
   "source": [
    "#### Model prediction number of labels (no available masks)"
   ]
  },
  {
   "cell_type": "code",
   "execution_count": 85,
   "id": "compliant-mountain",
   "metadata": {},
   "outputs": [
    {
     "name": "stdout",
     "output_type": "stream",
     "text": [
      "Background - class 0\n",
      "14310268\n",
      "--------\n",
      "Left Atrium - class 1\n",
      "25732\n"
     ]
    }
   ],
   "source": [
    "# Number of labels per class in model prediction\n",
    "print(\"Background - class 0\")\n",
    "print(len(prediction[prediction == 0])) \n",
    "print(\"--------\")\n",
    "print(\"Left Atrium - class 1\")\n",
    "print(len(prediction[prediction == 1]))"
   ]
  },
  {
   "cell_type": "code",
   "execution_count": 86,
   "id": "moving-capacity",
   "metadata": {
    "scrolled": true
   },
   "outputs": [
    {
     "data": {
      "application/vnd.jupyter.widget-view+json": {
       "model_id": "ce59e33c6c4d49018219397f83264ebe",
       "version_major": 2,
       "version_minor": 0
      },
      "text/plain": [
       "interactive(children=(IntSlider(value=0, continuous_update=False, description='Select Layer', max=139), Output…"
      ]
     },
     "metadata": {},
     "output_type": "display_data"
    }
   ],
   "source": [
    "# Create layer slider\n",
    "select_layer = IntSlider(min=0, max=mri.shape[2] - 1, description='Select Layer', continuous_update=False)\n",
    "\n",
    "    \n",
    "# Define a function for plotting images\n",
    "def plot(layer):\n",
    "    print(f\"Plotting Layer: {layer}\")\n",
    "    fig = plt.figure(figsize=(20, 10))\n",
    "    \n",
    "    fig.add_subplot(1, 2, 1)\n",
    "    plt.title(\"la_002\", fontsize=20)\n",
    "    plt.imshow(mri[:, :, layer], cmap='gray');\n",
    "    plt.axis('off')\n",
    "    \n",
    "    fig.add_subplot(1, 2, 2)\n",
    "    plt.title(\"Model prediction mask\", fontsize=20)\n",
    "    plt.imshow(prediction[:, :, layer], cmap='gray')\n",
    "    plt.axis('off');\n",
    "\n",
    "# Use the interactive() tool to create the visualization\n",
    "interactive(plot, layer=select_layer)"
   ]
  },
  {
   "cell_type": "markdown",
   "id": "respected-johnston",
   "metadata": {},
   "source": [
    "### 2.2 Visualizing prediction on la_001 file (Original size bigger than model input size, predictions need to be resized to original size as well)"
   ]
  },
  {
   "cell_type": "code",
   "execution_count": 87,
   "id": "continued-charter",
   "metadata": {},
   "outputs": [],
   "source": [
    "mri = nib.load(\"../datasets/Task02_Heart/test_images_for_model_prediction_submission/la_001.nii.gz\").get_fdata().astype(np.float32)"
   ]
  },
  {
   "cell_type": "code",
   "execution_count": 88,
   "id": "patient-scientist",
   "metadata": {},
   "outputs": [
    {
     "data": {
      "text/plain": [
       "(400, 400, 180)"
      ]
     },
     "execution_count": 88,
     "metadata": {},
     "output_type": "execute_result"
    }
   ],
   "source": [
    "mri.shape"
   ]
  },
  {
   "cell_type": "code",
   "execution_count": 89,
   "id": "cordless-factor",
   "metadata": {},
   "outputs": [],
   "source": [
    "transform = A.Compose(\n",
    "    p=1.0,\n",
    "    transforms=[\n",
    "        A.Resize(\n",
    "            height=320,\n",
    "            width=320,\n",
    "            interpolation=1,\n",
    "            p=1\n",
    "        )\n",
    "    ]\n",
    ")\n",
    "\n",
    "transform_original_dimensions = A.Compose(\n",
    "    p=1.0,\n",
    "    transforms=[\n",
    "        A.Resize(\n",
    "            height=mri.shape[0],\n",
    "            width=mri.shape[1],\n",
    "            interpolation=1,\n",
    "            p=1\n",
    "        )\n",
    "    ]\n",
    ")"
   ]
  },
  {
   "cell_type": "code",
   "execution_count": 90,
   "id": "express-soccer",
   "metadata": {},
   "outputs": [],
   "source": [
    "# Case 1: If there are more than one channel, Albumentations.Resize() would only work on each\n",
    "#  channel separately, working on all dimensions at once would cause it to fail\n",
    "if len(mri.shape) >= 4:\n",
    "    temp_mri_channels = np.zeros((image_height_size, image_width_size, original_file_layer_size, mri.shape[3]))\n",
    "    for i in range(int(mri.shape[3])):\n",
    "        transformed = transform(image=mri[:, :, :, i])\n",
    "        temp_mri = transformed[\"image\"]\n",
    "        temp_mri_channels[:, :, :, i] = temp_mri[:, :, :]\n",
    "\n",
    "    mri = temp_mri_channels\n",
    "else:\n",
    "    # Case 2: One channel file, Albumentations.Resize() would work normally\n",
    "    transformed = transform(image=mri)\n",
    "    mri = transformed[\"image\"]"
   ]
  },
  {
   "cell_type": "code",
   "execution_count": 91,
   "id": "prospective-realtor",
   "metadata": {},
   "outputs": [
    {
     "data": {
      "text/plain": [
       "(320, 320, 180)"
      ]
     },
     "execution_count": 91,
     "metadata": {},
     "output_type": "execute_result"
    }
   ],
   "source": [
    "mri.shape"
   ]
  },
  {
   "cell_type": "code",
   "execution_count": 92,
   "id": "objective-bones",
   "metadata": {},
   "outputs": [],
   "source": [
    "prediction = generate_model_prediction_full_file_chunks(model, mri)"
   ]
  },
  {
   "cell_type": "code",
   "execution_count": 93,
   "id": "spoken-medicine",
   "metadata": {},
   "outputs": [
    {
     "data": {
      "text/plain": [
       "(320, 320, 180)"
      ]
     },
     "execution_count": 93,
     "metadata": {},
     "output_type": "execute_result"
    }
   ],
   "source": [
    "prediction.shape"
   ]
  },
  {
   "cell_type": "code",
   "execution_count": 94,
   "id": "sunset-album",
   "metadata": {},
   "outputs": [
    {
     "data": {
      "text/plain": [
       "numpy.ndarray"
      ]
     },
     "execution_count": 94,
     "metadata": {},
     "output_type": "execute_result"
    }
   ],
   "source": [
    "type(prediction)"
   ]
  },
  {
   "cell_type": "code",
   "execution_count": 95,
   "id": "respective-restaurant",
   "metadata": {},
   "outputs": [],
   "source": [
    "prediction = (prediction >= 0.5).astype(np.uint8)  # Apply \"Sigmoid\" function on predicted probabilities per voxel"
   ]
  },
  {
   "cell_type": "code",
   "execution_count": 96,
   "id": "addressed-trial",
   "metadata": {},
   "outputs": [
    {
     "data": {
      "text/plain": [
       "(320, 320, 180)"
      ]
     },
     "execution_count": 96,
     "metadata": {},
     "output_type": "execute_result"
    }
   ],
   "source": [
    "prediction.shape"
   ]
  },
  {
   "cell_type": "code",
   "execution_count": 97,
   "id": "statewide-romance",
   "metadata": {},
   "outputs": [
    {
     "data": {
      "text/plain": [
       "array([0, 1], dtype=uint8)"
      ]
     },
     "execution_count": 97,
     "metadata": {},
     "output_type": "execute_result"
    }
   ],
   "source": [
    "np.unique(prediction)"
   ]
  },
  {
   "cell_type": "markdown",
   "id": "compound-script",
   "metadata": {},
   "source": [
    "#### Model prediction number of labels (no available masks)"
   ]
  },
  {
   "cell_type": "code",
   "execution_count": 98,
   "id": "framed-journalist",
   "metadata": {},
   "outputs": [
    {
     "name": "stdout",
     "output_type": "stream",
     "text": [
      "Background - class 0\n",
      "18398595\n",
      "--------\n",
      "Left Atrium - class 1\n",
      "33405\n"
     ]
    }
   ],
   "source": [
    "# Number of labels per class in model prediction\n",
    "print(\"Background - class 0\")\n",
    "print(len(prediction[prediction == 0])) \n",
    "print(\"--------\")\n",
    "print(\"Left Atrium - class 1\")\n",
    "print(len(prediction[prediction == 1]))"
   ]
  },
  {
   "cell_type": "code",
   "execution_count": 99,
   "id": "short-southwest",
   "metadata": {
    "scrolled": true
   },
   "outputs": [
    {
     "data": {
      "application/vnd.jupyter.widget-view+json": {
       "model_id": "4a2d13c57ee64a59afb87e419b2a9f6b",
       "version_major": 2,
       "version_minor": 0
      },
      "text/plain": [
       "interactive(children=(IntSlider(value=0, continuous_update=False, description='Select Layer', max=179), Output…"
      ]
     },
     "metadata": {},
     "output_type": "display_data"
    }
   ],
   "source": [
    "# Create layer slider\n",
    "select_layer = IntSlider(min=0, max=mri.shape[2] - 1, description='Select Layer', continuous_update=False)\n",
    "\n",
    "    \n",
    "# Define a function for plotting images\n",
    "def plot(layer):\n",
    "    print(f\"Plotting Layer: {layer}\")\n",
    "    fig = plt.figure(figsize=(20, 10))\n",
    "    \n",
    "    fig.add_subplot(1, 2, 1)\n",
    "    plt.title(\"la_001\", fontsize=20)\n",
    "    plt.imshow(mri[:, :, layer], cmap='gray');\n",
    "    plt.axis('off')\n",
    "    \n",
    "    fig.add_subplot(1, 2, 2)\n",
    "    plt.title(\"Model prediction mask\", fontsize=20)\n",
    "    plt.imshow(prediction[:, :, layer], cmap='gray')\n",
    "    plt.axis('off');\n",
    "\n",
    "# Use the interactive() tool to create the visualization\n",
    "interactive(plot, layer=select_layer)"
   ]
  },
  {
   "cell_type": "markdown",
   "id": "received-checkout",
   "metadata": {},
   "source": [
    "#### Resizing to original size"
   ]
  },
  {
   "cell_type": "code",
   "execution_count": 100,
   "id": "smaller-investigation",
   "metadata": {},
   "outputs": [],
   "source": [
    "prediction = prediction.astype(np.uint8)\n",
    "\n",
    "# Transforming both image and mask at the same time yields different amount of labels\n",
    "#  than doing them separately\n",
    "transformed_mri = transform_original_dimensions(image=mri)\n",
    "transformed_prediction = transform_original_dimensions(image=prediction)\n",
    "\n",
    "original_size_mri = transformed_mri[\"image\"].astype(np.float32)\n",
    "original_size_prediction = transformed_prediction[\"image\"].astype(np.uint8)"
   ]
  },
  {
   "cell_type": "code",
   "execution_count": 101,
   "id": "incoming-freeware",
   "metadata": {},
   "outputs": [
    {
     "data": {
      "text/plain": [
       "(400, 400, 180)"
      ]
     },
     "execution_count": 101,
     "metadata": {},
     "output_type": "execute_result"
    }
   ],
   "source": [
    "original_size_mri.shape"
   ]
  },
  {
   "cell_type": "code",
   "execution_count": 102,
   "id": "placed-engineer",
   "metadata": {},
   "outputs": [
    {
     "data": {
      "text/plain": [
       "(400, 400, 180)"
      ]
     },
     "execution_count": 102,
     "metadata": {},
     "output_type": "execute_result"
    }
   ],
   "source": [
    "original_size_prediction.shape"
   ]
  },
  {
   "cell_type": "code",
   "execution_count": 103,
   "id": "environmental-solomon",
   "metadata": {},
   "outputs": [
    {
     "name": "stdout",
     "output_type": "stream",
     "text": [
      "Background - class 0\n",
      "28747979\n",
      "--------\n",
      "Left Atrium - class 1\n",
      "52021\n"
     ]
    }
   ],
   "source": [
    "# Number of labels per class in model prediction\n",
    "print(\"Background - class 0\")\n",
    "print(len(original_size_prediction[original_size_prediction == 0])) \n",
    "print(\"--------\")\n",
    "print(\"Left Atrium - class 1\")\n",
    "print(len(original_size_prediction[original_size_prediction == 1]))"
   ]
  },
  {
   "cell_type": "code",
   "execution_count": 104,
   "id": "traditional-board",
   "metadata": {},
   "outputs": [
    {
     "data": {
      "application/vnd.jupyter.widget-view+json": {
       "model_id": "9d344c7f204e4c359e3be8e89027f5cc",
       "version_major": 2,
       "version_minor": 0
      },
      "text/plain": [
       "interactive(children=(IntSlider(value=0, continuous_update=False, description='Select Layer', max=179), Output…"
      ]
     },
     "metadata": {},
     "output_type": "display_data"
    }
   ],
   "source": [
    "# Create layer slider\n",
    "select_layer = IntSlider(min=0, max=original_size_mri.shape[2] - 1, description='Select Layer', continuous_update=False)\n",
    "\n",
    "    \n",
    "# Define a function for plotting images\n",
    "def plot(layer):\n",
    "    print(f\"Plotting Layer: {layer}\")\n",
    "    fig = plt.figure(figsize=(20, 10))\n",
    "    \n",
    "    fig.add_subplot(1, 2, 1)\n",
    "    plt.title(\"la_001\", fontsize=20)\n",
    "    plt.imshow(original_size_mri[:, :, layer], cmap='gray');\n",
    "    plt.axis('off')\n",
    "    \n",
    "    fig.add_subplot(1, 2, 2)\n",
    "    plt.title(\"Model prediction mask\", fontsize=20)\n",
    "    plt.imshow(original_size_prediction[:, :, layer], cmap='gray')\n",
    "    plt.axis('off');\n",
    "\n",
    "# Use the interactive() tool to create the visualization\n",
    "interactive(plot, layer=select_layer)"
   ]
  },
  {
   "cell_type": "code",
   "execution_count": null,
   "id": "tender-canvas",
   "metadata": {},
   "outputs": [],
   "source": []
  }
 ],
 "metadata": {
  "kernelspec": {
   "display_name": "Python 3",
   "language": "python",
   "name": "python3"
  },
  "language_info": {
   "codemirror_mode": {
    "name": "ipython",
    "version": 3
   },
   "file_extension": ".py",
   "mimetype": "text/x-python",
   "name": "python",
   "nbconvert_exporter": "python",
   "pygments_lexer": "ipython3",
   "version": "3.7.10"
  }
 },
 "nbformat": 4,
 "nbformat_minor": 5
}
