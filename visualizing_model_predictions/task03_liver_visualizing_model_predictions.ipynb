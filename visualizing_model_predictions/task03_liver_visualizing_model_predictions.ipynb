{
 "cells": [
  {
   "cell_type": "code",
   "execution_count": 1,
   "id": "premier-enzyme",
   "metadata": {},
   "outputs": [],
   "source": [
    "import numpy as np\n",
    "import nibabel as nib\n",
    "import matplotlib.pyplot as plt\n",
    "from ipywidgets import interact, interactive, IntSlider, ToggleButtons\n",
    "from tensorflow.keras.models import load_model\n",
    "import albumentations as A\n",
    "\n",
    "# Custom objects required for loading the U-Net segmentation models\n",
    "import sys \n",
    "sys.path.append('..')\n",
    "from segmentation_losses import (\n",
    "    dice_coefficient,\n",
    "    dice_loss,\n",
    "    log_cosh_dice_loss,\n",
    "    iou\n",
    ")"
   ]
  },
  {
   "cell_type": "code",
   "execution_count": 2,
   "id": "valuable-suspect",
   "metadata": {},
   "outputs": [],
   "source": [
    "model = load_model(\n",
    "    \"../trained_models/task03_liver_unet_3d_segmentation_model.h5\",\n",
    "    custom_objects={\n",
    "        \"log_cosh_dice_loss\": log_cosh_dice_loss,\n",
    "        \"dice_coefficient\": dice_coefficient,\n",
    "        \"iou\": iou\n",
    "    }\n",
    ")"
   ]
  },
  {
   "cell_type": "code",
   "execution_count": 3,
   "id": "quiet-richards",
   "metadata": {},
   "outputs": [],
   "source": [
    "def standardize(mri):\n",
    "    \"\"\"\n",
    "    Standardize mean and standard deviation of each channel and z_dimension slice to mean 0 and standard \n",
    "     deviation 1.\n",
    "\n",
    "    Note: setting the type of the input mri to np.float16 beforehand causes issues, set it afterwards.\n",
    "\n",
    "    Args:\n",
    "        mri (np.array): input mri, shape (dim_x, dim_y, dim_z, num_channels)\n",
    "    Returns:\n",
    "        standardized_mri (np.array): standardized version of input mri\n",
    "    \"\"\"\n",
    "\n",
    "    standardized_mri = np.zeros(mri.shape)\n",
    "\n",
    "    # Iterate over channels\n",
    "    for c in range(mri.shape[3]):\n",
    "        # Iterate over the `z` depth dimension\n",
    "        for z in range(mri.shape[2]):\n",
    "            # Get a slice of the mri at channel c and z-th dimension\n",
    "            mri_slice = mri[:, :, z, c]\n",
    "\n",
    "            # Subtract the mean from mri_slice\n",
    "            centered = mri_slice - np.mean(mri_slice)\n",
    "\n",
    "            # Divide by the standard deviation (only if it is different from zero)\n",
    "            if np.std(centered) != 0:\n",
    "                centered_scaled = centered / np.std(centered)\n",
    "\n",
    "                # Update the slice of standardized mri with the centered and scaled mri\n",
    "                standardized_mri[:, :, z, c] = centered_scaled\n",
    "\n",
    "    return standardized_mri"
   ]
  },
  {
   "cell_type": "markdown",
   "id": "returning-robertson",
   "metadata": {},
   "source": [
    "### 1. Visualizing predictions on validation set images"
   ]
  },
  {
   "cell_type": "markdown",
   "id": "7087994f-8541-4cb0-a9c2-2b404a3eeb34",
   "metadata": {},
   "source": [
    "### 1.1. Visualizing prediction on liver_118 file"
   ]
  },
  {
   "cell_type": "markdown",
   "id": "expensive-mitchell",
   "metadata": {},
   "source": [
    "### 1.1.1 Chunk 1"
   ]
  },
  {
   "cell_type": "code",
   "execution_count": 4,
   "id": "interior-dallas",
   "metadata": {},
   "outputs": [],
   "source": [
    "mri_chunk1 = nib.load(\"../datasets/Task03_Liver_320x320x96/val/images/liver_118_0.nii.gz\").get_fdata().astype(np.float32)"
   ]
  },
  {
   "cell_type": "code",
   "execution_count": 5,
   "id": "diverse-dayton",
   "metadata": {},
   "outputs": [],
   "source": [
    "mask_chunk1 = nib.load(\"../datasets/Task03_Liver_320x320x96/val/masks/liver_118_0.nii.gz\").get_fdata().astype(np.uint8)"
   ]
  },
  {
   "cell_type": "code",
   "execution_count": 6,
   "id": "treated-demand",
   "metadata": {},
   "outputs": [
    {
     "data": {
      "text/plain": [
       "(320, 320, 96)"
      ]
     },
     "execution_count": 6,
     "metadata": {},
     "output_type": "execute_result"
    }
   ],
   "source": [
    "mask_chunk1.shape"
   ]
  },
  {
   "cell_type": "code",
   "execution_count": 7,
   "id": "about-hollow",
   "metadata": {},
   "outputs": [],
   "source": [
    "mri_standardized_chunk1 = standardize(mri_chunk1.reshape((mri_chunk1.shape[0], mri_chunk1.shape[1], mri_chunk1.shape[2], 1)))"
   ]
  },
  {
   "cell_type": "code",
   "execution_count": 8,
   "id": "ceramic-static",
   "metadata": {},
   "outputs": [],
   "source": [
    "mri_standardized_chunk1 = np.expand_dims(mri_standardized_chunk1, axis=0)  # Keras models require an additional dimension of 'batch_size'"
   ]
  },
  {
   "cell_type": "code",
   "execution_count": 9,
   "id": "conscious-renaissance",
   "metadata": {},
   "outputs": [],
   "source": [
    "prediction_chunk1 = model.predict(mri_standardized_chunk1)"
   ]
  },
  {
   "cell_type": "code",
   "execution_count": 10,
   "id": "attempted-letters",
   "metadata": {},
   "outputs": [],
   "source": [
    "prediction_chunk1 = np.squeeze(prediction_chunk1, axis=0)  # Remove 'batch_size' dimension"
   ]
  },
  {
   "cell_type": "code",
   "execution_count": 11,
   "id": "bearing-tribute",
   "metadata": {},
   "outputs": [
    {
     "data": {
      "text/plain": [
       "(320, 320, 96, 3)"
      ]
     },
     "execution_count": 11,
     "metadata": {},
     "output_type": "execute_result"
    }
   ],
   "source": [
    "prediction_chunk1.shape"
   ]
  },
  {
   "cell_type": "code",
   "execution_count": 12,
   "id": "automatic-prescription",
   "metadata": {},
   "outputs": [
    {
     "data": {
      "text/plain": [
       "array([[[[9.9144709e-01, 1.0611064e-03, 7.4918293e-03],\n",
       "         [9.9168903e-01, 9.6662482e-04, 7.3443474e-03],\n",
       "         [9.9132174e-01, 1.1117188e-03, 7.5665936e-03],\n",
       "         ...,\n",
       "         [9.9072623e-01, 1.3668649e-03, 7.9069659e-03],\n",
       "         [9.8983788e-01, 1.4262591e-03, 8.7358961e-03],\n",
       "         [9.8372722e-01, 2.6191953e-03, 1.3653597e-02]],\n",
       "\n",
       "        [[9.9112731e-01, 1.1923724e-03, 7.6803491e-03],\n",
       "         [9.9227810e-01, 7.5490907e-04, 6.9670053e-03],\n",
       "         [9.9156076e-01, 1.0161562e-03, 7.4230190e-03],\n",
       "         ...,\n",
       "         [9.9208647e-01, 8.2083273e-04, 7.0926202e-03],\n",
       "         [9.9231213e-01, 7.4351119e-04, 6.9444147e-03],\n",
       "         [9.9237663e-01, 7.2214176e-04, 6.9013098e-03]],\n",
       "\n",
       "        [[9.9140209e-01, 1.0791222e-03, 7.5187590e-03],\n",
       "         [9.9235487e-01, 7.2929176e-04, 6.9158445e-03],\n",
       "         [9.9172157e-01, 9.5423282e-04, 7.3241689e-03],\n",
       "         ...,\n",
       "         [9.9176019e-01, 9.3965360e-04, 7.3001618e-03],\n",
       "         [9.9129468e-01, 1.1227608e-03, 7.5825467e-03],\n",
       "         [9.9222708e-01, 7.7219610e-04, 7.0007602e-03]],\n",
       "\n",
       "        ...,\n",
       "\n",
       "        [[9.9075305e-01, 1.3548451e-03, 7.8921160e-03],\n",
       "         [9.9127102e-01, 1.1325085e-03, 7.5965258e-03],\n",
       "         [9.9062574e-01, 1.4122003e-03, 7.9620602e-03],\n",
       "         ...,\n",
       "         [9.8953676e-01, 1.9427317e-03, 8.5205138e-03],\n",
       "         [9.9086165e-01, 1.3067342e-03, 7.8316052e-03],\n",
       "         [9.9217319e-01, 7.9063448e-04, 7.0361081e-03]],\n",
       "\n",
       "        [[9.9164712e-01, 9.8265312e-04, 7.3701493e-03],\n",
       "         [9.9338704e-01, 4.3133029e-04, 6.1816410e-03],\n",
       "         [9.9267346e-01, 6.2803301e-04, 6.6985553e-03],\n",
       "         ...,\n",
       "         [9.9276125e-01, 6.0155778e-04, 6.6372021e-03],\n",
       "         [9.9107718e-01, 1.2135868e-03, 7.7092503e-03],\n",
       "         [9.9204344e-01, 8.3607604e-04, 7.1205227e-03]],\n",
       "\n",
       "        [[9.8910832e-01, 2.1693218e-03, 8.7223006e-03],\n",
       "         [9.9075609e-01, 1.3534907e-03, 7.8904349e-03],\n",
       "         [9.9020165e-01, 1.6105738e-03, 8.1877932e-03],\n",
       "         ...,\n",
       "         [9.8956901e-01, 1.9260478e-03, 8.5049318e-03],\n",
       "         [9.9076509e-01, 1.3494727e-03, 7.8854449e-03],\n",
       "         [9.9059314e-01, 1.4270764e-03, 7.9798345e-03]]],\n",
       "\n",
       "\n",
       "       [[[9.8980826e-01, 1.8040939e-03, 8.3876131e-03],\n",
       "         [9.9152476e-01, 1.0302840e-03, 7.4449009e-03],\n",
       "         [9.9077141e-01, 1.3466452e-03, 7.8819236e-03],\n",
       "         ...,\n",
       "         [9.8934889e-01, 2.0409240e-03, 8.6101452e-03],\n",
       "         [9.9057662e-01, 1.4346197e-03, 7.9887882e-03],\n",
       "         [9.8990810e-01, 1.7541543e-03, 8.3377454e-03]],\n",
       "\n",
       "        [[9.9082232e-01, 1.3240615e-03, 7.8536011e-03],\n",
       "         [9.9392796e-01, 3.1041843e-04, 5.7615382e-03],\n",
       "         [9.9194509e-01, 8.7133015e-04, 7.1835462e-03],\n",
       "         ...,\n",
       "         [9.9250132e-01, 6.8175141e-04, 6.8170135e-03],\n",
       "         [9.9249309e-01, 6.8435521e-04, 6.8225628e-03],\n",
       "         [9.9197817e-01, 8.5938122e-04, 7.1624150e-03]],\n",
       "\n",
       "        [[9.9162930e-01, 9.8951929e-04, 7.3810983e-03],\n",
       "         [9.9363399e-01, 3.7310825e-04, 5.9928452e-03],\n",
       "         [9.9332315e-01, 4.4721772e-04, 6.2296409e-03],\n",
       "         ...,\n",
       "         [9.9192613e-01, 8.7824726e-04, 7.1956785e-03],\n",
       "         [9.9231052e-01, 7.4400927e-04, 6.9454061e-03],\n",
       "         [9.9074626e-01, 1.3578887e-03, 7.8958869e-03]],\n",
       "\n",
       "        ...,\n",
       "\n",
       "        [[9.9081516e-01, 1.3271975e-03, 7.8575565e-03],\n",
       "         [9.9328530e-01, 4.5678741e-04, 6.2579103e-03],\n",
       "         [9.9129862e-01, 1.1211416e-03, 7.5802165e-03],\n",
       "         ...,\n",
       "         [9.9090028e-01, 1.2898139e-03, 7.8099086e-03],\n",
       "         [9.8908037e-01, 2.1845254e-03, 8.7352274e-03],\n",
       "         [9.9169242e-01, 9.6534257e-04, 7.3422687e-03]],\n",
       "\n",
       "        [[9.9264902e-01, 6.3550583e-04, 6.7155007e-03],\n",
       "         [9.9389547e-01, 3.1700660e-04, 5.7874969e-03],\n",
       "         [9.9293476e-01, 5.5109797e-04, 6.5141041e-03],\n",
       "         ...,\n",
       "         [9.9229604e-01, 7.4884179e-04, 6.9550155e-03],\n",
       "         [9.9250656e-01, 6.8002188e-04, 6.8133161e-03],\n",
       "         [9.9246264e-01, 6.9409388e-04, 6.8431799e-03]],\n",
       "\n",
       "        [[9.8799384e-01, 2.7997505e-03, 9.2065111e-03],\n",
       "         [9.9087310e-01, 1.3017013e-03, 7.8251790e-03],\n",
       "         [9.8993903e-01, 1.7387612e-03, 8.3221458e-03],\n",
       "         ...,\n",
       "         [9.8905373e-01, 2.1988668e-03, 8.7473551e-03],\n",
       "         [9.8946488e-01, 1.9800584e-03, 8.5550025e-03],\n",
       "         [9.8984897e-01, 1.7836296e-03, 8.3673131e-03]]],\n",
       "\n",
       "\n",
       "       [[[9.9051684e-01, 1.4620953e-03, 8.0210976e-03],\n",
       "         [9.9253404e-01, 6.7130954e-04, 6.7945798e-03],\n",
       "         [9.9251080e-01, 6.7870825e-04, 6.8105026e-03],\n",
       "         ...,\n",
       "         [9.9206394e-01, 8.2882092e-04, 7.1072951e-03],\n",
       "         [9.9145329e-01, 1.0586454e-03, 7.4881227e-03],\n",
       "         [9.8940676e-01, 2.0105147e-03, 8.5827615e-03]],\n",
       "\n",
       "        [[9.9120116e-01, 1.1614392e-03, 7.6374607e-03],\n",
       "         [9.9392831e-01, 3.1036971e-04, 5.7613477e-03],\n",
       "         [9.9405438e-01, 2.8564688e-04, 5.6598848e-03],\n",
       "         ...,\n",
       "         [9.9357420e-01, 3.8674692e-04, 6.0390555e-03],\n",
       "         [9.9367166e-01, 3.6468866e-04, 5.9636561e-03],\n",
       "         [9.9202538e-01, 8.4249320e-04, 7.1321502e-03]],\n",
       "\n",
       "        [[9.9170351e-01, 9.6107414e-04, 7.3353350e-03],\n",
       "         [9.9402034e-01, 2.9220476e-04, 5.6874529e-03],\n",
       "         [9.9384993e-01, 3.2638959e-04, 5.8237365e-03],\n",
       "         ...,\n",
       "         [9.9360800e-01, 3.7901293e-04, 6.0130111e-03],\n",
       "         [9.9203897e-01, 8.3766726e-04, 7.1234149e-03],\n",
       "         [9.9008894e-01, 1.6650773e-03, 8.2459189e-03]],\n",
       "\n",
       "        ...,\n",
       "\n",
       "        [[9.9158186e-01, 1.0079821e-03, 7.4102511e-03],\n",
       "         [9.9290729e-01, 5.5894325e-04, 6.5338113e-03],\n",
       "         [9.9241310e-01, 7.1017590e-04, 6.8767359e-03],\n",
       "         ...,\n",
       "         [9.9241453e-01, 7.0970634e-04, 6.8757618e-03],\n",
       "         [9.9138957e-01, 1.0841897e-03, 7.5262720e-03],\n",
       "         [9.9273735e-01, 6.0869684e-04, 6.6539515e-03]],\n",
       "\n",
       "        [[9.9188918e-01, 8.9172507e-04, 7.2190920e-03],\n",
       "         [9.9393797e-01, 3.0843084e-04, 5.7536233e-03],\n",
       "         [9.9226272e-01, 7.6006562e-04, 6.9771362e-03],\n",
       "         ...,\n",
       "         [9.9264842e-01, 6.3568546e-04, 6.7159091e-03],\n",
       "         [9.9259889e-01, 6.5098080e-04, 6.7500989e-03],\n",
       "         [9.9114567e-01, 1.1846072e-03, 7.6696654e-03]],\n",
       "\n",
       "        [[9.8773193e-01, 2.9555485e-03, 9.3125151e-03],\n",
       "         [9.9080139e-01, 1.3333508e-03, 7.8652967e-03],\n",
       "         [9.8990738e-01, 1.7545205e-03, 8.3381180e-03],\n",
       "         ...,\n",
       "         [9.8856890e-01, 2.4675231e-03, 8.9636594e-03],\n",
       "         [9.8793250e-01, 2.8359208e-03, 9.2315366e-03],\n",
       "         [9.8798031e-01, 2.8076293e-03, 9.2119835e-03]]],\n",
       "\n",
       "\n",
       "       ...,\n",
       "\n",
       "\n",
       "       [[[9.9083108e-01, 1.3202011e-03, 7.8487210e-03],\n",
       "         [9.9298120e-01, 5.3804572e-04, 6.4808200e-03],\n",
       "         [9.9341375e-01, 4.2477887e-04, 6.1614374e-03],\n",
       "         ...,\n",
       "         [9.9370474e-01, 3.5737990e-04, 5.9378790e-03],\n",
       "         [9.9300039e-01, 5.3268316e-04, 6.4669610e-03],\n",
       "         [9.9210113e-01, 8.1569608e-04, 7.0831235e-03]],\n",
       "\n",
       "        [[9.9160188e-01, 1.0001528e-03, 7.3979413e-03],\n",
       "         [9.9439609e-01, 2.2516813e-04, 5.3787925e-03],\n",
       "         [9.9394858e-01, 3.0630018e-04, 5.7450924e-03],\n",
       "         ...,\n",
       "         [9.9484515e-01, 1.5944039e-04, 4.9954159e-03],\n",
       "         [9.9456197e-01, 1.9911326e-04, 5.2389689e-03],\n",
       "         [9.9304271e-01, 5.2098243e-04, 6.4363340e-03]],\n",
       "\n",
       "        [[9.9094498e-01, 1.2703729e-03, 7.7846954e-03],\n",
       "         [9.9419242e-01, 2.6009203e-04, 5.5474578e-03],\n",
       "         [9.9401808e-01, 2.9262740e-04, 5.6892117e-03],\n",
       "         ...,\n",
       "         [9.9488211e-01, 1.5470582e-04, 4.9632532e-03],\n",
       "         [9.9391842e-01, 3.1235011e-04, 5.7691941e-03],\n",
       "         [9.9293351e-01, 5.5145007e-04, 6.5149968e-03]],\n",
       "\n",
       "        ...,\n",
       "\n",
       "        [[9.8952371e-01, 1.9494904e-03, 8.5267993e-03],\n",
       "         [9.9220371e-01, 7.8019302e-04, 7.0161717e-03],\n",
       "         [9.9110693e-01, 1.2009303e-03, 7.6920507e-03],\n",
       "         ...,\n",
       "         [9.9420691e-01, 2.5748982e-04, 5.5355239e-03],\n",
       "         [9.9333727e-01, 4.4366674e-04, 6.2190299e-03],\n",
       "         [9.9261546e-01, 6.4585719e-04, 6.7387181e-03]],\n",
       "\n",
       "        [[9.8877722e-01, 2.3507432e-03, 8.8720694e-03],\n",
       "         [9.9240631e-01, 7.1239931e-04, 6.8813264e-03],\n",
       "         [9.9139977e-01, 1.0800750e-03, 7.5201751e-03],\n",
       "         ...,\n",
       "         [9.9356914e-01, 3.8791072e-04, 6.0429331e-03],\n",
       "         [9.9347007e-01, 4.1120205e-04, 6.1187819e-03],\n",
       "         [9.9219888e-01, 7.8181480e-04, 7.0192795e-03]],\n",
       "\n",
       "        [[9.8735100e-01, 3.1869658e-03, 9.4619952e-03],\n",
       "         [9.8824328e-01, 2.6539117e-03, 9.1029117e-03],\n",
       "         [9.8735100e-01, 3.1869658e-03, 9.4619952e-03],\n",
       "         ...,\n",
       "         [9.8956585e-01, 1.9276935e-03, 8.5064704e-03],\n",
       "         [9.8777276e-01, 2.9310689e-03, 9.2961611e-03],\n",
       "         [9.8767948e-01, 2.9870891e-03, 9.3334317e-03]]],\n",
       "\n",
       "\n",
       "       [[[9.8977762e-01, 1.8195467e-03, 8.4028216e-03],\n",
       "         [9.9187624e-01, 8.9646329e-04, 7.2272583e-03],\n",
       "         [9.9166179e-01, 9.7704423e-04, 7.3611578e-03],\n",
       "         ...,\n",
       "         [9.9331206e-01, 4.5002127e-04, 6.2379725e-03],\n",
       "         [9.9259865e-01, 6.5108464e-04, 6.7503294e-03],\n",
       "         [9.9198651e-01, 8.5640629e-04, 7.1571185e-03]],\n",
       "\n",
       "        [[9.9097437e-01, 1.2576478e-03, 7.7680238e-03],\n",
       "         [9.9265689e-01, 6.3308852e-04, 6.7100353e-03],\n",
       "         [9.9243492e-01, 7.0307724e-04, 6.8619992e-03],\n",
       "         ...,\n",
       "         [9.9404907e-01, 2.8669715e-04, 5.6643365e-03],\n",
       "         [9.9418181e-01, 2.6199620e-04, 5.5561294e-03],\n",
       "         [9.9248415e-01, 6.8722287e-04, 6.8286597e-03]],\n",
       "\n",
       "        [[9.9110657e-01, 1.2011171e-03, 7.6923086e-03],\n",
       "         [9.9315095e-01, 4.9174146e-04, 6.3573471e-03],\n",
       "         [9.9235195e-01, 7.3028734e-04, 6.9178627e-03],\n",
       "         ...,\n",
       "         [9.9463731e-01, 1.8796542e-04, 5.1747095e-03],\n",
       "         [9.9357706e-01, 3.8609939e-04, 6.0368869e-03],\n",
       "         [9.9217528e-01, 7.8992703e-04, 7.0347646e-03]],\n",
       "\n",
       "        ...,\n",
       "\n",
       "        [[9.9065161e-01, 1.4004468e-03, 7.9479115e-03],\n",
       "         [9.9223560e-01, 7.6927617e-04, 6.9951010e-03],\n",
       "         [9.9130851e-01, 1.1171387e-03, 7.5744377e-03],\n",
       "         ...,\n",
       "         [9.9306870e-01, 5.1386573e-04, 6.4174370e-03],\n",
       "         [9.9347723e-01, 4.0947529e-04, 6.1132731e-03],\n",
       "         [9.9206722e-01, 8.2765700e-04, 7.1051633e-03]],\n",
       "\n",
       "        [[9.9176824e-01, 9.3665067e-04, 7.2951787e-03],\n",
       "         [9.9250656e-01, 6.8004848e-04, 6.8133743e-03],\n",
       "         [9.8991591e-01, 1.7502488e-03, 8.3337966e-03],\n",
       "         ...,\n",
       "         [9.9242300e-01, 7.0695486e-04, 6.8700621e-03],\n",
       "         [9.9212354e-01, 8.0785662e-04, 7.0685423e-03],\n",
       "         [9.9058610e-01, 1.4302913e-03, 7.9836557e-03]],\n",
       "\n",
       "        [[9.8878920e-01, 2.3440397e-03, 8.8667041e-03],\n",
       "         [9.9123490e-01, 1.1473994e-03, 7.6176981e-03],\n",
       "         [9.9018854e-01, 1.6168553e-03, 8.1945704e-03],\n",
       "         ...,\n",
       "         [9.8858452e-01, 2.4586171e-03, 8.9567984e-03],\n",
       "         [9.8954540e-01, 1.9381990e-03, 8.5162949e-03],\n",
       "         [9.8735100e-01, 3.1869658e-03, 9.4619952e-03]]],\n",
       "\n",
       "\n",
       "       [[[9.9001533e-01, 1.7010932e-03, 8.2835071e-03],\n",
       "         [9.9116933e-01, 1.1746736e-03, 7.6559200e-03],\n",
       "         [9.9096721e-01, 1.2606762e-03, 7.7720028e-03],\n",
       "         ...,\n",
       "         [9.9214631e-01, 7.9994212e-04, 7.0537077e-03],\n",
       "         [9.9179173e-01, 9.2782587e-04, 7.2804638e-03],\n",
       "         [9.8973680e-01, 1.8401700e-03, 8.4229605e-03]],\n",
       "\n",
       "        [[9.9055451e-01, 1.4446919e-03, 8.0006905e-03],\n",
       "         [9.9308020e-01, 5.1073020e-04, 6.4090472e-03],\n",
       "         [9.9297160e-01, 5.4073823e-04, 6.4877393e-03],\n",
       "         ...,\n",
       "         [9.9427587e-01, 2.4538609e-04, 5.4787509e-03],\n",
       "         [9.9448192e-01, 2.1143098e-04, 5.3067617e-03],\n",
       "         [9.9211335e-01, 8.1141631e-04, 7.0751766e-03]],\n",
       "\n",
       "        [[9.9074847e-01, 1.3568664e-03, 7.8946203e-03],\n",
       "         [9.9361426e-01, 3.7759636e-04, 6.0081966e-03],\n",
       "         [9.9341714e-01, 4.2397820e-04, 6.1589531e-03],\n",
       "         ...,\n",
       "         [9.9446529e-01, 2.1403476e-04, 5.3206976e-03],\n",
       "         [9.9412739e-01, 2.7194381e-04, 5.6006312e-03],\n",
       "         [9.9136972e-01, 1.0921911e-03, 7.5380737e-03]],\n",
       "\n",
       "        ...,\n",
       "\n",
       "        [[9.8952043e-01, 1.9511561e-03, 8.5283443e-03],\n",
       "         [9.9188918e-01, 8.9173351e-04, 7.2191060e-03],\n",
       "         [9.9230933e-01, 7.4442779e-04, 6.9462433e-03],\n",
       "         ...,\n",
       "         [9.9332076e-01, 4.4781138e-04, 6.2314090e-03],\n",
       "         [9.9335575e-01, 4.3907302e-04, 6.2052053e-03],\n",
       "         [9.9083483e-01, 1.3185603e-03, 7.8466441e-03]],\n",
       "\n",
       "        [[9.9044001e-01, 1.4977533e-03, 8.0623170e-03],\n",
       "         [9.9226213e-01, 7.6028705e-04, 6.9775684e-03],\n",
       "         [9.9162698e-01, 9.9044503e-04, 7.3825740e-03],\n",
       "         ...,\n",
       "         [9.9237484e-01, 7.2269363e-04, 6.9024400e-03],\n",
       "         [9.9233788e-01, 7.3492475e-04, 6.9272146e-03],\n",
       "         [9.8982251e-01, 1.7969141e-03, 8.3805136e-03]],\n",
       "\n",
       "        [[9.9045169e-01, 1.4922512e-03, 8.0560055e-03],\n",
       "         [9.9159688e-01, 1.0021125e-03, 7.4010263e-03],\n",
       "         [9.9062401e-01, 1.4129798e-03, 7.9629971e-03],\n",
       "         ...,\n",
       "         [9.9093562e-01, 1.2744248e-03, 7.7899760e-03],\n",
       "         [9.9072874e-01, 1.3657205e-03, 7.9055568e-03],\n",
       "         [9.8742980e-01, 3.1386900e-03, 9.4315466e-03]]]], dtype=float32)"
      ]
     },
     "execution_count": 12,
     "metadata": {},
     "output_type": "execute_result"
    }
   ],
   "source": [
    "prediction_chunk1"
   ]
  },
  {
   "cell_type": "code",
   "execution_count": 13,
   "id": "concrete-moses",
   "metadata": {},
   "outputs": [
    {
     "data": {
      "text/plain": [
       "numpy.ndarray"
      ]
     },
     "execution_count": 13,
     "metadata": {},
     "output_type": "execute_result"
    }
   ],
   "source": [
    "type(prediction_chunk1)"
   ]
  },
  {
   "cell_type": "code",
   "execution_count": 14,
   "id": "secure-style",
   "metadata": {},
   "outputs": [],
   "source": [
    "prediction_chunk1 = np.argmax(prediction_chunk1, axis=3)  # Apply Softmax"
   ]
  },
  {
   "cell_type": "code",
   "execution_count": 15,
   "id": "atlantic-friday",
   "metadata": {},
   "outputs": [
    {
     "data": {
      "text/plain": [
       "(320, 320, 96)"
      ]
     },
     "execution_count": 15,
     "metadata": {},
     "output_type": "execute_result"
    }
   ],
   "source": [
    "prediction_chunk1.shape"
   ]
  },
  {
   "cell_type": "code",
   "execution_count": 16,
   "id": "catholic-surname",
   "metadata": {},
   "outputs": [],
   "source": [
    "prediction_chunk1 = prediction_chunk1.reshape((prediction_chunk1.shape[0], prediction_chunk1.shape[1], prediction_chunk1.shape[2]))"
   ]
  },
  {
   "cell_type": "code",
   "execution_count": 17,
   "id": "laden-meeting",
   "metadata": {},
   "outputs": [
    {
     "data": {
      "text/plain": [
       "(320, 320, 96)"
      ]
     },
     "execution_count": 17,
     "metadata": {},
     "output_type": "execute_result"
    }
   ],
   "source": [
    "prediction_chunk1.shape"
   ]
  },
  {
   "cell_type": "code",
   "execution_count": 18,
   "id": "stainless-dietary",
   "metadata": {},
   "outputs": [
    {
     "data": {
      "text/plain": [
       "array([0, 2])"
      ]
     },
     "execution_count": 18,
     "metadata": {},
     "output_type": "execute_result"
    }
   ],
   "source": [
    "np.unique(prediction_chunk1)"
   ]
  },
  {
   "cell_type": "markdown",
   "id": "7b11d199-3c0d-4a7f-b0fd-0a7b9ce062f8",
   "metadata": {},
   "source": [
    "#### Model prediction vs groundtruth number of labels"
   ]
  },
  {
   "cell_type": "code",
   "execution_count": 19,
   "id": "hungry-schema",
   "metadata": {},
   "outputs": [
    {
     "name": "stdout",
     "output_type": "stream",
     "text": [
      "Background - class 0\n",
      "9830389\n",
      "--------\n",
      "Left Atrium - class 1\n",
      "0\n",
      "--------\n",
      "Cancer - class 2\n",
      "11\n"
     ]
    }
   ],
   "source": [
    "# Number of labels per class in model prediction\n",
    "print(\"Background - class 0\")\n",
    "print(len(prediction_chunk1[prediction_chunk1 == 0])) \n",
    "print(\"--------\")\n",
    "print(\"Left Atrium - class 1\")\n",
    "print(len(prediction_chunk1[prediction_chunk1 == 1]))\n",
    "print(\"--------\")\n",
    "print(\"Cancer - class 2\")\n",
    "print(len(prediction_chunk1[prediction_chunk1 == 2]))"
   ]
  },
  {
   "cell_type": "code",
   "execution_count": 20,
   "id": "beautiful-puzzle",
   "metadata": {},
   "outputs": [
    {
     "name": "stdout",
     "output_type": "stream",
     "text": [
      "Background - class 0\n",
      "9830400\n",
      "--------\n",
      "Liver - class 1\n",
      "0\n",
      "--------\n",
      "Cancer - class 2\n",
      "0\n"
     ]
    }
   ],
   "source": [
    "# Number of labels per class in ground truth mask\n",
    "print(\"Background - class 0\")\n",
    "print(len(mask_chunk1[mask_chunk1 == 0])) \n",
    "print(\"--------\")\n",
    "print(\"Liver - class 1\")\n",
    "print(len(mask_chunk1[mask_chunk1 == 1]))\n",
    "print(\"--------\")\n",
    "print(\"Cancer - class 2\")\n",
    "print(len(mask_chunk1[mask_chunk1 == 2]))"
   ]
  },
  {
   "cell_type": "code",
   "execution_count": 21,
   "id": "academic-samoa",
   "metadata": {
    "scrolled": false
   },
   "outputs": [
    {
     "data": {
      "application/vnd.jupyter.widget-view+json": {
       "model_id": "30cea3823b204f29b48e809c5445df31",
       "version_major": 2,
       "version_minor": 0
      },
      "text/plain": [
       "interactive(children=(ToggleButtons(button_style='info', description='Select Class:', options=('Background', '…"
      ]
     },
     "metadata": {},
     "output_type": "display_data"
    }
   ],
   "source": [
    "classes_dict = {\n",
    "    'Background': 0,\n",
    "    'Liver': 1,\n",
    "    'Cancer': 2\n",
    "}\n",
    "\n",
    "# Create button values\n",
    "select_class = ToggleButtons(\n",
    "    options=['Background', 'Liver', 'Cancer', 'All'],\n",
    "    description='Select Class:',\n",
    "    disabled=False,\n",
    "    button_style='info', \n",
    "    \n",
    ")\n",
    "# Create layer slider\n",
    "select_layer = IntSlider(min=0, max=mri_chunk1.shape[2] - 1, description='Select Layer', continuous_update=False)\n",
    "\n",
    "    \n",
    "# Define a function for plotting images\n",
    "def plot(seg_class, layer):\n",
    "    print(f\"Plotting Layer: {layer} | Label: {seg_class}\")\n",
    "    fig = plt.figure(figsize=(20, 10))\n",
    "    \n",
    "    fig.add_subplot(1, 3, 1)\n",
    "    plt.title(\"Liver_118\", fontsize=20)\n",
    "    plt.imshow(mri_chunk1[:, :, layer], cmap='gray');\n",
    "    plt.axis('off')\n",
    "    \n",
    "    fig.add_subplot(1, 3, 2)\n",
    "    if seg_class == \"All\":\n",
    "        mask_groundtruth = mask_chunk1[:, :, layer]\n",
    "        plt.title(\"Groundtruth mask\", fontsize=20)\n",
    "        plt.imshow(mask_groundtruth)\n",
    "        plt.axis('off');\n",
    "    else:\n",
    "        img_label = classes_dict[seg_class]\n",
    "        mask_groundtruth = np.where(mask_chunk1[:, :, layer] == img_label, 255, 0)\n",
    "        plt.title(\"Groundtruth mask\", fontsize=20)\n",
    "        plt.imshow(mask_groundtruth, cmap='gray')\n",
    "        plt.axis('off');\n",
    "    \n",
    "    fig.add_subplot(1, 3, 3)\n",
    "    if seg_class == \"All\":\n",
    "        mask_model_prediction = prediction_chunk1[:, :, layer]\n",
    "        plt.title(\"Model prediction mask\", fontsize=20)\n",
    "        plt.imshow(mask_model_prediction)\n",
    "        plt.axis('off');\n",
    "    else:\n",
    "        img_label = classes_dict[seg_class]\n",
    "        mask_model_prediction = np.where(prediction_chunk1[:, :, layer] == img_label, 255, 0)\n",
    "        plt.title(\"Model prediction mask\", fontsize=20)\n",
    "        plt.imshow(mask_model_prediction, cmap='gray')\n",
    "        plt.axis('off');\n",
    "\n",
    "    \n",
    "# Use the interactive() tool to create the visualization\n",
    "interactive(plot, seg_class=select_class, layer=select_layer)"
   ]
  },
  {
   "cell_type": "markdown",
   "id": "thick-mistress",
   "metadata": {},
   "source": [
    "### 1.1.2 Chunk 2"
   ]
  },
  {
   "cell_type": "code",
   "execution_count": 22,
   "id": "successful-refund",
   "metadata": {},
   "outputs": [],
   "source": [
    "mri_chunk2 = nib.load(\"../datasets/Task03_Liver_320x320x96/val/images/liver_118_1.nii.gz\").get_fdata().astype(np.float32)"
   ]
  },
  {
   "cell_type": "code",
   "execution_count": 23,
   "id": "norwegian-officer",
   "metadata": {},
   "outputs": [],
   "source": [
    "mask_chunk2 = nib.load(\"../datasets/Task03_Liver_320x320x96/val/masks/liver_118_1.nii.gz\").get_fdata().astype(np.uint8)"
   ]
  },
  {
   "cell_type": "code",
   "execution_count": 24,
   "id": "yellow-spencer",
   "metadata": {},
   "outputs": [
    {
     "data": {
      "text/plain": [
       "(320, 320, 96)"
      ]
     },
     "execution_count": 24,
     "metadata": {},
     "output_type": "execute_result"
    }
   ],
   "source": [
    "mask_chunk2.shape"
   ]
  },
  {
   "cell_type": "code",
   "execution_count": 25,
   "id": "intelligent-surgery",
   "metadata": {},
   "outputs": [],
   "source": [
    "mri_standardized_chunk2 = standardize(mri_chunk2.reshape((mri_chunk2.shape[0], mri_chunk2.shape[1], mri_chunk2.shape[2], 1)))"
   ]
  },
  {
   "cell_type": "code",
   "execution_count": 26,
   "id": "norwegian-consultancy",
   "metadata": {},
   "outputs": [],
   "source": [
    "mri_standardized_chunk2 = np.expand_dims(mri_standardized_chunk2, axis=0)  # Keras models require an additional dimension of 'batch_size'"
   ]
  },
  {
   "cell_type": "code",
   "execution_count": 27,
   "id": "ultimate-correlation",
   "metadata": {},
   "outputs": [],
   "source": [
    "prediction_chunk2 = model.predict(mri_standardized_chunk2)"
   ]
  },
  {
   "cell_type": "code",
   "execution_count": 28,
   "id": "commercial-fleece",
   "metadata": {},
   "outputs": [],
   "source": [
    "prediction_chunk2 = np.squeeze(prediction_chunk2, axis=0)  # Remove 'batch_size' dimension"
   ]
  },
  {
   "cell_type": "code",
   "execution_count": 29,
   "id": "smooth-repair",
   "metadata": {},
   "outputs": [
    {
     "data": {
      "text/plain": [
       "(320, 320, 96, 3)"
      ]
     },
     "execution_count": 29,
     "metadata": {},
     "output_type": "execute_result"
    }
   ],
   "source": [
    "prediction_chunk2.shape"
   ]
  },
  {
   "cell_type": "code",
   "execution_count": 30,
   "id": "built-auditor",
   "metadata": {},
   "outputs": [
    {
     "data": {
      "text/plain": [
       "array([[[[9.9127227e-01, 1.1319756e-03, 7.5957645e-03],\n",
       "         [9.9151659e-01, 1.0335282e-03, 7.4498956e-03],\n",
       "         [9.9091280e-01, 1.2843269e-03, 7.8028231e-03],\n",
       "         ...,\n",
       "         [9.9081087e-01, 1.3291246e-03, 7.8599844e-03],\n",
       "         [9.9119979e-01, 1.1620121e-03, 7.6382654e-03],\n",
       "         [9.8541206e-01, 2.2904917e-03, 1.2297538e-02]],\n",
       "\n",
       "        [[9.9054396e-01, 1.4495545e-03, 8.0064097e-03],\n",
       "         [9.9144953e-01, 1.0601139e-03, 7.4903369e-03],\n",
       "         [9.9075621e-01, 1.3534444e-03, 7.8903800e-03],\n",
       "         ...,\n",
       "         [9.9185151e-01, 9.0562704e-04, 7.2429581e-03],\n",
       "         [9.9216264e-01, 7.9428387e-04, 7.0430245e-03],\n",
       "         [9.9236917e-01, 7.2454941e-04, 6.9062160e-03]],\n",
       "\n",
       "        [[9.9101549e-01, 1.2399430e-03, 7.7446094e-03],\n",
       "         [9.9214339e-01, 8.0099062e-04, 7.0556779e-03],\n",
       "         [9.9170834e-01, 9.5928035e-04, 7.3324153e-03],\n",
       "         ...,\n",
       "         [9.9200165e-01, 8.5094594e-04, 7.1473578e-03],\n",
       "         [9.9116862e-01, 1.1749965e-03, 7.6563666e-03],\n",
       "         [9.9230379e-01, 7.4628036e-04, 6.9499281e-03]],\n",
       "\n",
       "        ...,\n",
       "\n",
       "        [[9.9033082e-01, 1.5490109e-03, 8.1202239e-03],\n",
       "         [9.9023938e-01, 1.5924675e-03, 8.1681348e-03],\n",
       "         [9.9035209e-01, 1.5389348e-03, 8.1089595e-03],\n",
       "         ...,\n",
       "         [9.8902112e-01, 2.2166071e-03, 8.7622693e-03],\n",
       "         [9.9016750e-01, 1.6270430e-03, 8.2055200e-03],\n",
       "         [9.9199861e-01, 8.5207331e-04, 7.1493774e-03]],\n",
       "\n",
       "        [[9.9125153e-01, 1.1405040e-03, 7.6079224e-03],\n",
       "         [9.9312359e-01, 4.9902633e-04, 6.3773654e-03],\n",
       "         [9.9231637e-01, 7.4206042e-04, 6.9415173e-03],\n",
       "         ...,\n",
       "         [9.9266136e-01, 6.3171110e-04, 6.7069177e-03],\n",
       "         [9.9037570e-01, 1.5278562e-03, 8.0965115e-03],\n",
       "         [9.9196529e-01, 8.6402870e-04, 7.1706600e-03]],\n",
       "\n",
       "        [[9.8865640e-01, 2.4182242e-03, 8.9254305e-03],\n",
       "         [9.9030870e-01, 1.5594391e-03, 8.1318179e-03],\n",
       "         [9.9005389e-01, 1.6822305e-03, 8.2638990e-03],\n",
       "         ...,\n",
       "         [9.8967630e-01, 1.8709844e-03, 8.4527181e-03],\n",
       "         [9.9060881e-01, 1.4198768e-03, 7.9712505e-03],\n",
       "         [9.9043274e-01, 1.5011014e-03, 8.0661494e-03]]],\n",
       "\n",
       "\n",
       "       [[[9.8985213e-01, 1.7820813e-03, 8.3657689e-03],\n",
       "         [9.9049908e-01, 1.4702558e-03, 8.0306018e-03],\n",
       "         [9.8991686e-01, 1.7497673e-03, 8.3333086e-03],\n",
       "         ...,\n",
       "         [9.8939508e-01, 2.0166044e-03, 8.5882740e-03],\n",
       "         [9.9048573e-01, 1.4764661e-03, 8.0378065e-03],\n",
       "         [9.8967707e-01, 1.8705936e-03, 8.4523419e-03]],\n",
       "\n",
       "        [[9.9027073e-01, 1.5775048e-03, 8.1517594e-03],\n",
       "         [9.9327481e-01, 4.5946080e-04, 6.2657241e-03],\n",
       "         [9.9076664e-01, 1.3487769e-03, 7.8845769e-03],\n",
       "         ...,\n",
       "         [9.9245560e-01, 6.9639564e-04, 6.8480242e-03],\n",
       "         [9.9241149e-01, 7.1070995e-04, 6.8778396e-03],\n",
       "         [9.9179780e-01, 9.2557393e-04, 7.2766906e-03]],\n",
       "\n",
       "        [[9.9185258e-01, 9.0519886e-04, 7.2422232e-03],\n",
       "         [9.9359810e-01, 3.8125424e-04, 6.0206004e-03],\n",
       "         [9.9356008e-01, 3.9001578e-04, 6.0499362e-03],\n",
       "         ...,\n",
       "         [9.9246216e-01, 6.9426664e-04, 6.8435455e-03],\n",
       "         [9.9249834e-01, 6.8265561e-04, 6.8189441e-03],\n",
       "         [9.9091399e-01, 1.2838533e-03, 7.8022066e-03]],\n",
       "\n",
       "        ...,\n",
       "\n",
       "        [[9.9008173e-01, 1.6686220e-03, 8.2496461e-03],\n",
       "         [9.9257410e-01, 6.5874000e-04, 6.7672082e-03],\n",
       "         [9.8994398e-01, 1.7363447e-03, 8.3196871e-03],\n",
       "         ...,\n",
       "         [9.9053758e-01, 1.4525583e-03, 8.0099367e-03],\n",
       "         [9.8824871e-01, 2.6506935e-03, 9.1005703e-03],\n",
       "         [9.9153626e-01, 1.0257908e-03, 7.4379682e-03]],\n",
       "\n",
       "        [[9.9244976e-01, 6.9830584e-04, 6.8520280e-03],\n",
       "         [9.9351078e-01, 4.0152966e-04, 6.0877060e-03],\n",
       "         [9.9294090e-01, 5.4939010e-04, 6.5097851e-03],\n",
       "         ...,\n",
       "         [9.9284101e-01, 5.7807803e-04, 6.5809796e-03],\n",
       "         [9.9282736e-01, 5.8204134e-04, 6.5905955e-03],\n",
       "         [9.9252421e-01, 6.7445758e-04, 6.8013715e-03]],\n",
       "\n",
       "        [[9.8741269e-01, 3.1491250e-03, 9.4381627e-03],\n",
       "         [9.9061733e-01, 1.4160492e-03, 7.9666758e-03],\n",
       "         [9.8944867e-01, 1.9885539e-03, 8.5627837e-03],\n",
       "         ...,\n",
       "         [9.8930162e-01, 2.0659252e-03, 8.6324178e-03],\n",
       "         [9.8964477e-01, 1.8870792e-03, 8.4681008e-03],\n",
       "         [9.8965132e-01, 1.8837635e-03, 8.4649390e-03]]],\n",
       "\n",
       "\n",
       "       [[[9.9030322e-01, 1.5620410e-03, 8.1347004e-03],\n",
       "         [9.9256587e-01, 6.6131592e-04, 6.7728497e-03],\n",
       "         [9.9257410e-01, 6.5874943e-04, 6.7672241e-03],\n",
       "         ...,\n",
       "         [9.9243563e-01, 7.0281426e-04, 6.8614478e-03],\n",
       "         [9.9139446e-01, 1.0822015e-03, 7.5233267e-03],\n",
       "         [9.8916477e-01, 2.1389576e-03, 8.6962646e-03]],\n",
       "\n",
       "        [[9.9079788e-01, 1.3348780e-03, 7.8672143e-03],\n",
       "         [9.9359411e-01, 3.8217593e-04, 6.0237115e-03],\n",
       "         [9.9364895e-01, 3.6975331e-04, 5.9812758e-03],\n",
       "         ...,\n",
       "         [9.9370426e-01, 3.5747141e-04, 5.9382021e-03],\n",
       "         [9.9376196e-01, 3.4495222e-04, 5.8930796e-03],\n",
       "         [9.9202746e-01, 8.4174407e-04, 7.1307984e-03]],\n",
       "\n",
       "        [[9.9200177e-01, 8.5092167e-04, 7.1473140e-03],\n",
       "         [9.9418604e-01, 2.6123907e-04, 5.5526863e-03],\n",
       "         [9.9423665e-01, 2.5223882e-04, 5.5111577e-03],\n",
       "         ...,\n",
       "         [9.9408334e-01, 2.8017315e-04, 5.6364890e-03],\n",
       "         [9.9271846e-01, 6.1437220e-04, 6.6671576e-03],\n",
       "         [9.9021029e-01, 1.6063832e-03, 8.1832586e-03]],\n",
       "\n",
       "        ...,\n",
       "\n",
       "        [[9.9124628e-01, 1.1426972e-03, 7.6110358e-03],\n",
       "         [9.9242049e-01, 7.0776336e-04, 6.8717394e-03],\n",
       "         [9.9197406e-01, 8.6083525e-04, 7.1650022e-03],\n",
       "         ...,\n",
       "         [9.9269718e-01, 6.2081986e-04, 6.6820430e-03],\n",
       "         [9.9118912e-01, 1.1664486e-03, 7.6444689e-03],\n",
       "         [9.9293351e-01, 5.5144925e-04, 6.5149935e-03]],\n",
       "\n",
       "        [[9.9118841e-01, 1.1667458e-03, 7.6448829e-03],\n",
       "         [9.9333608e-01, 4.4396715e-04, 6.2199333e-03],\n",
       "         [9.9217832e-01, 7.8888005e-04, 7.0327730e-03],\n",
       "         ...,\n",
       "         [9.9320143e-01, 4.7841450e-04, 6.3201119e-03],\n",
       "         [9.9298275e-01, 5.3759775e-04, 6.4796656e-03],\n",
       "         [9.9172640e-01, 9.5242274e-04, 7.3212050e-03]],\n",
       "\n",
       "        [[9.8735100e-01, 3.1869658e-03, 9.4619952e-03],\n",
       "         [9.8979962e-01, 1.8084641e-03, 8.3919279e-03],\n",
       "         [9.8917937e-01, 2.1311278e-03, 8.6895041e-03],\n",
       "         ...,\n",
       "         [9.8897517e-01, 2.2416534e-03, 8.7831663e-03],\n",
       "         [9.8771811e-01, 2.9638677e-03, 9.3180537e-03],\n",
       "         [9.8768336e-01, 2.9847489e-03, 9.3318829e-03]]],\n",
       "\n",
       "\n",
       "       ...,\n",
       "\n",
       "\n",
       "       [[[9.9123150e-01, 1.1487827e-03, 7.6196515e-03],\n",
       "         [9.9340558e-01, 4.2675386e-04, 6.1675538e-03],\n",
       "         [9.9359071e-01, 3.8297233e-04, 6.0263975e-03],\n",
       "         ...,\n",
       "         [9.9377936e-01, 3.4122108e-04, 5.8793821e-03],\n",
       "         [9.9290860e-01, 5.5854331e-04, 6.5328134e-03],\n",
       "         [9.9209893e-01, 8.1646041e-04, 7.0845396e-03]],\n",
       "\n",
       "        [[9.9180508e-01, 9.2284218e-04, 7.2721061e-03],\n",
       "         [9.9406588e-01, 2.8347477e-04, 5.6506470e-03],\n",
       "         [9.9383622e-01, 3.2922300e-04, 5.8345213e-03],\n",
       "         ...,\n",
       "         [9.9474889e-01, 1.7224636e-04, 5.0787907e-03],\n",
       "         [9.9467105e-01, 1.8313563e-04, 5.1459302e-03],\n",
       "         [9.9309808e-01, 5.0591968e-04, 6.3960985e-03]],\n",
       "\n",
       "        [[9.9070579e-01, 1.3759900e-03, 7.9181744e-03],\n",
       "         [9.9405330e-01, 2.8587930e-04, 5.6608720e-03],\n",
       "         [9.9399817e-01, 2.9651535e-04, 5.7053110e-03],\n",
       "         ...,\n",
       "         [9.9500054e-01, 1.4014824e-04, 4.8592398e-03],\n",
       "         [9.9398017e-01, 3.0005720e-04, 5.7198266e-03],\n",
       "         [9.9303800e-01, 5.2224874e-04, 6.4396742e-03]],\n",
       "\n",
       "        ...,\n",
       "\n",
       "        [[9.8826104e-01, 2.6435596e-03, 9.0953838e-03],\n",
       "         [9.9128926e-01, 1.1249464e-03, 7.5856871e-03],\n",
       "         [9.8938191e-01, 2.0235705e-03, 8.5945576e-03],\n",
       "         ...,\n",
       "         [9.9440199e-01, 2.2421120e-04, 5.3738919e-03],\n",
       "         [9.9326259e-01, 4.6260582e-04, 6.2748706e-03],\n",
       "         [9.9259186e-01, 6.5318221e-04, 6.7549683e-03]],\n",
       "\n",
       "        [[9.8735100e-01, 3.1869658e-03, 9.4619952e-03],\n",
       "         [9.9189657e-01, 8.8902208e-04, 7.2144181e-03],\n",
       "         [9.9092895e-01, 1.2773498e-03, 7.7937804e-03],\n",
       "         ...,\n",
       "         [9.9395508e-01, 3.0503210e-04, 5.7399962e-03],\n",
       "         [9.9377841e-01, 3.4142454e-04, 5.8801305e-03],\n",
       "         [9.9235415e-01, 7.2951458e-04, 6.9162948e-03]],\n",
       "\n",
       "        [[9.8735100e-01, 3.1869658e-03, 9.4619952e-03],\n",
       "         [9.8735100e-01, 3.1869658e-03, 9.4619952e-03],\n",
       "         [9.8735100e-01, 3.1869658e-03, 9.4619952e-03],\n",
       "         ...,\n",
       "         [9.8978090e-01, 1.8178528e-03, 8.4011583e-03],\n",
       "         [9.8757267e-01, 3.0516176e-03, 9.3756691e-03],\n",
       "         [9.8735100e-01, 3.1869658e-03, 9.4619952e-03]]],\n",
       "\n",
       "\n",
       "       [[[9.8972124e-01, 1.8481303e-03, 8.4306877e-03],\n",
       "         [9.9205363e-01, 8.3244668e-04, 7.1139173e-03],\n",
       "         [9.9164891e-01, 9.8198431e-04, 7.3690796e-03],\n",
       "         ...,\n",
       "         [9.9353069e-01, 3.9685884e-04, 6.0724849e-03],\n",
       "         [9.9285042e-01, 5.7531131e-04, 6.5742354e-03],\n",
       "         [9.9211711e-01, 8.1012817e-04, 7.0727784e-03]],\n",
       "\n",
       "        [[9.9054199e-01, 1.4504952e-03, 8.0075171e-03],\n",
       "         [9.9229491e-01, 7.4928306e-04, 6.9558895e-03],\n",
       "         [9.9211568e-01, 8.1064901e-04, 7.0737498e-03],\n",
       "         ...,\n",
       "         [9.9395210e-01, 3.0560797e-04, 5.7423119e-03],\n",
       "         [9.9404222e-01, 2.8799736e-04, 5.6698262e-03],\n",
       "         [9.9240196e-01, 7.1378896e-04, 6.8841912e-03]],\n",
       "\n",
       "        [[9.9113059e-01, 1.1909733e-03, 7.6784263e-03],\n",
       "         [9.9349594e-01, 4.0501336e-04, 6.0989643e-03],\n",
       "         [9.9239564e-01, 7.1588752e-04, 6.8885083e-03],\n",
       "         ...,\n",
       "         [9.9482673e-01, 1.6183613e-04, 5.0114035e-03],\n",
       "         [9.9356270e-01, 3.8941397e-04, 6.0479385e-03],\n",
       "         [9.9207944e-01, 8.2334003e-04, 7.0972387e-03]],\n",
       "\n",
       "        ...,\n",
       "\n",
       "        [[9.9003524e-01, 1.6913494e-03, 8.2734032e-03],\n",
       "         [9.9202818e-01, 8.4147538e-04, 7.1303104e-03],\n",
       "         [9.9087334e-01, 1.3016178e-03, 7.8250691e-03],\n",
       "         ...,\n",
       "         [9.9319035e-01, 4.8132247e-04, 6.3283066e-03],\n",
       "         [9.9352783e-01, 3.9752160e-04, 6.0746539e-03],\n",
       "         [9.9205267e-01, 8.3280198e-04, 7.1145655e-03]],\n",
       "\n",
       "        [[9.9120682e-01, 1.1590625e-03, 7.6341284e-03],\n",
       "         [9.9207664e-01, 8.2436175e-04, 7.0991172e-03],\n",
       "         [9.8993671e-01, 1.7399639e-03, 8.3233686e-03],\n",
       "         ...,\n",
       "         [9.9293631e-01, 5.5066118e-04, 6.5130023e-03],\n",
       "         [9.9232316e-01, 7.3980854e-04, 6.9370186e-03],\n",
       "         [9.9062842e-01, 1.4109891e-03, 7.9606101e-03]],\n",
       "\n",
       "        [[9.8853534e-01, 2.4864727e-03, 8.9781946e-03],\n",
       "         [9.9083942e-01, 1.3165484e-03, 7.8440914e-03],\n",
       "         [9.8945755e-01, 1.9839450e-03, 8.5585667e-03],\n",
       "         ...,\n",
       "         [9.8866314e-01, 2.4144454e-03, 8.9224707e-03],\n",
       "         [9.8954135e-01, 1.9403705e-03, 8.5183186e-03],\n",
       "         [9.8735100e-01, 3.1869658e-03, 9.4619952e-03]]],\n",
       "\n",
       "\n",
       "       [[[9.9003041e-01, 1.6936881e-03, 8.2758320e-03],\n",
       "         [9.9109745e-01, 1.2050057e-03, 7.6976088e-03],\n",
       "         [9.9117249e-01, 1.1733803e-03, 7.6541188e-03],\n",
       "         ...,\n",
       "         [9.9230206e-01, 7.4685324e-04, 6.9510662e-03],\n",
       "         [9.9195874e-01, 8.6638861e-04, 7.1748369e-03],\n",
       "         [9.9006546e-01, 1.6765452e-03, 8.2579609e-03]],\n",
       "\n",
       "        [[9.8997480e-01, 1.7210944e-03, 8.3041089e-03],\n",
       "         [9.9275583e-01, 6.0318306e-04, 6.6410280e-03],\n",
       "         [9.9283010e-01, 5.8126799e-04, 6.5887216e-03],\n",
       "         ...,\n",
       "         [9.9441576e-01, 2.2196995e-04, 5.3623398e-03],\n",
       "         [9.9457341e-01, 1.9739353e-04, 5.2292454e-03],\n",
       "         [9.9210781e-01, 8.1335916e-04, 7.0787887e-03]],\n",
       "\n",
       "        [[9.8986661e-01, 1.7748481e-03, 8.3585456e-03],\n",
       "         [9.9356937e-01, 3.8785679e-04, 6.0427561e-03],\n",
       "         [9.9342740e-01, 4.2146174e-04, 6.1511155e-03],\n",
       "         ...,\n",
       "         [9.9463165e-01, 1.8878408e-04, 5.1795281e-03],\n",
       "         [9.9435377e-01, 2.3215148e-04, 5.4140878e-03],\n",
       "         [9.9156862e-01, 1.0130926e-03, 7.4182414e-03]],\n",
       "\n",
       "        ...,\n",
       "\n",
       "        [[9.8876661e-01, 2.3566303e-03, 8.8767763e-03],\n",
       "         [9.9152255e-01, 1.0311506e-03, 7.4462336e-03],\n",
       "         [9.9243367e-01, 7.0348073e-04, 6.8628411e-03],\n",
       "         ...,\n",
       "         [9.9348503e-01, 4.0762525e-04, 6.1073541e-03],\n",
       "         [9.9357164e-01, 3.8734829e-04, 6.0410611e-03],\n",
       "         [9.9089944e-01, 1.2902083e-03, 7.8104162e-03]],\n",
       "\n",
       "        [[9.8992866e-01, 1.7439700e-03, 8.3274376e-03],\n",
       "         [9.9219292e-01, 7.8386796e-04, 7.0232111e-03],\n",
       "         [9.9130028e-01, 1.1204663e-03, 7.5792419e-03],\n",
       "         ...,\n",
       "         [9.9248075e-01, 6.8829092e-04, 6.8309256e-03],\n",
       "         [9.9240220e-01, 7.1374350e-04, 6.8840981e-03],\n",
       "         [9.9004304e-01, 1.6875403e-03, 8.2694376e-03]],\n",
       "\n",
       "        [[9.9015117e-01, 1.6348707e-03, 8.2138954e-03],\n",
       "         [9.9107176e-01, 1.2158867e-03, 7.7123595e-03],\n",
       "         [9.9066192e-01, 1.3957779e-03, 7.9422696e-03],\n",
       "         ...,\n",
       "         [9.9101514e-01, 1.2400720e-03, 7.7447798e-03],\n",
       "         [9.9083447e-01, 1.3186944e-03, 7.8468136e-03],\n",
       "         [9.8735100e-01, 3.1869658e-03, 9.4619952e-03]]]], dtype=float32)"
      ]
     },
     "execution_count": 30,
     "metadata": {},
     "output_type": "execute_result"
    }
   ],
   "source": [
    "prediction_chunk2"
   ]
  },
  {
   "cell_type": "code",
   "execution_count": 31,
   "id": "formed-delta",
   "metadata": {},
   "outputs": [
    {
     "data": {
      "text/plain": [
       "numpy.ndarray"
      ]
     },
     "execution_count": 31,
     "metadata": {},
     "output_type": "execute_result"
    }
   ],
   "source": [
    "type(prediction_chunk2)"
   ]
  },
  {
   "cell_type": "code",
   "execution_count": 32,
   "id": "julian-great",
   "metadata": {},
   "outputs": [],
   "source": [
    "prediction_chunk2 = np.argmax(prediction_chunk2, axis=3)  # Apply Softmax"
   ]
  },
  {
   "cell_type": "code",
   "execution_count": 33,
   "id": "humanitarian-orange",
   "metadata": {},
   "outputs": [
    {
     "data": {
      "text/plain": [
       "(320, 320, 96)"
      ]
     },
     "execution_count": 33,
     "metadata": {},
     "output_type": "execute_result"
    }
   ],
   "source": [
    "prediction_chunk2.shape"
   ]
  },
  {
   "cell_type": "code",
   "execution_count": 34,
   "id": "comparative-idaho",
   "metadata": {},
   "outputs": [],
   "source": [
    "prediction_chunk2 = prediction_chunk2.reshape((prediction_chunk2.shape[0], prediction_chunk2.shape[1], prediction_chunk2.shape[2]))"
   ]
  },
  {
   "cell_type": "code",
   "execution_count": 35,
   "id": "dried-harmony",
   "metadata": {},
   "outputs": [
    {
     "data": {
      "text/plain": [
       "(320, 320, 96)"
      ]
     },
     "execution_count": 35,
     "metadata": {},
     "output_type": "execute_result"
    }
   ],
   "source": [
    "prediction_chunk2.shape"
   ]
  },
  {
   "cell_type": "code",
   "execution_count": 36,
   "id": "supposed-light",
   "metadata": {},
   "outputs": [
    {
     "data": {
      "text/plain": [
       "array([0])"
      ]
     },
     "execution_count": 36,
     "metadata": {},
     "output_type": "execute_result"
    }
   ],
   "source": [
    "np.unique(prediction_chunk2)"
   ]
  },
  {
   "cell_type": "markdown",
   "id": "elementary-latino",
   "metadata": {},
   "source": [
    "#### Model prediction vs groundtruth number of labels"
   ]
  },
  {
   "cell_type": "code",
   "execution_count": 37,
   "id": "handled-white",
   "metadata": {},
   "outputs": [
    {
     "name": "stdout",
     "output_type": "stream",
     "text": [
      "Background - class 0\n",
      "9830400\n",
      "--------\n",
      "Left Atrium - class 1\n",
      "0\n",
      "--------\n",
      "Cancer - class 2\n",
      "0\n"
     ]
    }
   ],
   "source": [
    "# Number of labels per class in model prediction\n",
    "print(\"Background - class 0\")\n",
    "print(len(prediction_chunk2[prediction_chunk2 == 0])) \n",
    "print(\"--------\")\n",
    "print(\"Left Atrium - class 1\")\n",
    "print(len(prediction_chunk2[prediction_chunk2 == 1]))\n",
    "print(\"--------\")\n",
    "print(\"Cancer - class 2\")\n",
    "print(len(prediction_chunk2[prediction_chunk2 == 2]))"
   ]
  },
  {
   "cell_type": "code",
   "execution_count": 38,
   "id": "front-palmer",
   "metadata": {},
   "outputs": [
    {
     "name": "stdout",
     "output_type": "stream",
     "text": [
      "Background - class 0\n",
      "9830400\n",
      "--------\n",
      "Liver - class 1\n",
      "0\n",
      "--------\n",
      "Cancer - class 2\n",
      "0\n"
     ]
    }
   ],
   "source": [
    "# Number of labels per class in ground truth mask\n",
    "print(\"Background - class 0\")\n",
    "print(len(mask_chunk2[mask_chunk2 == 0])) \n",
    "print(\"--------\")\n",
    "print(\"Liver - class 1\")\n",
    "print(len(mask_chunk2[mask_chunk2 == 1]))\n",
    "print(\"--------\")\n",
    "print(\"Cancer - class 2\")\n",
    "print(len(mask_chunk2[mask_chunk2 == 2]))"
   ]
  },
  {
   "cell_type": "code",
   "execution_count": 39,
   "id": "protecting-intranet",
   "metadata": {
    "scrolled": false
   },
   "outputs": [
    {
     "data": {
      "application/vnd.jupyter.widget-view+json": {
       "model_id": "4d595a87b4344c5e8893df1ac05a51d4",
       "version_major": 2,
       "version_minor": 0
      },
      "text/plain": [
       "interactive(children=(ToggleButtons(button_style='info', description='Select Class:', options=('Background', '…"
      ]
     },
     "metadata": {},
     "output_type": "display_data"
    }
   ],
   "source": [
    "classes_dict = {\n",
    "    'Background': 0,\n",
    "    'Liver': 1,\n",
    "    'Cancer': 2\n",
    "}\n",
    "\n",
    "# Create button values\n",
    "select_class = ToggleButtons(\n",
    "    options=['Background', 'Liver', 'Cancer', 'All'],\n",
    "    description='Select Class:',\n",
    "    disabled=False,\n",
    "    button_style='info', \n",
    "    \n",
    ")\n",
    "# Create layer slider\n",
    "select_layer = IntSlider(min=0, max=mri_chunk2.shape[2] - 1, description='Select Layer', continuous_update=False)\n",
    "\n",
    "    \n",
    "# Define a function for plotting images\n",
    "def plot(seg_class, layer):\n",
    "    print(f\"Plotting Layer: {layer} | Label: {seg_class}\")\n",
    "    fig = plt.figure(figsize=(20, 10))\n",
    "    \n",
    "    fig.add_subplot(1, 3, 1)\n",
    "    plt.title(\"Liver_118\", fontsize=20)\n",
    "    plt.imshow(mri_chunk2[:, :, layer], cmap='gray');\n",
    "    plt.axis('off')\n",
    "    \n",
    "    fig.add_subplot(1, 3, 2)\n",
    "    if seg_class == \"All\":\n",
    "        mask_groundtruth = mask_chunk2[:, :, layer]\n",
    "        plt.title(\"Groundtruth mask\", fontsize=20)\n",
    "        plt.imshow(mask_groundtruth)\n",
    "        plt.axis('off');\n",
    "    else:\n",
    "        img_label = classes_dict[seg_class]\n",
    "        mask_groundtruth = np.where(mask_chunk2[:, :, layer] == img_label, 255, 0)\n",
    "        plt.title(\"Groundtruth mask\", fontsize=20)\n",
    "        plt.imshow(mask_groundtruth, cmap='gray')\n",
    "        plt.axis('off');\n",
    "    \n",
    "    fig.add_subplot(1, 3, 3)\n",
    "    if seg_class == \"All\":\n",
    "        mask_model_prediction = prediction_chunk2[:, :, layer]\n",
    "        plt.title(\"Model prediction mask\", fontsize=20)\n",
    "        plt.imshow(mask_model_prediction)\n",
    "        plt.axis('off');\n",
    "    else:\n",
    "        img_label = classes_dict[seg_class]\n",
    "        mask_model_prediction = np.where(prediction_chunk2[:, :, layer] == img_label, 255, 0)\n",
    "        plt.title(\"Model prediction mask\", fontsize=20)\n",
    "        plt.imshow(mask_model_prediction, cmap='gray')\n",
    "        plt.axis('off');\n",
    "\n",
    "    \n",
    "# Use the interactive() tool to create the visualization\n",
    "interactive(plot, seg_class=select_class, layer=select_layer)"
   ]
  },
  {
   "cell_type": "markdown",
   "id": "taken-cradle",
   "metadata": {},
   "source": [
    "### 1.1.3 Chunk 3"
   ]
  },
  {
   "cell_type": "code",
   "execution_count": 40,
   "id": "appointed-closing",
   "metadata": {},
   "outputs": [],
   "source": [
    "mri_chunk3 = nib.load(\"../datasets/Task03_Liver_320x320x96/val/images/liver_118_2.nii.gz\").get_fdata().astype(np.float32)"
   ]
  },
  {
   "cell_type": "code",
   "execution_count": 41,
   "id": "defensive-sister",
   "metadata": {},
   "outputs": [],
   "source": [
    "mask_chunk3 = nib.load(\"../datasets/Task03_Liver_320x320x96/val/masks/liver_118_2.nii.gz\").get_fdata().astype(np.uint8)"
   ]
  },
  {
   "cell_type": "code",
   "execution_count": 42,
   "id": "disciplinary-bride",
   "metadata": {},
   "outputs": [
    {
     "data": {
      "text/plain": [
       "(320, 320, 96)"
      ]
     },
     "execution_count": 42,
     "metadata": {},
     "output_type": "execute_result"
    }
   ],
   "source": [
    "mask_chunk3.shape"
   ]
  },
  {
   "cell_type": "code",
   "execution_count": 43,
   "id": "verified-strike",
   "metadata": {},
   "outputs": [],
   "source": [
    "mri_standardized_chunk3 = standardize(mri_chunk3.reshape((mri_chunk3.shape[0], mri_chunk3.shape[1], mri_chunk3.shape[2], 1)))"
   ]
  },
  {
   "cell_type": "code",
   "execution_count": 44,
   "id": "located-newport",
   "metadata": {},
   "outputs": [],
   "source": [
    "mri_standardized_chunk3 = np.expand_dims(mri_standardized_chunk3, axis=0)  # Keras models require an additional dimension of 'batch_size'"
   ]
  },
  {
   "cell_type": "code",
   "execution_count": 45,
   "id": "artificial-polyester",
   "metadata": {},
   "outputs": [],
   "source": [
    "prediction_chunk3 = model.predict(mri_standardized_chunk3)"
   ]
  },
  {
   "cell_type": "code",
   "execution_count": 46,
   "id": "interstate-premium",
   "metadata": {},
   "outputs": [],
   "source": [
    "prediction_chunk3 = np.squeeze(prediction_chunk3, axis=0)  # Remove 'batch_size' dimension"
   ]
  },
  {
   "cell_type": "code",
   "execution_count": 47,
   "id": "magnetic-market",
   "metadata": {},
   "outputs": [
    {
     "data": {
      "text/plain": [
       "(320, 320, 96, 3)"
      ]
     },
     "execution_count": 47,
     "metadata": {},
     "output_type": "execute_result"
    }
   ],
   "source": [
    "prediction_chunk3.shape"
   ]
  },
  {
   "cell_type": "code",
   "execution_count": 48,
   "id": "aboriginal-temple",
   "metadata": {},
   "outputs": [
    {
     "data": {
      "text/plain": [
       "array([[[[9.9128175e-01, 1.1280631e-03, 7.5901635e-03],\n",
       "         [9.9146515e-01, 1.0539290e-03, 7.4809990e-03],\n",
       "         [9.9051183e-01, 1.4643791e-03, 8.0237612e-03],\n",
       "         ...,\n",
       "         [9.9079520e-01, 1.3361225e-03, 7.8687780e-03],\n",
       "         [9.8741084e-01, 1.8526757e-03, 1.0736396e-02],\n",
       "         [9.8203146e-01, 2.9052941e-03, 1.5063229e-02]],\n",
       "\n",
       "        [[9.9027842e-01, 1.5738792e-03, 8.1477733e-03],\n",
       "         [9.9106032e-01, 1.2207885e-03, 7.7189701e-03],\n",
       "         [9.9021190e-01, 1.6056562e-03, 8.1824716e-03],\n",
       "         ...,\n",
       "         [9.9230897e-01, 7.4453198e-04, 6.9464459e-03],\n",
       "         [9.9268156e-01, 6.2555441e-04, 6.6928980e-03],\n",
       "         [9.9260932e-01, 6.4777629e-04, 6.7429901e-03]],\n",
       "\n",
       "        [[9.9088717e-01, 1.2955298e-03, 7.8172646e-03],\n",
       "         [9.9201655e-01, 8.4565085e-04, 7.1378471e-03],\n",
       "         [9.9174106e-01, 9.4686658e-04, 7.3120748e-03],\n",
       "         ...,\n",
       "         [9.9164951e-01, 9.8177686e-04, 7.3687471e-03],\n",
       "         [9.9165219e-01, 9.8071829e-04, 7.3670489e-03],\n",
       "         [9.9233514e-01, 7.3581975e-04, 6.9290129e-03]],\n",
       "\n",
       "        ...,\n",
       "\n",
       "        [[9.9012226e-01, 1.6489372e-03, 8.2288664e-03],\n",
       "         [9.8955792e-01, 1.9317857e-03, 8.5103046e-03],\n",
       "         [9.8983181e-01, 1.7922418e-03, 8.3758784e-03],\n",
       "         ...,\n",
       "         [9.9021882e-01, 1.6023394e-03, 8.1788739e-03],\n",
       "         [9.9172217e-01, 9.5399993e-04, 7.3237889e-03],\n",
       "         [9.9241745e-01, 7.0875004e-04, 6.8737823e-03]],\n",
       "\n",
       "        [[9.9113500e-01, 1.1891391e-03, 7.6759052e-03],\n",
       "         [9.9275863e-01, 6.0233055e-04, 6.6390238e-03],\n",
       "         [9.9205387e-01, 8.3236111e-04, 7.1137631e-03],\n",
       "         ...,\n",
       "         [9.9274069e-01, 6.0770463e-04, 6.6516325e-03],\n",
       "         [9.9174589e-01, 9.4504975e-04, 7.3090810e-03],\n",
       "         [9.9212825e-01, 8.0623373e-04, 7.0655090e-03]],\n",
       "\n",
       "        [[9.8830855e-01, 2.6160807e-03, 9.0752980e-03],\n",
       "         [9.9015510e-01, 1.6330105e-03, 8.2119079e-03],\n",
       "         [9.9008089e-01, 1.6689778e-03, 8.2500204e-03],\n",
       "         ...,\n",
       "         [9.8967069e-01, 1.8738175e-03, 8.4554320e-03],\n",
       "         [9.9084711e-01, 1.3131317e-03, 7.8397561e-03],\n",
       "         [9.9069113e-01, 1.3825840e-03, 7.9262322e-03]]],\n",
       "\n",
       "\n",
       "       [[[9.8977005e-01, 1.8233672e-03, 8.4065637e-03],\n",
       "         [9.8977786e-01, 1.8194048e-03, 8.4026828e-03],\n",
       "         [9.8929077e-01, 2.0716735e-03, 8.6375074e-03],\n",
       "         ...,\n",
       "         [9.8971236e-01, 1.8525993e-03, 8.4350118e-03],\n",
       "         [9.9098176e-01, 1.2544511e-03, 7.7638156e-03],\n",
       "         [9.8989969e-01, 1.6032505e-03, 8.4971068e-03]],\n",
       "\n",
       "        [[9.8981267e-01, 1.8018951e-03, 8.3854422e-03],\n",
       "         [9.9265105e-01, 6.3489407e-04, 6.7141214e-03],\n",
       "         [9.8963821e-01, 1.8904640e-03, 8.4713241e-03],\n",
       "         ...,\n",
       "         [9.9276721e-01, 5.9975928e-04, 6.6329553e-03],\n",
       "         [9.9290872e-01, 5.5850449e-04, 6.5327142e-03],\n",
       "         [9.9245596e-01, 6.9626840e-04, 6.8477527e-03]],\n",
       "\n",
       "        [[9.9184906e-01, 9.0650958e-04, 7.2444598e-03],\n",
       "         [9.9336582e-01, 4.3656144e-04, 6.1975950e-03],\n",
       "         [9.9360281e-01, 3.8017228e-04, 6.0169436e-03],\n",
       "         ...,\n",
       "         [9.9139309e-01, 1.0827662e-03, 7.5241630e-03],\n",
       "         [9.9238211e-01, 7.2027836e-04, 6.8975058e-03],\n",
       "         [9.9109298e-01, 1.2068849e-03, 7.7001592e-03]],\n",
       "\n",
       "        ...,\n",
       "\n",
       "        [[9.8951715e-01, 1.9528854e-03, 8.5299462e-03],\n",
       "         [9.9172521e-01, 9.5285673e-04, 7.3219151e-03],\n",
       "         [9.8842341e-01, 2.5501475e-03, 9.0263896e-03],\n",
       "         ...,\n",
       "         [9.9107766e-01, 1.2133785e-03, 7.7089677e-03],\n",
       "         [9.9006617e-01, 1.6761740e-03, 8.2575679e-03],\n",
       "         [9.9199206e-01, 8.5441972e-04, 7.1535725e-03]],\n",
       "\n",
       "        [[9.9212402e-01, 8.0771832e-04, 7.0682829e-03],\n",
       "         [9.9322742e-01, 4.7165429e-04, 6.3009132e-03],\n",
       "         [9.9281436e-01, 5.8586686e-04, 6.5998239e-03],\n",
       "         ...,\n",
       "         [9.9201000e-01, 8.4796944e-04, 7.1420181e-03],\n",
       "         [9.9249554e-01, 6.8356545e-04, 6.8208822e-03],\n",
       "         [9.9239713e-01, 7.1539212e-04, 6.8874909e-03]],\n",
       "\n",
       "        [[9.8735100e-01, 3.1869658e-03, 9.4619952e-03],\n",
       "         [9.9028450e-01, 1.5709340e-03, 8.1445258e-03],\n",
       "         [9.8856956e-01, 2.4670849e-03, 8.9633195e-03],\n",
       "         ...,\n",
       "         [9.8893309e-01, 2.2646780e-03, 8.8022146e-03],\n",
       "         [9.8952883e-01, 1.9468019e-03, 8.5243015e-03],\n",
       "         [9.8998815e-01, 1.7145334e-03, 8.2973726e-03]]],\n",
       "\n",
       "\n",
       "       [[[9.9030322e-01, 1.5620381e-03, 8.1346957e-03],\n",
       "         [9.9258655e-01, 6.5484969e-04, 6.7586470e-03],\n",
       "         [9.9245572e-01, 6.9631432e-04, 6.8478524e-03],\n",
       "         ...,\n",
       "         [9.9183804e-01, 9.1057707e-04, 7.2513805e-03],\n",
       "         [9.9172819e-01, 9.5173978e-04, 7.3200869e-03],\n",
       "         [9.8984468e-01, 1.7858021e-03, 8.3694756e-03]],\n",
       "\n",
       "        [[9.9062890e-01, 1.4107355e-03, 7.9603028e-03],\n",
       "         [9.9308115e-01, 5.1049644e-04, 6.4084204e-03],\n",
       "         [9.9324965e-01, 4.6592130e-04, 6.2844576e-03],\n",
       "         ...,\n",
       "         [9.9358386e-01, 3.8452382e-04, 6.0316087e-03],\n",
       "         [9.9375808e-01, 3.4579539e-04, 5.8961599e-03],\n",
       "         [9.9232775e-01, 7.3829584e-04, 6.9339853e-03]],\n",
       "\n",
       "        [[9.9215055e-01, 7.9851225e-04, 7.0510139e-03],\n",
       "         [9.9424148e-01, 2.5137962e-04, 5.5071367e-03],\n",
       "         [9.9440271e-01, 2.2408202e-04, 5.3732265e-03],\n",
       "         ...,\n",
       "         [9.9301404e-01, 5.2889902e-04, 6.4571155e-03],\n",
       "         [9.9162817e-01, 9.8996842e-04, 7.3818150e-03],\n",
       "         [9.9019462e-01, 1.6139281e-03, 8.1914132e-03]],\n",
       "\n",
       "        ...,\n",
       "\n",
       "        [[9.9042130e-01, 1.5064670e-03, 8.0722701e-03],\n",
       "         [9.9178809e-01, 9.2920644e-04, 7.2827740e-03],\n",
       "         [9.9143118e-01, 1.0674341e-03, 7.5013284e-03],\n",
       "         ...,\n",
       "         [9.9238598e-01, 7.1905885e-04, 6.8950136e-03],\n",
       "         [9.9207932e-01, 8.2340400e-04, 7.0973565e-03],\n",
       "         [9.9258125e-01, 6.5649446e-04, 6.7622699e-03]],\n",
       "\n",
       "        [[9.9054831e-01, 1.4475472e-03, 8.0040516e-03],\n",
       "         [9.9276638e-01, 6.0000562e-04, 6.6335378e-03],\n",
       "         [9.9189925e-01, 8.8803307e-04, 7.2127078e-03],\n",
       "         ...,\n",
       "         [9.9238718e-01, 7.1866310e-04, 6.8942001e-03],\n",
       "         [9.9252605e-01, 6.7384582e-04, 6.8000546e-03],\n",
       "         [9.9101311e-01, 1.2409241e-03, 7.7459128e-03]],\n",
       "\n",
       "        [[9.8735100e-01, 3.1869658e-03, 9.4619952e-03],\n",
       "         [9.8922837e-01, 2.1049103e-03, 8.6667193e-03],\n",
       "         [9.8841548e-01, 2.5547044e-03, 9.0298047e-03],\n",
       "         ...,\n",
       "         [9.8868108e-01, 2.4043627e-03, 8.9145647e-03],\n",
       "         [9.8845357e-01, 2.5329345e-03, 9.0134572e-03],\n",
       "         [9.8834199e-01, 2.5968053e-03, 9.0610972e-03]]],\n",
       "\n",
       "\n",
       "       ...,\n",
       "\n",
       "\n",
       "       [[[9.9154985e-01, 1.0204394e-03, 7.4296766e-03],\n",
       "         [9.9354529e-01, 3.9344709e-04, 6.0612829e-03],\n",
       "         [9.9358457e-01, 3.8437411e-04, 6.0311062e-03],\n",
       "         ...,\n",
       "         [9.9355704e-01, 3.9070981e-04, 6.0522375e-03],\n",
       "         [9.9308550e-01, 5.0930242e-04, 6.4052162e-03],\n",
       "         [9.9214959e-01, 7.9879252e-04, 7.0515415e-03]],\n",
       "\n",
       "        [[9.9194461e-01, 8.7150332e-04, 7.1838517e-03],\n",
       "         [9.9395776e-01, 3.0445776e-04, 5.7376828e-03],\n",
       "         [9.9369872e-01, 3.5870427e-04, 5.9425822e-03],\n",
       "         ...,\n",
       "         [9.9487782e-01, 1.5523647e-04, 4.9668942e-03],\n",
       "         [9.9457717e-01, 1.9681569e-04, 5.2259653e-03],\n",
       "         [9.9311429e-01, 5.0154031e-04, 6.3842186e-03]],\n",
       "\n",
       "        [[9.9090356e-01, 1.2883687e-03, 7.8080427e-03],\n",
       "         [9.9420494e-01, 2.5784047e-04, 5.5371388e-03],\n",
       "         [9.9398816e-01, 2.9847052e-04, 5.7133418e-03],\n",
       "         ...,\n",
       "         [9.9471658e-01, 1.7671996e-04, 5.1067704e-03],\n",
       "         [9.9386430e-01, 3.2339289e-04, 5.8122519e-03],\n",
       "         [9.9299145e-01, 5.3517235e-04, 6.4734095e-03]],\n",
       "\n",
       "        ...,\n",
       "\n",
       "        [[9.8735100e-01, 3.1869658e-03, 9.4619952e-03],\n",
       "         [9.9076688e-01, 1.3487121e-03, 7.8844996e-03],\n",
       "         [9.8849398e-01, 2.5099521e-03, 8.9960787e-03],\n",
       "         ...,\n",
       "         [9.9426240e-01, 2.4771877e-04, 5.4898644e-03],\n",
       "         [9.9357224e-01, 3.8720079e-04, 6.0405694e-03],\n",
       "         [9.9268848e-01, 6.2345434e-04, 6.6880924e-03]],\n",
       "\n",
       "        [[9.8735100e-01, 3.1869658e-03, 9.4619952e-03],\n",
       "         [9.9190676e-01, 8.8527350e-04, 7.2079208e-03],\n",
       "         [9.9112755e-01, 1.1922868e-03, 7.6802298e-03],\n",
       "         ...,\n",
       "         [9.9361718e-01, 3.7692793e-04, 6.0059200e-03],\n",
       "         [9.9336678e-01, 4.3632046e-04, 6.1968649e-03],\n",
       "         [9.9225545e-01, 7.6254969e-04, 6.9819978e-03]],\n",
       "\n",
       "        [[9.8735100e-01, 3.1869658e-03, 9.4619952e-03],\n",
       "         [9.8735100e-01, 3.1869658e-03, 9.4619952e-03],\n",
       "         [9.8735100e-01, 3.1869658e-03, 9.4619952e-03],\n",
       "         ...,\n",
       "         [9.8980659e-01, 1.8049248e-03, 8.3884345e-03],\n",
       "         [9.8872328e-01, 2.3807648e-03, 8.8959550e-03],\n",
       "         [9.8842365e-01, 2.5500411e-03, 9.0263113e-03]]],\n",
       "\n",
       "\n",
       "       [[[9.8991281e-01, 1.7518649e-03, 8.3354348e-03],\n",
       "         [9.9233001e-01, 7.3754141e-04, 6.9324733e-03],\n",
       "         [9.9178785e-01, 9.2927890e-04, 7.2828936e-03],\n",
       "         ...,\n",
       "         [9.9302083e-01, 5.2698888e-04, 6.4521246e-03],\n",
       "         [9.9248755e-01, 6.8613421e-04, 6.8263491e-03],\n",
       "         [9.9186981e-01, 8.9883513e-04, 7.2313342e-03]],\n",
       "\n",
       "        [[9.9067503e-01, 1.3898655e-03, 7.9350993e-03],\n",
       "         [9.9219680e-01, 7.8257517e-04, 7.0207370e-03],\n",
       "         [9.9211758e-01, 8.0996280e-04, 7.0724678e-03],\n",
       "         ...,\n",
       "         [9.9396694e-01, 3.0266625e-04, 5.7304357e-03],\n",
       "         [9.9426395e-01, 2.4744737e-04, 5.4885740e-03],\n",
       "         [9.9269354e-01, 6.2190666e-04, 6.6845426e-03]],\n",
       "\n",
       "        [[9.9145508e-01, 1.0579529e-03, 7.4870782e-03],\n",
       "         [9.9381977e-01, 3.3268746e-04, 5.8476073e-03],\n",
       "         [9.9284583e-01, 5.7665113e-04, 6.5775039e-03],\n",
       "         ...,\n",
       "         [9.9446070e-01, 2.1475618e-04, 5.3245304e-03],\n",
       "         [9.9353963e-01, 3.9478403e-04, 6.0656834e-03],\n",
       "         [9.9239600e-01, 7.1577443e-04, 6.8882741e-03]],\n",
       "\n",
       "        ...,\n",
       "\n",
       "        [[9.8967838e-01, 1.8699307e-03, 8.4517039e-03],\n",
       "         [9.9217659e-01, 7.8945962e-04, 7.0338743e-03],\n",
       "         [9.9095964e-01, 1.2640083e-03, 7.7763731e-03],\n",
       "         ...,\n",
       "         [9.9312568e-01, 4.9846782e-04, 6.3758376e-03],\n",
       "         [9.9351597e-01, 4.0031874e-04, 6.0837734e-03],\n",
       "         [9.9215066e-01, 7.9843163e-04, 7.0508597e-03]],\n",
       "\n",
       "        [[9.9085873e-01, 1.3079977e-03, 7.8332182e-03],\n",
       "         [9.9191976e-01, 8.8054844e-04, 7.1996963e-03],\n",
       "         [9.9008524e-01, 1.6668886e-03, 8.2478262e-03],\n",
       "         ...,\n",
       "         [9.9228537e-01, 7.5248908e-04, 6.9622309e-03],\n",
       "         [9.9227726e-01, 7.5519434e-04, 6.9675674e-03],\n",
       "         [9.9079204e-01, 1.3374479e-03, 7.8704376e-03]],\n",
       "\n",
       "        [[9.8814243e-01, 2.7124386e-03, 9.1450224e-03],\n",
       "         [9.9074966e-01, 1.3563938e-03, 7.8940345e-03],\n",
       "         [9.8912710e-01, 2.1592667e-03, 8.7137120e-03],\n",
       "         ...,\n",
       "         [9.8886150e-01, 2.3040632e-03, 8.8344412e-03],\n",
       "         [9.8982340e-01, 1.7965388e-03, 8.3801420e-03],\n",
       "         [9.8803109e-01, 2.7777415e-03, 9.1911582e-03]]],\n",
       "\n",
       "\n",
       "       [[[9.9002820e-01, 1.6947862e-03, 8.2769701e-03],\n",
       "         [9.9114323e-01, 1.1856452e-03, 7.6710950e-03],\n",
       "         [9.9140620e-01, 1.0774417e-03, 7.5162626e-03],\n",
       "         ...,\n",
       "         [9.9189246e-01, 8.9054502e-04, 7.2170552e-03],\n",
       "         [9.9154925e-01, 1.0206801e-03, 7.4300547e-03],\n",
       "         [9.8954213e-01, 1.9399298e-03, 8.5179070e-03]],\n",
       "\n",
       "        [[9.8976594e-01, 1.8254294e-03, 8.4085865e-03],\n",
       "         [9.9256015e-01, 6.6312368e-04, 6.7767967e-03],\n",
       "         [9.9269217e-01, 6.2232342e-04, 6.6854991e-03],\n",
       "         ...,\n",
       "         [9.9416322e-01, 2.6537676e-04, 5.5713970e-03],\n",
       "         [9.9436557e-01, 2.3018464e-04, 5.4042353e-03],\n",
       "         [9.9210018e-01, 8.1601512e-04, 7.0837149e-03]],\n",
       "\n",
       "        [[9.8921239e-01, 2.1134685e-03, 8.6741783e-03],\n",
       "         [9.9360049e-01, 3.8074213e-04, 6.0188686e-03],\n",
       "         [9.9354833e-01, 3.9274275e-04, 6.0589584e-03],\n",
       "         ...,\n",
       "         [9.9427325e-01, 2.4583162e-04, 5.4808822e-03],\n",
       "         [9.9387395e-01, 3.2143094e-04, 5.8046887e-03],\n",
       "         [9.9142164e-01, 1.0712961e-03, 7.5071068e-03]],\n",
       "\n",
       "        ...,\n",
       "\n",
       "        [[9.8813462e-01, 2.7171057e-03, 9.1483472e-03],\n",
       "         [9.9166811e-01, 9.7460847e-04, 7.3572393e-03],\n",
       "         [9.9286908e-01, 5.6992430e-04, 6.5610339e-03],\n",
       "         ...,\n",
       "         [9.9331892e-01, 4.4828933e-04, 6.2328326e-03],\n",
       "         [9.9316359e-01, 4.8837293e-04, 6.3480102e-03],\n",
       "         [9.9087232e-01, 1.3020827e-03, 7.8256652e-03]],\n",
       "\n",
       "        [[9.8953772e-01, 1.9422554e-03, 8.5200705e-03],\n",
       "         [9.9185020e-01, 9.0607122e-04, 7.2437115e-03],\n",
       "         [9.9105328e-01, 1.2237604e-03, 7.7229692e-03],\n",
       "         ...,\n",
       "         [9.9240768e-01, 7.1190117e-04, 6.8802997e-03],\n",
       "         [9.9243987e-01, 7.0148136e-04, 6.8586706e-03],\n",
       "         [9.8980051e-01, 1.8080147e-03, 8.3914837e-03]],\n",
       "\n",
       "        [[9.8992455e-01, 1.7459713e-03, 8.3294632e-03],\n",
       "         [9.9080557e-01, 1.3314600e-03, 7.8629227e-03],\n",
       "         [9.9096560e-01, 1.2613909e-03, 7.7729421e-03],\n",
       "         ...,\n",
       "         [9.9088913e-01, 1.2946790e-03, 7.8161731e-03],\n",
       "         [9.9077082e-01, 1.3469374e-03, 7.8822868e-03],\n",
       "         [9.8776454e-01, 2.9360550e-03, 9.2995018e-03]]]], dtype=float32)"
      ]
     },
     "execution_count": 48,
     "metadata": {},
     "output_type": "execute_result"
    }
   ],
   "source": [
    "prediction_chunk3"
   ]
  },
  {
   "cell_type": "code",
   "execution_count": 49,
   "id": "approved-consolidation",
   "metadata": {},
   "outputs": [
    {
     "data": {
      "text/plain": [
       "numpy.ndarray"
      ]
     },
     "execution_count": 49,
     "metadata": {},
     "output_type": "execute_result"
    }
   ],
   "source": [
    "type(prediction_chunk3)"
   ]
  },
  {
   "cell_type": "code",
   "execution_count": 50,
   "id": "matched-exposure",
   "metadata": {},
   "outputs": [],
   "source": [
    "prediction_chunk3 = np.argmax(prediction_chunk3, axis=3)  # Apply Softmax"
   ]
  },
  {
   "cell_type": "code",
   "execution_count": 51,
   "id": "allied-intervention",
   "metadata": {},
   "outputs": [
    {
     "data": {
      "text/plain": [
       "(320, 320, 96)"
      ]
     },
     "execution_count": 51,
     "metadata": {},
     "output_type": "execute_result"
    }
   ],
   "source": [
    "prediction_chunk3.shape"
   ]
  },
  {
   "cell_type": "code",
   "execution_count": 52,
   "id": "junior-violence",
   "metadata": {},
   "outputs": [],
   "source": [
    "prediction_chunk3 = prediction_chunk3.reshape((prediction_chunk3.shape[0], prediction_chunk3.shape[1], prediction_chunk3.shape[2]))"
   ]
  },
  {
   "cell_type": "code",
   "execution_count": 53,
   "id": "essential-tennis",
   "metadata": {},
   "outputs": [
    {
     "data": {
      "text/plain": [
       "(320, 320, 96)"
      ]
     },
     "execution_count": 53,
     "metadata": {},
     "output_type": "execute_result"
    }
   ],
   "source": [
    "prediction_chunk3.shape"
   ]
  },
  {
   "cell_type": "code",
   "execution_count": 54,
   "id": "retired-vocabulary",
   "metadata": {},
   "outputs": [
    {
     "data": {
      "text/plain": [
       "array([0, 1, 2])"
      ]
     },
     "execution_count": 54,
     "metadata": {},
     "output_type": "execute_result"
    }
   ],
   "source": [
    "np.unique(prediction_chunk3)"
   ]
  },
  {
   "cell_type": "markdown",
   "id": "unlikely-wheel",
   "metadata": {},
   "source": [
    "#### Model prediction vs groundtruth number of labels"
   ]
  },
  {
   "cell_type": "code",
   "execution_count": 55,
   "id": "innovative-millennium",
   "metadata": {},
   "outputs": [
    {
     "name": "stdout",
     "output_type": "stream",
     "text": [
      "Background - class 0\n",
      "9100165\n",
      "--------\n",
      "Left Atrium - class 1\n",
      "423769\n",
      "--------\n",
      "Cancer - class 2\n",
      "306466\n"
     ]
    }
   ],
   "source": [
    "# Number of labels per class in model prediction\n",
    "print(\"Background - class 0\")\n",
    "print(len(prediction_chunk3[prediction_chunk3 == 0])) \n",
    "print(\"--------\")\n",
    "print(\"Left Atrium - class 1\")\n",
    "print(len(prediction_chunk3[prediction_chunk3 == 1]))\n",
    "print(\"--------\")\n",
    "print(\"Cancer - class 2\")\n",
    "print(len(prediction_chunk3[prediction_chunk3 == 2]))"
   ]
  },
  {
   "cell_type": "code",
   "execution_count": 56,
   "id": "municipal-response",
   "metadata": {},
   "outputs": [
    {
     "name": "stdout",
     "output_type": "stream",
     "text": [
      "Background - class 0\n",
      "9040579\n",
      "--------\n",
      "Liver - class 1\n",
      "626705\n",
      "--------\n",
      "Cancer - class 2\n",
      "163116\n"
     ]
    }
   ],
   "source": [
    "# Number of labels per class in ground truth mask\n",
    "print(\"Background - class 0\")\n",
    "print(len(mask_chunk3[mask_chunk3 == 0])) \n",
    "print(\"--------\")\n",
    "print(\"Liver - class 1\")\n",
    "print(len(mask_chunk3[mask_chunk3 == 1]))\n",
    "print(\"--------\")\n",
    "print(\"Cancer - class 2\")\n",
    "print(len(mask_chunk3[mask_chunk3 == 2]))"
   ]
  },
  {
   "cell_type": "code",
   "execution_count": 57,
   "id": "existing-force",
   "metadata": {
    "scrolled": false
   },
   "outputs": [
    {
     "data": {
      "application/vnd.jupyter.widget-view+json": {
       "model_id": "d6d62cbea2fb47f6bd7386550d18432c",
       "version_major": 2,
       "version_minor": 0
      },
      "text/plain": [
       "interactive(children=(ToggleButtons(button_style='info', description='Select Class:', options=('Background', '…"
      ]
     },
     "metadata": {},
     "output_type": "display_data"
    }
   ],
   "source": [
    "classes_dict = {\n",
    "    'Background': 0,\n",
    "    'Liver': 1,\n",
    "    'Cancer': 2\n",
    "}\n",
    "\n",
    "# Create button values\n",
    "select_class = ToggleButtons(\n",
    "    options=['Background', 'Liver', 'Cancer', 'All'],\n",
    "    description='Select Class:',\n",
    "    disabled=False,\n",
    "    button_style='info', \n",
    "    \n",
    ")\n",
    "# Create layer slider\n",
    "select_layer = IntSlider(min=0, max=mri_chunk3.shape[2] - 1, description='Select Layer', continuous_update=False)\n",
    "\n",
    "    \n",
    "# Define a function for plotting images\n",
    "def plot(seg_class, layer):\n",
    "    print(f\"Plotting Layer: {layer} | Label: {seg_class}\")\n",
    "    fig = plt.figure(figsize=(20, 10))\n",
    "    \n",
    "    fig.add_subplot(1, 3, 1)\n",
    "    plt.title(\"Liver_118\", fontsize=20)\n",
    "    plt.imshow(mri_chunk3[:, :, layer], cmap='gray');\n",
    "    plt.axis('off')\n",
    "    \n",
    "    fig.add_subplot(1, 3, 2)\n",
    "    if seg_class == \"All\":\n",
    "        mask_groundtruth = mask_chunk3[:, :, layer]\n",
    "        plt.title(\"Groundtruth mask\", fontsize=20)\n",
    "        plt.imshow(mask_groundtruth)\n",
    "        plt.axis('off');\n",
    "    else:\n",
    "        img_label = classes_dict[seg_class]\n",
    "        mask_groundtruth = np.where(mask_chunk3[:, :, layer] == img_label, 255, 0)\n",
    "        plt.title(\"Groundtruth mask\", fontsize=20)\n",
    "        plt.imshow(mask_groundtruth, cmap='gray')\n",
    "        plt.axis('off');\n",
    "    \n",
    "    fig.add_subplot(1, 3, 3)\n",
    "    if seg_class == \"All\":\n",
    "        mask_model_prediction = prediction_chunk3[:, :, layer]\n",
    "        plt.title(\"Model prediction mask\", fontsize=20)\n",
    "        plt.imshow(mask_model_prediction)\n",
    "        plt.axis('off');\n",
    "    else:\n",
    "        img_label = classes_dict[seg_class]\n",
    "        mask_model_prediction = np.where(prediction_chunk3[:, :, layer] == img_label, 255, 0)\n",
    "        plt.title(\"Model prediction mask\", fontsize=20)\n",
    "        plt.imshow(mask_model_prediction, cmap='gray')\n",
    "        plt.axis('off');\n",
    "\n",
    "    \n",
    "# Use the interactive() tool to create the visualization\n",
    "interactive(plot, seg_class=select_class, layer=select_layer)"
   ]
  },
  {
   "cell_type": "markdown",
   "id": "monetary-moisture",
   "metadata": {},
   "source": [
    "### 1.1.4 Chunk 4"
   ]
  },
  {
   "cell_type": "code",
   "execution_count": 58,
   "id": "narrative-health",
   "metadata": {},
   "outputs": [],
   "source": [
    "mri_chunk4 = nib.load(\"../datasets/Task03_Liver_320x320x96/val/images/liver_118_3.nii.gz\").get_fdata().astype(np.float32)"
   ]
  },
  {
   "cell_type": "code",
   "execution_count": 59,
   "id": "serious-darwin",
   "metadata": {},
   "outputs": [],
   "source": [
    "mask_chunk4 = nib.load(\"../datasets/Task03_Liver_320x320x96/val/masks/liver_118_3.nii.gz\").get_fdata().astype(np.uint8)"
   ]
  },
  {
   "cell_type": "code",
   "execution_count": 60,
   "id": "genetic-giant",
   "metadata": {},
   "outputs": [
    {
     "data": {
      "text/plain": [
       "(320, 320, 96)"
      ]
     },
     "execution_count": 60,
     "metadata": {},
     "output_type": "execute_result"
    }
   ],
   "source": [
    "mask_chunk4.shape"
   ]
  },
  {
   "cell_type": "code",
   "execution_count": 61,
   "id": "existing-reducing",
   "metadata": {},
   "outputs": [],
   "source": [
    "mri_standardized_chunk4 = standardize(mri_chunk4.reshape((mri_chunk4.shape[0], mri_chunk4.shape[1], mri_chunk4.shape[2], 1)))"
   ]
  },
  {
   "cell_type": "code",
   "execution_count": 62,
   "id": "dense-petroleum",
   "metadata": {},
   "outputs": [],
   "source": [
    "mri_standardized_chunk4 = np.expand_dims(mri_standardized_chunk4, axis=0)  # Keras models require an additional dimension of 'batch_size'"
   ]
  },
  {
   "cell_type": "code",
   "execution_count": 63,
   "id": "respective-japan",
   "metadata": {},
   "outputs": [],
   "source": [
    "prediction_chunk4 = model.predict(mri_standardized_chunk4)"
   ]
  },
  {
   "cell_type": "code",
   "execution_count": 64,
   "id": "naughty-contrast",
   "metadata": {},
   "outputs": [],
   "source": [
    "prediction_chunk4 = np.squeeze(prediction_chunk4, axis=0)  # Remove 'batch_size' dimension"
   ]
  },
  {
   "cell_type": "code",
   "execution_count": 65,
   "id": "industrial-basis",
   "metadata": {},
   "outputs": [
    {
     "data": {
      "text/plain": [
       "(320, 320, 96, 3)"
      ]
     },
     "execution_count": 65,
     "metadata": {},
     "output_type": "execute_result"
    }
   ],
   "source": [
    "prediction_chunk4.shape"
   ]
  },
  {
   "cell_type": "code",
   "execution_count": 66,
   "id": "eastern-thong",
   "metadata": {},
   "outputs": [
    {
     "data": {
      "text/plain": [
       "array([[[[9.9140304e-01, 1.0787579e-03, 7.5182170e-03],\n",
       "         [9.9164128e-01, 9.8489353e-04, 7.3737297e-03],\n",
       "         [9.9124289e-01, 1.1441081e-03, 7.6130382e-03],\n",
       "         ...,\n",
       "         [9.9001384e-01, 1.3936443e-03, 8.5925050e-03],\n",
       "         [9.8234069e-01, 2.6660813e-03, 1.4993212e-02],\n",
       "         [9.8027575e-01, 3.1082125e-03, 1.6616000e-02]],\n",
       "\n",
       "        [[9.9100786e-01, 1.2432025e-03, 7.7489377e-03],\n",
       "         [9.9210268e-01, 8.1518100e-04, 7.0821722e-03],\n",
       "         [9.9139470e-01, 1.0821259e-03, 7.5232172e-03],\n",
       "         ...,\n",
       "         [9.9276090e-01, 6.0167717e-04, 6.6374848e-03],\n",
       "         [9.9352080e-01, 3.9916806e-04, 6.0800272e-03],\n",
       "         [9.9175042e-01, 6.4937904e-04, 7.6001128e-03]],\n",
       "\n",
       "        [[9.9129301e-01, 1.1234209e-03, 7.5834920e-03],\n",
       "         [9.9230158e-01, 7.4701710e-04, 6.9513903e-03],\n",
       "         [9.9169630e-01, 9.6387218e-04, 7.3398855e-03],\n",
       "         ...,\n",
       "         [9.9169695e-01, 9.6359436e-04, 7.3394324e-03],\n",
       "         [9.9244398e-01, 7.0011953e-04, 6.8558250e-03],\n",
       "         [9.9249578e-01, 6.8348739e-04, 6.8207150e-03]],\n",
       "\n",
       "        ...,\n",
       "\n",
       "        [[9.9060774e-01, 1.4204293e-03, 7.9719108e-03],\n",
       "         [9.9098116e-01, 1.2547004e-03, 7.7641406e-03],\n",
       "         [9.9045265e-01, 1.4918414e-03, 8.0555370e-03],\n",
       "         ...,\n",
       "         [9.9107075e-01, 1.2163442e-03, 7.7129770e-03],\n",
       "         [9.9273312e-01, 6.0997612e-04, 6.6569382e-03],\n",
       "         [9.9286193e-01, 5.7198491e-04, 6.5660938e-03]],\n",
       "\n",
       "        [[9.9154061e-01, 1.0240369e-03, 7.4352566e-03],\n",
       "         [9.9332690e-01, 4.4624679e-04, 6.2267454e-03],\n",
       "         [9.9261320e-01, 6.4656633e-04, 6.7402972e-03],\n",
       "         ...,\n",
       "         [9.9267733e-01, 6.2685006e-04, 6.6958577e-03],\n",
       "         [9.9289328e-01, 5.6293193e-04, 6.5437467e-03],\n",
       "         [9.9228197e-01, 7.5357518e-04, 6.9643748e-03]],\n",
       "\n",
       "        [[9.8903137e-01, 2.2110657e-03, 8.7576192e-03],\n",
       "         [9.9065268e-01, 1.4000009e-03, 7.9473741e-03],\n",
       "         [9.9005401e-01, 1.6821520e-03, 8.2638208e-03],\n",
       "         ...,\n",
       "         [9.8987317e-01, 1.7715453e-03, 8.3552413e-03],\n",
       "         [9.9092484e-01, 1.2790634e-03, 7.7960035e-03],\n",
       "         [9.9092978e-01, 1.2769112e-03, 7.7932072e-03]]],\n",
       "\n",
       "\n",
       "       [[[9.8984247e-01, 1.7869386e-03, 8.3706062e-03],\n",
       "         [9.9138123e-01, 1.0875645e-03, 7.5312564e-03],\n",
       "         [9.9060309e-01, 1.4225306e-03, 7.9744179e-03],\n",
       "         ...,\n",
       "         [9.9091291e-01, 1.2842939e-03, 7.8027793e-03],\n",
       "         [9.9159372e-01, 9.2833879e-04, 7.4780132e-03],\n",
       "         [9.8818260e-01, 1.6467305e-03, 1.0170647e-02]],\n",
       "\n",
       "        [[9.9069726e-01, 1.3798369e-03, 7.9228757e-03],\n",
       "         [9.9378842e-01, 3.3928308e-04, 5.8722217e-03],\n",
       "         [9.9176216e-01, 9.3891693e-04, 7.2989371e-03],\n",
       "         ...,\n",
       "         [9.9336421e-01, 4.3697451e-04, 6.1988500e-03],\n",
       "         [9.9389827e-01, 3.1641431e-04, 5.7851793e-03],\n",
       "         [9.9328846e-01, 4.5598196e-04, 6.2555466e-03]],\n",
       "\n",
       "        [[9.9163073e-01, 9.8900648e-04, 7.3802820e-03],\n",
       "         [9.9361837e-01, 3.7664594e-04, 6.0049593e-03],\n",
       "         [9.9337900e-01, 4.3329422e-04, 6.1876462e-03],\n",
       "         ...,\n",
       "         [9.9129850e-01, 1.1211879e-03, 7.5802836e-03],\n",
       "         [9.9273866e-01, 6.0828909e-04, 6.6529987e-03],\n",
       "         [9.9191225e-01, 8.8325329e-04, 7.2044083e-03]],\n",
       "\n",
       "        ...,\n",
       "\n",
       "        [[9.9062145e-01, 1.4141705e-03, 7.9644267e-03],\n",
       "         [9.9309111e-01, 5.0777179e-04, 6.4010941e-03],\n",
       "         [9.9093878e-01, 1.2730210e-03, 7.7881468e-03],\n",
       "         ...,\n",
       "         [9.9152023e-01, 1.0321077e-03, 7.4477107e-03],\n",
       "         [9.9188459e-01, 8.9340121e-04, 7.2219865e-03],\n",
       "         [9.9286836e-01, 5.7011709e-04, 6.5615079e-03]],\n",
       "\n",
       "        [[9.9259394e-01, 6.5252522e-04, 6.7535173e-03],\n",
       "         [9.9380577e-01, 3.3563917e-04, 5.8586663e-03],\n",
       "         [9.9283856e-01, 5.7877298e-04, 6.5826699e-03],\n",
       "         ...,\n",
       "         [9.9160856e-01, 9.9754520e-04, 7.3938230e-03],\n",
       "         [9.9254131e-01, 6.6903664e-04, 6.7896582e-03],\n",
       "         [9.9249309e-01, 6.8434933e-04, 6.8225539e-03]],\n",
       "\n",
       "        [[9.8786640e-01, 2.8752263e-03, 9.2584435e-03],\n",
       "         [9.9079728e-01, 1.3351662e-03, 7.8675747e-03],\n",
       "         [9.8982555e-01, 1.7954481e-03, 8.3790617e-03],\n",
       "         ...,\n",
       "         [9.8931724e-01, 2.0576445e-03, 8.6250622e-03],\n",
       "         [9.9002713e-01, 1.6953259e-03, 8.2775299e-03],\n",
       "         [9.9034822e-01, 1.5407616e-03, 8.1110084e-03]]],\n",
       "\n",
       "\n",
       "       [[[9.9048352e-01, 1.4774748e-03, 8.0389734e-03],\n",
       "         [9.9252737e-01, 6.7342492e-04, 6.7991461e-03],\n",
       "         [9.9251986e-01, 6.7583437e-04, 6.8043354e-03],\n",
       "         ...,\n",
       "         [9.9219757e-01, 7.8227691e-04, 7.0201638e-03],\n",
       "         [9.9237764e-01, 7.2176382e-04, 6.9005406e-03],\n",
       "         [9.8612309e-01, 2.4143616e-03, 1.1462602e-02]],\n",
       "\n",
       "        [[9.9107075e-01, 1.2163406e-03, 7.7129733e-03],\n",
       "         [9.9388665e-01, 3.1882321e-04, 5.7945778e-03],\n",
       "         [9.9402314e-01, 2.9167827e-04, 5.6852568e-03],\n",
       "         ...,\n",
       "         [9.9390322e-01, 3.1545173e-04, 5.7814103e-03],\n",
       "         [9.9439478e-01, 2.2537429e-04, 5.3798500e-03],\n",
       "         [9.9305636e-01, 5.1724887e-04, 6.4264489e-03]],\n",
       "\n",
       "        [[9.9179685e-01, 9.2590362e-04, 7.2772461e-03],\n",
       "         [9.9408287e-01, 2.8024887e-04, 5.6368192e-03],\n",
       "         [9.9394614e-01, 3.0681747e-04, 5.7471716e-03],\n",
       "         ...,\n",
       "         [9.9270344e-01, 6.1893609e-04, 6.6777086e-03],\n",
       "         [9.9231815e-01, 7.4151339e-04, 6.9404282e-03],\n",
       "         [9.9104017e-01, 1.2293806e-03, 7.7305082e-03]],\n",
       "\n",
       "        ...,\n",
       "\n",
       "        [[9.9154186e-01, 1.0235638e-03, 7.4345255e-03],\n",
       "         [9.9280554e-01, 5.8846321e-04, 6.6060657e-03],\n",
       "         [9.9228889e-01, 7.5127161e-04, 6.9598225e-03],\n",
       "         ...,\n",
       "         [9.9233526e-01, 7.3578442e-04, 6.9289445e-03],\n",
       "         [9.9269086e-01, 6.2272663e-04, 6.6864244e-03],\n",
       "         [9.9260372e-01, 6.4951490e-04, 6.7468532e-03]],\n",
       "\n",
       "        [[9.9182606e-01, 9.1503526e-04, 7.2589428e-03],\n",
       "         [9.9385989e-01, 3.2432511e-04, 5.8158333e-03],\n",
       "         [9.9234760e-01, 7.3169160e-04, 6.9206962e-03],\n",
       "         ...,\n",
       "         [9.9220300e-01, 7.8042242e-04, 7.0166113e-03],\n",
       "         [9.9269766e-01, 6.2064605e-04, 6.6816448e-03],\n",
       "         [9.9120128e-01, 1.1613640e-03, 7.6373555e-03]],\n",
       "\n",
       "        [[9.8753744e-01, 3.0730206e-03, 9.3895262e-03],\n",
       "         [9.9069691e-01, 1.3800384e-03, 7.9231225e-03],\n",
       "         [9.8973399e-01, 1.8416580e-03, 8.4244069e-03],\n",
       "         ...,\n",
       "         [9.8902017e-01, 2.2171217e-03, 8.7627005e-03],\n",
       "         [9.8960239e-01, 1.9089113e-03, 8.4888097e-03],\n",
       "         [9.8918891e-01, 2.1259617e-03, 8.6850319e-03]]],\n",
       "\n",
       "\n",
       "       ...,\n",
       "\n",
       "\n",
       "       [[[9.9095857e-01, 1.2644351e-03, 7.7769323e-03],\n",
       "         [9.9310619e-01, 5.0370011e-04, 6.3900868e-03],\n",
       "         [9.9347794e-01, 4.0929660e-04, 6.1127036e-03],\n",
       "         ...,\n",
       "         [9.9330890e-01, 4.5081857e-04, 6.2403353e-03],\n",
       "         [9.9324507e-01, 4.6709724e-04, 6.2878490e-03],\n",
       "         [9.9225026e-01, 7.6429854e-04, 6.9854148e-03]],\n",
       "\n",
       "        [[9.9166793e-01, 9.7471237e-04, 7.3574092e-03],\n",
       "         [9.9438453e-01, 2.2706161e-04, 5.3884462e-03],\n",
       "         [9.9392599e-01, 3.1083755e-04, 5.7632029e-03],\n",
       "         ...,\n",
       "         [9.9478501e-01, 1.6737671e-04, 5.0476799e-03],\n",
       "         [9.9474144e-01, 1.7327399e-04, 5.0852662e-03],\n",
       "         [9.9327964e-01, 4.5824540e-04, 6.2621757e-03]],\n",
       "\n",
       "        [[9.9088389e-01, 1.2969923e-03, 7.8191422e-03],\n",
       "         [9.9418300e-01, 2.6177795e-04, 5.5551347e-03],\n",
       "         [9.9401194e-01, 2.9382753e-04, 5.6941980e-03],\n",
       "         ...,\n",
       "         [9.9439406e-01, 2.2549451e-04, 5.3804615e-03],\n",
       "         [9.9403942e-01, 2.8851695e-04, 5.6720087e-03],\n",
       "         [9.9291354e-01, 5.5713864e-04, 6.5292991e-03]],\n",
       "\n",
       "        ...,\n",
       "\n",
       "        [[9.8940176e-01, 2.0131110e-03, 8.5851131e-03],\n",
       "         [9.9208635e-01, 8.2091248e-04, 7.0927651e-03],\n",
       "         [9.9099851e-01, 1.2472278e-03, 7.7542756e-03],\n",
       "         ...,\n",
       "         [9.9424690e-01, 2.5043226e-04, 5.5026831e-03],\n",
       "         [9.9372637e-01, 3.5262687e-04, 5.9208944e-03],\n",
       "         [9.9269557e-01, 6.2129175e-04, 6.6831284e-03]],\n",
       "\n",
       "        [[9.8831916e-01, 2.6100308e-03, 9.0708481e-03],\n",
       "         [9.9240255e-01, 7.1364886e-04, 6.8839034e-03],\n",
       "         [9.9146479e-01, 1.0540583e-03, 7.4811960e-03],\n",
       "         ...,\n",
       "         [9.9321270e-01, 4.7546162e-04, 6.3117538e-03],\n",
       "         [9.9313438e-01, 4.9612077e-04, 6.3694092e-03],\n",
       "         [9.9215966e-01, 7.9531543e-04, 7.0449794e-03]],\n",
       "\n",
       "        [[9.8735100e-01, 3.1869658e-03, 9.4619952e-03],\n",
       "         [9.8799187e-01, 2.8008560e-03, 9.2072831e-03],\n",
       "         [9.8735100e-01, 3.1869658e-03, 9.4619952e-03],\n",
       "         ...,\n",
       "         [9.9036217e-01, 1.5341843e-03, 8.1036305e-03],\n",
       "         [9.9000388e-01, 1.7067429e-03, 8.2893465e-03],\n",
       "         [9.8917830e-01, 2.1316926e-03, 8.6899968e-03]]],\n",
       "\n",
       "\n",
       "       [[[9.8978722e-01, 1.8147628e-03, 8.3981240e-03],\n",
       "         [9.9192703e-01, 8.7791390e-04, 7.1950951e-03],\n",
       "         [9.9160463e-01, 9.9912309e-04, 7.3963180e-03],\n",
       "         ...,\n",
       "         [9.9283242e-01, 5.8057770e-04, 6.5870509e-03],\n",
       "         [9.9263471e-01, 6.3989294e-04, 6.7253760e-03],\n",
       "         [9.9185598e-01, 9.0393296e-04, 7.2400658e-03]],\n",
       "\n",
       "        [[9.9084491e-01, 1.3140871e-03, 7.8409715e-03],\n",
       "         [9.9265879e-01, 6.3250249e-04, 6.7087109e-03],\n",
       "         [9.9236125e-01, 7.2717754e-04, 6.9115567e-03],\n",
       "         ...,\n",
       "         [9.9388182e-01, 3.1979737e-04, 5.7983613e-03],\n",
       "         [9.9431568e-01, 2.3854552e-04, 5.4456834e-03],\n",
       "         [9.9292904e-01, 5.5271928e-04, 6.5181963e-03]],\n",
       "\n",
       "        [[9.9110150e-01, 1.2032774e-03, 7.6952525e-03],\n",
       "         [9.9324048e-01, 4.6827280e-04, 6.2912265e-03],\n",
       "         [9.9235666e-01, 7.2871184e-04, 6.9146696e-03],\n",
       "         ...,\n",
       "         [9.9417108e-01, 2.6394398e-04, 5.5649416e-03],\n",
       "         [9.9351501e-01, 4.0051827e-04, 6.0844207e-03],\n",
       "         [9.9257421e-01, 6.5867591e-04, 6.7670639e-03]],\n",
       "\n",
       "        ...,\n",
       "\n",
       "        [[9.9056494e-01, 1.4399807e-03, 7.9951342e-03],\n",
       "         [9.9222094e-01, 7.7426533e-04, 7.0047602e-03],\n",
       "         [9.9125212e-01, 1.1402545e-03, 7.6075681e-03],\n",
       "         ...,\n",
       "         [9.9303150e-01, 5.2405865e-04, 6.4444365e-03],\n",
       "         [9.9347609e-01, 4.0974811e-04, 6.1141434e-03],\n",
       "         [9.9210292e-01, 8.1511895e-04, 7.0820553e-03]],\n",
       "\n",
       "        [[9.9179888e-01, 9.2517998e-04, 7.2760321e-03],\n",
       "         [9.9250013e-01, 6.8210630e-04, 6.8177725e-03],\n",
       "         [9.9005508e-01, 1.6816469e-03, 8.2632937e-03],\n",
       "         ...,\n",
       "         [9.9212271e-01, 8.0817111e-04, 7.0691300e-03],\n",
       "         [9.9250752e-01, 6.7975867e-04, 6.8127536e-03],\n",
       "         [9.9082667e-01, 1.3221318e-03, 7.8511601e-03]],\n",
       "\n",
       "        [[9.8881018e-01, 2.3324161e-03, 8.8573666e-03],\n",
       "         [9.9113548e-01, 1.1889156e-03, 7.6755974e-03],\n",
       "         [9.9002540e-01, 1.6962028e-03, 8.2784425e-03],\n",
       "         ...,\n",
       "         [9.8932528e-01, 2.0533977e-03, 8.6212829e-03],\n",
       "         [9.9036622e-01, 1.5322972e-03, 8.1015080e-03],\n",
       "         [9.8877931e-01, 2.3495711e-03, 8.8711325e-03]]],\n",
       "\n",
       "\n",
       "       [[[9.9000144e-01, 1.7079827e-03, 8.2906261e-03],\n",
       "         [9.9118739e-01, 1.1671598e-03, 7.6454575e-03],\n",
       "         [9.9099123e-01, 1.2503461e-03, 7.7583985e-03],\n",
       "         ...,\n",
       "         [9.9145061e-01, 1.0597218e-03, 7.4897446e-03],\n",
       "         [9.9132383e-01, 1.1108812e-03, 7.5653801e-03],\n",
       "         [9.8940045e-01, 2.0138631e-03, 8.5857939e-03]],\n",
       "\n",
       "        [[9.9049395e-01, 1.4726997e-03, 8.0334432e-03],\n",
       "         [9.9301541e-01, 5.2849739e-04, 6.4560655e-03],\n",
       "         [9.9296653e-01, 5.4212031e-04, 6.4912797e-03],\n",
       "         ...,\n",
       "         [9.9404609e-01, 2.8724558e-04, 5.6666536e-03],\n",
       "         [9.9425006e-01, 2.4988051e-04, 5.5000857e-03],\n",
       "         [9.9217767e-01, 7.8909792e-04, 7.0331870e-03]],\n",
       "\n",
       "        [[9.9062610e-01, 1.4120599e-03, 7.9618925e-03],\n",
       "         [9.9367899e-01, 3.6305931e-04, 5.9579415e-03],\n",
       "         [9.9345475e-01, 4.1485613e-04, 6.1303661e-03],\n",
       "         ...,\n",
       "         [9.9382246e-01, 3.3212284e-04, 5.8454792e-03],\n",
       "         [9.9355137e-01, 3.9200397e-04, 6.0565188e-03],\n",
       "         [9.9167866e-01, 9.7054610e-04, 7.3506935e-03]],\n",
       "\n",
       "        ...,\n",
       "\n",
       "        [[9.8932219e-01, 2.0550464e-03, 8.6227525e-03],\n",
       "         [9.9186313e-01, 9.0129086e-04, 7.2355415e-03],\n",
       "         [9.9235338e-01, 7.2977488e-04, 6.9168229e-03],\n",
       "         ...,\n",
       "         [9.9341702e-01, 4.2400928e-04, 6.1590462e-03],\n",
       "         [9.9315298e-01, 4.9120415e-04, 6.3558603e-03],\n",
       "         [9.9088657e-01, 1.2957930e-03, 7.8175990e-03]],\n",
       "\n",
       "        [[9.9037617e-01, 1.5275500e-03, 8.0961678e-03],\n",
       "         [9.9225873e-01, 7.6144759e-04, 6.9798441e-03],\n",
       "         [9.9161714e-01, 9.9422724e-04, 7.3885717e-03],\n",
       "         ...,\n",
       "         [9.9202454e-01, 8.4278261e-04, 7.1326713e-03],\n",
       "         [9.9221414e-01, 7.7658199e-04, 7.0092268e-03],\n",
       "         [9.8971367e-01, 1.8519516e-03, 8.4343795e-03]],\n",
       "\n",
       "        [[9.9041408e-01, 1.5097999e-03, 8.0760643e-03],\n",
       "         [9.9147600e-01, 1.0495604e-03, 7.4743782e-03],\n",
       "         [9.9064344e-01, 1.4041698e-03, 7.9524061e-03],\n",
       "         ...,\n",
       "         [9.9093062e-01, 1.2765914e-03, 7.7927890e-03],\n",
       "         [9.9083167e-01, 1.3199571e-03, 7.8484155e-03],\n",
       "         [9.8812187e-01, 2.7245267e-03, 9.1536269e-03]]]], dtype=float32)"
      ]
     },
     "execution_count": 66,
     "metadata": {},
     "output_type": "execute_result"
    }
   ],
   "source": [
    "prediction_chunk4"
   ]
  },
  {
   "cell_type": "code",
   "execution_count": 67,
   "id": "common-sweet",
   "metadata": {},
   "outputs": [
    {
     "data": {
      "text/plain": [
       "numpy.ndarray"
      ]
     },
     "execution_count": 67,
     "metadata": {},
     "output_type": "execute_result"
    }
   ],
   "source": [
    "type(prediction_chunk4)"
   ]
  },
  {
   "cell_type": "code",
   "execution_count": 68,
   "id": "mathematical-crack",
   "metadata": {},
   "outputs": [],
   "source": [
    "prediction_chunk4 = np.argmax(prediction_chunk4, axis=3)  # Apply Softmax"
   ]
  },
  {
   "cell_type": "code",
   "execution_count": 69,
   "id": "competitive-wellington",
   "metadata": {},
   "outputs": [
    {
     "data": {
      "text/plain": [
       "(320, 320, 96)"
      ]
     },
     "execution_count": 69,
     "metadata": {},
     "output_type": "execute_result"
    }
   ],
   "source": [
    "prediction_chunk4.shape"
   ]
  },
  {
   "cell_type": "code",
   "execution_count": 70,
   "id": "communist-toronto",
   "metadata": {},
   "outputs": [],
   "source": [
    "prediction_chunk4 = prediction_chunk4.reshape((prediction_chunk4.shape[0], prediction_chunk4.shape[1], prediction_chunk4.shape[2]))"
   ]
  },
  {
   "cell_type": "code",
   "execution_count": 71,
   "id": "fifth-haven",
   "metadata": {},
   "outputs": [
    {
     "data": {
      "text/plain": [
       "(320, 320, 96)"
      ]
     },
     "execution_count": 71,
     "metadata": {},
     "output_type": "execute_result"
    }
   ],
   "source": [
    "prediction_chunk4.shape"
   ]
  },
  {
   "cell_type": "code",
   "execution_count": 72,
   "id": "adopted-bride",
   "metadata": {},
   "outputs": [
    {
     "data": {
      "text/plain": [
       "array([0, 1, 2])"
      ]
     },
     "execution_count": 72,
     "metadata": {},
     "output_type": "execute_result"
    }
   ],
   "source": [
    "np.unique(prediction_chunk4)"
   ]
  },
  {
   "cell_type": "markdown",
   "id": "structured-living",
   "metadata": {},
   "source": [
    "#### Model prediction vs groundtruth number of labels"
   ]
  },
  {
   "cell_type": "code",
   "execution_count": 73,
   "id": "employed-publication",
   "metadata": {},
   "outputs": [
    {
     "name": "stdout",
     "output_type": "stream",
     "text": [
      "Background - class 0\n",
      "9651229\n",
      "--------\n",
      "Left Atrium - class 1\n",
      "178389\n",
      "--------\n",
      "Cancer - class 2\n",
      "782\n"
     ]
    }
   ],
   "source": [
    "# Number of labels per class in model prediction\n",
    "print(\"Background - class 0\")\n",
    "print(len(prediction_chunk4[prediction_chunk4 == 0])) \n",
    "print(\"--------\")\n",
    "print(\"Left Atrium - class 1\")\n",
    "print(len(prediction_chunk4[prediction_chunk4 == 1]))\n",
    "print(\"--------\")\n",
    "print(\"Cancer - class 2\")\n",
    "print(len(prediction_chunk4[prediction_chunk4 == 2]))"
   ]
  },
  {
   "cell_type": "code",
   "execution_count": 74,
   "id": "protecting-stationery",
   "metadata": {},
   "outputs": [
    {
     "name": "stdout",
     "output_type": "stream",
     "text": [
      "Background - class 0\n",
      "9622030\n",
      "--------\n",
      "Liver - class 1\n",
      "208073\n",
      "--------\n",
      "Cancer - class 2\n",
      "297\n"
     ]
    }
   ],
   "source": [
    "# Number of labels per class in ground truth mask\n",
    "print(\"Background - class 0\")\n",
    "print(len(mask_chunk4[mask_chunk4 == 0])) \n",
    "print(\"--------\")\n",
    "print(\"Liver - class 1\")\n",
    "print(len(mask_chunk4[mask_chunk4 == 1]))\n",
    "print(\"--------\")\n",
    "print(\"Cancer - class 2\")\n",
    "print(len(mask_chunk4[mask_chunk4 == 2]))"
   ]
  },
  {
   "cell_type": "code",
   "execution_count": 75,
   "id": "behind-baker",
   "metadata": {
    "scrolled": false
   },
   "outputs": [
    {
     "data": {
      "application/vnd.jupyter.widget-view+json": {
       "model_id": "c8af7d46b1714eeca09e5205ea38d71d",
       "version_major": 2,
       "version_minor": 0
      },
      "text/plain": [
       "interactive(children=(ToggleButtons(button_style='info', description='Select Class:', options=('Background', '…"
      ]
     },
     "metadata": {},
     "output_type": "display_data"
    }
   ],
   "source": [
    "classes_dict = {\n",
    "    'Background': 0,\n",
    "    'Liver': 1,\n",
    "    'Cancer': 2\n",
    "}\n",
    "\n",
    "# Create button values\n",
    "select_class = ToggleButtons(\n",
    "    options=['Background', 'Liver', 'Cancer', 'All'],\n",
    "    description='Select Class:',\n",
    "    disabled=False,\n",
    "    button_style='info', \n",
    "    \n",
    ")\n",
    "# Create layer slider\n",
    "select_layer = IntSlider(min=0, max=mri_chunk4.shape[2] - 1, description='Select Layer', continuous_update=False)\n",
    "\n",
    "    \n",
    "# Define a function for plotting images\n",
    "def plot(seg_class, layer):\n",
    "    print(f\"Plotting Layer: {layer} | Label: {seg_class}\")\n",
    "    fig = plt.figure(figsize=(20, 10))\n",
    "    \n",
    "    fig.add_subplot(1, 3, 1)\n",
    "    plt.title(\"Liver_118\", fontsize=20)\n",
    "    plt.imshow(mri_chunk4[:, :, layer], cmap='gray');\n",
    "    plt.axis('off')\n",
    "    \n",
    "    fig.add_subplot(1, 3, 2)\n",
    "    if seg_class == \"All\":\n",
    "        mask_groundtruth = mask_chunk4[:, :, layer]\n",
    "        plt.title(\"Groundtruth mask\", fontsize=20)\n",
    "        plt.imshow(mask_groundtruth)\n",
    "        plt.axis('off');\n",
    "    else:\n",
    "        img_label = classes_dict[seg_class]\n",
    "        mask_groundtruth = np.where(mask_chunk4[:, :, layer] == img_label, 255, 0)\n",
    "        plt.title(\"Groundtruth mask\", fontsize=20)\n",
    "        plt.imshow(mask_groundtruth, cmap='gray')\n",
    "        plt.axis('off');\n",
    "    \n",
    "    fig.add_subplot(1, 3, 3)\n",
    "    if seg_class == \"All\":\n",
    "        mask_model_prediction = prediction_chunk4[:, :, layer]\n",
    "        plt.title(\"Model prediction mask\", fontsize=20)\n",
    "        plt.imshow(mask_model_prediction)\n",
    "        plt.axis('off');\n",
    "    else:\n",
    "        img_label = classes_dict[seg_class]\n",
    "        mask_model_prediction = np.where(prediction_chunk4[:, :, layer] == img_label, 255, 0)\n",
    "        plt.title(\"Model prediction mask\", fontsize=20)\n",
    "        plt.imshow(mask_model_prediction, cmap='gray')\n",
    "        plt.axis('off');\n",
    "\n",
    "    \n",
    "# Use the interactive() tool to create the visualization\n",
    "interactive(plot, seg_class=select_class, layer=select_layer)"
   ]
  },
  {
   "cell_type": "markdown",
   "id": "stupid-asbestos",
   "metadata": {},
   "source": [
    "### 1.1.5 Chunk 5"
   ]
  },
  {
   "cell_type": "code",
   "execution_count": 76,
   "id": "packed-burke",
   "metadata": {},
   "outputs": [],
   "source": [
    "mri_chunk5 = nib.load(\"../datasets/Task03_Liver_320x320x96/val/images/liver_118_4.nii.gz\").get_fdata().astype(np.float32)"
   ]
  },
  {
   "cell_type": "code",
   "execution_count": 77,
   "id": "mighty-conditions",
   "metadata": {},
   "outputs": [],
   "source": [
    "mask_chunk5 = nib.load(\"../datasets/Task03_Liver_320x320x96/val/masks/liver_118_4.nii.gz\").get_fdata().astype(np.uint8)"
   ]
  },
  {
   "cell_type": "code",
   "execution_count": 78,
   "id": "sharp-rolling",
   "metadata": {},
   "outputs": [
    {
     "data": {
      "text/plain": [
       "(320, 320, 96)"
      ]
     },
     "execution_count": 78,
     "metadata": {},
     "output_type": "execute_result"
    }
   ],
   "source": [
    "mask_chunk5.shape"
   ]
  },
  {
   "cell_type": "code",
   "execution_count": 79,
   "id": "musical-discussion",
   "metadata": {},
   "outputs": [],
   "source": [
    "mri_standardized_chunk5 = standardize(mri_chunk5.reshape((mri_chunk5.shape[0], mri_chunk5.shape[1], mri_chunk5.shape[2], 1)))"
   ]
  },
  {
   "cell_type": "code",
   "execution_count": 80,
   "id": "bronze-flooring",
   "metadata": {},
   "outputs": [],
   "source": [
    "mri_standardized_chunk5 = np.expand_dims(mri_standardized_chunk5, axis=0)  # Keras models require an additional dimension of 'batch_size'"
   ]
  },
  {
   "cell_type": "code",
   "execution_count": 81,
   "id": "promotional-grave",
   "metadata": {},
   "outputs": [],
   "source": [
    "prediction_chunk5 = model.predict(mri_standardized_chunk5)"
   ]
  },
  {
   "cell_type": "code",
   "execution_count": 82,
   "id": "offensive-marijuana",
   "metadata": {},
   "outputs": [],
   "source": [
    "prediction_chunk5 = np.squeeze(prediction_chunk5, axis=0)  # Remove 'batch_size' dimension"
   ]
  },
  {
   "cell_type": "code",
   "execution_count": 83,
   "id": "given-drive",
   "metadata": {},
   "outputs": [
    {
     "data": {
      "text/plain": [
       "(320, 320, 96, 3)"
      ]
     },
     "execution_count": 83,
     "metadata": {},
     "output_type": "execute_result"
    }
   ],
   "source": [
    "prediction_chunk5.shape"
   ]
  },
  {
   "cell_type": "code",
   "execution_count": 84,
   "id": "fossil-cisco",
   "metadata": {},
   "outputs": [
    {
     "data": {
      "text/plain": [
       "array([[[[9.9155468e-01, 1.0185825e-03, 7.4267974e-03],\n",
       "         [9.9170083e-01, 9.6211693e-04, 7.3370324e-03],\n",
       "         [9.9133754e-01, 1.1052605e-03, 7.5572059e-03],\n",
       "         ...,\n",
       "         [9.8979098e-01, 1.8128697e-03, 8.3962660e-03],\n",
       "         [9.9071807e-01, 1.3705229e-03, 7.9114633e-03],\n",
       "         [9.9073845e-01, 1.3613931e-03, 7.9002185e-03]],\n",
       "\n",
       "        [[9.9160117e-01, 1.0004540e-03, 7.3984163e-03],\n",
       "         [9.9274868e-01, 6.0529297e-04, 6.6459822e-03],\n",
       "         [9.9203098e-01, 8.4048527e-04, 7.1285185e-03],\n",
       "         ...,\n",
       "         [9.9188274e-01, 8.9409249e-04, 7.2231772e-03],\n",
       "         [9.9205106e-01, 8.3337619e-04, 7.1156113e-03],\n",
       "         [9.9195671e-01, 8.6711097e-04, 7.1761124e-03]],\n",
       "\n",
       "        [[9.9158722e-01, 1.0058417e-03, 7.4068932e-03],\n",
       "         [9.9249023e-01, 6.8524608e-04, 6.8244603e-03],\n",
       "         [9.9186534e-01, 9.0048270e-04, 7.2341608e-03],\n",
       "         ...,\n",
       "         [9.8885053e-01, 2.3100947e-03, 8.8393353e-03],\n",
       "         [9.9096620e-01, 1.2611294e-03, 7.7725952e-03],\n",
       "         [9.9010706e-01, 1.6562799e-03, 8.2366429e-03]],\n",
       "\n",
       "        ...,\n",
       "\n",
       "        [[9.9111772e-01, 1.1964359e-03, 7.6859123e-03],\n",
       "         [9.9209952e-01, 8.1629975e-04, 7.0842463e-03],\n",
       "         [9.9123037e-01, 1.1493133e-03, 7.6204021e-03],\n",
       "         ...,\n",
       "         [9.8837996e-01, 2.5750231e-03, 9.0449546e-03],\n",
       "         [9.9025005e-01, 1.5873762e-03, 8.1625730e-03],\n",
       "         [9.9018550e-01, 1.6183675e-03, 8.1961975e-03]],\n",
       "\n",
       "        [[9.9193406e-01, 8.7533402e-04, 7.1905809e-03],\n",
       "         [9.9339116e-01, 4.3033116e-04, 6.1785732e-03],\n",
       "         [9.9282324e-01, 5.8322190e-04, 6.5934504e-03],\n",
       "         ...,\n",
       "         [9.9081004e-01, 1.3294796e-03, 7.8604314e-03],\n",
       "         [9.9197406e-01, 8.6084841e-04, 7.1650231e-03],\n",
       "         [9.9101567e-01, 1.2398587e-03, 7.7444920e-03]],\n",
       "\n",
       "        [[9.8916709e-01, 2.1376943e-03, 8.6951749e-03],\n",
       "         [9.9118620e-01, 1.1676626e-03, 7.6461630e-03],\n",
       "         [9.9049604e-01, 1.4716989e-03, 8.0322772e-03],\n",
       "         ...,\n",
       "         [9.8931468e-01, 2.0590466e-03, 8.6263102e-03],\n",
       "         [9.9026310e-01, 1.5811647e-03, 8.1557753e-03],\n",
       "         [9.9047321e-01, 1.4822735e-03, 8.0445223e-03]]],\n",
       "\n",
       "\n",
       "       [[[9.8977882e-01, 1.8189223e-03, 8.4022107e-03],\n",
       "         [9.9178654e-01, 9.2975510e-04, 7.2836899e-03],\n",
       "         [9.9108642e-01, 1.2096504e-03, 7.7039166e-03],\n",
       "         ...,\n",
       "         [9.8854405e-01, 2.4814964e-03, 8.9743827e-03],\n",
       "         [9.9062133e-01, 1.4142175e-03, 7.9644825e-03],\n",
       "         [9.9104530e-01, 1.2271516e-03, 7.7275229e-03]],\n",
       "\n",
       "        [[9.9113816e-01, 1.1878156e-03, 7.6740850e-03],\n",
       "         [9.9416852e-01, 2.6442803e-04, 5.5671274e-03],\n",
       "         [9.9250233e-01, 6.8142777e-04, 6.8163224e-03],\n",
       "         ...,\n",
       "         [9.9185795e-01, 9.0321183e-04, 7.2388304e-03],\n",
       "         [9.9335045e-01, 4.4038039e-04, 6.2091504e-03],\n",
       "         [9.9334818e-01, 4.4093491e-04, 6.2108217e-03]],\n",
       "\n",
       "        [[9.9161524e-01, 9.9500129e-04, 7.3898016e-03],\n",
       "         [9.9348760e-01, 4.0701142e-04, 6.1053871e-03],\n",
       "         [9.9311632e-01, 5.0096883e-04, 6.3826637e-03],\n",
       "         ...,\n",
       "         [9.9024755e-01, 1.5885348e-03, 8.1638461e-03],\n",
       "         [9.9271905e-01, 6.1420648e-04, 6.6667739e-03],\n",
       "         [9.9192166e-01, 8.7986345e-04, 7.1985009e-03]],\n",
       "\n",
       "        ...,\n",
       "\n",
       "        [[9.9103618e-01, 1.2310569e-03, 7.7327518e-03],\n",
       "         [9.9349558e-01, 4.0510864e-04, 6.0992702e-03],\n",
       "         [9.9200541e-01, 8.4961770e-04, 7.1449764e-03],\n",
       "         ...,\n",
       "         [9.9270272e-01, 6.1913586e-04, 6.6781691e-03],\n",
       "         [9.9341416e-01, 4.2470091e-04, 6.1611934e-03],\n",
       "         [9.9259865e-01, 6.5109087e-04, 6.7503457e-03]],\n",
       "\n",
       "        [[9.9267262e-01, 6.2826666e-04, 6.6990829e-03],\n",
       "         [9.9399829e-01, 2.9650636e-04, 5.7052705e-03],\n",
       "         [9.9308503e-01, 5.0944113e-04, 6.4055887e-03],\n",
       "         ...,\n",
       "         [9.9376523e-01, 3.4424910e-04, 5.8905063e-03],\n",
       "         [9.9465704e-01, 1.8512856e-04, 5.1578800e-03],\n",
       "         [9.9308962e-01, 5.0819298e-04, 6.4022257e-03]],\n",
       "\n",
       "        [[9.8821718e-01, 2.6690171e-03, 9.1138510e-03],\n",
       "         [9.9081504e-01, 1.3272770e-03, 7.8576570e-03],\n",
       "         [9.9001104e-01, 1.7032268e-03, 8.2857152e-03],\n",
       "         ...,\n",
       "         [9.9240303e-01, 7.1343989e-04, 6.8834703e-03],\n",
       "         [9.9181515e-01, 9.1906963e-04, 7.2657536e-03],\n",
       "         [9.9104816e-01, 1.2259742e-03, 7.7259415e-03]]],\n",
       "\n",
       "\n",
       "       [[[9.9064529e-01, 1.4033228e-03, 7.9513863e-03],\n",
       "         [9.9235016e-01, 7.3082984e-04, 6.9189556e-03],\n",
       "         [9.9234951e-01, 7.3109032e-04, 6.9194818e-03],\n",
       "         ...,\n",
       "         [9.8735100e-01, 3.1869658e-03, 9.4619952e-03],\n",
       "         [9.9016798e-01, 1.6267411e-03, 8.2051959e-03],\n",
       "         [9.9015170e-01, 1.6346363e-03, 8.2136458e-03]],\n",
       "\n",
       "        [[9.9162817e-01, 9.8996458e-04, 7.3818080e-03],\n",
       "         [9.9411017e-01, 2.7514409e-04, 5.6146765e-03],\n",
       "         [9.9399465e-01, 2.9721926e-04, 5.7082050e-03],\n",
       "         ...,\n",
       "         [9.9111408e-01, 1.1979591e-03, 7.6879952e-03],\n",
       "         [9.9275923e-01, 6.0217414e-04, 6.6386545e-03],\n",
       "         [9.9235338e-01, 7.2977279e-04, 6.9168168e-03]],\n",
       "\n",
       "        [[9.9180788e-01, 9.2178537e-04, 7.2703273e-03],\n",
       "         [9.9391466e-01, 3.1309959e-04, 5.7721524e-03],\n",
       "         [9.9369287e-01, 3.6001112e-04, 5.9472076e-03],\n",
       "         ...,\n",
       "         [9.8873967e-01, 2.3716434e-03, 8.8887252e-03],\n",
       "         [9.9143642e-01, 1.0653782e-03, 7.4982494e-03],\n",
       "         [9.9058050e-01, 1.4328335e-03, 7.9866722e-03]],\n",
       "\n",
       "        ...,\n",
       "\n",
       "        [[9.9161583e-01, 9.9472387e-04, 7.3893587e-03],\n",
       "         [9.9302989e-01, 5.2450481e-04, 6.4456095e-03],\n",
       "         [9.9251503e-01, 6.7738490e-04, 6.8076649e-03],\n",
       "         ...,\n",
       "         [9.9148273e-01, 1.0469033e-03, 7.4703414e-03],\n",
       "         [9.9305093e-01, 5.1870133e-04, 6.4303009e-03],\n",
       "         [9.9163061e-01, 9.8903233e-04, 7.3803267e-03]],\n",
       "\n",
       "        [[9.9207765e-01, 8.2394417e-04, 7.0983465e-03],\n",
       "         [9.9408877e-01, 2.7913906e-04, 5.6320298e-03],\n",
       "         [9.9212015e-01, 8.0907438e-04, 7.0708171e-03],\n",
       "         ...,\n",
       "         [9.9402517e-01, 2.9128246e-04, 5.6836042e-03],\n",
       "         [9.9421024e-01, 2.5689907e-04, 5.5328058e-03],\n",
       "         [9.9257541e-01, 6.5830181e-04, 6.7662429e-03]],\n",
       "\n",
       "        [[9.8836398e-01, 2.5841894e-03, 9.0517635e-03],\n",
       "         [9.9105012e-01, 1.2251047e-03, 7.7247745e-03],\n",
       "         [9.9014705e-01, 1.6368843e-03, 8.2160477e-03],\n",
       "         ...,\n",
       "         [9.9253780e-01, 6.7010580e-04, 6.7919721e-03],\n",
       "         [9.9235886e-01, 7.2795426e-04, 6.9131353e-03],\n",
       "         [9.9114043e-01, 1.1868099e-03, 7.6726978e-03]]],\n",
       "\n",
       "\n",
       "       ...,\n",
       "\n",
       "\n",
       "       [[[9.9065965e-01, 1.3968161e-03, 7.9435240e-03],\n",
       "         [9.9281043e-01, 5.8698730e-04, 6.6025206e-03],\n",
       "         [9.9314535e-01, 4.9322302e-04, 6.3614380e-03],\n",
       "         ...,\n",
       "         [9.8735100e-01, 3.1869658e-03, 9.4619952e-03],\n",
       "         [9.8986942e-01, 1.7734716e-03, 8.3571672e-03],\n",
       "         [9.9039477e-01, 1.5188542e-03, 8.0863424e-03]],\n",
       "\n",
       "        [[9.9170470e-01, 9.6062262e-04, 7.3345983e-03],\n",
       "         [9.9442118e-01, 2.2107584e-04, 5.3577069e-03],\n",
       "         [9.9403012e-01, 2.9031243e-04, 5.6795496e-03],\n",
       "         ...,\n",
       "         [9.9173427e-01, 9.4945024e-04, 7.3163286e-03],\n",
       "         [9.9282408e-01, 5.8297830e-04, 6.5928590e-03],\n",
       "         [9.9265701e-01, 6.3304114e-04, 6.7099310e-03]],\n",
       "\n",
       "        [[9.9104553e-01, 1.2270658e-03, 7.7274102e-03],\n",
       "         [9.9409372e-01, 2.7822008e-04, 5.6280554e-03],\n",
       "         [9.9402481e-01, 2.9133735e-04, 5.6838351e-03],\n",
       "         ...,\n",
       "         [9.8969460e-01, 1.8616454e-03, 8.4437411e-03],\n",
       "         [9.9301344e-01, 5.2907731e-04, 6.4575798e-03],\n",
       "         [9.9176991e-01, 9.3600125e-04, 7.2940951e-03]],\n",
       "\n",
       "        ...,\n",
       "\n",
       "        [[9.9032581e-01, 1.5513654e-03, 8.1228465e-03],\n",
       "         [9.9246699e-01, 6.9269794e-04, 6.8402383e-03],\n",
       "         [9.9170166e-01, 9.6180668e-04, 7.3365280e-03],\n",
       "         ...,\n",
       "         [9.9255717e-01, 6.6405983e-04, 6.7788423e-03],\n",
       "         [9.9322444e-01, 4.7240485e-04, 6.3030524e-03],\n",
       "         [9.9240464e-01, 7.1295549e-04, 6.8824743e-03]],\n",
       "\n",
       "        [[9.9031013e-01, 1.5587886e-03, 8.1310961e-03],\n",
       "         [9.9269682e-01, 6.2090898e-04, 6.6822516e-03],\n",
       "         [9.9137056e-01, 1.0918687e-03, 7.5375987e-03],\n",
       "         ...,\n",
       "         [9.9393904e-01, 3.0820683e-04, 5.7527297e-03],\n",
       "         [9.9471289e-01, 1.7721871e-04, 5.1098526e-03],\n",
       "         [9.9245715e-01, 6.9588318e-04, 6.8469443e-03]],\n",
       "\n",
       "        [[9.8735100e-01, 3.1869658e-03, 9.4619952e-03],\n",
       "         [9.8937362e-01, 2.0278750e-03, 8.5984329e-03],\n",
       "         [9.8809052e-01, 2.7428311e-03, 9.1665974e-03],\n",
       "         ...,\n",
       "         [9.9303669e-01, 5.2262348e-04, 6.4406609e-03],\n",
       "         [9.9226600e-01, 7.5898820e-04, 6.9750240e-03],\n",
       "         [9.9122494e-01, 1.1515139e-03, 7.6235076e-03]]],\n",
       "\n",
       "\n",
       "       [[[9.8992258e-01, 1.7469354e-03, 8.3304448e-03],\n",
       "         [9.9203861e-01, 8.3780405e-04, 7.1236640e-03],\n",
       "         [9.9187487e-01, 8.9697202e-04, 7.2281337e-03],\n",
       "         ...,\n",
       "         [9.8834234e-01, 2.5966677e-03, 9.0609966e-03],\n",
       "         [9.9034834e-01, 1.5407095e-03, 8.1109479e-03],\n",
       "         [9.9053532e-01, 1.4535757e-03, 8.0111334e-03]],\n",
       "\n",
       "        [[9.9186432e-01, 9.0084504e-04, 7.2347769e-03],\n",
       "         [9.9271351e-01, 6.1587122e-04, 6.6706287e-03],\n",
       "         [9.9303997e-01, 5.2175374e-04, 6.4383699e-03],\n",
       "         ...,\n",
       "         [9.9138194e-01, 1.0872361e-03, 7.5307731e-03],\n",
       "         [9.9293888e-01, 5.4991507e-04, 6.5111159e-03],\n",
       "         [9.9269229e-01, 6.2228320e-04, 6.6854041e-03]],\n",
       "\n",
       "        [[9.9116278e-01, 1.1774608e-03, 7.6597836e-03],\n",
       "         [9.9316543e-01, 4.8787877e-04, 6.3466392e-03],\n",
       "         [9.9272341e-01, 6.1287865e-04, 6.6636913e-03],\n",
       "         ...,\n",
       "         [9.9125975e-01, 1.1371553e-03, 7.6031587e-03],\n",
       "         [9.9274993e-01, 6.0492242e-04, 6.6451132e-03],\n",
       "         [9.9194795e-01, 8.7034423e-04, 7.1818135e-03]],\n",
       "\n",
       "        ...,\n",
       "\n",
       "        [[9.9094993e-01, 1.2682099e-03, 7.7818683e-03],\n",
       "         [9.9222773e-01, 7.7195617e-04, 7.0002945e-03],\n",
       "         [9.9184668e-01, 9.0738101e-04, 7.2459448e-03],\n",
       "         ...,\n",
       "         [9.9260110e-01, 6.5028638e-04, 6.7485604e-03],\n",
       "         [9.9349397e-01, 4.0549878e-04, 6.1005256e-03],\n",
       "         [9.9216777e-01, 7.9250761e-04, 7.0396634e-03]],\n",
       "\n",
       "        [[9.9162370e-01, 9.9172432e-04, 7.3846015e-03],\n",
       "         [9.9269706e-01, 6.2085473e-04, 6.6821254e-03],\n",
       "         [9.9039501e-01, 1.5187610e-03, 8.0862362e-03],\n",
       "         ...,\n",
       "         [9.9435198e-01, 2.3245435e-04, 5.4156021e-03],\n",
       "         [9.9430710e-01, 2.4001506e-04, 5.4528518e-03],\n",
       "         [9.9213576e-01, 8.0361415e-04, 7.0606051e-03]],\n",
       "\n",
       "        [[9.8841172e-01, 2.5568590e-03, 9.0314150e-03],\n",
       "         [9.9118477e-01, 1.1682435e-03, 7.6469723e-03],\n",
       "         [9.9032319e-01, 1.5525898e-03, 8.1242127e-03],\n",
       "         ...,\n",
       "         [9.9261218e-01, 6.4687646e-04, 6.7409868e-03],\n",
       "         [9.9252993e-01, 6.7261216e-04, 6.7973938e-03],\n",
       "         [9.9083430e-01, 1.3188067e-03, 7.8469543e-03]]],\n",
       "\n",
       "\n",
       "       [[[9.8999524e-01, 1.7109604e-03, 8.2936911e-03],\n",
       "         [9.9128753e-01, 1.1257272e-03, 7.5868135e-03],\n",
       "         [9.9110353e-01, 1.2024399e-03, 7.6941159e-03],\n",
       "         ...,\n",
       "         [9.8748428e-01, 3.1054174e-03, 9.4103459e-03],\n",
       "         [9.9006480e-01, 1.6769423e-03, 8.2583725e-03],\n",
       "         [9.8840672e-01, 2.5597310e-03, 9.0335617e-03]],\n",
       "\n",
       "        [[9.9081224e-01, 1.3284902e-03, 7.8591853e-03],\n",
       "         [9.9332762e-01, 4.4609691e-04, 6.2262984e-03],\n",
       "         [9.9308962e-01, 5.0817116e-04, 6.4021708e-03],\n",
       "         ...,\n",
       "         [9.9266547e-01, 6.3045259e-04, 6.7040585e-03],\n",
       "         [9.9304342e-01, 5.2080152e-04, 6.4358567e-03],\n",
       "         [9.9150366e-01, 1.0386267e-03, 7.4577108e-03]],\n",
       "\n",
       "        [[9.9102861e-01, 1.2343073e-03, 7.7370959e-03],\n",
       "         [9.9347347e-01, 4.1038444e-04, 6.1161746e-03],\n",
       "         [9.9348938e-01, 4.0660150e-04, 6.1040735e-03],\n",
       "         ...,\n",
       "         [9.9187136e-01, 8.9827221e-04, 7.2303689e-03],\n",
       "         [9.9327254e-01, 4.6003147e-04, 6.2673865e-03],\n",
       "         [9.9091130e-01, 1.2850160e-03, 7.8037153e-03]],\n",
       "\n",
       "        ...,\n",
       "\n",
       "        [[9.8984879e-01, 1.7837686e-03, 8.3674509e-03],\n",
       "         [9.9224311e-01, 7.6674711e-04, 6.9901855e-03],\n",
       "         [9.9227881e-01, 7.5465010e-04, 6.9664917e-03],\n",
       "         ...,\n",
       "         [9.9308276e-01, 5.1004521e-04, 6.4072087e-03],\n",
       "         [9.9340349e-01, 4.2729476e-04, 6.1692232e-03],\n",
       "         [9.9138016e-01, 1.0879326e-03, 7.5318008e-03]],\n",
       "\n",
       "        [[9.9066788e-01, 1.3930881e-03, 7.9390109e-03],\n",
       "         [9.9189514e-01, 8.8953989e-04, 7.2153164e-03],\n",
       "         [9.9197829e-01, 8.5937395e-04, 7.1624019e-03],\n",
       "         ...,\n",
       "         [9.9341798e-01, 4.2378085e-04, 6.1583417e-03],\n",
       "         [9.9384141e-01, 3.2814767e-04, 5.8304355e-03],\n",
       "         [9.9129218e-01, 1.1237697e-03, 7.5839958e-03]],\n",
       "\n",
       "        [[9.9022245e-01, 1.6005859e-03, 8.1769694e-03],\n",
       "         [9.9187171e-01, 8.9817704e-04, 7.2302059e-03],\n",
       "         [9.9050748e-01, 1.4663648e-03, 8.0260755e-03],\n",
       "         ...,\n",
       "         [9.9290437e-01, 5.5979646e-04, 6.5359450e-03],\n",
       "         [9.9257237e-01, 6.5927894e-04, 6.7683868e-03],\n",
       "         [9.9027961e-01, 1.5733100e-03, 8.1471466e-03]]]], dtype=float32)"
      ]
     },
     "execution_count": 84,
     "metadata": {},
     "output_type": "execute_result"
    }
   ],
   "source": [
    "prediction_chunk5"
   ]
  },
  {
   "cell_type": "code",
   "execution_count": 85,
   "id": "instructional-congo",
   "metadata": {},
   "outputs": [
    {
     "data": {
      "text/plain": [
       "numpy.ndarray"
      ]
     },
     "execution_count": 85,
     "metadata": {},
     "output_type": "execute_result"
    }
   ],
   "source": [
    "type(prediction_chunk5)"
   ]
  },
  {
   "cell_type": "code",
   "execution_count": 86,
   "id": "lesser-sunglasses",
   "metadata": {},
   "outputs": [],
   "source": [
    "prediction_chunk5 = np.argmax(prediction_chunk5, axis=3)  # Apply Softmax"
   ]
  },
  {
   "cell_type": "code",
   "execution_count": 87,
   "id": "aware-settle",
   "metadata": {},
   "outputs": [
    {
     "data": {
      "text/plain": [
       "(320, 320, 96)"
      ]
     },
     "execution_count": 87,
     "metadata": {},
     "output_type": "execute_result"
    }
   ],
   "source": [
    "prediction_chunk5.shape"
   ]
  },
  {
   "cell_type": "code",
   "execution_count": 88,
   "id": "exotic-gardening",
   "metadata": {},
   "outputs": [],
   "source": [
    "prediction_chunk5 = prediction_chunk5.reshape((prediction_chunk5.shape[0], prediction_chunk5.shape[1], prediction_chunk5.shape[2]))"
   ]
  },
  {
   "cell_type": "code",
   "execution_count": 89,
   "id": "serial-newspaper",
   "metadata": {},
   "outputs": [
    {
     "data": {
      "text/plain": [
       "(320, 320, 96)"
      ]
     },
     "execution_count": 89,
     "metadata": {},
     "output_type": "execute_result"
    }
   ],
   "source": [
    "prediction_chunk5.shape"
   ]
  },
  {
   "cell_type": "code",
   "execution_count": 90,
   "id": "natural-escape",
   "metadata": {},
   "outputs": [
    {
     "data": {
      "text/plain": [
       "array([0, 1, 2])"
      ]
     },
     "execution_count": 90,
     "metadata": {},
     "output_type": "execute_result"
    }
   ],
   "source": [
    "np.unique(prediction_chunk5)"
   ]
  },
  {
   "cell_type": "markdown",
   "id": "noble-pottery",
   "metadata": {},
   "source": [
    "#### Model prediction vs groundtruth number of labels"
   ]
  },
  {
   "cell_type": "code",
   "execution_count": 91,
   "id": "according-density",
   "metadata": {},
   "outputs": [
    {
     "name": "stdout",
     "output_type": "stream",
     "text": [
      "Background - class 0\n",
      "9794398\n",
      "--------\n",
      "Left Atrium - class 1\n",
      "25053\n",
      "--------\n",
      "Cancer - class 2\n",
      "10949\n"
     ]
    }
   ],
   "source": [
    "# Number of labels per class in model prediction\n",
    "print(\"Background - class 0\")\n",
    "print(len(prediction_chunk5[prediction_chunk5 == 0])) \n",
    "print(\"--------\")\n",
    "print(\"Left Atrium - class 1\")\n",
    "print(len(prediction_chunk5[prediction_chunk5 == 1]))\n",
    "print(\"--------\")\n",
    "print(\"Cancer - class 2\")\n",
    "print(len(prediction_chunk5[prediction_chunk5 == 2]))"
   ]
  },
  {
   "cell_type": "code",
   "execution_count": 92,
   "id": "billion-group",
   "metadata": {},
   "outputs": [
    {
     "name": "stdout",
     "output_type": "stream",
     "text": [
      "Background - class 0\n",
      "9830400\n",
      "--------\n",
      "Liver - class 1\n",
      "0\n",
      "--------\n",
      "Cancer - class 2\n",
      "0\n"
     ]
    }
   ],
   "source": [
    "# Number of labels per class in ground truth mask\n",
    "print(\"Background - class 0\")\n",
    "print(len(mask_chunk5[mask_chunk5 == 0])) \n",
    "print(\"--------\")\n",
    "print(\"Liver - class 1\")\n",
    "print(len(mask_chunk5[mask_chunk5 == 1]))\n",
    "print(\"--------\")\n",
    "print(\"Cancer - class 2\")\n",
    "print(len(mask_chunk5[mask_chunk5 == 2]))"
   ]
  },
  {
   "cell_type": "code",
   "execution_count": 93,
   "id": "distributed-inspector",
   "metadata": {
    "scrolled": false
   },
   "outputs": [
    {
     "data": {
      "application/vnd.jupyter.widget-view+json": {
       "model_id": "58e7f2743b644176b8c3484f8c95336f",
       "version_major": 2,
       "version_minor": 0
      },
      "text/plain": [
       "interactive(children=(ToggleButtons(button_style='info', description='Select Class:', options=('Background', '…"
      ]
     },
     "metadata": {},
     "output_type": "display_data"
    }
   ],
   "source": [
    "classes_dict = {\n",
    "    'Background': 0,\n",
    "    'Liver': 1,\n",
    "    'Cancer': 2\n",
    "}\n",
    "\n",
    "# Create button values\n",
    "select_class = ToggleButtons(\n",
    "    options=['Background', 'Liver', 'Cancer', 'All'],\n",
    "    description='Select Class:',\n",
    "    disabled=False,\n",
    "    button_style='info', \n",
    "    \n",
    ")\n",
    "# Create layer slider\n",
    "select_layer = IntSlider(min=0, max=mri_chunk5.shape[2] - 1, description='Select Layer', continuous_update=False)\n",
    "\n",
    "    \n",
    "# Define a function for plotting images\n",
    "def plot(seg_class, layer):\n",
    "    print(f\"Plotting Layer: {layer} | Label: {seg_class}\")\n",
    "    fig = plt.figure(figsize=(20, 10))\n",
    "    \n",
    "    fig.add_subplot(1, 3, 1)\n",
    "    plt.title(\"Liver_118\", fontsize=20)\n",
    "    plt.imshow(mri_chunk5[:, :, layer], cmap='gray');\n",
    "    plt.axis('off')\n",
    "    \n",
    "    fig.add_subplot(1, 3, 2)\n",
    "    if seg_class == \"All\":\n",
    "        mask_groundtruth = mask_chunk5[:, :, layer]\n",
    "        plt.title(\"Groundtruth mask\", fontsize=20)\n",
    "        plt.imshow(mask_groundtruth)\n",
    "        plt.axis('off');\n",
    "    else:\n",
    "        img_label = classes_dict[seg_class]\n",
    "        mask_groundtruth = np.where(mask_chunk5[:, :, layer] == img_label, 255, 0)\n",
    "        plt.title(\"Groundtruth mask\", fontsize=20)\n",
    "        plt.imshow(mask_groundtruth, cmap='gray')\n",
    "        plt.axis('off');\n",
    "    \n",
    "    fig.add_subplot(1, 3, 3)\n",
    "    if seg_class == \"All\":\n",
    "        mask_model_prediction = prediction_chunk5[:, :, layer]\n",
    "        plt.title(\"Model prediction mask\", fontsize=20)\n",
    "        plt.imshow(mask_model_prediction)\n",
    "        plt.axis('off');\n",
    "    else:\n",
    "        img_label = classes_dict[seg_class]\n",
    "        mask_model_prediction = np.where(prediction_chunk5[:, :, layer] == img_label, 255, 0)\n",
    "        plt.title(\"Model prediction mask\", fontsize=20)\n",
    "        plt.imshow(mask_model_prediction, cmap='gray')\n",
    "        plt.axis('off');\n",
    "\n",
    "    \n",
    "# Use the interactive() tool to create the visualization\n",
    "interactive(plot, seg_class=select_class, layer=select_layer)"
   ]
  },
  {
   "cell_type": "markdown",
   "id": "noticed-runner",
   "metadata": {},
   "source": [
    "### 2. Testing on the medical decathlon test images for Task 3"
   ]
  },
  {
   "cell_type": "code",
   "execution_count": 94,
   "id": "alien-combine",
   "metadata": {},
   "outputs": [],
   "source": [
    "def generate_model_prediction(model, mri):\n",
    "    mri_standardized = standardize(mri)\n",
    "    mri_standardized = np.expand_dims(mri_standardized, axis=0)  # Keras models require an additional dimension of 'batch_size'\n",
    "\n",
    "    prediction = model.predict(mri_standardized)\n",
    "    prediction = np.squeeze(prediction, axis=0)  # Remove 'batch_size' dimension\n",
    "\n",
    "    prediction = np.argmax(prediction, axis=3)  # Apply Softmax\n",
    "    prediction = prediction.reshape(prediction.shape[0], prediction.shape[1], prediction.shape[2])  # Remove extra channel dimension\n",
    "\n",
    "    return prediction"
   ]
  },
  {
   "cell_type": "code",
   "execution_count": 95,
   "id": "minimal-greene",
   "metadata": {},
   "outputs": [],
   "source": [
    "def generate_model_prediction_full_file_chunks(model, mri):\n",
    "    file_layer_size = 96\n",
    "    original_mri_image_height_size = mri.shape[0]\n",
    "    original_mri_image_width_size = mri.shape[1]\n",
    "    original_file_layer_size = mri.shape[2]\n",
    "\n",
    "    num_chunks = int(np.ceil(original_file_layer_size / file_layer_size))\n",
    "    prediction = np.zeros((original_mri_image_height_size, original_mri_image_width_size, original_file_layer_size))\n",
    "    chunks = np.zeros((num_chunks, original_mri_image_height_size, original_mri_image_width_size, file_layer_size, 1))\n",
    "\n",
    "    reshaped_mri = mri.reshape((original_mri_image_height_size, original_mri_image_width_size, original_file_layer_size, 1))\n",
    "\n",
    "    # Split the file into chunks\n",
    "    for i in range(num_chunks):\n",
    "        if i == num_chunks - 1:  # last iteration (padding the last chunk with zeros and using it)\n",
    "            chunks[i, :, :, :original_file_layer_size % file_layer_size, :] = reshaped_mri[:, :, i*file_layer_size: i*file_layer_size + (original_file_layer_size % file_layer_size), :]\n",
    "        else:\n",
    "            chunks[i, :, :, :, :] = reshaped_mri[:, :, i*file_layer_size: (i+1)*file_layer_size, :]\n",
    "\n",
    "    # Generate predictions per chunk\n",
    "    for i in range(num_chunks):\n",
    "        if i == num_chunks - 1:  # Last chunk, only get the remainder of the layers\n",
    "            prediction[:, :, i*file_layer_size:] = generate_model_prediction(model=model, mri=chunks[i, :, :, :])[:, :, :original_file_layer_size - (i*file_layer_size)]  # Returns type np.uint8\n",
    "        else:\n",
    "            prediction[:, :, i*file_layer_size: (i+1)*file_layer_size] = generate_model_prediction(model=model, mri=chunks[i, :, :, :])  # Returns type np.uint8\n",
    "    \n",
    "    return prediction"
   ]
  },
  {
   "cell_type": "markdown",
   "id": "sitting-venice",
   "metadata": {},
   "source": [
    "### 2.1 Visualizing prediction on liver_132"
   ]
  },
  {
   "cell_type": "code",
   "execution_count": 96,
   "id": "entire-white",
   "metadata": {},
   "outputs": [],
   "source": [
    "mri = nib.load(\"../datasets/Task03_Liver/test_images_for_model_prediction_submission/liver_132.nii.gz\").get_fdata().astype(np.float32)"
   ]
  },
  {
   "cell_type": "code",
   "execution_count": 97,
   "id": "capable-mirror",
   "metadata": {},
   "outputs": [
    {
     "data": {
      "text/plain": [
       "(512, 512, 163)"
      ]
     },
     "execution_count": 97,
     "metadata": {},
     "output_type": "execute_result"
    }
   ],
   "source": [
    "mri.shape"
   ]
  },
  {
   "cell_type": "code",
   "execution_count": 98,
   "id": "cordless-factor",
   "metadata": {},
   "outputs": [],
   "source": [
    "transform = A.Compose(\n",
    "    p=1.0,\n",
    "    transforms=[\n",
    "        A.Resize(\n",
    "            height=320,\n",
    "            width=320,\n",
    "            interpolation=1,\n",
    "            p=1\n",
    "        )\n",
    "    ]\n",
    ")\n",
    "\n",
    "transform_original_dimensions = A.Compose(\n",
    "    p=1.0,\n",
    "    transforms=[\n",
    "        A.Resize(\n",
    "            height=mri.shape[0],\n",
    "            width=mri.shape[1],\n",
    "            interpolation=1,\n",
    "            p=1\n",
    "        )\n",
    "    ]\n",
    ")"
   ]
  },
  {
   "cell_type": "code",
   "execution_count": 99,
   "id": "express-soccer",
   "metadata": {},
   "outputs": [],
   "source": [
    "# Case 1: If there are more than one channel, Albumentations.Resize() would only work on each\n",
    "#  channel separately, working on all dimensions at once would cause it to fail\n",
    "if len(mri.shape) >= 4:\n",
    "    temp_mri_channels = np.zeros((image_height_size, image_width_size, original_file_layer_size, mri.shape[3]))\n",
    "    for i in range(int(mri.shape[3])):\n",
    "        transformed = transform(image=mri[:, :, :, i])\n",
    "        temp_mri = transformed[\"image\"]\n",
    "        temp_mri_channels[:, :, :, i] = temp_mri[:, :, :]\n",
    "\n",
    "    mri = temp_mri_channels\n",
    "else:\n",
    "    # Case 2: One channel file, Albumentations.Resize() would work normally\n",
    "    transformed = transform(image=mri)\n",
    "    mri = transformed[\"image\"]"
   ]
  },
  {
   "cell_type": "code",
   "execution_count": 100,
   "id": "prospective-realtor",
   "metadata": {},
   "outputs": [
    {
     "data": {
      "text/plain": [
       "(320, 320, 163)"
      ]
     },
     "execution_count": 100,
     "metadata": {},
     "output_type": "execute_result"
    }
   ],
   "source": [
    "mri.shape"
   ]
  },
  {
   "cell_type": "code",
   "execution_count": 101,
   "id": "objective-bones",
   "metadata": {},
   "outputs": [],
   "source": [
    "prediction = generate_model_prediction_full_file_chunks(model, mri)"
   ]
  },
  {
   "cell_type": "code",
   "execution_count": 102,
   "id": "spoken-medicine",
   "metadata": {},
   "outputs": [
    {
     "data": {
      "text/plain": [
       "(320, 320, 163)"
      ]
     },
     "execution_count": 102,
     "metadata": {},
     "output_type": "execute_result"
    }
   ],
   "source": [
    "prediction.shape"
   ]
  },
  {
   "cell_type": "code",
   "execution_count": 103,
   "id": "sunset-album",
   "metadata": {},
   "outputs": [
    {
     "data": {
      "text/plain": [
       "numpy.ndarray"
      ]
     },
     "execution_count": 103,
     "metadata": {},
     "output_type": "execute_result"
    }
   ],
   "source": [
    "type(prediction)"
   ]
  },
  {
   "cell_type": "code",
   "execution_count": 104,
   "id": "addressed-trial",
   "metadata": {},
   "outputs": [
    {
     "data": {
      "text/plain": [
       "(320, 320, 163)"
      ]
     },
     "execution_count": 104,
     "metadata": {},
     "output_type": "execute_result"
    }
   ],
   "source": [
    "prediction.shape"
   ]
  },
  {
   "cell_type": "code",
   "execution_count": 105,
   "id": "statewide-romance",
   "metadata": {},
   "outputs": [
    {
     "data": {
      "text/plain": [
       "array([0., 1., 2.])"
      ]
     },
     "execution_count": 105,
     "metadata": {},
     "output_type": "execute_result"
    }
   ],
   "source": [
    "np.unique(prediction)"
   ]
  },
  {
   "cell_type": "markdown",
   "id": "compound-script",
   "metadata": {},
   "source": [
    "#### Model prediction number of labels (no available masks)"
   ]
  },
  {
   "cell_type": "code",
   "execution_count": 106,
   "id": "framed-journalist",
   "metadata": {},
   "outputs": [
    {
     "name": "stdout",
     "output_type": "stream",
     "text": [
      "Background - class 0\n",
      "16336922\n",
      "--------\n",
      "Left Atrium - class 1\n",
      "346794\n",
      "--------\n",
      "Cancer - class 2\n",
      "7484\n"
     ]
    }
   ],
   "source": [
    "# Number of labels per class in model prediction\n",
    "print(\"Background - class 0\")\n",
    "print(len(prediction[prediction == 0])) \n",
    "print(\"--------\")\n",
    "print(\"Left Atrium - class 1\")\n",
    "print(len(prediction[prediction == 1]))\n",
    "print(\"--------\")\n",
    "print(\"Cancer - class 2\")\n",
    "print(len(prediction[prediction == 2]))"
   ]
  },
  {
   "cell_type": "code",
   "execution_count": 107,
   "id": "short-southwest",
   "metadata": {
    "scrolled": false
   },
   "outputs": [
    {
     "data": {
      "application/vnd.jupyter.widget-view+json": {
       "model_id": "9fc6805a82b04079b50b361c4a25ead5",
       "version_major": 2,
       "version_minor": 0
      },
      "text/plain": [
       "interactive(children=(ToggleButtons(button_style='info', description='Select Class:', options=('Background', '…"
      ]
     },
     "metadata": {},
     "output_type": "display_data"
    }
   ],
   "source": [
    "classes_dict = {\n",
    "    'Background': 0,\n",
    "    'Liver': 1,\n",
    "    'Cancer': 2\n",
    "}\n",
    "\n",
    "# Create button values\n",
    "select_class = ToggleButtons(\n",
    "    options=['Background', 'Liver', 'Cancer', 'All'],\n",
    "    description='Select Class:',\n",
    "    disabled=False,\n",
    "    button_style='info', \n",
    "    \n",
    ")\n",
    "# Create layer slider\n",
    "select_layer = IntSlider(min=0, max=mri.shape[2] - 1, description='Select Layer', continuous_update=False)\n",
    "\n",
    "    \n",
    "# Define a function for plotting images\n",
    "def plot(seg_class, layer):\n",
    "    print(f\"Plotting Layer: {layer} | Label: {seg_class}\")\n",
    "    fig = plt.figure(figsize=(20, 10))\n",
    "    \n",
    "    fig.add_subplot(1, 2, 1)\n",
    "    plt.title(\"liver_132\", fontsize=20)\n",
    "    plt.imshow(mri[:, :, layer], cmap='gray');\n",
    "    plt.axis('off')\n",
    "    \n",
    "    fig.add_subplot(1, 2, 2)\n",
    "    if seg_class == \"All\":\n",
    "        maskmodel_prediction = prediction[:, :, layer]\n",
    "        plt.title(\"Model prediction mask\", fontsize=20)\n",
    "        plt.imshow(maskmodel_prediction)\n",
    "        plt.axis('off');\n",
    "    else:\n",
    "        img_label = classes_dict[seg_class]\n",
    "        mask_model_prediction = np.where(prediction[:, :, layer] == img_label, 255, 0)\n",
    "        plt.title(\"Model prediction mask\", fontsize=20)\n",
    "        plt.imshow(mask_model_prediction, cmap='gray')\n",
    "        plt.axis('off');\n",
    "\n",
    "    \n",
    "# Use the interactive() tool to create the visualization\n",
    "interactive(plot, seg_class=select_class, layer=select_layer)"
   ]
  },
  {
   "cell_type": "markdown",
   "id": "received-checkout",
   "metadata": {},
   "source": [
    "#### Resizing to original size"
   ]
  },
  {
   "cell_type": "code",
   "execution_count": 108,
   "id": "smaller-investigation",
   "metadata": {},
   "outputs": [],
   "source": [
    "prediction = prediction.astype(np.uint8)\n",
    "\n",
    "# Transforming both image and mask at the same time yields different amount of labels\n",
    "#  than doing them separately\n",
    "transformed_mri = transform_original_dimensions(image=mri)\n",
    "transformed_prediction = transform_original_dimensions(image=prediction)\n",
    "\n",
    "original_size_mri = transformed_mri[\"image\"].astype(np.float32)\n",
    "original_size_prediction = transformed_prediction[\"image\"].astype(np.uint8)"
   ]
  },
  {
   "cell_type": "code",
   "execution_count": 109,
   "id": "incoming-freeware",
   "metadata": {},
   "outputs": [
    {
     "data": {
      "text/plain": [
       "(512, 512, 163)"
      ]
     },
     "execution_count": 109,
     "metadata": {},
     "output_type": "execute_result"
    }
   ],
   "source": [
    "original_size_mri.shape"
   ]
  },
  {
   "cell_type": "code",
   "execution_count": 110,
   "id": "placed-engineer",
   "metadata": {},
   "outputs": [
    {
     "data": {
      "text/plain": [
       "(512, 512, 163)"
      ]
     },
     "execution_count": 110,
     "metadata": {},
     "output_type": "execute_result"
    }
   ],
   "source": [
    "original_size_prediction.shape"
   ]
  },
  {
   "cell_type": "code",
   "execution_count": 111,
   "id": "environmental-solomon",
   "metadata": {},
   "outputs": [
    {
     "name": "stdout",
     "output_type": "stream",
     "text": [
      "Background - class 0\n",
      "41824947\n",
      "--------\n",
      "Left Atrium - class 1\n",
      "888821\n",
      "--------\n",
      "Cancer - class 2\n",
      "15704\n"
     ]
    }
   ],
   "source": [
    "# Number of labels per class in model prediction\n",
    "print(\"Background - class 0\")\n",
    "print(len(original_size_prediction[original_size_prediction == 0])) \n",
    "print(\"--------\")\n",
    "print(\"Left Atrium - class 1\")\n",
    "print(len(original_size_prediction[original_size_prediction == 1]))\n",
    "print(\"--------\")\n",
    "print(\"Cancer - class 2\")\n",
    "print(len(original_size_prediction[original_size_prediction == 2]))"
   ]
  },
  {
   "cell_type": "code",
   "execution_count": 113,
   "id": "traditional-board",
   "metadata": {
    "scrolled": false
   },
   "outputs": [
    {
     "data": {
      "application/vnd.jupyter.widget-view+json": {
       "model_id": "5664ed3aec3040f4b16fef2a8d1274b2",
       "version_major": 2,
       "version_minor": 0
      },
      "text/plain": [
       "interactive(children=(ToggleButtons(button_style='info', description='Select Class:', options=('Background', '…"
      ]
     },
     "metadata": {},
     "output_type": "display_data"
    }
   ],
   "source": [
    "classes_dict = {\n",
    "    'Background': 0,\n",
    "    'Liver': 1,\n",
    "    'Cancer': 2\n",
    "}\n",
    "\n",
    "# Create button values\n",
    "select_class = ToggleButtons(\n",
    "    options=['Background', 'Liver', 'Cancer', 'All'],\n",
    "    description='Select Class:',\n",
    "    disabled=False,\n",
    "    button_style='info', \n",
    "    \n",
    ")\n",
    "# Create layer slider\n",
    "select_layer = IntSlider(min=0, max=original_size_mri.shape[2] - 1, description='Select Layer', continuous_update=False)\n",
    "\n",
    "    \n",
    "# Define a function for plotting images\n",
    "def plot(seg_class, layer):\n",
    "    print(f\"Plotting Layer: {layer} | Label: {seg_class}\")\n",
    "    fig = plt.figure(figsize=(20, 10))\n",
    "    \n",
    "    fig.add_subplot(1, 2, 1)\n",
    "    plt.title(\"liver_132\", fontsize=20)\n",
    "    plt.imshow(original_size_mri[:, :, layer], cmap='gray');\n",
    "    plt.axis('off')\n",
    "    \n",
    "    fig.add_subplot(1, 2, 2)\n",
    "    if seg_class == \"All\":\n",
    "        mask_model_prediction = original_size_prediction[:, :, layer]\n",
    "        plt.title(\"Model prediction mask\", fontsize=20)\n",
    "        plt.imshow(mask_model_prediction)\n",
    "        plt.axis('off');\n",
    "    else:\n",
    "        img_label = classes_dict[seg_class]\n",
    "        mask_model_prediction = np.where(original_size_prediction[:, :, layer] == img_label, 255, 0)\n",
    "        plt.title(\"Model prediction mask\", fontsize=20)\n",
    "        plt.imshow(mask_model_prediction, cmap='gray')\n",
    "        plt.axis('off');\n",
    "\n",
    "    \n",
    "# Use the interactive() tool to create the visualization\n",
    "interactive(plot, seg_class=select_class, layer=select_layer)"
   ]
  },
  {
   "cell_type": "code",
   "execution_count": null,
   "id": "tender-canvas",
   "metadata": {},
   "outputs": [],
   "source": []
  }
 ],
 "metadata": {
  "kernelspec": {
   "display_name": "Python 3",
   "language": "python",
   "name": "python3"
  },
  "language_info": {
   "codemirror_mode": {
    "name": "ipython",
    "version": 3
   },
   "file_extension": ".py",
   "mimetype": "text/x-python",
   "name": "python",
   "nbconvert_exporter": "python",
   "pygments_lexer": "ipython3",
   "version": "3.7.10"
  }
 },
 "nbformat": 4,
 "nbformat_minor": 5
}
