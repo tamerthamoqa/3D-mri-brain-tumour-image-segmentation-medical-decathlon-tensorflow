{
 "cells": [
  {
   "cell_type": "code",
   "execution_count": 1,
   "id": "premier-enzyme",
   "metadata": {},
   "outputs": [],
   "source": [
    "import numpy as np\n",
    "import nibabel as nib\n",
    "import matplotlib.pyplot as plt\n",
    "from ipywidgets import interact, interactive, IntSlider, ToggleButtons\n",
    "from tensorflow.keras.models import load_model\n",
    "import albumentations as A\n",
    "\n",
    "# Custom objects required for loading the U-Net segmentation models\n",
    "import sys \n",
    "sys.path.append('..')\n",
    "from segmentation_losses import (\n",
    "    dice_coefficient,\n",
    "    dice_loss,\n",
    "    log_cosh_dice_loss,\n",
    "    iou\n",
    ")"
   ]
  },
  {
   "cell_type": "code",
   "execution_count": 2,
   "id": "valuable-suspect",
   "metadata": {},
   "outputs": [],
   "source": [
    "model = load_model(\n",
    "    \"../trained_models/task04_hippocampus_unet_3d_segmentation_model.h5\",\n",
    "    custom_objects={\n",
    "        \"log_cosh_dice_loss\": log_cosh_dice_loss,\n",
    "        \"dice_coefficient\": dice_coefficient,\n",
    "        \"iou\": iou\n",
    "    }\n",
    ")"
   ]
  },
  {
   "cell_type": "code",
   "execution_count": 3,
   "id": "quiet-richards",
   "metadata": {},
   "outputs": [],
   "source": [
    "def standardize(mri):\n",
    "    \"\"\"\n",
    "    Standardize mean and standard deviation of each channel and z_dimension slice to mean 0 and standard \n",
    "     deviation 1.\n",
    "\n",
    "    Note: setting the type of the input mri to np.float16 beforehand causes issues, set it afterwards.\n",
    "\n",
    "    Args:\n",
    "        mri (np.array): input mri, shape (dim_x, dim_y, dim_z, num_channels)\n",
    "    Returns:\n",
    "        standardized_mri (np.array): standardized version of input mri\n",
    "    \"\"\"\n",
    "\n",
    "    standardized_mri = np.zeros(mri.shape)\n",
    "\n",
    "    # Iterate over channels\n",
    "    for c in range(mri.shape[3]):\n",
    "        # Iterate over the `z` depth dimension\n",
    "        for z in range(mri.shape[2]):\n",
    "            # Get a slice of the mri at channel c and z-th dimension\n",
    "            mri_slice = mri[:, :, z, c]\n",
    "\n",
    "            # Subtract the mean from mri_slice\n",
    "            centered = mri_slice - np.mean(mri_slice)\n",
    "\n",
    "            # Divide by the standard deviation (only if it is different from zero)\n",
    "            if np.std(centered) != 0:\n",
    "                centered_scaled = centered / np.std(centered)\n",
    "\n",
    "                # Update the slice of standardized mri with the centered and scaled mri\n",
    "                standardized_mri[:, :, z, c] = centered_scaled\n",
    "\n",
    "    return standardized_mri"
   ]
  },
  {
   "cell_type": "markdown",
   "id": "returning-robertson",
   "metadata": {},
   "source": [
    "### 1. Visualizing predictions on validation set images"
   ]
  },
  {
   "cell_type": "markdown",
   "id": "7087994f-8541-4cb0-a9c2-2b404a3eeb34",
   "metadata": {},
   "source": [
    "### 1.1. Visualizing prediction on liver_118 file"
   ]
  },
  {
   "cell_type": "code",
   "execution_count": 4,
   "id": "interior-dallas",
   "metadata": {},
   "outputs": [],
   "source": [
    "mri = nib.load(\"../datasets/Task04_Hippocampus_32x32x48/val/images/hippocampus_322.nii.gz\").get_fdata().astype(np.float32)"
   ]
  },
  {
   "cell_type": "code",
   "execution_count": 5,
   "id": "diverse-dayton",
   "metadata": {},
   "outputs": [],
   "source": [
    "mask = nib.load(\"../datasets/Task04_Hippocampus_32x32x48/val/masks/hippocampus_322.nii.gz\").get_fdata().astype(np.uint8)"
   ]
  },
  {
   "cell_type": "code",
   "execution_count": 6,
   "id": "treated-demand",
   "metadata": {},
   "outputs": [
    {
     "data": {
      "text/plain": [
       "(32, 32, 48)"
      ]
     },
     "execution_count": 6,
     "metadata": {},
     "output_type": "execute_result"
    }
   ],
   "source": [
    "mask.shape"
   ]
  },
  {
   "cell_type": "code",
   "execution_count": 7,
   "id": "about-hollow",
   "metadata": {},
   "outputs": [],
   "source": [
    "mri_standardized = standardize(mri.reshape((mri.shape[0], mri.shape[1], mri.shape[2], 1)))"
   ]
  },
  {
   "cell_type": "code",
   "execution_count": 8,
   "id": "ceramic-static",
   "metadata": {},
   "outputs": [],
   "source": [
    "mri_standardized = np.expand_dims(mri_standardized, axis=0)  # Keras models require an additional dimension of 'batch_size'"
   ]
  },
  {
   "cell_type": "code",
   "execution_count": 9,
   "id": "conscious-renaissance",
   "metadata": {},
   "outputs": [],
   "source": [
    "prediction = model.predict(mri_standardized)"
   ]
  },
  {
   "cell_type": "code",
   "execution_count": 10,
   "id": "attempted-letters",
   "metadata": {},
   "outputs": [],
   "source": [
    "prediction = np.squeeze(prediction, axis=0)  # Remove 'batch_size' dimension"
   ]
  },
  {
   "cell_type": "code",
   "execution_count": 11,
   "id": "bearing-tribute",
   "metadata": {},
   "outputs": [
    {
     "data": {
      "text/plain": [
       "(32, 32, 48, 3)"
      ]
     },
     "execution_count": 11,
     "metadata": {},
     "output_type": "execute_result"
    }
   ],
   "source": [
    "prediction.shape"
   ]
  },
  {
   "cell_type": "code",
   "execution_count": 12,
   "id": "automatic-prescription",
   "metadata": {},
   "outputs": [
    {
     "data": {
      "text/plain": [
       "array([[[[0.9840373 , 0.00395577, 0.01200691],\n",
       "         [0.98445237, 0.00386259, 0.01168501],\n",
       "         [0.98476297, 0.00379272, 0.01144433],\n",
       "         ...,\n",
       "         [0.98476297, 0.00379272, 0.01144433],\n",
       "         [0.98427147, 0.00390325, 0.01182533],\n",
       "         [0.98476297, 0.00379272, 0.01144433]],\n",
       "\n",
       "        [[0.98476297, 0.00379272, 0.01144433],\n",
       "         [0.98476297, 0.00379272, 0.01144433],\n",
       "         [0.98476297, 0.00379272, 0.01144433],\n",
       "         ...,\n",
       "         [0.98476297, 0.00379272, 0.01144433],\n",
       "         [0.98476297, 0.00379272, 0.01144433],\n",
       "         [0.98476297, 0.00379272, 0.01144433]],\n",
       "\n",
       "        [[0.98476297, 0.00379272, 0.01144433],\n",
       "         [0.98476297, 0.00379272, 0.01144433],\n",
       "         [0.98476297, 0.00379272, 0.01144433],\n",
       "         ...,\n",
       "         [0.98476297, 0.00379272, 0.01144433],\n",
       "         [0.9833493 , 0.00419151, 0.0124592 ],\n",
       "         [0.98362494, 0.0040481 , 0.01232698]],\n",
       "\n",
       "        ...,\n",
       "\n",
       "        [[0.98476297, 0.00379272, 0.01144433],\n",
       "         [0.98476297, 0.00379272, 0.01144433],\n",
       "         [0.98476297, 0.00379272, 0.01144433],\n",
       "         ...,\n",
       "         [0.9829327 , 0.00420254, 0.01286467],\n",
       "         [0.98336905, 0.00432077, 0.01231018],\n",
       "         [0.98304754, 0.00417698, 0.01277547]],\n",
       "\n",
       "        [[0.98476297, 0.00379272, 0.01144433],\n",
       "         [0.98476297, 0.00379272, 0.01144433],\n",
       "         [0.98476297, 0.00379272, 0.01144433],\n",
       "         ...,\n",
       "         [0.98476297, 0.00379272, 0.01144433],\n",
       "         [0.98476297, 0.00379272, 0.01144433],\n",
       "         [0.98416185, 0.00392783, 0.0119103 ]],\n",
       "\n",
       "        [[0.98476297, 0.00379272, 0.01144433],\n",
       "         [0.98476297, 0.00379272, 0.01144433],\n",
       "         [0.98476297, 0.00379272, 0.01144433],\n",
       "         ...,\n",
       "         [0.98476297, 0.00379272, 0.01144433],\n",
       "         [0.98439157, 0.0040406 , 0.01156786],\n",
       "         [0.98403245, 0.00428431, 0.01168317]]],\n",
       "\n",
       "\n",
       "       [[[0.98476297, 0.00379272, 0.01144433],\n",
       "         [0.98476297, 0.00379272, 0.01144433],\n",
       "         [0.98476297, 0.00379272, 0.01144433],\n",
       "         ...,\n",
       "         [0.9842637 , 0.00390497, 0.01183129],\n",
       "         [0.98279613, 0.00423298, 0.01297101],\n",
       "         [0.9837368 , 0.00402305, 0.01224006]],\n",
       "\n",
       "        [[0.98476297, 0.00379272, 0.01144433],\n",
       "         [0.98476297, 0.00379272, 0.01144433],\n",
       "         [0.98476297, 0.00379272, 0.01144433],\n",
       "         ...,\n",
       "         [0.98476297, 0.00379272, 0.01144433],\n",
       "         [0.9844208 , 0.00386968, 0.01170945],\n",
       "         [0.98476297, 0.00379272, 0.01144433]],\n",
       "\n",
       "        [[0.98476297, 0.00379272, 0.01144433],\n",
       "         [0.98476297, 0.00379272, 0.01144433],\n",
       "         [0.98476297, 0.00379272, 0.01144433],\n",
       "         ...,\n",
       "         [0.98004925, 0.00483948, 0.01511128],\n",
       "         [0.9809924 , 0.00463226, 0.01437544],\n",
       "         [0.9836549 , 0.00404139, 0.01230369]],\n",
       "\n",
       "        ...,\n",
       "\n",
       "        [[0.98476297, 0.00379272, 0.01144433],\n",
       "         [0.98476297, 0.00379272, 0.01144433],\n",
       "         [0.98476297, 0.00379272, 0.01144433],\n",
       "         ...,\n",
       "         [0.9846383 , 0.00382079, 0.01154095],\n",
       "         [0.98476297, 0.00379272, 0.01144433],\n",
       "         [0.98246527, 0.00430651, 0.01322826]],\n",
       "\n",
       "        [[0.98476297, 0.00379272, 0.01144433],\n",
       "         [0.98476297, 0.00379272, 0.01144433],\n",
       "         [0.98476297, 0.00379272, 0.01144433],\n",
       "         ...,\n",
       "         [0.98469895, 0.00380713, 0.0114939 ],\n",
       "         [0.98476297, 0.00379272, 0.01144433],\n",
       "         [0.98476297, 0.00379272, 0.01144433]],\n",
       "\n",
       "        [[0.98476297, 0.00379272, 0.01144433],\n",
       "         [0.98476297, 0.00379272, 0.01144433],\n",
       "         [0.98476297, 0.00379272, 0.01144433],\n",
       "         ...,\n",
       "         [0.98476297, 0.00379272, 0.01144433],\n",
       "         [0.98476297, 0.00379272, 0.01144433],\n",
       "         [0.98476297, 0.00379272, 0.01144433]]],\n",
       "\n",
       "\n",
       "       [[[0.98476297, 0.00379272, 0.01144433],\n",
       "         [0.98476297, 0.00379272, 0.01144433],\n",
       "         [0.98476297, 0.00379272, 0.01144433],\n",
       "         ...,\n",
       "         [0.98345876, 0.00408522, 0.01245597],\n",
       "         [0.982008  , 0.0044079 , 0.01358402],\n",
       "         [0.9829692 , 0.00419443, 0.01283635]],\n",
       "\n",
       "        [[0.98476297, 0.00379272, 0.01144433],\n",
       "         [0.98476297, 0.00379272, 0.01144433],\n",
       "         [0.98398083, 0.00431967, 0.01169942],\n",
       "         ...,\n",
       "         [0.97994393, 0.00486257, 0.01519355],\n",
       "         [0.9803546 , 0.00477249, 0.01487287],\n",
       "         [0.9833762 , 0.00410367, 0.01252013]],\n",
       "\n",
       "        [[0.98476297, 0.00379272, 0.01144433],\n",
       "         [0.98476297, 0.00379272, 0.01144433],\n",
       "         [0.98476297, 0.00379272, 0.01144433],\n",
       "         ...,\n",
       "         [0.9827753 , 0.00423759, 0.01298711],\n",
       "         [0.97173786, 0.00662732, 0.02163473],\n",
       "         [0.98190856, 0.00442992, 0.01366145]],\n",
       "\n",
       "        ...,\n",
       "\n",
       "        [[0.98476297, 0.00379272, 0.01144433],\n",
       "         [0.98476297, 0.00379272, 0.01144433],\n",
       "         [0.98476297, 0.00379272, 0.01144433],\n",
       "         ...,\n",
       "         [0.98128766, 0.00456716, 0.01414519],\n",
       "         [0.97761095, 0.00537074, 0.01701826],\n",
       "         [0.983374  , 0.00410418, 0.0125219 ]],\n",
       "\n",
       "        [[0.98476297, 0.00379272, 0.01144433],\n",
       "         [0.98476297, 0.00379272, 0.01144433],\n",
       "         [0.98476297, 0.00379272, 0.01144433],\n",
       "         ...,\n",
       "         [0.9835616 , 0.00406226, 0.01237616],\n",
       "         [0.98476297, 0.00379272, 0.01144433],\n",
       "         [0.9846779 , 0.00381186, 0.01151021]],\n",
       "\n",
       "        [[0.98476297, 0.00379272, 0.01144433],\n",
       "         [0.98476297, 0.00379272, 0.01144433],\n",
       "         [0.98476297, 0.00379272, 0.01144433],\n",
       "         ...,\n",
       "         [0.98476297, 0.00379272, 0.01144433],\n",
       "         [0.98476297, 0.00379272, 0.01144433],\n",
       "         [0.98476297, 0.00379272, 0.01144433]]],\n",
       "\n",
       "\n",
       "       ...,\n",
       "\n",
       "\n",
       "       [[[0.98476297, 0.00379272, 0.01144433],\n",
       "         [0.98385704, 0.00440486, 0.01173814],\n",
       "         [0.984035  , 0.00395631, 0.0120088 ],\n",
       "         ...,\n",
       "         [0.96329015, 0.0083885 , 0.02832138],\n",
       "         [0.973043  , 0.00635062, 0.02060628],\n",
       "         [0.97799325, 0.00528785, 0.01671884]],\n",
       "\n",
       "        [[0.9818017 , 0.00587605, 0.01232221],\n",
       "         [0.98024267, 0.007053  , 0.01270441],\n",
       "         [0.98476297, 0.00379272, 0.01144433],\n",
       "         ...,\n",
       "         [0.9674988 , 0.00751714, 0.02498403],\n",
       "         [0.9701764 , 0.00695664, 0.02286704],\n",
       "         [0.9791855 , 0.00502839, 0.01578606]],\n",
       "\n",
       "        [[0.98308575, 0.00494465, 0.01196957],\n",
       "         [0.982304  , 0.00550723, 0.01218875],\n",
       "         [0.98476297, 0.00379272, 0.01144433],\n",
       "         ...,\n",
       "         [0.94360757, 0.01233813, 0.04405432],\n",
       "         [0.96647316, 0.00773056, 0.02579637],\n",
       "         [0.97573686, 0.00577506, 0.01848812]],\n",
       "\n",
       "        ...,\n",
       "\n",
       "        [[0.98476297, 0.00379272, 0.01144433],\n",
       "         [0.98476297, 0.00379272, 0.01144433],\n",
       "         [0.98476297, 0.00379272, 0.01144433],\n",
       "         ...,\n",
       "         [0.9606363 , 0.00893239, 0.03043124],\n",
       "         [0.97493434, 0.00594718, 0.01911845],\n",
       "         [0.97532237, 0.00586404, 0.01881364]],\n",
       "\n",
       "        [[0.9844009 , 0.00403423, 0.01156476],\n",
       "         [0.98476297, 0.00379272, 0.01144433],\n",
       "         [0.98476297, 0.00379272, 0.01144433],\n",
       "         ...,\n",
       "         [0.97394127, 0.00615942, 0.01989936],\n",
       "         [0.9836947 , 0.00403248, 0.01227275],\n",
       "         [0.9838201 , 0.00400444, 0.01217551]],\n",
       "\n",
       "        [[0.98476297, 0.00379272, 0.01144433],\n",
       "         [0.98476297, 0.00379272, 0.01144433],\n",
       "         [0.98476297, 0.00379272, 0.01144433],\n",
       "         ...,\n",
       "         [0.98476297, 0.00379272, 0.01144433],\n",
       "         [0.98476297, 0.00379272, 0.01144433],\n",
       "         [0.98476297, 0.00379272, 0.01144433]]],\n",
       "\n",
       "\n",
       "       [[[0.98476297, 0.00379272, 0.01144433],\n",
       "         [0.98476297, 0.00379272, 0.01144433],\n",
       "         [0.98476297, 0.00379272, 0.01144433],\n",
       "         ...,\n",
       "         [0.97612053, 0.00569255, 0.01818692],\n",
       "         [0.978693  , 0.00513573, 0.01617114],\n",
       "         [0.98212975, 0.00438093, 0.01348927]],\n",
       "\n",
       "        [[0.98372114, 0.00449874, 0.01178007],\n",
       "         [0.98411685, 0.00422672, 0.01165643],\n",
       "         [0.98476297, 0.00379272, 0.01144433],\n",
       "         ...,\n",
       "         [0.9773112 , 0.00543565, 0.01725318],\n",
       "         [0.9846943 , 0.00380815, 0.01149744],\n",
       "         [0.98476297, 0.00379272, 0.01144433]],\n",
       "\n",
       "        [[0.98382413, 0.00442753, 0.01174834],\n",
       "         [0.984567  , 0.00392292, 0.01151004],\n",
       "         [0.98476297, 0.00379272, 0.01144433],\n",
       "         ...,\n",
       "         [0.9776145 , 0.00536999, 0.01701554],\n",
       "         [0.97944605, 0.00497149, 0.01558242],\n",
       "         [0.98305225, 0.00417593, 0.01277184]],\n",
       "\n",
       "        ...,\n",
       "\n",
       "        [[0.98476297, 0.00379272, 0.01144433],\n",
       "         [0.98476297, 0.00379272, 0.01144433],\n",
       "         [0.98476297, 0.00379272, 0.01144433],\n",
       "         ...,\n",
       "         [0.9766151 , 0.00558599, 0.01779884],\n",
       "         [0.9810007 , 0.00463039, 0.01436879],\n",
       "         [0.98476297, 0.00379272, 0.01144433]],\n",
       "\n",
       "        [[0.98476297, 0.00379272, 0.01144433],\n",
       "         [0.9835518 , 0.00461652, 0.01183164],\n",
       "         [0.98476297, 0.00379272, 0.01144433],\n",
       "         ...,\n",
       "         [0.98476297, 0.00379272, 0.01144433],\n",
       "         [0.98476297, 0.00379272, 0.01144433],\n",
       "         [0.98476297, 0.00379272, 0.01144433]],\n",
       "\n",
       "        [[0.98476297, 0.00379272, 0.01144433],\n",
       "         [0.98476297, 0.00379272, 0.01144433],\n",
       "         [0.98476297, 0.00379272, 0.01144433],\n",
       "         ...,\n",
       "         [0.98476297, 0.00379272, 0.01144433],\n",
       "         [0.98476297, 0.00379272, 0.01144433],\n",
       "         [0.98476297, 0.00379272, 0.01144433]]],\n",
       "\n",
       "\n",
       "       [[[0.98476297, 0.00379272, 0.01144433],\n",
       "         [0.9842976 , 0.00389738, 0.01180505],\n",
       "         [0.9835384 , 0.00406745, 0.01239418],\n",
       "         ...,\n",
       "         [0.9709897 , 0.00678537, 0.02222505],\n",
       "         [0.98018104, 0.00481057, 0.01500832],\n",
       "         [0.98097193, 0.00463675, 0.01439131]],\n",
       "\n",
       "        [[0.98476297, 0.00379272, 0.01144433],\n",
       "         [0.98476297, 0.00379272, 0.01144433],\n",
       "         [0.9833582 , 0.0041077 , 0.01253415],\n",
       "         ...,\n",
       "         [0.97406864, 0.00613225, 0.01979917],\n",
       "         [0.97997814, 0.00485506, 0.01516679],\n",
       "         [0.9824853 , 0.00430204, 0.01321262]],\n",
       "\n",
       "        [[0.98476297, 0.00379272, 0.01144433],\n",
       "         [0.98476297, 0.00379272, 0.01144433],\n",
       "         [0.98476297, 0.00379272, 0.01144433],\n",
       "         ...,\n",
       "         [0.9672355 , 0.00757201, 0.02519256],\n",
       "         [0.97784424, 0.00532021, 0.01683564],\n",
       "         [0.97999495, 0.00485138, 0.01515368]],\n",
       "\n",
       "        ...,\n",
       "\n",
       "        [[0.98476297, 0.00379272, 0.01144433],\n",
       "         [0.98476297, 0.00379272, 0.01144433],\n",
       "         [0.98476297, 0.00379272, 0.01144433],\n",
       "         ...,\n",
       "         [0.9720448 , 0.00656238, 0.0213928 ],\n",
       "         [0.9798196 , 0.0048898 , 0.01529065],\n",
       "         [0.9808359 , 0.0046667 , 0.01449742]],\n",
       "\n",
       "        [[0.9845303 , 0.00394748, 0.01152223],\n",
       "         [0.98476297, 0.00379272, 0.01144433],\n",
       "         [0.98476297, 0.00379272, 0.01144433],\n",
       "         ...,\n",
       "         [0.9798869 , 0.00487504, 0.01523803],\n",
       "         [0.9838284 , 0.00400255, 0.01216896],\n",
       "         [0.98465294, 0.00381749, 0.01152957]],\n",
       "\n",
       "        [[0.98476297, 0.00379272, 0.01144433],\n",
       "         [0.98476297, 0.00379272, 0.01144433],\n",
       "         [0.98476297, 0.00379272, 0.01144433],\n",
       "         ...,\n",
       "         [0.98476297, 0.00379272, 0.01144433],\n",
       "         [0.98476297, 0.00379272, 0.01144433],\n",
       "         [0.98476297, 0.00379272, 0.01144433]]]], dtype=float32)"
      ]
     },
     "execution_count": 12,
     "metadata": {},
     "output_type": "execute_result"
    }
   ],
   "source": [
    "prediction"
   ]
  },
  {
   "cell_type": "code",
   "execution_count": 13,
   "id": "concrete-moses",
   "metadata": {},
   "outputs": [
    {
     "data": {
      "text/plain": [
       "numpy.ndarray"
      ]
     },
     "execution_count": 13,
     "metadata": {},
     "output_type": "execute_result"
    }
   ],
   "source": [
    "type(prediction)"
   ]
  },
  {
   "cell_type": "code",
   "execution_count": 14,
   "id": "secure-style",
   "metadata": {},
   "outputs": [],
   "source": [
    "prediction = np.argmax(prediction, axis=3)  # Apply Softmax"
   ]
  },
  {
   "cell_type": "code",
   "execution_count": 15,
   "id": "atlantic-friday",
   "metadata": {},
   "outputs": [
    {
     "data": {
      "text/plain": [
       "(32, 32, 48)"
      ]
     },
     "execution_count": 15,
     "metadata": {},
     "output_type": "execute_result"
    }
   ],
   "source": [
    "prediction.shape"
   ]
  },
  {
   "cell_type": "code",
   "execution_count": 16,
   "id": "catholic-surname",
   "metadata": {},
   "outputs": [],
   "source": [
    "prediction = prediction.reshape((prediction.shape[0], prediction.shape[1], prediction.shape[2]))"
   ]
  },
  {
   "cell_type": "code",
   "execution_count": 17,
   "id": "laden-meeting",
   "metadata": {},
   "outputs": [
    {
     "data": {
      "text/plain": [
       "(32, 32, 48)"
      ]
     },
     "execution_count": 17,
     "metadata": {},
     "output_type": "execute_result"
    }
   ],
   "source": [
    "prediction.shape"
   ]
  },
  {
   "cell_type": "code",
   "execution_count": 18,
   "id": "stainless-dietary",
   "metadata": {},
   "outputs": [
    {
     "data": {
      "text/plain": [
       "array([0, 1, 2])"
      ]
     },
     "execution_count": 18,
     "metadata": {},
     "output_type": "execute_result"
    }
   ],
   "source": [
    "np.unique(prediction)"
   ]
  },
  {
   "cell_type": "markdown",
   "id": "7b11d199-3c0d-4a7f-b0fd-0a7b9ce062f8",
   "metadata": {},
   "source": [
    "#### Model prediction vs groundtruth number of labels"
   ]
  },
  {
   "cell_type": "code",
   "execution_count": 19,
   "id": "hungry-schema",
   "metadata": {},
   "outputs": [
    {
     "name": "stdout",
     "output_type": "stream",
     "text": [
      "Background - class 0\n",
      "47434\n",
      "--------\n",
      "Anterior - class 1\n",
      "852\n",
      "--------\n",
      "Posterior - class 2\n",
      "866\n"
     ]
    }
   ],
   "source": [
    "# Number of labels per class in model prediction\n",
    "print(\"Background - class 0\")\n",
    "print(len(prediction[prediction == 0])) \n",
    "print(\"--------\")\n",
    "print(\"Anterior - class 1\")\n",
    "print(len(prediction[prediction == 1]))\n",
    "print(\"--------\")\n",
    "print(\"Posterior - class 2\")\n",
    "print(len(prediction[prediction == 2]))"
   ]
  },
  {
   "cell_type": "code",
   "execution_count": 20,
   "id": "beautiful-puzzle",
   "metadata": {},
   "outputs": [
    {
     "name": "stdout",
     "output_type": "stream",
     "text": [
      "Background - class 0\n",
      "47115\n",
      "--------\n",
      "Anterior - class 1\n",
      "1299\n",
      "--------\n",
      "Posterior - class 2\n",
      "738\n"
     ]
    }
   ],
   "source": [
    "# Number of labels per class in ground truth mask\n",
    "print(\"Background - class 0\")\n",
    "print(len(mask[mask == 0])) \n",
    "print(\"--------\")\n",
    "print(\"Anterior - class 1\")\n",
    "print(len(mask[mask == 1]))\n",
    "print(\"--------\")\n",
    "print(\"Posterior - class 2\")\n",
    "print(len(mask[mask == 2]))"
   ]
  },
  {
   "cell_type": "code",
   "execution_count": 21,
   "id": "academic-samoa",
   "metadata": {
    "scrolled": false
   },
   "outputs": [
    {
     "data": {
      "application/vnd.jupyter.widget-view+json": {
       "model_id": "a65017bf9d8f494f9511cc08bd5d40b9",
       "version_major": 2,
       "version_minor": 0
      },
      "text/plain": [
       "interactive(children=(ToggleButtons(button_style='info', description='Select Class:', options=('Background', '…"
      ]
     },
     "metadata": {},
     "output_type": "display_data"
    }
   ],
   "source": [
    "classes_dict = {\n",
    "    'Background': 0,\n",
    "    'Anterior': 1,\n",
    "    'Posterior': 2\n",
    "}\n",
    "\n",
    "# Create button values\n",
    "select_class = ToggleButtons(\n",
    "    options=['Background', 'Anterior', 'Posterior', 'All'],\n",
    "    description='Select Class:',\n",
    "    disabled=False,\n",
    "    button_style='info', \n",
    "    \n",
    ")\n",
    "# Create layer slider\n",
    "select_layer = IntSlider(min=0, max=mri.shape[2] - 1, description='Select Layer', continuous_update=False)\n",
    "\n",
    "    \n",
    "# Define a function for plotting images\n",
    "def plot(seg_class, layer):\n",
    "    print(f\"Plotting Layer: {layer} | Label: {seg_class}\")\n",
    "    fig = plt.figure(figsize=(20, 10))\n",
    "    \n",
    "    fig.add_subplot(1, 3, 1)\n",
    "    plt.title(\"hippocampus_322\", fontsize=20)\n",
    "    plt.imshow(mri[:, :, layer], cmap='gray');\n",
    "    plt.axis('off')\n",
    "    \n",
    "    fig.add_subplot(1, 3, 2)\n",
    "    if seg_class == \"All\":\n",
    "        mask_groundtruth = mask[:, :, layer]\n",
    "        plt.title(\"Groundtruth mask\", fontsize=20)\n",
    "        plt.imshow(mask_groundtruth)\n",
    "        plt.axis('off');\n",
    "    else:\n",
    "        img_label = classes_dict[seg_class]\n",
    "        mask_groundtruth = np.where(mask[:, :, layer] == img_label, 255, 0)\n",
    "        plt.title(\"Groundtruth mask\", fontsize=20)\n",
    "        plt.imshow(mask_groundtruth, cmap='gray')\n",
    "        plt.axis('off');\n",
    "    \n",
    "    fig.add_subplot(1, 3, 3)\n",
    "    if seg_class == \"All\":\n",
    "        mask_model_prediction = prediction[:, :, layer]\n",
    "        plt.title(\"Model prediction mask\", fontsize=20)\n",
    "        plt.imshow(mask_model_prediction)\n",
    "        plt.axis('off');\n",
    "    else:\n",
    "        img_label = classes_dict[seg_class]\n",
    "        mask_model_prediction = np.where(prediction[:, :, layer] == img_label, 255, 0)\n",
    "        plt.title(\"Model prediction mask\", fontsize=20)\n",
    "        plt.imshow(mask_model_prediction, cmap='gray')\n",
    "        plt.axis('off');\n",
    "\n",
    "    \n",
    "# Use the interactive() tool to create the visualization\n",
    "interactive(plot, seg_class=select_class, layer=select_layer)"
   ]
  },
  {
   "cell_type": "code",
   "execution_count": null,
   "id": "tender-canvas",
   "metadata": {},
   "outputs": [],
   "source": []
  }
 ],
 "metadata": {
  "kernelspec": {
   "display_name": "Python 3",
   "language": "python",
   "name": "python3"
  },
  "language_info": {
   "codemirror_mode": {
    "name": "ipython",
    "version": 3
   },
   "file_extension": ".py",
   "mimetype": "text/x-python",
   "name": "python",
   "nbconvert_exporter": "python",
   "pygments_lexer": "ipython3",
   "version": "3.7.10"
  }
 },
 "nbformat": 4,
 "nbformat_minor": 5
}
