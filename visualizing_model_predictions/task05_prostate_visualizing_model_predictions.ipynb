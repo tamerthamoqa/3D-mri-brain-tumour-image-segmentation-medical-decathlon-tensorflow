{
 "cells": [
  {
   "cell_type": "code",
   "execution_count": 1,
   "id": "premier-enzyme",
   "metadata": {},
   "outputs": [],
   "source": [
    "import numpy as np\n",
    "import nibabel as nib\n",
    "import matplotlib.pyplot as plt\n",
    "from ipywidgets import interact, interactive, IntSlider, ToggleButtons\n",
    "from tensorflow.keras.models import load_model\n",
    "\n",
    "# Custom objects required for loading the U-Net segmentation models\n",
    "import sys \n",
    "sys.path.append('..')\n",
    "from segmentation_losses import (\n",
    "    dice_coefficient,\n",
    "    dice_loss,\n",
    "    log_cosh_dice_loss,\n",
    "    iou\n",
    ")"
   ]
  },
  {
   "cell_type": "code",
   "execution_count": 2,
   "id": "valuable-suspect",
   "metadata": {},
   "outputs": [],
   "source": [
    "model = load_model(\n",
    "    \"../trained_models/task05_prostate_unet_3d_segmentation_model.h5\",\n",
    "    custom_objects={\n",
    "        \"log_cosh_dice_loss\": log_cosh_dice_loss,\n",
    "        \"dice_coefficient\": dice_coefficient,\n",
    "        \"iou\": iou\n",
    "    }\n",
    ")"
   ]
  },
  {
   "cell_type": "code",
   "execution_count": 3,
   "id": "quiet-richards",
   "metadata": {},
   "outputs": [],
   "source": [
    "def standardize(mri):\n",
    "    \"\"\"\n",
    "    Standardize mean and standard deviation of each channel and z_dimension slice to mean 0 and standard \n",
    "     deviation 1.\n",
    "\n",
    "    Note: setting the type of the input mri to np.float16 beforehand causes issues, set it afterwards.\n",
    "\n",
    "    Args:\n",
    "        mri (np.array): input mri, shape (dim_x, dim_y, dim_z, num_channels)\n",
    "    Returns:\n",
    "        standardized_mri (np.array): standardized version of input mri\n",
    "    \"\"\"\n",
    "\n",
    "    standardized_mri = np.zeros(mri.shape)\n",
    "\n",
    "    # Iterate over channels\n",
    "    for c in range(mri.shape[3]):\n",
    "        # Iterate over the `z` depth dimension\n",
    "        for z in range(mri.shape[2]):\n",
    "            # Get a slice of the mri at channel c and z-th dimension\n",
    "            mri_slice = mri[:, :, z, c]\n",
    "\n",
    "            # Subtract the mean from mri_slice\n",
    "            centered = mri_slice - np.mean(mri_slice)\n",
    "\n",
    "            # Divide by the standard deviation (only if it is different from zero)\n",
    "            if np.std(centered) != 0:\n",
    "                centered_scaled = centered / np.std(centered)\n",
    "\n",
    "                # Update the slice of standardized mri with the centered and scaled mri\n",
    "                standardized_mri[:, :, z, c] = centered_scaled\n",
    "\n",
    "    return standardized_mri"
   ]
  },
  {
   "cell_type": "markdown",
   "id": "returning-robertson",
   "metadata": {},
   "source": [
    "### 1. Visualizing predictions on validation set images"
   ]
  },
  {
   "cell_type": "markdown",
   "id": "7087994f-8541-4cb0-a9c2-2b404a3eeb34",
   "metadata": {},
   "source": [
    "### 1.1. Visualizing prediction on prostate_37"
   ]
  },
  {
   "cell_type": "code",
   "execution_count": 4,
   "id": "interior-dallas",
   "metadata": {},
   "outputs": [],
   "source": [
    "mri = nib.load(\"../datasets/Task05_Prostate_320x320x32/val/images/prostate_37.nii.gz\").get_fdata().astype(np.float32)"
   ]
  },
  {
   "cell_type": "code",
   "execution_count": 5,
   "id": "diverse-dayton",
   "metadata": {},
   "outputs": [],
   "source": [
    "mask = nib.load(\"../datasets/Task05_Prostate_320x320x32/val/masks/prostate_37.nii.gz\").get_fdata().astype(np.uint8)"
   ]
  },
  {
   "cell_type": "code",
   "execution_count": 6,
   "id": "treated-demand",
   "metadata": {},
   "outputs": [
    {
     "data": {
      "text/plain": [
       "(320, 320, 32)"
      ]
     },
     "execution_count": 6,
     "metadata": {},
     "output_type": "execute_result"
    }
   ],
   "source": [
    "mask.shape"
   ]
  },
  {
   "cell_type": "code",
   "execution_count": 7,
   "id": "about-hollow",
   "metadata": {},
   "outputs": [],
   "source": [
    "mri_standardized = standardize(mri)"
   ]
  },
  {
   "cell_type": "code",
   "execution_count": 8,
   "id": "ceramic-static",
   "metadata": {},
   "outputs": [],
   "source": [
    "mri_standardized = np.expand_dims(mri_standardized, axis=0)  # Keras models require an additional dimension of 'batch_size'"
   ]
  },
  {
   "cell_type": "code",
   "execution_count": 9,
   "id": "conscious-renaissance",
   "metadata": {},
   "outputs": [],
   "source": [
    "prediction = model.predict(mri_standardized)"
   ]
  },
  {
   "cell_type": "code",
   "execution_count": 10,
   "id": "attempted-letters",
   "metadata": {},
   "outputs": [],
   "source": [
    "prediction = np.squeeze(prediction, axis=0)  # Remove 'batch_size' dimension"
   ]
  },
  {
   "cell_type": "code",
   "execution_count": 11,
   "id": "bearing-tribute",
   "metadata": {},
   "outputs": [
    {
     "data": {
      "text/plain": [
       "(320, 320, 32, 3)"
      ]
     },
     "execution_count": 11,
     "metadata": {},
     "output_type": "execute_result"
    }
   ],
   "source": [
    "prediction.shape"
   ]
  },
  {
   "cell_type": "code",
   "execution_count": 12,
   "id": "automatic-prescription",
   "metadata": {},
   "outputs": [
    {
     "data": {
      "text/plain": [
       "array([[[[0.9805638 , 0.01175441, 0.00768164],\n",
       "         [0.9805638 , 0.01175441, 0.00768164],\n",
       "         [0.9805638 , 0.01175441, 0.00768164],\n",
       "         ...,\n",
       "         [0.9805638 , 0.01175441, 0.00768164],\n",
       "         [0.9805638 , 0.01175441, 0.00768164],\n",
       "         [0.9805638 , 0.01175441, 0.00768164]],\n",
       "\n",
       "        [[0.9805638 , 0.01175441, 0.00768164],\n",
       "         [0.9805638 , 0.01175441, 0.00768164],\n",
       "         [0.9805638 , 0.01175441, 0.00768164],\n",
       "         ...,\n",
       "         [0.9805638 , 0.01175441, 0.00768164],\n",
       "         [0.9805638 , 0.01175441, 0.00768164],\n",
       "         [0.9805638 , 0.01175441, 0.00768164]],\n",
       "\n",
       "        [[0.9805638 , 0.01175441, 0.00768164],\n",
       "         [0.9805638 , 0.01175441, 0.00768164],\n",
       "         [0.9805638 , 0.01175441, 0.00768164],\n",
       "         ...,\n",
       "         [0.9805638 , 0.01175441, 0.00768164],\n",
       "         [0.9805638 , 0.01175441, 0.00768164],\n",
       "         [0.9805638 , 0.01175441, 0.00768164]],\n",
       "\n",
       "        ...,\n",
       "\n",
       "        [[0.9805638 , 0.01175441, 0.00768164],\n",
       "         [0.9805638 , 0.01175441, 0.00768164],\n",
       "         [0.9805638 , 0.01175441, 0.00768164],\n",
       "         ...,\n",
       "         [0.9805638 , 0.01175441, 0.00768164],\n",
       "         [0.9805638 , 0.01175441, 0.00768164],\n",
       "         [0.9805638 , 0.01175441, 0.00768164]],\n",
       "\n",
       "        [[0.9805638 , 0.01175441, 0.00768164],\n",
       "         [0.9805638 , 0.01175441, 0.00768164],\n",
       "         [0.9805638 , 0.01175441, 0.00768164],\n",
       "         ...,\n",
       "         [0.9805638 , 0.01175441, 0.00768164],\n",
       "         [0.9805638 , 0.01175441, 0.00768164],\n",
       "         [0.9805638 , 0.01175441, 0.00768164]],\n",
       "\n",
       "        [[0.9805638 , 0.01175441, 0.00768164],\n",
       "         [0.9805638 , 0.01175441, 0.00768164],\n",
       "         [0.98034495, 0.01185019, 0.00780478],\n",
       "         ...,\n",
       "         [0.9805638 , 0.01175441, 0.00768164],\n",
       "         [0.9805638 , 0.01175441, 0.00768164],\n",
       "         [0.9805638 , 0.01175441, 0.00768164]]],\n",
       "\n",
       "\n",
       "       [[[0.9805638 , 0.01175441, 0.00768164],\n",
       "         [0.9805638 , 0.01175441, 0.00768164],\n",
       "         [0.9805638 , 0.01175441, 0.00768164],\n",
       "         ...,\n",
       "         [0.9805638 , 0.01175441, 0.00768164],\n",
       "         [0.9805638 , 0.01175441, 0.00768164],\n",
       "         [0.9805638 , 0.01175441, 0.00768164]],\n",
       "\n",
       "        [[0.9805638 , 0.01175441, 0.00768164],\n",
       "         [0.9805638 , 0.01175441, 0.00768164],\n",
       "         [0.9805638 , 0.01175441, 0.00768164],\n",
       "         ...,\n",
       "         [0.9805638 , 0.01175441, 0.00768164],\n",
       "         [0.9805638 , 0.01175441, 0.00768164],\n",
       "         [0.9805638 , 0.01175441, 0.00768164]],\n",
       "\n",
       "        [[0.9805638 , 0.01175441, 0.00768164],\n",
       "         [0.9805638 , 0.01175441, 0.00768164],\n",
       "         [0.9805638 , 0.01175441, 0.00768164],\n",
       "         ...,\n",
       "         [0.9805638 , 0.01175441, 0.00768164],\n",
       "         [0.9805638 , 0.01175441, 0.00768164],\n",
       "         [0.9805638 , 0.01175441, 0.00768164]],\n",
       "\n",
       "        ...,\n",
       "\n",
       "        [[0.9805638 , 0.01175441, 0.00768164],\n",
       "         [0.9805638 , 0.01175441, 0.00768164],\n",
       "         [0.9805638 , 0.01175441, 0.00768164],\n",
       "         ...,\n",
       "         [0.9805638 , 0.01175441, 0.00768164],\n",
       "         [0.9805638 , 0.01175441, 0.00768164],\n",
       "         [0.9805638 , 0.01175441, 0.00768164]],\n",
       "\n",
       "        [[0.9805638 , 0.01175441, 0.00768164],\n",
       "         [0.9805638 , 0.01175441, 0.00768164],\n",
       "         [0.9805638 , 0.01175441, 0.00768164],\n",
       "         ...,\n",
       "         [0.9805638 , 0.01175441, 0.00768164],\n",
       "         [0.9805638 , 0.01175441, 0.00768164],\n",
       "         [0.9805638 , 0.01175441, 0.00768164]],\n",
       "\n",
       "        [[0.9800551 , 0.0119764 , 0.00796853],\n",
       "         [0.98001033, 0.01199583, 0.0079939 ],\n",
       "         [0.9805638 , 0.01175441, 0.00768164],\n",
       "         ...,\n",
       "         [0.9805638 , 0.01175441, 0.00768164],\n",
       "         [0.9805638 , 0.01175441, 0.00768164],\n",
       "         [0.9805638 , 0.01175441, 0.00768164]]],\n",
       "\n",
       "\n",
       "       [[[0.9805638 , 0.01175441, 0.00768164],\n",
       "         [0.9805638 , 0.01175441, 0.00768164],\n",
       "         [0.9805638 , 0.01175441, 0.00768164],\n",
       "         ...,\n",
       "         [0.9805638 , 0.01175441, 0.00768164],\n",
       "         [0.9805638 , 0.01175441, 0.00768164],\n",
       "         [0.9805638 , 0.01175441, 0.00768164]],\n",
       "\n",
       "        [[0.9805638 , 0.01175441, 0.00768164],\n",
       "         [0.9805638 , 0.01175441, 0.00768164],\n",
       "         [0.9805638 , 0.01175441, 0.00768164],\n",
       "         ...,\n",
       "         [0.9805638 , 0.01175441, 0.00768164],\n",
       "         [0.9805638 , 0.01175441, 0.00768164],\n",
       "         [0.9805638 , 0.01175441, 0.00768164]],\n",
       "\n",
       "        [[0.9805638 , 0.01175441, 0.00768164],\n",
       "         [0.9805638 , 0.01175441, 0.00768164],\n",
       "         [0.9805638 , 0.01175441, 0.00768164],\n",
       "         ...,\n",
       "         [0.9805638 , 0.01175441, 0.00768164],\n",
       "         [0.9805638 , 0.01175441, 0.00768164],\n",
       "         [0.9805638 , 0.01175441, 0.00768164]],\n",
       "\n",
       "        ...,\n",
       "\n",
       "        [[0.9805638 , 0.01175441, 0.00768164],\n",
       "         [0.9805638 , 0.01175441, 0.00768164],\n",
       "         [0.9805638 , 0.01175441, 0.00768164],\n",
       "         ...,\n",
       "         [0.9805638 , 0.01175441, 0.00768164],\n",
       "         [0.9805638 , 0.01175441, 0.00768164],\n",
       "         [0.9805638 , 0.01175441, 0.00768164]],\n",
       "\n",
       "        [[0.9805638 , 0.01175441, 0.00768164],\n",
       "         [0.9805638 , 0.01175441, 0.00768164],\n",
       "         [0.9805638 , 0.01175441, 0.00768164],\n",
       "         ...,\n",
       "         [0.9805638 , 0.01175441, 0.00768164],\n",
       "         [0.9805638 , 0.01175441, 0.00768164],\n",
       "         [0.9805638 , 0.01175441, 0.00768164]],\n",
       "\n",
       "        [[0.9805638 , 0.01175441, 0.00768164],\n",
       "         [0.9805638 , 0.01175441, 0.00768164],\n",
       "         [0.9805638 , 0.01175441, 0.00768164],\n",
       "         ...,\n",
       "         [0.9805638 , 0.01175441, 0.00768164],\n",
       "         [0.9805638 , 0.01175441, 0.00768164],\n",
       "         [0.9805638 , 0.01175441, 0.00768164]]],\n",
       "\n",
       "\n",
       "       ...,\n",
       "\n",
       "\n",
       "       [[[0.9805638 , 0.01175441, 0.00768164],\n",
       "         [0.9805638 , 0.01175441, 0.00768164],\n",
       "         [0.9805638 , 0.01175441, 0.00768164],\n",
       "         ...,\n",
       "         [0.9805638 , 0.01175441, 0.00768164],\n",
       "         [0.9805638 , 0.01175441, 0.00768164],\n",
       "         [0.9805638 , 0.01175441, 0.00768164]],\n",
       "\n",
       "        [[0.9805638 , 0.01175441, 0.00768164],\n",
       "         [0.9805638 , 0.01175441, 0.00768164],\n",
       "         [0.9805638 , 0.01175441, 0.00768164],\n",
       "         ...,\n",
       "         [0.9805638 , 0.01175441, 0.00768164],\n",
       "         [0.9805638 , 0.01175441, 0.00768164],\n",
       "         [0.9805638 , 0.01175441, 0.00768164]],\n",
       "\n",
       "        [[0.9799805 , 0.01200872, 0.00801074],\n",
       "         [0.9805638 , 0.01175441, 0.00768164],\n",
       "         [0.9791302 , 0.01237411, 0.00849567],\n",
       "         ...,\n",
       "         [0.9805638 , 0.01175441, 0.00768164],\n",
       "         [0.9805638 , 0.01175441, 0.00768164],\n",
       "         [0.9805638 , 0.01175441, 0.00768164]],\n",
       "\n",
       "        ...,\n",
       "\n",
       "        [[0.9805638 , 0.01175441, 0.00768164],\n",
       "         [0.9805638 , 0.01175441, 0.00768164],\n",
       "         [0.9805638 , 0.01175441, 0.00768164],\n",
       "         ...,\n",
       "         [0.9805638 , 0.01175441, 0.00768164],\n",
       "         [0.9805638 , 0.01175441, 0.00768164],\n",
       "         [0.9805638 , 0.01175441, 0.00768164]],\n",
       "\n",
       "        [[0.9805638 , 0.01175441, 0.00768164],\n",
       "         [0.9805638 , 0.01175441, 0.00768164],\n",
       "         [0.9805638 , 0.01175441, 0.00768164],\n",
       "         ...,\n",
       "         [0.9805638 , 0.01175441, 0.00768164],\n",
       "         [0.9805638 , 0.01175441, 0.00768164],\n",
       "         [0.9805638 , 0.01175441, 0.00768164]],\n",
       "\n",
       "        [[0.9805638 , 0.01175441, 0.00768164],\n",
       "         [0.9805638 , 0.01175441, 0.00768164],\n",
       "         [0.9805638 , 0.01175441, 0.00768164],\n",
       "         ...,\n",
       "         [0.9805638 , 0.01175441, 0.00768164],\n",
       "         [0.9805638 , 0.01175441, 0.00768164],\n",
       "         [0.9805638 , 0.01175441, 0.00768164]]],\n",
       "\n",
       "\n",
       "       [[[0.9805638 , 0.01175441, 0.00768164],\n",
       "         [0.9805638 , 0.01175441, 0.00768164],\n",
       "         [0.9805638 , 0.01175441, 0.00768164],\n",
       "         ...,\n",
       "         [0.9805638 , 0.01175441, 0.00768164],\n",
       "         [0.9805638 , 0.01175441, 0.00768164],\n",
       "         [0.9805638 , 0.01175441, 0.00768164]],\n",
       "\n",
       "        [[0.9805638 , 0.01175441, 0.00768164],\n",
       "         [0.9773196 , 0.01313247, 0.00954784],\n",
       "         [0.97462577, 0.01421583, 0.01115832],\n",
       "         ...,\n",
       "         [0.9805638 , 0.01175441, 0.00768164],\n",
       "         [0.9805638 , 0.01175441, 0.00768164],\n",
       "         [0.9805638 , 0.01175441, 0.00768164]],\n",
       "\n",
       "        [[0.9805638 , 0.01175441, 0.00768164],\n",
       "         [0.9805638 , 0.01175441, 0.00768164],\n",
       "         [0.97985256, 0.01206412, 0.00808335],\n",
       "         ...,\n",
       "         [0.9805638 , 0.01175441, 0.00768164],\n",
       "         [0.9796878 , 0.01233614, 0.00797606],\n",
       "         [0.9805638 , 0.01175441, 0.00768164]],\n",
       "\n",
       "        ...,\n",
       "\n",
       "        [[0.9805638 , 0.01175441, 0.00768164],\n",
       "         [0.9805638 , 0.01175441, 0.00768164],\n",
       "         [0.9805638 , 0.01175441, 0.00768164],\n",
       "         ...,\n",
       "         [0.9805638 , 0.01175441, 0.00768164],\n",
       "         [0.9805638 , 0.01175441, 0.00768164],\n",
       "         [0.9805638 , 0.01175441, 0.00768164]],\n",
       "\n",
       "        [[0.9805638 , 0.01175441, 0.00768164],\n",
       "         [0.9805638 , 0.01175441, 0.00768164],\n",
       "         [0.9805638 , 0.01175441, 0.00768164],\n",
       "         ...,\n",
       "         [0.9805638 , 0.01175441, 0.00768164],\n",
       "         [0.9805638 , 0.01175441, 0.00768164],\n",
       "         [0.9805638 , 0.01175441, 0.00768164]],\n",
       "\n",
       "        [[0.9805638 , 0.01175441, 0.00768164],\n",
       "         [0.9805638 , 0.01175441, 0.00768164],\n",
       "         [0.9799448 , 0.01216526, 0.0078899 ],\n",
       "         ...,\n",
       "         [0.9805638 , 0.01175441, 0.00768164],\n",
       "         [0.9805638 , 0.01175441, 0.00768164],\n",
       "         [0.9805638 , 0.01175441, 0.00768164]]],\n",
       "\n",
       "\n",
       "       [[[0.980309  , 0.01186591, 0.00782509],\n",
       "         [0.9805638 , 0.01175441, 0.00768164],\n",
       "         [0.9789563 , 0.0124481 , 0.00859562],\n",
       "         ...,\n",
       "         [0.9805638 , 0.01175441, 0.00768164],\n",
       "         [0.9805638 , 0.01175441, 0.00768164],\n",
       "         [0.9805638 , 0.01175441, 0.00768164]],\n",
       "\n",
       "        [[0.97967464, 0.0121409 , 0.00818452],\n",
       "         [0.9794795 , 0.01222479, 0.00829577],\n",
       "         [0.9761361 , 0.01361478, 0.01024917],\n",
       "         ...,\n",
       "         [0.9805638 , 0.01175441, 0.00768164],\n",
       "         [0.9805638 , 0.01175441, 0.00768164],\n",
       "         [0.9805638 , 0.01175441, 0.00768164]],\n",
       "\n",
       "        [[0.9805638 , 0.01175441, 0.00768164],\n",
       "         [0.9805638 , 0.01175441, 0.00768164],\n",
       "         [0.9767    , 0.01338623, 0.00991371],\n",
       "         ...,\n",
       "         [0.9805638 , 0.01175441, 0.00768164],\n",
       "         [0.9805638 , 0.01175441, 0.00768164],\n",
       "         [0.9805638 , 0.01175441, 0.00768164]],\n",
       "\n",
       "        ...,\n",
       "\n",
       "        [[0.97726166, 0.01315636, 0.00958198],\n",
       "         [0.9805638 , 0.01175441, 0.00768164],\n",
       "         [0.9805638 , 0.01175441, 0.00768164],\n",
       "         ...,\n",
       "         [0.9805638 , 0.01175441, 0.00768164],\n",
       "         [0.9805638 , 0.01175441, 0.00768164],\n",
       "         [0.9805638 , 0.01175441, 0.00768164]],\n",
       "\n",
       "        [[0.9782864 , 0.01273082, 0.00898289],\n",
       "         [0.9805638 , 0.01175441, 0.00768164],\n",
       "         [0.9805638 , 0.01175441, 0.00768164],\n",
       "         ...,\n",
       "         [0.9805638 , 0.01175441, 0.00768164],\n",
       "         [0.9805638 , 0.01175441, 0.00768164],\n",
       "         [0.9805638 , 0.01175441, 0.00768164]],\n",
       "\n",
       "        [[0.9803124 , 0.01186442, 0.00782316],\n",
       "         [0.9798451 , 0.01206731, 0.00808754],\n",
       "         [0.9805638 , 0.01175441, 0.00768164],\n",
       "         ...,\n",
       "         [0.9805638 , 0.01175441, 0.00768164],\n",
       "         [0.9805638 , 0.01175441, 0.00768164],\n",
       "         [0.9805638 , 0.01175441, 0.00768164]]]], dtype=float32)"
      ]
     },
     "execution_count": 12,
     "metadata": {},
     "output_type": "execute_result"
    }
   ],
   "source": [
    "prediction"
   ]
  },
  {
   "cell_type": "code",
   "execution_count": 13,
   "id": "concrete-moses",
   "metadata": {},
   "outputs": [
    {
     "data": {
      "text/plain": [
       "numpy.ndarray"
      ]
     },
     "execution_count": 13,
     "metadata": {},
     "output_type": "execute_result"
    }
   ],
   "source": [
    "type(prediction)"
   ]
  },
  {
   "cell_type": "code",
   "execution_count": 14,
   "id": "secure-style",
   "metadata": {},
   "outputs": [],
   "source": [
    "prediction = np.argmax(prediction, axis=3)"
   ]
  },
  {
   "cell_type": "code",
   "execution_count": 15,
   "id": "atlantic-friday",
   "metadata": {},
   "outputs": [
    {
     "data": {
      "text/plain": [
       "(320, 320, 32)"
      ]
     },
     "execution_count": 15,
     "metadata": {},
     "output_type": "execute_result"
    }
   ],
   "source": [
    "prediction.shape"
   ]
  },
  {
   "cell_type": "code",
   "execution_count": 16,
   "id": "stainless-dietary",
   "metadata": {},
   "outputs": [
    {
     "data": {
      "text/plain": [
       "array([0, 1, 2])"
      ]
     },
     "execution_count": 16,
     "metadata": {},
     "output_type": "execute_result"
    }
   ],
   "source": [
    "np.unique(prediction)"
   ]
  },
  {
   "cell_type": "markdown",
   "id": "7b11d199-3c0d-4a7f-b0fd-0a7b9ce062f8",
   "metadata": {},
   "source": [
    "#### Model prediction vs groundtruth number of labels"
   ]
  },
  {
   "cell_type": "code",
   "execution_count": 17,
   "id": "hungry-schema",
   "metadata": {},
   "outputs": [
    {
     "name": "stdout",
     "output_type": "stream",
     "text": [
      "Background - class 0\n",
      "3232999\n",
      "--------\n",
      "PZ - class 1\n",
      "7856\n",
      "--------\n",
      "TZ - class 2\n",
      "35945\n"
     ]
    }
   ],
   "source": [
    "# Number of labels per class in model prediction\n",
    "print(\"Background - class 0\")\n",
    "print(len(prediction[prediction == 0])) \n",
    "print(\"--------\")\n",
    "print(\"PZ - class 1\")\n",
    "print(len(prediction[prediction == 1]))\n",
    "print(\"--------\")\n",
    "print(\"TZ - class 2\")\n",
    "print(len(prediction[prediction == 2]))"
   ]
  },
  {
   "cell_type": "code",
   "execution_count": 18,
   "id": "beautiful-puzzle",
   "metadata": {},
   "outputs": [
    {
     "name": "stdout",
     "output_type": "stream",
     "text": [
      "Background - class 0\n",
      "3228634\n",
      "--------\n",
      "PZ - class 1\n",
      "5897\n",
      "--------\n",
      "TZ - class 2\n",
      "42269\n"
     ]
    }
   ],
   "source": [
    "# Number of labels per class in ground truth mask\n",
    "print(\"Background - class 0\")\n",
    "print(len(mask[mask == 0]))\n",
    "print(\"--------\")\n",
    "print(\"PZ - class 1\")\n",
    "print(len(mask[mask == 1]))\n",
    "print(\"--------\")\n",
    "print(\"TZ - class 2\")\n",
    "print(len(mask[mask == 2]))"
   ]
  },
  {
   "cell_type": "code",
   "execution_count": 19,
   "id": "academic-samoa",
   "metadata": {},
   "outputs": [
    {
     "data": {
      "application/vnd.jupyter.widget-view+json": {
       "model_id": "179cf84d5e454d7690fe2a9e25b33865",
       "version_major": 2,
       "version_minor": 0
      },
      "text/plain": [
       "interactive(children=(ToggleButtons(button_style='info', description='Select Class:', options=('Background', '…"
      ]
     },
     "metadata": {},
     "output_type": "display_data"
    }
   ],
   "source": [
    "classes_dict = {\n",
    "    'Background': 0,\n",
    "    'PZ': 1,\n",
    "    'TZ': 2\n",
    "}\n",
    "\n",
    "# Create button values\n",
    "select_class = ToggleButtons(\n",
    "    options=['Background', 'PZ', 'TZ', 'All'],\n",
    "    description='Select Class:',\n",
    "    disabled=False,\n",
    "    button_style='info', \n",
    "    \n",
    ")\n",
    "# Create layer slider\n",
    "select_layer = IntSlider(min=0, max=mri.shape[2] - 1, description='Select Layer', continuous_update=False)\n",
    "\n",
    "    \n",
    "# Define a function for plotting images\n",
    "def plot(seg_class, layer, channel):\n",
    "    print(f\"Plotting Layer: {layer} | Label: {seg_class} | Channel: {channel}\")\n",
    "    fig = plt.figure(figsize=(20, 10))\n",
    "    \n",
    "    fig.add_subplot(1, 3, 1)\n",
    "    plt.title(\"prostate_37\", fontsize=20)\n",
    "    plt.imshow(mri[:, :, layer, channel], cmap='gray');\n",
    "    plt.axis('off')\n",
    "    \n",
    "    fig.add_subplot(1, 3, 2)\n",
    "    if seg_class == \"All\":\n",
    "        mask_groundtruth = mask[:, :, layer]\n",
    "        plt.title(\"Groundtruth mask\", fontsize=20)\n",
    "        plt.imshow(mask_groundtruth)\n",
    "        plt.axis('off');\n",
    "    else:\n",
    "        img_label = classes_dict[seg_class]\n",
    "        mask_groundtruth = np.where(mask[:, :, layer] == img_label, 255, 0)\n",
    "        plt.title(\"Groundtruth mask\", fontsize=20)\n",
    "        plt.imshow(mask_groundtruth, cmap='gray')\n",
    "        plt.axis('off');\n",
    "    \n",
    "    fig.add_subplot(1, 3, 3)\n",
    "    if seg_class == \"All\":\n",
    "        mask_model_prediction = prediction[:, :, layer]\n",
    "        plt.title(\"Model prediction mask\", fontsize=20)\n",
    "        plt.imshow(mask_model_prediction)\n",
    "        plt.axis('off');\n",
    "    else:\n",
    "        img_label = classes_dict[seg_class]\n",
    "        mask_model_prediction = np.where(prediction[:, :, layer] == img_label, 255, 0)\n",
    "        plt.title(\"Model prediction mask\", fontsize=20)\n",
    "        plt.imshow(mask_model_prediction, cmap='gray')\n",
    "        plt.axis('off');\n",
    "\n",
    "# Set channel to view:\n",
    "#  Channel 0: \"T2\"\n",
    "#  Channel 1: \"ADC\"   \n",
    "    \n",
    "# Use the interactive() tool to create the visualization\n",
    "interactive(plot, seg_class=select_class, layer=select_layer, channel=(0, 1))"
   ]
  },
  {
   "cell_type": "code",
   "execution_count": null,
   "id": "studied-array",
   "metadata": {},
   "outputs": [],
   "source": []
  }
 ],
 "metadata": {
  "kernelspec": {
   "display_name": "Python 3",
   "language": "python",
   "name": "python3"
  },
  "language_info": {
   "codemirror_mode": {
    "name": "ipython",
    "version": 3
   },
   "file_extension": ".py",
   "mimetype": "text/x-python",
   "name": "python",
   "nbconvert_exporter": "python",
   "pygments_lexer": "ipython3",
   "version": "3.7.10"
  }
 },
 "nbformat": 4,
 "nbformat_minor": 5
}
